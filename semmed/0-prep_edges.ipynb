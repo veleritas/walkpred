{
 "cells": [
  {
   "cell_type": "markdown",
   "metadata": {},
   "source": [
    "# Remove PMID information from semmeddb edges"
   ]
  },
  {
   "cell_type": "code",
   "execution_count": 1,
   "metadata": {},
   "outputs": [],
   "source": [
    "from tqdm import tqdm"
   ]
  },
  {
   "cell_type": "code",
   "execution_count": 2,
   "metadata": {},
   "outputs": [
    {
     "name": "stderr",
     "output_type": "stream",
     "text": [
      "100%|██████████| 10230595/10230595 [00:17<00:00, 569743.96it/s]\n"
     ]
    }
   ],
   "source": [
    "with open(\"data/edges_clean.tsv\", \"w\") as fout:\n",
    "    with open(\"data/edges_7_metanode_slim.csv\", \"r\") as fin:\n",
    "        for line in tqdm(fin, total=10230595):\n",
    "            vals = line.rstrip(\"\\n\").split(\",\")\n",
    "            fout.write(\"{}\\n\".format(\"\\t\".join(vals[:3])))"
   ]
  }
 ],
 "metadata": {
  "kernelspec": {
   "display_name": "Python 3",
   "language": "python",
   "name": "python3"
  },
  "language_info": {
   "codemirror_mode": {
    "name": "ipython",
    "version": 3
   },
   "file_extension": ".py",
   "mimetype": "text/x-python",
   "name": "python",
   "nbconvert_exporter": "python",
   "pygments_lexer": "ipython3",
   "version": "3.6.2"
  }
 },
 "nbformat": 4,
 "nbformat_minor": 2
}
