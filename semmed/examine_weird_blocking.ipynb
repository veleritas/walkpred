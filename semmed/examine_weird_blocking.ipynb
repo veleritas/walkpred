{
 "cells": [
  {
   "cell_type": "markdown",
   "metadata": {},
   "source": [
    "look at why we get weird blocking of the top results from our first semmeddb full prediction run"
   ]
  },
  {
   "cell_type": "code",
   "execution_count": 1,
   "metadata": {},
   "outputs": [],
   "source": [
    "import pandas as pd\n",
    "from scipy import spatial\n",
    "import numpy\n",
    "\n",
    "from tqdm import tqdm\n",
    "import seaborn as sns"
   ]
  },
  {
   "cell_type": "code",
   "execution_count": 2,
   "metadata": {},
   "outputs": [],
   "source": [
    "%matplotlib inline"
   ]
  },
  {
   "cell_type": "markdown",
   "metadata": {},
   "source": [
    "## read data"
   ]
  },
  {
   "cell_type": "code",
   "execution_count": 3,
   "metadata": {},
   "outputs": [],
   "source": [
    "res = pd.read_csv(\"all_pairs_results_test.tsv\", sep='\\t')"
   ]
  },
  {
   "cell_type": "code",
   "execution_count": 4,
   "metadata": {},
   "outputs": [
    {
     "data": {
      "text/plain": [
       "(500000, 7)"
      ]
     },
     "execution_count": 4,
     "metadata": {},
     "output_type": "execute_result"
    }
   ],
   "source": [
    "res.shape"
   ]
  },
  {
   "cell_type": "code",
   "execution_count": 5,
   "metadata": {},
   "outputs": [
    {
     "data": {
      "text/html": [
       "<div>\n",
       "<style scoped>\n",
       "    .dataframe tbody tr th:only-of-type {\n",
       "        vertical-align: middle;\n",
       "    }\n",
       "\n",
       "    .dataframe tbody tr th {\n",
       "        vertical-align: top;\n",
       "    }\n",
       "\n",
       "    .dataframe thead th {\n",
       "        text-align: right;\n",
       "    }\n",
       "</style>\n",
       "<table border=\"1\" class=\"dataframe\">\n",
       "  <thead>\n",
       "    <tr style=\"text-align: right;\">\n",
       "      <th></th>\n",
       "      <th>chem_uid</th>\n",
       "      <th>dise_uid</th>\n",
       "      <th>pscore</th>\n",
       "      <th>chem_id</th>\n",
       "      <th>chem_name</th>\n",
       "      <th>dise_id</th>\n",
       "      <th>dise_name</th>\n",
       "    </tr>\n",
       "  </thead>\n",
       "  <tbody>\n",
       "    <tr>\n",
       "      <th>0</th>\n",
       "      <td>105788</td>\n",
       "      <td>51643</td>\n",
       "      <td>0.999978</td>\n",
       "      <td>C0667286</td>\n",
       "      <td>metabotropic glutamate receptor 4</td>\n",
       "      <td>C0234213</td>\n",
       "      <td>Sensory denervation disorder</td>\n",
       "    </tr>\n",
       "    <tr>\n",
       "      <th>1</th>\n",
       "      <td>36688</td>\n",
       "      <td>51643</td>\n",
       "      <td>0.999886</td>\n",
       "      <td>C0107103</td>\n",
       "      <td>Brain-Derived Neurotrophic Factor</td>\n",
       "      <td>C0234213</td>\n",
       "      <td>Sensory denervation disorder</td>\n",
       "    </tr>\n",
       "    <tr>\n",
       "      <th>2</th>\n",
       "      <td>10474</td>\n",
       "      <td>4273</td>\n",
       "      <td>0.999834</td>\n",
       "      <td>C0031304</td>\n",
       "      <td>Phage Receptors</td>\n",
       "      <td>C0012624</td>\n",
       "      <td>Discitis</td>\n",
       "    </tr>\n",
       "    <tr>\n",
       "      <th>3</th>\n",
       "      <td>207</td>\n",
       "      <td>51643</td>\n",
       "      <td>0.999812</td>\n",
       "      <td>C0001041</td>\n",
       "      <td>Acetylcholine</td>\n",
       "      <td>C0234213</td>\n",
       "      <td>Sensory denervation disorder</td>\n",
       "    </tr>\n",
       "    <tr>\n",
       "      <th>4</th>\n",
       "      <td>55073</td>\n",
       "      <td>51643</td>\n",
       "      <td>0.999735</td>\n",
       "      <td>C0248336</td>\n",
       "      <td>R-cadherin</td>\n",
       "      <td>C0234213</td>\n",
       "      <td>Sensory denervation disorder</td>\n",
       "    </tr>\n",
       "  </tbody>\n",
       "</table>\n",
       "</div>"
      ],
      "text/plain": [
       "   chem_uid  dise_uid    pscore   chem_id                          chem_name  \\\n",
       "0    105788     51643  0.999978  C0667286  metabotropic glutamate receptor 4   \n",
       "1     36688     51643  0.999886  C0107103  Brain-Derived Neurotrophic Factor   \n",
       "2     10474      4273  0.999834  C0031304                    Phage Receptors   \n",
       "3       207     51643  0.999812  C0001041                      Acetylcholine   \n",
       "4     55073     51643  0.999735  C0248336                         R-cadherin   \n",
       "\n",
       "    dise_id                     dise_name  \n",
       "0  C0234213  Sensory denervation disorder  \n",
       "1  C0234213  Sensory denervation disorder  \n",
       "2  C0012624                      Discitis  \n",
       "3  C0234213  Sensory denervation disorder  \n",
       "4  C0234213  Sensory denervation disorder  "
      ]
     },
     "execution_count": 5,
     "metadata": {},
     "output_type": "execute_result"
    }
   ],
   "source": [
    "res.head()"
   ]
  },
  {
   "cell_type": "markdown",
   "metadata": {},
   "source": [
    "the blocking thing i was witnessing earlier was probably because i wasn't sorting the results by descending pscore\n",
    "\n",
    "seems to go away now, which is good?"
   ]
  },
  {
   "cell_type": "markdown",
   "metadata": {},
   "source": [
    "---"
   ]
  },
  {
   "cell_type": "code",
   "execution_count": 6,
   "metadata": {},
   "outputs": [],
   "source": [
    "def get_simple_features(fname):\n",
    "    \"\"\"Get a dictionary of embeddings for all nodes.\n",
    "    Faster than iterrowing the feature dataframe by 4x\n",
    "    \"\"\"\n",
    "\n",
    "    res = dict()\n",
    "    with open(fname, \"r\") as fin:\n",
    "        nodes = int(fin.readline().split(\" \")[0])\n",
    "\n",
    "        for line in tqdm(fin, total=210389):\n",
    "            vals = line.rstrip(\"\\n\").split(\" \")\n",
    "\n",
    "            uid = int(vals[0])\n",
    "            res[uid] = list(map(float, vals[1:]))\n",
    "            \n",
    "    return res"
   ]
  },
  {
   "cell_type": "code",
   "execution_count": 7,
   "metadata": {
    "scrolled": true
   },
   "outputs": [
    {
     "name": "stderr",
     "output_type": "stream",
     "text": [
      "100%|██████████| 210389/210389 [00:08<00:00, 24617.44it/s]\n"
     ]
    }
   ],
   "source": [
    "sfeats = get_simple_features(\"data/embeddings/sem50walk128vec10window.txt\")"
   ]
  },
  {
   "cell_type": "code",
   "execution_count": 8,
   "metadata": {},
   "outputs": [],
   "source": [
    "def convolv(chemuid, diseuid):\n",
    "    \"\"\"Get convolved features.\"\"\"\n",
    "    return [\n",
    "        sfeats[chemuid][i] * sfeats[diseuid][i]\n",
    "        for i in range(vecsize)\n",
    "    ]"
   ]
  },
  {
   "cell_type": "markdown",
   "metadata": {},
   "source": [
    "---"
   ]
  },
  {
   "cell_type": "code",
   "execution_count": 9,
   "metadata": {},
   "outputs": [],
   "source": [
    "def similarity(u, v):\n",
    "    return 1 - spatial.distance.cosine(u, v)"
   ]
  },
  {
   "cell_type": "code",
   "execution_count": 10,
   "metadata": {},
   "outputs": [
    {
     "data": {
      "text/html": [
       "<div>\n",
       "<style scoped>\n",
       "    .dataframe tbody tr th:only-of-type {\n",
       "        vertical-align: middle;\n",
       "    }\n",
       "\n",
       "    .dataframe tbody tr th {\n",
       "        vertical-align: top;\n",
       "    }\n",
       "\n",
       "    .dataframe thead th {\n",
       "        text-align: right;\n",
       "    }\n",
       "</style>\n",
       "<table border=\"1\" class=\"dataframe\">\n",
       "  <thead>\n",
       "    <tr style=\"text-align: right;\">\n",
       "      <th></th>\n",
       "      <th>chem_uid</th>\n",
       "      <th>dise_uid</th>\n",
       "      <th>pscore</th>\n",
       "      <th>chem_id</th>\n",
       "      <th>chem_name</th>\n",
       "      <th>dise_id</th>\n",
       "      <th>dise_name</th>\n",
       "    </tr>\n",
       "  </thead>\n",
       "  <tbody>\n",
       "    <tr>\n",
       "      <th>0</th>\n",
       "      <td>105788</td>\n",
       "      <td>51643</td>\n",
       "      <td>0.999978</td>\n",
       "      <td>C0667286</td>\n",
       "      <td>metabotropic glutamate receptor 4</td>\n",
       "      <td>C0234213</td>\n",
       "      <td>Sensory denervation disorder</td>\n",
       "    </tr>\n",
       "    <tr>\n",
       "      <th>1</th>\n",
       "      <td>36688</td>\n",
       "      <td>51643</td>\n",
       "      <td>0.999886</td>\n",
       "      <td>C0107103</td>\n",
       "      <td>Brain-Derived Neurotrophic Factor</td>\n",
       "      <td>C0234213</td>\n",
       "      <td>Sensory denervation disorder</td>\n",
       "    </tr>\n",
       "    <tr>\n",
       "      <th>2</th>\n",
       "      <td>10474</td>\n",
       "      <td>4273</td>\n",
       "      <td>0.999834</td>\n",
       "      <td>C0031304</td>\n",
       "      <td>Phage Receptors</td>\n",
       "      <td>C0012624</td>\n",
       "      <td>Discitis</td>\n",
       "    </tr>\n",
       "    <tr>\n",
       "      <th>3</th>\n",
       "      <td>207</td>\n",
       "      <td>51643</td>\n",
       "      <td>0.999812</td>\n",
       "      <td>C0001041</td>\n",
       "      <td>Acetylcholine</td>\n",
       "      <td>C0234213</td>\n",
       "      <td>Sensory denervation disorder</td>\n",
       "    </tr>\n",
       "    <tr>\n",
       "      <th>4</th>\n",
       "      <td>55073</td>\n",
       "      <td>51643</td>\n",
       "      <td>0.999735</td>\n",
       "      <td>C0248336</td>\n",
       "      <td>R-cadherin</td>\n",
       "      <td>C0234213</td>\n",
       "      <td>Sensory denervation disorder</td>\n",
       "    </tr>\n",
       "  </tbody>\n",
       "</table>\n",
       "</div>"
      ],
      "text/plain": [
       "   chem_uid  dise_uid    pscore   chem_id                          chem_name  \\\n",
       "0    105788     51643  0.999978  C0667286  metabotropic glutamate receptor 4   \n",
       "1     36688     51643  0.999886  C0107103  Brain-Derived Neurotrophic Factor   \n",
       "2     10474      4273  0.999834  C0031304                    Phage Receptors   \n",
       "3       207     51643  0.999812  C0001041                      Acetylcholine   \n",
       "4     55073     51643  0.999735  C0248336                         R-cadherin   \n",
       "\n",
       "    dise_id                     dise_name  \n",
       "0  C0234213  Sensory denervation disorder  \n",
       "1  C0234213  Sensory denervation disorder  \n",
       "2  C0012624                      Discitis  \n",
       "3  C0234213  Sensory denervation disorder  \n",
       "4  C0234213  Sensory denervation disorder  "
      ]
     },
     "execution_count": 10,
     "metadata": {},
     "output_type": "execute_result"
    }
   ],
   "source": [
    "res.head()"
   ]
  },
  {
   "cell_type": "code",
   "execution_count": 11,
   "metadata": {},
   "outputs": [
    {
     "name": "stderr",
     "output_type": "stream",
     "text": [
      "100%|██████████| 500000/500000 [00:28<00:00, 17448.06it/s]\n"
     ]
    }
   ],
   "source": [
    "tmp = list()\n",
    "vecsize = 128\n",
    "\n",
    "for cuid, duid in tqdm(zip(res[\"chem_uid\"], res[\"dise_uid\"]), total=len(res)):\n",
    "    simval = similarity(sfeats[cuid], sfeats[duid])\n",
    "    \n",
    "    tmp.append(simval)"
   ]
  },
  {
   "cell_type": "code",
   "execution_count": 12,
   "metadata": {},
   "outputs": [],
   "source": [
    "res = res.assign(pairsim = tmp)"
   ]
  },
  {
   "cell_type": "markdown",
   "metadata": {},
   "source": [
    "## does similarity of the chemical and disease affect probability of being ranked highly?"
   ]
  },
  {
   "cell_type": "code",
   "execution_count": 13,
   "metadata": {},
   "outputs": [
    {
     "data": {
      "text/plain": [
       "<seaborn.axisgrid.JointGrid at 0x7fb340450748>"
      ]
     },
     "execution_count": 13,
     "metadata": {},
     "output_type": "execute_result"
    },
    {
     "data": {
      "image/png": "[encoded data removed]",
      "text/plain": [
       "<matplotlib.figure.Figure at 0x7fb340450ef0>"
      ]
     },
     "metadata": {},
     "output_type": "display_data"
    }
   ],
   "source": [
    "sns.jointplot(data=res, x=\"pairsim\", y=\"pscore\")"
   ]
  },
  {
   "cell_type": "code",
   "execution_count": 14,
   "metadata": {},
   "outputs": [
    {
     "data": {
      "text/plain": [
       "<seaborn.axisgrid.JointGrid at 0x7fb2dbfc7128>"
      ]
     },
     "execution_count": 14,
     "metadata": {},
     "output_type": "execute_result"
    },
    {
     "data": {
      "image/png": "[encoded data removed]",
      "text/plain": [
       "<matplotlib.figure.Figure at 0x7fb2dbfc71d0>"
      ]
     },
     "metadata": {},
     "output_type": "display_data"
    }
   ],
   "source": [
    "sns.jointplot(data=res, x=\"pairsim\", y=\"pscore\", kind=\"hex\")"
   ]
  },
  {
   "cell_type": "markdown",
   "metadata": {},
   "source": [
    "## similarity to the top result and probability of being ranked highly?"
   ]
  },
  {
   "cell_type": "code",
   "execution_count": 15,
   "metadata": {},
   "outputs": [],
   "source": [
    "best = res.query(\"pscore > 0.7\")\n",
    "\n",
    "vecsize = 128\n",
    "\n",
    "tmp = list()\n",
    "\n",
    "# top result\n",
    "topfeats = convolv(105788, 51643)\n",
    "\n",
    "for cuid, duid in zip(best[\"chem_uid\"], best[\"dise_uid\"]):\n",
    "    fvec = convolv(cuid, duid)\n",
    "    \n",
    "    tmp.append([cuid, duid, similarity(topfeats, fvec)])\n",
    "    \n",
    "tmp = pd.DataFrame(tmp, columns=[\"chem_uid\", \"dise_uid\", \"similarity\"])"
   ]
  },
  {
   "cell_type": "markdown",
   "metadata": {},
   "source": [
    "---"
   ]
  },
  {
   "cell_type": "code",
   "execution_count": 16,
   "metadata": {},
   "outputs": [],
   "source": [
    "fin = best.merge(tmp, how=\"inner\", on=[\"chem_uid\", \"dise_uid\"])"
   ]
  },
  {
   "cell_type": "code",
   "execution_count": 17,
   "metadata": {},
   "outputs": [
    {
     "data": {
      "text/html": [
       "<div>\n",
       "<style scoped>\n",
       "    .dataframe tbody tr th:only-of-type {\n",
       "        vertical-align: middle;\n",
       "    }\n",
       "\n",
       "    .dataframe tbody tr th {\n",
       "        vertical-align: top;\n",
       "    }\n",
       "\n",
       "    .dataframe thead th {\n",
       "        text-align: right;\n",
       "    }\n",
       "</style>\n",
       "<table border=\"1\" class=\"dataframe\">\n",
       "  <thead>\n",
       "    <tr style=\"text-align: right;\">\n",
       "      <th></th>\n",
       "      <th>chem_uid</th>\n",
       "      <th>dise_uid</th>\n",
       "      <th>pscore</th>\n",
       "      <th>chem_id</th>\n",
       "      <th>chem_name</th>\n",
       "      <th>dise_id</th>\n",
       "      <th>dise_name</th>\n",
       "      <th>pairsim</th>\n",
       "      <th>similarity</th>\n",
       "    </tr>\n",
       "  </thead>\n",
       "  <tbody>\n",
       "    <tr>\n",
       "      <th>0</th>\n",
       "      <td>105788</td>\n",
       "      <td>51643</td>\n",
       "      <td>0.999978</td>\n",
       "      <td>C0667286</td>\n",
       "      <td>metabotropic glutamate receptor 4</td>\n",
       "      <td>C0234213</td>\n",
       "      <td>Sensory denervation disorder</td>\n",
       "      <td>0.481384</td>\n",
       "      <td>1.000000</td>\n",
       "    </tr>\n",
       "    <tr>\n",
       "      <th>1</th>\n",
       "      <td>36688</td>\n",
       "      <td>51643</td>\n",
       "      <td>0.999886</td>\n",
       "      <td>C0107103</td>\n",
       "      <td>Brain-Derived Neurotrophic Factor</td>\n",
       "      <td>C0234213</td>\n",
       "      <td>Sensory denervation disorder</td>\n",
       "      <td>0.382870</td>\n",
       "      <td>0.645157</td>\n",
       "    </tr>\n",
       "    <tr>\n",
       "      <th>2</th>\n",
       "      <td>10474</td>\n",
       "      <td>4273</td>\n",
       "      <td>0.999834</td>\n",
       "      <td>C0031304</td>\n",
       "      <td>Phage Receptors</td>\n",
       "      <td>C0012624</td>\n",
       "      <td>Discitis</td>\n",
       "      <td>0.460870</td>\n",
       "      <td>0.269522</td>\n",
       "    </tr>\n",
       "    <tr>\n",
       "      <th>3</th>\n",
       "      <td>207</td>\n",
       "      <td>51643</td>\n",
       "      <td>0.999812</td>\n",
       "      <td>C0001041</td>\n",
       "      <td>Acetylcholine</td>\n",
       "      <td>C0234213</td>\n",
       "      <td>Sensory denervation disorder</td>\n",
       "      <td>0.317773</td>\n",
       "      <td>0.550173</td>\n",
       "    </tr>\n",
       "    <tr>\n",
       "      <th>4</th>\n",
       "      <td>55073</td>\n",
       "      <td>51643</td>\n",
       "      <td>0.999735</td>\n",
       "      <td>C0248336</td>\n",
       "      <td>R-cadherin</td>\n",
       "      <td>C0234213</td>\n",
       "      <td>Sensory denervation disorder</td>\n",
       "      <td>0.415925</td>\n",
       "      <td>0.559718</td>\n",
       "    </tr>\n",
       "  </tbody>\n",
       "</table>\n",
       "</div>"
      ],
      "text/plain": [
       "   chem_uid  dise_uid    pscore   chem_id                          chem_name  \\\n",
       "0    105788     51643  0.999978  C0667286  metabotropic glutamate receptor 4   \n",
       "1     36688     51643  0.999886  C0107103  Brain-Derived Neurotrophic Factor   \n",
       "2     10474      4273  0.999834  C0031304                    Phage Receptors   \n",
       "3       207     51643  0.999812  C0001041                      Acetylcholine   \n",
       "4     55073     51643  0.999735  C0248336                         R-cadherin   \n",
       "\n",
       "    dise_id                     dise_name   pairsim  similarity  \n",
       "0  C0234213  Sensory denervation disorder  0.481384    1.000000  \n",
       "1  C0234213  Sensory denervation disorder  0.382870    0.645157  \n",
       "2  C0012624                      Discitis  0.460870    0.269522  \n",
       "3  C0234213  Sensory denervation disorder  0.317773    0.550173  \n",
       "4  C0234213  Sensory denervation disorder  0.415925    0.559718  "
      ]
     },
     "execution_count": 17,
     "metadata": {},
     "output_type": "execute_result"
    }
   ],
   "source": [
    "fin.head()"
   ]
  },
  {
   "cell_type": "code",
   "execution_count": 18,
   "metadata": {},
   "outputs": [
    {
     "data": {
      "text/plain": [
       "<matplotlib.axes._subplots.AxesSubplot at 0x7fb30beafb38>"
      ]
     },
     "execution_count": 18,
     "metadata": {},
     "output_type": "execute_result"
    },
    {
     "data": {
      "image/png": "[encoded data removed]",
      "text/plain": [
       "<matplotlib.figure.Figure at 0x7fb2dc4f2f60>"
      ]
     },
     "metadata": {},
     "output_type": "display_data"
    }
   ],
   "source": [
    "sns.distplot(fin[\"similarity\"], kde=False)"
   ]
  },
  {
   "cell_type": "code",
   "execution_count": 19,
   "metadata": {},
   "outputs": [
    {
     "data": {
      "text/plain": [
       "<seaborn.axisgrid.JointGrid at 0x7fb2dc3c63c8>"
      ]
     },
     "execution_count": 19,
     "metadata": {},
     "output_type": "execute_result"
    },
    {
     "data": {
      "image/png": "[encoded data removed]",
      "text/plain": [
       "<matplotlib.figure.Figure at 0x7fb2dc3c6518>"
      ]
     },
     "metadata": {},
     "output_type": "display_data"
    }
   ],
   "source": [
    "sns.jointplot(data=fin, x=\"similarity\", y=\"pscore\")"
   ]
  },
  {
   "cell_type": "markdown",
   "metadata": {},
   "source": [
    "for the top results i'm not seeing any sort of obvious correlation between the top result and the ranking\n",
    "\n",
    "maybe it's time to look at a more random sampling like andrew said"
   ]
  }
 ],
 "metadata": {
  "kernelspec": {
   "display_name": "Python 3",
   "language": "python",
   "name": "python3"
  },
  "language_info": {
   "codemirror_mode": {
    "name": "ipython",
    "version": 3
   },
   "file_extension": ".py",
   "mimetype": "text/x-python",
   "name": "python",
   "nbconvert_exporter": "python",
   "pygments_lexer": "ipython3",
   "version": "3.6.3"
  }
 },
 "nbformat": 4,
 "nbformat_minor": 2
}
