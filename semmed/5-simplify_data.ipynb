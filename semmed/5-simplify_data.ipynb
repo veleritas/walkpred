{
 "cells": [
  {
   "cell_type": "markdown",
   "metadata": {},
   "source": [
    "# Do the mappings to deepwalk ids"
   ]
  },
  {
   "cell_type": "code",
   "execution_count": 1,
   "metadata": {},
   "outputs": [],
   "source": [
    "import pandas as pd"
   ]
  },
  {
   "cell_type": "code",
   "execution_count": 2,
   "metadata": {},
   "outputs": [],
   "source": [
    "nodemap = (pd\n",
    "    .read_csv(\"data/node_map.tsv\", sep='\\t')\n",
    "    [[\"node_uid\", \"node_id\"]]\n",
    ")"
   ]
  },
  {
   "cell_type": "code",
   "execution_count": 3,
   "metadata": {},
   "outputs": [],
   "source": [
    "def format_data(fname):\n",
    "    return (pd\n",
    "        .read_csv(fname, sep='\\t')\n",
    "        [[\"chemical_id\", \"disease_id\", \"etype\"]]\n",
    "        .fillna(0)\n",
    "        .replace(\"TREATS_CDtDO\", 1)\n",
    "    )"
   ]
  },
  {
   "cell_type": "code",
   "execution_count": 4,
   "metadata": {},
   "outputs": [],
   "source": [
    "def add_uid(df):\n",
    "    return (df\n",
    "        .merge(\n",
    "            nodemap, how=\"inner\", left_on=\"chemical_id\",\n",
    "            right_on=\"node_id\"\n",
    "        )\n",
    "        .drop(\"node_id\", axis=1)\n",
    "        .rename(columns={\"node_uid\": \"chemical_uid\"})\n",
    "        .merge(\n",
    "            nodemap, how=\"inner\", left_on=\"disease_id\",\n",
    "            right_on=\"node_id\"\n",
    "        )\n",
    "        .drop(\"node_id\", axis=1)\n",
    "        .rename(columns={\"node_uid\": \"disease_uid\"})\n",
    "    )"
   ]
  },
  {
   "cell_type": "code",
   "execution_count": 5,
   "metadata": {},
   "outputs": [],
   "source": [
    "K = 1\n",
    "for i in range(K):\n",
    "    train = (\n",
    "        format_data(\"data/training/training_piece{}.tsv\".format(i))\n",
    "        .pipe(add_uid)\n",
    "    )\n",
    "    \n",
    "    holdout = (\n",
    "        format_data(\"data/holdout/holdout_piece{}.tsv\".format(i))\n",
    "        .pipe(add_uid)\n",
    "    )\n",
    "    \n",
    "    train.to_csv(\n",
    "        \"data/training/clean_train{}.tsv\".format(i),\n",
    "        sep='\\t', index=False\n",
    "    )\n",
    "    \n",
    "    holdout.to_csv(\n",
    "        \"data/holdout/clean_holdout{}.tsv\".format(i),\n",
    "        sep='\\t', index=False\n",
    "    )"
   ]
  }
 ],
 "metadata": {
  "kernelspec": {
   "display_name": "Python 3",
   "language": "python",
   "name": "python3"
  },
  "language_info": {
   "codemirror_mode": {
    "name": "ipython",
    "version": 3
   },
   "file_extension": ".py",
   "mimetype": "text/x-python",
   "name": "python",
   "nbconvert_exporter": "python",
   "pygments_lexer": "ipython3",
   "version": "3.6.2"
  }
 },
 "nbformat": 4,
 "nbformat_minor": 2
}
