{
 "cells": [
  {
   "cell_type": "markdown",
   "metadata": {},
   "source": [
    "# Split the gold standard and build the network"
   ]
  },
  {
   "cell_type": "code",
   "execution_count": 1,
   "metadata": {},
   "outputs": [],
   "source": [
    "import pandas as pd\n",
    "import numpy as np\n",
    "\n",
    "from itertools import product"
   ]
  },
  {
   "cell_type": "code",
   "execution_count": 2,
   "metadata": {},
   "outputs": [],
   "source": [
    "np.random.seed(20171113)"
   ]
  },
  {
   "cell_type": "markdown",
   "metadata": {},
   "source": [
    "## Read cleaned gold standard"
   ]
  },
  {
   "cell_type": "code",
   "execution_count": 3,
   "metadata": {},
   "outputs": [],
   "source": [
    "gold = pd.read_csv(\"data/filtered_goldstd.tsv\", sep='\\t')"
   ]
  },
  {
   "cell_type": "code",
   "execution_count": 4,
   "metadata": {},
   "outputs": [
    {
     "data": {
      "text/plain": [
       "(6329, 5)"
      ]
     },
     "execution_count": 4,
     "metadata": {},
     "output_type": "execute_result"
    }
   ],
   "source": [
    "gold.shape"
   ]
  },
  {
   "cell_type": "code",
   "execution_count": 5,
   "metadata": {},
   "outputs": [
    {
     "data": {
      "text/html": [
       "<div>\n",
       "<style scoped>\n",
       "    .dataframe tbody tr th:only-of-type {\n",
       "        vertical-align: middle;\n",
       "    }\n",
       "\n",
       "    .dataframe tbody tr th {\n",
       "        vertical-align: top;\n",
       "    }\n",
       "\n",
       "    .dataframe thead th {\n",
       "        text-align: right;\n",
       "    }\n",
       "</style>\n",
       "<table border=\"1\" class=\"dataframe\">\n",
       "  <thead>\n",
       "    <tr style=\"text-align: right;\">\n",
       "      <th></th>\n",
       "      <th>chemical_id</th>\n",
       "      <th>chemical_name</th>\n",
       "      <th>disease_id</th>\n",
       "      <th>disease_name</th>\n",
       "      <th>etype</th>\n",
       "    </tr>\n",
       "  </thead>\n",
       "  <tbody>\n",
       "    <tr>\n",
       "      <th>0</th>\n",
       "      <td>C0520442</td>\n",
       "      <td>acetyldigitoxin</td>\n",
       "      <td>C0004238</td>\n",
       "      <td>Atrial fibrillation</td>\n",
       "      <td>TREATS_CDtDO</td>\n",
       "    </tr>\n",
       "    <tr>\n",
       "      <th>1</th>\n",
       "      <td>C0033497</td>\n",
       "      <td>propranolol</td>\n",
       "      <td>C0004238</td>\n",
       "      <td>Atrial fibrillation</td>\n",
       "      <td>TREATS_CDtDO</td>\n",
       "    </tr>\n",
       "    <tr>\n",
       "      <th>2</th>\n",
       "      <td>C0012265</td>\n",
       "      <td>digoxin</td>\n",
       "      <td>C0004238</td>\n",
       "      <td>Atrial fibrillation</td>\n",
       "      <td>TREATS_CDtDO</td>\n",
       "    </tr>\n",
       "    <tr>\n",
       "      <th>3</th>\n",
       "      <td>C0084273</td>\n",
       "      <td>quinidine</td>\n",
       "      <td>C0004238</td>\n",
       "      <td>Atrial fibrillation</td>\n",
       "      <td>TREATS_CDtDO</td>\n",
       "    </tr>\n",
       "    <tr>\n",
       "      <th>4</th>\n",
       "      <td>C0766326</td>\n",
       "      <td>dronedarone</td>\n",
       "      <td>C0004238</td>\n",
       "      <td>Atrial fibrillation</td>\n",
       "      <td>TREATS_CDtDO</td>\n",
       "    </tr>\n",
       "  </tbody>\n",
       "</table>\n",
       "</div>"
      ],
      "text/plain": [
       "  chemical_id    chemical_name disease_id         disease_name         etype\n",
       "0    C0520442  acetyldigitoxin   C0004238  Atrial fibrillation  TREATS_CDtDO\n",
       "1    C0033497      propranolol   C0004238  Atrial fibrillation  TREATS_CDtDO\n",
       "2    C0012265          digoxin   C0004238  Atrial fibrillation  TREATS_CDtDO\n",
       "3    C0084273        quinidine   C0004238  Atrial fibrillation  TREATS_CDtDO\n",
       "4    C0766326      dronedarone   C0004238  Atrial fibrillation  TREATS_CDtDO"
      ]
     },
     "execution_count": 5,
     "metadata": {},
     "output_type": "execute_result"
    }
   ],
   "source": [
    "gold.head()"
   ]
  },
  {
   "cell_type": "markdown",
   "metadata": {},
   "source": [
    "---"
   ]
  },
  {
   "cell_type": "markdown",
   "metadata": {},
   "source": [
    "## Read edges and nodes"
   ]
  },
  {
   "cell_type": "code",
   "execution_count": 6,
   "metadata": {},
   "outputs": [],
   "source": [
    "nodes = (pd\n",
    "    .read_csv(\"data/nodes_7_metanode_slim.csv\", sep=',')\n",
    "    .rename(columns={\n",
    "        \":ID\": \"node_id\",\n",
    "        \":LABEL\": \"ntype\"\n",
    "    })\n",
    ")"
   ]
  },
  {
   "cell_type": "code",
   "execution_count": 7,
   "metadata": {},
   "outputs": [
    {
     "data": {
      "text/html": [
       "<div>\n",
       "<style scoped>\n",
       "    .dataframe tbody tr th:only-of-type {\n",
       "        vertical-align: middle;\n",
       "    }\n",
       "\n",
       "    .dataframe tbody tr th {\n",
       "        vertical-align: top;\n",
       "    }\n",
       "\n",
       "    .dataframe thead th {\n",
       "        text-align: right;\n",
       "    }\n",
       "</style>\n",
       "<table border=\"1\" class=\"dataframe\">\n",
       "  <thead>\n",
       "    <tr style=\"text-align: right;\">\n",
       "      <th></th>\n",
       "      <th>node_id</th>\n",
       "      <th>name</th>\n",
       "      <th>ntype</th>\n",
       "    </tr>\n",
       "  </thead>\n",
       "  <tbody>\n",
       "    <tr>\n",
       "      <th>0</th>\n",
       "      <td>C0016192</td>\n",
       "      <td>Flagella</td>\n",
       "      <td>Anatomy</td>\n",
       "    </tr>\n",
       "    <tr>\n",
       "      <th>1</th>\n",
       "      <td>C0230349</td>\n",
       "      <td>Cubital fossa</td>\n",
       "      <td>Anatomy</td>\n",
       "    </tr>\n",
       "  </tbody>\n",
       "</table>\n",
       "</div>"
      ],
      "text/plain": [
       "    node_id           name    ntype\n",
       "0  C0016192       Flagella  Anatomy\n",
       "1  C0230349  Cubital fossa  Anatomy"
      ]
     },
     "execution_count": 7,
     "metadata": {},
     "output_type": "execute_result"
    }
   ],
   "source": [
    "nodes.head(2)"
   ]
  },
  {
   "cell_type": "code",
   "execution_count": 8,
   "metadata": {},
   "outputs": [],
   "source": [
    "edges = pd.read_csv(\"data/edges_no_treats.tsv\", sep='\\t')"
   ]
  },
  {
   "cell_type": "code",
   "execution_count": 9,
   "metadata": {},
   "outputs": [
    {
     "data": {
      "text/html": [
       "<div>\n",
       "<style scoped>\n",
       "    .dataframe tbody tr th:only-of-type {\n",
       "        vertical-align: middle;\n",
       "    }\n",
       "\n",
       "    .dataframe tbody tr th {\n",
       "        vertical-align: top;\n",
       "    }\n",
       "\n",
       "    .dataframe thead th {\n",
       "        text-align: right;\n",
       "    }\n",
       "</style>\n",
       "<table border=\"1\" class=\"dataframe\">\n",
       "  <thead>\n",
       "    <tr style=\"text-align: right;\">\n",
       "      <th></th>\n",
       "      <th>source_id</th>\n",
       "      <th>target_id</th>\n",
       "      <th>etype</th>\n",
       "    </tr>\n",
       "  </thead>\n",
       "  <tbody>\n",
       "    <tr>\n",
       "      <th>0</th>\n",
       "      <td>C0000039</td>\n",
       "      <td>C0001026</td>\n",
       "      <td>REGULATES_CDreg&gt;CD</td>\n",
       "    </tr>\n",
       "    <tr>\n",
       "      <th>1</th>\n",
       "      <td>C0000039</td>\n",
       "      <td>C0001041</td>\n",
       "      <td>REGULATES_CDreg&gt;CD</td>\n",
       "    </tr>\n",
       "  </tbody>\n",
       "</table>\n",
       "</div>"
      ],
      "text/plain": [
       "  source_id target_id               etype\n",
       "0  C0000039  C0001026  REGULATES_CDreg>CD\n",
       "1  C0000039  C0001041  REGULATES_CDreg>CD"
      ]
     },
     "execution_count": 9,
     "metadata": {},
     "output_type": "execute_result"
    }
   ],
   "source": [
    "edges.head(2)"
   ]
  },
  {
   "cell_type": "markdown",
   "metadata": {},
   "source": [
    "---"
   ]
  },
  {
   "cell_type": "markdown",
   "metadata": {},
   "source": [
    "## Split gold standard into K pieces"
   ]
  },
  {
   "cell_type": "code",
   "execution_count": 10,
   "metadata": {},
   "outputs": [],
   "source": [
    "K = 5\n",
    "gold[\"piece\"] = np.random.randint(0, K, len(gold))"
   ]
  },
  {
   "cell_type": "code",
   "execution_count": 11,
   "metadata": {},
   "outputs": [],
   "source": [
    "def all_pairs(df):\n",
    "    chem = df[\"chemical_id\"].unique()\n",
    "    dise = df[\"disease_id\"].unique()\n",
    "    \n",
    "    return set(product(chem, dise))\n",
    "\n",
    "def pair_to_df(pairs):\n",
    "    return pd.DataFrame(list(pairs), columns = [\"chemical_id\", \"disease_id\"])\n",
    "\n",
    "def df_to_pairs(df):\n",
    "    return set(zip(df[\"chemical_id\"], df[\"disease_id\"]))"
   ]
  },
  {
   "cell_type": "code",
   "execution_count": 12,
   "metadata": {},
   "outputs": [],
   "source": [
    "def split_data(withheld):\n",
    "    holdout = gold.query(\"piece == @withheld\")\n",
    "    train = gold.query(\"piece != @withheld\")\n",
    "    \n",
    "    holdout_assumed_false = all_pairs(holdout) - df_to_pairs(holdout) - df_to_pairs(train)\n",
    "    holdout_final = holdout.append(pair_to_df(holdout_assumed_false))\n",
    "    \n",
    "    #---------------------\n",
    "    \n",
    "    train_assumed_false = (all_pairs(train) - df_to_pairs(train)\n",
    "                           - df_to_pairs(holdout_final)\n",
    "    )\n",
    "    train_final = train.append(pair_to_df(train_assumed_false))\n",
    "    \n",
    "    assert df_to_pairs(train_final).isdisjoint(df_to_pairs(holdout_final))\n",
    "    return (holdout_final, train_final)"
   ]
  },
  {
   "cell_type": "code",
   "execution_count": 13,
   "metadata": {},
   "outputs": [],
   "source": [
    "holdouts = dict()\n",
    "training = dict()\n",
    "\n",
    "for withheld in range(K):\n",
    "    hold, train = split_data(withheld)\n",
    "    \n",
    "    holdouts[withheld] = hold.sort_values([\"chemical_id\", \"disease_id\"])\n",
    "    training[withheld] = train.sort_values([\"chemical_id\", \"disease_id\"])"
   ]
  },
  {
   "cell_type": "markdown",
   "metadata": {},
   "source": [
    "## Save training and holdout data to file"
   ]
  },
  {
   "cell_type": "code",
   "execution_count": 14,
   "metadata": {},
   "outputs": [],
   "source": [
    "for idx in range(K):\n",
    "    fname = \"holdout\"\n",
    "    holdouts[idx].to_csv(\n",
    "        \"data/{}/{}_piece{}.tsv\".format(fname, fname, idx),\n",
    "        sep = '\\t', index = False\n",
    "    )\n",
    "    \n",
    "    fname = \"training\"\n",
    "    training[idx].to_csv(\n",
    "        \"data/{}/{}_piece{}.tsv\".format(fname, fname, idx),\n",
    "        sep = '\\t', index = False\n",
    "    )"
   ]
  }
 ],
 "metadata": {
  "kernelspec": {
   "display_name": "Python 3",
   "language": "python",
   "name": "python3"
  },
  "language_info": {
   "codemirror_mode": {
    "name": "ipython",
    "version": 3
   },
   "file_extension": ".py",
   "mimetype": "text/x-python",
   "name": "python",
   "nbconvert_exporter": "python",
   "pygments_lexer": "ipython3",
   "version": "3.6.2"
  }
 },
 "nbformat": 4,
 "nbformat_minor": 2
}
