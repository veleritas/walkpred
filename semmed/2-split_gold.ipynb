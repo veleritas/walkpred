{
 "cells": [
  {
   "cell_type": "markdown",
   "metadata": {},
   "source": [
    "# Split the gold standard and build the network"
   ]
  },
  {
   "cell_type": "code",
   "execution_count": 1,
   "metadata": {},
   "outputs": [],
   "source": [
    "import pandas as pd\n",
    "import numpy as np\n",
    "\n",
    "from itertools import product"
   ]
  },
  {
   "cell_type": "code",
   "execution_count": 2,
   "metadata": {},
   "outputs": [],
   "source": [
    "np.random.seed(20171113)"
   ]
  },
  {
   "cell_type": "markdown",
   "metadata": {},
   "source": [
    "## Read cleaned gold standard"
   ]
  },
  {
   "cell_type": "code",
   "execution_count": 3,
   "metadata": {},
   "outputs": [],
   "source": [
    "gold = pd.read_csv(\"data/filtered_goldstd.tsv\", sep='\\t')"
   ]
  },
  {
   "cell_type": "code",
   "execution_count": 4,
   "metadata": {},
   "outputs": [
    {
     "data": {
      "text/plain": [
       "(6329, 5)"
      ]
     },
     "execution_count": 4,
     "metadata": {},
     "output_type": "execute_result"
    }
   ],
   "source": [
    "gold.shape"
   ]
  },
  {
   "cell_type": "code",
   "execution_count": 5,
   "metadata": {},
   "outputs": [
    {
     "data": {
      "text/html": [
       "<div>\n",
       "<style scoped>\n",
       "    .dataframe tbody tr th:only-of-type {\n",
       "        vertical-align: middle;\n",
       "    }\n",
       "\n",
       "    .dataframe tbody tr th {\n",
       "        vertical-align: top;\n",
       "    }\n",
       "\n",
       "    .dataframe thead th {\n",
       "        text-align: right;\n",
       "    }\n",
       "</style>\n",
       "<table border=\"1\" class=\"dataframe\">\n",
       "  <thead>\n",
       "    <tr style=\"text-align: right;\">\n",
       "      <th></th>\n",
       "      <th>chemical_id</th>\n",
       "      <th>chemical_name</th>\n",
       "      <th>disease_id</th>\n",
       "      <th>disease_name</th>\n",
       "      <th>etype</th>\n",
       "    </tr>\n",
       "  </thead>\n",
       "  <tbody>\n",
       "    <tr>\n",
       "      <th>0</th>\n",
       "      <td>C0520442</td>\n",
       "      <td>acetyldigitoxin</td>\n",
       "      <td>C0004238</td>\n",
       "      <td>Atrial fibrillation</td>\n",
       "      <td>TREATS_CDtDO</td>\n",
       "    </tr>\n",
       "    <tr>\n",
       "      <th>1</th>\n",
       "      <td>C0520442</td>\n",
       "      <td>acetyldigitoxin</td>\n",
       "      <td>C0018802</td>\n",
       "      <td>Congestive heart failure</td>\n",
       "      <td>TREATS_CDtDO</td>\n",
       "    </tr>\n",
       "    <tr>\n",
       "      <th>2</th>\n",
       "      <td>C0771809</td>\n",
       "      <td>acexamic acid</td>\n",
       "      <td>C0037299</td>\n",
       "      <td>Skin ulcer</td>\n",
       "      <td>TREATS_CDtDO</td>\n",
       "    </tr>\n",
       "    <tr>\n",
       "      <th>3</th>\n",
       "      <td>C0050558</td>\n",
       "      <td>acipimox</td>\n",
       "      <td>C0020476</td>\n",
       "      <td>Hyperlipoproteinemia</td>\n",
       "      <td>TREATS_CDtDO</td>\n",
       "    </tr>\n",
       "    <tr>\n",
       "      <th>4</th>\n",
       "      <td>C0021735</td>\n",
       "      <td>interferon alfa-2b</td>\n",
       "      <td>C0023434</td>\n",
       "      <td>chronic lymphocytic leukemia</td>\n",
       "      <td>TREATS_CDtDO</td>\n",
       "    </tr>\n",
       "  </tbody>\n",
       "</table>\n",
       "</div>"
      ],
      "text/plain": [
       "  chemical_id       chemical_name disease_id                  disease_name  \\\n",
       "0    C0520442     acetyldigitoxin   C0004238           Atrial fibrillation   \n",
       "1    C0520442     acetyldigitoxin   C0018802      Congestive heart failure   \n",
       "2    C0771809       acexamic acid   C0037299                    Skin ulcer   \n",
       "3    C0050558            acipimox   C0020476          Hyperlipoproteinemia   \n",
       "4    C0021735  interferon alfa-2b   C0023434  chronic lymphocytic leukemia   \n",
       "\n",
       "          etype  \n",
       "0  TREATS_CDtDO  \n",
       "1  TREATS_CDtDO  \n",
       "2  TREATS_CDtDO  \n",
       "3  TREATS_CDtDO  \n",
       "4  TREATS_CDtDO  "
      ]
     },
     "execution_count": 5,
     "metadata": {},
     "output_type": "execute_result"
    }
   ],
   "source": [
    "gold.head()"
   ]
  },
  {
   "cell_type": "markdown",
   "metadata": {},
   "source": [
    "---"
   ]
  },
  {
   "cell_type": "markdown",
   "metadata": {},
   "source": [
    "## Split gold standard into K pieces"
   ]
  },
  {
   "cell_type": "code",
   "execution_count": 10,
   "metadata": {},
   "outputs": [],
   "source": [
    "K = 5\n",
    "gold[\"piece\"] = np.random.randint(0, K, len(gold))"
   ]
  },
  {
   "cell_type": "code",
   "execution_count": 11,
   "metadata": {},
   "outputs": [],
   "source": [
    "def all_pairs(df):\n",
    "    chem = df[\"chemical_id\"].unique()\n",
    "    dise = df[\"disease_id\"].unique()\n",
    "    \n",
    "    return set(product(chem, dise))\n",
    "\n",
    "def pair_to_df(pairs):\n",
    "    return pd.DataFrame(list(pairs), columns = [\"chemical_id\", \"disease_id\"])\n",
    "\n",
    "def df_to_pairs(df):\n",
    "    return set(zip(df[\"chemical_id\"], df[\"disease_id\"]))"
   ]
  },
  {
   "cell_type": "code",
   "execution_count": 12,
   "metadata": {},
   "outputs": [],
   "source": [
    "def split_data(withheld):\n",
    "    holdout = gold.query(\"piece == @withheld\")\n",
    "    train = gold.query(\"piece != @withheld\")\n",
    "    \n",
    "    holdout_assumed_false = all_pairs(holdout) - df_to_pairs(holdout) - df_to_pairs(train)\n",
    "    holdout_final = holdout.append(pair_to_df(holdout_assumed_false))\n",
    "    \n",
    "    #---------------------\n",
    "    \n",
    "    train_assumed_false = (all_pairs(train) - df_to_pairs(train)\n",
    "                           - df_to_pairs(holdout_final)\n",
    "    )\n",
    "    train_final = train.append(pair_to_df(train_assumed_false))\n",
    "    \n",
    "    assert df_to_pairs(train_final).isdisjoint(df_to_pairs(holdout_final))\n",
    "    return (holdout_final, train_final)"
   ]
  },
  {
   "cell_type": "code",
   "execution_count": 13,
   "metadata": {},
   "outputs": [],
   "source": [
    "holdouts = dict()\n",
    "training = dict()\n",
    "\n",
    "for withheld in range(K):\n",
    "    hold, train = split_data(withheld)\n",
    "    \n",
    "    holdouts[withheld] = hold.sort_values([\"chemical_id\", \"disease_id\"])\n",
    "    training[withheld] = train.sort_values([\"chemical_id\", \"disease_id\"])"
   ]
  },
  {
   "cell_type": "markdown",
   "metadata": {},
   "source": [
    "## Save training and holdout data to file"
   ]
  },
  {
   "cell_type": "code",
   "execution_count": 14,
   "metadata": {},
   "outputs": [],
   "source": [
    "for idx in range(K):\n",
    "    fname = \"holdout\"\n",
    "    holdouts[idx].to_csv(\n",
    "        \"data/{}/{}_piece{}.tsv\".format(fname, fname, idx),\n",
    "        sep = '\\t', index = False\n",
    "    )\n",
    "    \n",
    "    fname = \"training\"\n",
    "    training[idx].to_csv(\n",
    "        \"data/{}/{}_piece{}.tsv\".format(fname, fname, idx),\n",
    "        sep = '\\t', index = False\n",
    "    )"
   ]
  }
 ],
 "metadata": {
  "kernelspec": {
   "display_name": "Python 3",
   "language": "python",
   "name": "python3"
  },
  "language_info": {
   "codemirror_mode": {
    "name": "ipython",
    "version": 3
   },
   "file_extension": ".py",
   "mimetype": "text/x-python",
   "name": "python",
   "nbconvert_exporter": "python",
   "pygments_lexer": "ipython3",
   "version": "3.5.2"
  }
 },
 "nbformat": 4,
 "nbformat_minor": 2
}
