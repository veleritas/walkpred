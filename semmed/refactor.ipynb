{
 "cells": [
  {
   "cell_type": "markdown",
   "metadata": {},
   "source": [
    "pipeline\n",
    "\n",
    "read cleaned edges\n",
    "read cleaned gold std\n",
    "\n",
    "generate list of nodes from edge list\n",
    "check that gold std is not in edges\n",
    "\n",
    "for K iterations\n",
    "    subselect gold std as holdout\n",
    "    put gold std in network\n",
    "    \n",
    "    make adjlist and nodemap\n",
    "    run deepwalk\n",
    "    build model\n",
    "    get results and save to file\n",
    "    \n",
    "generate roc curve from results file"
   ]
  },
  {
   "cell_type": "code",
   "execution_count": 1,
   "metadata": {},
   "outputs": [],
   "source": [
    "import pandas as pd\n",
    "import numpy as np\n",
    "\n",
    "from itertools import product\n",
    "from itertools import chain\n",
    "\n",
    "from tqdm import tqdm\n",
    "from collections import defaultdict"
   ]
  },
  {
   "cell_type": "code",
   "execution_count": 2,
   "metadata": {},
   "outputs": [],
   "source": [
    "np.random.seed(871365713)"
   ]
  },
  {
   "cell_type": "markdown",
   "metadata": {},
   "source": [
    "## Read data"
   ]
  },
  {
   "cell_type": "code",
   "execution_count": 3,
   "metadata": {},
   "outputs": [],
   "source": [
    "nodes = pd.read_csv(\"data/clean/nodes.tsv\", sep='\\t')\n",
    "edges = pd.read_csv(\"data/clean/edges.tsv\", sep='\\t')\n",
    "gold = pd.read_csv(\"data/clean/gold.tsv\", sep='\\t')"
   ]
  },
  {
   "cell_type": "markdown",
   "metadata": {},
   "source": [
    "## number of cross validation folds"
   ]
  },
  {
   "cell_type": "code",
   "execution_count": 4,
   "metadata": {},
   "outputs": [],
   "source": [
    "def all_pairs(df):\n",
    "    chem = df[\"chemical_id\"].unique()\n",
    "    dise = df[\"disease_id\"].unique()\n",
    "    \n",
    "    return set(product(chem, dise))\n",
    "\n",
    "def pair_to_df(pairs):\n",
    "    return pd.DataFrame(list(pairs), columns = [\"chemical_id\", \"disease_id\"])\n",
    "\n",
    "def df_to_pairs(df):\n",
    "    return set(zip(df[\"chemical_id\"], df[\"disease_id\"]))"
   ]
  },
  {
   "cell_type": "code",
   "execution_count": 5,
   "metadata": {},
   "outputs": [],
   "source": [
    "all_gpairs = df_to_pairs(gold)\n",
    "holdout_ratio = 0.2\n",
    "\n",
    "def split_data():\n",
    "    \n",
    "    holdout = gold.sample(frac = holdout_ratio)\n",
    "    \n",
    "    tpairs = all_gpairs - df_to_pairs(holdout)\n",
    "    \n",
    "    train = (pair_to_df(tpairs)\n",
    "        .merge(gold, how=\"left\", on=[\"chemical_id\", \"disease_id\"])\n",
    "    )\n",
    "    \n",
    "    holdout_assumed_false = all_pairs(holdout) - df_to_pairs(holdout) - df_to_pairs(train)\n",
    "    holdout_final = holdout.append(pair_to_df(holdout_assumed_false))\n",
    "    \n",
    "    #---------------------\n",
    "    \n",
    "    train_assumed_false = (all_pairs(train) - df_to_pairs(train)\n",
    "                           - df_to_pairs(holdout_final)\n",
    "    )\n",
    "    train_final = train.append(pair_to_df(train_assumed_false))\n",
    "    \n",
    "    assert df_to_pairs(train_final).isdisjoint(df_to_pairs(holdout_final))\n",
    "    return (holdout_final, train_final)"
   ]
  },
  {
   "cell_type": "code",
   "execution_count": 6,
   "metadata": {},
   "outputs": [],
   "source": [
    "def clean_df(df):\n",
    "    \"\"\"Remove empty cells.\n",
    "    Set numeric labels for edge type.\n",
    "    \"\"\"\n",
    "    \n",
    "    return (df\n",
    "        [[\"chemical_id\", \"disease_id\", \"etype\"]]\n",
    "        .fillna(0)\n",
    "        .replace({\"TREATS_CDtDO\": 1})\n",
    "    )"
   ]
  },
  {
   "cell_type": "code",
   "execution_count": 7,
   "metadata": {},
   "outputs": [],
   "source": [
    "def subsample(df, M=4):\n",
    "    \"\"\"Subsample the training data to remove the vast majority of\n",
    "    negative training examples.\"\"\"\n",
    "    \n",
    "    positives = df.query(\"etype == 1\")\n",
    "    \n",
    "    return (positives\n",
    "        .append(\n",
    "            (df\n",
    "                .query(\"etype == 0\")\n",
    "                .sample(len(positives) * M)\n",
    "            )\n",
    "        )\n",
    "        .reset_index(drop=True)\n",
    "    )"
   ]
  },
  {
   "cell_type": "code",
   "execution_count": 8,
   "metadata": {},
   "outputs": [],
   "source": [
    "def add_uids(df):\n",
    "    return (df\n",
    "        .merge(\n",
    "            nodes[[\"node_uid\", \"node_id\"]],\n",
    "            how=\"inner\", left_on=\"chemical_id\", right_on=\"node_id\"\n",
    "        )\n",
    "        .merge(\n",
    "            nodes[[\"node_uid\", \"node_id\"]],\n",
    "            how=\"inner\", left_on=\"disease_id\", right_on=\"node_id\"        \n",
    "        )\n",
    "        .drop([\"node_id_x\", \"node_id_y\"], axis=1)\n",
    "        .rename(columns={\n",
    "            \"node_uid_x\": \"chemical_uid\",\n",
    "            \"node_uid_y\": \"disease_uid\"\n",
    "        })\n",
    "    )"
   ]
  },
  {
   "cell_type": "code",
   "execution_count": 9,
   "metadata": {},
   "outputs": [],
   "source": [
    "def build_adjlist(train, edges):\n",
    "    \n",
    "    pos = train.query(\"etype == 1\")\n",
    "\n",
    "    adjlist = defaultdict(set)\n",
    "    \n",
    "    for suid, tuid in tqdm(\n",
    "        zip(\n",
    "            chain(pos[\"chemical_uid\"], edges[\"source_uid\"]),\n",
    "            chain(pos[\"disease_uid\"], edges[\"target_uid\"])\n",
    "        ),\n",
    "        desc=\"Building\",\n",
    "        total=len(pos) + len(edges)\n",
    "    ):\n",
    "\n",
    "        adjlist[suid].add(tuid)\n",
    "        adjlist[tuid].add(suid)\n",
    "        \n",
    "    # write to file\n",
    "    with open(\"data/temp/adjlist.txt\".format(i), \"w\") as fout:\n",
    "        for key, vals in tqdm(adjlist.items(), desc=\"Saving\"):\n",
    "            vals = sorted(list(vals))\n",
    "            vals = list(map(str, vals))\n",
    "            \n",
    "            fout.write(\"{} {}\\n\".format(key, \" \".join(vals)))"
   ]
  },
  {
   "cell_type": "markdown",
   "metadata": {},
   "source": [
    "## Meat of the program"
   ]
  },
  {
   "cell_type": "code",
   "execution_count": 10,
   "metadata": {
    "scrolled": true
   },
   "outputs": [
    {
     "name": "stderr",
     "output_type": "stream",
     "text": [
      "Building: 100%|██████████| 9651843/9651843 [00:10<00:00, 925426.46it/s]\n",
      "Saving: 100%|██████████| 210389/210389 [00:07<00:00, 26398.24it/s]\n"
     ]
    }
   ],
   "source": [
    "K = 1\n",
    "for i in range(K):\n",
    "    # sample gold standard and split\n",
    "    holdout, train = split_data()\n",
    "\n",
    "    holdout = (holdout\n",
    "        .pipe(clean_df)\n",
    "        .pipe(add_uids)\n",
    "    )\n",
    "\n",
    "    train = (train\n",
    "        .pipe(clean_df)\n",
    "        .pipe(subsample)\n",
    "        .pipe(add_uids)\n",
    "    )\n",
    "    \n",
    "    holdout.to_csv(\"data/temp/holdout.tsv\", sep='\\t', index=False)\n",
    "    train.to_csv(\"data/temp/train.tsv\", sep='\\t', index=False)\n",
    "    \n",
    "    \n",
    "    # append gold training edges to network\n",
    "    build_adjlist(train, edges)\n",
    "    \n",
    "    # run deepwalk here\n",
    "    # done by hand for now\n",
    "    \n",
    "    "
   ]
  },
  {
   "cell_type": "markdown",
   "metadata": {},
   "source": [
    "run deepwalk by hand and time how long it takes"
   ]
  },
  {
   "cell_type": "markdown",
   "metadata": {},
   "source": [
    "time deepwalk --input ~/walkpred/semmed/data/temp/adjlist.txt --output ~/walkpred/semmed/data/temp/embedding.txt --representation-size 128 --number-walks 50 --window-size 10 --workers 4\n"
   ]
  },
  {
   "cell_type": "markdown",
   "metadata": {},
   "source": [
    "runtime for the above command took 61 minutes clock time (so will take forever to run 100 fold validation)...\n",
    "\n",
    "embedding file is ~250 mb (so also too large to store all at once)"
   ]
  },
  {
   "cell_type": "code",
   "execution_count": null,
   "metadata": {},
   "outputs": [],
   "source": []
  }
 ],
 "metadata": {
  "kernelspec": {
   "display_name": "Python 3",
   "language": "python",
   "name": "python3"
  },
  "language_info": {
   "codemirror_mode": {
    "name": "ipython",
    "version": 3
   },
   "file_extension": ".py",
   "mimetype": "text/x-python",
   "name": "python",
   "nbconvert_exporter": "python",
   "pygments_lexer": "ipython3",
   "version": "3.5.2"
  }
 },
 "nbformat": 4,
 "nbformat_minor": 2
}
