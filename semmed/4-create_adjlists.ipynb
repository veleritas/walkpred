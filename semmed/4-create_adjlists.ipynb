{
 "cells": [
  {
   "cell_type": "markdown",
   "metadata": {},
   "source": [
    "# Create the adjacency lists needed by deepwalk"
   ]
  },
  {
   "cell_type": "code",
   "execution_count": 1,
   "metadata": {},
   "outputs": [],
   "source": [
    "import pandas as pd\n",
    "from tqdm import tqdm\n",
    "\n",
    "from collections import defaultdict"
   ]
  },
  {
   "cell_type": "markdown",
   "metadata": {},
   "source": [
    "## Read node map"
   ]
  },
  {
   "cell_type": "code",
   "execution_count": 2,
   "metadata": {},
   "outputs": [],
   "source": [
    "nodemap = (pd\n",
    "    .read_csv(\"data/node_map.tsv\", sep='\\t')\n",
    "    [[\"node_uid\", \"node_id\"]]\n",
    ")"
   ]
  },
  {
   "cell_type": "code",
   "execution_count": 3,
   "metadata": {},
   "outputs": [
    {
     "data": {
      "text/html": [
       "<div>\n",
       "<style scoped>\n",
       "    .dataframe tbody tr th:only-of-type {\n",
       "        vertical-align: middle;\n",
       "    }\n",
       "\n",
       "    .dataframe tbody tr th {\n",
       "        vertical-align: top;\n",
       "    }\n",
       "\n",
       "    .dataframe thead th {\n",
       "        text-align: right;\n",
       "    }\n",
       "</style>\n",
       "<table border=\"1\" class=\"dataframe\">\n",
       "  <thead>\n",
       "    <tr style=\"text-align: right;\">\n",
       "      <th></th>\n",
       "      <th>node_uid</th>\n",
       "      <th>node_id</th>\n",
       "    </tr>\n",
       "  </thead>\n",
       "  <tbody>\n",
       "    <tr>\n",
       "      <th>0</th>\n",
       "      <td>0</td>\n",
       "      <td>C0000039</td>\n",
       "    </tr>\n",
       "    <tr>\n",
       "      <th>1</th>\n",
       "      <td>1</td>\n",
       "      <td>C0000052</td>\n",
       "    </tr>\n",
       "  </tbody>\n",
       "</table>\n",
       "</div>"
      ],
      "text/plain": [
       "   node_uid   node_id\n",
       "0         0  C0000039\n",
       "1         1  C0000052"
      ]
     },
     "execution_count": 3,
     "metadata": {},
     "output_type": "execute_result"
    }
   ],
   "source": [
    "nodemap.head(2)"
   ]
  },
  {
   "cell_type": "markdown",
   "metadata": {},
   "source": [
    "---"
   ]
  },
  {
   "cell_type": "markdown",
   "metadata": {},
   "source": [
    "## Create undirected networks from the network files (which already include the gold standard)"
   ]
  },
  {
   "cell_type": "code",
   "execution_count": 4,
   "metadata": {},
   "outputs": [
    {
     "name": "stdout",
     "output_type": "stream",
     "text": [
      "Reading edges for fold 0\n"
     ]
    },
    {
     "name": "stderr",
     "output_type": "stream",
     "text": [
      "Building: 100%|██████████| 9651879/9651879 [00:12<00:00, 786727.52it/s]\n",
      "Saving: 100%|██████████| 210389/210389 [00:08<00:00, 26028.61it/s]\n"
     ]
    },
    {
     "name": "stdout",
     "output_type": "stream",
     "text": [
      "Reading edges for fold 1\n"
     ]
    },
    {
     "name": "stderr",
     "output_type": "stream",
     "text": [
      "Building: 100%|██████████| 9651833/9651833 [00:11<00:00, 827862.46it/s]\n",
      "Saving: 100%|██████████| 210386/210386 [00:08<00:00, 25870.65it/s]\n"
     ]
    },
    {
     "name": "stdout",
     "output_type": "stream",
     "text": [
      "Reading edges for fold 2\n"
     ]
    },
    {
     "name": "stderr",
     "output_type": "stream",
     "text": [
      "Building: 100%|██████████| 9651822/9651822 [00:11<00:00, 804957.23it/s]\n",
      "Saving: 100%|██████████| 210385/210385 [00:08<00:00, 25059.02it/s]\n"
     ]
    },
    {
     "name": "stdout",
     "output_type": "stream",
     "text": [
      "Reading edges for fold 3\n"
     ]
    },
    {
     "name": "stderr",
     "output_type": "stream",
     "text": [
      "Building: 100%|██████████| 9651803/9651803 [00:13<00:00, 700128.42it/s]\n",
      "Saving: 100%|██████████| 210386/210386 [00:08<00:00, 25509.45it/s]\n"
     ]
    },
    {
     "name": "stdout",
     "output_type": "stream",
     "text": [
      "Reading edges for fold 4\n"
     ]
    },
    {
     "name": "stderr",
     "output_type": "stream",
     "text": [
      "Building: 100%|██████████| 9651879/9651879 [00:13<00:00, 694757.48it/s]\n",
      "Saving: 100%|██████████| 210389/210389 [00:08<00:00, 25115.23it/s]\n"
     ]
    }
   ],
   "source": [
    "K = 5\n",
    "for i in range(K):\n",
    "    print(\"Reading edges for fold {}\".format(i))\n",
    "    edges = (pd\n",
    "        .read_csv(\n",
    "            \"data/network/network_fold{}.tsv\".format(i), sep='\\t'\n",
    "        )\n",
    "        .merge(\n",
    "            nodemap, how=\"inner\", left_on=\"source_id\", right_on=\"node_id\"\n",
    "        )\n",
    "        .drop(\"node_id\", axis=1)\n",
    "        .rename(columns={\"node_uid\": \"source_uid\"})\n",
    "        .merge(\n",
    "            nodemap, how=\"inner\", left_on=\"target_id\", right_on=\"node_id\"\n",
    "        )\n",
    "        .drop(\"node_id\", axis=1)\n",
    "        .rename(columns={\"node_uid\": \"target_uid\"})\n",
    "    )\n",
    "    \n",
    "    adjlist = defaultdict(set)\n",
    "    for suid, tuid in tqdm(zip(edges[\"source_uid\"], edges[\"target_uid\"]), total=len(edges), desc=\"Building\"):\n",
    "        adjlist[suid].add(tuid)\n",
    "        adjlist[tuid].add(suid)\n",
    "        \n",
    "    # write to file\n",
    "    with open(\"data/adjlist/adjlist_{}.txt\".format(i), \"w\") as fout:\n",
    "        for key, vals in tqdm(adjlist.items(), desc=\"Saving\"):\n",
    "            vals = sorted(list(vals))\n",
    "            vals = list(map(str, vals))\n",
    "            \n",
    "            fout.write(\"{} {}\\n\".format(key, \" \".join(vals)))"
   ]
  },
  {
   "cell_type": "code",
   "execution_count": null,
   "metadata": {},
   "outputs": [],
   "source": []
  }
 ],
 "metadata": {
  "kernelspec": {
   "display_name": "Python 3",
   "language": "python",
   "name": "python3"
  },
  "language_info": {
   "codemirror_mode": {
    "name": "ipython",
    "version": 3
   },
   "file_extension": ".py",
   "mimetype": "text/x-python",
   "name": "python",
   "nbconvert_exporter": "python",
   "pygments_lexer": "ipython3",
   "version": "3.6.3"
  }
 },
 "nbformat": 4,
 "nbformat_minor": 2
}
