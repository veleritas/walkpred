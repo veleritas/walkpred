{
 "cells": [
  {
   "cell_type": "markdown",
   "metadata": {},
   "source": [
    "# Preprocessing SemmedDB for use with Deepwalk\n",
    "\n",
    "We need to clean up the version of SemmedDB that Mike gave us before we can use it with Deepwalk to generate drug indication predictions."
   ]
  },
  {
   "cell_type": "code",
   "execution_count": 1,
   "metadata": {},
   "outputs": [],
   "source": [
    "from tqdm import tqdm\n",
    "import pandas as pd"
   ]
  },
  {
   "cell_type": "markdown",
   "metadata": {},
   "source": [
    "---"
   ]
  },
  {
   "cell_type": "markdown",
   "metadata": {},
   "source": [
    "## Read edges and remove PMIDs associated with each edge\n",
    "\n",
    "At the moment we don't need the papers from which individual assertions were mined, and so will remove this information for now."
   ]
  },
  {
   "cell_type": "code",
   "execution_count": 2,
   "metadata": {},
   "outputs": [
    {
     "name": "stderr",
     "output_type": "stream",
     "text": [
      "100%|██████████| 10230595/10230595 [00:31<00:00, 328720.16it/s]\n"
     ]
    }
   ],
   "source": [
    "edges = []\n",
    "with open(\"data/edges_7_metanode_slim.csv\", \"r\") as fin:\n",
    "    # line count determined using \"wc -l\"\n",
    "    for line in tqdm(fin, total=10230595):\n",
    "        vals = line.rstrip(\"\\n\").split(\",\")\n",
    "        edges.append(vals[:3])\n",
    "        \n",
    "edges = pd.DataFrame(\n",
    "    edges[1:], columns=[\"source_id\", \"target_id\", \"etype\"]\n",
    ")"
   ]
  },
  {
   "cell_type": "code",
   "execution_count": 3,
   "metadata": {},
   "outputs": [
    {
     "data": {
      "text/plain": [
       "(10230594, 3)"
      ]
     },
     "execution_count": 3,
     "metadata": {},
     "output_type": "execute_result"
    }
   ],
   "source": [
    "edges.shape"
   ]
  },
  {
   "cell_type": "code",
   "execution_count": 4,
   "metadata": {},
   "outputs": [
    {
     "data": {
      "text/html": [
       "<div>\n",
       "<style scoped>\n",
       "    .dataframe tbody tr th:only-of-type {\n",
       "        vertical-align: middle;\n",
       "    }\n",
       "\n",
       "    .dataframe tbody tr th {\n",
       "        vertical-align: top;\n",
       "    }\n",
       "\n",
       "    .dataframe thead th {\n",
       "        text-align: right;\n",
       "    }\n",
       "</style>\n",
       "<table border=\"1\" class=\"dataframe\">\n",
       "  <thead>\n",
       "    <tr style=\"text-align: right;\">\n",
       "      <th></th>\n",
       "      <th>source_id</th>\n",
       "      <th>target_id</th>\n",
       "      <th>etype</th>\n",
       "    </tr>\n",
       "  </thead>\n",
       "  <tbody>\n",
       "    <tr>\n",
       "      <th>0</th>\n",
       "      <td>C0000039</td>\n",
       "      <td>C0001026</td>\n",
       "      <td>REGULATES_CDreg&gt;CD</td>\n",
       "    </tr>\n",
       "    <tr>\n",
       "      <th>1</th>\n",
       "      <td>C0000039</td>\n",
       "      <td>C0001041</td>\n",
       "      <td>REGULATES_CDreg&gt;CD</td>\n",
       "    </tr>\n",
       "    <tr>\n",
       "      <th>2</th>\n",
       "      <td>C0000039</td>\n",
       "      <td>C0001492</td>\n",
       "      <td>REGULATES_CDreg&gt;CD</td>\n",
       "    </tr>\n",
       "    <tr>\n",
       "      <th>3</th>\n",
       "      <td>C0000039</td>\n",
       "      <td>C0001511</td>\n",
       "      <td>TREATS_CDtDO</td>\n",
       "    </tr>\n",
       "    <tr>\n",
       "      <th>4</th>\n",
       "      <td>C0000039</td>\n",
       "      <td>C0001962</td>\n",
       "      <td>REGULATES_CDreg&gt;CD</td>\n",
       "    </tr>\n",
       "  </tbody>\n",
       "</table>\n",
       "</div>"
      ],
      "text/plain": [
       "  source_id target_id               etype\n",
       "0  C0000039  C0001026  REGULATES_CDreg>CD\n",
       "1  C0000039  C0001041  REGULATES_CDreg>CD\n",
       "2  C0000039  C0001492  REGULATES_CDreg>CD\n",
       "3  C0000039  C0001511        TREATS_CDtDO\n",
       "4  C0000039  C0001962  REGULATES_CDreg>CD"
      ]
     },
     "execution_count": 4,
     "metadata": {},
     "output_type": "execute_result"
    }
   ],
   "source": [
    "edges.head()"
   ]
  },
  {
   "cell_type": "code",
   "execution_count": 5,
   "metadata": {},
   "outputs": [
    {
     "data": {
      "text/plain": [
       "LOCATION_OF_AloCD         996348\n",
       "REGULATES_CDreg>CD        814972\n",
       "INTERACTS_WITH_CDiwG      705394\n",
       "ASSOCIATED_WITH_DOawDO    690653\n",
       "TREATS_CDtDO              583814\n",
       "LOCATION_OF_AloG          534310\n",
       "Name: etype, dtype: int64"
      ]
     },
     "execution_count": 5,
     "metadata": {},
     "output_type": "execute_result"
    }
   ],
   "source": [
    "edges[\"etype\"].value_counts().head(6)"
   ]
  },
  {
   "cell_type": "markdown",
   "metadata": {},
   "source": [
    "### Remove \"TREATS_CDtDO\" edges from the network\n",
    "\n",
    "These treatment edges are extracted by SemRep and are not terribly trustworthy. We will remove these edges so that the real human curated \"treats\" edges will not be overwhelmed."
   ]
  },
  {
   "cell_type": "code",
   "execution_count": 6,
   "metadata": {},
   "outputs": [],
   "source": [
    "edges = edges.query(\"etype != 'TREATS_CDtDO'\")"
   ]
  },
  {
   "cell_type": "code",
   "execution_count": 7,
   "metadata": {},
   "outputs": [
    {
     "data": {
      "text/plain": [
       "(9646780, 3)"
      ]
     },
     "execution_count": 7,
     "metadata": {},
     "output_type": "execute_result"
    }
   ],
   "source": [
    "edges.shape"
   ]
  },
  {
   "cell_type": "markdown",
   "metadata": {},
   "source": [
    "---"
   ]
  },
  {
   "cell_type": "markdown",
   "metadata": {},
   "source": [
    "## Read gold standard"
   ]
  },
  {
   "cell_type": "code",
   "execution_count": 8,
   "metadata": {},
   "outputs": [],
   "source": [
    "gold = (pd\n",
    "    .read_csv(\"data/indications_slim.csv\", sep=',')\n",
    "    [[\"compound_umlscui\", \"compound_name\", \"disease_umlscui\", \"disease_name\", \"etype\"]]\n",
    "    .rename(columns={\n",
    "        \"compound_umlscui\": \"chemical_id\",\n",
    "        \"compound_name\": \"chemical_name\",\n",
    "        \"disease_umlscui\": \"disease_id\",\n",
    "    })\n",
    ")"
   ]
  },
  {
   "cell_type": "code",
   "execution_count": 9,
   "metadata": {},
   "outputs": [
    {
     "data": {
      "text/plain": [
       "(8176, 5)"
      ]
     },
     "execution_count": 9,
     "metadata": {},
     "output_type": "execute_result"
    }
   ],
   "source": [
    "gold.shape"
   ]
  },
  {
   "cell_type": "code",
   "execution_count": 10,
   "metadata": {},
   "outputs": [
    {
     "data": {
      "text/html": [
       "<div>\n",
       "<style scoped>\n",
       "    .dataframe tbody tr th:only-of-type {\n",
       "        vertical-align: middle;\n",
       "    }\n",
       "\n",
       "    .dataframe tbody tr th {\n",
       "        vertical-align: top;\n",
       "    }\n",
       "\n",
       "    .dataframe thead th {\n",
       "        text-align: right;\n",
       "    }\n",
       "</style>\n",
       "<table border=\"1\" class=\"dataframe\">\n",
       "  <thead>\n",
       "    <tr style=\"text-align: right;\">\n",
       "      <th></th>\n",
       "      <th>chemical_id</th>\n",
       "      <th>chemical_name</th>\n",
       "      <th>disease_id</th>\n",
       "      <th>disease_name</th>\n",
       "      <th>etype</th>\n",
       "    </tr>\n",
       "  </thead>\n",
       "  <tbody>\n",
       "    <tr>\n",
       "      <th>0</th>\n",
       "      <td>C3661315</td>\n",
       "      <td>rucaparib</td>\n",
       "      <td>C1299247</td>\n",
       "      <td>ovarian cancer</td>\n",
       "      <td>TREATS_CDtDO</td>\n",
       "    </tr>\n",
       "    <tr>\n",
       "      <th>1</th>\n",
       "      <td>C4044947</td>\n",
       "      <td>baricitinib</td>\n",
       "      <td>C0003873</td>\n",
       "      <td>rheumatoid arthritis</td>\n",
       "      <td>TREATS_CDtDO</td>\n",
       "    </tr>\n",
       "    <tr>\n",
       "      <th>2</th>\n",
       "      <td>C0520442</td>\n",
       "      <td>acetyldigitoxin</td>\n",
       "      <td>C0004238</td>\n",
       "      <td>Atrial fibrillation</td>\n",
       "      <td>TREATS_CDtDO</td>\n",
       "    </tr>\n",
       "    <tr>\n",
       "      <th>3</th>\n",
       "      <td>C0520442</td>\n",
       "      <td>acetyldigitoxin</td>\n",
       "      <td>C0018802</td>\n",
       "      <td>Congestive heart failure</td>\n",
       "      <td>TREATS_CDtDO</td>\n",
       "    </tr>\n",
       "    <tr>\n",
       "      <th>4</th>\n",
       "      <td>C0771809</td>\n",
       "      <td>acexamic acid</td>\n",
       "      <td>C0037299</td>\n",
       "      <td>Skin ulcer</td>\n",
       "      <td>TREATS_CDtDO</td>\n",
       "    </tr>\n",
       "  </tbody>\n",
       "</table>\n",
       "</div>"
      ],
      "text/plain": [
       "  chemical_id    chemical_name disease_id              disease_name  \\\n",
       "0    C3661315        rucaparib   C1299247            ovarian cancer   \n",
       "1    C4044947      baricitinib   C0003873      rheumatoid arthritis   \n",
       "2    C0520442  acetyldigitoxin   C0004238       Atrial fibrillation   \n",
       "3    C0520442  acetyldigitoxin   C0018802  Congestive heart failure   \n",
       "4    C0771809    acexamic acid   C0037299                Skin ulcer   \n",
       "\n",
       "          etype  \n",
       "0  TREATS_CDtDO  \n",
       "1  TREATS_CDtDO  \n",
       "2  TREATS_CDtDO  \n",
       "3  TREATS_CDtDO  \n",
       "4  TREATS_CDtDO  "
      ]
     },
     "execution_count": 10,
     "metadata": {},
     "output_type": "execute_result"
    }
   ],
   "source": [
    "gold.head()"
   ]
  },
  {
   "cell_type": "markdown",
   "metadata": {},
   "source": [
    "### Read all nodes"
   ]
  },
  {
   "cell_type": "code",
   "execution_count": 11,
   "metadata": {},
   "outputs": [],
   "source": [
    "nodes = (pd\n",
    "    .read_csv(\"data/nodes_7_metanode_slim.csv\", sep=',')\n",
    "    .rename(columns={\n",
    "        \":ID\": \"node_id\",\n",
    "        \":LABEL\": \"ntype\"\n",
    "    })\n",
    ")"
   ]
  },
  {
   "cell_type": "code",
   "execution_count": 12,
   "metadata": {},
   "outputs": [
    {
     "data": {
      "text/plain": [
       "(214590, 3)"
      ]
     },
     "execution_count": 12,
     "metadata": {},
     "output_type": "execute_result"
    }
   ],
   "source": [
    "nodes.shape"
   ]
  },
  {
   "cell_type": "code",
   "execution_count": 13,
   "metadata": {},
   "outputs": [
    {
     "data": {
      "text/html": [
       "<div>\n",
       "<style scoped>\n",
       "    .dataframe tbody tr th:only-of-type {\n",
       "        vertical-align: middle;\n",
       "    }\n",
       "\n",
       "    .dataframe tbody tr th {\n",
       "        vertical-align: top;\n",
       "    }\n",
       "\n",
       "    .dataframe thead th {\n",
       "        text-align: right;\n",
       "    }\n",
       "</style>\n",
       "<table border=\"1\" class=\"dataframe\">\n",
       "  <thead>\n",
       "    <tr style=\"text-align: right;\">\n",
       "      <th></th>\n",
       "      <th>node_id</th>\n",
       "      <th>name</th>\n",
       "      <th>ntype</th>\n",
       "    </tr>\n",
       "  </thead>\n",
       "  <tbody>\n",
       "    <tr>\n",
       "      <th>0</th>\n",
       "      <td>C0016192</td>\n",
       "      <td>Flagella</td>\n",
       "      <td>Anatomy</td>\n",
       "    </tr>\n",
       "    <tr>\n",
       "      <th>1</th>\n",
       "      <td>C0230349</td>\n",
       "      <td>Cubital fossa</td>\n",
       "      <td>Anatomy</td>\n",
       "    </tr>\n",
       "    <tr>\n",
       "      <th>2</th>\n",
       "      <td>C0447417</td>\n",
       "      <td>Entire retromolar area of mouth</td>\n",
       "      <td>Anatomy</td>\n",
       "    </tr>\n",
       "    <tr>\n",
       "      <th>3</th>\n",
       "      <td>C0033151</td>\n",
       "      <td>Primitive Gut</td>\n",
       "      <td>Anatomy</td>\n",
       "    </tr>\n",
       "    <tr>\n",
       "      <th>4</th>\n",
       "      <td>C0225861</td>\n",
       "      <td>Left auricular appendage</td>\n",
       "      <td>Anatomy</td>\n",
       "    </tr>\n",
       "  </tbody>\n",
       "</table>\n",
       "</div>"
      ],
      "text/plain": [
       "    node_id                             name    ntype\n",
       "0  C0016192                         Flagella  Anatomy\n",
       "1  C0230349                    Cubital fossa  Anatomy\n",
       "2  C0447417  Entire retromolar area of mouth  Anatomy\n",
       "3  C0033151                    Primitive Gut  Anatomy\n",
       "4  C0225861         Left auricular appendage  Anatomy"
      ]
     },
     "execution_count": 13,
     "metadata": {},
     "output_type": "execute_result"
    }
   ],
   "source": [
    "nodes.head()"
   ]
  },
  {
   "cell_type": "markdown",
   "metadata": {},
   "source": [
    "### Set nodes to those which appear in the gold standard or the edge list"
   ]
  },
  {
   "cell_type": "code",
   "execution_count": 14,
   "metadata": {},
   "outputs": [],
   "source": [
    "enodes = set(edges[\"source_id\"]) | set(edges[\"target_id\"])\n",
    "gnodes = set(gold[\"chemical_id\"]) | set(gold[\"disease_id\"])\n",
    "fnodes = (enodes | gnodes) & set(nodes[\"node_id\"])"
   ]
  },
  {
   "cell_type": "code",
   "execution_count": 15,
   "metadata": {},
   "outputs": [
    {
     "data": {
      "text/plain": [
       "210389"
      ]
     },
     "execution_count": 15,
     "metadata": {},
     "output_type": "execute_result"
    }
   ],
   "source": [
    "len(fnodes)"
   ]
  },
  {
   "cell_type": "code",
   "execution_count": 16,
   "metadata": {},
   "outputs": [],
   "source": [
    "nodes = nodes.query(\"node_id in @fnodes\")"
   ]
  },
  {
   "cell_type": "markdown",
   "metadata": {},
   "source": [
    "### Filter gold standard to nodes within node list"
   ]
  },
  {
   "cell_type": "code",
   "execution_count": 17,
   "metadata": {},
   "outputs": [],
   "source": [
    "subg = gold.query(\n",
    "    \"chemical_id in @fnodes and disease_id in @fnodes\"\n",
    ")"
   ]
  },
  {
   "cell_type": "code",
   "execution_count": 18,
   "metadata": {},
   "outputs": [
    {
     "data": {
      "text/plain": [
       "(6329, 5)"
      ]
     },
     "execution_count": 18,
     "metadata": {},
     "output_type": "execute_result"
    }
   ],
   "source": [
    "subg.shape"
   ]
  },
  {
   "cell_type": "code",
   "execution_count": 19,
   "metadata": {},
   "outputs": [
    {
     "data": {
      "text/html": [
       "<div>\n",
       "<style scoped>\n",
       "    .dataframe tbody tr th:only-of-type {\n",
       "        vertical-align: middle;\n",
       "    }\n",
       "\n",
       "    .dataframe tbody tr th {\n",
       "        vertical-align: top;\n",
       "    }\n",
       "\n",
       "    .dataframe thead th {\n",
       "        text-align: right;\n",
       "    }\n",
       "</style>\n",
       "<table border=\"1\" class=\"dataframe\">\n",
       "  <thead>\n",
       "    <tr style=\"text-align: right;\">\n",
       "      <th></th>\n",
       "      <th>chemical_id</th>\n",
       "      <th>chemical_name</th>\n",
       "      <th>disease_id</th>\n",
       "      <th>disease_name</th>\n",
       "      <th>etype</th>\n",
       "    </tr>\n",
       "  </thead>\n",
       "  <tbody>\n",
       "    <tr>\n",
       "      <th>2</th>\n",
       "      <td>C0520442</td>\n",
       "      <td>acetyldigitoxin</td>\n",
       "      <td>C0004238</td>\n",
       "      <td>Atrial fibrillation</td>\n",
       "      <td>TREATS_CDtDO</td>\n",
       "    </tr>\n",
       "    <tr>\n",
       "      <th>3</th>\n",
       "      <td>C0520442</td>\n",
       "      <td>acetyldigitoxin</td>\n",
       "      <td>C0018802</td>\n",
       "      <td>Congestive heart failure</td>\n",
       "      <td>TREATS_CDtDO</td>\n",
       "    </tr>\n",
       "    <tr>\n",
       "      <th>4</th>\n",
       "      <td>C0771809</td>\n",
       "      <td>acexamic acid</td>\n",
       "      <td>C0037299</td>\n",
       "      <td>Skin ulcer</td>\n",
       "      <td>TREATS_CDtDO</td>\n",
       "    </tr>\n",
       "    <tr>\n",
       "      <th>5</th>\n",
       "      <td>C0050558</td>\n",
       "      <td>acipimox</td>\n",
       "      <td>C0020476</td>\n",
       "      <td>Hyperlipoproteinemia</td>\n",
       "      <td>TREATS_CDtDO</td>\n",
       "    </tr>\n",
       "    <tr>\n",
       "      <th>8</th>\n",
       "      <td>C0021735</td>\n",
       "      <td>interferon alfa-2b</td>\n",
       "      <td>C0023434</td>\n",
       "      <td>chronic lymphocytic leukemia</td>\n",
       "      <td>TREATS_CDtDO</td>\n",
       "    </tr>\n",
       "  </tbody>\n",
       "</table>\n",
       "</div>"
      ],
      "text/plain": [
       "  chemical_id       chemical_name disease_id                  disease_name  \\\n",
       "2    C0520442     acetyldigitoxin   C0004238           Atrial fibrillation   \n",
       "3    C0520442     acetyldigitoxin   C0018802      Congestive heart failure   \n",
       "4    C0771809       acexamic acid   C0037299                    Skin ulcer   \n",
       "5    C0050558            acipimox   C0020476          Hyperlipoproteinemia   \n",
       "8    C0021735  interferon alfa-2b   C0023434  chronic lymphocytic leukemia   \n",
       "\n",
       "          etype  \n",
       "2  TREATS_CDtDO  \n",
       "3  TREATS_CDtDO  \n",
       "4  TREATS_CDtDO  \n",
       "5  TREATS_CDtDO  \n",
       "8  TREATS_CDtDO  "
      ]
     },
     "execution_count": 19,
     "metadata": {},
     "output_type": "execute_result"
    }
   ],
   "source": [
    "subg.head()"
   ]
  },
  {
   "cell_type": "code",
   "execution_count": 20,
   "metadata": {},
   "outputs": [
    {
     "data": {
      "text/plain": [
       "1618"
      ]
     },
     "execution_count": 20,
     "metadata": {},
     "output_type": "execute_result"
    }
   ],
   "source": [
    "subg[\"chemical_id\"].nunique()"
   ]
  },
  {
   "cell_type": "code",
   "execution_count": 21,
   "metadata": {},
   "outputs": [
    {
     "data": {
      "text/plain": [
       "963"
      ]
     },
     "execution_count": 21,
     "metadata": {},
     "output_type": "execute_result"
    }
   ],
   "source": [
    "subg[\"disease_id\"].nunique()"
   ]
  },
  {
   "cell_type": "markdown",
   "metadata": {},
   "source": [
    "---"
   ]
  },
  {
   "cell_type": "markdown",
   "metadata": {},
   "source": [
    "## Any relations between treats relations in the gold standard?"
   ]
  },
  {
   "cell_type": "code",
   "execution_count": 22,
   "metadata": {},
   "outputs": [
    {
     "data": {
      "text/html": [
       "<div>\n",
       "<style scoped>\n",
       "    .dataframe tbody tr th:only-of-type {\n",
       "        vertical-align: middle;\n",
       "    }\n",
       "\n",
       "    .dataframe tbody tr th {\n",
       "        vertical-align: top;\n",
       "    }\n",
       "\n",
       "    .dataframe thead th {\n",
       "        text-align: right;\n",
       "    }\n",
       "</style>\n",
       "<table border=\"1\" class=\"dataframe\">\n",
       "  <thead>\n",
       "    <tr style=\"text-align: right;\">\n",
       "      <th></th>\n",
       "      <th>source_id</th>\n",
       "      <th>target_id</th>\n",
       "      <th>etype</th>\n",
       "    </tr>\n",
       "  </thead>\n",
       "  <tbody>\n",
       "    <tr>\n",
       "      <th>0</th>\n",
       "      <td>C0011134</td>\n",
       "      <td>C0021572</td>\n",
       "      <td>REGULATES_CDreg&gt;CD</td>\n",
       "    </tr>\n",
       "    <tr>\n",
       "      <th>1</th>\n",
       "      <td>C0011134</td>\n",
       "      <td>C0021572</td>\n",
       "      <td>RELATED_TO_CDrtCD</td>\n",
       "    </tr>\n",
       "    <tr>\n",
       "      <th>2</th>\n",
       "      <td>C0016410</td>\n",
       "      <td>C0032961</td>\n",
       "      <td>AUGMENTS_CDagPS</td>\n",
       "    </tr>\n",
       "    <tr>\n",
       "      <th>3</th>\n",
       "      <td>C0016410</td>\n",
       "      <td>C0032961</td>\n",
       "      <td>DISRUPTS_CDdsPS</td>\n",
       "    </tr>\n",
       "  </tbody>\n",
       "</table>\n",
       "</div>"
      ],
      "text/plain": [
       "  source_id target_id               etype\n",
       "0  C0011134  C0021572  REGULATES_CDreg>CD\n",
       "1  C0011134  C0021572   RELATED_TO_CDrtCD\n",
       "2  C0016410  C0032961     AUGMENTS_CDagPS\n",
       "3  C0016410  C0032961     DISRUPTS_CDdsPS"
      ]
     },
     "execution_count": 22,
     "metadata": {},
     "output_type": "execute_result"
    }
   ],
   "source": [
    "(edges\n",
    "    .merge(\n",
    "        (subg\n",
    "            [[\"chemical_id\", \"disease_id\"]]\n",
    "            .rename(columns={\n",
    "                \"chemical_id\": \"source_id\",\n",
    "                \"disease_id\": \"target_id\"\n",
    "            })\n",
    "        ),\n",
    "        how=\"inner\", on=[\"source_id\", \"target_id\"]\n",
    "    )\n",
    ")"
   ]
  },
  {
   "cell_type": "code",
   "execution_count": 23,
   "metadata": {},
   "outputs": [
    {
     "data": {
      "text/html": [
       "<div>\n",
       "<style scoped>\n",
       "    .dataframe tbody tr th:only-of-type {\n",
       "        vertical-align: middle;\n",
       "    }\n",
       "\n",
       "    .dataframe tbody tr th {\n",
       "        vertical-align: top;\n",
       "    }\n",
       "\n",
       "    .dataframe thead th {\n",
       "        text-align: right;\n",
       "    }\n",
       "</style>\n",
       "<table border=\"1\" class=\"dataframe\">\n",
       "  <thead>\n",
       "    <tr style=\"text-align: right;\">\n",
       "      <th></th>\n",
       "      <th>source_id</th>\n",
       "      <th>target_id</th>\n",
       "      <th>etype</th>\n",
       "    </tr>\n",
       "  </thead>\n",
       "  <tbody>\n",
       "    <tr>\n",
       "      <th>0</th>\n",
       "      <td>C0021572</td>\n",
       "      <td>C0011134</td>\n",
       "      <td>RELATED_TO_CDrtCD</td>\n",
       "    </tr>\n",
       "    <tr>\n",
       "      <th>1</th>\n",
       "      <td>C1265175</td>\n",
       "      <td>C0663241</td>\n",
       "      <td>PRODUCES_LBpdCD</td>\n",
       "    </tr>\n",
       "  </tbody>\n",
       "</table>\n",
       "</div>"
      ],
      "text/plain": [
       "  source_id target_id              etype\n",
       "0  C0021572  C0011134  RELATED_TO_CDrtCD\n",
       "1  C1265175  C0663241    PRODUCES_LBpdCD"
      ]
     },
     "execution_count": 23,
     "metadata": {},
     "output_type": "execute_result"
    }
   ],
   "source": [
    "(edges\n",
    "    .merge(\n",
    "        (subg\n",
    "            [[\"chemical_id\", \"disease_id\"]]\n",
    "            .rename(columns={\n",
    "                \"chemical_id\": \"target_id\",\n",
    "                \"disease_id\": \"source_id\"\n",
    "            })\n",
    "        ),\n",
    "        how=\"inner\", on=[\"source_id\", \"target_id\"]\n",
    "    )\n",
    ")"
   ]
  },
  {
   "cell_type": "markdown",
   "metadata": {},
   "source": [
    "---"
   ]
  },
  {
   "cell_type": "markdown",
   "metadata": {},
   "source": [
    "## Assign Deepwalk ids"
   ]
  },
  {
   "cell_type": "code",
   "execution_count": 24,
   "metadata": {},
   "outputs": [],
   "source": [
    "node_map = (nodes\n",
    "    .sort_values(\"node_id\")\n",
    "    .reset_index(drop=True)\n",
    "    .reset_index()\n",
    "    .rename(columns={\"index\": \"node_uid\"})\n",
    ")"
   ]
  },
  {
   "cell_type": "code",
   "execution_count": 25,
   "metadata": {},
   "outputs": [
    {
     "data": {
      "text/plain": [
       "(210389, 4)"
      ]
     },
     "execution_count": 25,
     "metadata": {},
     "output_type": "execute_result"
    }
   ],
   "source": [
    "node_map.shape"
   ]
  },
  {
   "cell_type": "code",
   "execution_count": 26,
   "metadata": {},
   "outputs": [
    {
     "data": {
      "text/html": [
       "<div>\n",
       "<style scoped>\n",
       "    .dataframe tbody tr th:only-of-type {\n",
       "        vertical-align: middle;\n",
       "    }\n",
       "\n",
       "    .dataframe tbody tr th {\n",
       "        vertical-align: top;\n",
       "    }\n",
       "\n",
       "    .dataframe thead th {\n",
       "        text-align: right;\n",
       "    }\n",
       "</style>\n",
       "<table border=\"1\" class=\"dataframe\">\n",
       "  <thead>\n",
       "    <tr style=\"text-align: right;\">\n",
       "      <th></th>\n",
       "      <th>node_uid</th>\n",
       "      <th>node_id</th>\n",
       "      <th>name</th>\n",
       "      <th>ntype</th>\n",
       "    </tr>\n",
       "  </thead>\n",
       "  <tbody>\n",
       "    <tr>\n",
       "      <th>0</th>\n",
       "      <td>0</td>\n",
       "      <td>C0000039</td>\n",
       "      <td>1,2-Dipalmitoylphosphatidylcholine</td>\n",
       "      <td>Chemicals &amp; Drugs</td>\n",
       "    </tr>\n",
       "    <tr>\n",
       "      <th>1</th>\n",
       "      <td>1</td>\n",
       "      <td>C0000052</td>\n",
       "      <td>1,4-alpha-Glucan Branching Enzyme</td>\n",
       "      <td>Chemicals &amp; Drugs</td>\n",
       "    </tr>\n",
       "    <tr>\n",
       "      <th>2</th>\n",
       "      <td>2</td>\n",
       "      <td>C0000084</td>\n",
       "      <td>1-Carboxyglutamic Acid</td>\n",
       "      <td>Chemicals &amp; Drugs</td>\n",
       "    </tr>\n",
       "    <tr>\n",
       "      <th>3</th>\n",
       "      <td>3</td>\n",
       "      <td>C0000096</td>\n",
       "      <td>1-Methyl-3-isobutylxanthine</td>\n",
       "      <td>Chemicals &amp; Drugs</td>\n",
       "    </tr>\n",
       "    <tr>\n",
       "      <th>4</th>\n",
       "      <td>4</td>\n",
       "      <td>C0000097</td>\n",
       "      <td>1-Methyl-4-phenyl-1,2,3,6-tetrahydropyridine</td>\n",
       "      <td>Chemicals &amp; Drugs</td>\n",
       "    </tr>\n",
       "  </tbody>\n",
       "</table>\n",
       "</div>"
      ],
      "text/plain": [
       "   node_uid   node_id                                          name  \\\n",
       "0         0  C0000039            1,2-Dipalmitoylphosphatidylcholine   \n",
       "1         1  C0000052             1,4-alpha-Glucan Branching Enzyme   \n",
       "2         2  C0000084                        1-Carboxyglutamic Acid   \n",
       "3         3  C0000096                   1-Methyl-3-isobutylxanthine   \n",
       "4         4  C0000097  1-Methyl-4-phenyl-1,2,3,6-tetrahydropyridine   \n",
       "\n",
       "               ntype  \n",
       "0  Chemicals & Drugs  \n",
       "1  Chemicals & Drugs  \n",
       "2  Chemicals & Drugs  \n",
       "3  Chemicals & Drugs  \n",
       "4  Chemicals & Drugs  "
      ]
     },
     "execution_count": 26,
     "metadata": {},
     "output_type": "execute_result"
    }
   ],
   "source": [
    "node_map.head()"
   ]
  },
  {
   "cell_type": "markdown",
   "metadata": {},
   "source": [
    "## Add Deepwalk ids to edges"
   ]
  },
  {
   "cell_type": "code",
   "execution_count": 27,
   "metadata": {},
   "outputs": [],
   "source": [
    "fedges = (edges\n",
    "    .merge(\n",
    "        node_map[[\"node_uid\", \"node_id\"]],\n",
    "        how=\"inner\", left_on=\"source_id\", right_on=\"node_id\"\n",
    "    )\n",
    "    .merge(\n",
    "        node_map[[\"node_uid\", \"node_id\"]],\n",
    "        how=\"inner\", left_on=\"target_id\", right_on=\"node_id\"        \n",
    "    )\n",
    "    .drop([\"node_id_x\", \"node_id_y\"], axis=1)\n",
    "    .rename(columns={\n",
    "        \"node_uid_x\": \"source_uid\",\n",
    "        \"node_uid_y\": \"target_uid\"\n",
    "    })\n",
    "    .sort_values([\"source_uid\", \"target_uid\", \"etype\"])\n",
    "    .reset_index(drop=True)\n",
    ")"
   ]
  },
  {
   "cell_type": "code",
   "execution_count": 28,
   "metadata": {},
   "outputs": [
    {
     "data": {
      "text/plain": [
       "(9646780, 5)"
      ]
     },
     "execution_count": 28,
     "metadata": {},
     "output_type": "execute_result"
    }
   ],
   "source": [
    "fedges.shape"
   ]
  },
  {
   "cell_type": "code",
   "execution_count": 29,
   "metadata": {},
   "outputs": [
    {
     "data": {
      "text/html": [
       "<div>\n",
       "<style scoped>\n",
       "    .dataframe tbody tr th:only-of-type {\n",
       "        vertical-align: middle;\n",
       "    }\n",
       "\n",
       "    .dataframe tbody tr th {\n",
       "        vertical-align: top;\n",
       "    }\n",
       "\n",
       "    .dataframe thead th {\n",
       "        text-align: right;\n",
       "    }\n",
       "</style>\n",
       "<table border=\"1\" class=\"dataframe\">\n",
       "  <thead>\n",
       "    <tr style=\"text-align: right;\">\n",
       "      <th></th>\n",
       "      <th>source_id</th>\n",
       "      <th>target_id</th>\n",
       "      <th>etype</th>\n",
       "      <th>source_uid</th>\n",
       "      <th>target_uid</th>\n",
       "    </tr>\n",
       "  </thead>\n",
       "  <tbody>\n",
       "    <tr>\n",
       "      <th>0</th>\n",
       "      <td>C0000039</td>\n",
       "      <td>C0001026</td>\n",
       "      <td>REGULATES_CDreg&gt;CD</td>\n",
       "      <td>0</td>\n",
       "      <td>202</td>\n",
       "    </tr>\n",
       "    <tr>\n",
       "      <th>1</th>\n",
       "      <td>C0000039</td>\n",
       "      <td>C0001041</td>\n",
       "      <td>REGULATES_CDreg&gt;CD</td>\n",
       "      <td>0</td>\n",
       "      <td>207</td>\n",
       "    </tr>\n",
       "    <tr>\n",
       "      <th>2</th>\n",
       "      <td>C0000039</td>\n",
       "      <td>C0001492</td>\n",
       "      <td>REGULATES_CDreg&gt;CD</td>\n",
       "      <td>0</td>\n",
       "      <td>386</td>\n",
       "    </tr>\n",
       "    <tr>\n",
       "      <th>3</th>\n",
       "      <td>C0000039</td>\n",
       "      <td>C0001962</td>\n",
       "      <td>REGULATES_CDreg&gt;CD</td>\n",
       "      <td>0</td>\n",
       "      <td>528</td>\n",
       "    </tr>\n",
       "    <tr>\n",
       "      <th>4</th>\n",
       "      <td>C0000039</td>\n",
       "      <td>C0001975</td>\n",
       "      <td>RELATED_TO_CDrtCD</td>\n",
       "      <td>0</td>\n",
       "      <td>534</td>\n",
       "    </tr>\n",
       "  </tbody>\n",
       "</table>\n",
       "</div>"
      ],
      "text/plain": [
       "  source_id target_id               etype  source_uid  target_uid\n",
       "0  C0000039  C0001026  REGULATES_CDreg>CD           0         202\n",
       "1  C0000039  C0001041  REGULATES_CDreg>CD           0         207\n",
       "2  C0000039  C0001492  REGULATES_CDreg>CD           0         386\n",
       "3  C0000039  C0001962  REGULATES_CDreg>CD           0         528\n",
       "4  C0000039  C0001975   RELATED_TO_CDrtCD           0         534"
      ]
     },
     "execution_count": 29,
     "metadata": {},
     "output_type": "execute_result"
    }
   ],
   "source": [
    "fedges.head()"
   ]
  },
  {
   "cell_type": "markdown",
   "metadata": {},
   "source": [
    "## Save to file"
   ]
  },
  {
   "cell_type": "code",
   "execution_count": 30,
   "metadata": {},
   "outputs": [],
   "source": [
    "subg.to_csv(\"data/filtered_goldstd.tsv\", sep='\\t', index=False)\n",
    "\n",
    "node_map.to_csv(\"data/node_map.tsv\", sep='\\t', index=False)\n",
    "\n",
    "fedges.to_csv(\"data/edges.tsv\", sep='\\t', index=False)"
   ]
  }
 ],
 "metadata": {
  "kernelspec": {
   "display_name": "Python 3",
   "language": "python",
   "name": "python3"
  },
  "language_info": {
   "codemirror_mode": {
    "name": "ipython",
    "version": 3
   },
   "file_extension": ".py",
   "mimetype": "text/x-python",
   "name": "python",
   "nbconvert_exporter": "python",
   "pygments_lexer": "ipython3",
   "version": "3.5.2"
  }
 },
 "nbformat": 4,
 "nbformat_minor": 2
}
