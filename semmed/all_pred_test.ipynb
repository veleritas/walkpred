{
 "cells": [
  {
   "cell_type": "markdown",
   "metadata": {},
   "source": [
    "# Test the ability of deepwalk to make predictions on semmeddb\n",
    "\n",
    "Fold 0 only."
   ]
  },
  {
   "cell_type": "code",
   "execution_count": 1,
   "metadata": {},
   "outputs": [],
   "source": [
    "import pandas as pd\n",
    "import numpy as np\n",
    "import scipy\n",
    "\n",
    "from sklearn.linear_model import LogisticRegression\n",
    "\n",
    "from glob import glob\n",
    "import seaborn as sns\n",
    "from collections import defaultdict\n",
    "\n",
    "import matplotlib.pyplot as plt\n",
    "\n",
    "from sklearn.metrics import roc_curve, auc, precision_recall_curve\n",
    "\n",
    "from itertools import product\n",
    "from tqdm import tqdm\n",
    "\n",
    "import random"
   ]
  },
  {
   "cell_type": "code",
   "execution_count": 2,
   "metadata": {},
   "outputs": [],
   "source": [
    "%matplotlib inline"
   ]
  },
  {
   "cell_type": "code",
   "execution_count": 3,
   "metadata": {},
   "outputs": [],
   "source": [
    "np.random.seed(20171115)"
   ]
  },
  {
   "cell_type": "markdown",
   "metadata": {},
   "source": [
    "---"
   ]
  },
  {
   "cell_type": "markdown",
   "metadata": {},
   "source": [
    "## Read semmeddb embedding\n",
    "\n",
    "deepwalk parameters: 50 walks, 128 vecsize, 10 window size."
   ]
  },
  {
   "cell_type": "code",
   "execution_count": 4,
   "metadata": {},
   "outputs": [],
   "source": [
    "vecsize = 128\n",
    "\n",
    "features = (pd\n",
    "    .read_csv(\n",
    "        \"data/embeddings/sem50walk128vec10window.txt\",\n",
    "        sep=' ', skiprows=1,\n",
    "        names=[\"uid\"] + [\"f{}\".format(i) for i in range(vecsize)]\n",
    "    )\n",
    ")"
   ]
  },
  {
   "cell_type": "code",
   "execution_count": 5,
   "metadata": {},
   "outputs": [
    {
     "data": {
      "text/html": [
       "<div>\n",
       "<style scoped>\n",
       "    .dataframe tbody tr th:only-of-type {\n",
       "        vertical-align: middle;\n",
       "    }\n",
       "\n",
       "    .dataframe tbody tr th {\n",
       "        vertical-align: top;\n",
       "    }\n",
       "\n",
       "    .dataframe thead th {\n",
       "        text-align: right;\n",
       "    }\n",
       "</style>\n",
       "<table border=\"1\" class=\"dataframe\">\n",
       "  <thead>\n",
       "    <tr style=\"text-align: right;\">\n",
       "      <th></th>\n",
       "      <th>uid</th>\n",
       "      <th>f0</th>\n",
       "      <th>f1</th>\n",
       "      <th>f2</th>\n",
       "      <th>f3</th>\n",
       "      <th>f4</th>\n",
       "      <th>f5</th>\n",
       "      <th>f6</th>\n",
       "      <th>f7</th>\n",
       "      <th>f8</th>\n",
       "      <th>...</th>\n",
       "      <th>f118</th>\n",
       "      <th>f119</th>\n",
       "      <th>f120</th>\n",
       "      <th>f121</th>\n",
       "      <th>f122</th>\n",
       "      <th>f123</th>\n",
       "      <th>f124</th>\n",
       "      <th>f125</th>\n",
       "      <th>f126</th>\n",
       "      <th>f127</th>\n",
       "    </tr>\n",
       "  </thead>\n",
       "  <tbody>\n",
       "    <tr>\n",
       "      <th>0</th>\n",
       "      <td>11728</td>\n",
       "      <td>-0.364880</td>\n",
       "      <td>3.792458</td>\n",
       "      <td>-1.397374</td>\n",
       "      <td>0.759112</td>\n",
       "      <td>2.917878</td>\n",
       "      <td>-0.176155</td>\n",
       "      <td>-0.564531</td>\n",
       "      <td>0.842563</td>\n",
       "      <td>-0.224761</td>\n",
       "      <td>...</td>\n",
       "      <td>-4.287377</td>\n",
       "      <td>2.291287</td>\n",
       "      <td>1.062728</td>\n",
       "      <td>-1.022062</td>\n",
       "      <td>1.158340</td>\n",
       "      <td>1.375489</td>\n",
       "      <td>0.707240</td>\n",
       "      <td>-0.798140</td>\n",
       "      <td>0.265549</td>\n",
       "      <td>1.008619</td>\n",
       "    </tr>\n",
       "    <tr>\n",
       "      <th>1</th>\n",
       "      <td>2049</td>\n",
       "      <td>-2.405818</td>\n",
       "      <td>-3.281208</td>\n",
       "      <td>5.442310</td>\n",
       "      <td>1.949694</td>\n",
       "      <td>2.385109</td>\n",
       "      <td>-0.819011</td>\n",
       "      <td>-0.049137</td>\n",
       "      <td>-0.012040</td>\n",
       "      <td>-2.015012</td>\n",
       "      <td>...</td>\n",
       "      <td>-5.956447</td>\n",
       "      <td>2.372664</td>\n",
       "      <td>-1.301351</td>\n",
       "      <td>-0.197150</td>\n",
       "      <td>-0.536069</td>\n",
       "      <td>-3.845875</td>\n",
       "      <td>1.893585</td>\n",
       "      <td>2.490709</td>\n",
       "      <td>-3.045699</td>\n",
       "      <td>-2.791694</td>\n",
       "    </tr>\n",
       "    <tr>\n",
       "      <th>2</th>\n",
       "      <td>8081</td>\n",
       "      <td>0.658723</td>\n",
       "      <td>0.207870</td>\n",
       "      <td>5.323104</td>\n",
       "      <td>-1.736953</td>\n",
       "      <td>5.051743</td>\n",
       "      <td>-1.999842</td>\n",
       "      <td>-3.380626</td>\n",
       "      <td>0.289445</td>\n",
       "      <td>2.042453</td>\n",
       "      <td>...</td>\n",
       "      <td>0.520123</td>\n",
       "      <td>-0.190908</td>\n",
       "      <td>0.161119</td>\n",
       "      <td>0.818972</td>\n",
       "      <td>-1.207367</td>\n",
       "      <td>0.406293</td>\n",
       "      <td>-0.056115</td>\n",
       "      <td>1.821121</td>\n",
       "      <td>1.328484</td>\n",
       "      <td>-4.362211</td>\n",
       "    </tr>\n",
       "    <tr>\n",
       "      <th>3</th>\n",
       "      <td>4369</td>\n",
       "      <td>-1.625476</td>\n",
       "      <td>7.181020</td>\n",
       "      <td>-3.710097</td>\n",
       "      <td>-3.370679</td>\n",
       "      <td>2.942568</td>\n",
       "      <td>-2.319238</td>\n",
       "      <td>2.756862</td>\n",
       "      <td>-0.547414</td>\n",
       "      <td>2.251278</td>\n",
       "      <td>...</td>\n",
       "      <td>-1.954914</td>\n",
       "      <td>2.358400</td>\n",
       "      <td>2.579734</td>\n",
       "      <td>-1.074741</td>\n",
       "      <td>0.438799</td>\n",
       "      <td>0.064437</td>\n",
       "      <td>0.036294</td>\n",
       "      <td>-1.126031</td>\n",
       "      <td>2.002540</td>\n",
       "      <td>0.159338</td>\n",
       "    </tr>\n",
       "    <tr>\n",
       "      <th>4</th>\n",
       "      <td>43199</td>\n",
       "      <td>0.880009</td>\n",
       "      <td>4.827002</td>\n",
       "      <td>2.897967</td>\n",
       "      <td>0.444787</td>\n",
       "      <td>-2.483543</td>\n",
       "      <td>1.696095</td>\n",
       "      <td>-6.284511</td>\n",
       "      <td>1.747533</td>\n",
       "      <td>1.588262</td>\n",
       "      <td>...</td>\n",
       "      <td>-3.107903</td>\n",
       "      <td>-0.838388</td>\n",
       "      <td>2.420102</td>\n",
       "      <td>-2.941679</td>\n",
       "      <td>5.887329</td>\n",
       "      <td>0.134784</td>\n",
       "      <td>1.972876</td>\n",
       "      <td>-1.104905</td>\n",
       "      <td>2.946468</td>\n",
       "      <td>2.954355</td>\n",
       "    </tr>\n",
       "  </tbody>\n",
       "</table>\n",
       "<p>5 rows × 129 columns</p>\n",
       "</div>"
      ],
      "text/plain": [
       "     uid        f0        f1        f2        f3        f4        f5  \\\n",
       "0  11728 -0.364880  3.792458 -1.397374  0.759112  2.917878 -0.176155   \n",
       "1   2049 -2.405818 -3.281208  5.442310  1.949694  2.385109 -0.819011   \n",
       "2   8081  0.658723  0.207870  5.323104 -1.736953  5.051743 -1.999842   \n",
       "3   4369 -1.625476  7.181020 -3.710097 -3.370679  2.942568 -2.319238   \n",
       "4  43199  0.880009  4.827002  2.897967  0.444787 -2.483543  1.696095   \n",
       "\n",
       "         f6        f7        f8    ...         f118      f119      f120  \\\n",
       "0 -0.564531  0.842563 -0.224761    ...    -4.287377  2.291287  1.062728   \n",
       "1 -0.049137 -0.012040 -2.015012    ...    -5.956447  2.372664 -1.301351   \n",
       "2 -3.380626  0.289445  2.042453    ...     0.520123 -0.190908  0.161119   \n",
       "3  2.756862 -0.547414  2.251278    ...    -1.954914  2.358400  2.579734   \n",
       "4 -6.284511  1.747533  1.588262    ...    -3.107903 -0.838388  2.420102   \n",
       "\n",
       "       f121      f122      f123      f124      f125      f126      f127  \n",
       "0 -1.022062  1.158340  1.375489  0.707240 -0.798140  0.265549  1.008619  \n",
       "1 -0.197150 -0.536069 -3.845875  1.893585  2.490709 -3.045699 -2.791694  \n",
       "2  0.818972 -1.207367  0.406293 -0.056115  1.821121  1.328484 -4.362211  \n",
       "3 -1.074741  0.438799  0.064437  0.036294 -1.126031  2.002540  0.159338  \n",
       "4 -2.941679  5.887329  0.134784  1.972876 -1.104905  2.946468  2.954355  \n",
       "\n",
       "[5 rows x 129 columns]"
      ]
     },
     "execution_count": 5,
     "metadata": {},
     "output_type": "execute_result"
    }
   ],
   "source": [
    "features.head()"
   ]
  },
  {
   "cell_type": "code",
   "execution_count": 6,
   "metadata": {},
   "outputs": [
    {
     "data": {
      "text/plain": [
       "(210389, 129)"
      ]
     },
     "execution_count": 6,
     "metadata": {},
     "output_type": "execute_result"
    }
   ],
   "source": [
    "features.shape"
   ]
  },
  {
   "cell_type": "markdown",
   "metadata": {},
   "source": [
    "## Read training data"
   ]
  },
  {
   "cell_type": "code",
   "execution_count": 7,
   "metadata": {},
   "outputs": [],
   "source": [
    "traind = pd.read_csv(\"data/training/clean_train0.tsv\", sep='\\t')"
   ]
  },
  {
   "cell_type": "code",
   "execution_count": 8,
   "metadata": {},
   "outputs": [
    {
     "data": {
      "text/html": [
       "<div>\n",
       "<style scoped>\n",
       "    .dataframe tbody tr th:only-of-type {\n",
       "        vertical-align: middle;\n",
       "    }\n",
       "\n",
       "    .dataframe tbody tr th {\n",
       "        vertical-align: top;\n",
       "    }\n",
       "\n",
       "    .dataframe thead th {\n",
       "        text-align: right;\n",
       "    }\n",
       "</style>\n",
       "<table border=\"1\" class=\"dataframe\">\n",
       "  <thead>\n",
       "    <tr style=\"text-align: right;\">\n",
       "      <th></th>\n",
       "      <th>chemical_id</th>\n",
       "      <th>disease_id</th>\n",
       "      <th>etype</th>\n",
       "      <th>chemical_uid</th>\n",
       "      <th>disease_uid</th>\n",
       "    </tr>\n",
       "  </thead>\n",
       "  <tbody>\n",
       "    <tr>\n",
       "      <th>0</th>\n",
       "      <td>C0000473</td>\n",
       "      <td>C0000810</td>\n",
       "      <td>0</td>\n",
       "      <td>58</td>\n",
       "      <td>123</td>\n",
       "    </tr>\n",
       "    <tr>\n",
       "      <th>1</th>\n",
       "      <td>C0000477</td>\n",
       "      <td>C0000810</td>\n",
       "      <td>0</td>\n",
       "      <td>59</td>\n",
       "      <td>123</td>\n",
       "    </tr>\n",
       "    <tr>\n",
       "      <th>2</th>\n",
       "      <td>C0000618</td>\n",
       "      <td>C0000810</td>\n",
       "      <td>0</td>\n",
       "      <td>80</td>\n",
       "      <td>123</td>\n",
       "    </tr>\n",
       "    <tr>\n",
       "      <th>3</th>\n",
       "      <td>C0000948</td>\n",
       "      <td>C0000810</td>\n",
       "      <td>0</td>\n",
       "      <td>164</td>\n",
       "      <td>123</td>\n",
       "    </tr>\n",
       "    <tr>\n",
       "      <th>4</th>\n",
       "      <td>C0000956</td>\n",
       "      <td>C0000810</td>\n",
       "      <td>0</td>\n",
       "      <td>167</td>\n",
       "      <td>123</td>\n",
       "    </tr>\n",
       "  </tbody>\n",
       "</table>\n",
       "</div>"
      ],
      "text/plain": [
       "  chemical_id disease_id  etype  chemical_uid  disease_uid\n",
       "0    C0000473   C0000810      0            58          123\n",
       "1    C0000477   C0000810      0            59          123\n",
       "2    C0000618   C0000810      0            80          123\n",
       "3    C0000948   C0000810      0           164          123\n",
       "4    C0000956   C0000810      0           167          123"
      ]
     },
     "execution_count": 8,
     "metadata": {},
     "output_type": "execute_result"
    }
   ],
   "source": [
    "traind.head()"
   ]
  },
  {
   "cell_type": "code",
   "execution_count": 9,
   "metadata": {},
   "outputs": [
    {
     "data": {
      "text/plain": [
       "(1094871, 5)"
      ]
     },
     "execution_count": 9,
     "metadata": {},
     "output_type": "execute_result"
    }
   ],
   "source": [
    "traind.shape"
   ]
  },
  {
   "cell_type": "markdown",
   "metadata": {},
   "source": [
    "## Subsample training data"
   ]
  },
  {
   "cell_type": "code",
   "execution_count": 10,
   "metadata": {},
   "outputs": [],
   "source": [
    "trainpos = traind.query(\"etype == 1\")\n",
    "K = 3\n",
    "\n",
    "train = (trainpos\n",
    "    .append(\n",
    "        (traind\n",
    "            .query(\"etype == 0\")\n",
    "            .sample(len(trainpos) * K)\n",
    "        )\n",
    "    )\n",
    "    .reset_index(drop=True)\n",
    ")"
   ]
  },
  {
   "cell_type": "markdown",
   "metadata": {},
   "source": [
    "## Add features"
   ]
  },
  {
   "cell_type": "code",
   "execution_count": 11,
   "metadata": {},
   "outputs": [],
   "source": [
    "def add_features(df, features):\n",
    "    return (df\n",
    "        .merge(\n",
    "            features, how=\"inner\", left_on=\"chemical_uid\", right_on=\"uid\"\n",
    "        )\n",
    "        .drop(\"uid\", axis=1)\n",
    "        .merge(\n",
    "            features, how=\"inner\", left_on=\"disease_uid\", right_on=\"uid\"\n",
    "        )\n",
    "        .drop(\"uid\", axis=1)\n",
    "    )\n",
    "\n",
    "def convolv_features(df, features, vecsize):\n",
    "    reg = add_features(df, features)\n",
    "    \n",
    "    # do multiply and get rid of old features\n",
    "    for i in range(vecsize):\n",
    "        reg[\"conv{}\".format(i)] = reg[\"f{}_x\".format(i)] * reg[\"f{}_y\".format(i)]\n",
    "\n",
    "    reg = (reg\n",
    "        .drop(\n",
    "            [\"f{}_x\".format(i) for i in range(vecsize)], axis=1\n",
    "        )\n",
    "        .drop(\n",
    "            [\"f{}_y\".format(i) for i in range(vecsize)], axis=1\n",
    "        )\n",
    "    )\n",
    "        \n",
    "    return reg"
   ]
  },
  {
   "cell_type": "code",
   "execution_count": 12,
   "metadata": {},
   "outputs": [],
   "source": [
    "tmp = convolv_features(train, features, vecsize)"
   ]
  },
  {
   "cell_type": "markdown",
   "metadata": {},
   "source": [
    "## Train classifier"
   ]
  },
  {
   "cell_type": "code",
   "execution_count": 13,
   "metadata": {},
   "outputs": [
    {
     "data": {
      "text/plain": [
       "LogisticRegression(C=1000000000.0, class_weight=None, dual=False,\n",
       "          fit_intercept=True, intercept_scaling=1, max_iter=100,\n",
       "          multi_class='ovr', n_jobs=1, penalty='l2', random_state=None,\n",
       "          solver='liblinear', tol=0.0001, verbose=0, warm_start=False)"
      ]
     },
     "execution_count": 13,
     "metadata": {},
     "output_type": "execute_result"
    }
   ],
   "source": [
    "feat_cols = [\"conv{}\".format(i) for i in range(vecsize)]\n",
    "\n",
    "model = LogisticRegression(C=1e9)\n",
    "model.fit(tmp[feat_cols], tmp[\"etype\"])"
   ]
  },
  {
   "cell_type": "markdown",
   "metadata": {},
   "source": [
    "## Predict on holdout data"
   ]
  },
  {
   "cell_type": "code",
   "execution_count": 14,
   "metadata": {},
   "outputs": [],
   "source": [
    "holdoutd = pd.read_csv(\"data/holdout/clean_holdout0.tsv\", sep='\\t')"
   ]
  },
  {
   "cell_type": "code",
   "execution_count": 15,
   "metadata": {},
   "outputs": [],
   "source": [
    "test = convolv_features(holdoutd.drop(\"etype\", axis=1), features, vecsize)\n",
    "\n",
    "featcols = [\"conv{}\".format(i) for i in range(vecsize)]\n",
    "ans = test.assign(predval = lambda df: model.predict_proba(df[featcols])[:, 1])\n",
    "\n",
    "results = (ans\n",
    "    [[\"chemical_id\", \"disease_id\", \"predval\"]]\n",
    "    .merge(\n",
    "        holdoutd[[\"chemical_id\", \"disease_id\", \"etype\"]],\n",
    "        how=\"inner\", on=[\"chemical_id\", \"disease_id\"]\n",
    "    )\n",
    ")"
   ]
  },
  {
   "cell_type": "code",
   "execution_count": 16,
   "metadata": {},
   "outputs": [],
   "source": [
    "results = results.rename(columns={\"etype\": \"category\"})"
   ]
  },
  {
   "cell_type": "code",
   "execution_count": 17,
   "metadata": {},
   "outputs": [
    {
     "data": {
      "text/html": [
       "<div>\n",
       "<style scoped>\n",
       "    .dataframe tbody tr th:only-of-type {\n",
       "        vertical-align: middle;\n",
       "    }\n",
       "\n",
       "    .dataframe tbody tr th {\n",
       "        vertical-align: top;\n",
       "    }\n",
       "\n",
       "    .dataframe thead th {\n",
       "        text-align: right;\n",
       "    }\n",
       "</style>\n",
       "<table border=\"1\" class=\"dataframe\">\n",
       "  <thead>\n",
       "    <tr style=\"text-align: right;\">\n",
       "      <th></th>\n",
       "      <th>chemical_id</th>\n",
       "      <th>disease_id</th>\n",
       "      <th>predval</th>\n",
       "      <th>category</th>\n",
       "    </tr>\n",
       "  </thead>\n",
       "  <tbody>\n",
       "    <tr>\n",
       "      <th>0</th>\n",
       "      <td>C0000473</td>\n",
       "      <td>C0001144</td>\n",
       "      <td>0.280261</td>\n",
       "      <td>0</td>\n",
       "    </tr>\n",
       "    <tr>\n",
       "      <th>1</th>\n",
       "      <td>C0000545</td>\n",
       "      <td>C0001144</td>\n",
       "      <td>0.460353</td>\n",
       "      <td>0</td>\n",
       "    </tr>\n",
       "    <tr>\n",
       "      <th>2</th>\n",
       "      <td>C0000618</td>\n",
       "      <td>C0001144</td>\n",
       "      <td>0.158595</td>\n",
       "      <td>0</td>\n",
       "    </tr>\n",
       "    <tr>\n",
       "      <th>3</th>\n",
       "      <td>C0000956</td>\n",
       "      <td>C0001144</td>\n",
       "      <td>0.013283</td>\n",
       "      <td>0</td>\n",
       "    </tr>\n",
       "    <tr>\n",
       "      <th>4</th>\n",
       "      <td>C0000970</td>\n",
       "      <td>C0001144</td>\n",
       "      <td>0.065635</td>\n",
       "      <td>0</td>\n",
       "    </tr>\n",
       "  </tbody>\n",
       "</table>\n",
       "</div>"
      ],
      "text/plain": [
       "  chemical_id disease_id   predval  category\n",
       "0    C0000473   C0001144  0.280261         0\n",
       "1    C0000545   C0001144  0.460353         0\n",
       "2    C0000618   C0001144  0.158595         0\n",
       "3    C0000956   C0001144  0.013283         0\n",
       "4    C0000970   C0001144  0.065635         0"
      ]
     },
     "execution_count": 17,
     "metadata": {},
     "output_type": "execute_result"
    }
   ],
   "source": [
    "results.head()"
   ]
  },
  {
   "cell_type": "markdown",
   "metadata": {},
   "source": [
    "---"
   ]
  },
  {
   "cell_type": "markdown",
   "metadata": {},
   "source": [
    "## Draw curves"
   ]
  },
  {
   "cell_type": "code",
   "execution_count": 18,
   "metadata": {},
   "outputs": [],
   "source": [
    "def plot_roc(res_df, metrics, name_map, title=\"ROC\"):\n",
    "    auroc_results = defaultdict(dict)\n",
    "\n",
    "    for metric in metrics:\n",
    "        tmp = res_df[[\"category\", metric]].sort_values(metric)\n",
    "        fpr, tpr, thresh = roc_curve(tmp[\"category\"], tmp[metric])\n",
    "\n",
    "        auroc_results[metric]['fpr'] = fpr\n",
    "        auroc_results[metric]['tpr'] = tpr\n",
    "        auroc_results[metric]['thresh'] = thresh\n",
    "        auroc_results[metric]['auc'] = auc(fpr, tpr)\n",
    "\n",
    "    lw = 3\n",
    "    x = [i for i in np.arange(0.0,1.01,.01)]\n",
    "    plt.plot(x,x, 'k--', lw=2)\n",
    "    for metric in metrics:\n",
    "        plt.plot(auroc_results[metric]['fpr'], auroc_results[metric]['tpr'], lw=lw,\n",
    "                 label='{0} (area = {1:0.2f})'\n",
    "                     .format(name_map[metric], auroc_results[metric]['auc']))\n",
    "    fig = plt.gcf()\n",
    "    fig.set_size_inches(8, 7)\n",
    "    fig.set_tight_layout(False)\n",
    "    plt.xlim([-0.01, 1.01])\n",
    "    plt.ylim([-0.01, 1.01])\n",
    "    plt.xticks(size=16)\n",
    "    plt.yticks(size=16)\n",
    "    plt.xlabel('FPR', size=20)\n",
    "    plt.ylabel('TPR', size=20)\n",
    "    plt.title(title, size=24)\n",
    "    plt.legend(loc=\"lower right\", frameon=True, shadow=True, prop={'size':16});"
   ]
  },
  {
   "cell_type": "code",
   "execution_count": 19,
   "metadata": {},
   "outputs": [],
   "source": [
    "def plot_pr(res_df, metrics, name_map, title=\"ROC\"):\n",
    "    auroc_results = defaultdict(dict)\n",
    "\n",
    "    for metric in metrics:\n",
    "        tmp = res_df[[\"category\", metric]]\n",
    "        precision, recall, thresh = precision_recall_curve(tmp[\"category\"], tmp[metric])\n",
    "\n",
    "        auroc_results[metric]['precision'] = precision\n",
    "        auroc_results[metric]['recall'] = recall\n",
    "        auroc_results[metric]['thresh'] = thresh\n",
    "        auroc_results[metric]['auc'] = auc(recall, precision)\n",
    "\n",
    "    lw = 3\n",
    "    x = [i for i in np.arange(0.0,1.01,.01)]\n",
    "    for metric in metrics:\n",
    "        plt.plot(auroc_results[metric]['recall'], auroc_results[metric]['precision'], lw=lw,\n",
    "                 label='{0} (area = {1:0.2f})'\n",
    "                     .format(name_map[metric], auroc_results[metric]['auc']))\n",
    "    fig = plt.gcf()\n",
    "    fig.set_size_inches(8, 7)\n",
    "    fig.set_tight_layout(False)\n",
    "    plt.xlim([-0.01, 1.01])\n",
    "    plt.ylim([-0.01, 1.01])\n",
    "    plt.xticks(size=16)\n",
    "    plt.yticks(size=16)\n",
    "    plt.xlabel('Recall', size=20)\n",
    "    plt.ylabel('Precision', size=20)\n",
    "    plt.title(title, size=24)\n",
    "    plt.legend(loc=\"upper right\", frameon=True, shadow=True, prop={'size':16});"
   ]
  },
  {
   "cell_type": "code",
   "execution_count": 20,
   "metadata": {},
   "outputs": [
    {
     "data": {
      "image/png": "[encoded data removed]",
      "text/plain": [
       "<matplotlib.figure.Figure at 0x7fb4be89fda0>"
      ]
     },
     "metadata": {},
     "output_type": "display_data"
    }
   ],
   "source": [
    "plot_roc(\n",
    "    results,\n",
    "    [\"predval\"],\n",
    "    {\"predval\": \"vecsize 128\"},\n",
    "    title=\"SemmedDB ROC curve\"\n",
    ")"
   ]
  },
  {
   "cell_type": "code",
   "execution_count": 21,
   "metadata": {},
   "outputs": [
    {
     "data": {
      "image/png": "[encoded data removed]",
      "text/plain": [
       "<matplotlib.figure.Figure at 0x7fb4be89fe48>"
      ]
     },
     "metadata": {},
     "output_type": "display_data"
    }
   ],
   "source": [
    "plot_pr(\n",
    "    results,\n",
    "    [\"predval\"],\n",
    "    {\"predval\": \"vecsize 128\"},\n",
    "    title=\"SemmedDB PR curve\"\n",
    ")"
   ]
  },
  {
   "cell_type": "markdown",
   "metadata": {},
   "source": [
    "---"
   ]
  },
  {
   "cell_type": "markdown",
   "metadata": {},
   "source": [
    "## Create full predictions on all chemical-disease pairs in semmeddb"
   ]
  },
  {
   "cell_type": "code",
   "execution_count": 22,
   "metadata": {},
   "outputs": [],
   "source": [
    "nodemap = pd.read_csv(\"data/node_map.tsv\", sep='\\t')"
   ]
  },
  {
   "cell_type": "code",
   "execution_count": 23,
   "metadata": {},
   "outputs": [
    {
     "data": {
      "text/html": [
       "<div>\n",
       "<style scoped>\n",
       "    .dataframe tbody tr th:only-of-type {\n",
       "        vertical-align: middle;\n",
       "    }\n",
       "\n",
       "    .dataframe tbody tr th {\n",
       "        vertical-align: top;\n",
       "    }\n",
       "\n",
       "    .dataframe thead th {\n",
       "        text-align: right;\n",
       "    }\n",
       "</style>\n",
       "<table border=\"1\" class=\"dataframe\">\n",
       "  <thead>\n",
       "    <tr style=\"text-align: right;\">\n",
       "      <th></th>\n",
       "      <th>node_uid</th>\n",
       "      <th>node_id</th>\n",
       "      <th>name</th>\n",
       "      <th>ntype</th>\n",
       "    </tr>\n",
       "  </thead>\n",
       "  <tbody>\n",
       "    <tr>\n",
       "      <th>0</th>\n",
       "      <td>0</td>\n",
       "      <td>C0000039</td>\n",
       "      <td>1,2-Dipalmitoylphosphatidylcholine</td>\n",
       "      <td>Chemicals &amp; Drugs</td>\n",
       "    </tr>\n",
       "    <tr>\n",
       "      <th>1</th>\n",
       "      <td>1</td>\n",
       "      <td>C0000052</td>\n",
       "      <td>1,4-alpha-Glucan Branching Enzyme</td>\n",
       "      <td>Chemicals &amp; Drugs</td>\n",
       "    </tr>\n",
       "    <tr>\n",
       "      <th>2</th>\n",
       "      <td>2</td>\n",
       "      <td>C0000084</td>\n",
       "      <td>1-Carboxyglutamic Acid</td>\n",
       "      <td>Chemicals &amp; Drugs</td>\n",
       "    </tr>\n",
       "    <tr>\n",
       "      <th>3</th>\n",
       "      <td>3</td>\n",
       "      <td>C0000096</td>\n",
       "      <td>1-Methyl-3-isobutylxanthine</td>\n",
       "      <td>Chemicals &amp; Drugs</td>\n",
       "    </tr>\n",
       "    <tr>\n",
       "      <th>4</th>\n",
       "      <td>4</td>\n",
       "      <td>C0000097</td>\n",
       "      <td>1-Methyl-4-phenyl-1,2,3,6-tetrahydropyridine</td>\n",
       "      <td>Chemicals &amp; Drugs</td>\n",
       "    </tr>\n",
       "  </tbody>\n",
       "</table>\n",
       "</div>"
      ],
      "text/plain": [
       "   node_uid   node_id                                          name  \\\n",
       "0         0  C0000039            1,2-Dipalmitoylphosphatidylcholine   \n",
       "1         1  C0000052             1,4-alpha-Glucan Branching Enzyme   \n",
       "2         2  C0000084                        1-Carboxyglutamic Acid   \n",
       "3         3  C0000096                   1-Methyl-3-isobutylxanthine   \n",
       "4         4  C0000097  1-Methyl-4-phenyl-1,2,3,6-tetrahydropyridine   \n",
       "\n",
       "               ntype  \n",
       "0  Chemicals & Drugs  \n",
       "1  Chemicals & Drugs  \n",
       "2  Chemicals & Drugs  \n",
       "3  Chemicals & Drugs  \n",
       "4  Chemicals & Drugs  "
      ]
     },
     "execution_count": 23,
     "metadata": {},
     "output_type": "execute_result"
    }
   ],
   "source": [
    "nodemap.head()"
   ]
  },
  {
   "cell_type": "code",
   "execution_count": 24,
   "metadata": {},
   "outputs": [
    {
     "data": {
      "text/plain": [
       "(214590, 4)"
      ]
     },
     "execution_count": 24,
     "metadata": {},
     "output_type": "execute_result"
    }
   ],
   "source": [
    "nodemap.shape"
   ]
  },
  {
   "cell_type": "code",
   "execution_count": 25,
   "metadata": {},
   "outputs": [
    {
     "data": {
      "text/plain": [
       "Chemicals & Drugs              84614\n",
       "Living Beings                  48191\n",
       "Disorders                      37284\n",
       "Genes & Molecular Sequences    20539\n",
       "Anatomy                        15100\n",
       "Physiology                      7727\n",
       "Phenomena                       1135\n",
       "Name: ntype, dtype: int64"
      ]
     },
     "execution_count": 25,
     "metadata": {},
     "output_type": "execute_result"
    }
   ],
   "source": [
    "nodemap[\"ntype\"].value_counts()"
   ]
  },
  {
   "cell_type": "markdown",
   "metadata": {},
   "source": [
    "## Generate all chemical/disease pairs in semmeddb"
   ]
  },
  {
   "cell_type": "markdown",
   "metadata": {},
   "source": [
    "3 billion pairs is too large to store at the moment, so we will do a sampling instead"
   ]
  },
  {
   "cell_type": "markdown",
   "metadata": {},
   "source": [
    "some of the nodes in the original nodemap don't exist in the generated feature matrix, i think because they are unconnected nodes which don't go anywhere in the adjlist (thus are left out of walking)\n",
    "\n",
    "need to verify this later\n",
    "\n",
    "for now just amke sure that all nodes are from the existing set to avoid key errors\n",
    "\n"
   ]
  },
  {
   "cell_type": "code",
   "execution_count": 26,
   "metadata": {},
   "outputs": [],
   "source": [
    "def get_simple_features(fname):\n",
    "    \"\"\"Get a dictionary of embeddings for all nodes.\n",
    "    Faster than iterrowing the feature dataframe by 4x\n",
    "    \"\"\"\n",
    "\n",
    "    res = dict()\n",
    "    with open(fname, \"r\") as fin:\n",
    "        nodes = int(fin.readline().split(\" \")[0])\n",
    "\n",
    "        for line in tqdm(fin, total=len(features)):\n",
    "            vals = line.rstrip(\"\\n\").split(\" \")\n",
    "\n",
    "            uid = int(vals[0])\n",
    "            res[uid] = list(map(float, vals[1:]))\n",
    "            \n",
    "    return res"
   ]
  },
  {
   "cell_type": "code",
   "execution_count": 27,
   "metadata": {},
   "outputs": [
    {
     "name": "stderr",
     "output_type": "stream",
     "text": [
      "100%|██████████| 210389/210389 [00:08<00:00, 23841.26it/s]\n"
     ]
    }
   ],
   "source": [
    "sfeats = get_simple_features(\"data/embeddings/sem50walk128vec10window.txt\")"
   ]
  },
  {
   "cell_type": "code",
   "execution_count": 28,
   "metadata": {},
   "outputs": [],
   "source": [
    "def convolv(chemuid, diseuid):\n",
    "    \"\"\"Get convolved features.\"\"\"\n",
    "    return [\n",
    "        sfeats[chemuid][i] * sfeats[diseuid][i]\n",
    "        for i in range(vecsize)\n",
    "    ]"
   ]
  },
  {
   "cell_type": "markdown",
   "metadata": {},
   "source": [
    "### Filter to nodes which have embeddings"
   ]
  },
  {
   "cell_type": "code",
   "execution_count": 29,
   "metadata": {},
   "outputs": [],
   "source": [
    "tmp = set(features[\"uid\"])\n",
    "\n",
    "goodnodes = nodemap.query(\"node_uid in @tmp\")"
   ]
  },
  {
   "cell_type": "code",
   "execution_count": 30,
   "metadata": {},
   "outputs": [
    {
     "data": {
      "text/plain": [
       "(210389, 4)"
      ]
     },
     "execution_count": 30,
     "metadata": {},
     "output_type": "execute_result"
    }
   ],
   "source": [
    "goodnodes.shape"
   ]
  },
  {
   "cell_type": "code",
   "execution_count": 31,
   "metadata": {},
   "outputs": [
    {
     "data": {
      "text/html": [
       "<div>\n",
       "<style scoped>\n",
       "    .dataframe tbody tr th:only-of-type {\n",
       "        vertical-align: middle;\n",
       "    }\n",
       "\n",
       "    .dataframe tbody tr th {\n",
       "        vertical-align: top;\n",
       "    }\n",
       "\n",
       "    .dataframe thead th {\n",
       "        text-align: right;\n",
       "    }\n",
       "</style>\n",
       "<table border=\"1\" class=\"dataframe\">\n",
       "  <thead>\n",
       "    <tr style=\"text-align: right;\">\n",
       "      <th></th>\n",
       "      <th>node_uid</th>\n",
       "      <th>node_id</th>\n",
       "      <th>name</th>\n",
       "      <th>ntype</th>\n",
       "    </tr>\n",
       "  </thead>\n",
       "  <tbody>\n",
       "    <tr>\n",
       "      <th>0</th>\n",
       "      <td>0</td>\n",
       "      <td>C0000039</td>\n",
       "      <td>1,2-Dipalmitoylphosphatidylcholine</td>\n",
       "      <td>Chemicals &amp; Drugs</td>\n",
       "    </tr>\n",
       "    <tr>\n",
       "      <th>1</th>\n",
       "      <td>1</td>\n",
       "      <td>C0000052</td>\n",
       "      <td>1,4-alpha-Glucan Branching Enzyme</td>\n",
       "      <td>Chemicals &amp; Drugs</td>\n",
       "    </tr>\n",
       "    <tr>\n",
       "      <th>2</th>\n",
       "      <td>2</td>\n",
       "      <td>C0000084</td>\n",
       "      <td>1-Carboxyglutamic Acid</td>\n",
       "      <td>Chemicals &amp; Drugs</td>\n",
       "    </tr>\n",
       "    <tr>\n",
       "      <th>3</th>\n",
       "      <td>3</td>\n",
       "      <td>C0000096</td>\n",
       "      <td>1-Methyl-3-isobutylxanthine</td>\n",
       "      <td>Chemicals &amp; Drugs</td>\n",
       "    </tr>\n",
       "    <tr>\n",
       "      <th>4</th>\n",
       "      <td>4</td>\n",
       "      <td>C0000097</td>\n",
       "      <td>1-Methyl-4-phenyl-1,2,3,6-tetrahydropyridine</td>\n",
       "      <td>Chemicals &amp; Drugs</td>\n",
       "    </tr>\n",
       "  </tbody>\n",
       "</table>\n",
       "</div>"
      ],
      "text/plain": [
       "   node_uid   node_id                                          name  \\\n",
       "0         0  C0000039            1,2-Dipalmitoylphosphatidylcholine   \n",
       "1         1  C0000052             1,4-alpha-Glucan Branching Enzyme   \n",
       "2         2  C0000084                        1-Carboxyglutamic Acid   \n",
       "3         3  C0000096                   1-Methyl-3-isobutylxanthine   \n",
       "4         4  C0000097  1-Methyl-4-phenyl-1,2,3,6-tetrahydropyridine   \n",
       "\n",
       "               ntype  \n",
       "0  Chemicals & Drugs  \n",
       "1  Chemicals & Drugs  \n",
       "2  Chemicals & Drugs  \n",
       "3  Chemicals & Drugs  \n",
       "4  Chemicals & Drugs  "
      ]
     },
     "execution_count": 31,
     "metadata": {},
     "output_type": "execute_result"
    }
   ],
   "source": [
    "goodnodes.head()"
   ]
  },
  {
   "cell_type": "code",
   "execution_count": 32,
   "metadata": {},
   "outputs": [
    {
     "data": {
      "text/plain": [
       "Chemicals & Drugs              80991\n",
       "Living Beings                  48191\n",
       "Disorders                      36706\n",
       "Genes & Molecular Sequences    20539\n",
       "Anatomy                        15100\n",
       "Physiology                      7727\n",
       "Phenomena                       1135\n",
       "Name: ntype, dtype: int64"
      ]
     },
     "execution_count": 32,
     "metadata": {},
     "output_type": "execute_result"
    }
   ],
   "source": [
    "goodnodes[\"ntype\"].value_counts()"
   ]
  },
  {
   "cell_type": "code",
   "execution_count": 33,
   "metadata": {},
   "outputs": [],
   "source": [
    "allchems = goodnodes.query(\"ntype == 'Chemicals & Drugs'\")"
   ]
  },
  {
   "cell_type": "code",
   "execution_count": 34,
   "metadata": {},
   "outputs": [],
   "source": [
    "alldises = goodnodes.query(\"ntype == 'Disorders'\")"
   ]
  },
  {
   "cell_type": "markdown",
   "metadata": {},
   "source": [
    "## Generate pairs"
   ]
  },
  {
   "cell_type": "code",
   "execution_count": 35,
   "metadata": {},
   "outputs": [
    {
     "name": "stderr",
     "output_type": "stream",
     "text": [
      "100%|██████████| 200000/200000 [07:48<00:00, 427.11it/s]\n"
     ]
    }
   ],
   "source": [
    "random.seed(345123461)\n",
    "\n",
    "tchem = set(allchems[\"node_uid\"])\n",
    "tdise = set(alldises[\"node_uid\"])\n",
    "\n",
    "res = list()\n",
    "\n",
    "ntotal = 200000\n",
    "\n",
    "for i in tqdm(range(ntotal)):\n",
    "    chemuid = random.sample(tchem, 1)[0]\n",
    "    diseuid = random.sample(tdise, 1)[0]\n",
    "    \n",
    "    # convolved features for this chem dise pair\n",
    "    cfeats = convolv(chemuid, diseuid)\n",
    "    \n",
    "    # reshape the features for use in prediction\n",
    "    cfeats = np.array(cfeats).reshape(1, -1)\n",
    "    \n",
    "    # use the trained model to make a prediction\n",
    "    pscore = model.predict_proba(cfeats)[0][1]\n",
    "    \n",
    "    res.append((chemuid, diseuid, pscore))\n",
    "    \n",
    "res = pd.DataFrame(res, columns=[\"chem_uid\", \"dise_uid\", \"pscore\"])"
   ]
  },
  {
   "cell_type": "markdown",
   "metadata": {},
   "source": [
    "---"
   ]
  },
  {
   "cell_type": "markdown",
   "metadata": {},
   "source": [
    "### Score distribution"
   ]
  },
  {
   "cell_type": "code",
   "execution_count": 36,
   "metadata": {},
   "outputs": [
    {
     "data": {
      "text/plain": [
       "<matplotlib.axes._subplots.AxesSubplot at 0x7fb4bc77dcf8>"
      ]
     },
     "execution_count": 36,
     "metadata": {},
     "output_type": "execute_result"
    },
    {
     "data": {
      "image/png": "[encoded data removed]",
      "text/plain": [
       "<matplotlib.figure.Figure at 0x7fb4bc77deb8>"
      ]
     },
     "metadata": {},
     "output_type": "display_data"
    }
   ],
   "source": [
    "sns.distplot(res[\"pscore\"])"
   ]
  },
  {
   "cell_type": "code",
   "execution_count": 37,
   "metadata": {},
   "outputs": [
    {
     "data": {
      "text/plain": [
       "<matplotlib.axes._subplots.AxesSubplot at 0x7fb4bc7d0128>"
      ]
     },
     "execution_count": 37,
     "metadata": {},
     "output_type": "execute_result"
    },
    {
     "data": {
      "image/png": "[encoded data removed]",
      "text/plain": [
       "<matplotlib.figure.Figure at 0x7fb4bc0d6eb8>"
      ]
     },
     "metadata": {},
     "output_type": "display_data"
    }
   ],
   "source": [
    "sns.distplot(res.query(\"pscore > 0.5\")[\"pscore\"], kde=False)"
   ]
  },
  {
   "cell_type": "code",
   "execution_count": 38,
   "metadata": {},
   "outputs": [],
   "source": [
    "final = (res\n",
    "    .merge(\n",
    "        nodemap[[\"node_uid\", \"node_id\", \"name\"]],\n",
    "        how=\"inner\", left_on=\"chem_uid\", right_on=\"node_uid\"\n",
    "    )\n",
    "    .merge(\n",
    "        nodemap[[\"node_uid\", \"node_id\", \"name\"]],\n",
    "        how=\"inner\", left_on=\"dise_uid\", right_on=\"node_uid\"\n",
    "    )\n",
    "    .drop([\"node_uid_x\", \"node_uid_y\"], axis=1)\n",
    "    .rename(columns={\n",
    "        \"node_id_x\": \"chem_id\",\n",
    "        \"name_x\": \"chem_name\",\n",
    "        \"node_id_y\": \"dise_id\",\n",
    "        \"name_y\": \"dise_name\"\n",
    "    })\n",
    "    .sort_values([\"pscore\", \"chem_uid\", \"dise_uid\"], ascending=False)\n",
    "    .reset_index(drop=True)\n",
    ")"
   ]
  },
  {
   "cell_type": "code",
   "execution_count": 39,
   "metadata": {},
   "outputs": [
    {
     "data": {
      "text/html": [
       "<div>\n",
       "<style scoped>\n",
       "    .dataframe tbody tr th:only-of-type {\n",
       "        vertical-align: middle;\n",
       "    }\n",
       "\n",
       "    .dataframe tbody tr th {\n",
       "        vertical-align: top;\n",
       "    }\n",
       "\n",
       "    .dataframe thead th {\n",
       "        text-align: right;\n",
       "    }\n",
       "</style>\n",
       "<table border=\"1\" class=\"dataframe\">\n",
       "  <thead>\n",
       "    <tr style=\"text-align: right;\">\n",
       "      <th></th>\n",
       "      <th>chem_uid</th>\n",
       "      <th>dise_uid</th>\n",
       "      <th>pscore</th>\n",
       "      <th>chem_id</th>\n",
       "      <th>chem_name</th>\n",
       "      <th>dise_id</th>\n",
       "      <th>dise_name</th>\n",
       "    </tr>\n",
       "  </thead>\n",
       "  <tbody>\n",
       "    <tr>\n",
       "      <th>0</th>\n",
       "      <td>154665</td>\n",
       "      <td>93741</td>\n",
       "      <td>0.999879</td>\n",
       "      <td>C1098293</td>\n",
       "      <td>Ally</td>\n",
       "      <td>C0555047</td>\n",
       "      <td>Married</td>\n",
       "    </tr>\n",
       "    <tr>\n",
       "      <th>1</th>\n",
       "      <td>10999</td>\n",
       "      <td>60331</td>\n",
       "      <td>0.999375</td>\n",
       "      <td>C0032583</td>\n",
       "      <td>Polyproteins</td>\n",
       "      <td>C0275518</td>\n",
       "      <td>Acute infectious disease</td>\n",
       "    </tr>\n",
       "    <tr>\n",
       "      <th>2</th>\n",
       "      <td>61507</td>\n",
       "      <td>60877</td>\n",
       "      <td>0.996917</td>\n",
       "      <td>C0281606</td>\n",
       "      <td>recombinant viral vaccine</td>\n",
       "      <td>C0277525</td>\n",
       "      <td>Infectious gastroenteritis</td>\n",
       "    </tr>\n",
       "    <tr>\n",
       "      <th>3</th>\n",
       "      <td>10712</td>\n",
       "      <td>177075</td>\n",
       "      <td>0.994459</td>\n",
       "      <td>C0031881</td>\n",
       "      <td>Picloram</td>\n",
       "      <td>C1321554</td>\n",
       "      <td>Bacterial shell rot</td>\n",
       "    </tr>\n",
       "    <tr>\n",
       "      <th>4</th>\n",
       "      <td>13808</td>\n",
       "      <td>13002</td>\n",
       "      <td>0.992954</td>\n",
       "      <td>C0040577</td>\n",
       "      <td>Trace Elements</td>\n",
       "      <td>C0038340</td>\n",
       "      <td>Sting Injury</td>\n",
       "    </tr>\n",
       "  </tbody>\n",
       "</table>\n",
       "</div>"
      ],
      "text/plain": [
       "   chem_uid  dise_uid    pscore   chem_id                  chem_name  \\\n",
       "0    154665     93741  0.999879  C1098293                       Ally   \n",
       "1     10999     60331  0.999375  C0032583               Polyproteins   \n",
       "2     61507     60877  0.996917  C0281606  recombinant viral vaccine   \n",
       "3     10712    177075  0.994459  C0031881                   Picloram   \n",
       "4     13808     13002  0.992954  C0040577             Trace Elements   \n",
       "\n",
       "    dise_id                   dise_name  \n",
       "0  C0555047                     Married  \n",
       "1  C0275518    Acute infectious disease  \n",
       "2  C0277525  Infectious gastroenteritis  \n",
       "3  C1321554         Bacterial shell rot  \n",
       "4  C0038340                Sting Injury  "
      ]
     },
     "execution_count": 39,
     "metadata": {},
     "output_type": "execute_result"
    }
   ],
   "source": [
    "final.head()"
   ]
  },
  {
   "cell_type": "code",
   "execution_count": 40,
   "metadata": {},
   "outputs": [
    {
     "data": {
      "text/plain": [
       "(200000, 7)"
      ]
     },
     "execution_count": 40,
     "metadata": {},
     "output_type": "execute_result"
    }
   ],
   "source": [
    "final.shape"
   ]
  },
  {
   "cell_type": "code",
   "execution_count": 41,
   "metadata": {},
   "outputs": [],
   "source": [
    "final.to_csv(\"rand_pairs_results_test.tsv\", sep='\\t', index=False)"
   ]
  },
  {
   "cell_type": "code",
   "execution_count": null,
   "metadata": {},
   "outputs": [],
   "source": []
  },
  {
   "cell_type": "markdown",
   "metadata": {},
   "source": [
    "## Check overlap of top results with true pairs in training and holdout datasets"
   ]
  },
  {
   "cell_type": "code",
   "execution_count": 42,
   "metadata": {},
   "outputs": [],
   "source": [
    "t = res.query(\"pscore > 0.5\")\n",
    "ppairs = set(zip(t[\"chem_uid\"], t[\"dise_uid\"]))"
   ]
  },
  {
   "cell_type": "code",
   "execution_count": 43,
   "metadata": {},
   "outputs": [
    {
     "data": {
      "text/plain": [
       "336"
      ]
     },
     "execution_count": 43,
     "metadata": {},
     "output_type": "execute_result"
    }
   ],
   "source": [
    "len(ppairs)"
   ]
  },
  {
   "cell_type": "code",
   "execution_count": 44,
   "metadata": {},
   "outputs": [
    {
     "data": {
      "text/html": [
       "<div>\n",
       "<style scoped>\n",
       "    .dataframe tbody tr th:only-of-type {\n",
       "        vertical-align: middle;\n",
       "    }\n",
       "\n",
       "    .dataframe tbody tr th {\n",
       "        vertical-align: top;\n",
       "    }\n",
       "\n",
       "    .dataframe thead th {\n",
       "        text-align: right;\n",
       "    }\n",
       "</style>\n",
       "<table border=\"1\" class=\"dataframe\">\n",
       "  <thead>\n",
       "    <tr style=\"text-align: right;\">\n",
       "      <th></th>\n",
       "      <th>chemical_id</th>\n",
       "      <th>disease_id</th>\n",
       "      <th>etype</th>\n",
       "      <th>chemical_uid</th>\n",
       "      <th>disease_uid</th>\n",
       "    </tr>\n",
       "  </thead>\n",
       "  <tbody>\n",
       "    <tr>\n",
       "      <th>0</th>\n",
       "      <td>C0000473</td>\n",
       "      <td>C0001144</td>\n",
       "      <td>0</td>\n",
       "      <td>58</td>\n",
       "      <td>256</td>\n",
       "    </tr>\n",
       "    <tr>\n",
       "      <th>1</th>\n",
       "      <td>C0000545</td>\n",
       "      <td>C0001144</td>\n",
       "      <td>0</td>\n",
       "      <td>71</td>\n",
       "      <td>256</td>\n",
       "    </tr>\n",
       "    <tr>\n",
       "      <th>2</th>\n",
       "      <td>C0000618</td>\n",
       "      <td>C0001144</td>\n",
       "      <td>0</td>\n",
       "      <td>80</td>\n",
       "      <td>256</td>\n",
       "    </tr>\n",
       "    <tr>\n",
       "      <th>3</th>\n",
       "      <td>C0000956</td>\n",
       "      <td>C0001144</td>\n",
       "      <td>0</td>\n",
       "      <td>167</td>\n",
       "      <td>256</td>\n",
       "    </tr>\n",
       "    <tr>\n",
       "      <th>4</th>\n",
       "      <td>C0000970</td>\n",
       "      <td>C0001144</td>\n",
       "      <td>0</td>\n",
       "      <td>175</td>\n",
       "      <td>256</td>\n",
       "    </tr>\n",
       "  </tbody>\n",
       "</table>\n",
       "</div>"
      ],
      "text/plain": [
       "  chemical_id disease_id  etype  chemical_uid  disease_uid\n",
       "0    C0000473   C0001144      0            58          256\n",
       "1    C0000545   C0001144      0            71          256\n",
       "2    C0000618   C0001144      0            80          256\n",
       "3    C0000956   C0001144      0           167          256\n",
       "4    C0000970   C0001144      0           175          256"
      ]
     },
     "execution_count": 44,
     "metadata": {},
     "output_type": "execute_result"
    }
   ],
   "source": [
    "holdoutd.head()"
   ]
  },
  {
   "cell_type": "code",
   "execution_count": 45,
   "metadata": {},
   "outputs": [],
   "source": [
    "a = traind.query(\"etype == 1\")\n",
    "b = holdoutd.query(\"etype == 1\")\n",
    "all_true = (\n",
    "    set(zip(a[\"chemical_uid\"], a[\"disease_uid\"]))\n",
    "    | set(zip(b[\"chemical_uid\"], b[\"disease_uid\"]))\n",
    ")"
   ]
  },
  {
   "cell_type": "code",
   "execution_count": 46,
   "metadata": {},
   "outputs": [
    {
     "data": {
      "text/plain": [
       "6329"
      ]
     },
     "execution_count": 46,
     "metadata": {},
     "output_type": "execute_result"
    }
   ],
   "source": [
    "len(all_true)"
   ]
  },
  {
   "cell_type": "code",
   "execution_count": 47,
   "metadata": {},
   "outputs": [
    {
     "data": {
      "text/plain": [
       "0"
      ]
     },
     "execution_count": 47,
     "metadata": {},
     "output_type": "execute_result"
    }
   ],
   "source": [
    "len(ppairs & all_true)"
   ]
  },
  {
   "cell_type": "markdown",
   "metadata": {},
   "source": [
    "seems like there's no overlap, which is good"
   ]
  }
 ],
 "metadata": {
  "kernelspec": {
   "display_name": "Python 3",
   "language": "python",
   "name": "python3"
  },
  "language_info": {
   "codemirror_mode": {
    "name": "ipython",
    "version": 3
   },
   "file_extension": ".py",
   "mimetype": "text/x-python",
   "name": "python",
   "nbconvert_exporter": "python",
   "pygments_lexer": "ipython3",
   "version": "3.6.3"
  }
 },
 "nbformat": 4,
 "nbformat_minor": 2
}
