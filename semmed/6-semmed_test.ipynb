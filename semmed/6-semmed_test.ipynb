{
 "cells": [
  {
   "cell_type": "markdown",
   "metadata": {},
   "source": [
    "# Test the ability of deepwalk to make predictions on semmeddb\n",
    "\n",
    "Fold 0 only."
   ]
  },
  {
   "cell_type": "code",
   "execution_count": 1,
   "metadata": {},
   "outputs": [],
   "source": [
    "import pandas as pd\n",
    "import numpy as np\n",
    "\n",
    "from sklearn.linear_model import LogisticRegression\n",
    "\n",
    "from glob import glob\n",
    "import seaborn as sns\n",
    "from collections import defaultdict\n",
    "\n",
    "import matplotlib.pyplot as plt\n",
    "\n",
    "from sklearn.metrics import roc_curve, auc, precision_recall_curve"
   ]
  },
  {
   "cell_type": "code",
   "execution_count": 2,
   "metadata": {},
   "outputs": [],
   "source": [
    "%matplotlib inline"
   ]
  },
  {
   "cell_type": "code",
   "execution_count": 3,
   "metadata": {},
   "outputs": [],
   "source": [
    "np.random.seed(20171115)"
   ]
  },
  {
   "cell_type": "markdown",
   "metadata": {},
   "source": [
    "---"
   ]
  },
  {
   "cell_type": "markdown",
   "metadata": {},
   "source": [
    "## Read semmeddb embedding\n",
    "\n",
    "deepwalk parameters: 50 walks, 128 vecsize, 10 window size."
   ]
  },
  {
   "cell_type": "code",
   "execution_count": 4,
   "metadata": {},
   "outputs": [],
   "source": [
    "vecsize = 128\n",
    "\n",
    "features = (pd\n",
    "    .read_csv(\n",
    "        \"data/embeddings/sem50walk128vec10window.txt\",\n",
    "        sep=' ', skiprows=1,\n",
    "        names=[\"uid\"] + [\"f{}\".format(i) for i in range(vecsize)]\n",
    "    )\n",
    ")"
   ]
  },
  {
   "cell_type": "code",
   "execution_count": 5,
   "metadata": {},
   "outputs": [
    {
     "data": {
      "text/html": [
       "<div>\n",
       "<style scoped>\n",
       "    .dataframe tbody tr th:only-of-type {\n",
       "        vertical-align: middle;\n",
       "    }\n",
       "\n",
       "    .dataframe tbody tr th {\n",
       "        vertical-align: top;\n",
       "    }\n",
       "\n",
       "    .dataframe thead th {\n",
       "        text-align: right;\n",
       "    }\n",
       "</style>\n",
       "<table border=\"1\" class=\"dataframe\">\n",
       "  <thead>\n",
       "    <tr style=\"text-align: right;\">\n",
       "      <th></th>\n",
       "      <th>uid</th>\n",
       "      <th>f0</th>\n",
       "      <th>f1</th>\n",
       "      <th>f2</th>\n",
       "      <th>f3</th>\n",
       "      <th>f4</th>\n",
       "      <th>f5</th>\n",
       "      <th>f6</th>\n",
       "      <th>f7</th>\n",
       "      <th>f8</th>\n",
       "      <th>...</th>\n",
       "      <th>f118</th>\n",
       "      <th>f119</th>\n",
       "      <th>f120</th>\n",
       "      <th>f121</th>\n",
       "      <th>f122</th>\n",
       "      <th>f123</th>\n",
       "      <th>f124</th>\n",
       "      <th>f125</th>\n",
       "      <th>f126</th>\n",
       "      <th>f127</th>\n",
       "    </tr>\n",
       "  </thead>\n",
       "  <tbody>\n",
       "    <tr>\n",
       "      <th>0</th>\n",
       "      <td>11728</td>\n",
       "      <td>-0.364880</td>\n",
       "      <td>3.792458</td>\n",
       "      <td>-1.397374</td>\n",
       "      <td>0.759112</td>\n",
       "      <td>2.917878</td>\n",
       "      <td>-0.176155</td>\n",
       "      <td>-0.564531</td>\n",
       "      <td>0.842563</td>\n",
       "      <td>-0.224761</td>\n",
       "      <td>...</td>\n",
       "      <td>-4.287377</td>\n",
       "      <td>2.291287</td>\n",
       "      <td>1.062728</td>\n",
       "      <td>-1.022062</td>\n",
       "      <td>1.158340</td>\n",
       "      <td>1.375489</td>\n",
       "      <td>0.707240</td>\n",
       "      <td>-0.798140</td>\n",
       "      <td>0.265549</td>\n",
       "      <td>1.008619</td>\n",
       "    </tr>\n",
       "    <tr>\n",
       "      <th>1</th>\n",
       "      <td>2049</td>\n",
       "      <td>-2.405818</td>\n",
       "      <td>-3.281208</td>\n",
       "      <td>5.442310</td>\n",
       "      <td>1.949694</td>\n",
       "      <td>2.385109</td>\n",
       "      <td>-0.819011</td>\n",
       "      <td>-0.049137</td>\n",
       "      <td>-0.012040</td>\n",
       "      <td>-2.015012</td>\n",
       "      <td>...</td>\n",
       "      <td>-5.956447</td>\n",
       "      <td>2.372664</td>\n",
       "      <td>-1.301351</td>\n",
       "      <td>-0.197150</td>\n",
       "      <td>-0.536069</td>\n",
       "      <td>-3.845875</td>\n",
       "      <td>1.893585</td>\n",
       "      <td>2.490709</td>\n",
       "      <td>-3.045699</td>\n",
       "      <td>-2.791694</td>\n",
       "    </tr>\n",
       "    <tr>\n",
       "      <th>2</th>\n",
       "      <td>8081</td>\n",
       "      <td>0.658723</td>\n",
       "      <td>0.207870</td>\n",
       "      <td>5.323104</td>\n",
       "      <td>-1.736953</td>\n",
       "      <td>5.051743</td>\n",
       "      <td>-1.999842</td>\n",
       "      <td>-3.380626</td>\n",
       "      <td>0.289445</td>\n",
       "      <td>2.042453</td>\n",
       "      <td>...</td>\n",
       "      <td>0.520123</td>\n",
       "      <td>-0.190908</td>\n",
       "      <td>0.161119</td>\n",
       "      <td>0.818972</td>\n",
       "      <td>-1.207367</td>\n",
       "      <td>0.406293</td>\n",
       "      <td>-0.056115</td>\n",
       "      <td>1.821121</td>\n",
       "      <td>1.328484</td>\n",
       "      <td>-4.362211</td>\n",
       "    </tr>\n",
       "    <tr>\n",
       "      <th>3</th>\n",
       "      <td>4369</td>\n",
       "      <td>-1.625476</td>\n",
       "      <td>7.181020</td>\n",
       "      <td>-3.710097</td>\n",
       "      <td>-3.370679</td>\n",
       "      <td>2.942568</td>\n",
       "      <td>-2.319238</td>\n",
       "      <td>2.756862</td>\n",
       "      <td>-0.547414</td>\n",
       "      <td>2.251278</td>\n",
       "      <td>...</td>\n",
       "      <td>-1.954914</td>\n",
       "      <td>2.358400</td>\n",
       "      <td>2.579734</td>\n",
       "      <td>-1.074741</td>\n",
       "      <td>0.438799</td>\n",
       "      <td>0.064437</td>\n",
       "      <td>0.036294</td>\n",
       "      <td>-1.126031</td>\n",
       "      <td>2.002540</td>\n",
       "      <td>0.159338</td>\n",
       "    </tr>\n",
       "    <tr>\n",
       "      <th>4</th>\n",
       "      <td>43199</td>\n",
       "      <td>0.880009</td>\n",
       "      <td>4.827002</td>\n",
       "      <td>2.897967</td>\n",
       "      <td>0.444787</td>\n",
       "      <td>-2.483543</td>\n",
       "      <td>1.696095</td>\n",
       "      <td>-6.284511</td>\n",
       "      <td>1.747533</td>\n",
       "      <td>1.588262</td>\n",
       "      <td>...</td>\n",
       "      <td>-3.107903</td>\n",
       "      <td>-0.838388</td>\n",
       "      <td>2.420102</td>\n",
       "      <td>-2.941679</td>\n",
       "      <td>5.887329</td>\n",
       "      <td>0.134784</td>\n",
       "      <td>1.972876</td>\n",
       "      <td>-1.104905</td>\n",
       "      <td>2.946468</td>\n",
       "      <td>2.954355</td>\n",
       "    </tr>\n",
       "  </tbody>\n",
       "</table>\n",
       "<p>5 rows × 129 columns</p>\n",
       "</div>"
      ],
      "text/plain": [
       "     uid        f0        f1        f2        f3        f4        f5  \\\n",
       "0  11728 -0.364880  3.792458 -1.397374  0.759112  2.917878 -0.176155   \n",
       "1   2049 -2.405818 -3.281208  5.442310  1.949694  2.385109 -0.819011   \n",
       "2   8081  0.658723  0.207870  5.323104 -1.736953  5.051743 -1.999842   \n",
       "3   4369 -1.625476  7.181020 -3.710097 -3.370679  2.942568 -2.319238   \n",
       "4  43199  0.880009  4.827002  2.897967  0.444787 -2.483543  1.696095   \n",
       "\n",
       "         f6        f7        f8    ...         f118      f119      f120  \\\n",
       "0 -0.564531  0.842563 -0.224761    ...    -4.287377  2.291287  1.062728   \n",
       "1 -0.049137 -0.012040 -2.015012    ...    -5.956447  2.372664 -1.301351   \n",
       "2 -3.380626  0.289445  2.042453    ...     0.520123 -0.190908  0.161119   \n",
       "3  2.756862 -0.547414  2.251278    ...    -1.954914  2.358400  2.579734   \n",
       "4 -6.284511  1.747533  1.588262    ...    -3.107903 -0.838388  2.420102   \n",
       "\n",
       "       f121      f122      f123      f124      f125      f126      f127  \n",
       "0 -1.022062  1.158340  1.375489  0.707240 -0.798140  0.265549  1.008619  \n",
       "1 -0.197150 -0.536069 -3.845875  1.893585  2.490709 -3.045699 -2.791694  \n",
       "2  0.818972 -1.207367  0.406293 -0.056115  1.821121  1.328484 -4.362211  \n",
       "3 -1.074741  0.438799  0.064437  0.036294 -1.126031  2.002540  0.159338  \n",
       "4 -2.941679  5.887329  0.134784  1.972876 -1.104905  2.946468  2.954355  \n",
       "\n",
       "[5 rows x 129 columns]"
      ]
     },
     "execution_count": 5,
     "metadata": {},
     "output_type": "execute_result"
    }
   ],
   "source": [
    "features.head()"
   ]
  },
  {
   "cell_type": "markdown",
   "metadata": {},
   "source": [
    "## Read training data"
   ]
  },
  {
   "cell_type": "code",
   "execution_count": 6,
   "metadata": {},
   "outputs": [],
   "source": [
    "traind = pd.read_csv(\"data/training/clean_train0.tsv\", sep='\\t')"
   ]
  },
  {
   "cell_type": "code",
   "execution_count": 7,
   "metadata": {},
   "outputs": [
    {
     "data": {
      "text/html": [
       "<div>\n",
       "<style scoped>\n",
       "    .dataframe tbody tr th:only-of-type {\n",
       "        vertical-align: middle;\n",
       "    }\n",
       "\n",
       "    .dataframe tbody tr th {\n",
       "        vertical-align: top;\n",
       "    }\n",
       "\n",
       "    .dataframe thead th {\n",
       "        text-align: right;\n",
       "    }\n",
       "</style>\n",
       "<table border=\"1\" class=\"dataframe\">\n",
       "  <thead>\n",
       "    <tr style=\"text-align: right;\">\n",
       "      <th></th>\n",
       "      <th>chemical_id</th>\n",
       "      <th>disease_id</th>\n",
       "      <th>etype</th>\n",
       "      <th>chemical_uid</th>\n",
       "      <th>disease_uid</th>\n",
       "    </tr>\n",
       "  </thead>\n",
       "  <tbody>\n",
       "    <tr>\n",
       "      <th>0</th>\n",
       "      <td>C0000473</td>\n",
       "      <td>C0000810</td>\n",
       "      <td>0</td>\n",
       "      <td>58</td>\n",
       "      <td>123</td>\n",
       "    </tr>\n",
       "    <tr>\n",
       "      <th>1</th>\n",
       "      <td>C0000477</td>\n",
       "      <td>C0000810</td>\n",
       "      <td>0</td>\n",
       "      <td>59</td>\n",
       "      <td>123</td>\n",
       "    </tr>\n",
       "    <tr>\n",
       "      <th>2</th>\n",
       "      <td>C0000618</td>\n",
       "      <td>C0000810</td>\n",
       "      <td>0</td>\n",
       "      <td>80</td>\n",
       "      <td>123</td>\n",
       "    </tr>\n",
       "    <tr>\n",
       "      <th>3</th>\n",
       "      <td>C0000948</td>\n",
       "      <td>C0000810</td>\n",
       "      <td>0</td>\n",
       "      <td>164</td>\n",
       "      <td>123</td>\n",
       "    </tr>\n",
       "    <tr>\n",
       "      <th>4</th>\n",
       "      <td>C0000956</td>\n",
       "      <td>C0000810</td>\n",
       "      <td>0</td>\n",
       "      <td>167</td>\n",
       "      <td>123</td>\n",
       "    </tr>\n",
       "  </tbody>\n",
       "</table>\n",
       "</div>"
      ],
      "text/plain": [
       "  chemical_id disease_id  etype  chemical_uid  disease_uid\n",
       "0    C0000473   C0000810      0            58          123\n",
       "1    C0000477   C0000810      0            59          123\n",
       "2    C0000618   C0000810      0            80          123\n",
       "3    C0000948   C0000810      0           164          123\n",
       "4    C0000956   C0000810      0           167          123"
      ]
     },
     "execution_count": 7,
     "metadata": {},
     "output_type": "execute_result"
    }
   ],
   "source": [
    "traind.head()"
   ]
  },
  {
   "cell_type": "code",
   "execution_count": 8,
   "metadata": {},
   "outputs": [
    {
     "data": {
      "text/plain": [
       "(1094871, 5)"
      ]
     },
     "execution_count": 8,
     "metadata": {},
     "output_type": "execute_result"
    }
   ],
   "source": [
    "traind.shape"
   ]
  },
  {
   "cell_type": "markdown",
   "metadata": {},
   "source": [
    "## Subsample training data"
   ]
  },
  {
   "cell_type": "code",
   "execution_count": 9,
   "metadata": {},
   "outputs": [],
   "source": [
    "trainpos = traind.query(\"etype == 1\")\n",
    "K = 3\n",
    "\n",
    "train = (trainpos\n",
    "    .append(\n",
    "        (traind\n",
    "            .query(\"etype == 0\")\n",
    "            .sample(len(trainpos) * K)\n",
    "        )\n",
    "    )\n",
    "    .reset_index(drop=True)\n",
    ")"
   ]
  },
  {
   "cell_type": "markdown",
   "metadata": {},
   "source": [
    "## Add features"
   ]
  },
  {
   "cell_type": "code",
   "execution_count": 10,
   "metadata": {},
   "outputs": [],
   "source": [
    "def add_features(df, features):\n",
    "    return (df\n",
    "        .merge(\n",
    "            features, how=\"inner\", left_on=\"chemical_uid\", right_on=\"uid\"\n",
    "        )\n",
    "        .drop(\"uid\", axis=1)\n",
    "        .merge(\n",
    "            features, how=\"inner\", left_on=\"disease_uid\", right_on=\"uid\"\n",
    "        )\n",
    "        .drop(\"uid\", axis=1)\n",
    "    )\n",
    "\n",
    "def convolv_features(df, features, vecsize):\n",
    "    reg = add_features(df, features)\n",
    "    \n",
    "    # do multiply and get rid of old features\n",
    "    for i in range(vecsize):\n",
    "        reg[\"conv{}\".format(i)] = reg[\"f{}_x\".format(i)] * reg[\"f{}_y\".format(i)]\n",
    "\n",
    "    reg = (reg\n",
    "        .drop(\n",
    "            [\"f{}_x\".format(i) for i in range(vecsize)], axis=1\n",
    "        )\n",
    "        .drop(\n",
    "            [\"f{}_y\".format(i) for i in range(vecsize)], axis=1\n",
    "        )\n",
    "    )\n",
    "        \n",
    "    return reg"
   ]
  },
  {
   "cell_type": "code",
   "execution_count": 11,
   "metadata": {},
   "outputs": [],
   "source": [
    "tmp = convolv_features(train, features, vecsize)"
   ]
  },
  {
   "cell_type": "markdown",
   "metadata": {},
   "source": [
    "## Train classifier"
   ]
  },
  {
   "cell_type": "code",
   "execution_count": 12,
   "metadata": {},
   "outputs": [
    {
     "data": {
      "text/plain": [
       "LogisticRegression(C=1000000000.0, class_weight=None, dual=False,\n",
       "          fit_intercept=True, intercept_scaling=1, max_iter=100,\n",
       "          multi_class='ovr', n_jobs=1, penalty='l2', random_state=None,\n",
       "          solver='liblinear', tol=0.0001, verbose=0, warm_start=False)"
      ]
     },
     "execution_count": 12,
     "metadata": {},
     "output_type": "execute_result"
    }
   ],
   "source": [
    "feat_cols = [\"conv{}\".format(i) for i in range(vecsize)]\n",
    "\n",
    "model = LogisticRegression(C=1e9)\n",
    "model.fit(tmp[feat_cols], tmp[\"etype\"])"
   ]
  },
  {
   "cell_type": "markdown",
   "metadata": {},
   "source": [
    "## Predict on holdout data"
   ]
  },
  {
   "cell_type": "code",
   "execution_count": 13,
   "metadata": {},
   "outputs": [],
   "source": [
    "holdoutd = pd.read_csv(\"data/holdout/clean_holdout0.tsv\", sep='\\t')"
   ]
  },
  {
   "cell_type": "code",
   "execution_count": 14,
   "metadata": {},
   "outputs": [],
   "source": [
    "test = convolv_features(holdoutd.drop(\"etype\", axis=1), features, vecsize)\n",
    "\n",
    "featcols = [\"conv{}\".format(i) for i in range(vecsize)]\n",
    "ans = test.assign(predval = lambda df: model.predict_proba(df[featcols])[:, 1])\n",
    "\n",
    "results = (ans\n",
    "    [[\"chemical_id\", \"disease_id\", \"predval\"]]\n",
    "    .merge(\n",
    "        holdoutd[[\"chemical_id\", \"disease_id\", \"etype\"]],\n",
    "        how=\"inner\", on=[\"chemical_id\", \"disease_id\"]\n",
    "    )\n",
    ")"
   ]
  },
  {
   "cell_type": "code",
   "execution_count": 15,
   "metadata": {},
   "outputs": [],
   "source": [
    "results = results.rename(columns={\"etype\": \"category\"})"
   ]
  },
  {
   "cell_type": "code",
   "execution_count": 16,
   "metadata": {},
   "outputs": [
    {
     "data": {
      "text/html": [
       "<div>\n",
       "<style scoped>\n",
       "    .dataframe tbody tr th:only-of-type {\n",
       "        vertical-align: middle;\n",
       "    }\n",
       "\n",
       "    .dataframe tbody tr th {\n",
       "        vertical-align: top;\n",
       "    }\n",
       "\n",
       "    .dataframe thead th {\n",
       "        text-align: right;\n",
       "    }\n",
       "</style>\n",
       "<table border=\"1\" class=\"dataframe\">\n",
       "  <thead>\n",
       "    <tr style=\"text-align: right;\">\n",
       "      <th></th>\n",
       "      <th>chemical_id</th>\n",
       "      <th>disease_id</th>\n",
       "      <th>predval</th>\n",
       "      <th>category</th>\n",
       "    </tr>\n",
       "  </thead>\n",
       "  <tbody>\n",
       "    <tr>\n",
       "      <th>0</th>\n",
       "      <td>C0000473</td>\n",
       "      <td>C0001144</td>\n",
       "      <td>0.280261</td>\n",
       "      <td>0</td>\n",
       "    </tr>\n",
       "    <tr>\n",
       "      <th>1</th>\n",
       "      <td>C0000545</td>\n",
       "      <td>C0001144</td>\n",
       "      <td>0.460353</td>\n",
       "      <td>0</td>\n",
       "    </tr>\n",
       "    <tr>\n",
       "      <th>2</th>\n",
       "      <td>C0000618</td>\n",
       "      <td>C0001144</td>\n",
       "      <td>0.158595</td>\n",
       "      <td>0</td>\n",
       "    </tr>\n",
       "    <tr>\n",
       "      <th>3</th>\n",
       "      <td>C0000956</td>\n",
       "      <td>C0001144</td>\n",
       "      <td>0.013283</td>\n",
       "      <td>0</td>\n",
       "    </tr>\n",
       "    <tr>\n",
       "      <th>4</th>\n",
       "      <td>C0000970</td>\n",
       "      <td>C0001144</td>\n",
       "      <td>0.065635</td>\n",
       "      <td>0</td>\n",
       "    </tr>\n",
       "  </tbody>\n",
       "</table>\n",
       "</div>"
      ],
      "text/plain": [
       "  chemical_id disease_id   predval  category\n",
       "0    C0000473   C0001144  0.280261         0\n",
       "1    C0000545   C0001144  0.460353         0\n",
       "2    C0000618   C0001144  0.158595         0\n",
       "3    C0000956   C0001144  0.013283         0\n",
       "4    C0000970   C0001144  0.065635         0"
      ]
     },
     "execution_count": 16,
     "metadata": {},
     "output_type": "execute_result"
    }
   ],
   "source": [
    "results.head()"
   ]
  },
  {
   "cell_type": "markdown",
   "metadata": {},
   "source": [
    "## Draw curves"
   ]
  },
  {
   "cell_type": "code",
   "execution_count": 17,
   "metadata": {},
   "outputs": [],
   "source": [
    "def plot_roc(res_df, metrics, name_map, title=\"ROC\"):\n",
    "    auroc_results = defaultdict(dict)\n",
    "\n",
    "    for metric in metrics:\n",
    "        tmp = res_df[[\"category\", metric]].sort_values(metric)\n",
    "        fpr, tpr, thresh = roc_curve(tmp[\"category\"], tmp[metric])\n",
    "\n",
    "        auroc_results[metric]['fpr'] = fpr\n",
    "        auroc_results[metric]['tpr'] = tpr\n",
    "        auroc_results[metric]['thresh'] = thresh\n",
    "        auroc_results[metric]['auc'] = auc(fpr, tpr)\n",
    "\n",
    "    lw = 3\n",
    "    x = [i for i in np.arange(0.0,1.01,.01)]\n",
    "    plt.plot(x,x, 'k--', lw=2)\n",
    "    for metric in metrics:\n",
    "        plt.plot(auroc_results[metric]['fpr'], auroc_results[metric]['tpr'], lw=lw,\n",
    "                 label='{0} (area = {1:0.2f})'\n",
    "                     .format(name_map[metric], auroc_results[metric]['auc']))\n",
    "    fig = plt.gcf()\n",
    "    fig.set_size_inches(8, 7)\n",
    "    fig.set_tight_layout(False)\n",
    "    plt.xlim([-0.01, 1.01])\n",
    "    plt.ylim([-0.01, 1.01])\n",
    "    plt.xticks(size=16)\n",
    "    plt.yticks(size=16)\n",
    "    plt.xlabel('FPR', size=20)\n",
    "    plt.ylabel('TPR', size=20)\n",
    "    plt.title(title, size=24)\n",
    "    plt.legend(loc=\"lower right\", frameon=True, shadow=True, prop={'size':16});"
   ]
  },
  {
   "cell_type": "code",
   "execution_count": 18,
   "metadata": {},
   "outputs": [],
   "source": [
    "def plot_pr(res_df, metrics, name_map, title=\"ROC\"):\n",
    "    auroc_results = defaultdict(dict)\n",
    "\n",
    "    for metric in metrics:\n",
    "        tmp = res_df[[\"category\", metric]]\n",
    "        precision, recall, thresh = precision_recall_curve(tmp[\"category\"], tmp[metric])\n",
    "\n",
    "        auroc_results[metric]['precision'] = precision\n",
    "        auroc_results[metric]['recall'] = recall\n",
    "        auroc_results[metric]['thresh'] = thresh\n",
    "        auroc_results[metric]['auc'] = auc(recall, precision)\n",
    "\n",
    "    lw = 3\n",
    "    x = [i for i in np.arange(0.0,1.01,.01)]\n",
    "    for metric in metrics:\n",
    "        plt.plot(auroc_results[metric]['recall'], auroc_results[metric]['precision'], lw=lw,\n",
    "                 label='{0} (area = {1:0.2f})'\n",
    "                     .format(name_map[metric], auroc_results[metric]['auc']))\n",
    "    fig = plt.gcf()\n",
    "    fig.set_size_inches(8, 7)\n",
    "    fig.set_tight_layout(False)\n",
    "    plt.xlim([-0.01, 1.01])\n",
    "    plt.ylim([-0.01, 1.01])\n",
    "    plt.xticks(size=16)\n",
    "    plt.yticks(size=16)\n",
    "    plt.xlabel('Recall', size=20)\n",
    "    plt.ylabel('Precision', size=20)\n",
    "    plt.title(title, size=24)\n",
    "    plt.legend(loc=\"upper right\", frameon=True, shadow=True, prop={'size':16});"
   ]
  },
  {
   "cell_type": "code",
   "execution_count": 19,
   "metadata": {},
   "outputs": [
    {
     "data": {
      "image/png": "[encoded data removed]",
      "text/plain": [
       "<matplotlib.figure.Figure at 0x7fad821ff908>"
      ]
     },
     "metadata": {},
     "output_type": "display_data"
    }
   ],
   "source": [
    "plot_roc(\n",
    "    results,\n",
    "    [\"predval\"],\n",
    "    {\"predval\": \"vecsize 128\"},\n",
    "    title=\"SemmedDB ROC curve\"\n",
    ")"
   ]
  },
  {
   "cell_type": "code",
   "execution_count": 20,
   "metadata": {},
   "outputs": [
    {
     "data": {
      "image/png": "[encoded data removed]",
      "text/plain": [
       "<matplotlib.figure.Figure at 0x7fad821ff7f0>"
      ]
     },
     "metadata": {},
     "output_type": "display_data"
    }
   ],
   "source": [
    "plot_pr(\n",
    "    results,\n",
    "    [\"predval\"],\n",
    "    {\"predval\": \"vecsize 128\"},\n",
    "    title=\"SemmedDB PR curve\"\n",
    ")"
   ]
  },
  {
   "cell_type": "code",
   "execution_count": null,
   "metadata": {},
   "outputs": [],
   "source": []
  },
  {
   "cell_type": "code",
   "execution_count": 21,
   "metadata": {},
   "outputs": [
    {
     "data": {
      "text/html": [
       "<div>\n",
       "<style scoped>\n",
       "    .dataframe tbody tr th:only-of-type {\n",
       "        vertical-align: middle;\n",
       "    }\n",
       "\n",
       "    .dataframe tbody tr th {\n",
       "        vertical-align: top;\n",
       "    }\n",
       "\n",
       "    .dataframe thead th {\n",
       "        text-align: right;\n",
       "    }\n",
       "</style>\n",
       "<table border=\"1\" class=\"dataframe\">\n",
       "  <thead>\n",
       "    <tr style=\"text-align: right;\">\n",
       "      <th></th>\n",
       "      <th>chemical_id</th>\n",
       "      <th>disease_id</th>\n",
       "      <th>predval</th>\n",
       "      <th>category</th>\n",
       "    </tr>\n",
       "  </thead>\n",
       "  <tbody>\n",
       "    <tr>\n",
       "      <th>0</th>\n",
       "      <td>C0000473</td>\n",
       "      <td>C0001144</td>\n",
       "      <td>0.280261</td>\n",
       "      <td>0</td>\n",
       "    </tr>\n",
       "    <tr>\n",
       "      <th>1</th>\n",
       "      <td>C0000545</td>\n",
       "      <td>C0001144</td>\n",
       "      <td>0.460353</td>\n",
       "      <td>0</td>\n",
       "    </tr>\n",
       "    <tr>\n",
       "      <th>2</th>\n",
       "      <td>C0000618</td>\n",
       "      <td>C0001144</td>\n",
       "      <td>0.158595</td>\n",
       "      <td>0</td>\n",
       "    </tr>\n",
       "    <tr>\n",
       "      <th>3</th>\n",
       "      <td>C0000956</td>\n",
       "      <td>C0001144</td>\n",
       "      <td>0.013283</td>\n",
       "      <td>0</td>\n",
       "    </tr>\n",
       "    <tr>\n",
       "      <th>4</th>\n",
       "      <td>C0000970</td>\n",
       "      <td>C0001144</td>\n",
       "      <td>0.065635</td>\n",
       "      <td>0</td>\n",
       "    </tr>\n",
       "  </tbody>\n",
       "</table>\n",
       "</div>"
      ],
      "text/plain": [
       "  chemical_id disease_id   predval  category\n",
       "0    C0000473   C0001144  0.280261         0\n",
       "1    C0000545   C0001144  0.460353         0\n",
       "2    C0000618   C0001144  0.158595         0\n",
       "3    C0000956   C0001144  0.013283         0\n",
       "4    C0000970   C0001144  0.065635         0"
      ]
     },
     "execution_count": 21,
     "metadata": {},
     "output_type": "execute_result"
    }
   ],
   "source": [
    "results.head()"
   ]
  },
  {
   "cell_type": "code",
   "execution_count": 22,
   "metadata": {},
   "outputs": [
    {
     "data": {
      "text/plain": [
       "<matplotlib.axes._subplots.AxesSubplot at 0x7fad800a27b8>"
      ]
     },
     "execution_count": 22,
     "metadata": {},
     "output_type": "execute_result"
    },
    {
     "data": {
      "image/png": "[encoded data removed]",
      "text/plain": [
       "<matplotlib.figure.Figure at 0x7fad84d97fd0>"
      ]
     },
     "metadata": {},
     "output_type": "display_data"
    }
   ],
   "source": [
    "sns.violinplot(data=results, x=\"category\", y=\"predval\")"
   ]
  },
  {
   "cell_type": "code",
   "execution_count": 23,
   "metadata": {},
   "outputs": [
    {
     "data": {
      "text/plain": [
       "0    319529\n",
       "1      1230\n",
       "Name: category, dtype: int64"
      ]
     },
     "execution_count": 23,
     "metadata": {},
     "output_type": "execute_result"
    }
   ],
   "source": [
    "results[\"category\"].value_counts()"
   ]
  },
  {
   "cell_type": "code",
   "execution_count": 25,
   "metadata": {},
   "outputs": [],
   "source": [
    "nodemap = pd.read_csv(\"data/node_map.tsv\", sep='\\t')"
   ]
  },
  {
   "cell_type": "code",
   "execution_count": 32,
   "metadata": {},
   "outputs": [],
   "source": [
    "lel = (results\n",
    "    .merge(\n",
    "        nodemap[[\"node_id\", \"name\"]], how=\"inner\",\n",
    "        left_on=\"chemical_id\", right_on=\"node_id\"\n",
    "    )\n",
    "    .drop(\"node_id\", axis=1)\n",
    "    .rename(columns={\"name\": \"chemical_name\"})\n",
    "    .merge(\n",
    "        nodemap[[\"node_id\", \"name\"]], how=\"inner\",\n",
    "        left_on=\"disease_id\", right_on=\"node_id\"\n",
    "    )\n",
    "    .drop(\"node_id\", axis=1)\n",
    "    .rename(columns={\"name\": \"disease_name\"})\n",
    "    .sort_values('predval', ascending=False)\n",
    "    .reset_index(drop=True)\n",
    ")"
   ]
  },
  {
   "cell_type": "code",
   "execution_count": 33,
   "metadata": {},
   "outputs": [
    {
     "data": {
      "text/html": [
       "<div>\n",
       "<style scoped>\n",
       "    .dataframe tbody tr th:only-of-type {\n",
       "        vertical-align: middle;\n",
       "    }\n",
       "\n",
       "    .dataframe tbody tr th {\n",
       "        vertical-align: top;\n",
       "    }\n",
       "\n",
       "    .dataframe thead th {\n",
       "        text-align: right;\n",
       "    }\n",
       "</style>\n",
       "<table border=\"1\" class=\"dataframe\">\n",
       "  <thead>\n",
       "    <tr style=\"text-align: right;\">\n",
       "      <th></th>\n",
       "      <th>chemical_id</th>\n",
       "      <th>disease_id</th>\n",
       "      <th>predval</th>\n",
       "      <th>category</th>\n",
       "      <th>chemical_name</th>\n",
       "      <th>disease_name</th>\n",
       "    </tr>\n",
       "  </thead>\n",
       "  <tbody>\n",
       "    <tr>\n",
       "      <th>0</th>\n",
       "      <td>C0010192</td>\n",
       "      <td>C0010192</td>\n",
       "      <td>1.000000</td>\n",
       "      <td>1</td>\n",
       "      <td>Cosyntropin</td>\n",
       "      <td>Cosyntropin</td>\n",
       "    </tr>\n",
       "    <tr>\n",
       "      <th>1</th>\n",
       "      <td>C0049065</td>\n",
       "      <td>C1458155</td>\n",
       "      <td>0.999995</td>\n",
       "      <td>0</td>\n",
       "      <td>5-aza-2'-deoxycytidine</td>\n",
       "      <td>breast cancer</td>\n",
       "    </tr>\n",
       "    <tr>\n",
       "      <th>2</th>\n",
       "      <td>C0770560</td>\n",
       "      <td>C0036830</td>\n",
       "      <td>0.999988</td>\n",
       "      <td>1</td>\n",
       "      <td>Hydrocortisone sodium succinate</td>\n",
       "      <td>Serum sickness (disorder)</td>\n",
       "    </tr>\n",
       "    <tr>\n",
       "      <th>3</th>\n",
       "      <td>C0040867</td>\n",
       "      <td>C0406326</td>\n",
       "      <td>0.999987</td>\n",
       "      <td>0</td>\n",
       "      <td>triamcinolone diacetate</td>\n",
       "      <td>Scalp psoriasis</td>\n",
       "    </tr>\n",
       "    <tr>\n",
       "      <th>4</th>\n",
       "      <td>C0049065</td>\n",
       "      <td>C0153493</td>\n",
       "      <td>0.999985</td>\n",
       "      <td>0</td>\n",
       "      <td>5-aza-2'-deoxycytidine</td>\n",
       "      <td>lung cancer</td>\n",
       "    </tr>\n",
       "  </tbody>\n",
       "</table>\n",
       "</div>"
      ],
      "text/plain": [
       "  chemical_id disease_id   predval  category                    chemical_name  \\\n",
       "0    C0010192   C0010192  1.000000         1                      Cosyntropin   \n",
       "1    C0049065   C1458155  0.999995         0           5-aza-2'-deoxycytidine   \n",
       "2    C0770560   C0036830  0.999988         1  Hydrocortisone sodium succinate   \n",
       "3    C0040867   C0406326  0.999987         0          triamcinolone diacetate   \n",
       "4    C0049065   C0153493  0.999985         0           5-aza-2'-deoxycytidine   \n",
       "\n",
       "                disease_name  \n",
       "0                Cosyntropin  \n",
       "1              breast cancer  \n",
       "2  Serum sickness (disorder)  \n",
       "3            Scalp psoriasis  \n",
       "4                lung cancer  "
      ]
     },
     "execution_count": 33,
     "metadata": {},
     "output_type": "execute_result"
    }
   ],
   "source": [
    "lel.head()"
   ]
  },
  {
   "cell_type": "markdown",
   "metadata": {},
   "source": [
    "## Look through results"
   ]
  },
  {
   "cell_type": "code",
   "execution_count": 45,
   "metadata": {},
   "outputs": [
    {
     "data": {
      "text/plain": [
       "(320759, 6)"
      ]
     },
     "execution_count": 45,
     "metadata": {},
     "output_type": "execute_result"
    }
   ],
   "source": [
    "lel.shape"
   ]
  },
  {
   "cell_type": "code",
   "execution_count": 50,
   "metadata": {},
   "outputs": [
    {
     "data": {
      "text/plain": [
       "(319529, 6)"
      ]
     },
     "execution_count": 50,
     "metadata": {},
     "output_type": "execute_result"
    }
   ],
   "source": [
    "lel.query(\"category == 0\").shape"
   ]
  },
  {
   "cell_type": "code",
   "execution_count": 49,
   "metadata": {},
   "outputs": [
    {
     "data": {
      "text/plain": [
       "(19210, 6)"
      ]
     },
     "execution_count": 49,
     "metadata": {},
     "output_type": "execute_result"
    }
   ],
   "source": [
    "lel.query(\"category == 0 and predval > 0.5\").shape"
   ]
  },
  {
   "cell_type": "code",
   "execution_count": 52,
   "metadata": {},
   "outputs": [
    {
     "data": {
      "text/plain": [
       "0.06011973874045861"
      ]
     },
     "execution_count": 52,
     "metadata": {},
     "output_type": "execute_result"
    }
   ],
   "source": [
    "19210/319529"
   ]
  },
  {
   "cell_type": "code",
   "execution_count": 51,
   "metadata": {},
   "outputs": [
    {
     "data": {
      "text/plain": [
       "(20069, 6)"
      ]
     },
     "execution_count": 51,
     "metadata": {},
     "output_type": "execute_result"
    }
   ],
   "source": [
    "lel.query(\"predval > 0.5\").shape"
   ]
  },
  {
   "cell_type": "code",
   "execution_count": null,
   "metadata": {},
   "outputs": [],
   "source": []
  },
  {
   "cell_type": "code",
   "execution_count": null,
   "metadata": {},
   "outputs": [],
   "source": []
  },
  {
   "cell_type": "code",
   "execution_count": null,
   "metadata": {},
   "outputs": [],
   "source": []
  },
  {
   "cell_type": "code",
   "execution_count": null,
   "metadata": {},
   "outputs": [],
   "source": []
  },
  {
   "cell_type": "code",
   "execution_count": 44,
   "metadata": {},
   "outputs": [
    {
     "data": {
      "text/html": [
       "<div>\n",
       "<style scoped>\n",
       "    .dataframe tbody tr th:only-of-type {\n",
       "        vertical-align: middle;\n",
       "    }\n",
       "\n",
       "    .dataframe tbody tr th {\n",
       "        vertical-align: top;\n",
       "    }\n",
       "\n",
       "    .dataframe thead th {\n",
       "        text-align: right;\n",
       "    }\n",
       "</style>\n",
       "<table border=\"1\" class=\"dataframe\">\n",
       "  <thead>\n",
       "    <tr style=\"text-align: right;\">\n",
       "      <th></th>\n",
       "      <th>chemical_id</th>\n",
       "      <th>disease_id</th>\n",
       "      <th>predval</th>\n",
       "      <th>category</th>\n",
       "      <th>chemical_name</th>\n",
       "      <th>disease_name</th>\n",
       "    </tr>\n",
       "  </thead>\n",
       "  <tbody>\n",
       "    <tr>\n",
       "      <th>1367</th>\n",
       "      <td>C0023726</td>\n",
       "      <td>C0684256</td>\n",
       "      <td>0.994527</td>\n",
       "      <td>0</td>\n",
       "      <td>Lincomycin</td>\n",
       "      <td>Bacterial septicemia</td>\n",
       "    </tr>\n",
       "    <tr>\n",
       "      <th>3677</th>\n",
       "      <td>C0360534</td>\n",
       "      <td>C0014742</td>\n",
       "      <td>0.965476</td>\n",
       "      <td>0</td>\n",
       "      <td>Alclometasone</td>\n",
       "      <td>Erythema Multiforme</td>\n",
       "    </tr>\n",
       "    <tr>\n",
       "      <th>2365</th>\n",
       "      <td>C0012963</td>\n",
       "      <td>C0264694</td>\n",
       "      <td>0.984968</td>\n",
       "      <td>0</td>\n",
       "      <td>Dobutamine</td>\n",
       "      <td>coronary artery disease</td>\n",
       "    </tr>\n",
       "    <tr>\n",
       "      <th>3631</th>\n",
       "      <td>C0040341</td>\n",
       "      <td>C0154640</td>\n",
       "      <td>0.966404</td>\n",
       "      <td>0</td>\n",
       "      <td>Tobramycin</td>\n",
       "      <td>Staphylococcal meningitis</td>\n",
       "    </tr>\n",
       "    <tr>\n",
       "      <th>3072</th>\n",
       "      <td>C0025815</td>\n",
       "      <td>C0343065</td>\n",
       "      <td>0.976028</td>\n",
       "      <td>0</td>\n",
       "      <td>Methylprednisolone</td>\n",
       "      <td>Symptomatic dermographism</td>\n",
       "    </tr>\n",
       "    <tr>\n",
       "      <th>4214</th>\n",
       "      <td>C0009011</td>\n",
       "      <td>C0234974</td>\n",
       "      <td>0.954694</td>\n",
       "      <td>0</td>\n",
       "      <td>Clonazepam</td>\n",
       "      <td>Simple Partial Seizures</td>\n",
       "    </tr>\n",
       "    <tr>\n",
       "      <th>4192</th>\n",
       "      <td>C0016360</td>\n",
       "      <td>C0026986</td>\n",
       "      <td>0.954999</td>\n",
       "      <td>0</td>\n",
       "      <td>Fluorouracil</td>\n",
       "      <td>Dysmyelopoietic Syndromes</td>\n",
       "    </tr>\n",
       "    <tr>\n",
       "      <th>570</th>\n",
       "      <td>C0770560</td>\n",
       "      <td>C0041321</td>\n",
       "      <td>0.998534</td>\n",
       "      <td>0</td>\n",
       "      <td>Hydrocortisone sodium succinate</td>\n",
       "      <td>Tuberculosis, Miliary</td>\n",
       "    </tr>\n",
       "    <tr>\n",
       "      <th>3981</th>\n",
       "      <td>C0213771</td>\n",
       "      <td>C0006277</td>\n",
       "      <td>0.959474</td>\n",
       "      <td>0</td>\n",
       "      <td>tiotropium</td>\n",
       "      <td>Bronchitis</td>\n",
       "    </tr>\n",
       "    <tr>\n",
       "      <th>2439</th>\n",
       "      <td>C0030830</td>\n",
       "      <td>C0030636</td>\n",
       "      <td>0.984032</td>\n",
       "      <td>0</td>\n",
       "      <td>Penicillin G, Procaine</td>\n",
       "      <td>Pasteurella Infections</td>\n",
       "    </tr>\n",
       "    <tr>\n",
       "      <th>1381</th>\n",
       "      <td>C0546866</td>\n",
       "      <td>C0152964</td>\n",
       "      <td>0.994436</td>\n",
       "      <td>0</td>\n",
       "      <td>Gentamicin Sulfate</td>\n",
       "      <td>[X]Streptococcal septicemia, unspecified</td>\n",
       "    </tr>\n",
       "    <tr>\n",
       "      <th>824</th>\n",
       "      <td>C0007557</td>\n",
       "      <td>C0275652</td>\n",
       "      <td>0.997430</td>\n",
       "      <td>0</td>\n",
       "      <td>Cefoxitin</td>\n",
       "      <td>Acute gonococcal urethritis</td>\n",
       "    </tr>\n",
       "    <tr>\n",
       "      <th>2032</th>\n",
       "      <td>C0038665</td>\n",
       "      <td>C0343402</td>\n",
       "      <td>0.988693</td>\n",
       "      <td>0</td>\n",
       "      <td>Sulbactam</td>\n",
       "      <td>Friedlander's bacillus infection</td>\n",
       "    </tr>\n",
       "    <tr>\n",
       "      <th>298</th>\n",
       "      <td>C0075870</td>\n",
       "      <td>C0032308</td>\n",
       "      <td>0.999399</td>\n",
       "      <td>0</td>\n",
       "      <td>tazobactam</td>\n",
       "      <td>Pneumonia, Staphylococcal</td>\n",
       "    </tr>\n",
       "    <tr>\n",
       "      <th>3920</th>\n",
       "      <td>C0033209</td>\n",
       "      <td>C0577708</td>\n",
       "      <td>0.960839</td>\n",
       "      <td>0</td>\n",
       "      <td>Probenecid</td>\n",
       "      <td>Escherichia coli urinary tract infection</td>\n",
       "    </tr>\n",
       "    <tr>\n",
       "      <th>4103</th>\n",
       "      <td>C0030827</td>\n",
       "      <td>C0007947</td>\n",
       "      <td>0.957003</td>\n",
       "      <td>0</td>\n",
       "      <td>Penicillin G</td>\n",
       "      <td>Chancroids</td>\n",
       "    </tr>\n",
       "    <tr>\n",
       "      <th>1422</th>\n",
       "      <td>C0075870</td>\n",
       "      <td>C0275556</td>\n",
       "      <td>0.994121</td>\n",
       "      <td>0</td>\n",
       "      <td>tazobactam</td>\n",
       "      <td>Acute bacterial sinusitis</td>\n",
       "    </tr>\n",
       "    <tr>\n",
       "      <th>344</th>\n",
       "      <td>C0008809</td>\n",
       "      <td>C0275665</td>\n",
       "      <td>0.999288</td>\n",
       "      <td>0</td>\n",
       "      <td>Ciprofloxacin</td>\n",
       "      <td>Gonococcal proctitis NOS</td>\n",
       "    </tr>\n",
       "    <tr>\n",
       "      <th>1952</th>\n",
       "      <td>C0066101</td>\n",
       "      <td>C0035455</td>\n",
       "      <td>0.989567</td>\n",
       "      <td>0</td>\n",
       "      <td>methdilazine</td>\n",
       "      <td>Rhinitis</td>\n",
       "    </tr>\n",
       "    <tr>\n",
       "      <th>845</th>\n",
       "      <td>C0002680</td>\n",
       "      <td>C0031154</td>\n",
       "      <td>0.997349</td>\n",
       "      <td>0</td>\n",
       "      <td>Ampicillin</td>\n",
       "      <td>Peritonitis</td>\n",
       "    </tr>\n",
       "  </tbody>\n",
       "</table>\n",
       "</div>"
      ],
      "text/plain": [
       "     chemical_id disease_id   predval  category  \\\n",
       "1367    C0023726   C0684256  0.994527         0   \n",
       "3677    C0360534   C0014742  0.965476         0   \n",
       "2365    C0012963   C0264694  0.984968         0   \n",
       "3631    C0040341   C0154640  0.966404         0   \n",
       "3072    C0025815   C0343065  0.976028         0   \n",
       "4214    C0009011   C0234974  0.954694         0   \n",
       "4192    C0016360   C0026986  0.954999         0   \n",
       "570     C0770560   C0041321  0.998534         0   \n",
       "3981    C0213771   C0006277  0.959474         0   \n",
       "2439    C0030830   C0030636  0.984032         0   \n",
       "1381    C0546866   C0152964  0.994436         0   \n",
       "824     C0007557   C0275652  0.997430         0   \n",
       "2032    C0038665   C0343402  0.988693         0   \n",
       "298     C0075870   C0032308  0.999399         0   \n",
       "3920    C0033209   C0577708  0.960839         0   \n",
       "4103    C0030827   C0007947  0.957003         0   \n",
       "1422    C0075870   C0275556  0.994121         0   \n",
       "344     C0008809   C0275665  0.999288         0   \n",
       "1952    C0066101   C0035455  0.989567         0   \n",
       "845     C0002680   C0031154  0.997349         0   \n",
       "\n",
       "                        chemical_name  \\\n",
       "1367                       Lincomycin   \n",
       "3677                    Alclometasone   \n",
       "2365                       Dobutamine   \n",
       "3631                       Tobramycin   \n",
       "3072               Methylprednisolone   \n",
       "4214                       Clonazepam   \n",
       "4192                     Fluorouracil   \n",
       "570   Hydrocortisone sodium succinate   \n",
       "3981                       tiotropium   \n",
       "2439           Penicillin G, Procaine   \n",
       "1381               Gentamicin Sulfate   \n",
       "824                         Cefoxitin   \n",
       "2032                        Sulbactam   \n",
       "298                        tazobactam   \n",
       "3920                       Probenecid   \n",
       "4103                     Penicillin G   \n",
       "1422                       tazobactam   \n",
       "344                     Ciprofloxacin   \n",
       "1952                     methdilazine   \n",
       "845                        Ampicillin   \n",
       "\n",
       "                                  disease_name  \n",
       "1367                      Bacterial septicemia  \n",
       "3677                       Erythema Multiforme  \n",
       "2365                   coronary artery disease  \n",
       "3631                 Staphylococcal meningitis  \n",
       "3072                 Symptomatic dermographism  \n",
       "4214                   Simple Partial Seizures  \n",
       "4192                 Dysmyelopoietic Syndromes  \n",
       "570                      Tuberculosis, Miliary  \n",
       "3981                                Bronchitis  \n",
       "2439                    Pasteurella Infections  \n",
       "1381  [X]Streptococcal septicemia, unspecified  \n",
       "824                Acute gonococcal urethritis  \n",
       "2032          Friedlander's bacillus infection  \n",
       "298                  Pneumonia, Staphylococcal  \n",
       "3920  Escherichia coli urinary tract infection  \n",
       "4103                                Chancroids  \n",
       "1422                 Acute bacterial sinusitis  \n",
       "344                   Gonococcal proctitis NOS  \n",
       "1952                                  Rhinitis  \n",
       "845                                Peritonitis  "
      ]
     },
     "execution_count": 44,
     "metadata": {},
     "output_type": "execute_result"
    }
   ],
   "source": [
    "(lel\n",
    "    .query(\"category == 0 and predval > 0.95\")\n",
    "    .assign(\n",
    "        cancer = lambda df: df[\"disease_name\"].str.contains(\"cancer\")\n",
    "    )\n",
    "    .query(\"~cancer\")\n",
    "    .drop(\"cancer\", axis=1)\n",
    "    .sample(20)\n",
    ")"
   ]
  },
  {
   "cell_type": "code",
   "execution_count": null,
   "metadata": {},
   "outputs": [],
   "source": []
  }
 ],
 "metadata": {
  "kernelspec": {
   "display_name": "Python 3",
   "language": "python",
   "name": "python3"
  },
  "language_info": {
   "codemirror_mode": {
    "name": "ipython",
    "version": 3
   },
   "file_extension": ".py",
   "mimetype": "text/x-python",
   "name": "python",
   "nbconvert_exporter": "python",
   "pygments_lexer": "ipython3",
   "version": "3.6.2"
  }
 },
 "nbformat": 4,
 "nbformat_minor": 2
}
