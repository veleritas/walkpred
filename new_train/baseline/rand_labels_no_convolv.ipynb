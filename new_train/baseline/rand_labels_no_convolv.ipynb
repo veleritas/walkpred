{
 "cells": [
  {
   "cell_type": "markdown",
   "metadata": {},
   "source": [
    "# Can we force a 0.5 ROC by randomizing the data?\n",
    "\n",
    "Randomize the labels attached to the training pairs. Pairs are kept the same. Retries without convolved features to see if convolving removes the ability to overfit."
   ]
  },
  {
   "cell_type": "code",
   "execution_count": 1,
   "metadata": {},
   "outputs": [],
   "source": [
    "import pandas as pd\n",
    "import numpy as np\n",
    "\n",
    "from sklearn.linear_model import LogisticRegression\n",
    "\n",
    "from glob import glob\n",
    "import seaborn as sns\n",
    "from collections import defaultdict"
   ]
  },
  {
   "cell_type": "code",
   "execution_count": 2,
   "metadata": {},
   "outputs": [],
   "source": [
    "import matplotlib.pyplot as plt"
   ]
  },
  {
   "cell_type": "code",
   "execution_count": 3,
   "metadata": {},
   "outputs": [],
   "source": [
    "from sklearn.metrics import roc_curve, auc, precision_recall_curve"
   ]
  },
  {
   "cell_type": "code",
   "execution_count": 4,
   "metadata": {},
   "outputs": [],
   "source": [
    "%matplotlib inline"
   ]
  },
  {
   "cell_type": "code",
   "execution_count": 5,
   "metadata": {},
   "outputs": [],
   "source": [
    "np.random.seed(1348512374)"
   ]
  },
  {
   "cell_type": "markdown",
   "metadata": {
    "collapsed": true
   },
   "source": [
    "np.random.seed(20171101)"
   ]
  },
  {
   "cell_type": "markdown",
   "metadata": {},
   "source": [
    "## Read deepwalk embeddings"
   ]
  },
  {
   "cell_type": "code",
   "execution_count": 6,
   "metadata": {},
   "outputs": [],
   "source": [
    "sizes = list(2**i for i in range(3, 9))"
   ]
  },
  {
   "cell_type": "code",
   "execution_count": 7,
   "metadata": {},
   "outputs": [
    {
     "data": {
      "text/plain": [
       "[8, 16, 32, 64, 128, 256]"
      ]
     },
     "execution_count": 7,
     "metadata": {},
     "output_type": "execute_result"
    }
   ],
   "source": [
    "sizes"
   ]
  },
  {
   "cell_type": "code",
   "execution_count": 8,
   "metadata": {},
   "outputs": [],
   "source": [
    "features = {}\n",
    "for vecsize in sizes:\n",
    "    fname = \"../embeddings/normal_{}.txt\".format(vecsize)\n",
    "\n",
    "    features[vecsize] = pd.read_csv(\n",
    "        fname, sep=\" \", skiprows=1,\n",
    "        names=[\"uid\"] + [\"f{}\".format(i) for i in range(vecsize)]\n",
    "    )"
   ]
  },
  {
   "cell_type": "markdown",
   "metadata": {},
   "source": [
    "## Read training data"
   ]
  },
  {
   "cell_type": "code",
   "execution_count": 9,
   "metadata": {},
   "outputs": [],
   "source": [
    "traind = pd.read_csv(\"../data/clean_train.tsv\", sep='\\t')"
   ]
  },
  {
   "cell_type": "code",
   "execution_count": 10,
   "metadata": {},
   "outputs": [
    {
     "data": {
      "text/plain": [
       "(138639, 5)"
      ]
     },
     "execution_count": 10,
     "metadata": {},
     "output_type": "execute_result"
    }
   ],
   "source": [
    "traind.shape"
   ]
  },
  {
   "cell_type": "code",
   "execution_count": 11,
   "metadata": {},
   "outputs": [
    {
     "data": {
      "text/html": [
       "<div>\n",
       "<style scoped>\n",
       "    .dataframe tbody tr th:only-of-type {\n",
       "        vertical-align: middle;\n",
       "    }\n",
       "\n",
       "    .dataframe tbody tr th {\n",
       "        vertical-align: top;\n",
       "    }\n",
       "\n",
       "    .dataframe thead th {\n",
       "        text-align: right;\n",
       "    }\n",
       "</style>\n",
       "<table border=\"1\" class=\"dataframe\">\n",
       "  <thead>\n",
       "    <tr style=\"text-align: right;\">\n",
       "      <th></th>\n",
       "      <th>chemical_id</th>\n",
       "      <th>disease_id</th>\n",
       "      <th>category</th>\n",
       "      <th>chemical_uid</th>\n",
       "      <th>disease_uid</th>\n",
       "    </tr>\n",
       "  </thead>\n",
       "  <tbody>\n",
       "    <tr>\n",
       "      <th>0</th>\n",
       "      <td>DB00035</td>\n",
       "      <td>ORPHA:100054</td>\n",
       "      <td>0</td>\n",
       "      <td>22434</td>\n",
       "      <td>989</td>\n",
       "    </tr>\n",
       "    <tr>\n",
       "      <th>1</th>\n",
       "      <td>DB00104</td>\n",
       "      <td>ORPHA:100054</td>\n",
       "      <td>0</td>\n",
       "      <td>3845</td>\n",
       "      <td>989</td>\n",
       "    </tr>\n",
       "    <tr>\n",
       "      <th>2</th>\n",
       "      <td>DB00115</td>\n",
       "      <td>ORPHA:100054</td>\n",
       "      <td>0</td>\n",
       "      <td>54459</td>\n",
       "      <td>989</td>\n",
       "    </tr>\n",
       "  </tbody>\n",
       "</table>\n",
       "</div>"
      ],
      "text/plain": [
       "  chemical_id    disease_id  category  chemical_uid  disease_uid\n",
       "0     DB00035  ORPHA:100054         0         22434          989\n",
       "1     DB00104  ORPHA:100054         0          3845          989\n",
       "2     DB00115  ORPHA:100054         0         54459          989"
      ]
     },
     "execution_count": 11,
     "metadata": {},
     "output_type": "execute_result"
    }
   ],
   "source": [
    "traind.head(3)"
   ]
  },
  {
   "cell_type": "code",
   "execution_count": 12,
   "metadata": {},
   "outputs": [
    {
     "data": {
      "text/plain": [
       "0    137008\n",
       "1      1631\n",
       "Name: category, dtype: int64"
      ]
     },
     "execution_count": 12,
     "metadata": {},
     "output_type": "execute_result"
    }
   ],
   "source": [
    "traind[\"category\"].value_counts()"
   ]
  },
  {
   "cell_type": "markdown",
   "metadata": {},
   "source": [
    "## Randomize training data labels\n",
    "\n",
    "But keep the proportions constant."
   ]
  },
  {
   "cell_type": "code",
   "execution_count": 13,
   "metadata": {},
   "outputs": [],
   "source": [
    "tmp = list(traind[\"category\"])\n",
    "np.random.shuffle(tmp)\n",
    "\n",
    "rand_train = (traind\n",
    "    .drop(\"category\", axis=1)\n",
    "    .assign(category = tmp)\n",
    ")"
   ]
  },
  {
   "cell_type": "markdown",
   "metadata": {},
   "source": [
    "### Check for amount overlap"
   ]
  },
  {
   "cell_type": "code",
   "execution_count": 14,
   "metadata": {},
   "outputs": [
    {
     "data": {
      "text/plain": [
       "(17, 8)"
      ]
     },
     "execution_count": 14,
     "metadata": {},
     "output_type": "execute_result"
    }
   ],
   "source": [
    "(rand_train\n",
    "    .query(\"category == 1\")\n",
    "    .merge(\n",
    "        traind.query(\"category == 1\"),\n",
    "        how=\"inner\", on=[\"chemical_id\", \"disease_id\"]\n",
    "    )\n",
    ").shape"
   ]
  },
  {
   "cell_type": "markdown",
   "metadata": {},
   "source": [
    "## Subsample random training data"
   ]
  },
  {
   "cell_type": "code",
   "execution_count": 15,
   "metadata": {},
   "outputs": [],
   "source": [
    "trainpos = rand_train.query(\"category == 1\")\n",
    "K = 3\n",
    "\n",
    "train = (trainpos\n",
    "    .append(\n",
    "        (rand_train\n",
    "            .query(\"category == 0\")\n",
    "            .sample(len(trainpos) * K)\n",
    "        )\n",
    "    )\n",
    "    .reset_index(drop=True)\n",
    ")"
   ]
  },
  {
   "cell_type": "code",
   "execution_count": 16,
   "metadata": {},
   "outputs": [
    {
     "data": {
      "text/html": [
       "<div>\n",
       "<style scoped>\n",
       "    .dataframe tbody tr th:only-of-type {\n",
       "        vertical-align: middle;\n",
       "    }\n",
       "\n",
       "    .dataframe tbody tr th {\n",
       "        vertical-align: top;\n",
       "    }\n",
       "\n",
       "    .dataframe thead th {\n",
       "        text-align: right;\n",
       "    }\n",
       "</style>\n",
       "<table border=\"1\" class=\"dataframe\">\n",
       "  <thead>\n",
       "    <tr style=\"text-align: right;\">\n",
       "      <th></th>\n",
       "      <th>chemical_id</th>\n",
       "      <th>disease_id</th>\n",
       "      <th>chemical_uid</th>\n",
       "      <th>disease_uid</th>\n",
       "      <th>category</th>\n",
       "    </tr>\n",
       "  </thead>\n",
       "  <tbody>\n",
       "    <tr>\n",
       "      <th>0</th>\n",
       "      <td>DB00422</td>\n",
       "      <td>ORPHA:100054</td>\n",
       "      <td>22200</td>\n",
       "      <td>989</td>\n",
       "      <td>1</td>\n",
       "    </tr>\n",
       "    <tr>\n",
       "      <th>1</th>\n",
       "      <td>DB01219</td>\n",
       "      <td>ORPHA:100054</td>\n",
       "      <td>52120</td>\n",
       "      <td>989</td>\n",
       "      <td>1</td>\n",
       "    </tr>\n",
       "    <tr>\n",
       "      <th>2</th>\n",
       "      <td>DB06203</td>\n",
       "      <td>ORPHA:100054</td>\n",
       "      <td>34970</td>\n",
       "      <td>989</td>\n",
       "      <td>1</td>\n",
       "    </tr>\n",
       "    <tr>\n",
       "      <th>3</th>\n",
       "      <td>DB00146</td>\n",
       "      <td>ORPHA:100976</td>\n",
       "      <td>47095</td>\n",
       "      <td>2310</td>\n",
       "      <td>1</td>\n",
       "    </tr>\n",
       "    <tr>\n",
       "      <th>4</th>\n",
       "      <td>DB00152</td>\n",
       "      <td>ORPHA:100976</td>\n",
       "      <td>35161</td>\n",
       "      <td>2310</td>\n",
       "      <td>1</td>\n",
       "    </tr>\n",
       "  </tbody>\n",
       "</table>\n",
       "</div>"
      ],
      "text/plain": [
       "  chemical_id    disease_id  chemical_uid  disease_uid  category\n",
       "0     DB00422  ORPHA:100054         22200          989         1\n",
       "1     DB01219  ORPHA:100054         52120          989         1\n",
       "2     DB06203  ORPHA:100054         34970          989         1\n",
       "3     DB00146  ORPHA:100976         47095         2310         1\n",
       "4     DB00152  ORPHA:100976         35161         2310         1"
      ]
     },
     "execution_count": 16,
     "metadata": {},
     "output_type": "execute_result"
    }
   ],
   "source": [
    "train.head()"
   ]
  },
  {
   "cell_type": "code",
   "execution_count": 17,
   "metadata": {},
   "outputs": [
    {
     "data": {
      "text/plain": [
       "0    0.75\n",
       "1    0.25\n",
       "Name: category, dtype: float64"
      ]
     },
     "execution_count": 17,
     "metadata": {},
     "output_type": "execute_result"
    }
   ],
   "source": [
    "train[\"category\"].value_counts(normalize=True)"
   ]
  },
  {
   "cell_type": "markdown",
   "metadata": {},
   "source": [
    "---"
   ]
  },
  {
   "cell_type": "markdown",
   "metadata": {},
   "source": [
    "## Add in features"
   ]
  },
  {
   "cell_type": "code",
   "execution_count": 18,
   "metadata": {},
   "outputs": [],
   "source": [
    "def add_features(df, features):\n",
    "    return (df\n",
    "        .merge(\n",
    "            features, how=\"inner\", left_on=\"chemical_uid\", right_on=\"uid\"\n",
    "        )\n",
    "        .drop(\"uid\", axis=1)\n",
    "        .merge(\n",
    "            features, how=\"inner\", left_on=\"disease_uid\", right_on=\"uid\"\n",
    "        )\n",
    "        .drop(\"uid\", axis=1)\n",
    "    )"
   ]
  },
  {
   "cell_type": "code",
   "execution_count": 19,
   "metadata": {},
   "outputs": [],
   "source": [
    "tmp = {}\n",
    "for vecsize, featdf in features.items():\n",
    "    tmp[vecsize] = add_features(train, featdf)"
   ]
  },
  {
   "cell_type": "markdown",
   "metadata": {},
   "source": [
    "## Train classifiers"
   ]
  },
  {
   "cell_type": "code",
   "execution_count": 20,
   "metadata": {},
   "outputs": [],
   "source": [
    "models = {}\n",
    "for vecsize, tdata in tmp.items():\n",
    "    feat_cols = (\n",
    "        [\"f{}_x\".format(i) for i in range(vecsize)]\n",
    "        + [\"f{}_y\".format(i) for i in range(vecsize)]\n",
    "    )\n",
    "    \n",
    "    models[vecsize] = LogisticRegression(C=1e9)\n",
    "    models[vecsize].fit(tdata[feat_cols], tdata[\"category\"])"
   ]
  },
  {
   "cell_type": "markdown",
   "metadata": {},
   "source": [
    "## Predict on holdout data"
   ]
  },
  {
   "cell_type": "code",
   "execution_count": 21,
   "metadata": {},
   "outputs": [],
   "source": [
    "holdoutd = pd.read_csv(\"../data/clean_holdout.tsv\", sep='\\t')"
   ]
  },
  {
   "cell_type": "code",
   "execution_count": 22,
   "metadata": {},
   "outputs": [
    {
     "data": {
      "text/html": [
       "<div>\n",
       "<style scoped>\n",
       "    .dataframe tbody tr th:only-of-type {\n",
       "        vertical-align: middle;\n",
       "    }\n",
       "\n",
       "    .dataframe tbody tr th {\n",
       "        vertical-align: top;\n",
       "    }\n",
       "\n",
       "    .dataframe thead th {\n",
       "        text-align: right;\n",
       "    }\n",
       "</style>\n",
       "<table border=\"1\" class=\"dataframe\">\n",
       "  <thead>\n",
       "    <tr style=\"text-align: right;\">\n",
       "      <th></th>\n",
       "      <th>chemical_id</th>\n",
       "      <th>disease_id</th>\n",
       "      <th>category</th>\n",
       "      <th>chemical_uid</th>\n",
       "      <th>disease_uid</th>\n",
       "    </tr>\n",
       "  </thead>\n",
       "  <tbody>\n",
       "    <tr>\n",
       "      <th>0</th>\n",
       "      <td>DB00035</td>\n",
       "      <td>ORPHA:100050</td>\n",
       "      <td>0</td>\n",
       "      <td>22434</td>\n",
       "      <td>14962</td>\n",
       "    </tr>\n",
       "    <tr>\n",
       "      <th>1</th>\n",
       "      <td>DB00104</td>\n",
       "      <td>ORPHA:100050</td>\n",
       "      <td>0</td>\n",
       "      <td>3845</td>\n",
       "      <td>14962</td>\n",
       "    </tr>\n",
       "    <tr>\n",
       "      <th>2</th>\n",
       "      <td>DB00121</td>\n",
       "      <td>ORPHA:100050</td>\n",
       "      <td>0</td>\n",
       "      <td>41945</td>\n",
       "      <td>14962</td>\n",
       "    </tr>\n",
       "    <tr>\n",
       "      <th>3</th>\n",
       "      <td>DB00131</td>\n",
       "      <td>ORPHA:100050</td>\n",
       "      <td>0</td>\n",
       "      <td>7630</td>\n",
       "      <td>14962</td>\n",
       "    </tr>\n",
       "    <tr>\n",
       "      <th>4</th>\n",
       "      <td>DB00139</td>\n",
       "      <td>ORPHA:100050</td>\n",
       "      <td>0</td>\n",
       "      <td>31269</td>\n",
       "      <td>14962</td>\n",
       "    </tr>\n",
       "  </tbody>\n",
       "</table>\n",
       "</div>"
      ],
      "text/plain": [
       "  chemical_id    disease_id  category  chemical_uid  disease_uid\n",
       "0     DB00035  ORPHA:100050         0         22434        14962\n",
       "1     DB00104  ORPHA:100050         0          3845        14962\n",
       "2     DB00121  ORPHA:100050         0         41945        14962\n",
       "3     DB00131  ORPHA:100050         0          7630        14962\n",
       "4     DB00139  ORPHA:100050         0         31269        14962"
      ]
     },
     "execution_count": 22,
     "metadata": {},
     "output_type": "execute_result"
    }
   ],
   "source": [
    "holdoutd.head()"
   ]
  },
  {
   "cell_type": "code",
   "execution_count": 24,
   "metadata": {},
   "outputs": [],
   "source": [
    "results = {}\n",
    "for vecsize, regmodel in models.items():\n",
    "    test = add_features(holdoutd.drop(\"category\", axis=1), features[vecsize])\n",
    "    \n",
    "    featcols = (\n",
    "        [\"f{}_x\".format(i) for i in range(vecsize)]\n",
    "        + [\"f{}_y\".format(i) for i in range(vecsize)]\n",
    "    )\n",
    "\n",
    "    ans = test.assign(predval = lambda df: regmodel.predict_proba(df[featcols])[:, 1])\n",
    "    \n",
    "    results[vecsize] = (ans\n",
    "        [[\"chemical_id\", \"disease_id\", \"predval\"]]\n",
    "        .merge(\n",
    "            holdoutd[[\"chemical_id\", \"disease_id\", \"category\"]],\n",
    "            how=\"inner\", on=[\"chemical_id\", \"disease_id\"]\n",
    "        )\n",
    "    )"
   ]
  },
  {
   "cell_type": "code",
   "execution_count": 25,
   "metadata": {},
   "outputs": [],
   "source": [
    "fusion = holdoutd[[\"chemical_id\", \"disease_id\", \"category\"]]\n",
    "\n",
    "for vecsize, res in results.items():\n",
    "    fusion = (fusion\n",
    "        .merge(\n",
    "            res[[\"chemical_id\", \"disease_id\", \"predval\"]],\n",
    "            how=\"inner\", on=[\"chemical_id\", \"disease_id\"]\n",
    "        )\n",
    "        .rename(columns={\"predval\": \"predval{}\".format(vecsize)})\n",
    "    )"
   ]
  },
  {
   "cell_type": "code",
   "execution_count": 26,
   "metadata": {},
   "outputs": [
    {
     "data": {
      "text/plain": [
       "(39288, 9)"
      ]
     },
     "execution_count": 26,
     "metadata": {},
     "output_type": "execute_result"
    }
   ],
   "source": [
    "fusion.shape"
   ]
  },
  {
   "cell_type": "code",
   "execution_count": 27,
   "metadata": {},
   "outputs": [
    {
     "data": {
      "text/html": [
       "<div>\n",
       "<style scoped>\n",
       "    .dataframe tbody tr th:only-of-type {\n",
       "        vertical-align: middle;\n",
       "    }\n",
       "\n",
       "    .dataframe tbody tr th {\n",
       "        vertical-align: top;\n",
       "    }\n",
       "\n",
       "    .dataframe thead th {\n",
       "        text-align: right;\n",
       "    }\n",
       "</style>\n",
       "<table border=\"1\" class=\"dataframe\">\n",
       "  <thead>\n",
       "    <tr style=\"text-align: right;\">\n",
       "      <th></th>\n",
       "      <th>chemical_id</th>\n",
       "      <th>disease_id</th>\n",
       "      <th>category</th>\n",
       "      <th>predval8</th>\n",
       "      <th>predval16</th>\n",
       "      <th>predval32</th>\n",
       "      <th>predval64</th>\n",
       "      <th>predval128</th>\n",
       "      <th>predval256</th>\n",
       "    </tr>\n",
       "  </thead>\n",
       "  <tbody>\n",
       "    <tr>\n",
       "      <th>0</th>\n",
       "      <td>DB00035</td>\n",
       "      <td>ORPHA:100050</td>\n",
       "      <td>0</td>\n",
       "      <td>0.263298</td>\n",
       "      <td>0.206171</td>\n",
       "      <td>0.196069</td>\n",
       "      <td>0.227208</td>\n",
       "      <td>0.100679</td>\n",
       "      <td>0.992391</td>\n",
       "    </tr>\n",
       "    <tr>\n",
       "      <th>1</th>\n",
       "      <td>DB00104</td>\n",
       "      <td>ORPHA:100050</td>\n",
       "      <td>0</td>\n",
       "      <td>0.261255</td>\n",
       "      <td>0.235900</td>\n",
       "      <td>0.156022</td>\n",
       "      <td>0.307330</td>\n",
       "      <td>0.159478</td>\n",
       "      <td>0.996388</td>\n",
       "    </tr>\n",
       "    <tr>\n",
       "      <th>2</th>\n",
       "      <td>DB00121</td>\n",
       "      <td>ORPHA:100050</td>\n",
       "      <td>0</td>\n",
       "      <td>0.262525</td>\n",
       "      <td>0.216810</td>\n",
       "      <td>0.175208</td>\n",
       "      <td>0.157964</td>\n",
       "      <td>0.043336</td>\n",
       "      <td>0.971740</td>\n",
       "    </tr>\n",
       "    <tr>\n",
       "      <th>3</th>\n",
       "      <td>DB00131</td>\n",
       "      <td>ORPHA:100050</td>\n",
       "      <td>0</td>\n",
       "      <td>0.262761</td>\n",
       "      <td>0.218275</td>\n",
       "      <td>0.171722</td>\n",
       "      <td>0.194968</td>\n",
       "      <td>0.046357</td>\n",
       "      <td>0.919585</td>\n",
       "    </tr>\n",
       "    <tr>\n",
       "      <th>4</th>\n",
       "      <td>DB00139</td>\n",
       "      <td>ORPHA:100050</td>\n",
       "      <td>0</td>\n",
       "      <td>0.260487</td>\n",
       "      <td>0.198754</td>\n",
       "      <td>0.193122</td>\n",
       "      <td>0.191691</td>\n",
       "      <td>0.067571</td>\n",
       "      <td>0.975328</td>\n",
       "    </tr>\n",
       "  </tbody>\n",
       "</table>\n",
       "</div>"
      ],
      "text/plain": [
       "  chemical_id    disease_id  category  predval8  predval16  predval32  \\\n",
       "0     DB00035  ORPHA:100050         0  0.263298   0.206171   0.196069   \n",
       "1     DB00104  ORPHA:100050         0  0.261255   0.235900   0.156022   \n",
       "2     DB00121  ORPHA:100050         0  0.262525   0.216810   0.175208   \n",
       "3     DB00131  ORPHA:100050         0  0.262761   0.218275   0.171722   \n",
       "4     DB00139  ORPHA:100050         0  0.260487   0.198754   0.193122   \n",
       "\n",
       "   predval64  predval128  predval256  \n",
       "0   0.227208    0.100679    0.992391  \n",
       "1   0.307330    0.159478    0.996388  \n",
       "2   0.157964    0.043336    0.971740  \n",
       "3   0.194968    0.046357    0.919585  \n",
       "4   0.191691    0.067571    0.975328  "
      ]
     },
     "execution_count": 27,
     "metadata": {},
     "output_type": "execute_result"
    }
   ],
   "source": [
    "fusion.head()"
   ]
  },
  {
   "cell_type": "markdown",
   "metadata": {},
   "source": [
    "---"
   ]
  },
  {
   "cell_type": "markdown",
   "metadata": {},
   "source": [
    "## Draw ROC curves"
   ]
  },
  {
   "cell_type": "code",
   "execution_count": 28,
   "metadata": {},
   "outputs": [],
   "source": [
    "def plot_roc(res_df, metrics, name_map, title=\"ROC\"):\n",
    "    auroc_results = defaultdict(dict)\n",
    "\n",
    "    for metric in metrics:\n",
    "        tmp = res_df[[\"category\", metric]].sort_values(metric)\n",
    "        fpr, tpr, thresh = roc_curve(tmp[\"category\"], tmp[metric])\n",
    "\n",
    "        auroc_results[metric]['fpr'] = fpr\n",
    "        auroc_results[metric]['tpr'] = tpr\n",
    "        auroc_results[metric]['thresh'] = thresh\n",
    "        auroc_results[metric]['auc'] = auc(fpr, tpr)\n",
    "\n",
    "    lw = 4\n",
    "    x = [i for i in np.arange(0.0,1.01,.01)]\n",
    "    plt.plot(x,x, 'k--', lw = 2)\n",
    "    for metric in metrics:\n",
    "        plt.plot(auroc_results[metric]['fpr'], auroc_results[metric]['tpr'], lw=lw,\n",
    "                 label='{0} (area = {1:0.2f})'\n",
    "                     .format(name_map[metric], auroc_results[metric]['auc']))\n",
    "    fig = plt.gcf()\n",
    "    fig.set_size_inches(8, 7)\n",
    "    fig.set_tight_layout(False)\n",
    "    plt.xlim([-0.01, 1.01])\n",
    "    plt.ylim([-0.01, 1.01])\n",
    "    plt.xticks(size=16)\n",
    "    plt.yticks(size=16)\n",
    "    plt.xlabel('FPR', size=20)\n",
    "    plt.ylabel('TPR', size=20)\n",
    "    plt.title(title, size=24)\n",
    "    plt.legend(loc=\"lower right\", frameon=True, shadow=True, prop={'size':16});"
   ]
  },
  {
   "cell_type": "code",
   "execution_count": 29,
   "metadata": {},
   "outputs": [],
   "source": [
    "def plot_pr(res_df, metrics, name_map, title=\"ROC\"):\n",
    "    auroc_results = defaultdict(dict)\n",
    "\n",
    "    for metric in metrics:\n",
    "        tmp = res_df[[\"category\", metric]]\n",
    "        precision, recall, thresh = precision_recall_curve(tmp[\"category\"], tmp[metric])\n",
    "\n",
    "        auroc_results[metric]['precision'] = precision\n",
    "        auroc_results[metric]['recall'] = recall\n",
    "        auroc_results[metric]['thresh'] = thresh\n",
    "        auroc_results[metric]['auc'] = auc(recall, precision)\n",
    "\n",
    "    lw = 4\n",
    "    x = [i for i in np.arange(0.0,1.01,.01)]\n",
    "    for metric in metrics:\n",
    "        plt.plot(auroc_results[metric]['recall'], auroc_results[metric]['precision'], lw=lw,\n",
    "                 label='{0} (area = {1:0.2f})'\n",
    "                     .format(name_map[metric], auroc_results[metric]['auc']))\n",
    "    fig = plt.gcf()\n",
    "    fig.set_size_inches(8, 7)\n",
    "    fig.set_tight_layout(False)\n",
    "    plt.xlim([-0.01, 1.01])\n",
    "    plt.ylim([-0.01, 1.01])\n",
    "    plt.xticks(size=16)\n",
    "    plt.yticks(size=16)\n",
    "    plt.xlabel('Recall', size=20)\n",
    "    plt.ylabel('Precision', size=20)\n",
    "    plt.title(title, size=24)\n",
    "    plt.legend(loc=\"upper right\", frameon=True, shadow=True, prop={'size':16});"
   ]
  },
  {
   "cell_type": "code",
   "execution_count": 30,
   "metadata": {},
   "outputs": [
    {
     "data": {
      "image/png": "[encoded data removed]",
      "text/plain": [
       "<matplotlib.figure.Figure at 0x7f9ad8937160>"
      ]
     },
     "metadata": {},
     "output_type": "display_data"
    }
   ],
   "source": [
    "plot_roc(\n",
    "    fusion,\n",
    "    [\"predval{}\".format(i) for i in sizes],\n",
    "    {\n",
    "        \"predval{}\".format(i): \"vecsize {}\".format(i)\n",
    "        for i in sizes\n",
    "    },\n",
    "    title=\"ROC with randomized train labels\"\n",
    ")"
   ]
  },
  {
   "cell_type": "code",
   "execution_count": 31,
   "metadata": {},
   "outputs": [
    {
     "data": {
      "image/png": "[encoded data removed]",
      "text/plain": [
       "<matplotlib.figure.Figure at 0x7f9ad884a240>"
      ]
     },
     "metadata": {},
     "output_type": "display_data"
    }
   ],
   "source": [
    "plot_pr(\n",
    "    fusion,\n",
    "    [\"predval{}\".format(i) for i in sizes],\n",
    "    {\n",
    "        \"predval{}\".format(i): \"vecsize {}\".format(i)\n",
    "        for i in sizes\n",
    "    },\n",
    "    title=\"ROC with randomized train labels\"\n",
    ")"
   ]
  },
  {
   "cell_type": "markdown",
   "metadata": {
    "collapsed": true
   },
   "source": [
    "the pr curve looks correct. do we expect the roc to be all on y=x? let's try again with complete randomization"
   ]
  },
  {
   "cell_type": "code",
   "execution_count": null,
   "metadata": {},
   "outputs": [],
   "source": []
  }
 ],
 "metadata": {
  "kernelspec": {
   "display_name": "Python 3",
   "language": "python",
   "name": "python3"
  },
  "language_info": {
   "codemirror_mode": {
    "name": "ipython",
    "version": 3
   },
   "file_extension": ".py",
   "mimetype": "text/x-python",
   "name": "python",
   "nbconvert_exporter": "python",
   "pygments_lexer": "ipython3",
   "version": "3.6.2"
  }
 },
 "nbformat": 4,
 "nbformat_minor": 2
}
