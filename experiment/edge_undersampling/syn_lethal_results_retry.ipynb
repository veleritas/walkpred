{
 "cells": [
  {
   "cell_type": "markdown",
   "metadata": {},
   "source": [
    "# Deepwalk performance on hetionet alone"
   ]
  },
  {
   "cell_type": "markdown",
   "metadata": {},
   "source": [
    "read each feature set and test set in linear order\n",
    "\n",
    "calculate the roc values and save\n",
    "\n",
    "\n",
    "after all done:\n",
    "    draw graph"
   ]
  },
  {
   "cell_type": "code",
   "execution_count": 1,
   "metadata": {},
   "outputs": [],
   "source": [
    "import pandas as pd\n",
    "import numpy as np\n",
    "\n",
    "from tqdm import tqdm\n",
    "\n",
    "from scipy import interp\n",
    "import matplotlib.pyplot as plt\n",
    "from sklearn.metrics import roc_curve, auc\n",
    "from sklearn.metrics import precision_recall_curve\n",
    "\n",
    "from sklearn.linear_model import LogisticRegression\n",
    "\n",
    "from glob import glob\n",
    "import os\n",
    "import seaborn as sns"
   ]
  },
  {
   "cell_type": "code",
   "execution_count": 2,
   "metadata": {},
   "outputs": [],
   "source": [
    "%matplotlib inline"
   ]
  },
  {
   "cell_type": "markdown",
   "metadata": {},
   "source": [
    "---"
   ]
  },
  {
   "cell_type": "markdown",
   "metadata": {},
   "source": [
    "if no embedding for training data\n"
   ]
  },
  {
   "cell_type": "code",
   "execution_count": 3,
   "metadata": {},
   "outputs": [],
   "source": [
    "def add_features(df, features, mergetype):\n",
    "    return (df\n",
    "        .merge(\n",
    "            features, how=mergetype, left_on=\"chemical_uid\", right_on=\"uid\"\n",
    "        )\n",
    "        .drop(\"uid\", axis=1)\n",
    "        .merge(\n",
    "            features, how=mergetype, left_on=\"disease_uid\", right_on=\"uid\"\n",
    "        )\n",
    "        .drop(\"uid\", axis=1)\n",
    "    )\n",
    "\n",
    "def convolv_features(df, features, vecsize, mergetype):\n",
    "    reg = add_features(df, features, mergetype)\n",
    "    \n",
    "    # do multiply and get rid of old features\n",
    "    for i in range(vecsize):\n",
    "        reg[\"conv{}\".format(i)] = reg[\"f{}_x\".format(i)] * reg[\"f{}_y\".format(i)]\n",
    "\n",
    "    reg = (reg\n",
    "        .drop(\n",
    "            [\"f{}_x\".format(i) for i in range(vecsize)], axis=1\n",
    "        )\n",
    "        .drop(\n",
    "            [\"f{}_y\".format(i) for i in range(vecsize)], axis=1\n",
    "        )\n",
    "    )\n",
    "        \n",
    "    return reg"
   ]
  },
  {
   "cell_type": "markdown",
   "metadata": {},
   "source": [
    "there are nodes in the holdout dataset that did not have any embeddings generated for it. check to see if they had proper adjlists made"
   ]
  },
  {
   "cell_type": "code",
   "execution_count": 4,
   "metadata": {},
   "outputs": [],
   "source": [
    "def eval_performance(fbase, K, vecsize):\n",
    "    for idx in range(K):\n",
    "        train = pd.read_csv(\n",
    "            \"tmp/data/train/{}_train_{}.tsv\".format(fbase, idx),\n",
    "            sep='\\t'\n",
    "        )\n",
    "        \n",
    "        holdout = pd.read_csv(\n",
    "            \"tmp/data/holdout/{}_holdout_{}.tsv\".format(fbase, idx),\n",
    "            sep='\\t'\n",
    "        )\n",
    "\n",
    "        features = pd.read_csv(\n",
    "            \"tmp/data/embeddings/{}_embedding_{}.txt\".format(fbase, idx),\n",
    "            sep=\" \", skiprows=1,\n",
    "            names=[\"uid\"] + [\"f{}\".format(i) for i in range(vecsize)]\n",
    "        )\n",
    "\n",
    "        tmp = convolv_features(train, features, vecsize, \"inner\")\n",
    "\n",
    "        feat_cols = [\"conv{}\".format(j) for j in range(vecsize)]\n",
    "        regmodel = LogisticRegression(C=1e9).fit(tmp[feat_cols], tmp[\"etype\"])\n",
    "\n",
    "        # test on holdout\n",
    "        test = convolv_features(\n",
    "            holdout.drop(\"etype\", axis=1),\n",
    "            features, vecsize, \"left\"\n",
    "        )\n",
    "        \n",
    "        assert len(test) == len(holdout)\n",
    "        \n",
    "        # if there are empty ones in the features column,\n",
    "        # then we didn't generate any embeddings, and therefore\n",
    "        # need to split those up and treat as zeroes\n",
    "        # for the others we can predict normally, then join together\n",
    "        \n",
    "        regular = test[test[\"conv0\"].notnull()].assign(missed = False)\n",
    "        \n",
    "        missed = (test[test[\"conv0\"].isnull()]\n",
    "            .assign(\n",
    "                predval = 0\n",
    "            )\n",
    "            .assign(missed = True)\n",
    "        )\n",
    "                \n",
    "        # add in predictions\n",
    "        ans = regular.assign(\n",
    "            predval = lambda df: regmodel.predict_proba(df[feat_cols])[:, 1]\n",
    "        )\n",
    "        \n",
    "        ans = ans.append(missed)\n",
    "        \n",
    "        assert len(ans) == len(holdout)\n",
    "        \n",
    "        yield (ans\n",
    "            [[\"chemical_uid\", \"disease_uid\", \"predval\", \"missed\"]]\n",
    "            .merge(\n",
    "                holdout[[\"chemical_uid\", \"disease_uid\", \"etype\"]],\n",
    "                how=\"inner\", on=[\"chemical_uid\", \"disease_uid\"]\n",
    "            )\n",
    "            .sort_values(\"predval\", ascending=False)\n",
    "            .reset_index(drop=True)\n",
    "        )"
   ]
  },
  {
   "cell_type": "code",
   "execution_count": 5,
   "metadata": {},
   "outputs": [],
   "source": [
    "def finished(fbase, K):\n",
    "    for i in range(K):\n",
    "        ename = \"tmp/data/embeddings/{}_embedding_{}.txt\".format(fbase, i)\n",
    "        \n",
    "        if not os.path.isfile(ename):\n",
    "            return False\n",
    "\n",
    "    return True"
   ]
  },
  {
   "cell_type": "markdown",
   "metadata": {},
   "source": [
    "need to check that we have the expected embeddings for the concepts"
   ]
  },
  {
   "cell_type": "code",
   "execution_count": 6,
   "metadata": {},
   "outputs": [
    {
     "name": "stderr",
     "output_type": "stream",
     "text": [
      "100%|██████████| 2/2 [00:29<00:00, 14.54s/it]\n"
     ]
    }
   ],
   "source": [
    "vecsize = 128\n",
    "\n",
    "missed = []\n",
    "for edge_fname in tqdm(glob(\"tmp/edges/*.tsv\")):\n",
    "    fbase = edge_fname.split(\"/\")[2][:-4]\n",
    "    \n",
    "    K = 5\n",
    "    \n",
    "    # check if all K embeddings are done\n",
    "    if finished(fbase, K):\n",
    "\n",
    "        aucs = []\n",
    "        for res in eval_performance(fbase, K, vecsize):\n",
    "            fpr, tpr, thresh = roc_curve(res[\"etype\"], res[\"predval\"])\n",
    "\n",
    "            auc_val = auc(fpr, tpr)\n",
    "            aucs.append(auc_val)\n",
    "            \n",
    "            missed.append((res[\"missed\"].sum(), len(res), len(res.query(\"missed and etype == 1\"))))\n",
    "\n",
    "        temp = (pd\n",
    "            .Series(aucs)\n",
    "            .to_frame(\"auc_roc\")\n",
    "            .assign(edge_val = fbase)\n",
    "        )\n",
    "        \n",
    "        temp.to_csv(\n",
    "            \"tmp/results/{}.tsv\".format(fbase), sep='\\t', index=False\n",
    "        )"
   ]
  },
  {
   "cell_type": "markdown",
   "metadata": {},
   "source": [
    "---"
   ]
  },
  {
   "cell_type": "code",
   "execution_count": 7,
   "metadata": {},
   "outputs": [],
   "source": [
    "mdata = pd.DataFrame(missed, columns=[\"num_missed\", \"total\", \"missed_and_true\"])"
   ]
  },
  {
   "cell_type": "code",
   "execution_count": 8,
   "metadata": {},
   "outputs": [
    {
     "data": {
      "text/plain": [
       "(10, 3)"
      ]
     },
     "execution_count": 8,
     "metadata": {},
     "output_type": "execute_result"
    }
   ],
   "source": [
    "mdata.shape"
   ]
  },
  {
   "cell_type": "code",
   "execution_count": 9,
   "metadata": {},
   "outputs": [
    {
     "data": {
      "text/html": [
       "<div>\n",
       "<style scoped>\n",
       "    .dataframe tbody tr th:only-of-type {\n",
       "        vertical-align: middle;\n",
       "    }\n",
       "\n",
       "    .dataframe tbody tr th {\n",
       "        vertical-align: top;\n",
       "    }\n",
       "\n",
       "    .dataframe thead th {\n",
       "        text-align: right;\n",
       "    }\n",
       "</style>\n",
       "<table border=\"1\" class=\"dataframe\">\n",
       "  <thead>\n",
       "    <tr style=\"text-align: right;\">\n",
       "      <th></th>\n",
       "      <th>num_missed</th>\n",
       "      <th>total</th>\n",
       "      <th>missed_and_true</th>\n",
       "    </tr>\n",
       "  </thead>\n",
       "  <tbody>\n",
       "    <tr>\n",
       "      <th>0</th>\n",
       "      <td>13112</td>\n",
       "      <td>94014</td>\n",
       "      <td>44</td>\n",
       "    </tr>\n",
       "    <tr>\n",
       "      <th>1</th>\n",
       "      <td>10864</td>\n",
       "      <td>92628</td>\n",
       "      <td>34</td>\n",
       "    </tr>\n",
       "    <tr>\n",
       "      <th>2</th>\n",
       "      <td>16143</td>\n",
       "      <td>92081</td>\n",
       "      <td>66</td>\n",
       "    </tr>\n",
       "    <tr>\n",
       "      <th>3</th>\n",
       "      <td>7716</td>\n",
       "      <td>84960</td>\n",
       "      <td>31</td>\n",
       "    </tr>\n",
       "    <tr>\n",
       "      <th>4</th>\n",
       "      <td>14008</td>\n",
       "      <td>91068</td>\n",
       "      <td>48</td>\n",
       "    </tr>\n",
       "    <tr>\n",
       "      <th>5</th>\n",
       "      <td>13112</td>\n",
       "      <td>94014</td>\n",
       "      <td>44</td>\n",
       "    </tr>\n",
       "    <tr>\n",
       "      <th>6</th>\n",
       "      <td>10864</td>\n",
       "      <td>92628</td>\n",
       "      <td>34</td>\n",
       "    </tr>\n",
       "    <tr>\n",
       "      <th>7</th>\n",
       "      <td>16143</td>\n",
       "      <td>92081</td>\n",
       "      <td>66</td>\n",
       "    </tr>\n",
       "    <tr>\n",
       "      <th>8</th>\n",
       "      <td>7716</td>\n",
       "      <td>84960</td>\n",
       "      <td>31</td>\n",
       "    </tr>\n",
       "    <tr>\n",
       "      <th>9</th>\n",
       "      <td>14008</td>\n",
       "      <td>91068</td>\n",
       "      <td>48</td>\n",
       "    </tr>\n",
       "  </tbody>\n",
       "</table>\n",
       "</div>"
      ],
      "text/plain": [
       "   num_missed  total  missed_and_true\n",
       "0       13112  94014               44\n",
       "1       10864  92628               34\n",
       "2       16143  92081               66\n",
       "3        7716  84960               31\n",
       "4       14008  91068               48\n",
       "5       13112  94014               44\n",
       "6       10864  92628               34\n",
       "7       16143  92081               66\n",
       "8        7716  84960               31\n",
       "9       14008  91068               48"
      ]
     },
     "execution_count": 9,
     "metadata": {},
     "output_type": "execute_result"
    }
   ],
   "source": [
    "mdata"
   ]
  },
  {
   "cell_type": "code",
   "execution_count": 10,
   "metadata": {},
   "outputs": [
    {
     "data": {
      "text/plain": [
       "<seaborn.axisgrid.JointGrid at 0x7feab6e2fc18>"
      ]
     },
     "execution_count": 10,
     "metadata": {},
     "output_type": "execute_result"
    },
    {
     "data": {
      "image/png": "[encoded data removed]",
      "text/plain": [
       "<matplotlib.figure.Figure at 0x7feab6e2f5f8>"
      ]
     },
     "metadata": {},
     "output_type": "display_data"
    }
   ],
   "source": [
    "sns.jointplot(data=mdata, x=\"num_missed\", y=\"missed_and_true\", kind=\"reg\")"
   ]
  },
  {
   "cell_type": "code",
   "execution_count": 11,
   "metadata": {},
   "outputs": [
    {
     "data": {
      "text/plain": [
       "<matplotlib.axes._subplots.AxesSubplot at 0x7feab65fb470>"
      ]
     },
     "execution_count": 11,
     "metadata": {},
     "output_type": "execute_result"
    },
    {
     "data": {
      "image/png": "[encoded data removed]",
      "text/plain": [
       "<matplotlib.figure.Figure at 0x7feab65fa780>"
      ]
     },
     "metadata": {},
     "output_type": "display_data"
    }
   ],
   "source": [
    "sns.boxplot(mdata[\"missed_and_true\"])"
   ]
  },
  {
   "cell_type": "markdown",
   "metadata": {},
   "source": [
    "seems to have been no difference in performance between the version where some of the gold standard is in the network vs gold standard relations are removed from the network"
   ]
  },
  {
   "cell_type": "markdown",
   "metadata": {},
   "source": [
    "---"
   ]
  },
  {
   "cell_type": "code",
   "execution_count": 12,
   "metadata": {},
   "outputs": [],
   "source": [
    "res = [\n",
    "    pd.read_csv(fname, sep='\\t')\n",
    "    for fname in glob(\"tmp/results/*.tsv\")\n",
    "]\n",
    "\n",
    "res = pd.concat(res)"
   ]
  },
  {
   "cell_type": "code",
   "execution_count": 13,
   "metadata": {},
   "outputs": [
    {
     "data": {
      "text/plain": [
       "(10, 2)"
      ]
     },
     "execution_count": 13,
     "metadata": {},
     "output_type": "execute_result"
    }
   ],
   "source": [
    "res.shape"
   ]
  },
  {
   "cell_type": "code",
   "execution_count": 14,
   "metadata": {},
   "outputs": [
    {
     "data": {
      "text/html": [
       "<div>\n",
       "<style scoped>\n",
       "    .dataframe tbody tr th:only-of-type {\n",
       "        vertical-align: middle;\n",
       "    }\n",
       "\n",
       "    .dataframe tbody tr th {\n",
       "        vertical-align: top;\n",
       "    }\n",
       "\n",
       "    .dataframe thead th {\n",
       "        text-align: right;\n",
       "    }\n",
       "</style>\n",
       "<table border=\"1\" class=\"dataframe\">\n",
       "  <thead>\n",
       "    <tr style=\"text-align: right;\">\n",
       "      <th></th>\n",
       "      <th>auc_roc</th>\n",
       "      <th>edge_val</th>\n",
       "    </tr>\n",
       "  </thead>\n",
       "  <tbody>\n",
       "    <tr>\n",
       "      <th>0</th>\n",
       "      <td>0.853603</td>\n",
       "      <td>no_drug_gene_or_drug_disease2</td>\n",
       "    </tr>\n",
       "    <tr>\n",
       "      <th>1</th>\n",
       "      <td>0.876795</td>\n",
       "      <td>no_drug_gene_or_drug_disease2</td>\n",
       "    </tr>\n",
       "    <tr>\n",
       "      <th>2</th>\n",
       "      <td>0.838371</td>\n",
       "      <td>no_drug_gene_or_drug_disease2</td>\n",
       "    </tr>\n",
       "    <tr>\n",
       "      <th>3</th>\n",
       "      <td>0.890240</td>\n",
       "      <td>no_drug_gene_or_drug_disease2</td>\n",
       "    </tr>\n",
       "    <tr>\n",
       "      <th>4</th>\n",
       "      <td>0.866114</td>\n",
       "      <td>no_drug_gene_or_drug_disease2</td>\n",
       "    </tr>\n",
       "  </tbody>\n",
       "</table>\n",
       "</div>"
      ],
      "text/plain": [
       "    auc_roc                       edge_val\n",
       "0  0.853603  no_drug_gene_or_drug_disease2\n",
       "1  0.876795  no_drug_gene_or_drug_disease2\n",
       "2  0.838371  no_drug_gene_or_drug_disease2\n",
       "3  0.890240  no_drug_gene_or_drug_disease2\n",
       "4  0.866114  no_drug_gene_or_drug_disease2"
      ]
     },
     "execution_count": 14,
     "metadata": {},
     "output_type": "execute_result"
    }
   ],
   "source": [
    "res.head()"
   ]
  },
  {
   "cell_type": "code",
   "execution_count": 15,
   "metadata": {},
   "outputs": [
    {
     "data": {
      "text/html": [
       "<div>\n",
       "<style scoped>\n",
       "    .dataframe tbody tr th:only-of-type {\n",
       "        vertical-align: middle;\n",
       "    }\n",
       "\n",
       "    .dataframe tbody tr th {\n",
       "        vertical-align: top;\n",
       "    }\n",
       "\n",
       "    .dataframe thead th {\n",
       "        text-align: right;\n",
       "    }\n",
       "</style>\n",
       "<table border=\"1\" class=\"dataframe\">\n",
       "  <thead>\n",
       "    <tr style=\"text-align: right;\">\n",
       "      <th></th>\n",
       "      <th>auc_roc</th>\n",
       "      <th>edge_val</th>\n",
       "    </tr>\n",
       "  </thead>\n",
       "  <tbody>\n",
       "    <tr>\n",
       "      <th>0</th>\n",
       "      <td>0.853603</td>\n",
       "      <td>no_drug_gene_or_drug_disease2</td>\n",
       "    </tr>\n",
       "    <tr>\n",
       "      <th>1</th>\n",
       "      <td>0.876795</td>\n",
       "      <td>no_drug_gene_or_drug_disease2</td>\n",
       "    </tr>\n",
       "    <tr>\n",
       "      <th>2</th>\n",
       "      <td>0.838371</td>\n",
       "      <td>no_drug_gene_or_drug_disease2</td>\n",
       "    </tr>\n",
       "    <tr>\n",
       "      <th>3</th>\n",
       "      <td>0.890240</td>\n",
       "      <td>no_drug_gene_or_drug_disease2</td>\n",
       "    </tr>\n",
       "    <tr>\n",
       "      <th>4</th>\n",
       "      <td>0.866114</td>\n",
       "      <td>no_drug_gene_or_drug_disease2</td>\n",
       "    </tr>\n",
       "    <tr>\n",
       "      <th>0</th>\n",
       "      <td>0.861440</td>\n",
       "      <td>no_drug_gene_or_drug_disease</td>\n",
       "    </tr>\n",
       "    <tr>\n",
       "      <th>1</th>\n",
       "      <td>0.872229</td>\n",
       "      <td>no_drug_gene_or_drug_disease</td>\n",
       "    </tr>\n",
       "    <tr>\n",
       "      <th>2</th>\n",
       "      <td>0.839946</td>\n",
       "      <td>no_drug_gene_or_drug_disease</td>\n",
       "    </tr>\n",
       "    <tr>\n",
       "      <th>3</th>\n",
       "      <td>0.882665</td>\n",
       "      <td>no_drug_gene_or_drug_disease</td>\n",
       "    </tr>\n",
       "    <tr>\n",
       "      <th>4</th>\n",
       "      <td>0.864650</td>\n",
       "      <td>no_drug_gene_or_drug_disease</td>\n",
       "    </tr>\n",
       "  </tbody>\n",
       "</table>\n",
       "</div>"
      ],
      "text/plain": [
       "    auc_roc                       edge_val\n",
       "0  0.853603  no_drug_gene_or_drug_disease2\n",
       "1  0.876795  no_drug_gene_or_drug_disease2\n",
       "2  0.838371  no_drug_gene_or_drug_disease2\n",
       "3  0.890240  no_drug_gene_or_drug_disease2\n",
       "4  0.866114  no_drug_gene_or_drug_disease2\n",
       "0  0.861440   no_drug_gene_or_drug_disease\n",
       "1  0.872229   no_drug_gene_or_drug_disease\n",
       "2  0.839946   no_drug_gene_or_drug_disease\n",
       "3  0.882665   no_drug_gene_or_drug_disease\n",
       "4  0.864650   no_drug_gene_or_drug_disease"
      ]
     },
     "execution_count": 15,
     "metadata": {},
     "output_type": "execute_result"
    }
   ],
   "source": [
    "res"
   ]
  },
  {
   "cell_type": "code",
   "execution_count": 16,
   "metadata": {},
   "outputs": [
    {
     "data": {
      "text/html": [
       "<div>\n",
       "<style scoped>\n",
       "    .dataframe tbody tr th:only-of-type {\n",
       "        vertical-align: middle;\n",
       "    }\n",
       "\n",
       "    .dataframe tbody tr th {\n",
       "        vertical-align: top;\n",
       "    }\n",
       "\n",
       "    .dataframe thead th {\n",
       "        text-align: right;\n",
       "    }\n",
       "</style>\n",
       "<table border=\"1\" class=\"dataframe\">\n",
       "  <thead>\n",
       "    <tr style=\"text-align: right;\">\n",
       "      <th></th>\n",
       "      <th>auc_roc</th>\n",
       "    </tr>\n",
       "    <tr>\n",
       "      <th>edge_val</th>\n",
       "      <th></th>\n",
       "    </tr>\n",
       "  </thead>\n",
       "  <tbody>\n",
       "    <tr>\n",
       "      <th>no_drug_gene_or_drug_disease</th>\n",
       "      <td>0.864186</td>\n",
       "    </tr>\n",
       "    <tr>\n",
       "      <th>no_drug_gene_or_drug_disease2</th>\n",
       "      <td>0.865025</td>\n",
       "    </tr>\n",
       "  </tbody>\n",
       "</table>\n",
       "</div>"
      ],
      "text/plain": [
       "                                auc_roc\n",
       "edge_val                               \n",
       "no_drug_gene_or_drug_disease   0.864186\n",
       "no_drug_gene_or_drug_disease2  0.865025"
      ]
     },
     "execution_count": 16,
     "metadata": {},
     "output_type": "execute_result"
    }
   ],
   "source": [
    "res.groupby(\"edge_val\").mean()"
   ]
  },
  {
   "cell_type": "markdown",
   "metadata": {},
   "source": [
    "i must be doing something wrong with these removal experiments because we are still getting higher than normal ROC numbers after removal of two edges that we think should definitely kill the performance"
   ]
  },
  {
   "cell_type": "markdown",
   "metadata": {},
   "source": [
    "---"
   ]
  },
  {
   "cell_type": "code",
   "execution_count": 17,
   "metadata": {},
   "outputs": [],
   "source": [
    "# original deepwalk performance on unmodified hetionet\n",
    "orig = [0.83794169828897624,\n",
    " 0.83592900230751011,\n",
    " 0.82794024342944517,\n",
    " 0.83258454954099403,\n",
    " 0.84911988472878375,\n",
    " 0.82679078477519785,\n",
    " 0.86955409367485537,\n",
    " 0.81721305005383327,\n",
    " 0.82568604664477641,\n",
    " 0.85703519382275861]"
   ]
  },
  {
   "cell_type": "code",
   "execution_count": 18,
   "metadata": {},
   "outputs": [],
   "source": [
    "hetio_perf = (pd\n",
    "    .Series(orig)\n",
    "    .to_frame(\"auc_roc\")\n",
    "    .assign(pct_kept = 100)\n",
    ")"
   ]
  },
  {
   "cell_type": "code",
   "execution_count": 19,
   "metadata": {},
   "outputs": [
    {
     "data": {
      "text/html": [
       "<div>\n",
       "<style scoped>\n",
       "    .dataframe tbody tr th:only-of-type {\n",
       "        vertical-align: middle;\n",
       "    }\n",
       "\n",
       "    .dataframe tbody tr th {\n",
       "        vertical-align: top;\n",
       "    }\n",
       "\n",
       "    .dataframe thead th {\n",
       "        text-align: right;\n",
       "    }\n",
       "</style>\n",
       "<table border=\"1\" class=\"dataframe\">\n",
       "  <thead>\n",
       "    <tr style=\"text-align: right;\">\n",
       "      <th></th>\n",
       "      <th>auc_roc</th>\n",
       "      <th>pct_kept</th>\n",
       "    </tr>\n",
       "  </thead>\n",
       "  <tbody>\n",
       "    <tr>\n",
       "      <th>0</th>\n",
       "      <td>0.837942</td>\n",
       "      <td>100</td>\n",
       "    </tr>\n",
       "    <tr>\n",
       "      <th>1</th>\n",
       "      <td>0.835929</td>\n",
       "      <td>100</td>\n",
       "    </tr>\n",
       "    <tr>\n",
       "      <th>2</th>\n",
       "      <td>0.827940</td>\n",
       "      <td>100</td>\n",
       "    </tr>\n",
       "    <tr>\n",
       "      <th>3</th>\n",
       "      <td>0.832585</td>\n",
       "      <td>100</td>\n",
       "    </tr>\n",
       "    <tr>\n",
       "      <th>4</th>\n",
       "      <td>0.849120</td>\n",
       "      <td>100</td>\n",
       "    </tr>\n",
       "  </tbody>\n",
       "</table>\n",
       "</div>"
      ],
      "text/plain": [
       "    auc_roc  pct_kept\n",
       "0  0.837942       100\n",
       "1  0.835929       100\n",
       "2  0.827940       100\n",
       "3  0.832585       100\n",
       "4  0.849120       100"
      ]
     },
     "execution_count": 19,
     "metadata": {},
     "output_type": "execute_result"
    }
   ],
   "source": [
    "hetio_perf.head()"
   ]
  },
  {
   "cell_type": "code",
   "execution_count": 20,
   "metadata": {},
   "outputs": [
    {
     "data": {
      "text/plain": [
       "0.8379794547267132"
      ]
     },
     "execution_count": 20,
     "metadata": {},
     "output_type": "execute_result"
    }
   ],
   "source": [
    "hetio_perf[\"auc_roc\"].mean()"
   ]
  },
  {
   "cell_type": "code",
   "execution_count": null,
   "metadata": {},
   "outputs": [],
   "source": []
  },
  {
   "cell_type": "code",
   "execution_count": null,
   "metadata": {},
   "outputs": [],
   "source": []
  }
 ],
 "metadata": {
  "kernelspec": {
   "display_name": "Python 3",
   "language": "python",
   "name": "python3"
  },
  "language_info": {
   "codemirror_mode": {
    "name": "ipython",
    "version": 3
   },
   "file_extension": ".py",
   "mimetype": "text/x-python",
   "name": "python",
   "nbconvert_exporter": "python",
   "pygments_lexer": "ipython3",
   "version": "3.5.2"
  }
 },
 "nbformat": 4,
 "nbformat_minor": 2
}
