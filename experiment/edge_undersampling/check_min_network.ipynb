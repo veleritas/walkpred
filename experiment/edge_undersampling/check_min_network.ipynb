{
 "cells": [
  {
   "cell_type": "code",
   "execution_count": 1,
   "metadata": {},
   "outputs": [],
   "source": [
    "import pandas as pd"
   ]
  },
  {
   "cell_type": "code",
   "execution_count": 2,
   "metadata": {},
   "outputs": [],
   "source": [
    "h = pd.read_csv(\"tmp/data/holdout/drug_drug_anat_gene_only_holdout_0.tsv\", sep='\\t')"
   ]
  },
  {
   "cell_type": "code",
   "execution_count": 3,
   "metadata": {},
   "outputs": [
    {
     "data": {
      "text/plain": [
       "(94014, 5)"
      ]
     },
     "execution_count": 3,
     "metadata": {},
     "output_type": "execute_result"
    }
   ],
   "source": [
    "h.shape"
   ]
  },
  {
   "cell_type": "code",
   "execution_count": 4,
   "metadata": {},
   "outputs": [
    {
     "data": {
      "text/html": [
       "<div>\n",
       "<style scoped>\n",
       "    .dataframe tbody tr th:only-of-type {\n",
       "        vertical-align: middle;\n",
       "    }\n",
       "\n",
       "    .dataframe tbody tr th {\n",
       "        vertical-align: top;\n",
       "    }\n",
       "\n",
       "    .dataframe thead th {\n",
       "        text-align: right;\n",
       "    }\n",
       "</style>\n",
       "<table border=\"1\" class=\"dataframe\">\n",
       "  <thead>\n",
       "    <tr style=\"text-align: right;\">\n",
       "      <th></th>\n",
       "      <th>chemical_id</th>\n",
       "      <th>disease_id</th>\n",
       "      <th>etype</th>\n",
       "      <th>chemical_uid</th>\n",
       "      <th>disease_uid</th>\n",
       "    </tr>\n",
       "  </thead>\n",
       "  <tbody>\n",
       "    <tr>\n",
       "      <th>0</th>\n",
       "      <td>DB01240</td>\n",
       "      <td>C0035455</td>\n",
       "      <td>1</td>\n",
       "      <td>34551</td>\n",
       "      <td>7888</td>\n",
       "    </tr>\n",
       "    <tr>\n",
       "      <th>1</th>\n",
       "      <td>DB00959</td>\n",
       "      <td>C0035455</td>\n",
       "      <td>0</td>\n",
       "      <td>4258</td>\n",
       "      <td>7888</td>\n",
       "    </tr>\n",
       "    <tr>\n",
       "      <th>2</th>\n",
       "      <td>DB01053</td>\n",
       "      <td>C0035455</td>\n",
       "      <td>0</td>\n",
       "      <td>13837</td>\n",
       "      <td>7888</td>\n",
       "    </tr>\n",
       "    <tr>\n",
       "      <th>3</th>\n",
       "      <td>DB00985</td>\n",
       "      <td>C0035455</td>\n",
       "      <td>0</td>\n",
       "      <td>36206</td>\n",
       "      <td>7888</td>\n",
       "    </tr>\n",
       "    <tr>\n",
       "      <th>4</th>\n",
       "      <td>DB00764</td>\n",
       "      <td>C0035455</td>\n",
       "      <td>0</td>\n",
       "      <td>32958</td>\n",
       "      <td>7888</td>\n",
       "    </tr>\n",
       "  </tbody>\n",
       "</table>\n",
       "</div>"
      ],
      "text/plain": [
       "  chemical_id disease_id  etype  chemical_uid  disease_uid\n",
       "0     DB01240   C0035455      1         34551         7888\n",
       "1     DB00959   C0035455      0          4258         7888\n",
       "2     DB01053   C0035455      0         13837         7888\n",
       "3     DB00985   C0035455      0         36206         7888\n",
       "4     DB00764   C0035455      0         32958         7888"
      ]
     },
     "execution_count": 4,
     "metadata": {},
     "output_type": "execute_result"
    }
   ],
   "source": [
    "h.head()"
   ]
  },
  {
   "cell_type": "code",
   "execution_count": 5,
   "metadata": {},
   "outputs": [
    {
     "data": {
      "text/plain": [
       "0    93429\n",
       "1      585\n",
       "Name: etype, dtype: int64"
      ]
     },
     "execution_count": 5,
     "metadata": {},
     "output_type": "execute_result"
    }
   ],
   "source": [
    "h[\"etype\"].value_counts()"
   ]
  },
  {
   "cell_type": "code",
   "execution_count": 6,
   "metadata": {},
   "outputs": [],
   "source": [
    "train = pd.read_csv(\"tmp/data/train/drug_drug_anat_gene_only_train_0.tsv\", sep='\\t')"
   ]
  },
  {
   "cell_type": "code",
   "execution_count": 7,
   "metadata": {},
   "outputs": [
    {
     "data": {
      "text/plain": [
       "(11695, 5)"
      ]
     },
     "execution_count": 7,
     "metadata": {},
     "output_type": "execute_result"
    }
   ],
   "source": [
    "train.shape"
   ]
  },
  {
   "cell_type": "code",
   "execution_count": 8,
   "metadata": {},
   "outputs": [
    {
     "data": {
      "text/html": [
       "<div>\n",
       "<style scoped>\n",
       "    .dataframe tbody tr th:only-of-type {\n",
       "        vertical-align: middle;\n",
       "    }\n",
       "\n",
       "    .dataframe tbody tr th {\n",
       "        vertical-align: top;\n",
       "    }\n",
       "\n",
       "    .dataframe thead th {\n",
       "        text-align: right;\n",
       "    }\n",
       "</style>\n",
       "<table border=\"1\" class=\"dataframe\">\n",
       "  <thead>\n",
       "    <tr style=\"text-align: right;\">\n",
       "      <th></th>\n",
       "      <th>chemical_id</th>\n",
       "      <th>disease_id</th>\n",
       "      <th>etype</th>\n",
       "      <th>chemical_uid</th>\n",
       "      <th>disease_uid</th>\n",
       "    </tr>\n",
       "  </thead>\n",
       "  <tbody>\n",
       "    <tr>\n",
       "      <th>0</th>\n",
       "      <td>DB00375</td>\n",
       "      <td>C0020443</td>\n",
       "      <td>1</td>\n",
       "      <td>22659</td>\n",
       "      <td>8222</td>\n",
       "    </tr>\n",
       "    <tr>\n",
       "      <th>1</th>\n",
       "      <td>DB00266</td>\n",
       "      <td>C0020443</td>\n",
       "      <td>0</td>\n",
       "      <td>12372</td>\n",
       "      <td>8222</td>\n",
       "    </tr>\n",
       "    <tr>\n",
       "      <th>2</th>\n",
       "      <td>DB01098</td>\n",
       "      <td>C0020443</td>\n",
       "      <td>1</td>\n",
       "      <td>13803</td>\n",
       "      <td>8222</td>\n",
       "    </tr>\n",
       "    <tr>\n",
       "      <th>3</th>\n",
       "      <td>DB00408</td>\n",
       "      <td>C0020443</td>\n",
       "      <td>0</td>\n",
       "      <td>8550</td>\n",
       "      <td>8222</td>\n",
       "    </tr>\n",
       "    <tr>\n",
       "      <th>4</th>\n",
       "      <td>DB00641</td>\n",
       "      <td>C0020443</td>\n",
       "      <td>1</td>\n",
       "      <td>45929</td>\n",
       "      <td>8222</td>\n",
       "    </tr>\n",
       "  </tbody>\n",
       "</table>\n",
       "</div>"
      ],
      "text/plain": [
       "  chemical_id disease_id  etype  chemical_uid  disease_uid\n",
       "0     DB00375   C0020443      1         22659         8222\n",
       "1     DB00266   C0020443      0         12372         8222\n",
       "2     DB01098   C0020443      1         13803         8222\n",
       "3     DB00408   C0020443      0          8550         8222\n",
       "4     DB00641   C0020443      1         45929         8222"
      ]
     },
     "execution_count": 8,
     "metadata": {},
     "output_type": "execute_result"
    }
   ],
   "source": [
    "train.head()"
   ]
  },
  {
   "cell_type": "code",
   "execution_count": 9,
   "metadata": {},
   "outputs": [
    {
     "data": {
      "text/plain": [
       "0    9356\n",
       "1    2339\n",
       "Name: etype, dtype: int64"
      ]
     },
     "execution_count": 9,
     "metadata": {},
     "output_type": "execute_result"
    }
   ],
   "source": [
    "train[\"etype\"].value_counts()"
   ]
  },
  {
   "cell_type": "code",
   "execution_count": 10,
   "metadata": {},
   "outputs": [
    {
     "data": {
      "text/plain": [
       "0    0.8\n",
       "1    0.2\n",
       "Name: etype, dtype: float64"
      ]
     },
     "execution_count": 10,
     "metadata": {},
     "output_type": "execute_result"
    }
   ],
   "source": [
    "train[\"etype\"].value_counts(normalize=True)"
   ]
  },
  {
   "cell_type": "markdown",
   "metadata": {},
   "source": [
    "---"
   ]
  },
  {
   "cell_type": "code",
   "execution_count": 11,
   "metadata": {},
   "outputs": [],
   "source": [
    "gold = pd.read_csv(\"tmp/hetionet_gold.tsv\", sep='\\t')"
   ]
  },
  {
   "cell_type": "code",
   "execution_count": 12,
   "metadata": {},
   "outputs": [
    {
     "data": {
      "text/plain": [
       "(2924, 9)"
      ]
     },
     "execution_count": 12,
     "metadata": {},
     "output_type": "execute_result"
    }
   ],
   "source": [
    "gold.shape"
   ]
  },
  {
   "cell_type": "code",
   "execution_count": 13,
   "metadata": {},
   "outputs": [
    {
     "data": {
      "text/html": [
       "<div>\n",
       "<style scoped>\n",
       "    .dataframe tbody tr th:only-of-type {\n",
       "        vertical-align: middle;\n",
       "    }\n",
       "\n",
       "    .dataframe tbody tr th {\n",
       "        vertical-align: top;\n",
       "    }\n",
       "\n",
       "    .dataframe thead th {\n",
       "        text-align: right;\n",
       "    }\n",
       "</style>\n",
       "<table border=\"1\" class=\"dataframe\">\n",
       "  <thead>\n",
       "    <tr style=\"text-align: right;\">\n",
       "      <th></th>\n",
       "      <th>chemical_cui</th>\n",
       "      <th>chemical_name</th>\n",
       "      <th>disease_cui</th>\n",
       "      <th>disease_name</th>\n",
       "      <th>etype</th>\n",
       "      <th>chemical_id</th>\n",
       "      <th>chemical_htype</th>\n",
       "      <th>disease_id</th>\n",
       "      <th>disease_htype</th>\n",
       "    </tr>\n",
       "  </thead>\n",
       "  <tbody>\n",
       "    <tr>\n",
       "      <th>0</th>\n",
       "      <td>UMLS:C0000477</td>\n",
       "      <td>fampridine</td>\n",
       "      <td>UMLS:C0026769</td>\n",
       "      <td>multiple sclerosis</td>\n",
       "      <td>TREATS_CDtDO</td>\n",
       "      <td>DB06637</td>\n",
       "      <td>Compound</td>\n",
       "      <td>C0026769</td>\n",
       "      <td>Side Effect</td>\n",
       "    </tr>\n",
       "    <tr>\n",
       "      <th>1</th>\n",
       "      <td>UMLS:C0000545</td>\n",
       "      <td>eicosapentaenoic acid</td>\n",
       "      <td>UMLS:C0032961</td>\n",
       "      <td>Pregnancy, function</td>\n",
       "      <td>TREATS_CDtDO</td>\n",
       "      <td>DB00159</td>\n",
       "      <td>Compound</td>\n",
       "      <td>C0032961</td>\n",
       "      <td>Side Effect</td>\n",
       "    </tr>\n",
       "    <tr>\n",
       "      <th>2</th>\n",
       "      <td>UMLS:C0000618</td>\n",
       "      <td>mercaptopurine</td>\n",
       "      <td>UMLS:C0023449</td>\n",
       "      <td>acute lymphocytic leukemia</td>\n",
       "      <td>TREATS_CDtDO</td>\n",
       "      <td>DB01033</td>\n",
       "      <td>Compound</td>\n",
       "      <td>C0023449</td>\n",
       "      <td>Side Effect</td>\n",
       "    </tr>\n",
       "    <tr>\n",
       "      <th>3</th>\n",
       "      <td>UMLS:C0000618</td>\n",
       "      <td>mercaptopurine</td>\n",
       "      <td>UMLS:C0023487</td>\n",
       "      <td>acute promyelocytic leukemia</td>\n",
       "      <td>TREATS_CDtDO</td>\n",
       "      <td>DB01033</td>\n",
       "      <td>Compound</td>\n",
       "      <td>C0023487</td>\n",
       "      <td>Side Effect</td>\n",
       "    </tr>\n",
       "    <tr>\n",
       "      <th>4</th>\n",
       "      <td>UMLS:C0000956</td>\n",
       "      <td>acenocoumarol</td>\n",
       "      <td>UMLS:C0034065</td>\n",
       "      <td>Pulmonary embolism</td>\n",
       "      <td>TREATS_CDtDO</td>\n",
       "      <td>DB01418</td>\n",
       "      <td>Compound</td>\n",
       "      <td>C0034065</td>\n",
       "      <td>Side Effect</td>\n",
       "    </tr>\n",
       "  </tbody>\n",
       "</table>\n",
       "</div>"
      ],
      "text/plain": [
       "    chemical_cui          chemical_name    disease_cui  \\\n",
       "0  UMLS:C0000477             fampridine  UMLS:C0026769   \n",
       "1  UMLS:C0000545  eicosapentaenoic acid  UMLS:C0032961   \n",
       "2  UMLS:C0000618         mercaptopurine  UMLS:C0023449   \n",
       "3  UMLS:C0000618         mercaptopurine  UMLS:C0023487   \n",
       "4  UMLS:C0000956          acenocoumarol  UMLS:C0034065   \n",
       "\n",
       "                   disease_name         etype chemical_id chemical_htype  \\\n",
       "0            multiple sclerosis  TREATS_CDtDO     DB06637       Compound   \n",
       "1           Pregnancy, function  TREATS_CDtDO     DB00159       Compound   \n",
       "2    acute lymphocytic leukemia  TREATS_CDtDO     DB01033       Compound   \n",
       "3  acute promyelocytic leukemia  TREATS_CDtDO     DB01033       Compound   \n",
       "4            Pulmonary embolism  TREATS_CDtDO     DB01418       Compound   \n",
       "\n",
       "  disease_id disease_htype  \n",
       "0   C0026769   Side Effect  \n",
       "1   C0032961   Side Effect  \n",
       "2   C0023449   Side Effect  \n",
       "3   C0023487   Side Effect  \n",
       "4   C0034065   Side Effect  "
      ]
     },
     "execution_count": 13,
     "metadata": {},
     "output_type": "execute_result"
    }
   ],
   "source": [
    "gold.head()"
   ]
  },
  {
   "cell_type": "code",
   "execution_count": 14,
   "metadata": {},
   "outputs": [
    {
     "data": {
      "text/plain": [
       "TREATS_CDtDO    2924\n",
       "Name: etype, dtype: int64"
      ]
     },
     "execution_count": 14,
     "metadata": {},
     "output_type": "execute_result"
    }
   ],
   "source": [
    "gold[\"etype\"].value_counts()"
   ]
  },
  {
   "cell_type": "code",
   "execution_count": 18,
   "metadata": {},
   "outputs": [],
   "source": [
    "temp = pd.concat([\n",
    "    h.query(\"etype == 1\"),\n",
    "    train.query(\"etype == 1\")\n",
    "])"
   ]
  },
  {
   "cell_type": "code",
   "execution_count": 19,
   "metadata": {},
   "outputs": [
    {
     "data": {
      "text/plain": [
       "(2924, 5)"
      ]
     },
     "execution_count": 19,
     "metadata": {},
     "output_type": "execute_result"
    }
   ],
   "source": [
    "temp.shape"
   ]
  },
  {
   "cell_type": "code",
   "execution_count": 20,
   "metadata": {},
   "outputs": [
    {
     "data": {
      "text/html": [
       "<div>\n",
       "<style scoped>\n",
       "    .dataframe tbody tr th:only-of-type {\n",
       "        vertical-align: middle;\n",
       "    }\n",
       "\n",
       "    .dataframe tbody tr th {\n",
       "        vertical-align: top;\n",
       "    }\n",
       "\n",
       "    .dataframe thead th {\n",
       "        text-align: right;\n",
       "    }\n",
       "</style>\n",
       "<table border=\"1\" class=\"dataframe\">\n",
       "  <thead>\n",
       "    <tr style=\"text-align: right;\">\n",
       "      <th></th>\n",
       "      <th>chemical_id</th>\n",
       "      <th>disease_id</th>\n",
       "      <th>etype</th>\n",
       "      <th>chemical_uid</th>\n",
       "      <th>disease_uid</th>\n",
       "    </tr>\n",
       "  </thead>\n",
       "  <tbody>\n",
       "    <tr>\n",
       "      <th>0</th>\n",
       "      <td>DB01240</td>\n",
       "      <td>C0035455</td>\n",
       "      <td>1</td>\n",
       "      <td>34551</td>\n",
       "      <td>7888</td>\n",
       "    </tr>\n",
       "    <tr>\n",
       "      <th>195</th>\n",
       "      <td>DB01551</td>\n",
       "      <td>C0035455</td>\n",
       "      <td>1</td>\n",
       "      <td>9559</td>\n",
       "      <td>7888</td>\n",
       "    </tr>\n",
       "    <tr>\n",
       "      <th>340</th>\n",
       "      <td>DB01240</td>\n",
       "      <td>C0027424</td>\n",
       "      <td>1</td>\n",
       "      <td>34551</td>\n",
       "      <td>15928</td>\n",
       "    </tr>\n",
       "    <tr>\n",
       "      <th>372</th>\n",
       "      <td>DB01620</td>\n",
       "      <td>C0027424</td>\n",
       "      <td>1</td>\n",
       "      <td>14755</td>\n",
       "      <td>15928</td>\n",
       "    </tr>\n",
       "    <tr>\n",
       "      <th>401</th>\n",
       "      <td>DB00388</td>\n",
       "      <td>C0027424</td>\n",
       "      <td>1</td>\n",
       "      <td>17769</td>\n",
       "      <td>15928</td>\n",
       "    </tr>\n",
       "  </tbody>\n",
       "</table>\n",
       "</div>"
      ],
      "text/plain": [
       "    chemical_id disease_id  etype  chemical_uid  disease_uid\n",
       "0       DB01240   C0035455      1         34551         7888\n",
       "195     DB01551   C0035455      1          9559         7888\n",
       "340     DB01240   C0027424      1         34551        15928\n",
       "372     DB01620   C0027424      1         14755        15928\n",
       "401     DB00388   C0027424      1         17769        15928"
      ]
     },
     "execution_count": 20,
     "metadata": {},
     "output_type": "execute_result"
    }
   ],
   "source": [
    "temp.head()"
   ]
  },
  {
   "cell_type": "code",
   "execution_count": 26,
   "metadata": {},
   "outputs": [],
   "source": [
    "a = (temp\n",
    "    [[\"chemical_id\", \"disease_id\"]]\n",
    "    .sort_values([\"chemical_id\", \"disease_id\"])\n",
    "    .reset_index(drop=True)\n",
    ")"
   ]
  },
  {
   "cell_type": "code",
   "execution_count": 28,
   "metadata": {},
   "outputs": [],
   "source": [
    "b = (gold\n",
    "    [[\"chemical_id\", \"disease_id\"]]\n",
    "    .sort_values([\"chemical_id\", \"disease_id\"])\n",
    "    .reset_index(drop=True)\n",
    "    )"
   ]
  },
  {
   "cell_type": "code",
   "execution_count": 29,
   "metadata": {},
   "outputs": [
    {
     "data": {
      "text/html": [
       "<div>\n",
       "<style scoped>\n",
       "    .dataframe tbody tr th:only-of-type {\n",
       "        vertical-align: middle;\n",
       "    }\n",
       "\n",
       "    .dataframe tbody tr th {\n",
       "        vertical-align: top;\n",
       "    }\n",
       "\n",
       "    .dataframe thead th {\n",
       "        text-align: right;\n",
       "    }\n",
       "</style>\n",
       "<table border=\"1\" class=\"dataframe\">\n",
       "  <thead>\n",
       "    <tr style=\"text-align: right;\">\n",
       "      <th></th>\n",
       "      <th>chemical_id</th>\n",
       "      <th>disease_id</th>\n",
       "    </tr>\n",
       "  </thead>\n",
       "  <tbody>\n",
       "    <tr>\n",
       "      <th>0</th>\n",
       "      <td>DB00014</td>\n",
       "      <td>C0014175</td>\n",
       "    </tr>\n",
       "    <tr>\n",
       "      <th>1</th>\n",
       "      <td>DB00035</td>\n",
       "      <td>C0019069</td>\n",
       "    </tr>\n",
       "    <tr>\n",
       "      <th>2</th>\n",
       "      <td>DB00035</td>\n",
       "      <td>C0032617</td>\n",
       "    </tr>\n",
       "    <tr>\n",
       "      <th>3</th>\n",
       "      <td>DB00035</td>\n",
       "      <td>C0270327</td>\n",
       "    </tr>\n",
       "    <tr>\n",
       "      <th>4</th>\n",
       "      <td>DB00091</td>\n",
       "      <td>C0003873</td>\n",
       "    </tr>\n",
       "  </tbody>\n",
       "</table>\n",
       "</div>"
      ],
      "text/plain": [
       "  chemical_id disease_id\n",
       "0     DB00014   C0014175\n",
       "1     DB00035   C0019069\n",
       "2     DB00035   C0032617\n",
       "3     DB00035   C0270327\n",
       "4     DB00091   C0003873"
      ]
     },
     "execution_count": 29,
     "metadata": {},
     "output_type": "execute_result"
    }
   ],
   "source": [
    "a.head()"
   ]
  },
  {
   "cell_type": "code",
   "execution_count": 30,
   "metadata": {},
   "outputs": [
    {
     "data": {
      "text/html": [
       "<div>\n",
       "<style scoped>\n",
       "    .dataframe tbody tr th:only-of-type {\n",
       "        vertical-align: middle;\n",
       "    }\n",
       "\n",
       "    .dataframe tbody tr th {\n",
       "        vertical-align: top;\n",
       "    }\n",
       "\n",
       "    .dataframe thead th {\n",
       "        text-align: right;\n",
       "    }\n",
       "</style>\n",
       "<table border=\"1\" class=\"dataframe\">\n",
       "  <thead>\n",
       "    <tr style=\"text-align: right;\">\n",
       "      <th></th>\n",
       "      <th>chemical_id</th>\n",
       "      <th>disease_id</th>\n",
       "    </tr>\n",
       "  </thead>\n",
       "  <tbody>\n",
       "    <tr>\n",
       "      <th>0</th>\n",
       "      <td>DB00014</td>\n",
       "      <td>C0014175</td>\n",
       "    </tr>\n",
       "    <tr>\n",
       "      <th>1</th>\n",
       "      <td>DB00035</td>\n",
       "      <td>C0019069</td>\n",
       "    </tr>\n",
       "    <tr>\n",
       "      <th>2</th>\n",
       "      <td>DB00035</td>\n",
       "      <td>C0032617</td>\n",
       "    </tr>\n",
       "    <tr>\n",
       "      <th>3</th>\n",
       "      <td>DB00035</td>\n",
       "      <td>C0270327</td>\n",
       "    </tr>\n",
       "    <tr>\n",
       "      <th>4</th>\n",
       "      <td>DB00091</td>\n",
       "      <td>C0003873</td>\n",
       "    </tr>\n",
       "  </tbody>\n",
       "</table>\n",
       "</div>"
      ],
      "text/plain": [
       "  chemical_id disease_id\n",
       "0     DB00014   C0014175\n",
       "1     DB00035   C0019069\n",
       "2     DB00035   C0032617\n",
       "3     DB00035   C0270327\n",
       "4     DB00091   C0003873"
      ]
     },
     "execution_count": 30,
     "metadata": {},
     "output_type": "execute_result"
    }
   ],
   "source": [
    "b.head()"
   ]
  },
  {
   "cell_type": "code",
   "execution_count": 31,
   "metadata": {},
   "outputs": [
    {
     "data": {
      "text/plain": [
       "True"
      ]
     },
     "execution_count": 31,
     "metadata": {},
     "output_type": "execute_result"
    }
   ],
   "source": [
    "a.equals(b)"
   ]
  },
  {
   "cell_type": "markdown",
   "metadata": {},
   "source": [
    "ok so the splitting of holdout and train data is correct..."
   ]
  },
  {
   "cell_type": "markdown",
   "metadata": {},
   "source": [
    "---"
   ]
  },
  {
   "cell_type": "markdown",
   "metadata": {},
   "source": [
    "i should have no proper connections in the resulting network. why am i still getting 0.8 roc??"
   ]
  },
  {
   "cell_type": "code",
   "execution_count": null,
   "metadata": {},
   "outputs": [],
   "source": []
  }
 ],
 "metadata": {
  "kernelspec": {
   "display_name": "Python 3",
   "language": "python",
   "name": "python3"
  },
  "language_info": {
   "codemirror_mode": {
    "name": "ipython",
    "version": 3
   },
   "file_extension": ".py",
   "mimetype": "text/x-python",
   "name": "python",
   "nbconvert_exporter": "python",
   "pygments_lexer": "ipython3",
   "version": "3.5.2"
  }
 },
 "nbformat": 4,
 "nbformat_minor": 2
}
