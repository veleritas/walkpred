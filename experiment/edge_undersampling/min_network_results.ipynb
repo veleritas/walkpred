{
 "cells": [
  {
   "cell_type": "markdown",
   "metadata": {},
   "source": [
    "# Deepwalk performance debugging: absolute minimal hetionet"
   ]
  },
  {
   "cell_type": "code",
   "execution_count": 1,
   "metadata": {},
   "outputs": [],
   "source": [
    "import pandas as pd\n",
    "import numpy as np\n",
    "\n",
    "from tqdm import tqdm\n",
    "\n",
    "from scipy import interp\n",
    "import matplotlib.pyplot as plt\n",
    "from sklearn.metrics import roc_curve, auc\n",
    "from sklearn.metrics import precision_recall_curve\n",
    "\n",
    "from sklearn.linear_model import LogisticRegression\n",
    "\n",
    "from itertools import chain\n",
    "\n",
    "from glob import glob\n",
    "import os\n",
    "import seaborn as sns"
   ]
  },
  {
   "cell_type": "code",
   "execution_count": 2,
   "metadata": {},
   "outputs": [],
   "source": [
    "%matplotlib inline"
   ]
  },
  {
   "cell_type": "markdown",
   "metadata": {},
   "source": [
    "---"
   ]
  },
  {
   "cell_type": "markdown",
   "metadata": {},
   "source": [
    "if no embedding for training data\n"
   ]
  },
  {
   "cell_type": "code",
   "execution_count": 3,
   "metadata": {},
   "outputs": [],
   "source": [
    "def add_features(df, features, mergetype):\n",
    "    return (df\n",
    "        .merge(\n",
    "            features, how=mergetype, left_on=\"chemical_uid\", right_on=\"uid\"\n",
    "        )\n",
    "        .drop(\"uid\", axis=1)\n",
    "        .merge(\n",
    "            features, how=mergetype, left_on=\"disease_uid\", right_on=\"uid\"\n",
    "        )\n",
    "        .drop(\"uid\", axis=1)\n",
    "    )\n",
    "\n",
    "def convolv_features(df, features, vecsize, mergetype):\n",
    "    reg = add_features(df, features, mergetype)\n",
    "    \n",
    "    # do multiply and get rid of old features\n",
    "    for i in range(vecsize):\n",
    "        reg[\"conv{}\".format(i)] = reg[\"f{}_x\".format(i)] * reg[\"f{}_y\".format(i)]\n",
    "\n",
    "    reg = (reg\n",
    "        .drop(\n",
    "            [\"f{}_x\".format(i) for i in range(vecsize)], axis=1\n",
    "        )\n",
    "        .drop(\n",
    "            [\"f{}_y\".format(i) for i in range(vecsize)], axis=1\n",
    "        )\n",
    "    )\n",
    "        \n",
    "    return reg"
   ]
  },
  {
   "cell_type": "markdown",
   "metadata": {},
   "source": [
    "there are nodes in the holdout dataset that did not have any embeddings generated for it. check to see if they had proper adjlists made"
   ]
  },
  {
   "cell_type": "code",
   "execution_count": 4,
   "metadata": {},
   "outputs": [],
   "source": [
    "def eval_performance(fbase, K, vecsize):\n",
    "    for idx in range(K):\n",
    "        train = pd.read_csv(\n",
    "            \"tmp/data/train/{}_train_{}.tsv\".format(fbase, idx),\n",
    "            sep='\\t'\n",
    "        )\n",
    "        \n",
    "        holdout = pd.read_csv(\n",
    "            \"tmp/data/holdout/{}_holdout_{}.tsv\".format(fbase, idx),\n",
    "            sep='\\t'\n",
    "        )\n",
    "\n",
    "        features = pd.read_csv(\n",
    "            \"tmp/data/embeddings/{}_embedding_{}.txt\".format(fbase, idx),\n",
    "            sep=\" \", skiprows=1,\n",
    "            names=[\"uid\"] + [\"f{}\".format(i) for i in range(vecsize)]\n",
    "        )\n",
    "        \n",
    "\n",
    "        tmp = convolv_features(train, features, vecsize, \"inner\")\n",
    "        \n",
    "        print(tmp.shape)\n",
    "#         print(tmp[\"etype\"].value_counts())\n",
    "\n",
    "        feat_cols = [\"conv{}\".format(j) for j in range(vecsize)]\n",
    "        regmodel = LogisticRegression(C=1e9).fit(tmp[feat_cols], tmp[\"etype\"])\n",
    "\n",
    "        # test on holdout\n",
    "        test = convolv_features(\n",
    "            holdout.drop(\"etype\", axis=1),\n",
    "            features, vecsize, \"left\"\n",
    "        )\n",
    "        \n",
    "        assert len(test) == len(holdout)\n",
    "        \n",
    "        # if there are empty ones in the features column,\n",
    "        # then we didn't generate any embeddings, and therefore\n",
    "        # need to split those up and treat as zeroes\n",
    "        # for the others we can predict normally, then join together\n",
    "        \n",
    "        regular = test[test[\"conv0\"].notnull()].assign(missed = False)\n",
    "        \n",
    "        missed = (test[test[\"conv0\"].isnull()]\n",
    "            .assign(\n",
    "                predval = 0\n",
    "            )\n",
    "            .assign(missed = True)\n",
    "        )\n",
    "  \n",
    "        print(regular.shape)\n",
    "        print(missed.shape)\n",
    "                \n",
    "        # add in predictions\n",
    "        ans = regular.assign(\n",
    "            predval = lambda df: regmodel.predict_proba(df[feat_cols])[:, 1]\n",
    "        )\n",
    "        \n",
    "        ans = ans.append(missed)\n",
    "        \n",
    "        assert len(ans) == len(holdout)\n",
    "        \n",
    "        yield (ans\n",
    "            [[\"chemical_uid\", \"disease_uid\", \"predval\", \"missed\"]]\n",
    "            .merge(\n",
    "                holdout[[\"chemical_uid\", \"disease_uid\", \"etype\"]],\n",
    "                how=\"inner\", on=[\"chemical_uid\", \"disease_uid\"]\n",
    "            )\n",
    "            .sort_values(\"predval\", ascending=False)\n",
    "            .reset_index(drop=True)\n",
    "        )"
   ]
  },
  {
   "cell_type": "code",
   "execution_count": 5,
   "metadata": {},
   "outputs": [],
   "source": [
    "def finished(fbase, K):\n",
    "    for i in range(K):\n",
    "        ename = \"tmp/data/embeddings/{}_embedding_{}.txt\".format(fbase, i)\n",
    "        \n",
    "        if not os.path.isfile(ename):\n",
    "            return False\n",
    "\n",
    "    return True"
   ]
  },
  {
   "cell_type": "markdown",
   "metadata": {},
   "source": [
    "need to check that we have the expected embeddings for the concepts"
   ]
  },
  {
   "cell_type": "code",
   "execution_count": 34,
   "metadata": {},
   "outputs": [
    {
     "name": "stderr",
     "output_type": "stream",
     "text": [
      "\r",
      "  0%|          | 0/5 [00:00<?, ?it/s]"
     ]
    },
    {
     "name": "stdout",
     "output_type": "stream",
     "text": [
      "working on no_drug_gene_or_drug_disease2\n",
      "(11695, 133)\n",
      "(80902, 133)\n",
      "(13112, 134)\n"
     ]
    },
    {
     "name": "stderr",
     "output_type": "stream",
     "text": [
      "\r",
      " 20%|██        | 1/5 [00:03<00:12,  3.10s/it]"
     ]
    },
    {
     "name": "stdout",
     "output_type": "stream",
     "text": [
      "finished working on no_drug_gene_or_drug_disease2\n",
      "working on empty\n",
      "(11695, 133)\n",
      "(62944, 133)\n",
      "(31070, 134)\n"
     ]
    },
    {
     "name": "stderr",
     "output_type": "stream",
     "text": [
      "\r",
      " 40%|████      | 2/5 [00:04<00:07,  2.48s/it]"
     ]
    },
    {
     "name": "stdout",
     "output_type": "stream",
     "text": [
      "finished working on empty\n",
      "working on drug_drug_anat_gene_only\n",
      "(11695, 133)\n",
      "(63278, 133)\n",
      "(29350, 134)\n"
     ]
    },
    {
     "name": "stderr",
     "output_type": "stream",
     "text": [
      "\r",
      " 60%|██████    | 3/5 [00:07<00:05,  2.57s/it]"
     ]
    },
    {
     "name": "stdout",
     "output_type": "stream",
     "text": [
      "finished working on drug_drug_anat_gene_only\n",
      "working on no_drug_gene_or_drug_disease\n",
      "(11695, 133)\n",
      "(80902, 133)\n",
      "(13112, 134)\n"
     ]
    },
    {
     "name": "stderr",
     "output_type": "stream",
     "text": [
      "100%|██████████| 5/5 [00:10<00:00,  2.15s/it]"
     ]
    },
    {
     "name": "stdout",
     "output_type": "stream",
     "text": [
      "finished working on no_drug_gene_or_drug_disease\n",
      "working on empty_small\n",
      "(11695, 21)\n",
      "(859, 21)\n",
      "(311, 22)\n",
      "finished working on empty_small\n"
     ]
    },
    {
     "name": "stderr",
     "output_type": "stream",
     "text": [
      "\n"
     ]
    }
   ],
   "source": [
    "vecsize = 128\n",
    "\n",
    "stuff = []\n",
    "\n",
    "missed = []\n",
    "# for edge_fname in tqdm(chain(\n",
    "    \n",
    "for edge_fname in tqdm(glob(\"tmp/edges/*.tsv\")):\n",
    "    \n",
    "#     glob(\"tmp/edges/empty*.tsv\"), glob(\"tmp/edges/drug*.tsv\"))):\n",
    "    fbase = edge_fname.split(\"/\")[2][:-4]\n",
    "    \n",
    "    vecsize = 128\n",
    "    if fbase == \"empty_small\":\n",
    "        vecsize = 16\n",
    "    \n",
    "    K = 1\n",
    "    \n",
    "    # check if all K embeddings are done\n",
    "    if finished(fbase, K):\n",
    "        \n",
    "        print(\"working on {}\".format(fbase))\n",
    "\n",
    "        aucs = []\n",
    "        for res in eval_performance(fbase, K, vecsize):\n",
    "            \n",
    "            stuff.append(res)\n",
    "            \n",
    "            precision, recall, thresh = precision_recall_curve(res[\"etype\"], res[\"predval\"])\n",
    "            \n",
    "#             fpr, tpr, thresh = roc_curve(res[\"etype\"], res[\"predval\"])\n",
    "\n",
    "            auc_val = auc(recall, precision)\n",
    "            \n",
    "#             auc_val = auc(fpr, tpr)\n",
    "            aucs.append(auc_val)\n",
    "            \n",
    "            missed.append((res[\"missed\"].sum(), len(res), len(res.query(\"missed and etype == 1\"))))\n",
    "\n",
    "        temp = (pd\n",
    "            .Series(aucs)\n",
    "            .to_frame(\"auc_roc\")\n",
    "            .assign(edge_val = fbase)\n",
    "        )\n",
    "        \n",
    "        temp.to_csv(\n",
    "            \"tmp/results/{}.tsv\".format(fbase), sep='\\t', index=False\n",
    "        )\n",
    "        \n",
    "        print(\"finished working on {}\".format(fbase))"
   ]
  },
  {
   "cell_type": "markdown",
   "metadata": {},
   "source": [
    "---"
   ]
  },
  {
   "cell_type": "code",
   "execution_count": 27,
   "metadata": {},
   "outputs": [],
   "source": [
    "mdata = pd.DataFrame(missed, columns=[\"num_missed\", \"total\", \"missed_and_true\"])"
   ]
  },
  {
   "cell_type": "code",
   "execution_count": 28,
   "metadata": {},
   "outputs": [
    {
     "data": {
      "text/plain": [
       "(3, 3)"
      ]
     },
     "execution_count": 28,
     "metadata": {},
     "output_type": "execute_result"
    }
   ],
   "source": [
    "mdata.shape"
   ]
  },
  {
   "cell_type": "code",
   "execution_count": 29,
   "metadata": {},
   "outputs": [
    {
     "data": {
      "text/html": [
       "<div>\n",
       "<style scoped>\n",
       "    .dataframe tbody tr th:only-of-type {\n",
       "        vertical-align: middle;\n",
       "    }\n",
       "\n",
       "    .dataframe tbody tr th {\n",
       "        vertical-align: top;\n",
       "    }\n",
       "\n",
       "    .dataframe thead th {\n",
       "        text-align: right;\n",
       "    }\n",
       "</style>\n",
       "<table border=\"1\" class=\"dataframe\">\n",
       "  <thead>\n",
       "    <tr style=\"text-align: right;\">\n",
       "      <th></th>\n",
       "      <th>num_missed</th>\n",
       "      <th>total</th>\n",
       "      <th>missed_and_true</th>\n",
       "    </tr>\n",
       "  </thead>\n",
       "  <tbody>\n",
       "    <tr>\n",
       "      <th>0</th>\n",
       "      <td>31070</td>\n",
       "      <td>94014</td>\n",
       "      <td>119</td>\n",
       "    </tr>\n",
       "    <tr>\n",
       "      <th>1</th>\n",
       "      <td>311</td>\n",
       "      <td>1170</td>\n",
       "      <td>119</td>\n",
       "    </tr>\n",
       "    <tr>\n",
       "      <th>2</th>\n",
       "      <td>29350</td>\n",
       "      <td>92628</td>\n",
       "      <td>110</td>\n",
       "    </tr>\n",
       "  </tbody>\n",
       "</table>\n",
       "</div>"
      ],
      "text/plain": [
       "   num_missed  total  missed_and_true\n",
       "0       31070  94014              119\n",
       "1         311   1170              119\n",
       "2       29350  92628              110"
      ]
     },
     "execution_count": 29,
     "metadata": {},
     "output_type": "execute_result"
    }
   ],
   "source": [
    "mdata"
   ]
  },
  {
   "cell_type": "code",
   "execution_count": 30,
   "metadata": {},
   "outputs": [
    {
     "data": {
      "text/plain": [
       "<matplotlib.axes._subplots.AxesSubplot at 0x7f57347cbc88>"
      ]
     },
     "execution_count": 30,
     "metadata": {},
     "output_type": "execute_result"
    },
    {
     "data": {
      "image/png": "[encoded data removed]",
      "text/plain": [
       "<matplotlib.figure.Figure at 0x7f57347cb860>"
      ]
     },
     "metadata": {},
     "output_type": "display_data"
    }
   ],
   "source": [
    "sns.boxplot(mdata[\"missed_and_true\"])"
   ]
  },
  {
   "cell_type": "markdown",
   "metadata": {},
   "source": [
    "seems to have been no difference in performance between the version where some of the gold standard is in the network vs gold standard relations are removed from the network"
   ]
  },
  {
   "cell_type": "markdown",
   "metadata": {},
   "source": [
    "---"
   ]
  },
  {
   "cell_type": "code",
   "execution_count": 35,
   "metadata": {},
   "outputs": [],
   "source": [
    "res = [\n",
    "    pd.read_csv(fname, sep='\\t')\n",
    "    for fname in glob(\"tmp/results/*.tsv\")\n",
    "]\n",
    "\n",
    "res = pd.concat(res)"
   ]
  },
  {
   "cell_type": "code",
   "execution_count": 36,
   "metadata": {},
   "outputs": [
    {
     "data": {
      "text/plain": [
       "(5, 2)"
      ]
     },
     "execution_count": 36,
     "metadata": {},
     "output_type": "execute_result"
    }
   ],
   "source": [
    "res.shape"
   ]
  },
  {
   "cell_type": "code",
   "execution_count": 37,
   "metadata": {},
   "outputs": [
    {
     "data": {
      "text/html": [
       "<div>\n",
       "<style scoped>\n",
       "    .dataframe tbody tr th:only-of-type {\n",
       "        vertical-align: middle;\n",
       "    }\n",
       "\n",
       "    .dataframe tbody tr th {\n",
       "        vertical-align: top;\n",
       "    }\n",
       "\n",
       "    .dataframe thead th {\n",
       "        text-align: right;\n",
       "    }\n",
       "</style>\n",
       "<table border=\"1\" class=\"dataframe\">\n",
       "  <thead>\n",
       "    <tr style=\"text-align: right;\">\n",
       "      <th></th>\n",
       "      <th>auc_roc</th>\n",
       "      <th>edge_val</th>\n",
       "    </tr>\n",
       "  </thead>\n",
       "  <tbody>\n",
       "    <tr>\n",
       "      <th>0</th>\n",
       "      <td>0.176056</td>\n",
       "      <td>no_drug_gene_or_drug_disease2</td>\n",
       "    </tr>\n",
       "    <tr>\n",
       "      <th>0</th>\n",
       "      <td>0.122008</td>\n",
       "      <td>empty</td>\n",
       "    </tr>\n",
       "    <tr>\n",
       "      <th>0</th>\n",
       "      <td>0.147716</td>\n",
       "      <td>drug_drug_anat_gene_only</td>\n",
       "    </tr>\n",
       "    <tr>\n",
       "      <th>0</th>\n",
       "      <td>0.133609</td>\n",
       "      <td>no_drug_gene_or_drug_disease</td>\n",
       "    </tr>\n",
       "    <tr>\n",
       "      <th>0</th>\n",
       "      <td>0.850847</td>\n",
       "      <td>empty_small</td>\n",
       "    </tr>\n",
       "  </tbody>\n",
       "</table>\n",
       "</div>"
      ],
      "text/plain": [
       "    auc_roc                       edge_val\n",
       "0  0.176056  no_drug_gene_or_drug_disease2\n",
       "0  0.122008                          empty\n",
       "0  0.147716       drug_drug_anat_gene_only\n",
       "0  0.133609   no_drug_gene_or_drug_disease\n",
       "0  0.850847                    empty_small"
      ]
     },
     "execution_count": 37,
     "metadata": {},
     "output_type": "execute_result"
    }
   ],
   "source": [
    "res"
   ]
  },
  {
   "cell_type": "code",
   "execution_count": 23,
   "metadata": {},
   "outputs": [
    {
     "data": {
      "text/html": [
       "<div>\n",
       "<style scoped>\n",
       "    .dataframe tbody tr th:only-of-type {\n",
       "        vertical-align: middle;\n",
       "    }\n",
       "\n",
       "    .dataframe tbody tr th {\n",
       "        vertical-align: top;\n",
       "    }\n",
       "\n",
       "    .dataframe thead th {\n",
       "        text-align: right;\n",
       "    }\n",
       "</style>\n",
       "<table border=\"1\" class=\"dataframe\">\n",
       "  <thead>\n",
       "    <tr style=\"text-align: right;\">\n",
       "      <th></th>\n",
       "      <th>auc_roc</th>\n",
       "      <th>edge_val</th>\n",
       "    </tr>\n",
       "  </thead>\n",
       "  <tbody>\n",
       "    <tr>\n",
       "      <th>0</th>\n",
       "      <td>0.853603</td>\n",
       "      <td>no_drug_gene_or_drug_disease2</td>\n",
       "    </tr>\n",
       "    <tr>\n",
       "      <th>0</th>\n",
       "      <td>0.782379</td>\n",
       "      <td>empty</td>\n",
       "    </tr>\n",
       "    <tr>\n",
       "      <th>0</th>\n",
       "      <td>0.791529</td>\n",
       "      <td>drug_drug_anat_gene_only</td>\n",
       "    </tr>\n",
       "    <tr>\n",
       "      <th>0</th>\n",
       "      <td>0.861440</td>\n",
       "      <td>no_drug_gene_or_drug_disease</td>\n",
       "    </tr>\n",
       "    <tr>\n",
       "      <th>1</th>\n",
       "      <td>0.872229</td>\n",
       "      <td>no_drug_gene_or_drug_disease</td>\n",
       "    </tr>\n",
       "    <tr>\n",
       "      <th>2</th>\n",
       "      <td>0.839946</td>\n",
       "      <td>no_drug_gene_or_drug_disease</td>\n",
       "    </tr>\n",
       "    <tr>\n",
       "      <th>3</th>\n",
       "      <td>0.882665</td>\n",
       "      <td>no_drug_gene_or_drug_disease</td>\n",
       "    </tr>\n",
       "    <tr>\n",
       "      <th>4</th>\n",
       "      <td>0.864650</td>\n",
       "      <td>no_drug_gene_or_drug_disease</td>\n",
       "    </tr>\n",
       "    <tr>\n",
       "      <th>0</th>\n",
       "      <td>0.789577</td>\n",
       "      <td>empty_small</td>\n",
       "    </tr>\n",
       "  </tbody>\n",
       "</table>\n",
       "</div>"
      ],
      "text/plain": [
       "    auc_roc                       edge_val\n",
       "0  0.853603  no_drug_gene_or_drug_disease2\n",
       "0  0.782379                          empty\n",
       "0  0.791529       drug_drug_anat_gene_only\n",
       "0  0.861440   no_drug_gene_or_drug_disease\n",
       "1  0.872229   no_drug_gene_or_drug_disease\n",
       "2  0.839946   no_drug_gene_or_drug_disease\n",
       "3  0.882665   no_drug_gene_or_drug_disease\n",
       "4  0.864650   no_drug_gene_or_drug_disease\n",
       "0  0.789577                    empty_small"
      ]
     },
     "execution_count": 23,
     "metadata": {},
     "output_type": "execute_result"
    }
   ],
   "source": [
    "res"
   ]
  },
  {
   "cell_type": "code",
   "execution_count": 38,
   "metadata": {},
   "outputs": [
    {
     "data": {
      "text/html": [
       "<div>\n",
       "<style scoped>\n",
       "    .dataframe tbody tr th:only-of-type {\n",
       "        vertical-align: middle;\n",
       "    }\n",
       "\n",
       "    .dataframe tbody tr th {\n",
       "        vertical-align: top;\n",
       "    }\n",
       "\n",
       "    .dataframe thead th {\n",
       "        text-align: right;\n",
       "    }\n",
       "</style>\n",
       "<table border=\"1\" class=\"dataframe\">\n",
       "  <thead>\n",
       "    <tr style=\"text-align: right;\">\n",
       "      <th></th>\n",
       "      <th>auc_roc</th>\n",
       "    </tr>\n",
       "    <tr>\n",
       "      <th>edge_val</th>\n",
       "      <th></th>\n",
       "    </tr>\n",
       "  </thead>\n",
       "  <tbody>\n",
       "    <tr>\n",
       "      <th>drug_drug_anat_gene_only</th>\n",
       "      <td>0.147716</td>\n",
       "    </tr>\n",
       "    <tr>\n",
       "      <th>empty</th>\n",
       "      <td>0.122008</td>\n",
       "    </tr>\n",
       "    <tr>\n",
       "      <th>empty_small</th>\n",
       "      <td>0.850847</td>\n",
       "    </tr>\n",
       "    <tr>\n",
       "      <th>no_drug_gene_or_drug_disease</th>\n",
       "      <td>0.133609</td>\n",
       "    </tr>\n",
       "    <tr>\n",
       "      <th>no_drug_gene_or_drug_disease2</th>\n",
       "      <td>0.176056</td>\n",
       "    </tr>\n",
       "  </tbody>\n",
       "</table>\n",
       "</div>"
      ],
      "text/plain": [
       "                                auc_roc\n",
       "edge_val                               \n",
       "drug_drug_anat_gene_only       0.147716\n",
       "empty                          0.122008\n",
       "empty_small                    0.850847\n",
       "no_drug_gene_or_drug_disease   0.133609\n",
       "no_drug_gene_or_drug_disease2  0.176056"
      ]
     },
     "execution_count": 38,
     "metadata": {},
     "output_type": "execute_result"
    }
   ],
   "source": [
    "res.groupby(\"edge_val\").mean()"
   ]
  },
  {
   "cell_type": "markdown",
   "metadata": {},
   "source": [
    "at this point it's clear that the way we construct the network itself with true training examples as edges in the network is influencing how the algorithm determines which things to predict\n",
    "\n",
    "as long as we include the "
   ]
  },
  {
   "cell_type": "code",
   "execution_count": null,
   "metadata": {},
   "outputs": [],
   "source": []
  },
  {
   "cell_type": "code",
   "execution_count": null,
   "metadata": {},
   "outputs": [],
   "source": []
  },
  {
   "cell_type": "markdown",
   "metadata": {},
   "source": [
    "even on a network containing only the gold standard edges which are known to be true, we are getting 0.78 ROC values."
   ]
  },
  {
   "cell_type": "markdown",
   "metadata": {},
   "source": [
    "---"
   ]
  },
  {
   "cell_type": "code",
   "execution_count": 15,
   "metadata": {},
   "outputs": [],
   "source": [
    "# original deepwalk performance on unmodified hetionet\n",
    "orig = [0.83794169828897624,\n",
    " 0.83592900230751011,\n",
    " 0.82794024342944517,\n",
    " 0.83258454954099403,\n",
    " 0.84911988472878375,\n",
    " 0.82679078477519785,\n",
    " 0.86955409367485537,\n",
    " 0.81721305005383327,\n",
    " 0.82568604664477641,\n",
    " 0.85703519382275861]"
   ]
  },
  {
   "cell_type": "code",
   "execution_count": 16,
   "metadata": {},
   "outputs": [],
   "source": [
    "hetio_perf = (pd\n",
    "    .Series(orig)\n",
    "    .to_frame(\"auc_roc\")\n",
    "    .assign(pct_kept = 100)\n",
    ")"
   ]
  },
  {
   "cell_type": "code",
   "execution_count": 17,
   "metadata": {},
   "outputs": [
    {
     "data": {
      "text/html": [
       "<div>\n",
       "<style scoped>\n",
       "    .dataframe tbody tr th:only-of-type {\n",
       "        vertical-align: middle;\n",
       "    }\n",
       "\n",
       "    .dataframe tbody tr th {\n",
       "        vertical-align: top;\n",
       "    }\n",
       "\n",
       "    .dataframe thead th {\n",
       "        text-align: right;\n",
       "    }\n",
       "</style>\n",
       "<table border=\"1\" class=\"dataframe\">\n",
       "  <thead>\n",
       "    <tr style=\"text-align: right;\">\n",
       "      <th></th>\n",
       "      <th>auc_roc</th>\n",
       "      <th>pct_kept</th>\n",
       "    </tr>\n",
       "  </thead>\n",
       "  <tbody>\n",
       "    <tr>\n",
       "      <th>0</th>\n",
       "      <td>0.837942</td>\n",
       "      <td>100</td>\n",
       "    </tr>\n",
       "    <tr>\n",
       "      <th>1</th>\n",
       "      <td>0.835929</td>\n",
       "      <td>100</td>\n",
       "    </tr>\n",
       "    <tr>\n",
       "      <th>2</th>\n",
       "      <td>0.827940</td>\n",
       "      <td>100</td>\n",
       "    </tr>\n",
       "    <tr>\n",
       "      <th>3</th>\n",
       "      <td>0.832585</td>\n",
       "      <td>100</td>\n",
       "    </tr>\n",
       "    <tr>\n",
       "      <th>4</th>\n",
       "      <td>0.849120</td>\n",
       "      <td>100</td>\n",
       "    </tr>\n",
       "  </tbody>\n",
       "</table>\n",
       "</div>"
      ],
      "text/plain": [
       "    auc_roc  pct_kept\n",
       "0  0.837942       100\n",
       "1  0.835929       100\n",
       "2  0.827940       100\n",
       "3  0.832585       100\n",
       "4  0.849120       100"
      ]
     },
     "execution_count": 17,
     "metadata": {},
     "output_type": "execute_result"
    }
   ],
   "source": [
    "hetio_perf.head()"
   ]
  },
  {
   "cell_type": "code",
   "execution_count": 18,
   "metadata": {},
   "outputs": [
    {
     "data": {
      "text/plain": [
       "0.8379794547267132"
      ]
     },
     "execution_count": 18,
     "metadata": {},
     "output_type": "execute_result"
    }
   ],
   "source": [
    "hetio_perf[\"auc_roc\"].mean()"
   ]
  },
  {
   "cell_type": "code",
   "execution_count": null,
   "metadata": {},
   "outputs": [],
   "source": []
  },
  {
   "cell_type": "code",
   "execution_count": null,
   "metadata": {},
   "outputs": [],
   "source": []
  }
 ],
 "metadata": {
  "kernelspec": {
   "display_name": "Python 3",
   "language": "python",
   "name": "python3"
  },
  "language_info": {
   "codemirror_mode": {
    "name": "ipython",
    "version": 3
   },
   "file_extension": ".py",
   "mimetype": "text/x-python",
   "name": "python",
   "nbconvert_exporter": "python",
   "pygments_lexer": "ipython3",
   "version": "3.5.2"
  }
 },
 "nbformat": 4,
 "nbformat_minor": 2
}
