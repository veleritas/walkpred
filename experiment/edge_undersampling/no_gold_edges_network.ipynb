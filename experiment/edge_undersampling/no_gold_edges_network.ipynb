{
 "cells": [
  {
   "cell_type": "markdown",
   "metadata": {},
   "source": [
    "# Generate a bare minimum Hetionet for use with Deepwalk\n",
    "\n",
    "We are not getting the kind of results that we expect out of the edge removal experiments. Need to make sure our baseline makes sense, so let's retry on a minimal hetionet. We will only include edges which have no relation to our chemicals and diseases, and see if we are still getting 0.8 ROC as a result."
   ]
  },
  {
   "cell_type": "code",
   "execution_count": 1,
   "metadata": {},
   "outputs": [],
   "source": [
    "import pandas as pd\n",
    "from collections import defaultdict\n",
    "from tqdm import tqdm\n",
    "\n",
    "import numpy as np\n",
    "from itertools import product"
   ]
  },
  {
   "cell_type": "code",
   "execution_count": 2,
   "metadata": {},
   "outputs": [],
   "source": [
    "np.random.seed(20180329)"
   ]
  },
  {
   "cell_type": "markdown",
   "metadata": {},
   "source": [
    "## Read hetionet\n",
    "\n",
    "using hetionet for now because it should be faster to run than semmeddb"
   ]
  },
  {
   "cell_type": "code",
   "execution_count": 3,
   "metadata": {},
   "outputs": [],
   "source": [
    "hnodes = (pd\n",
    "    .read_csv(\"../../merge/data/hetionet/hetnet_nodes.csv\", sep=',')\n",
    "    .drop(\"identifier:string\", axis=1)\n",
    "    .rename(columns={\n",
    "        \":ID\": \"node_id\",\n",
    "        \"name:string\": \"name\",\n",
    "        \":LABEL\": \"het_type\"\n",
    "    })\n",
    ")"
   ]
  },
  {
   "cell_type": "code",
   "execution_count": 4,
   "metadata": {},
   "outputs": [],
   "source": [
    "hedges = (pd\n",
    "    .read_csv(\"../../merge/data/hetionet/hetnet_edges.csv\", sep=',')\n",
    "    .rename(columns={\n",
    "        \":START_ID\": \"start_id\",\n",
    "        \":END_ID\": \"end_id\",\n",
    "        \":TYPE\": \"het_etype\"\n",
    "    })\n",
    ")"
   ]
  },
  {
   "cell_type": "code",
   "execution_count": 5,
   "metadata": {},
   "outputs": [
    {
     "data": {
      "text/html": [
       "<div>\n",
       "<style scoped>\n",
       "    .dataframe tbody tr th:only-of-type {\n",
       "        vertical-align: middle;\n",
       "    }\n",
       "\n",
       "    .dataframe tbody tr th {\n",
       "        vertical-align: top;\n",
       "    }\n",
       "\n",
       "    .dataframe thead th {\n",
       "        text-align: right;\n",
       "    }\n",
       "</style>\n",
       "<table border=\"1\" class=\"dataframe\">\n",
       "  <thead>\n",
       "    <tr style=\"text-align: right;\">\n",
       "      <th></th>\n",
       "      <th>node_id</th>\n",
       "      <th>name</th>\n",
       "      <th>het_type</th>\n",
       "    </tr>\n",
       "  </thead>\n",
       "  <tbody>\n",
       "    <tr>\n",
       "      <th>0</th>\n",
       "      <td>DB00795</td>\n",
       "      <td>Sulfasalazine</td>\n",
       "      <td>Compound</td>\n",
       "    </tr>\n",
       "    <tr>\n",
       "      <th>1</th>\n",
       "      <td>N0000000151</td>\n",
       "      <td>Histamine H2 Receptor Antagonists</td>\n",
       "      <td>Pharmacologic Class</td>\n",
       "    </tr>\n",
       "    <tr>\n",
       "      <th>2</th>\n",
       "      <td>100996420</td>\n",
       "      <td>DNM1P50</td>\n",
       "      <td>Gene</td>\n",
       "    </tr>\n",
       "    <tr>\n",
       "      <th>3</th>\n",
       "      <td>DB04898</td>\n",
       "      <td>Ximelagatran</td>\n",
       "      <td>Compound</td>\n",
       "    </tr>\n",
       "    <tr>\n",
       "      <th>4</th>\n",
       "      <td>C0278151</td>\n",
       "      <td>Facial spasm</td>\n",
       "      <td>Side Effect</td>\n",
       "    </tr>\n",
       "  </tbody>\n",
       "</table>\n",
       "</div>"
      ],
      "text/plain": [
       "       node_id                               name             het_type\n",
       "0      DB00795                      Sulfasalazine             Compound\n",
       "1  N0000000151  Histamine H2 Receptor Antagonists  Pharmacologic Class\n",
       "2    100996420                            DNM1P50                 Gene\n",
       "3      DB04898                       Ximelagatran             Compound\n",
       "4     C0278151                       Facial spasm          Side Effect"
      ]
     },
     "execution_count": 5,
     "metadata": {},
     "output_type": "execute_result"
    }
   ],
   "source": [
    "hnodes.head()"
   ]
  },
  {
   "cell_type": "code",
   "execution_count": 6,
   "metadata": {},
   "outputs": [
    {
     "data": {
      "text/html": [
       "<div>\n",
       "<style scoped>\n",
       "    .dataframe tbody tr th:only-of-type {\n",
       "        vertical-align: middle;\n",
       "    }\n",
       "\n",
       "    .dataframe tbody tr th {\n",
       "        vertical-align: top;\n",
       "    }\n",
       "\n",
       "    .dataframe thead th {\n",
       "        text-align: right;\n",
       "    }\n",
       "</style>\n",
       "<table border=\"1\" class=\"dataframe\">\n",
       "  <thead>\n",
       "    <tr style=\"text-align: right;\">\n",
       "      <th></th>\n",
       "      <th>start_id</th>\n",
       "      <th>end_id</th>\n",
       "      <th>het_etype</th>\n",
       "    </tr>\n",
       "  </thead>\n",
       "  <tbody>\n",
       "    <tr>\n",
       "      <th>0</th>\n",
       "      <td>8568</td>\n",
       "      <td>GO:0042254</td>\n",
       "      <td>PARTICIPATES_GpBP</td>\n",
       "    </tr>\n",
       "    <tr>\n",
       "      <th>1</th>\n",
       "      <td>UBERON:0002450</td>\n",
       "      <td>51316</td>\n",
       "      <td>EXPRESSES_AeG</td>\n",
       "    </tr>\n",
       "    <tr>\n",
       "      <th>2</th>\n",
       "      <td>4893</td>\n",
       "      <td>PC7_8430</td>\n",
       "      <td>PARTICIPATES_GpPW</td>\n",
       "    </tr>\n",
       "    <tr>\n",
       "      <th>3</th>\n",
       "      <td>UBERON:0002185</td>\n",
       "      <td>55186</td>\n",
       "      <td>EXPRESSES_AeG</td>\n",
       "    </tr>\n",
       "    <tr>\n",
       "      <th>4</th>\n",
       "      <td>119504</td>\n",
       "      <td>GO:0033047</td>\n",
       "      <td>PARTICIPATES_GpBP</td>\n",
       "    </tr>\n",
       "  </tbody>\n",
       "</table>\n",
       "</div>"
      ],
      "text/plain": [
       "         start_id      end_id          het_etype\n",
       "0            8568  GO:0042254  PARTICIPATES_GpBP\n",
       "1  UBERON:0002450       51316      EXPRESSES_AeG\n",
       "2            4893    PC7_8430  PARTICIPATES_GpPW\n",
       "3  UBERON:0002185       55186      EXPRESSES_AeG\n",
       "4          119504  GO:0033047  PARTICIPATES_GpBP"
      ]
     },
     "execution_count": 6,
     "metadata": {},
     "output_type": "execute_result"
    }
   ],
   "source": [
    "hedges.head()"
   ]
  },
  {
   "cell_type": "code",
   "execution_count": 7,
   "metadata": {},
   "outputs": [],
   "source": [
    "gold = (pd\n",
    "    .read_csv(\"../hetio_dw/filtered_semmed_gold_for_hetionet.tsv\", sep='\\t')\n",
    "    .rename(columns={\n",
    "        \"chemical_id\": \"chemical_cui\",\n",
    "        \"disease_id\": \"disease_cui\",\n",
    "        \"chemical_hetid\": \"chemical_id\",\n",
    "        \"disease_hetid\": \"disease_id\"\n",
    "    })\n",
    ")"
   ]
  },
  {
   "cell_type": "code",
   "execution_count": 8,
   "metadata": {},
   "outputs": [
    {
     "data": {
      "text/plain": [
       "(2924, 9)"
      ]
     },
     "execution_count": 8,
     "metadata": {},
     "output_type": "execute_result"
    }
   ],
   "source": [
    "gold.shape"
   ]
  },
  {
   "cell_type": "code",
   "execution_count": 9,
   "metadata": {},
   "outputs": [
    {
     "data": {
      "text/html": [
       "<div>\n",
       "<style scoped>\n",
       "    .dataframe tbody tr th:only-of-type {\n",
       "        vertical-align: middle;\n",
       "    }\n",
       "\n",
       "    .dataframe tbody tr th {\n",
       "        vertical-align: top;\n",
       "    }\n",
       "\n",
       "    .dataframe thead th {\n",
       "        text-align: right;\n",
       "    }\n",
       "</style>\n",
       "<table border=\"1\" class=\"dataframe\">\n",
       "  <thead>\n",
       "    <tr style=\"text-align: right;\">\n",
       "      <th></th>\n",
       "      <th>chemical_cui</th>\n",
       "      <th>chemical_name</th>\n",
       "      <th>disease_cui</th>\n",
       "      <th>disease_name</th>\n",
       "      <th>etype</th>\n",
       "      <th>chemical_id</th>\n",
       "      <th>chemical_htype</th>\n",
       "      <th>disease_id</th>\n",
       "      <th>disease_htype</th>\n",
       "    </tr>\n",
       "  </thead>\n",
       "  <tbody>\n",
       "    <tr>\n",
       "      <th>0</th>\n",
       "      <td>UMLS:C0000477</td>\n",
       "      <td>fampridine</td>\n",
       "      <td>UMLS:C0026769</td>\n",
       "      <td>multiple sclerosis</td>\n",
       "      <td>TREATS_CDtDO</td>\n",
       "      <td>DB06637</td>\n",
       "      <td>Compound</td>\n",
       "      <td>C0026769</td>\n",
       "      <td>Side Effect</td>\n",
       "    </tr>\n",
       "    <tr>\n",
       "      <th>1</th>\n",
       "      <td>UMLS:C0000545</td>\n",
       "      <td>eicosapentaenoic acid</td>\n",
       "      <td>UMLS:C0032961</td>\n",
       "      <td>Pregnancy, function</td>\n",
       "      <td>TREATS_CDtDO</td>\n",
       "      <td>DB00159</td>\n",
       "      <td>Compound</td>\n",
       "      <td>C0032961</td>\n",
       "      <td>Side Effect</td>\n",
       "    </tr>\n",
       "    <tr>\n",
       "      <th>2</th>\n",
       "      <td>UMLS:C0000618</td>\n",
       "      <td>mercaptopurine</td>\n",
       "      <td>UMLS:C0023449</td>\n",
       "      <td>acute lymphocytic leukemia</td>\n",
       "      <td>TREATS_CDtDO</td>\n",
       "      <td>DB01033</td>\n",
       "      <td>Compound</td>\n",
       "      <td>C0023449</td>\n",
       "      <td>Side Effect</td>\n",
       "    </tr>\n",
       "    <tr>\n",
       "      <th>3</th>\n",
       "      <td>UMLS:C0000618</td>\n",
       "      <td>mercaptopurine</td>\n",
       "      <td>UMLS:C0023487</td>\n",
       "      <td>acute promyelocytic leukemia</td>\n",
       "      <td>TREATS_CDtDO</td>\n",
       "      <td>DB01033</td>\n",
       "      <td>Compound</td>\n",
       "      <td>C0023487</td>\n",
       "      <td>Side Effect</td>\n",
       "    </tr>\n",
       "    <tr>\n",
       "      <th>4</th>\n",
       "      <td>UMLS:C0000956</td>\n",
       "      <td>acenocoumarol</td>\n",
       "      <td>UMLS:C0034065</td>\n",
       "      <td>Pulmonary embolism</td>\n",
       "      <td>TREATS_CDtDO</td>\n",
       "      <td>DB01418</td>\n",
       "      <td>Compound</td>\n",
       "      <td>C0034065</td>\n",
       "      <td>Side Effect</td>\n",
       "    </tr>\n",
       "  </tbody>\n",
       "</table>\n",
       "</div>"
      ],
      "text/plain": [
       "    chemical_cui          chemical_name    disease_cui  \\\n",
       "0  UMLS:C0000477             fampridine  UMLS:C0026769   \n",
       "1  UMLS:C0000545  eicosapentaenoic acid  UMLS:C0032961   \n",
       "2  UMLS:C0000618         mercaptopurine  UMLS:C0023449   \n",
       "3  UMLS:C0000618         mercaptopurine  UMLS:C0023487   \n",
       "4  UMLS:C0000956          acenocoumarol  UMLS:C0034065   \n",
       "\n",
       "                   disease_name         etype chemical_id chemical_htype  \\\n",
       "0            multiple sclerosis  TREATS_CDtDO     DB06637       Compound   \n",
       "1           Pregnancy, function  TREATS_CDtDO     DB00159       Compound   \n",
       "2    acute lymphocytic leukemia  TREATS_CDtDO     DB01033       Compound   \n",
       "3  acute promyelocytic leukemia  TREATS_CDtDO     DB01033       Compound   \n",
       "4            Pulmonary embolism  TREATS_CDtDO     DB01418       Compound   \n",
       "\n",
       "  disease_id disease_htype  \n",
       "0   C0026769   Side Effect  \n",
       "1   C0032961   Side Effect  \n",
       "2   C0023449   Side Effect  \n",
       "3   C0023487   Side Effect  \n",
       "4   C0034065   Side Effect  "
      ]
     },
     "execution_count": 9,
     "metadata": {},
     "output_type": "execute_result"
    }
   ],
   "source": [
    "gold.head()"
   ]
  },
  {
   "cell_type": "markdown",
   "metadata": {},
   "source": [
    "---"
   ]
  },
  {
   "cell_type": "markdown",
   "metadata": {},
   "source": [
    "## Add edge types to hetionet edges"
   ]
  },
  {
   "cell_type": "code",
   "execution_count": 10,
   "metadata": {},
   "outputs": [],
   "source": [
    "edges = (hedges\n",
    "    .merge(\n",
    "        hnodes, how=\"inner\",\n",
    "        left_on=\"start_id\", right_on=\"node_id\"\n",
    "    )\n",
    "    .drop([\"node_id\", \"name\"], axis=1)\n",
    "    .rename(columns={\"het_type\": \"start_htype\"})\n",
    "\n",
    "    .merge(\n",
    "        hnodes, how=\"inner\",\n",
    "        left_on=\"end_id\", right_on=\"node_id\"\n",
    "    )\n",
    "    .drop([\"node_id\", \"name\"], axis=1)\n",
    "    .rename(columns={\"het_type\": \"end_htype\"})\n",
    ")"
   ]
  },
  {
   "cell_type": "code",
   "execution_count": 11,
   "metadata": {},
   "outputs": [
    {
     "data": {
      "text/html": [
       "<div>\n",
       "<style scoped>\n",
       "    .dataframe tbody tr th:only-of-type {\n",
       "        vertical-align: middle;\n",
       "    }\n",
       "\n",
       "    .dataframe tbody tr th {\n",
       "        vertical-align: top;\n",
       "    }\n",
       "\n",
       "    .dataframe thead th {\n",
       "        text-align: right;\n",
       "    }\n",
       "</style>\n",
       "<table border=\"1\" class=\"dataframe\">\n",
       "  <thead>\n",
       "    <tr style=\"text-align: right;\">\n",
       "      <th></th>\n",
       "      <th>start_id</th>\n",
       "      <th>end_id</th>\n",
       "      <th>het_etype</th>\n",
       "      <th>start_htype</th>\n",
       "      <th>end_htype</th>\n",
       "    </tr>\n",
       "  </thead>\n",
       "  <tbody>\n",
       "    <tr>\n",
       "      <th>0</th>\n",
       "      <td>8568</td>\n",
       "      <td>GO:0042254</td>\n",
       "      <td>PARTICIPATES_GpBP</td>\n",
       "      <td>Gene</td>\n",
       "      <td>Biological Process</td>\n",
       "    </tr>\n",
       "    <tr>\n",
       "      <th>1</th>\n",
       "      <td>6201</td>\n",
       "      <td>GO:0042254</td>\n",
       "      <td>PARTICIPATES_GpBP</td>\n",
       "      <td>Gene</td>\n",
       "      <td>Biological Process</td>\n",
       "    </tr>\n",
       "    <tr>\n",
       "      <th>2</th>\n",
       "      <td>6223</td>\n",
       "      <td>GO:0042254</td>\n",
       "      <td>PARTICIPATES_GpBP</td>\n",
       "      <td>Gene</td>\n",
       "      <td>Biological Process</td>\n",
       "    </tr>\n",
       "    <tr>\n",
       "      <th>3</th>\n",
       "      <td>6202</td>\n",
       "      <td>GO:0042254</td>\n",
       "      <td>PARTICIPATES_GpBP</td>\n",
       "      <td>Gene</td>\n",
       "      <td>Biological Process</td>\n",
       "    </tr>\n",
       "    <tr>\n",
       "      <th>4</th>\n",
       "      <td>65003</td>\n",
       "      <td>GO:0042254</td>\n",
       "      <td>PARTICIPATES_GpBP</td>\n",
       "      <td>Gene</td>\n",
       "      <td>Biological Process</td>\n",
       "    </tr>\n",
       "  </tbody>\n",
       "</table>\n",
       "</div>"
      ],
      "text/plain": [
       "  start_id      end_id          het_etype start_htype           end_htype\n",
       "0     8568  GO:0042254  PARTICIPATES_GpBP        Gene  Biological Process\n",
       "1     6201  GO:0042254  PARTICIPATES_GpBP        Gene  Biological Process\n",
       "2     6223  GO:0042254  PARTICIPATES_GpBP        Gene  Biological Process\n",
       "3     6202  GO:0042254  PARTICIPATES_GpBP        Gene  Biological Process\n",
       "4    65003  GO:0042254  PARTICIPATES_GpBP        Gene  Biological Process"
      ]
     },
     "execution_count": 11,
     "metadata": {},
     "output_type": "execute_result"
    }
   ],
   "source": [
    "edges.head()"
   ]
  },
  {
   "cell_type": "code",
   "execution_count": 12,
   "metadata": {},
   "outputs": [
    {
     "data": {
      "text/plain": [
       "start_htype          end_htype         \n",
       "Anatomy              Gene                  726495\n",
       "Compound             Compound                6486\n",
       "                     Gene                   51429\n",
       "                     Side Effect           138944\n",
       "Disease              Anatomy                 3602\n",
       "                     Disease                  543\n",
       "                     Gene                   27977\n",
       "                     Symptom                 3357\n",
       "Gene                 Biological Process    559504\n",
       "                     Cellular Component     73566\n",
       "                     Gene                  474526\n",
       "                     Molecular Function     97222\n",
       "                     Pathway                84372\n",
       "Pharmacologic Class  Compound                1029\n",
       "dtype: int64"
      ]
     },
     "execution_count": 12,
     "metadata": {},
     "output_type": "execute_result"
    }
   ],
   "source": [
    "edges.groupby([\"start_htype\", \"end_htype\"]).size()"
   ]
  },
  {
   "cell_type": "markdown",
   "metadata": {},
   "source": [
    "---"
   ]
  },
  {
   "cell_type": "markdown",
   "metadata": {},
   "source": [
    "## Create minimal network"
   ]
  },
  {
   "cell_type": "code",
   "execution_count": 13,
   "metadata": {},
   "outputs": [
    {
     "data": {
      "text/plain": [
       "chemical_htype       disease_htype\n",
       "Compound             Disease           117\n",
       "                     Side Effect      2789\n",
       "                     Symptom            11\n",
       "Pharmacologic Class  Side Effect         7\n",
       "dtype: int64"
      ]
     },
     "execution_count": 13,
     "metadata": {},
     "output_type": "execute_result"
    }
   ],
   "source": [
    "gold.groupby([\"chemical_htype\", \"disease_htype\"]).size()"
   ]
  },
  {
   "cell_type": "code",
   "execution_count": 14,
   "metadata": {},
   "outputs": [],
   "source": [
    "smol = pd.concat([\n",
    "#     edges.query(\"start_htype == 'Anatomy' and end_htype == 'Gene'\"),\n",
    "    edges.query(\"start_htype == 'Compound' and end_htype == 'Compound'\"),\n",
    "])"
   ]
  },
  {
   "cell_type": "code",
   "execution_count": 15,
   "metadata": {},
   "outputs": [
    {
     "data": {
      "text/plain": [
       "(6486, 5)"
      ]
     },
     "execution_count": 15,
     "metadata": {},
     "output_type": "execute_result"
    }
   ],
   "source": [
    "smol.shape"
   ]
  },
  {
   "cell_type": "markdown",
   "metadata": {},
   "source": [
    "## Make up some gene-side effect interactions"
   ]
  },
  {
   "cell_type": "code",
   "execution_count": 16,
   "metadata": {},
   "outputs": [],
   "source": [
    "sideeff = hnodes.query(\"het_type == 'Side Effect'\")"
   ]
  },
  {
   "cell_type": "code",
   "execution_count": 17,
   "metadata": {},
   "outputs": [
    {
     "data": {
      "text/plain": [
       "(5734, 3)"
      ]
     },
     "execution_count": 17,
     "metadata": {},
     "output_type": "execute_result"
    }
   ],
   "source": [
    "sideeff.shape"
   ]
  },
  {
   "cell_type": "code",
   "execution_count": 18,
   "metadata": {},
   "outputs": [],
   "source": [
    "genes = hnodes.query(\"het_type == 'Gene'\")"
   ]
  },
  {
   "cell_type": "code",
   "execution_count": 19,
   "metadata": {},
   "outputs": [
    {
     "data": {
      "text/html": [
       "<div>\n",
       "<style scoped>\n",
       "    .dataframe tbody tr th:only-of-type {\n",
       "        vertical-align: middle;\n",
       "    }\n",
       "\n",
       "    .dataframe tbody tr th {\n",
       "        vertical-align: top;\n",
       "    }\n",
       "\n",
       "    .dataframe thead th {\n",
       "        text-align: right;\n",
       "    }\n",
       "</style>\n",
       "<table border=\"1\" class=\"dataframe\">\n",
       "  <thead>\n",
       "    <tr style=\"text-align: right;\">\n",
       "      <th></th>\n",
       "      <th>node_id</th>\n",
       "      <th>name</th>\n",
       "      <th>het_type</th>\n",
       "    </tr>\n",
       "  </thead>\n",
       "  <tbody>\n",
       "    <tr>\n",
       "      <th>2</th>\n",
       "      <td>100996420</td>\n",
       "      <td>DNM1P50</td>\n",
       "      <td>Gene</td>\n",
       "    </tr>\n",
       "    <tr>\n",
       "      <th>5</th>\n",
       "      <td>56136</td>\n",
       "      <td>PCDHA13</td>\n",
       "      <td>Gene</td>\n",
       "    </tr>\n",
       "    <tr>\n",
       "      <th>8</th>\n",
       "      <td>5518</td>\n",
       "      <td>PPP2R1A</td>\n",
       "      <td>Gene</td>\n",
       "    </tr>\n",
       "    <tr>\n",
       "      <th>9</th>\n",
       "      <td>128859</td>\n",
       "      <td>BPIFB6</td>\n",
       "      <td>Gene</td>\n",
       "    </tr>\n",
       "    <tr>\n",
       "      <th>14</th>\n",
       "      <td>23519</td>\n",
       "      <td>ANP32D</td>\n",
       "      <td>Gene</td>\n",
       "    </tr>\n",
       "  </tbody>\n",
       "</table>\n",
       "</div>"
      ],
      "text/plain": [
       "      node_id     name het_type\n",
       "2   100996420  DNM1P50     Gene\n",
       "5       56136  PCDHA13     Gene\n",
       "8        5518  PPP2R1A     Gene\n",
       "9      128859   BPIFB6     Gene\n",
       "14      23519   ANP32D     Gene"
      ]
     },
     "execution_count": 19,
     "metadata": {},
     "output_type": "execute_result"
    }
   ],
   "source": [
    "genes.head()"
   ]
  },
  {
   "cell_type": "code",
   "execution_count": 20,
   "metadata": {},
   "outputs": [
    {
     "name": "stderr",
     "output_type": "stream",
     "text": [
      "100%|██████████| 5734/5734 [00:06<00:00, 895.86it/s]\n"
     ]
    }
   ],
   "source": [
    "temp = []\n",
    "for node in tqdm(sideeff[\"node_id\"]):\n",
    "    rgenes = genes.sample(4).assign(disease_id = node)\n",
    "    \n",
    "    temp.append(rgenes)\n",
    "    \n",
    "temp = pd.concat(temp)"
   ]
  },
  {
   "cell_type": "code",
   "execution_count": 21,
   "metadata": {},
   "outputs": [
    {
     "data": {
      "text/html": [
       "<div>\n",
       "<style scoped>\n",
       "    .dataframe tbody tr th:only-of-type {\n",
       "        vertical-align: middle;\n",
       "    }\n",
       "\n",
       "    .dataframe tbody tr th {\n",
       "        vertical-align: top;\n",
       "    }\n",
       "\n",
       "    .dataframe thead th {\n",
       "        text-align: right;\n",
       "    }\n",
       "</style>\n",
       "<table border=\"1\" class=\"dataframe\">\n",
       "  <thead>\n",
       "    <tr style=\"text-align: right;\">\n",
       "      <th></th>\n",
       "      <th>node_id</th>\n",
       "      <th>name</th>\n",
       "      <th>het_type</th>\n",
       "      <th>disease_id</th>\n",
       "    </tr>\n",
       "  </thead>\n",
       "  <tbody>\n",
       "    <tr>\n",
       "      <th>25428</th>\n",
       "      <td>81704</td>\n",
       "      <td>DOCK8</td>\n",
       "      <td>Gene</td>\n",
       "      <td>C0278151</td>\n",
       "    </tr>\n",
       "    <tr>\n",
       "      <th>7423</th>\n",
       "      <td>9351</td>\n",
       "      <td>SLC9A3R2</td>\n",
       "      <td>Gene</td>\n",
       "      <td>C0278151</td>\n",
       "    </tr>\n",
       "    <tr>\n",
       "      <th>29190</th>\n",
       "      <td>9189</td>\n",
       "      <td>ZBED1</td>\n",
       "      <td>Gene</td>\n",
       "      <td>C0278151</td>\n",
       "    </tr>\n",
       "    <tr>\n",
       "      <th>35718</th>\n",
       "      <td>90075</td>\n",
       "      <td>ZNF30</td>\n",
       "      <td>Gene</td>\n",
       "      <td>C0278151</td>\n",
       "    </tr>\n",
       "    <tr>\n",
       "      <th>33246</th>\n",
       "      <td>6709</td>\n",
       "      <td>SPTAN1</td>\n",
       "      <td>Gene</td>\n",
       "      <td>C0013928</td>\n",
       "    </tr>\n",
       "  </tbody>\n",
       "</table>\n",
       "</div>"
      ],
      "text/plain": [
       "      node_id      name het_type disease_id\n",
       "25428   81704     DOCK8     Gene   C0278151\n",
       "7423     9351  SLC9A3R2     Gene   C0278151\n",
       "29190    9189     ZBED1     Gene   C0278151\n",
       "35718   90075     ZNF30     Gene   C0278151\n",
       "33246    6709    SPTAN1     Gene   C0013928"
      ]
     },
     "execution_count": 21,
     "metadata": {},
     "output_type": "execute_result"
    }
   ],
   "source": [
    "temp.head()"
   ]
  },
  {
   "cell_type": "code",
   "execution_count": 22,
   "metadata": {},
   "outputs": [],
   "source": [
    "fakes = (temp\n",
    "    .rename(columns={\n",
    "        \"node_id\": \"start_id\",\n",
    "        \"disease_id\": \"end_id\",\n",
    "        \"het_type\": \"start_htype\"\n",
    "    })\n",
    "    .assign(end_htype = \"Side Effect\", het_etype = \"TEST_ABC\")\n",
    "    .reset_index(drop=True)\n",
    "    .drop(\"name\", axis=1)\n",
    ")"
   ]
  },
  {
   "cell_type": "code",
   "execution_count": 23,
   "metadata": {},
   "outputs": [
    {
     "data": {
      "text/html": [
       "<div>\n",
       "<style scoped>\n",
       "    .dataframe tbody tr th:only-of-type {\n",
       "        vertical-align: middle;\n",
       "    }\n",
       "\n",
       "    .dataframe tbody tr th {\n",
       "        vertical-align: top;\n",
       "    }\n",
       "\n",
       "    .dataframe thead th {\n",
       "        text-align: right;\n",
       "    }\n",
       "</style>\n",
       "<table border=\"1\" class=\"dataframe\">\n",
       "  <thead>\n",
       "    <tr style=\"text-align: right;\">\n",
       "      <th></th>\n",
       "      <th>start_id</th>\n",
       "      <th>start_htype</th>\n",
       "      <th>end_id</th>\n",
       "      <th>end_htype</th>\n",
       "      <th>het_etype</th>\n",
       "    </tr>\n",
       "  </thead>\n",
       "  <tbody>\n",
       "    <tr>\n",
       "      <th>0</th>\n",
       "      <td>81704</td>\n",
       "      <td>Gene</td>\n",
       "      <td>C0278151</td>\n",
       "      <td>Side Effect</td>\n",
       "      <td>TEST_ABC</td>\n",
       "    </tr>\n",
       "    <tr>\n",
       "      <th>1</th>\n",
       "      <td>9351</td>\n",
       "      <td>Gene</td>\n",
       "      <td>C0278151</td>\n",
       "      <td>Side Effect</td>\n",
       "      <td>TEST_ABC</td>\n",
       "    </tr>\n",
       "    <tr>\n",
       "      <th>2</th>\n",
       "      <td>9189</td>\n",
       "      <td>Gene</td>\n",
       "      <td>C0278151</td>\n",
       "      <td>Side Effect</td>\n",
       "      <td>TEST_ABC</td>\n",
       "    </tr>\n",
       "    <tr>\n",
       "      <th>3</th>\n",
       "      <td>90075</td>\n",
       "      <td>Gene</td>\n",
       "      <td>C0278151</td>\n",
       "      <td>Side Effect</td>\n",
       "      <td>TEST_ABC</td>\n",
       "    </tr>\n",
       "    <tr>\n",
       "      <th>4</th>\n",
       "      <td>6709</td>\n",
       "      <td>Gene</td>\n",
       "      <td>C0013928</td>\n",
       "      <td>Side Effect</td>\n",
       "      <td>TEST_ABC</td>\n",
       "    </tr>\n",
       "  </tbody>\n",
       "</table>\n",
       "</div>"
      ],
      "text/plain": [
       "  start_id start_htype    end_id    end_htype het_etype\n",
       "0    81704        Gene  C0278151  Side Effect  TEST_ABC\n",
       "1     9351        Gene  C0278151  Side Effect  TEST_ABC\n",
       "2     9189        Gene  C0278151  Side Effect  TEST_ABC\n",
       "3    90075        Gene  C0278151  Side Effect  TEST_ABC\n",
       "4     6709        Gene  C0013928  Side Effect  TEST_ABC"
      ]
     },
     "execution_count": 23,
     "metadata": {},
     "output_type": "execute_result"
    }
   ],
   "source": [
    "fakes.head()"
   ]
  },
  {
   "cell_type": "code",
   "execution_count": 24,
   "metadata": {},
   "outputs": [
    {
     "data": {
      "text/plain": [
       "(22936, 5)"
      ]
     },
     "execution_count": 24,
     "metadata": {},
     "output_type": "execute_result"
    }
   ],
   "source": [
    "fakes.shape"
   ]
  },
  {
   "cell_type": "code",
   "execution_count": 25,
   "metadata": {},
   "outputs": [],
   "source": [
    "fake_network = fakes.append(smol).reset_index(drop=True)"
   ]
  },
  {
   "cell_type": "code",
   "execution_count": 26,
   "metadata": {},
   "outputs": [
    {
     "data": {
      "text/html": [
       "<div>\n",
       "<style scoped>\n",
       "    .dataframe tbody tr th:only-of-type {\n",
       "        vertical-align: middle;\n",
       "    }\n",
       "\n",
       "    .dataframe tbody tr th {\n",
       "        vertical-align: top;\n",
       "    }\n",
       "\n",
       "    .dataframe thead th {\n",
       "        text-align: right;\n",
       "    }\n",
       "</style>\n",
       "<table border=\"1\" class=\"dataframe\">\n",
       "  <thead>\n",
       "    <tr style=\"text-align: right;\">\n",
       "      <th></th>\n",
       "      <th>end_htype</th>\n",
       "      <th>end_id</th>\n",
       "      <th>het_etype</th>\n",
       "      <th>start_htype</th>\n",
       "      <th>start_id</th>\n",
       "    </tr>\n",
       "  </thead>\n",
       "  <tbody>\n",
       "    <tr>\n",
       "      <th>0</th>\n",
       "      <td>Side Effect</td>\n",
       "      <td>C0278151</td>\n",
       "      <td>TEST_ABC</td>\n",
       "      <td>Gene</td>\n",
       "      <td>81704</td>\n",
       "    </tr>\n",
       "    <tr>\n",
       "      <th>1</th>\n",
       "      <td>Side Effect</td>\n",
       "      <td>C0278151</td>\n",
       "      <td>TEST_ABC</td>\n",
       "      <td>Gene</td>\n",
       "      <td>9351</td>\n",
       "    </tr>\n",
       "    <tr>\n",
       "      <th>2</th>\n",
       "      <td>Side Effect</td>\n",
       "      <td>C0278151</td>\n",
       "      <td>TEST_ABC</td>\n",
       "      <td>Gene</td>\n",
       "      <td>9189</td>\n",
       "    </tr>\n",
       "    <tr>\n",
       "      <th>3</th>\n",
       "      <td>Side Effect</td>\n",
       "      <td>C0278151</td>\n",
       "      <td>TEST_ABC</td>\n",
       "      <td>Gene</td>\n",
       "      <td>90075</td>\n",
       "    </tr>\n",
       "    <tr>\n",
       "      <th>4</th>\n",
       "      <td>Side Effect</td>\n",
       "      <td>C0013928</td>\n",
       "      <td>TEST_ABC</td>\n",
       "      <td>Gene</td>\n",
       "      <td>6709</td>\n",
       "    </tr>\n",
       "  </tbody>\n",
       "</table>\n",
       "</div>"
      ],
      "text/plain": [
       "     end_htype    end_id het_etype start_htype start_id\n",
       "0  Side Effect  C0278151  TEST_ABC        Gene    81704\n",
       "1  Side Effect  C0278151  TEST_ABC        Gene     9351\n",
       "2  Side Effect  C0278151  TEST_ABC        Gene     9189\n",
       "3  Side Effect  C0278151  TEST_ABC        Gene    90075\n",
       "4  Side Effect  C0013928  TEST_ABC        Gene     6709"
      ]
     },
     "execution_count": 26,
     "metadata": {},
     "output_type": "execute_result"
    }
   ],
   "source": [
    "fake_network.head()"
   ]
  },
  {
   "cell_type": "code",
   "execution_count": 27,
   "metadata": {},
   "outputs": [
    {
     "data": {
      "text/plain": [
       "(29422, 5)"
      ]
     },
     "execution_count": 27,
     "metadata": {},
     "output_type": "execute_result"
    }
   ],
   "source": [
    "fake_network.shape"
   ]
  },
  {
   "cell_type": "markdown",
   "metadata": {},
   "source": [
    "## Assign deepwalk metadata"
   ]
  },
  {
   "cell_type": "code",
   "execution_count": 28,
   "metadata": {},
   "outputs": [],
   "source": [
    "fhnodes = (hnodes\n",
    "    .reset_index()\n",
    "    .rename(columns={\n",
    "        \"index\": \"node_uid\"\n",
    "    })\n",
    ")"
   ]
  },
  {
   "cell_type": "code",
   "execution_count": 29,
   "metadata": {},
   "outputs": [
    {
     "data": {
      "text/html": [
       "<div>\n",
       "<style scoped>\n",
       "    .dataframe tbody tr th:only-of-type {\n",
       "        vertical-align: middle;\n",
       "    }\n",
       "\n",
       "    .dataframe tbody tr th {\n",
       "        vertical-align: top;\n",
       "    }\n",
       "\n",
       "    .dataframe thead th {\n",
       "        text-align: right;\n",
       "    }\n",
       "</style>\n",
       "<table border=\"1\" class=\"dataframe\">\n",
       "  <thead>\n",
       "    <tr style=\"text-align: right;\">\n",
       "      <th></th>\n",
       "      <th>node_uid</th>\n",
       "      <th>node_id</th>\n",
       "      <th>name</th>\n",
       "      <th>het_type</th>\n",
       "    </tr>\n",
       "  </thead>\n",
       "  <tbody>\n",
       "    <tr>\n",
       "      <th>0</th>\n",
       "      <td>0</td>\n",
       "      <td>DB00795</td>\n",
       "      <td>Sulfasalazine</td>\n",
       "      <td>Compound</td>\n",
       "    </tr>\n",
       "    <tr>\n",
       "      <th>1</th>\n",
       "      <td>1</td>\n",
       "      <td>N0000000151</td>\n",
       "      <td>Histamine H2 Receptor Antagonists</td>\n",
       "      <td>Pharmacologic Class</td>\n",
       "    </tr>\n",
       "    <tr>\n",
       "      <th>2</th>\n",
       "      <td>2</td>\n",
       "      <td>100996420</td>\n",
       "      <td>DNM1P50</td>\n",
       "      <td>Gene</td>\n",
       "    </tr>\n",
       "    <tr>\n",
       "      <th>3</th>\n",
       "      <td>3</td>\n",
       "      <td>DB04898</td>\n",
       "      <td>Ximelagatran</td>\n",
       "      <td>Compound</td>\n",
       "    </tr>\n",
       "    <tr>\n",
       "      <th>4</th>\n",
       "      <td>4</td>\n",
       "      <td>C0278151</td>\n",
       "      <td>Facial spasm</td>\n",
       "      <td>Side Effect</td>\n",
       "    </tr>\n",
       "  </tbody>\n",
       "</table>\n",
       "</div>"
      ],
      "text/plain": [
       "   node_uid      node_id                               name  \\\n",
       "0         0      DB00795                      Sulfasalazine   \n",
       "1         1  N0000000151  Histamine H2 Receptor Antagonists   \n",
       "2         2    100996420                            DNM1P50   \n",
       "3         3      DB04898                       Ximelagatran   \n",
       "4         4     C0278151                       Facial spasm   \n",
       "\n",
       "              het_type  \n",
       "0             Compound  \n",
       "1  Pharmacologic Class  \n",
       "2                 Gene  \n",
       "3             Compound  \n",
       "4          Side Effect  "
      ]
     },
     "execution_count": 29,
     "metadata": {},
     "output_type": "execute_result"
    }
   ],
   "source": [
    "fhnodes.head()"
   ]
  },
  {
   "cell_type": "code",
   "execution_count": 30,
   "metadata": {},
   "outputs": [
    {
     "data": {
      "text/plain": [
       "(47031, 4)"
      ]
     },
     "execution_count": 30,
     "metadata": {},
     "output_type": "execute_result"
    }
   ],
   "source": [
    "fhnodes.shape"
   ]
  },
  {
   "cell_type": "markdown",
   "metadata": {},
   "source": [
    "### Add deepwalk ids to edges"
   ]
  },
  {
   "cell_type": "code",
   "execution_count": 31,
   "metadata": {},
   "outputs": [],
   "source": [
    "fedges = (fake_network\n",
    "    .merge(\n",
    "        fhnodes[[\"node_uid\", \"node_id\"]],\n",
    "        how=\"inner\", left_on=\"start_id\", right_on=\"node_id\"\n",
    "    )\n",
    "    .drop(\"node_id\", axis=1)\n",
    "    .rename(columns={\"node_uid\": \"source_uid\"})\n",
    "\n",
    "    .merge(\n",
    "        fhnodes[[\"node_uid\", \"node_id\"]],\n",
    "        how=\"inner\", left_on=\"end_id\", right_on=\"node_id\"\n",
    "    )\n",
    "    .drop(\"node_id\", axis=1)\n",
    "    .rename(columns={\"node_uid\": \"target_uid\"})\n",
    ")"
   ]
  },
  {
   "cell_type": "code",
   "execution_count": 32,
   "metadata": {},
   "outputs": [
    {
     "data": {
      "text/html": [
       "<div>\n",
       "<style scoped>\n",
       "    .dataframe tbody tr th:only-of-type {\n",
       "        vertical-align: middle;\n",
       "    }\n",
       "\n",
       "    .dataframe tbody tr th {\n",
       "        vertical-align: top;\n",
       "    }\n",
       "\n",
       "    .dataframe thead th {\n",
       "        text-align: right;\n",
       "    }\n",
       "</style>\n",
       "<table border=\"1\" class=\"dataframe\">\n",
       "  <thead>\n",
       "    <tr style=\"text-align: right;\">\n",
       "      <th></th>\n",
       "      <th>end_htype</th>\n",
       "      <th>end_id</th>\n",
       "      <th>het_etype</th>\n",
       "      <th>start_htype</th>\n",
       "      <th>start_id</th>\n",
       "      <th>source_uid</th>\n",
       "      <th>target_uid</th>\n",
       "    </tr>\n",
       "  </thead>\n",
       "  <tbody>\n",
       "    <tr>\n",
       "      <th>0</th>\n",
       "      <td>Side Effect</td>\n",
       "      <td>C0278151</td>\n",
       "      <td>TEST_ABC</td>\n",
       "      <td>Gene</td>\n",
       "      <td>81704</td>\n",
       "      <td>25428</td>\n",
       "      <td>4</td>\n",
       "    </tr>\n",
       "    <tr>\n",
       "      <th>1</th>\n",
       "      <td>Side Effect</td>\n",
       "      <td>C0278151</td>\n",
       "      <td>TEST_ABC</td>\n",
       "      <td>Gene</td>\n",
       "      <td>9351</td>\n",
       "      <td>7423</td>\n",
       "      <td>4</td>\n",
       "    </tr>\n",
       "    <tr>\n",
       "      <th>2</th>\n",
       "      <td>Side Effect</td>\n",
       "      <td>C0278151</td>\n",
       "      <td>TEST_ABC</td>\n",
       "      <td>Gene</td>\n",
       "      <td>9189</td>\n",
       "      <td>29190</td>\n",
       "      <td>4</td>\n",
       "    </tr>\n",
       "    <tr>\n",
       "      <th>3</th>\n",
       "      <td>Side Effect</td>\n",
       "      <td>C0278151</td>\n",
       "      <td>TEST_ABC</td>\n",
       "      <td>Gene</td>\n",
       "      <td>90075</td>\n",
       "      <td>35718</td>\n",
       "      <td>4</td>\n",
       "    </tr>\n",
       "    <tr>\n",
       "      <th>4</th>\n",
       "      <td>Side Effect</td>\n",
       "      <td>C0013295</td>\n",
       "      <td>TEST_ABC</td>\n",
       "      <td>Gene</td>\n",
       "      <td>81704</td>\n",
       "      <td>25428</td>\n",
       "      <td>14835</td>\n",
       "    </tr>\n",
       "  </tbody>\n",
       "</table>\n",
       "</div>"
      ],
      "text/plain": [
       "     end_htype    end_id het_etype start_htype start_id  source_uid  \\\n",
       "0  Side Effect  C0278151  TEST_ABC        Gene    81704       25428   \n",
       "1  Side Effect  C0278151  TEST_ABC        Gene     9351        7423   \n",
       "2  Side Effect  C0278151  TEST_ABC        Gene     9189       29190   \n",
       "3  Side Effect  C0278151  TEST_ABC        Gene    90075       35718   \n",
       "4  Side Effect  C0013295  TEST_ABC        Gene    81704       25428   \n",
       "\n",
       "   target_uid  \n",
       "0           4  \n",
       "1           4  \n",
       "2           4  \n",
       "3           4  \n",
       "4       14835  "
      ]
     },
     "execution_count": 32,
     "metadata": {},
     "output_type": "execute_result"
    }
   ],
   "source": [
    "fedges.head()"
   ]
  },
  {
   "cell_type": "code",
   "execution_count": 33,
   "metadata": {},
   "outputs": [
    {
     "data": {
      "text/plain": [
       "(29422, 7)"
      ]
     },
     "execution_count": 33,
     "metadata": {},
     "output_type": "execute_result"
    }
   ],
   "source": [
    "fedges.shape"
   ]
  },
  {
   "cell_type": "markdown",
   "metadata": {},
   "source": [
    "## Remove gold standard relations from the network"
   ]
  },
  {
   "cell_type": "code",
   "execution_count": 34,
   "metadata": {},
   "outputs": [],
   "source": [
    "gpairs = set(zip(gold[\"chemical_id\"], gold[\"disease_id\"]))"
   ]
  },
  {
   "cell_type": "code",
   "execution_count": 35,
   "metadata": {},
   "outputs": [],
   "source": [
    "epairs = set(zip(fedges[\"start_id\"], fedges[\"end_id\"]))"
   ]
  },
  {
   "cell_type": "code",
   "execution_count": 36,
   "metadata": {},
   "outputs": [],
   "source": [
    "fepairs = epairs - gpairs"
   ]
  },
  {
   "cell_type": "code",
   "execution_count": 37,
   "metadata": {},
   "outputs": [
    {
     "data": {
      "text/plain": [
       "0"
      ]
     },
     "execution_count": 37,
     "metadata": {},
     "output_type": "execute_result"
    }
   ],
   "source": [
    "len(epairs) - len(fepairs)"
   ]
  },
  {
   "cell_type": "markdown",
   "metadata": {},
   "source": [
    "---"
   ]
  },
  {
   "cell_type": "code",
   "execution_count": 38,
   "metadata": {},
   "outputs": [],
   "source": [
    "fedges = (pd\n",
    "    .DataFrame(list(fepairs), columns=[\"start_id\", \"end_id\"])\n",
    "    .merge(fedges, how=\"left\", on=[\"start_id\", \"end_id\"])\n",
    ")"
   ]
  },
  {
   "cell_type": "code",
   "execution_count": 39,
   "metadata": {},
   "outputs": [
    {
     "data": {
      "text/html": [
       "<div>\n",
       "<style scoped>\n",
       "    .dataframe tbody tr th:only-of-type {\n",
       "        vertical-align: middle;\n",
       "    }\n",
       "\n",
       "    .dataframe tbody tr th {\n",
       "        vertical-align: top;\n",
       "    }\n",
       "\n",
       "    .dataframe thead th {\n",
       "        text-align: right;\n",
       "    }\n",
       "</style>\n",
       "<table border=\"1\" class=\"dataframe\">\n",
       "  <thead>\n",
       "    <tr style=\"text-align: right;\">\n",
       "      <th></th>\n",
       "      <th>start_id</th>\n",
       "      <th>end_id</th>\n",
       "      <th>end_htype</th>\n",
       "      <th>het_etype</th>\n",
       "      <th>start_htype</th>\n",
       "      <th>source_uid</th>\n",
       "      <th>target_uid</th>\n",
       "    </tr>\n",
       "  </thead>\n",
       "  <tbody>\n",
       "    <tr>\n",
       "      <th>0</th>\n",
       "      <td>28974</td>\n",
       "      <td>C0030587</td>\n",
       "      <td>Side Effect</td>\n",
       "      <td>TEST_ABC</td>\n",
       "      <td>Gene</td>\n",
       "      <td>41965</td>\n",
       "      <td>14438</td>\n",
       "    </tr>\n",
       "    <tr>\n",
       "      <th>1</th>\n",
       "      <td>DB01419</td>\n",
       "      <td>DB08984</td>\n",
       "      <td>Compound</td>\n",
       "      <td>RESEMBLES_CrC</td>\n",
       "      <td>Compound</td>\n",
       "      <td>5596</td>\n",
       "      <td>27850</td>\n",
       "    </tr>\n",
       "    <tr>\n",
       "      <th>2</th>\n",
       "      <td>386685</td>\n",
       "      <td>C0020626</td>\n",
       "      <td>Side Effect</td>\n",
       "      <td>TEST_ABC</td>\n",
       "      <td>Gene</td>\n",
       "      <td>44422</td>\n",
       "      <td>22841</td>\n",
       "    </tr>\n",
       "    <tr>\n",
       "      <th>3</th>\n",
       "      <td>442425</td>\n",
       "      <td>C0149741</td>\n",
       "      <td>Side Effect</td>\n",
       "      <td>TEST_ABC</td>\n",
       "      <td>Gene</td>\n",
       "      <td>12056</td>\n",
       "      <td>18504</td>\n",
       "    </tr>\n",
       "    <tr>\n",
       "      <th>4</th>\n",
       "      <td>DB08994</td>\n",
       "      <td>DB01616</td>\n",
       "      <td>Compound</td>\n",
       "      <td>RESEMBLES_CrC</td>\n",
       "      <td>Compound</td>\n",
       "      <td>32520</td>\n",
       "      <td>17755</td>\n",
       "    </tr>\n",
       "  </tbody>\n",
       "</table>\n",
       "</div>"
      ],
      "text/plain": [
       "  start_id    end_id    end_htype      het_etype start_htype  source_uid  \\\n",
       "0    28974  C0030587  Side Effect       TEST_ABC        Gene       41965   \n",
       "1  DB01419   DB08984     Compound  RESEMBLES_CrC    Compound        5596   \n",
       "2   386685  C0020626  Side Effect       TEST_ABC        Gene       44422   \n",
       "3   442425  C0149741  Side Effect       TEST_ABC        Gene       12056   \n",
       "4  DB08994   DB01616     Compound  RESEMBLES_CrC    Compound       32520   \n",
       "\n",
       "   target_uid  \n",
       "0       14438  \n",
       "1       27850  \n",
       "2       22841  \n",
       "3       18504  \n",
       "4       17755  "
      ]
     },
     "execution_count": 39,
     "metadata": {},
     "output_type": "execute_result"
    }
   ],
   "source": [
    "fedges.head()"
   ]
  },
  {
   "cell_type": "code",
   "execution_count": 40,
   "metadata": {},
   "outputs": [
    {
     "data": {
      "text/plain": [
       "(29422, 7)"
      ]
     },
     "execution_count": 40,
     "metadata": {},
     "output_type": "execute_result"
    }
   ],
   "source": [
    "fedges.shape"
   ]
  },
  {
   "cell_type": "code",
   "execution_count": 41,
   "metadata": {},
   "outputs": [
    {
     "data": {
      "text/plain": [
       "Gene        22936\n",
       "Compound     6486\n",
       "Name: start_htype, dtype: int64"
      ]
     },
     "execution_count": 41,
     "metadata": {},
     "output_type": "execute_result"
    }
   ],
   "source": [
    "fedges[\"start_htype\"].value_counts()"
   ]
  },
  {
   "cell_type": "code",
   "execution_count": 42,
   "metadata": {},
   "outputs": [
    {
     "data": {
      "text/plain": [
       "Side Effect    22936\n",
       "Compound        6486\n",
       "Name: end_htype, dtype: int64"
      ]
     },
     "execution_count": 42,
     "metadata": {},
     "output_type": "execute_result"
    }
   ],
   "source": [
    "fedges[\"end_htype\"].value_counts()"
   ]
  },
  {
   "cell_type": "code",
   "execution_count": 43,
   "metadata": {},
   "outputs": [
    {
     "data": {
      "text/plain": [
       "14978"
      ]
     },
     "execution_count": 43,
     "metadata": {},
     "output_type": "execute_result"
    }
   ],
   "source": [
    "fedges[\"source_uid\"].nunique()"
   ]
  },
  {
   "cell_type": "code",
   "execution_count": 44,
   "metadata": {},
   "outputs": [
    {
     "data": {
      "text/plain": [
       "6788"
      ]
     },
     "execution_count": 44,
     "metadata": {},
     "output_type": "execute_result"
    }
   ],
   "source": [
    "fedges[\"target_uid\"].nunique()"
   ]
  },
  {
   "cell_type": "code",
   "execution_count": 45,
   "metadata": {},
   "outputs": [
    {
     "data": {
      "text/html": [
       "<div>\n",
       "<style scoped>\n",
       "    .dataframe tbody tr th:only-of-type {\n",
       "        vertical-align: middle;\n",
       "    }\n",
       "\n",
       "    .dataframe tbody tr th {\n",
       "        vertical-align: top;\n",
       "    }\n",
       "\n",
       "    .dataframe thead th {\n",
       "        text-align: right;\n",
       "    }\n",
       "</style>\n",
       "<table border=\"1\" class=\"dataframe\">\n",
       "  <thead>\n",
       "    <tr style=\"text-align: right;\">\n",
       "      <th></th>\n",
       "      <th>start_id</th>\n",
       "      <th>end_id</th>\n",
       "      <th>end_htype</th>\n",
       "      <th>het_etype</th>\n",
       "      <th>start_htype</th>\n",
       "      <th>source_uid</th>\n",
       "      <th>target_uid</th>\n",
       "    </tr>\n",
       "  </thead>\n",
       "  <tbody>\n",
       "    <tr>\n",
       "      <th>0</th>\n",
       "      <td>28974</td>\n",
       "      <td>C0030587</td>\n",
       "      <td>Side Effect</td>\n",
       "      <td>TEST_ABC</td>\n",
       "      <td>Gene</td>\n",
       "      <td>41965</td>\n",
       "      <td>14438</td>\n",
       "    </tr>\n",
       "    <tr>\n",
       "      <th>1</th>\n",
       "      <td>DB01419</td>\n",
       "      <td>DB08984</td>\n",
       "      <td>Compound</td>\n",
       "      <td>RESEMBLES_CrC</td>\n",
       "      <td>Compound</td>\n",
       "      <td>5596</td>\n",
       "      <td>27850</td>\n",
       "    </tr>\n",
       "    <tr>\n",
       "      <th>2</th>\n",
       "      <td>386685</td>\n",
       "      <td>C0020626</td>\n",
       "      <td>Side Effect</td>\n",
       "      <td>TEST_ABC</td>\n",
       "      <td>Gene</td>\n",
       "      <td>44422</td>\n",
       "      <td>22841</td>\n",
       "    </tr>\n",
       "    <tr>\n",
       "      <th>3</th>\n",
       "      <td>442425</td>\n",
       "      <td>C0149741</td>\n",
       "      <td>Side Effect</td>\n",
       "      <td>TEST_ABC</td>\n",
       "      <td>Gene</td>\n",
       "      <td>12056</td>\n",
       "      <td>18504</td>\n",
       "    </tr>\n",
       "    <tr>\n",
       "      <th>4</th>\n",
       "      <td>DB08994</td>\n",
       "      <td>DB01616</td>\n",
       "      <td>Compound</td>\n",
       "      <td>RESEMBLES_CrC</td>\n",
       "      <td>Compound</td>\n",
       "      <td>32520</td>\n",
       "      <td>17755</td>\n",
       "    </tr>\n",
       "  </tbody>\n",
       "</table>\n",
       "</div>"
      ],
      "text/plain": [
       "  start_id    end_id    end_htype      het_etype start_htype  source_uid  \\\n",
       "0    28974  C0030587  Side Effect       TEST_ABC        Gene       41965   \n",
       "1  DB01419   DB08984     Compound  RESEMBLES_CrC    Compound        5596   \n",
       "2   386685  C0020626  Side Effect       TEST_ABC        Gene       44422   \n",
       "3   442425  C0149741  Side Effect       TEST_ABC        Gene       12056   \n",
       "4  DB08994   DB01616     Compound  RESEMBLES_CrC    Compound       32520   \n",
       "\n",
       "   target_uid  \n",
       "0       14438  \n",
       "1       27850  \n",
       "2       22841  \n",
       "3       18504  \n",
       "4       17755  "
      ]
     },
     "execution_count": 45,
     "metadata": {},
     "output_type": "execute_result"
    }
   ],
   "source": [
    "fedges.head()"
   ]
  },
  {
   "cell_type": "markdown",
   "metadata": {},
   "source": [
    "---"
   ]
  },
  {
   "cell_type": "markdown",
   "metadata": {},
   "source": [
    "## Subsample edges\n",
    "\n",
    "This new version allows removal of gold standard nodes if the edge was the only thing linking the node into the network."
   ]
  },
  {
   "cell_type": "code",
   "execution_count": 46,
   "metadata": {},
   "outputs": [],
   "source": [
    "fhnodes.to_csv(\"tmp/hetionet_nodes.tsv\", sep='\\t', index=False)"
   ]
  },
  {
   "cell_type": "code",
   "execution_count": 47,
   "metadata": {},
   "outputs": [],
   "source": [
    "gold.to_csv(\"tmp/hetionet_gold.tsv\", sep='\\t', index=False)"
   ]
  },
  {
   "cell_type": "markdown",
   "metadata": {},
   "source": [
    "---"
   ]
  },
  {
   "cell_type": "markdown",
   "metadata": {},
   "source": [
    "## Remove compound/gene and compound/side effect edges"
   ]
  },
  {
   "cell_type": "code",
   "execution_count": 48,
   "metadata": {},
   "outputs": [],
   "source": [
    "fedges.to_csv(\"tmp/edges/fake_network.tsv\", sep='\\t', index=False)"
   ]
  },
  {
   "cell_type": "code",
   "execution_count": null,
   "metadata": {},
   "outputs": [],
   "source": []
  }
 ],
 "metadata": {
  "kernelspec": {
   "display_name": "Python 3",
   "language": "python",
   "name": "python3"
  },
  "language_info": {
   "codemirror_mode": {
    "name": "ipython",
    "version": 3
   },
   "file_extension": ".py",
   "mimetype": "text/x-python",
   "name": "python",
   "nbconvert_exporter": "python",
   "pygments_lexer": "ipython3",
   "version": "3.5.2"
  }
 },
 "nbformat": 4,
 "nbformat_minor": 2
}
