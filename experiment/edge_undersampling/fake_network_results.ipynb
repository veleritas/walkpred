{
 "cells": [
  {
   "cell_type": "markdown",
   "metadata": {},
   "source": [
    "# Deepwalk performance debugging: absolute minimal hetionet\n",
    "\n",
    "We created a completely fake network with randomly generated edges to test our framework. We also prevented the gold standard edges from being included into the network. This will hopefully give us a lower ROC score that we expect."
   ]
  },
  {
   "cell_type": "code",
   "execution_count": 1,
   "metadata": {},
   "outputs": [],
   "source": [
    "import pandas as pd\n",
    "import numpy as np\n",
    "\n",
    "from tqdm import tqdm\n",
    "\n",
    "from scipy import interp\n",
    "import matplotlib.pyplot as plt\n",
    "from sklearn.metrics import roc_curve, auc\n",
    "from sklearn.metrics import precision_recall_curve\n",
    "\n",
    "from sklearn.linear_model import LogisticRegression\n",
    "\n",
    "from itertools import chain\n",
    "\n",
    "from glob import glob\n",
    "import os\n",
    "import seaborn as sns"
   ]
  },
  {
   "cell_type": "code",
   "execution_count": 2,
   "metadata": {},
   "outputs": [],
   "source": [
    "%matplotlib inline"
   ]
  },
  {
   "cell_type": "markdown",
   "metadata": {},
   "source": [
    "---"
   ]
  },
  {
   "cell_type": "markdown",
   "metadata": {},
   "source": [
    "if no embedding for training data\n"
   ]
  },
  {
   "cell_type": "code",
   "execution_count": 3,
   "metadata": {},
   "outputs": [],
   "source": [
    "def add_features(df, features, mergetype):\n",
    "    return (df\n",
    "        .merge(\n",
    "            features, how=mergetype, left_on=\"chemical_uid\", right_on=\"uid\"\n",
    "        )\n",
    "        .drop(\"uid\", axis=1)\n",
    "        .merge(\n",
    "            features, how=mergetype, left_on=\"disease_uid\", right_on=\"uid\"\n",
    "        )\n",
    "        .drop(\"uid\", axis=1)\n",
    "    )\n",
    "\n",
    "def convolv_features(df, features, vecsize, mergetype):\n",
    "    reg = add_features(df, features, mergetype)\n",
    "    \n",
    "    # do multiply and get rid of old features\n",
    "    for i in range(vecsize):\n",
    "        reg[\"conv{}\".format(i)] = reg[\"f{}_x\".format(i)] * reg[\"f{}_y\".format(i)]\n",
    "\n",
    "    reg = (reg\n",
    "        .drop(\n",
    "            [\"f{}_x\".format(i) for i in range(vecsize)], axis=1\n",
    "        )\n",
    "        .drop(\n",
    "            [\"f{}_y\".format(i) for i in range(vecsize)], axis=1\n",
    "        )\n",
    "    )\n",
    "        \n",
    "    return reg"
   ]
  },
  {
   "cell_type": "markdown",
   "metadata": {},
   "source": [
    "there are nodes in the holdout dataset that did not have any embeddings generated for it. check to see if they had proper adjlists made"
   ]
  },
  {
   "cell_type": "code",
   "execution_count": 4,
   "metadata": {},
   "outputs": [],
   "source": [
    "def eval_performance(fbase, K, vecsize):\n",
    "    for idx in range(K):\n",
    "        train = pd.read_csv(\n",
    "            \"tmp/data/train/{}_train_{}.tsv\".format(fbase, idx),\n",
    "            sep='\\t'\n",
    "        )\n",
    "        \n",
    "        holdout = pd.read_csv(\n",
    "            \"tmp/data/holdout/{}_holdout_{}.tsv\".format(fbase, idx),\n",
    "            sep='\\t'\n",
    "        )\n",
    "\n",
    "        features = pd.read_csv(\n",
    "            \"tmp/data/embeddings/{}_embedding_{}.txt\".format(fbase, idx),\n",
    "            sep=\" \", skiprows=1,\n",
    "            names=[\"uid\"] + [\"f{}\".format(i) for i in range(vecsize)]\n",
    "        )\n",
    "        \n",
    "\n",
    "        tmp = convolv_features(train, features, vecsize, \"inner\")\n",
    "        \n",
    "        print(tmp.shape)\n",
    "#         print(tmp[\"etype\"].value_counts())\n",
    "\n",
    "        feat_cols = [\"conv{}\".format(j) for j in range(vecsize)]\n",
    "        regmodel = LogisticRegression(C=1e9).fit(tmp[feat_cols], tmp[\"etype\"])\n",
    "\n",
    "        # test on holdout\n",
    "        test = convolv_features(\n",
    "            holdout.drop(\"etype\", axis=1),\n",
    "            features, vecsize, \"left\"\n",
    "        )\n",
    "        \n",
    "        assert len(test) == len(holdout)\n",
    "        \n",
    "        # if there are empty ones in the features column,\n",
    "        # then we didn't generate any embeddings, and therefore\n",
    "        # need to split those up and treat as zeroes\n",
    "        # for the others we can predict normally, then join together\n",
    "        \n",
    "        regular = test[test[\"conv0\"].notnull()].assign(missed = False)\n",
    "        \n",
    "        missed = (test[test[\"conv0\"].isnull()]\n",
    "            .assign(\n",
    "                predval = 0\n",
    "            )\n",
    "            .assign(missed = True)\n",
    "        )\n",
    "  \n",
    "        print(regular.shape)\n",
    "        print(missed.shape)\n",
    "                \n",
    "        # add in predictions\n",
    "        ans = regular.assign(\n",
    "            predval = lambda df: regmodel.predict_proba(df[feat_cols])[:, 1]\n",
    "        )\n",
    "        \n",
    "        ans = ans.append(missed)\n",
    "        \n",
    "        assert len(ans) == len(holdout)\n",
    "        \n",
    "        yield (ans\n",
    "            [[\"chemical_uid\", \"disease_uid\", \"predval\", \"missed\"]]\n",
    "            .merge(\n",
    "                holdout[[\"chemical_uid\", \"disease_uid\", \"etype\"]],\n",
    "                how=\"inner\", on=[\"chemical_uid\", \"disease_uid\"]\n",
    "            )\n",
    "            .sort_values(\"predval\", ascending=False)\n",
    "            .reset_index(drop=True)\n",
    "        )"
   ]
  },
  {
   "cell_type": "code",
   "execution_count": 5,
   "metadata": {},
   "outputs": [],
   "source": [
    "def finished(fbase, K):\n",
    "    for i in range(K):\n",
    "        ename = \"tmp/data/embeddings/{}_embedding_{}.txt\".format(fbase, i)\n",
    "        \n",
    "        if not os.path.isfile(ename):\n",
    "            return False\n",
    "\n",
    "    return True"
   ]
  },
  {
   "cell_type": "markdown",
   "metadata": {},
   "source": [
    "need to check that we have the expected embeddings for the concepts"
   ]
  },
  {
   "cell_type": "code",
   "execution_count": 16,
   "metadata": {},
   "outputs": [
    {
     "name": "stderr",
     "output_type": "stream",
     "text": [
      "\r",
      "  0%|          | 0/1 [00:00<?, ?it/s]"
     ]
    },
    {
     "name": "stdout",
     "output_type": "stream",
     "text": [
      "(9548, 21)\n",
      "(78002, 21)\n",
      "(16012, 22)\n",
      "(9540, 21)\n",
      "(74153, 21)\n",
      "(18475, 22)\n",
      "(9331, 21)\n",
      "(78288, 21)\n",
      "(13793, 22)\n",
      "(9604, 21)\n",
      "(69174, 21)\n",
      "(15786, 22)\n"
     ]
    },
    {
     "name": "stderr",
     "output_type": "stream",
     "text": [
      "100%|██████████| 1/1 [00:01<00:00,  1.46s/it]\n"
     ]
    }
   ],
   "source": [
    "vecsize = 16\n",
    "\n",
    "stuff = []\n",
    "\n",
    "missed = []\n",
    "for edge_fname in tqdm(glob(\"tmp/edges/fake*.tsv\")):\n",
    "    fbase = edge_fname.split(\"/\")[2][:-4]\n",
    "    \n",
    "    K = 4\n",
    "    \n",
    "    # check if all K embeddings are done\n",
    "    if finished(fbase, K):\n",
    "        aucs = []\n",
    "        for res in eval_performance(fbase, K, vecsize):\n",
    "            \n",
    "            stuff.append(res)\n",
    "            \n",
    "#             precision, recall, thresh = precision_recall_curve(res[\"etype\"], res[\"predval\"])\n",
    "#             auc_val = auc(recall, precision)\n",
    "            \n",
    "            fpr, tpr, thresh = roc_curve(res[\"etype\"], res[\"predval\"])\n",
    "            auc_val = auc(fpr, tpr)\n",
    "\n",
    "            aucs.append(auc_val)\n",
    "            \n",
    "            missed.append((res[\"missed\"].sum(), len(res), len(res.query(\"missed and etype == 1\"))))\n",
    "\n",
    "        temp = (pd\n",
    "            .Series(aucs)\n",
    "            .to_frame(\"auc_roc\")\n",
    "            .assign(edge_val = fbase)\n",
    "        )\n",
    "        \n",
    "        temp.to_csv(\n",
    "            \"tmp/results/{}.tsv\".format(fbase), sep='\\t', index=False\n",
    "        )"
   ]
  },
  {
   "cell_type": "markdown",
   "metadata": {},
   "source": [
    "---"
   ]
  },
  {
   "cell_type": "code",
   "execution_count": 7,
   "metadata": {},
   "outputs": [],
   "source": [
    "mdata = pd.DataFrame(missed, columns=[\"num_missed\", \"total\", \"missed_and_true\"])"
   ]
  },
  {
   "cell_type": "code",
   "execution_count": 8,
   "metadata": {},
   "outputs": [
    {
     "data": {
      "text/plain": [
       "(4, 3)"
      ]
     },
     "execution_count": 8,
     "metadata": {},
     "output_type": "execute_result"
    }
   ],
   "source": [
    "mdata.shape"
   ]
  },
  {
   "cell_type": "code",
   "execution_count": 9,
   "metadata": {},
   "outputs": [
    {
     "data": {
      "text/html": [
       "<div>\n",
       "<style scoped>\n",
       "    .dataframe tbody tr th:only-of-type {\n",
       "        vertical-align: middle;\n",
       "    }\n",
       "\n",
       "    .dataframe tbody tr th {\n",
       "        vertical-align: top;\n",
       "    }\n",
       "\n",
       "    .dataframe thead th {\n",
       "        text-align: right;\n",
       "    }\n",
       "</style>\n",
       "<table border=\"1\" class=\"dataframe\">\n",
       "  <thead>\n",
       "    <tr style=\"text-align: right;\">\n",
       "      <th></th>\n",
       "      <th>num_missed</th>\n",
       "      <th>total</th>\n",
       "      <th>missed_and_true</th>\n",
       "    </tr>\n",
       "  </thead>\n",
       "  <tbody>\n",
       "    <tr>\n",
       "      <th>0</th>\n",
       "      <td>16012</td>\n",
       "      <td>94014</td>\n",
       "      <td>83</td>\n",
       "    </tr>\n",
       "    <tr>\n",
       "      <th>1</th>\n",
       "      <td>18475</td>\n",
       "      <td>92628</td>\n",
       "      <td>79</td>\n",
       "    </tr>\n",
       "    <tr>\n",
       "      <th>2</th>\n",
       "      <td>13793</td>\n",
       "      <td>92081</td>\n",
       "      <td>65</td>\n",
       "    </tr>\n",
       "    <tr>\n",
       "      <th>3</th>\n",
       "      <td>15786</td>\n",
       "      <td>84960</td>\n",
       "      <td>91</td>\n",
       "    </tr>\n",
       "  </tbody>\n",
       "</table>\n",
       "</div>"
      ],
      "text/plain": [
       "   num_missed  total  missed_and_true\n",
       "0       16012  94014               83\n",
       "1       18475  92628               79\n",
       "2       13793  92081               65\n",
       "3       15786  84960               91"
      ]
     },
     "execution_count": 9,
     "metadata": {},
     "output_type": "execute_result"
    }
   ],
   "source": [
    "mdata"
   ]
  },
  {
   "cell_type": "code",
   "execution_count": 10,
   "metadata": {},
   "outputs": [
    {
     "data": {
      "text/plain": [
       "<matplotlib.axes._subplots.AxesSubplot at 0x7f63c8e1ecc0>"
      ]
     },
     "execution_count": 10,
     "metadata": {},
     "output_type": "execute_result"
    },
    {
     "data": {
      "image/png": "[encoded data removed]",
      "text/plain": [
       "<matplotlib.figure.Figure at 0x7f63c8e1e1d0>"
      ]
     },
     "metadata": {},
     "output_type": "display_data"
    }
   ],
   "source": [
    "sns.boxplot(mdata[\"missed_and_true\"])"
   ]
  },
  {
   "cell_type": "markdown",
   "metadata": {},
   "source": [
    "seems to have been no difference in performance between the version where some of the gold standard is in the network vs gold standard relations are removed from the network"
   ]
  },
  {
   "cell_type": "markdown",
   "metadata": {},
   "source": [
    "---"
   ]
  },
  {
   "cell_type": "code",
   "execution_count": 17,
   "metadata": {},
   "outputs": [],
   "source": [
    "res = [\n",
    "    pd.read_csv(fname, sep='\\t')\n",
    "    for fname in glob(\"tmp/results/fake*.tsv\")\n",
    "]\n",
    "\n",
    "res = pd.concat(res)"
   ]
  },
  {
   "cell_type": "code",
   "execution_count": 18,
   "metadata": {},
   "outputs": [
    {
     "data": {
      "text/plain": [
       "(4, 2)"
      ]
     },
     "execution_count": 18,
     "metadata": {},
     "output_type": "execute_result"
    }
   ],
   "source": [
    "res.shape"
   ]
  },
  {
   "cell_type": "code",
   "execution_count": 19,
   "metadata": {},
   "outputs": [
    {
     "data": {
      "text/html": [
       "<div>\n",
       "<style scoped>\n",
       "    .dataframe tbody tr th:only-of-type {\n",
       "        vertical-align: middle;\n",
       "    }\n",
       "\n",
       "    .dataframe tbody tr th {\n",
       "        vertical-align: top;\n",
       "    }\n",
       "\n",
       "    .dataframe thead th {\n",
       "        text-align: right;\n",
       "    }\n",
       "</style>\n",
       "<table border=\"1\" class=\"dataframe\">\n",
       "  <thead>\n",
       "    <tr style=\"text-align: right;\">\n",
       "      <th></th>\n",
       "      <th>auc_roc</th>\n",
       "      <th>edge_val</th>\n",
       "    </tr>\n",
       "  </thead>\n",
       "  <tbody>\n",
       "    <tr>\n",
       "      <th>0</th>\n",
       "      <td>0.533702</td>\n",
       "      <td>fake_network</td>\n",
       "    </tr>\n",
       "    <tr>\n",
       "      <th>1</th>\n",
       "      <td>0.582136</td>\n",
       "      <td>fake_network</td>\n",
       "    </tr>\n",
       "    <tr>\n",
       "      <th>2</th>\n",
       "      <td>0.551383</td>\n",
       "      <td>fake_network</td>\n",
       "    </tr>\n",
       "    <tr>\n",
       "      <th>3</th>\n",
       "      <td>0.543494</td>\n",
       "      <td>fake_network</td>\n",
       "    </tr>\n",
       "  </tbody>\n",
       "</table>\n",
       "</div>"
      ],
      "text/plain": [
       "    auc_roc      edge_val\n",
       "0  0.533702  fake_network\n",
       "1  0.582136  fake_network\n",
       "2  0.551383  fake_network\n",
       "3  0.543494  fake_network"
      ]
     },
     "execution_count": 19,
     "metadata": {},
     "output_type": "execute_result"
    }
   ],
   "source": [
    "res # 16 features"
   ]
  },
  {
   "cell_type": "code",
   "execution_count": null,
   "metadata": {},
   "outputs": [],
   "source": []
  },
  {
   "cell_type": "code",
   "execution_count": null,
   "metadata": {},
   "outputs": [],
   "source": []
  },
  {
   "cell_type": "code",
   "execution_count": 15,
   "metadata": {},
   "outputs": [
    {
     "data": {
      "text/html": [
       "<div>\n",
       "<style scoped>\n",
       "    .dataframe tbody tr th:only-of-type {\n",
       "        vertical-align: middle;\n",
       "    }\n",
       "\n",
       "    .dataframe tbody tr th {\n",
       "        vertical-align: top;\n",
       "    }\n",
       "\n",
       "    .dataframe thead th {\n",
       "        text-align: right;\n",
       "    }\n",
       "</style>\n",
       "<table border=\"1\" class=\"dataframe\">\n",
       "  <thead>\n",
       "    <tr style=\"text-align: right;\">\n",
       "      <th></th>\n",
       "      <th>auc_roc</th>\n",
       "      <th>edge_val</th>\n",
       "    </tr>\n",
       "  </thead>\n",
       "  <tbody>\n",
       "    <tr>\n",
       "      <th>0</th>\n",
       "      <td>0.617928</td>\n",
       "      <td>fake_network</td>\n",
       "    </tr>\n",
       "    <tr>\n",
       "      <th>1</th>\n",
       "      <td>0.630181</td>\n",
       "      <td>fake_network</td>\n",
       "    </tr>\n",
       "    <tr>\n",
       "      <th>2</th>\n",
       "      <td>0.597326</td>\n",
       "      <td>fake_network</td>\n",
       "    </tr>\n",
       "    <tr>\n",
       "      <th>3</th>\n",
       "      <td>0.606832</td>\n",
       "      <td>fake_network</td>\n",
       "    </tr>\n",
       "  </tbody>\n",
       "</table>\n",
       "</div>"
      ],
      "text/plain": [
       "    auc_roc      edge_val\n",
       "0  0.617928  fake_network\n",
       "1  0.630181  fake_network\n",
       "2  0.597326  fake_network\n",
       "3  0.606832  fake_network"
      ]
     },
     "execution_count": 15,
     "metadata": {},
     "output_type": "execute_result"
    }
   ],
   "source": [
    "res # 128 features"
   ]
  },
  {
   "cell_type": "code",
   "execution_count": 14,
   "metadata": {},
   "outputs": [
    {
     "data": {
      "text/plain": [
       "0.61306675508910258"
      ]
     },
     "execution_count": 14,
     "metadata": {},
     "output_type": "execute_result"
    }
   ],
   "source": [
    "res[\"auc_roc\"].mean()"
   ]
  },
  {
   "cell_type": "markdown",
   "metadata": {},
   "source": [
    "averaged over 4 runs, we are still getting higher roc values for our complete random network when there are too many features. too many features allows us to overfit even on random noise"
   ]
  },
  {
   "cell_type": "code",
   "execution_count": null,
   "metadata": {},
   "outputs": [],
   "source": []
  },
  {
   "cell_type": "code",
   "execution_count": null,
   "metadata": {},
   "outputs": [],
   "source": []
  },
  {
   "cell_type": "code",
   "execution_count": null,
   "metadata": {},
   "outputs": [],
   "source": []
  },
  {
   "cell_type": "code",
   "execution_count": 28,
   "metadata": {},
   "outputs": [
    {
     "data": {
      "text/html": [
       "<div>\n",
       "<style scoped>\n",
       "    .dataframe tbody tr th:only-of-type {\n",
       "        vertical-align: middle;\n",
       "    }\n",
       "\n",
       "    .dataframe tbody tr th {\n",
       "        vertical-align: top;\n",
       "    }\n",
       "\n",
       "    .dataframe thead th {\n",
       "        text-align: right;\n",
       "    }\n",
       "</style>\n",
       "<table border=\"1\" class=\"dataframe\">\n",
       "  <thead>\n",
       "    <tr style=\"text-align: right;\">\n",
       "      <th></th>\n",
       "      <th>auc_roc</th>\n",
       "      <th>edge_val</th>\n",
       "    </tr>\n",
       "  </thead>\n",
       "  <tbody>\n",
       "    <tr>\n",
       "      <th>0</th>\n",
       "      <td>0.611504</td>\n",
       "      <td>fake_network</td>\n",
       "    </tr>\n",
       "  </tbody>\n",
       "</table>\n",
       "</div>"
      ],
      "text/plain": [
       "    auc_roc      edge_val\n",
       "0  0.611504  fake_network"
      ]
     },
     "execution_count": 28,
     "metadata": {},
     "output_type": "execute_result"
    }
   ],
   "source": [
    "res # 128 features"
   ]
  },
  {
   "cell_type": "markdown",
   "metadata": {},
   "source": [
    "moving up to 128 features when we only have a total of 500 trues in the holdout seems to be able to skew our roc scores to something that isn't as close to 0.5. this may be a property of the random walk, which we will need to redo to see if it's true\n",
    "\n",
    "conclusion is: we need to not be including the gold standard edges directly in the network\n",
    "\n",
    "we need to make sure we can generate embeddings for at least some of the chemical-disease pairs which show up in the training data (otherwise our regression fails with no data)"
   ]
  },
  {
   "cell_type": "code",
   "execution_count": 19,
   "metadata": {},
   "outputs": [
    {
     "data": {
      "text/html": [
       "<div>\n",
       "<style scoped>\n",
       "    .dataframe tbody tr th:only-of-type {\n",
       "        vertical-align: middle;\n",
       "    }\n",
       "\n",
       "    .dataframe tbody tr th {\n",
       "        vertical-align: top;\n",
       "    }\n",
       "\n",
       "    .dataframe thead th {\n",
       "        text-align: right;\n",
       "    }\n",
       "</style>\n",
       "<table border=\"1\" class=\"dataframe\">\n",
       "  <thead>\n",
       "    <tr style=\"text-align: right;\">\n",
       "      <th></th>\n",
       "      <th>auc_roc</th>\n",
       "      <th>edge_val</th>\n",
       "    </tr>\n",
       "  </thead>\n",
       "  <tbody>\n",
       "    <tr>\n",
       "      <th>0</th>\n",
       "      <td>0.547325</td>\n",
       "      <td>fake_network</td>\n",
       "    </tr>\n",
       "  </tbody>\n",
       "</table>\n",
       "</div>"
      ],
      "text/plain": [
       "    auc_roc      edge_val\n",
       "0  0.547325  fake_network"
      ]
     },
     "execution_count": 19,
     "metadata": {},
     "output_type": "execute_result"
    }
   ],
   "source": [
    "res # 16 features"
   ]
  },
  {
   "cell_type": "markdown",
   "metadata": {},
   "source": [
    "roc results with 16 features and the normal (more negatives than positives) gold standard gives 0.54 roc which is much closer than we expect. this is looking good. the real problem seems to be the fact that we are including the gold standard edges in the network, which is throwing off the results. so we need to make sure that the side effects are somehow included without linking them to the compounds directly?"
   ]
  },
  {
   "cell_type": "code",
   "execution_count": null,
   "metadata": {},
   "outputs": [],
   "source": []
  }
 ],
 "metadata": {
  "kernelspec": {
   "display_name": "Python 3",
   "language": "python",
   "name": "python3"
  },
  "language_info": {
   "codemirror_mode": {
    "name": "ipython",
    "version": 3
   },
   "file_extension": ".py",
   "mimetype": "text/x-python",
   "name": "python",
   "nbconvert_exporter": "python",
   "pygments_lexer": "ipython3",
   "version": "3.5.2"
  }
 },
 "nbformat": 4,
 "nbformat_minor": 2
}
