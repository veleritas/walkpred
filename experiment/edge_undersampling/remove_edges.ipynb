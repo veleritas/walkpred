{
 "cells": [
  {
   "cell_type": "markdown",
   "metadata": {},
   "source": [
    "# Subsample Hetionet edges to determine effect on performance\n",
    "\n",
    "Last version tried to preserve edges if they removed any gold standard nodes. In this new version we will not artifically limit which edges are removed, and will allow disappearance of gold standard nodes. These nodes will be counted as unable to be predicted.\n",
    "\n",
    "Remove entire edge types to see if we will get diminishing performance."
   ]
  },
  {
   "cell_type": "code",
   "execution_count": 1,
   "metadata": {},
   "outputs": [],
   "source": [
    "import pandas as pd\n",
    "from collections import defaultdict\n",
    "from tqdm import tqdm\n",
    "\n",
    "import numpy as np\n",
    "from itertools import product"
   ]
  },
  {
   "cell_type": "code",
   "execution_count": 2,
   "metadata": {},
   "outputs": [],
   "source": [
    "np.random.seed(20180329)"
   ]
  },
  {
   "cell_type": "markdown",
   "metadata": {},
   "source": [
    "## Read hetionet\n",
    "\n",
    "using hetionet for now because it should be faster to run than semmeddb"
   ]
  },
  {
   "cell_type": "code",
   "execution_count": 3,
   "metadata": {},
   "outputs": [],
   "source": [
    "hnodes = (pd\n",
    "    .read_csv(\"../../merge/data/hetionet/hetnet_nodes.csv\", sep=',')\n",
    "    .drop(\"identifier:string\", axis=1)\n",
    "    .rename(columns={\n",
    "        \":ID\": \"node_id\",\n",
    "        \"name:string\": \"name\",\n",
    "        \":LABEL\": \"het_type\"\n",
    "    })\n",
    ")"
   ]
  },
  {
   "cell_type": "code",
   "execution_count": 4,
   "metadata": {},
   "outputs": [],
   "source": [
    "hedges = (pd\n",
    "    .read_csv(\"../../merge/data/hetionet/hetnet_edges.csv\", sep=',')\n",
    "    .rename(columns={\n",
    "        \":START_ID\": \"start_id\",\n",
    "        \":END_ID\": \"end_id\",\n",
    "        \":TYPE\": \"het_etype\"\n",
    "    })\n",
    ")"
   ]
  },
  {
   "cell_type": "code",
   "execution_count": 5,
   "metadata": {},
   "outputs": [
    {
     "data": {
      "text/html": [
       "<div>\n",
       "<style scoped>\n",
       "    .dataframe tbody tr th:only-of-type {\n",
       "        vertical-align: middle;\n",
       "    }\n",
       "\n",
       "    .dataframe tbody tr th {\n",
       "        vertical-align: top;\n",
       "    }\n",
       "\n",
       "    .dataframe thead th {\n",
       "        text-align: right;\n",
       "    }\n",
       "</style>\n",
       "<table border=\"1\" class=\"dataframe\">\n",
       "  <thead>\n",
       "    <tr style=\"text-align: right;\">\n",
       "      <th></th>\n",
       "      <th>node_id</th>\n",
       "      <th>name</th>\n",
       "      <th>het_type</th>\n",
       "    </tr>\n",
       "  </thead>\n",
       "  <tbody>\n",
       "    <tr>\n",
       "      <th>0</th>\n",
       "      <td>DB00795</td>\n",
       "      <td>Sulfasalazine</td>\n",
       "      <td>Compound</td>\n",
       "    </tr>\n",
       "    <tr>\n",
       "      <th>1</th>\n",
       "      <td>N0000000151</td>\n",
       "      <td>Histamine H2 Receptor Antagonists</td>\n",
       "      <td>Pharmacologic Class</td>\n",
       "    </tr>\n",
       "    <tr>\n",
       "      <th>2</th>\n",
       "      <td>100996420</td>\n",
       "      <td>DNM1P50</td>\n",
       "      <td>Gene</td>\n",
       "    </tr>\n",
       "    <tr>\n",
       "      <th>3</th>\n",
       "      <td>DB04898</td>\n",
       "      <td>Ximelagatran</td>\n",
       "      <td>Compound</td>\n",
       "    </tr>\n",
       "    <tr>\n",
       "      <th>4</th>\n",
       "      <td>C0278151</td>\n",
       "      <td>Facial spasm</td>\n",
       "      <td>Side Effect</td>\n",
       "    </tr>\n",
       "  </tbody>\n",
       "</table>\n",
       "</div>"
      ],
      "text/plain": [
       "       node_id                               name             het_type\n",
       "0      DB00795                      Sulfasalazine             Compound\n",
       "1  N0000000151  Histamine H2 Receptor Antagonists  Pharmacologic Class\n",
       "2    100996420                            DNM1P50                 Gene\n",
       "3      DB04898                       Ximelagatran             Compound\n",
       "4     C0278151                       Facial spasm          Side Effect"
      ]
     },
     "execution_count": 5,
     "metadata": {},
     "output_type": "execute_result"
    }
   ],
   "source": [
    "hnodes.head()"
   ]
  },
  {
   "cell_type": "code",
   "execution_count": 6,
   "metadata": {},
   "outputs": [
    {
     "data": {
      "text/html": [
       "<div>\n",
       "<style scoped>\n",
       "    .dataframe tbody tr th:only-of-type {\n",
       "        vertical-align: middle;\n",
       "    }\n",
       "\n",
       "    .dataframe tbody tr th {\n",
       "        vertical-align: top;\n",
       "    }\n",
       "\n",
       "    .dataframe thead th {\n",
       "        text-align: right;\n",
       "    }\n",
       "</style>\n",
       "<table border=\"1\" class=\"dataframe\">\n",
       "  <thead>\n",
       "    <tr style=\"text-align: right;\">\n",
       "      <th></th>\n",
       "      <th>start_id</th>\n",
       "      <th>end_id</th>\n",
       "      <th>het_etype</th>\n",
       "    </tr>\n",
       "  </thead>\n",
       "  <tbody>\n",
       "    <tr>\n",
       "      <th>0</th>\n",
       "      <td>8568</td>\n",
       "      <td>GO:0042254</td>\n",
       "      <td>PARTICIPATES_GpBP</td>\n",
       "    </tr>\n",
       "    <tr>\n",
       "      <th>1</th>\n",
       "      <td>UBERON:0002450</td>\n",
       "      <td>51316</td>\n",
       "      <td>EXPRESSES_AeG</td>\n",
       "    </tr>\n",
       "    <tr>\n",
       "      <th>2</th>\n",
       "      <td>4893</td>\n",
       "      <td>PC7_8430</td>\n",
       "      <td>PARTICIPATES_GpPW</td>\n",
       "    </tr>\n",
       "    <tr>\n",
       "      <th>3</th>\n",
       "      <td>UBERON:0002185</td>\n",
       "      <td>55186</td>\n",
       "      <td>EXPRESSES_AeG</td>\n",
       "    </tr>\n",
       "    <tr>\n",
       "      <th>4</th>\n",
       "      <td>119504</td>\n",
       "      <td>GO:0033047</td>\n",
       "      <td>PARTICIPATES_GpBP</td>\n",
       "    </tr>\n",
       "  </tbody>\n",
       "</table>\n",
       "</div>"
      ],
      "text/plain": [
       "         start_id      end_id          het_etype\n",
       "0            8568  GO:0042254  PARTICIPATES_GpBP\n",
       "1  UBERON:0002450       51316      EXPRESSES_AeG\n",
       "2            4893    PC7_8430  PARTICIPATES_GpPW\n",
       "3  UBERON:0002185       55186      EXPRESSES_AeG\n",
       "4          119504  GO:0033047  PARTICIPATES_GpBP"
      ]
     },
     "execution_count": 6,
     "metadata": {},
     "output_type": "execute_result"
    }
   ],
   "source": [
    "hedges.head()"
   ]
  },
  {
   "cell_type": "code",
   "execution_count": 7,
   "metadata": {},
   "outputs": [],
   "source": [
    "gold = (pd\n",
    "    .read_csv(\"../hetio_dw/filtered_semmed_gold_for_hetionet.tsv\", sep='\\t')\n",
    "    .rename(columns={\n",
    "        \"chemical_id\": \"chemical_cui\",\n",
    "        \"disease_id\": \"disease_cui\",\n",
    "        \"chemical_hetid\": \"chemical_id\",\n",
    "        \"disease_hetid\": \"disease_id\"\n",
    "    })\n",
    ")"
   ]
  },
  {
   "cell_type": "code",
   "execution_count": 8,
   "metadata": {},
   "outputs": [
    {
     "data": {
      "text/plain": [
       "(2924, 9)"
      ]
     },
     "execution_count": 8,
     "metadata": {},
     "output_type": "execute_result"
    }
   ],
   "source": [
    "gold.shape"
   ]
  },
  {
   "cell_type": "code",
   "execution_count": 9,
   "metadata": {},
   "outputs": [
    {
     "data": {
      "text/html": [
       "<div>\n",
       "<style scoped>\n",
       "    .dataframe tbody tr th:only-of-type {\n",
       "        vertical-align: middle;\n",
       "    }\n",
       "\n",
       "    .dataframe tbody tr th {\n",
       "        vertical-align: top;\n",
       "    }\n",
       "\n",
       "    .dataframe thead th {\n",
       "        text-align: right;\n",
       "    }\n",
       "</style>\n",
       "<table border=\"1\" class=\"dataframe\">\n",
       "  <thead>\n",
       "    <tr style=\"text-align: right;\">\n",
       "      <th></th>\n",
       "      <th>chemical_cui</th>\n",
       "      <th>chemical_name</th>\n",
       "      <th>disease_cui</th>\n",
       "      <th>disease_name</th>\n",
       "      <th>etype</th>\n",
       "      <th>chemical_id</th>\n",
       "      <th>chemical_htype</th>\n",
       "      <th>disease_id</th>\n",
       "      <th>disease_htype</th>\n",
       "    </tr>\n",
       "  </thead>\n",
       "  <tbody>\n",
       "    <tr>\n",
       "      <th>0</th>\n",
       "      <td>UMLS:C0000477</td>\n",
       "      <td>fampridine</td>\n",
       "      <td>UMLS:C0026769</td>\n",
       "      <td>multiple sclerosis</td>\n",
       "      <td>TREATS_CDtDO</td>\n",
       "      <td>DB06637</td>\n",
       "      <td>Compound</td>\n",
       "      <td>C0026769</td>\n",
       "      <td>Side Effect</td>\n",
       "    </tr>\n",
       "    <tr>\n",
       "      <th>1</th>\n",
       "      <td>UMLS:C0000545</td>\n",
       "      <td>eicosapentaenoic acid</td>\n",
       "      <td>UMLS:C0032961</td>\n",
       "      <td>Pregnancy, function</td>\n",
       "      <td>TREATS_CDtDO</td>\n",
       "      <td>DB00159</td>\n",
       "      <td>Compound</td>\n",
       "      <td>C0032961</td>\n",
       "      <td>Side Effect</td>\n",
       "    </tr>\n",
       "    <tr>\n",
       "      <th>2</th>\n",
       "      <td>UMLS:C0000618</td>\n",
       "      <td>mercaptopurine</td>\n",
       "      <td>UMLS:C0023449</td>\n",
       "      <td>acute lymphocytic leukemia</td>\n",
       "      <td>TREATS_CDtDO</td>\n",
       "      <td>DB01033</td>\n",
       "      <td>Compound</td>\n",
       "      <td>C0023449</td>\n",
       "      <td>Side Effect</td>\n",
       "    </tr>\n",
       "    <tr>\n",
       "      <th>3</th>\n",
       "      <td>UMLS:C0000618</td>\n",
       "      <td>mercaptopurine</td>\n",
       "      <td>UMLS:C0023487</td>\n",
       "      <td>acute promyelocytic leukemia</td>\n",
       "      <td>TREATS_CDtDO</td>\n",
       "      <td>DB01033</td>\n",
       "      <td>Compound</td>\n",
       "      <td>C0023487</td>\n",
       "      <td>Side Effect</td>\n",
       "    </tr>\n",
       "    <tr>\n",
       "      <th>4</th>\n",
       "      <td>UMLS:C0000956</td>\n",
       "      <td>acenocoumarol</td>\n",
       "      <td>UMLS:C0034065</td>\n",
       "      <td>Pulmonary embolism</td>\n",
       "      <td>TREATS_CDtDO</td>\n",
       "      <td>DB01418</td>\n",
       "      <td>Compound</td>\n",
       "      <td>C0034065</td>\n",
       "      <td>Side Effect</td>\n",
       "    </tr>\n",
       "  </tbody>\n",
       "</table>\n",
       "</div>"
      ],
      "text/plain": [
       "    chemical_cui          chemical_name    disease_cui  \\\n",
       "0  UMLS:C0000477             fampridine  UMLS:C0026769   \n",
       "1  UMLS:C0000545  eicosapentaenoic acid  UMLS:C0032961   \n",
       "2  UMLS:C0000618         mercaptopurine  UMLS:C0023449   \n",
       "3  UMLS:C0000618         mercaptopurine  UMLS:C0023487   \n",
       "4  UMLS:C0000956          acenocoumarol  UMLS:C0034065   \n",
       "\n",
       "                   disease_name         etype chemical_id chemical_htype  \\\n",
       "0            multiple sclerosis  TREATS_CDtDO     DB06637       Compound   \n",
       "1           Pregnancy, function  TREATS_CDtDO     DB00159       Compound   \n",
       "2    acute lymphocytic leukemia  TREATS_CDtDO     DB01033       Compound   \n",
       "3  acute promyelocytic leukemia  TREATS_CDtDO     DB01033       Compound   \n",
       "4            Pulmonary embolism  TREATS_CDtDO     DB01418       Compound   \n",
       "\n",
       "  disease_id disease_htype  \n",
       "0   C0026769   Side Effect  \n",
       "1   C0032961   Side Effect  \n",
       "2   C0023449   Side Effect  \n",
       "3   C0023487   Side Effect  \n",
       "4   C0034065   Side Effect  "
      ]
     },
     "execution_count": 9,
     "metadata": {},
     "output_type": "execute_result"
    }
   ],
   "source": [
    "gold.head()"
   ]
  },
  {
   "cell_type": "code",
   "execution_count": 10,
   "metadata": {},
   "outputs": [],
   "source": [
    "gold_nodes = set(gold[\"chemical_id\"]) | set(gold[\"disease_id\"])"
   ]
  },
  {
   "cell_type": "code",
   "execution_count": 11,
   "metadata": {},
   "outputs": [
    {
     "data": {
      "text/plain": [
       "1342"
      ]
     },
     "execution_count": 11,
     "metadata": {},
     "output_type": "execute_result"
    }
   ],
   "source": [
    "len(gold_nodes)"
   ]
  },
  {
   "cell_type": "markdown",
   "metadata": {},
   "source": [
    "---"
   ]
  },
  {
   "cell_type": "code",
   "execution_count": 12,
   "metadata": {},
   "outputs": [],
   "source": [
    "edge_nodes = set(hedges[\"start_id\"]) | set(hedges[\"end_id\"])"
   ]
  },
  {
   "cell_type": "code",
   "execution_count": 13,
   "metadata": {},
   "outputs": [
    {
     "data": {
      "text/plain": [
       "45158"
      ]
     },
     "execution_count": 13,
     "metadata": {},
     "output_type": "execute_result"
    }
   ],
   "source": [
    "len(edge_nodes)"
   ]
  },
  {
   "cell_type": "code",
   "execution_count": 14,
   "metadata": {},
   "outputs": [
    {
     "data": {
      "text/plain": [
       "False"
      ]
     },
     "execution_count": 14,
     "metadata": {},
     "output_type": "execute_result"
    }
   ],
   "source": [
    "edge_nodes >= gold_nodes"
   ]
  },
  {
   "cell_type": "markdown",
   "metadata": {},
   "source": [
    "---"
   ]
  },
  {
   "cell_type": "code",
   "execution_count": 15,
   "metadata": {},
   "outputs": [
    {
     "data": {
      "text/plain": [
       "True"
      ]
     },
     "execution_count": 15,
     "metadata": {},
     "output_type": "execute_result"
    }
   ],
   "source": [
    "set(hnodes[\"node_id\"]) >= gold_nodes"
   ]
  },
  {
   "cell_type": "code",
   "execution_count": 16,
   "metadata": {},
   "outputs": [
    {
     "data": {
      "text/plain": [
       "1873"
      ]
     },
     "execution_count": 16,
     "metadata": {},
     "output_type": "execute_result"
    }
   ],
   "source": [
    "len(set(hnodes[\"node_id\"]) - edge_nodes)"
   ]
  },
  {
   "cell_type": "code",
   "execution_count": 17,
   "metadata": {},
   "outputs": [
    {
     "data": {
      "text/plain": [
       "3"
      ]
     },
     "execution_count": 17,
     "metadata": {},
     "output_type": "execute_result"
    }
   ],
   "source": [
    "len(set(hnodes[\"node_id\"]) & gold_nodes - edge_nodes)"
   ]
  },
  {
   "cell_type": "markdown",
   "metadata": {},
   "source": [
    "There are only three nodes in the gold standard which have no edges at all in the original Hetionet. These are small enough where we don't have to treat them differently at all. The main majority of the nodes which have no edges at all can be safely ignored since they don't show up in the gold standard either."
   ]
  },
  {
   "cell_type": "markdown",
   "metadata": {},
   "source": [
    "---"
   ]
  },
  {
   "cell_type": "markdown",
   "metadata": {},
   "source": [
    "## Add edge types to hetionet edges"
   ]
  },
  {
   "cell_type": "code",
   "execution_count": 18,
   "metadata": {},
   "outputs": [],
   "source": [
    "edges = (hedges\n",
    "    .merge(\n",
    "        hnodes, how=\"inner\",\n",
    "        left_on=\"start_id\", right_on=\"node_id\"\n",
    "    )\n",
    "    .drop([\"node_id\", \"name\"], axis=1)\n",
    "    .rename(columns={\"het_type\": \"start_htype\"})\n",
    "\n",
    "    .merge(\n",
    "        hnodes, how=\"inner\",\n",
    "        left_on=\"end_id\", right_on=\"node_id\"\n",
    "    )\n",
    "    .drop([\"node_id\", \"name\"], axis=1)\n",
    "    .rename(columns={\"het_type\": \"end_htype\"})\n",
    ")"
   ]
  },
  {
   "cell_type": "code",
   "execution_count": 19,
   "metadata": {},
   "outputs": [
    {
     "data": {
      "text/html": [
       "<div>\n",
       "<style scoped>\n",
       "    .dataframe tbody tr th:only-of-type {\n",
       "        vertical-align: middle;\n",
       "    }\n",
       "\n",
       "    .dataframe tbody tr th {\n",
       "        vertical-align: top;\n",
       "    }\n",
       "\n",
       "    .dataframe thead th {\n",
       "        text-align: right;\n",
       "    }\n",
       "</style>\n",
       "<table border=\"1\" class=\"dataframe\">\n",
       "  <thead>\n",
       "    <tr style=\"text-align: right;\">\n",
       "      <th></th>\n",
       "      <th>start_id</th>\n",
       "      <th>end_id</th>\n",
       "      <th>het_etype</th>\n",
       "      <th>start_htype</th>\n",
       "      <th>end_htype</th>\n",
       "    </tr>\n",
       "  </thead>\n",
       "  <tbody>\n",
       "    <tr>\n",
       "      <th>0</th>\n",
       "      <td>8568</td>\n",
       "      <td>GO:0042254</td>\n",
       "      <td>PARTICIPATES_GpBP</td>\n",
       "      <td>Gene</td>\n",
       "      <td>Biological Process</td>\n",
       "    </tr>\n",
       "    <tr>\n",
       "      <th>1</th>\n",
       "      <td>6201</td>\n",
       "      <td>GO:0042254</td>\n",
       "      <td>PARTICIPATES_GpBP</td>\n",
       "      <td>Gene</td>\n",
       "      <td>Biological Process</td>\n",
       "    </tr>\n",
       "    <tr>\n",
       "      <th>2</th>\n",
       "      <td>6223</td>\n",
       "      <td>GO:0042254</td>\n",
       "      <td>PARTICIPATES_GpBP</td>\n",
       "      <td>Gene</td>\n",
       "      <td>Biological Process</td>\n",
       "    </tr>\n",
       "    <tr>\n",
       "      <th>3</th>\n",
       "      <td>6202</td>\n",
       "      <td>GO:0042254</td>\n",
       "      <td>PARTICIPATES_GpBP</td>\n",
       "      <td>Gene</td>\n",
       "      <td>Biological Process</td>\n",
       "    </tr>\n",
       "    <tr>\n",
       "      <th>4</th>\n",
       "      <td>65003</td>\n",
       "      <td>GO:0042254</td>\n",
       "      <td>PARTICIPATES_GpBP</td>\n",
       "      <td>Gene</td>\n",
       "      <td>Biological Process</td>\n",
       "    </tr>\n",
       "  </tbody>\n",
       "</table>\n",
       "</div>"
      ],
      "text/plain": [
       "  start_id      end_id          het_etype start_htype           end_htype\n",
       "0     8568  GO:0042254  PARTICIPATES_GpBP        Gene  Biological Process\n",
       "1     6201  GO:0042254  PARTICIPATES_GpBP        Gene  Biological Process\n",
       "2     6223  GO:0042254  PARTICIPATES_GpBP        Gene  Biological Process\n",
       "3     6202  GO:0042254  PARTICIPATES_GpBP        Gene  Biological Process\n",
       "4    65003  GO:0042254  PARTICIPATES_GpBP        Gene  Biological Process"
      ]
     },
     "execution_count": 19,
     "metadata": {},
     "output_type": "execute_result"
    }
   ],
   "source": [
    "edges.head()"
   ]
  },
  {
   "cell_type": "code",
   "execution_count": 20,
   "metadata": {},
   "outputs": [
    {
     "data": {
      "text/plain": [
       "start_htype          end_htype         \n",
       "Anatomy              Gene                  726495\n",
       "Compound             Compound                6486\n",
       "                     Gene                   51429\n",
       "                     Side Effect           138944\n",
       "Disease              Anatomy                 3602\n",
       "                     Disease                  543\n",
       "                     Gene                   27977\n",
       "                     Symptom                 3357\n",
       "Gene                 Biological Process    559504\n",
       "                     Cellular Component     73566\n",
       "                     Gene                  474526\n",
       "                     Molecular Function     97222\n",
       "                     Pathway                84372\n",
       "Pharmacologic Class  Compound                1029\n",
       "dtype: int64"
      ]
     },
     "execution_count": 20,
     "metadata": {},
     "output_type": "execute_result"
    }
   ],
   "source": [
    "edges.groupby([\"start_htype\", \"end_htype\"]).size()"
   ]
  },
  {
   "cell_type": "code",
   "execution_count": 21,
   "metadata": {},
   "outputs": [
    {
     "data": {
      "text/plain": [
       "(14,)"
      ]
     },
     "execution_count": 21,
     "metadata": {},
     "output_type": "execute_result"
    }
   ],
   "source": [
    "edges.groupby([\"start_htype\", \"end_htype\"]).size().shape"
   ]
  },
  {
   "cell_type": "markdown",
   "metadata": {},
   "source": [
    "There are 14 unique node-node types. Since deepwalk collapses the edge semantics, let's subsample edges based on the node-node pair they link, instead of what semantic node type links the nodes."
   ]
  },
  {
   "cell_type": "markdown",
   "metadata": {},
   "source": [
    "---"
   ]
  },
  {
   "cell_type": "markdown",
   "metadata": {},
   "source": [
    "## Assign deepwalk metadata"
   ]
  },
  {
   "cell_type": "code",
   "execution_count": 22,
   "metadata": {},
   "outputs": [],
   "source": [
    "fhnodes = (hnodes\n",
    "    .reset_index()\n",
    "    .rename(columns={\n",
    "        \"index\": \"node_uid\"\n",
    "    })\n",
    ")"
   ]
  },
  {
   "cell_type": "code",
   "execution_count": 23,
   "metadata": {},
   "outputs": [
    {
     "data": {
      "text/html": [
       "<div>\n",
       "<style scoped>\n",
       "    .dataframe tbody tr th:only-of-type {\n",
       "        vertical-align: middle;\n",
       "    }\n",
       "\n",
       "    .dataframe tbody tr th {\n",
       "        vertical-align: top;\n",
       "    }\n",
       "\n",
       "    .dataframe thead th {\n",
       "        text-align: right;\n",
       "    }\n",
       "</style>\n",
       "<table border=\"1\" class=\"dataframe\">\n",
       "  <thead>\n",
       "    <tr style=\"text-align: right;\">\n",
       "      <th></th>\n",
       "      <th>node_uid</th>\n",
       "      <th>node_id</th>\n",
       "      <th>name</th>\n",
       "      <th>het_type</th>\n",
       "    </tr>\n",
       "  </thead>\n",
       "  <tbody>\n",
       "    <tr>\n",
       "      <th>0</th>\n",
       "      <td>0</td>\n",
       "      <td>DB00795</td>\n",
       "      <td>Sulfasalazine</td>\n",
       "      <td>Compound</td>\n",
       "    </tr>\n",
       "    <tr>\n",
       "      <th>1</th>\n",
       "      <td>1</td>\n",
       "      <td>N0000000151</td>\n",
       "      <td>Histamine H2 Receptor Antagonists</td>\n",
       "      <td>Pharmacologic Class</td>\n",
       "    </tr>\n",
       "    <tr>\n",
       "      <th>2</th>\n",
       "      <td>2</td>\n",
       "      <td>100996420</td>\n",
       "      <td>DNM1P50</td>\n",
       "      <td>Gene</td>\n",
       "    </tr>\n",
       "    <tr>\n",
       "      <th>3</th>\n",
       "      <td>3</td>\n",
       "      <td>DB04898</td>\n",
       "      <td>Ximelagatran</td>\n",
       "      <td>Compound</td>\n",
       "    </tr>\n",
       "    <tr>\n",
       "      <th>4</th>\n",
       "      <td>4</td>\n",
       "      <td>C0278151</td>\n",
       "      <td>Facial spasm</td>\n",
       "      <td>Side Effect</td>\n",
       "    </tr>\n",
       "  </tbody>\n",
       "</table>\n",
       "</div>"
      ],
      "text/plain": [
       "   node_uid      node_id                               name  \\\n",
       "0         0      DB00795                      Sulfasalazine   \n",
       "1         1  N0000000151  Histamine H2 Receptor Antagonists   \n",
       "2         2    100996420                            DNM1P50   \n",
       "3         3      DB04898                       Ximelagatran   \n",
       "4         4     C0278151                       Facial spasm   \n",
       "\n",
       "              het_type  \n",
       "0             Compound  \n",
       "1  Pharmacologic Class  \n",
       "2                 Gene  \n",
       "3             Compound  \n",
       "4          Side Effect  "
      ]
     },
     "execution_count": 23,
     "metadata": {},
     "output_type": "execute_result"
    }
   ],
   "source": [
    "fhnodes.head()"
   ]
  },
  {
   "cell_type": "markdown",
   "metadata": {},
   "source": [
    "### Add deepwalk ids to edges"
   ]
  },
  {
   "cell_type": "code",
   "execution_count": 24,
   "metadata": {},
   "outputs": [],
   "source": [
    "fedges = (edges\n",
    "    .merge(\n",
    "        fhnodes[[\"node_uid\", \"node_id\"]],\n",
    "        how=\"inner\", left_on=\"start_id\", right_on=\"node_id\"\n",
    "    )\n",
    "    .drop(\"node_id\", axis=1)\n",
    "    .rename(columns={\"node_uid\": \"source_uid\"})\n",
    "\n",
    "    .merge(\n",
    "        fhnodes[[\"node_uid\", \"node_id\"]],\n",
    "        how=\"inner\", left_on=\"end_id\", right_on=\"node_id\"\n",
    "    )\n",
    "    .drop(\"node_id\", axis=1)\n",
    "    .rename(columns={\"node_uid\": \"target_uid\"})\n",
    ")"
   ]
  },
  {
   "cell_type": "code",
   "execution_count": 25,
   "metadata": {},
   "outputs": [
    {
     "data": {
      "text/html": [
       "<div>\n",
       "<style scoped>\n",
       "    .dataframe tbody tr th:only-of-type {\n",
       "        vertical-align: middle;\n",
       "    }\n",
       "\n",
       "    .dataframe tbody tr th {\n",
       "        vertical-align: top;\n",
       "    }\n",
       "\n",
       "    .dataframe thead th {\n",
       "        text-align: right;\n",
       "    }\n",
       "</style>\n",
       "<table border=\"1\" class=\"dataframe\">\n",
       "  <thead>\n",
       "    <tr style=\"text-align: right;\">\n",
       "      <th></th>\n",
       "      <th>start_id</th>\n",
       "      <th>end_id</th>\n",
       "      <th>het_etype</th>\n",
       "      <th>start_htype</th>\n",
       "      <th>end_htype</th>\n",
       "      <th>source_uid</th>\n",
       "      <th>target_uid</th>\n",
       "    </tr>\n",
       "  </thead>\n",
       "  <tbody>\n",
       "    <tr>\n",
       "      <th>0</th>\n",
       "      <td>8568</td>\n",
       "      <td>GO:0042254</td>\n",
       "      <td>PARTICIPATES_GpBP</td>\n",
       "      <td>Gene</td>\n",
       "      <td>Biological Process</td>\n",
       "      <td>26311</td>\n",
       "      <td>5975</td>\n",
       "    </tr>\n",
       "    <tr>\n",
       "      <th>1</th>\n",
       "      <td>6201</td>\n",
       "      <td>GO:0042254</td>\n",
       "      <td>PARTICIPATES_GpBP</td>\n",
       "      <td>Gene</td>\n",
       "      <td>Biological Process</td>\n",
       "      <td>9449</td>\n",
       "      <td>5975</td>\n",
       "    </tr>\n",
       "    <tr>\n",
       "      <th>2</th>\n",
       "      <td>6223</td>\n",
       "      <td>GO:0042254</td>\n",
       "      <td>PARTICIPATES_GpBP</td>\n",
       "      <td>Gene</td>\n",
       "      <td>Biological Process</td>\n",
       "      <td>32586</td>\n",
       "      <td>5975</td>\n",
       "    </tr>\n",
       "    <tr>\n",
       "      <th>3</th>\n",
       "      <td>6202</td>\n",
       "      <td>GO:0042254</td>\n",
       "      <td>PARTICIPATES_GpBP</td>\n",
       "      <td>Gene</td>\n",
       "      <td>Biological Process</td>\n",
       "      <td>21669</td>\n",
       "      <td>5975</td>\n",
       "    </tr>\n",
       "    <tr>\n",
       "      <th>4</th>\n",
       "      <td>65003</td>\n",
       "      <td>GO:0042254</td>\n",
       "      <td>PARTICIPATES_GpBP</td>\n",
       "      <td>Gene</td>\n",
       "      <td>Biological Process</td>\n",
       "      <td>20653</td>\n",
       "      <td>5975</td>\n",
       "    </tr>\n",
       "  </tbody>\n",
       "</table>\n",
       "</div>"
      ],
      "text/plain": [
       "  start_id      end_id          het_etype start_htype           end_htype  \\\n",
       "0     8568  GO:0042254  PARTICIPATES_GpBP        Gene  Biological Process   \n",
       "1     6201  GO:0042254  PARTICIPATES_GpBP        Gene  Biological Process   \n",
       "2     6223  GO:0042254  PARTICIPATES_GpBP        Gene  Biological Process   \n",
       "3     6202  GO:0042254  PARTICIPATES_GpBP        Gene  Biological Process   \n",
       "4    65003  GO:0042254  PARTICIPATES_GpBP        Gene  Biological Process   \n",
       "\n",
       "   source_uid  target_uid  \n",
       "0       26311        5975  \n",
       "1        9449        5975  \n",
       "2       32586        5975  \n",
       "3       21669        5975  \n",
       "4       20653        5975  "
      ]
     },
     "execution_count": 25,
     "metadata": {},
     "output_type": "execute_result"
    }
   ],
   "source": [
    "fedges.head()"
   ]
  },
  {
   "cell_type": "markdown",
   "metadata": {},
   "source": [
    "---"
   ]
  },
  {
   "cell_type": "markdown",
   "metadata": {},
   "source": [
    "## Subsample edges\n",
    "\n",
    "This new version allows removal of gold standard nodes if the edge was the only thing linking the node into the network."
   ]
  },
  {
   "cell_type": "code",
   "execution_count": 26,
   "metadata": {},
   "outputs": [],
   "source": [
    "fhnodes.to_csv(\"tmp/hetionet_nodes.tsv\", sep='\\t', index=False)"
   ]
  },
  {
   "cell_type": "code",
   "execution_count": 27,
   "metadata": {},
   "outputs": [],
   "source": [
    "gold.to_csv(\"tmp/hetionet_gold.tsv\", sep='\\t', index=False)"
   ]
  },
  {
   "cell_type": "markdown",
   "metadata": {},
   "source": [
    "---"
   ]
  },
  {
   "cell_type": "markdown",
   "metadata": {},
   "source": [
    "## remove all edges of a certain type!"
   ]
  },
  {
   "cell_type": "code",
   "execution_count": 28,
   "metadata": {},
   "outputs": [
    {
     "name": "stdout",
     "output_type": "stream",
     "text": [
      "('Anatomy', 'Gene')\n",
      "('Compound', 'Compound')\n",
      "('Compound', 'Gene')\n",
      "('Compound', 'Side Effect')\n",
      "('Disease', 'Anatomy')\n",
      "('Disease', 'Disease')\n",
      "('Disease', 'Gene')\n",
      "('Disease', 'Symptom')\n",
      "('Gene', 'Biological Process')\n",
      "('Gene', 'Cellular Component')\n",
      "('Gene', 'Gene')\n",
      "('Gene', 'Molecular Function')\n",
      "('Gene', 'Pathway')\n",
      "('Pharmacologic Class', 'Compound')\n"
     ]
    }
   ],
   "source": [
    "for node_link, edge_pool in fedges.groupby([\"start_htype\", \"end_htype\"]):\n",
    "        \n",
    "    print(node_link)\n",
    "    \n",
    "    shtype, ehtype = node_link\n",
    "    others = fedges.query(\n",
    "        \"start_htype != @shtype or end_htype != @ehtype\"\n",
    "    )\n",
    "\n",
    "    #-------------------------------------------------------\n",
    "\n",
    "    keep_pct = 0\n",
    "    new_edges = others\n",
    "\n",
    "    fname = \"tmp/edges/{}_{}_{}_kept.tsv\".format(shtype, ehtype, keep_pct)\n",
    "    new_edges.to_csv(fname, sep='\\t', index=False)"
   ]
  },
  {
   "cell_type": "code",
   "execution_count": null,
   "metadata": {},
   "outputs": [],
   "source": []
  }
 ],
 "metadata": {
  "kernelspec": {
   "display_name": "Python 3",
   "language": "python",
   "name": "python3"
  },
  "language_info": {
   "codemirror_mode": {
    "name": "ipython",
    "version": 3
   },
   "file_extension": ".py",
   "mimetype": "text/x-python",
   "name": "python",
   "nbconvert_exporter": "python",
   "pygments_lexer": "ipython3",
   "version": "3.5.2"
  }
 },
 "nbformat": 4,
 "nbformat_minor": 2
}
