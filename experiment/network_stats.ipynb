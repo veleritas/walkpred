{
 "cells": [
  {
   "cell_type": "markdown",
   "metadata": {},
   "source": [
    "# No real difference in adding in Hetionet to Deepwalk performance\n",
    "\n",
    "Now we have to look and see just how the network changed with our addition of hetionet. If the data is hitting all the wrong places, then we expect no great increase in performance."
   ]
  },
  {
   "cell_type": "code",
   "execution_count": 1,
   "metadata": {},
   "outputs": [],
   "source": [
    "import pandas as pd\n",
    "import numpy as np\n",
    "import seaborn as sns\n",
    "\n",
    "from collections import defaultdict\n",
    "from tqdm import tqdm\n",
    "import matplotlib.pyplot as plt"
   ]
  },
  {
   "cell_type": "code",
   "execution_count": 2,
   "metadata": {},
   "outputs": [],
   "source": [
    "%matplotlib inline"
   ]
  },
  {
   "cell_type": "markdown",
   "metadata": {},
   "source": [
    "## Read nodes and edges of merged network"
   ]
  },
  {
   "cell_type": "code",
   "execution_count": 3,
   "metadata": {},
   "outputs": [],
   "source": [
    "nodes = pd.read_csv(\"data/merged_nodes.tsv\", sep='\\t')"
   ]
  },
  {
   "cell_type": "code",
   "execution_count": 4,
   "metadata": {},
   "outputs": [
    {
     "data": {
      "text/html": [
       "<div>\n",
       "<style scoped>\n",
       "    .dataframe tbody tr th:only-of-type {\n",
       "        vertical-align: middle;\n",
       "    }\n",
       "\n",
       "    .dataframe tbody tr th {\n",
       "        vertical-align: top;\n",
       "    }\n",
       "\n",
       "    .dataframe thead th {\n",
       "        text-align: right;\n",
       "    }\n",
       "</style>\n",
       "<table border=\"1\" class=\"dataframe\">\n",
       "  <thead>\n",
       "    <tr style=\"text-align: right;\">\n",
       "      <th></th>\n",
       "      <th>node_uid</th>\n",
       "      <th>name</th>\n",
       "      <th>node_id</th>\n",
       "      <th>origin</th>\n",
       "      <th>sem_type</th>\n",
       "    </tr>\n",
       "  </thead>\n",
       "  <tbody>\n",
       "    <tr>\n",
       "      <th>0</th>\n",
       "      <td>0</td>\n",
       "      <td>GAGE12F</td>\n",
       "      <td>100008586</td>\n",
       "      <td>hetionet</td>\n",
       "      <td>Genes &amp; Molecular Sequences</td>\n",
       "    </tr>\n",
       "    <tr>\n",
       "      <th>1</th>\n",
       "      <td>1</td>\n",
       "      <td>DUXB</td>\n",
       "      <td>100033411</td>\n",
       "      <td>hetionet</td>\n",
       "      <td>Genes &amp; Molecular Sequences</td>\n",
       "    </tr>\n",
       "    <tr>\n",
       "      <th>2</th>\n",
       "      <td>2</td>\n",
       "      <td>DDTL</td>\n",
       "      <td>100037417</td>\n",
       "      <td>hetionet</td>\n",
       "      <td>Genes &amp; Molecular Sequences</td>\n",
       "    </tr>\n",
       "    <tr>\n",
       "      <th>3</th>\n",
       "      <td>3</td>\n",
       "      <td>OCTN3</td>\n",
       "      <td>100049579</td>\n",
       "      <td>hetionet</td>\n",
       "      <td>Genes &amp; Molecular Sequences</td>\n",
       "    </tr>\n",
       "    <tr>\n",
       "      <th>4</th>\n",
       "      <td>4</td>\n",
       "      <td>POM121C</td>\n",
       "      <td>100101267</td>\n",
       "      <td>hetionet</td>\n",
       "      <td>Genes &amp; Molecular Sequences</td>\n",
       "    </tr>\n",
       "  </tbody>\n",
       "</table>\n",
       "</div>"
      ],
      "text/plain": [
       "   node_uid     name    node_id    origin                     sem_type\n",
       "0         0  GAGE12F  100008586  hetionet  Genes & Molecular Sequences\n",
       "1         1     DUXB  100033411  hetionet  Genes & Molecular Sequences\n",
       "2         2     DDTL  100037417  hetionet  Genes & Molecular Sequences\n",
       "3         3    OCTN3  100049579  hetionet  Genes & Molecular Sequences\n",
       "4         4  POM121C  100101267  hetionet  Genes & Molecular Sequences"
      ]
     },
     "execution_count": 4,
     "metadata": {},
     "output_type": "execute_result"
    }
   ],
   "source": [
    "nodes.head()"
   ]
  },
  {
   "cell_type": "code",
   "execution_count": 5,
   "metadata": {},
   "outputs": [],
   "source": [
    "edges = pd.read_csv(\"data/merged_edges.tsv\", sep='\\t')"
   ]
  },
  {
   "cell_type": "code",
   "execution_count": 6,
   "metadata": {},
   "outputs": [
    {
     "data": {
      "text/html": [
       "<div>\n",
       "<style scoped>\n",
       "    .dataframe tbody tr th:only-of-type {\n",
       "        vertical-align: middle;\n",
       "    }\n",
       "\n",
       "    .dataframe tbody tr th {\n",
       "        vertical-align: top;\n",
       "    }\n",
       "\n",
       "    .dataframe thead th {\n",
       "        text-align: right;\n",
       "    }\n",
       "</style>\n",
       "<table border=\"1\" class=\"dataframe\">\n",
       "  <thead>\n",
       "    <tr style=\"text-align: right;\">\n",
       "      <th></th>\n",
       "      <th>final_etype</th>\n",
       "      <th>origin</th>\n",
       "      <th>source_fid</th>\n",
       "      <th>source_stype</th>\n",
       "      <th>target_fid</th>\n",
       "      <th>target_stype</th>\n",
       "      <th>source_uid</th>\n",
       "      <th>target_uid</th>\n",
       "    </tr>\n",
       "  </thead>\n",
       "  <tbody>\n",
       "    <tr>\n",
       "      <th>0</th>\n",
       "      <td>REGULATES_CDreg&gt;CD</td>\n",
       "      <td>semmeddb</td>\n",
       "      <td>UMLS:C0000039</td>\n",
       "      <td>Chemicals &amp; Drugs</td>\n",
       "      <td>UMLS:C0001026</td>\n",
       "      <td>Chemicals &amp; Drugs</td>\n",
       "      <td>21154</td>\n",
       "      <td>21356</td>\n",
       "    </tr>\n",
       "    <tr>\n",
       "      <th>1</th>\n",
       "      <td>REGULATES_CDreg&gt;CD</td>\n",
       "      <td>semmeddb</td>\n",
       "      <td>UMLS:C0000167</td>\n",
       "      <td>Chemicals &amp; Drugs</td>\n",
       "      <td>UMLS:C0001026</td>\n",
       "      <td>Chemicals &amp; Drugs</td>\n",
       "      <td>21168</td>\n",
       "      <td>21356</td>\n",
       "    </tr>\n",
       "    <tr>\n",
       "      <th>2</th>\n",
       "      <td>PRODUCES_LBpdCD</td>\n",
       "      <td>semmeddb</td>\n",
       "      <td>UMLS:C0000901</td>\n",
       "      <td>Living Beings</td>\n",
       "      <td>UMLS:C0001026</td>\n",
       "      <td>Chemicals &amp; Drugs</td>\n",
       "      <td>21301</td>\n",
       "      <td>21356</td>\n",
       "    </tr>\n",
       "    <tr>\n",
       "      <th>3</th>\n",
       "      <td>REGULATES_CDreg&gt;CD</td>\n",
       "      <td>semmeddb</td>\n",
       "      <td>UMLS:C0000975</td>\n",
       "      <td>Chemicals &amp; Drugs</td>\n",
       "      <td>UMLS:C0001026</td>\n",
       "      <td>Chemicals &amp; Drugs</td>\n",
       "      <td>21332</td>\n",
       "      <td>21356</td>\n",
       "    </tr>\n",
       "    <tr>\n",
       "      <th>4</th>\n",
       "      <td>REGULATES_CDreg&gt;CD</td>\n",
       "      <td>semmeddb</td>\n",
       "      <td>UMLS:C0000977</td>\n",
       "      <td>Chemicals &amp; Drugs</td>\n",
       "      <td>UMLS:C0001026</td>\n",
       "      <td>Chemicals &amp; Drugs</td>\n",
       "      <td>21333</td>\n",
       "      <td>21356</td>\n",
       "    </tr>\n",
       "  </tbody>\n",
       "</table>\n",
       "</div>"
      ],
      "text/plain": [
       "          final_etype    origin     source_fid       source_stype  \\\n",
       "0  REGULATES_CDreg>CD  semmeddb  UMLS:C0000039  Chemicals & Drugs   \n",
       "1  REGULATES_CDreg>CD  semmeddb  UMLS:C0000167  Chemicals & Drugs   \n",
       "2     PRODUCES_LBpdCD  semmeddb  UMLS:C0000901      Living Beings   \n",
       "3  REGULATES_CDreg>CD  semmeddb  UMLS:C0000975  Chemicals & Drugs   \n",
       "4  REGULATES_CDreg>CD  semmeddb  UMLS:C0000977  Chemicals & Drugs   \n",
       "\n",
       "      target_fid       target_stype  source_uid  target_uid  \n",
       "0  UMLS:C0001026  Chemicals & Drugs       21154       21356  \n",
       "1  UMLS:C0001026  Chemicals & Drugs       21168       21356  \n",
       "2  UMLS:C0001026  Chemicals & Drugs       21301       21356  \n",
       "3  UMLS:C0001026  Chemicals & Drugs       21332       21356  \n",
       "4  UMLS:C0001026  Chemicals & Drugs       21333       21356  "
      ]
     },
     "execution_count": 6,
     "metadata": {},
     "output_type": "execute_result"
    }
   ],
   "source": [
    "edges.head()"
   ]
  },
  {
   "cell_type": "markdown",
   "metadata": {},
   "source": [
    "## How many nodes have no related edges?\n",
    "\n",
    "Are there any nodes in our list of all nodes which have no edges in the given edge list?\n",
    "\n",
    "Remember that the edges at the moment do not have any gold standard relations in them."
   ]
  },
  {
   "cell_type": "code",
   "execution_count": 7,
   "metadata": {},
   "outputs": [],
   "source": [
    "temp = set(edges[\"source_fid\"]) | set(edges[\"target_fid\"])\n",
    "\n",
    "no_edge = set(nodes[\"node_id\"]) - temp"
   ]
  },
  {
   "cell_type": "code",
   "execution_count": 8,
   "metadata": {},
   "outputs": [
    {
     "data": {
      "text/plain": [
       "1768"
      ]
     },
     "execution_count": 8,
     "metadata": {},
     "output_type": "execute_result"
    }
   ],
   "source": [
    "len(no_edge)"
   ]
  },
  {
   "cell_type": "code",
   "execution_count": 9,
   "metadata": {},
   "outputs": [
    {
     "data": {
      "text/plain": [
       "hetionet    1755\n",
       "semmeddb      13\n",
       "Name: origin, dtype: int64"
      ]
     },
     "execution_count": 9,
     "metadata": {},
     "output_type": "execute_result"
    }
   ],
   "source": [
    "nodes.query(\"node_id in @no_edge\")[\"origin\"].value_counts()"
   ]
  },
  {
   "cell_type": "code",
   "execution_count": 10,
   "metadata": {},
   "outputs": [
    {
     "data": {
      "text/plain": [
       "Genes & Molecular Sequences    1742\n",
       "Disorders                        16\n",
       "Chemicals & Drugs                10\n",
       "Name: sem_type, dtype: int64"
      ]
     },
     "execution_count": 10,
     "metadata": {},
     "output_type": "execute_result"
    }
   ],
   "source": [
    "nodes.query(\"node_id in @no_edge\")[\"sem_type\"].value_counts()"
   ]
  },
  {
   "cell_type": "code",
   "execution_count": 11,
   "metadata": {},
   "outputs": [
    {
     "data": {
      "text/html": [
       "<div>\n",
       "<style scoped>\n",
       "    .dataframe tbody tr th:only-of-type {\n",
       "        vertical-align: middle;\n",
       "    }\n",
       "\n",
       "    .dataframe tbody tr th {\n",
       "        vertical-align: top;\n",
       "    }\n",
       "\n",
       "    .dataframe thead th {\n",
       "        text-align: right;\n",
       "    }\n",
       "</style>\n",
       "<table border=\"1\" class=\"dataframe\">\n",
       "  <thead>\n",
       "    <tr style=\"text-align: right;\">\n",
       "      <th></th>\n",
       "      <th>node_uid</th>\n",
       "      <th>name</th>\n",
       "      <th>node_id</th>\n",
       "      <th>origin</th>\n",
       "      <th>sem_type</th>\n",
       "    </tr>\n",
       "  </thead>\n",
       "  <tbody>\n",
       "    <tr>\n",
       "      <th>1</th>\n",
       "      <td>1</td>\n",
       "      <td>DUXB</td>\n",
       "      <td>100033411</td>\n",
       "      <td>hetionet</td>\n",
       "      <td>Genes &amp; Molecular Sequences</td>\n",
       "    </tr>\n",
       "    <tr>\n",
       "      <th>3</th>\n",
       "      <td>3</td>\n",
       "      <td>OCTN3</td>\n",
       "      <td>100049579</td>\n",
       "      <td>hetionet</td>\n",
       "      <td>Genes &amp; Molecular Sequences</td>\n",
       "    </tr>\n",
       "    <tr>\n",
       "      <th>7</th>\n",
       "      <td>7</td>\n",
       "      <td>KIAA1024L</td>\n",
       "      <td>100127206</td>\n",
       "      <td>hetionet</td>\n",
       "      <td>Genes &amp; Molecular Sequences</td>\n",
       "    </tr>\n",
       "    <tr>\n",
       "      <th>9</th>\n",
       "      <td>9</td>\n",
       "      <td>LOC100127971</td>\n",
       "      <td>100127971</td>\n",
       "      <td>hetionet</td>\n",
       "      <td>Genes &amp; Molecular Sequences</td>\n",
       "    </tr>\n",
       "    <tr>\n",
       "      <th>11</th>\n",
       "      <td>11</td>\n",
       "      <td>LOC100127991</td>\n",
       "      <td>100127991</td>\n",
       "      <td>hetionet</td>\n",
       "      <td>Genes &amp; Molecular Sequences</td>\n",
       "    </tr>\n",
       "  </tbody>\n",
       "</table>\n",
       "</div>"
      ],
      "text/plain": [
       "    node_uid          name    node_id    origin                     sem_type\n",
       "1          1          DUXB  100033411  hetionet  Genes & Molecular Sequences\n",
       "3          3         OCTN3  100049579  hetionet  Genes & Molecular Sequences\n",
       "7          7     KIAA1024L  100127206  hetionet  Genes & Molecular Sequences\n",
       "9          9  LOC100127971  100127971  hetionet  Genes & Molecular Sequences\n",
       "11        11  LOC100127991  100127991  hetionet  Genes & Molecular Sequences"
      ]
     },
     "execution_count": 11,
     "metadata": {},
     "output_type": "execute_result"
    }
   ],
   "source": [
    "nodes.query(\"node_id in @no_edge\").head(5)"
   ]
  },
  {
   "cell_type": "markdown",
   "metadata": {},
   "source": [
    "Most of the nodes missing any sort of edges seem to be the more obscure genes from Entrez. These nodes are superfluous for the purposes of building the network since they are unconnected. These nodes should also be missing from hetionet since we just took the network verbatim. These nodes are inflating the original hetionet numbers."
   ]
  },
  {
   "cell_type": "markdown",
   "metadata": {},
   "source": [
    "---"
   ]
  },
  {
   "cell_type": "markdown",
   "metadata": {},
   "source": [
    "## How connected are the nodes?\n",
    "\n",
    "Build out the adjacency list for each node and examine."
   ]
  },
  {
   "cell_type": "code",
   "execution_count": 12,
   "metadata": {},
   "outputs": [],
   "source": [
    "def get_adjlist(edges):\n",
    "    adjlist = defaultdict(set)\n",
    "\n",
    "    for suid, tuid in tqdm(zip(edges[\"source_uid\"], edges[\"target_uid\"]),\n",
    "        total=len(edges)\n",
    "        ):\n",
    "\n",
    "            adjlist[suid].add(tuid)\n",
    "            adjlist[tuid].add(suid)\n",
    "    \n",
    "    return adjlist"
   ]
  },
  {
   "cell_type": "code",
   "execution_count": 13,
   "metadata": {},
   "outputs": [],
   "source": [
    "def get_neighbours(adjlist):\n",
    "    return (pd\n",
    "        .DataFrame(\n",
    "            [(node, len(vals)) for node, vals in adjlist.items()],\n",
    "            columns = [\"node_uid\", \"num_neighbours\"]\n",
    "        )\n",
    "        .assign(log_neighbours = lambda df: np.log10(df[\"num_neighbours\"]))\n",
    "    )"
   ]
  },
  {
   "cell_type": "code",
   "execution_count": 14,
   "metadata": {},
   "outputs": [
    {
     "name": "stderr",
     "output_type": "stream",
     "text": [
      "100%|██████████| 9646780/9646780 [00:11<00:00, 865238.74it/s]\n"
     ]
    }
   ],
   "source": [
    "sem_adj = get_adjlist(edges.query(\"origin == 'semmeddb'\"))"
   ]
  },
  {
   "cell_type": "code",
   "execution_count": 15,
   "metadata": {},
   "outputs": [],
   "source": [
    "neighbours = get_neighbours(sem_adj)"
   ]
  },
  {
   "cell_type": "code",
   "execution_count": 16,
   "metadata": {},
   "outputs": [
    {
     "data": {
      "text/plain": [
       "Text(0,0.5,'Number of nodes')"
      ]
     },
     "execution_count": 16,
     "metadata": {},
     "output_type": "execute_result"
    },
    {
     "data": {
      "image/png": "[encoded data removed]",
      "text/plain": [
       "<matplotlib.figure.Figure at 0x7f6c7db3ea20>"
      ]
     },
     "metadata": {},
     "output_type": "display_data"
    }
   ],
   "source": [
    "ax = sns.distplot(neighbours[\"log_neighbours\"], bins=100, kde=False)\n",
    "ax.set_title(\"Log10 of number of neighbours of semmeddb nodes only\")\n",
    "ax.set_xlabel(\"log10 of number of neighbours\")\n",
    "ax.set_ylabel(\"Number of nodes\")"
   ]
  },
  {
   "cell_type": "code",
   "execution_count": 17,
   "metadata": {},
   "outputs": [
    {
     "data": {
      "text/plain": [
       "Text(0,0.5,'Total probability')"
      ]
     },
     "execution_count": 17,
     "metadata": {},
     "output_type": "execute_result"
    },
    {
     "data": {
      "image/png": "[encoded data removed]",
      "text/plain": [
       "<matplotlib.figure.Figure at 0x7f6c7da639e8>"
      ]
     },
     "metadata": {},
     "output_type": "display_data"
    }
   ],
   "source": [
    "ax = neighbours[\"log_neighbours\"].hist(\n",
    "    cumulative=True, bins=100, density=True\n",
    ")\n",
    "\n",
    "ax.set_title(\"CDF of neighbour count for semmeddb only\")\n",
    "ax.set_xlabel(\"Log10 of number of neighbours\")\n",
    "ax.set_ylabel(\"Total probability\")"
   ]
  },
  {
   "cell_type": "code",
   "execution_count": 18,
   "metadata": {},
   "outputs": [
    {
     "data": {
      "text/plain": [
       "5.0"
      ]
     },
     "execution_count": 18,
     "metadata": {},
     "output_type": "execute_result"
    }
   ],
   "source": [
    "neighbours[\"num_neighbours\"].median()"
   ]
  },
  {
   "cell_type": "markdown",
   "metadata": {},
   "source": [
    "The median number of neighbours per node is 5, and roughly 60% of all nodes have <= 10 neighbours. The network seems to have a vast majority of sparsely connected nodes with some extremely well connected hubs."
   ]
  },
  {
   "cell_type": "markdown",
   "metadata": {},
   "source": [
    "---"
   ]
  },
  {
   "cell_type": "markdown",
   "metadata": {},
   "source": [
    "## Label the nodes and examine based on semantic type groupings"
   ]
  },
  {
   "cell_type": "code",
   "execution_count": 19,
   "metadata": {},
   "outputs": [],
   "source": [
    "sem_neigh = (neighbours\n",
    "    .merge(nodes, how=\"inner\", on=\"node_uid\")\n",
    ")"
   ]
  },
  {
   "cell_type": "code",
   "execution_count": 20,
   "metadata": {},
   "outputs": [
    {
     "data": {
      "text/html": [
       "<div>\n",
       "<style scoped>\n",
       "    .dataframe tbody tr th:only-of-type {\n",
       "        vertical-align: middle;\n",
       "    }\n",
       "\n",
       "    .dataframe tbody tr th {\n",
       "        vertical-align: top;\n",
       "    }\n",
       "\n",
       "    .dataframe thead th {\n",
       "        text-align: right;\n",
       "    }\n",
       "</style>\n",
       "<table border=\"1\" class=\"dataframe\">\n",
       "  <thead>\n",
       "    <tr style=\"text-align: right;\">\n",
       "      <th></th>\n",
       "      <th>node_uid</th>\n",
       "      <th>num_neighbours</th>\n",
       "      <th>log_neighbours</th>\n",
       "      <th>name</th>\n",
       "      <th>node_id</th>\n",
       "      <th>origin</th>\n",
       "      <th>sem_type</th>\n",
       "    </tr>\n",
       "  </thead>\n",
       "  <tbody>\n",
       "    <tr>\n",
       "      <th>0</th>\n",
       "      <td>21154</td>\n",
       "      <td>271</td>\n",
       "      <td>2.432969</td>\n",
       "      <td>1,2-Dipalmitoylphosphatidylcholine</td>\n",
       "      <td>UMLS:C0000039</td>\n",
       "      <td>semmeddb</td>\n",
       "      <td>Chemicals &amp; Drugs</td>\n",
       "    </tr>\n",
       "    <tr>\n",
       "      <th>1</th>\n",
       "      <td>21155</td>\n",
       "      <td>58</td>\n",
       "      <td>1.763428</td>\n",
       "      <td>1,4-alpha-Glucan Branching Enzyme</td>\n",
       "      <td>UMLS:C0000052</td>\n",
       "      <td>semmeddb</td>\n",
       "      <td>Chemicals &amp; Drugs</td>\n",
       "    </tr>\n",
       "    <tr>\n",
       "      <th>2</th>\n",
       "      <td>21156</td>\n",
       "      <td>95</td>\n",
       "      <td>1.977724</td>\n",
       "      <td>1-Carboxyglutamic Acid</td>\n",
       "      <td>UMLS:C0000084</td>\n",
       "      <td>semmeddb</td>\n",
       "      <td>Chemicals &amp; Drugs</td>\n",
       "    </tr>\n",
       "    <tr>\n",
       "      <th>3</th>\n",
       "      <td>21157</td>\n",
       "      <td>608</td>\n",
       "      <td>2.783904</td>\n",
       "      <td>1-Methyl-3-isobutylxanthine</td>\n",
       "      <td>UMLS:C0000096</td>\n",
       "      <td>semmeddb</td>\n",
       "      <td>Chemicals &amp; Drugs</td>\n",
       "    </tr>\n",
       "    <tr>\n",
       "      <th>4</th>\n",
       "      <td>21158</td>\n",
       "      <td>556</td>\n",
       "      <td>2.745075</td>\n",
       "      <td>1-Methyl-4-phenyl-1,2,3,6-tetrahydropyridine</td>\n",
       "      <td>UMLS:C0000097</td>\n",
       "      <td>semmeddb</td>\n",
       "      <td>Chemicals &amp; Drugs</td>\n",
       "    </tr>\n",
       "  </tbody>\n",
       "</table>\n",
       "</div>"
      ],
      "text/plain": [
       "   node_uid  num_neighbours  log_neighbours  \\\n",
       "0     21154             271        2.432969   \n",
       "1     21155              58        1.763428   \n",
       "2     21156              95        1.977724   \n",
       "3     21157             608        2.783904   \n",
       "4     21158             556        2.745075   \n",
       "\n",
       "                                           name        node_id    origin  \\\n",
       "0            1,2-Dipalmitoylphosphatidylcholine  UMLS:C0000039  semmeddb   \n",
       "1             1,4-alpha-Glucan Branching Enzyme  UMLS:C0000052  semmeddb   \n",
       "2                        1-Carboxyglutamic Acid  UMLS:C0000084  semmeddb   \n",
       "3                   1-Methyl-3-isobutylxanthine  UMLS:C0000096  semmeddb   \n",
       "4  1-Methyl-4-phenyl-1,2,3,6-tetrahydropyridine  UMLS:C0000097  semmeddb   \n",
       "\n",
       "            sem_type  \n",
       "0  Chemicals & Drugs  \n",
       "1  Chemicals & Drugs  \n",
       "2  Chemicals & Drugs  \n",
       "3  Chemicals & Drugs  \n",
       "4  Chemicals & Drugs  "
      ]
     },
     "execution_count": 20,
     "metadata": {},
     "output_type": "execute_result"
    }
   ],
   "source": [
    "sem_neigh.head()"
   ]
  },
  {
   "cell_type": "code",
   "execution_count": 21,
   "metadata": {},
   "outputs": [
    {
     "data": {
      "text/plain": [
       "Text(0,0.5,'Node semantic type')"
      ]
     },
     "execution_count": 21,
     "metadata": {},
     "output_type": "execute_result"
    },
    {
     "data": {
      "image/png": "[encoded data removed]",
      "text/plain": [
       "<matplotlib.figure.Figure at 0x7f6c7d9eb390>"
      ]
     },
     "metadata": {},
     "output_type": "display_data"
    }
   ],
   "source": [
    "plt.figure(figsize=(8, 6))\n",
    "\n",
    "ax = sns.boxplot(data=sem_neigh, y=\"sem_type\", x=\"log_neighbours\")\n",
    "ax.set_title(\"Semmeddb log10 neighbours by semantic type\")\n",
    "ax.set_xlabel(\"Log10 of neighbours\")\n",
    "ax.set_ylabel(\"Node semantic type\")"
   ]
  },
  {
   "cell_type": "markdown",
   "metadata": {},
   "source": [
    "## What are the top connected nodes from each category?"
   ]
  },
  {
   "cell_type": "code",
   "execution_count": 22,
   "metadata": {
    "scrolled": true
   },
   "outputs": [
    {
     "data": {
      "text/html": [
       "<div>\n",
       "<style scoped>\n",
       "    .dataframe tbody tr th:only-of-type {\n",
       "        vertical-align: middle;\n",
       "    }\n",
       "\n",
       "    .dataframe tbody tr th {\n",
       "        vertical-align: top;\n",
       "    }\n",
       "\n",
       "    .dataframe thead th {\n",
       "        text-align: right;\n",
       "    }\n",
       "</style>\n",
       "<table border=\"1\" class=\"dataframe\">\n",
       "  <thead>\n",
       "    <tr style=\"text-align: right;\">\n",
       "      <th></th>\n",
       "      <th>num_neighbours</th>\n",
       "      <th>log_neighbours</th>\n",
       "      <th>name</th>\n",
       "      <th>node_id</th>\n",
       "      <th>sem_type</th>\n",
       "    </tr>\n",
       "  </thead>\n",
       "  <tbody>\n",
       "    <tr>\n",
       "      <th>0</th>\n",
       "      <td>22824</td>\n",
       "      <td>4.358392</td>\n",
       "      <td>Brain</td>\n",
       "      <td>UMLS:C0006104</td>\n",
       "      <td>Anatomy</td>\n",
       "    </tr>\n",
       "    <tr>\n",
       "      <th>1</th>\n",
       "      <td>21397</td>\n",
       "      <td>4.330353</td>\n",
       "      <td>Liver</td>\n",
       "      <td>UMLS:C0023884</td>\n",
       "      <td>Anatomy</td>\n",
       "    </tr>\n",
       "    <tr>\n",
       "      <th>2</th>\n",
       "      <td>15566</td>\n",
       "      <td>4.192177</td>\n",
       "      <td>Blood</td>\n",
       "      <td>UMLS:C0005767</td>\n",
       "      <td>Anatomy</td>\n",
       "    </tr>\n",
       "    <tr>\n",
       "      <th>3</th>\n",
       "      <td>15278</td>\n",
       "      <td>4.184067</td>\n",
       "      <td>Lung</td>\n",
       "      <td>UMLS:C0024109</td>\n",
       "      <td>Anatomy</td>\n",
       "    </tr>\n",
       "    <tr>\n",
       "      <th>4</th>\n",
       "      <td>14181</td>\n",
       "      <td>4.151707</td>\n",
       "      <td>Neurons</td>\n",
       "      <td>UMLS:C0027882</td>\n",
       "      <td>Anatomy</td>\n",
       "    </tr>\n",
       "    <tr>\n",
       "      <th>5</th>\n",
       "      <td>13906</td>\n",
       "      <td>4.143202</td>\n",
       "      <td>Serum</td>\n",
       "      <td>UMLS:C0229671</td>\n",
       "      <td>Anatomy</td>\n",
       "    </tr>\n",
       "    <tr>\n",
       "      <th>6</th>\n",
       "      <td>13899</td>\n",
       "      <td>4.142984</td>\n",
       "      <td>Heart</td>\n",
       "      <td>UMLS:C0018787</td>\n",
       "      <td>Anatomy</td>\n",
       "    </tr>\n",
       "    <tr>\n",
       "      <th>7</th>\n",
       "      <td>13899</td>\n",
       "      <td>4.142984</td>\n",
       "      <td>Plasma</td>\n",
       "      <td>UMLS:C0032105</td>\n",
       "      <td>Anatomy</td>\n",
       "    </tr>\n",
       "    <tr>\n",
       "      <th>8</th>\n",
       "      <td>13646</td>\n",
       "      <td>4.135005</td>\n",
       "      <td>Kidney</td>\n",
       "      <td>UMLS:C0022646</td>\n",
       "      <td>Anatomy</td>\n",
       "    </tr>\n",
       "    <tr>\n",
       "      <th>9</th>\n",
       "      <td>13040</td>\n",
       "      <td>4.115278</td>\n",
       "      <td>Membrane</td>\n",
       "      <td>UMLS:C0596901</td>\n",
       "      <td>Anatomy</td>\n",
       "    </tr>\n",
       "    <tr>\n",
       "      <th>10</th>\n",
       "      <td>13644</td>\n",
       "      <td>4.134942</td>\n",
       "      <td>DNA</td>\n",
       "      <td>UMLS:C0012854</td>\n",
       "      <td>Chemicals &amp; Drugs</td>\n",
       "    </tr>\n",
       "    <tr>\n",
       "      <th>11</th>\n",
       "      <td>11511</td>\n",
       "      <td>4.061113</td>\n",
       "      <td>Amino Acids</td>\n",
       "      <td>UMLS:C0002520</td>\n",
       "      <td>Chemicals &amp; Drugs</td>\n",
       "    </tr>\n",
       "    <tr>\n",
       "      <th>12</th>\n",
       "      <td>10643</td>\n",
       "      <td>4.027064</td>\n",
       "      <td>RNA</td>\n",
       "      <td>UMLS:C0035668</td>\n",
       "      <td>Chemicals &amp; Drugs</td>\n",
       "    </tr>\n",
       "    <tr>\n",
       "      <th>13</th>\n",
       "      <td>10400</td>\n",
       "      <td>4.017033</td>\n",
       "      <td>RNA, Messenger</td>\n",
       "      <td>UMLS:C0035696</td>\n",
       "      <td>Chemicals &amp; Drugs</td>\n",
       "    </tr>\n",
       "    <tr>\n",
       "      <th>14</th>\n",
       "      <td>10305</td>\n",
       "      <td>4.013048</td>\n",
       "      <td>Antigens</td>\n",
       "      <td>UMLS:C0003320</td>\n",
       "      <td>Chemicals &amp; Drugs</td>\n",
       "    </tr>\n",
       "    <tr>\n",
       "      <th>15</th>\n",
       "      <td>9175</td>\n",
       "      <td>3.962606</td>\n",
       "      <td>Glucose</td>\n",
       "      <td>UMLS:C0017725</td>\n",
       "      <td>Chemicals &amp; Drugs</td>\n",
       "    </tr>\n",
       "    <tr>\n",
       "      <th>16</th>\n",
       "      <td>9103</td>\n",
       "      <td>3.959185</td>\n",
       "      <td>receptor</td>\n",
       "      <td>UMLS:C0597357</td>\n",
       "      <td>Chemicals &amp; Drugs</td>\n",
       "    </tr>\n",
       "    <tr>\n",
       "      <th>17</th>\n",
       "      <td>8315</td>\n",
       "      <td>3.919862</td>\n",
       "      <td>cytokine</td>\n",
       "      <td>UMLS:C0079189</td>\n",
       "      <td>Chemicals &amp; Drugs</td>\n",
       "    </tr>\n",
       "    <tr>\n",
       "      <th>18</th>\n",
       "      <td>8154</td>\n",
       "      <td>3.911371</td>\n",
       "      <td>Calcium</td>\n",
       "      <td>UMLS:C0006675</td>\n",
       "      <td>Chemicals &amp; Drugs</td>\n",
       "    </tr>\n",
       "    <tr>\n",
       "      <th>19</th>\n",
       "      <td>8094</td>\n",
       "      <td>3.908163</td>\n",
       "      <td>Nitric Oxide</td>\n",
       "      <td>UMLS:C0028128</td>\n",
       "      <td>Chemicals &amp; Drugs</td>\n",
       "    </tr>\n",
       "    <tr>\n",
       "      <th>20</th>\n",
       "      <td>15660</td>\n",
       "      <td>4.194792</td>\n",
       "      <td>Neoplasm</td>\n",
       "      <td>UMLS:C0027651</td>\n",
       "      <td>Disorders</td>\n",
       "    </tr>\n",
       "    <tr>\n",
       "      <th>21</th>\n",
       "      <td>11485</td>\n",
       "      <td>4.060131</td>\n",
       "      <td>Lesion</td>\n",
       "      <td>UMLS:C0221198</td>\n",
       "      <td>Disorders</td>\n",
       "    </tr>\n",
       "    <tr>\n",
       "      <th>22</th>\n",
       "      <td>11360</td>\n",
       "      <td>4.055378</td>\n",
       "      <td>Pathogenesis</td>\n",
       "      <td>UMLS:C0699748</td>\n",
       "      <td>Disorders</td>\n",
       "    </tr>\n",
       "    <tr>\n",
       "      <th>23</th>\n",
       "      <td>8401</td>\n",
       "      <td>3.924331</td>\n",
       "      <td>hematologic cancer</td>\n",
       "      <td>UMLS:C0376544</td>\n",
       "      <td>Disorders</td>\n",
       "    </tr>\n",
       "    <tr>\n",
       "      <th>24</th>\n",
       "      <td>8020</td>\n",
       "      <td>3.904174</td>\n",
       "      <td>Inflammation</td>\n",
       "      <td>UMLS:C0021368</td>\n",
       "      <td>Disorders</td>\n",
       "    </tr>\n",
       "    <tr>\n",
       "      <th>25</th>\n",
       "      <td>6939</td>\n",
       "      <td>3.841297</td>\n",
       "      <td>breast cancer</td>\n",
       "      <td>UMLS:C1458155</td>\n",
       "      <td>Disorders</td>\n",
       "    </tr>\n",
       "    <tr>\n",
       "      <th>26</th>\n",
       "      <td>6545</td>\n",
       "      <td>3.815910</td>\n",
       "      <td>Congenital Abnormality</td>\n",
       "      <td>UMLS:C0000768</td>\n",
       "      <td>Disorders</td>\n",
       "    </tr>\n",
       "    <tr>\n",
       "      <th>27</th>\n",
       "      <td>6521</td>\n",
       "      <td>3.814314</td>\n",
       "      <td>hypertension</td>\n",
       "      <td>UMLS:C0020538</td>\n",
       "      <td>Disorders</td>\n",
       "    </tr>\n",
       "    <tr>\n",
       "      <th>28</th>\n",
       "      <td>6014</td>\n",
       "      <td>3.779163</td>\n",
       "      <td>obesity</td>\n",
       "      <td>UMLS:C0028754</td>\n",
       "      <td>Disorders</td>\n",
       "    </tr>\n",
       "    <tr>\n",
       "      <th>29</th>\n",
       "      <td>5837</td>\n",
       "      <td>3.766190</td>\n",
       "      <td>Diabetes</td>\n",
       "      <td>UMLS:C0011847</td>\n",
       "      <td>Disorders</td>\n",
       "    </tr>\n",
       "    <tr>\n",
       "      <th>...</th>\n",
       "      <td>...</td>\n",
       "      <td>...</td>\n",
       "      <td>...</td>\n",
       "      <td>...</td>\n",
       "      <td>...</td>\n",
       "    </tr>\n",
       "    <tr>\n",
       "      <th>40</th>\n",
       "      <td>36485</td>\n",
       "      <td>4.562114</td>\n",
       "      <td>Rattus norvegicus</td>\n",
       "      <td>UMLS:C0034693</td>\n",
       "      <td>Living Beings</td>\n",
       "    </tr>\n",
       "    <tr>\n",
       "      <th>41</th>\n",
       "      <td>18004</td>\n",
       "      <td>4.255369</td>\n",
       "      <td>Canis familiaris</td>\n",
       "      <td>UMLS:C0012984</td>\n",
       "      <td>Living Beings</td>\n",
       "    </tr>\n",
       "    <tr>\n",
       "      <th>42</th>\n",
       "      <td>15440</td>\n",
       "      <td>4.188647</td>\n",
       "      <td>Oryctolagus cuniculus</td>\n",
       "      <td>UMLS:C0034493</td>\n",
       "      <td>Living Beings</td>\n",
       "    </tr>\n",
       "    <tr>\n",
       "      <th>43</th>\n",
       "      <td>12772</td>\n",
       "      <td>4.106259</td>\n",
       "      <td>Escherichia coli</td>\n",
       "      <td>UMLS:C0014834</td>\n",
       "      <td>Living Beings</td>\n",
       "    </tr>\n",
       "    <tr>\n",
       "      <th>44</th>\n",
       "      <td>12496</td>\n",
       "      <td>4.096771</td>\n",
       "      <td>Infant, Newborn</td>\n",
       "      <td>UMLS:C0021289</td>\n",
       "      <td>Living Beings</td>\n",
       "    </tr>\n",
       "    <tr>\n",
       "      <th>45</th>\n",
       "      <td>11609</td>\n",
       "      <td>4.064795</td>\n",
       "      <td>Plants</td>\n",
       "      <td>UMLS:C0032098</td>\n",
       "      <td>Living Beings</td>\n",
       "    </tr>\n",
       "    <tr>\n",
       "      <th>46</th>\n",
       "      <td>11407</td>\n",
       "      <td>4.057171</td>\n",
       "      <td>Boys</td>\n",
       "      <td>UMLS:C0870221</td>\n",
       "      <td>Living Beings</td>\n",
       "    </tr>\n",
       "    <tr>\n",
       "      <th>47</th>\n",
       "      <td>11381</td>\n",
       "      <td>4.056180</td>\n",
       "      <td>Family suidae</td>\n",
       "      <td>UMLS:C0039005</td>\n",
       "      <td>Living Beings</td>\n",
       "    </tr>\n",
       "    <tr>\n",
       "      <th>48</th>\n",
       "      <td>11370</td>\n",
       "      <td>4.055760</td>\n",
       "      <td>Bacteria</td>\n",
       "      <td>UMLS:C0004611</td>\n",
       "      <td>Living Beings</td>\n",
       "    </tr>\n",
       "    <tr>\n",
       "      <th>49</th>\n",
       "      <td>11237</td>\n",
       "      <td>4.050650</td>\n",
       "      <td>Girls</td>\n",
       "      <td>UMLS:C0870604</td>\n",
       "      <td>Living Beings</td>\n",
       "    </tr>\n",
       "    <tr>\n",
       "      <th>50</th>\n",
       "      <td>7057</td>\n",
       "      <td>3.848620</td>\n",
       "      <td>Homeostasis</td>\n",
       "      <td>UMLS:C0019868</td>\n",
       "      <td>Phenomena</td>\n",
       "    </tr>\n",
       "    <tr>\n",
       "      <th>51</th>\n",
       "      <td>5374</td>\n",
       "      <td>3.730298</td>\n",
       "      <td>Permeability</td>\n",
       "      <td>UMLS:C0031164</td>\n",
       "      <td>Phenomena</td>\n",
       "    </tr>\n",
       "    <tr>\n",
       "      <th>52</th>\n",
       "      <td>4721</td>\n",
       "      <td>3.674034</td>\n",
       "      <td>Hydrolysis</td>\n",
       "      <td>UMLS:C0020291</td>\n",
       "      <td>Phenomena</td>\n",
       "    </tr>\n",
       "    <tr>\n",
       "      <th>53</th>\n",
       "      <td>3316</td>\n",
       "      <td>3.520615</td>\n",
       "      <td>Biological function, NOS</td>\n",
       "      <td>UMLS:C0277784</td>\n",
       "      <td>Phenomena</td>\n",
       "    </tr>\n",
       "    <tr>\n",
       "      <th>54</th>\n",
       "      <td>3106</td>\n",
       "      <td>3.492201</td>\n",
       "      <td>Fluorescence</td>\n",
       "      <td>UMLS:C0016315</td>\n",
       "      <td>Phenomena</td>\n",
       "    </tr>\n",
       "    <tr>\n",
       "      <th>55</th>\n",
       "      <td>2907</td>\n",
       "      <td>3.463445</td>\n",
       "      <td>Radiation</td>\n",
       "      <td>UMLS:C0851346</td>\n",
       "      <td>Phenomena</td>\n",
       "    </tr>\n",
       "    <tr>\n",
       "      <th>56</th>\n",
       "      <td>2748</td>\n",
       "      <td>3.439017</td>\n",
       "      <td>Adaptation</td>\n",
       "      <td>UMLS:C0392673</td>\n",
       "      <td>Phenomena</td>\n",
       "    </tr>\n",
       "    <tr>\n",
       "      <th>57</th>\n",
       "      <td>2721</td>\n",
       "      <td>3.434729</td>\n",
       "      <td>Anabolism</td>\n",
       "      <td>UMLS:C0220781</td>\n",
       "      <td>Phenomena</td>\n",
       "    </tr>\n",
       "    <tr>\n",
       "      <th>58</th>\n",
       "      <td>2641</td>\n",
       "      <td>3.421768</td>\n",
       "      <td>Energy, Physics</td>\n",
       "      <td>UMLS:C0542479</td>\n",
       "      <td>Phenomena</td>\n",
       "    </tr>\n",
       "    <tr>\n",
       "      <th>59</th>\n",
       "      <td>2507</td>\n",
       "      <td>3.399154</td>\n",
       "      <td>Antibody Formation</td>\n",
       "      <td>UMLS:C0003261</td>\n",
       "      <td>Phenomena</td>\n",
       "    </tr>\n",
       "    <tr>\n",
       "      <th>60</th>\n",
       "      <td>16810</td>\n",
       "      <td>4.225568</td>\n",
       "      <td>Apoptosis</td>\n",
       "      <td>UMLS:C0162638</td>\n",
       "      <td>Physiology</td>\n",
       "    </tr>\n",
       "    <tr>\n",
       "      <th>61</th>\n",
       "      <td>11234</td>\n",
       "      <td>4.050534</td>\n",
       "      <td>Cell Proliferation</td>\n",
       "      <td>UMLS:C0596290</td>\n",
       "      <td>Physiology</td>\n",
       "    </tr>\n",
       "    <tr>\n",
       "      <th>62</th>\n",
       "      <td>9469</td>\n",
       "      <td>3.976304</td>\n",
       "      <td>Cessation of life</td>\n",
       "      <td>UMLS:C0011065</td>\n",
       "      <td>Physiology</td>\n",
       "    </tr>\n",
       "    <tr>\n",
       "      <th>63</th>\n",
       "      <td>9380</td>\n",
       "      <td>3.972203</td>\n",
       "      <td>Mutation</td>\n",
       "      <td>UMLS:C0026882</td>\n",
       "      <td>Physiology</td>\n",
       "    </tr>\n",
       "    <tr>\n",
       "      <th>64</th>\n",
       "      <td>9007</td>\n",
       "      <td>3.954580</td>\n",
       "      <td>Cell Death</td>\n",
       "      <td>UMLS:C0007587</td>\n",
       "      <td>Physiology</td>\n",
       "    </tr>\n",
       "    <tr>\n",
       "      <th>65</th>\n",
       "      <td>8841</td>\n",
       "      <td>3.946501</td>\n",
       "      <td>Phosphorylation</td>\n",
       "      <td>UMLS:C0031715</td>\n",
       "      <td>Physiology</td>\n",
       "    </tr>\n",
       "    <tr>\n",
       "      <th>66</th>\n",
       "      <td>8295</td>\n",
       "      <td>3.918816</td>\n",
       "      <td>Signal Transduction</td>\n",
       "      <td>UMLS:C0037083</td>\n",
       "      <td>Physiology</td>\n",
       "    </tr>\n",
       "    <tr>\n",
       "      <th>67</th>\n",
       "      <td>8272</td>\n",
       "      <td>3.917611</td>\n",
       "      <td>Drug Interactions</td>\n",
       "      <td>UMLS:C0687133</td>\n",
       "      <td>Physiology</td>\n",
       "    </tr>\n",
       "    <tr>\n",
       "      <th>68</th>\n",
       "      <td>7937</td>\n",
       "      <td>3.899656</td>\n",
       "      <td>Cell Growth</td>\n",
       "      <td>UMLS:C0007595</td>\n",
       "      <td>Physiology</td>\n",
       "    </tr>\n",
       "    <tr>\n",
       "      <th>69</th>\n",
       "      <td>7426</td>\n",
       "      <td>3.870755</td>\n",
       "      <td>Gene Expression</td>\n",
       "      <td>UMLS:C0017262</td>\n",
       "      <td>Physiology</td>\n",
       "    </tr>\n",
       "  </tbody>\n",
       "</table>\n",
       "<p>70 rows × 5 columns</p>\n",
       "</div>"
      ],
      "text/plain": [
       "    num_neighbours  log_neighbours                      name        node_id  \\\n",
       "0            22824        4.358392                     Brain  UMLS:C0006104   \n",
       "1            21397        4.330353                     Liver  UMLS:C0023884   \n",
       "2            15566        4.192177                     Blood  UMLS:C0005767   \n",
       "3            15278        4.184067                      Lung  UMLS:C0024109   \n",
       "4            14181        4.151707                   Neurons  UMLS:C0027882   \n",
       "5            13906        4.143202                     Serum  UMLS:C0229671   \n",
       "6            13899        4.142984                     Heart  UMLS:C0018787   \n",
       "7            13899        4.142984                    Plasma  UMLS:C0032105   \n",
       "8            13646        4.135005                    Kidney  UMLS:C0022646   \n",
       "9            13040        4.115278                  Membrane  UMLS:C0596901   \n",
       "10           13644        4.134942                       DNA  UMLS:C0012854   \n",
       "11           11511        4.061113               Amino Acids  UMLS:C0002520   \n",
       "12           10643        4.027064                       RNA  UMLS:C0035668   \n",
       "13           10400        4.017033            RNA, Messenger  UMLS:C0035696   \n",
       "14           10305        4.013048                  Antigens  UMLS:C0003320   \n",
       "15            9175        3.962606                   Glucose  UMLS:C0017725   \n",
       "16            9103        3.959185                  receptor  UMLS:C0597357   \n",
       "17            8315        3.919862                  cytokine  UMLS:C0079189   \n",
       "18            8154        3.911371                   Calcium  UMLS:C0006675   \n",
       "19            8094        3.908163              Nitric Oxide  UMLS:C0028128   \n",
       "20           15660        4.194792                  Neoplasm  UMLS:C0027651   \n",
       "21           11485        4.060131                    Lesion  UMLS:C0221198   \n",
       "22           11360        4.055378              Pathogenesis  UMLS:C0699748   \n",
       "23            8401        3.924331        hematologic cancer  UMLS:C0376544   \n",
       "24            8020        3.904174              Inflammation  UMLS:C0021368   \n",
       "25            6939        3.841297             breast cancer  UMLS:C1458155   \n",
       "26            6545        3.815910    Congenital Abnormality  UMLS:C0000768   \n",
       "27            6521        3.814314              hypertension  UMLS:C0020538   \n",
       "28            6014        3.779163                   obesity  UMLS:C0028754   \n",
       "29            5837        3.766190                  Diabetes  UMLS:C0011847   \n",
       "..             ...             ...                       ...            ...   \n",
       "40           36485        4.562114         Rattus norvegicus  UMLS:C0034693   \n",
       "41           18004        4.255369          Canis familiaris  UMLS:C0012984   \n",
       "42           15440        4.188647     Oryctolagus cuniculus  UMLS:C0034493   \n",
       "43           12772        4.106259          Escherichia coli  UMLS:C0014834   \n",
       "44           12496        4.096771           Infant, Newborn  UMLS:C0021289   \n",
       "45           11609        4.064795                    Plants  UMLS:C0032098   \n",
       "46           11407        4.057171                      Boys  UMLS:C0870221   \n",
       "47           11381        4.056180             Family suidae  UMLS:C0039005   \n",
       "48           11370        4.055760                  Bacteria  UMLS:C0004611   \n",
       "49           11237        4.050650                     Girls  UMLS:C0870604   \n",
       "50            7057        3.848620               Homeostasis  UMLS:C0019868   \n",
       "51            5374        3.730298              Permeability  UMLS:C0031164   \n",
       "52            4721        3.674034                Hydrolysis  UMLS:C0020291   \n",
       "53            3316        3.520615  Biological function, NOS  UMLS:C0277784   \n",
       "54            3106        3.492201              Fluorescence  UMLS:C0016315   \n",
       "55            2907        3.463445                 Radiation  UMLS:C0851346   \n",
       "56            2748        3.439017                Adaptation  UMLS:C0392673   \n",
       "57            2721        3.434729                 Anabolism  UMLS:C0220781   \n",
       "58            2641        3.421768           Energy, Physics  UMLS:C0542479   \n",
       "59            2507        3.399154        Antibody Formation  UMLS:C0003261   \n",
       "60           16810        4.225568                 Apoptosis  UMLS:C0162638   \n",
       "61           11234        4.050534        Cell Proliferation  UMLS:C0596290   \n",
       "62            9469        3.976304         Cessation of life  UMLS:C0011065   \n",
       "63            9380        3.972203                  Mutation  UMLS:C0026882   \n",
       "64            9007        3.954580                Cell Death  UMLS:C0007587   \n",
       "65            8841        3.946501           Phosphorylation  UMLS:C0031715   \n",
       "66            8295        3.918816       Signal Transduction  UMLS:C0037083   \n",
       "67            8272        3.917611         Drug Interactions  UMLS:C0687133   \n",
       "68            7937        3.899656               Cell Growth  UMLS:C0007595   \n",
       "69            7426        3.870755           Gene Expression  UMLS:C0017262   \n",
       "\n",
       "             sem_type  \n",
       "0             Anatomy  \n",
       "1             Anatomy  \n",
       "2             Anatomy  \n",
       "3             Anatomy  \n",
       "4             Anatomy  \n",
       "5             Anatomy  \n",
       "6             Anatomy  \n",
       "7             Anatomy  \n",
       "8             Anatomy  \n",
       "9             Anatomy  \n",
       "10  Chemicals & Drugs  \n",
       "11  Chemicals & Drugs  \n",
       "12  Chemicals & Drugs  \n",
       "13  Chemicals & Drugs  \n",
       "14  Chemicals & Drugs  \n",
       "15  Chemicals & Drugs  \n",
       "16  Chemicals & Drugs  \n",
       "17  Chemicals & Drugs  \n",
       "18  Chemicals & Drugs  \n",
       "19  Chemicals & Drugs  \n",
       "20          Disorders  \n",
       "21          Disorders  \n",
       "22          Disorders  \n",
       "23          Disorders  \n",
       "24          Disorders  \n",
       "25          Disorders  \n",
       "26          Disorders  \n",
       "27          Disorders  \n",
       "28          Disorders  \n",
       "29          Disorders  \n",
       "..                ...  \n",
       "40      Living Beings  \n",
       "41      Living Beings  \n",
       "42      Living Beings  \n",
       "43      Living Beings  \n",
       "44      Living Beings  \n",
       "45      Living Beings  \n",
       "46      Living Beings  \n",
       "47      Living Beings  \n",
       "48      Living Beings  \n",
       "49      Living Beings  \n",
       "50          Phenomena  \n",
       "51          Phenomena  \n",
       "52          Phenomena  \n",
       "53          Phenomena  \n",
       "54          Phenomena  \n",
       "55          Phenomena  \n",
       "56          Phenomena  \n",
       "57          Phenomena  \n",
       "58          Phenomena  \n",
       "59          Phenomena  \n",
       "60         Physiology  \n",
       "61         Physiology  \n",
       "62         Physiology  \n",
       "63         Physiology  \n",
       "64         Physiology  \n",
       "65         Physiology  \n",
       "66         Physiology  \n",
       "67         Physiology  \n",
       "68         Physiology  \n",
       "69         Physiology  \n",
       "\n",
       "[70 rows x 5 columns]"
      ]
     },
     "execution_count": 22,
     "metadata": {},
     "output_type": "execute_result"
    }
   ],
   "source": [
    "(sem_neigh\n",
    "    .drop([\"origin\", \"node_uid\"], axis=1)\n",
    "    .sort_values(\"num_neighbours\", ascending=False)\n",
    "    .groupby(\"sem_type\")\n",
    "    .head(10)\n",
    "    .sort_values([\"sem_type\", \"num_neighbours\"], ascending=[True, False])\n",
    "    .reset_index(drop=True)\n",
    ")"
   ]
  },
  {
   "cell_type": "markdown",
   "metadata": {},
   "source": [
    "mostly your standard generic concepts at the top of the connectivity tree. not super informative so far."
   ]
  },
  {
   "cell_type": "markdown",
   "metadata": {},
   "source": [
    "---"
   ]
  },
  {
   "cell_type": "markdown",
   "metadata": {},
   "source": [
    "## Compare networks when we add in hetionet edges"
   ]
  },
  {
   "cell_type": "code",
   "execution_count": 23,
   "metadata": {},
   "outputs": [
    {
     "name": "stderr",
     "output_type": "stream",
     "text": [
      "100%|██████████| 12294467/12294467 [00:15<00:00, 793297.60it/s]\n"
     ]
    }
   ],
   "source": [
    "all_adj = get_adjlist(edges)"
   ]
  },
  {
   "cell_type": "code",
   "execution_count": 24,
   "metadata": {},
   "outputs": [],
   "source": [
    "all_neigh = get_neighbours(all_adj)"
   ]
  },
  {
   "cell_type": "code",
   "execution_count": 25,
   "metadata": {},
   "outputs": [
    {
     "data": {
      "text/plain": [
       "Text(0,0.5,'Number of nodes')"
      ]
     },
     "execution_count": 25,
     "metadata": {},
     "output_type": "execute_result"
    },
    {
     "data": {
      "image/png": "[encoded data removed]",
      "text/plain": [
       "<matplotlib.figure.Figure at 0x7f6c7e1941d0>"
      ]
     },
     "metadata": {},
     "output_type": "display_data"
    }
   ],
   "source": [
    "ax = sns.distplot(all_neigh[\"log_neighbours\"], bins=100, kde=False)\n",
    "ax.set_title(\"Log10 of number of neighbours of all nodes\")\n",
    "ax.set_xlabel(\"log10 of number of neighbours\")\n",
    "ax.set_ylabel(\"Number of nodes\")"
   ]
  },
  {
   "cell_type": "code",
   "execution_count": 26,
   "metadata": {},
   "outputs": [
    {
     "data": {
      "text/plain": [
       "Text(0,0.5,'Total probability')"
      ]
     },
     "execution_count": 26,
     "metadata": {},
     "output_type": "execute_result"
    },
    {
     "data": {
      "image/png": "[encoded data removed]",
      "text/plain": [
       "<matplotlib.figure.Figure at 0x7f6bf01abf98>"
      ]
     },
     "metadata": {},
     "output_type": "display_data"
    }
   ],
   "source": [
    "ax = all_neigh[\"log_neighbours\"].hist(\n",
    "    cumulative=True, bins=100, density=True\n",
    ")\n",
    "\n",
    "ax.set_title(\"CDF of neighbour count for merged network\")\n",
    "ax.set_xlabel(\"Log10 of number of neighbours\")\n",
    "ax.set_ylabel(\"Total probability\")"
   ]
  },
  {
   "cell_type": "code",
   "execution_count": 27,
   "metadata": {
    "scrolled": true
   },
   "outputs": [
    {
     "data": {
      "text/plain": [
       "6.0"
      ]
     },
     "execution_count": 27,
     "metadata": {},
     "output_type": "execute_result"
    }
   ],
   "source": [
    "all_neigh[\"num_neighbours\"].median()"
   ]
  },
  {
   "cell_type": "code",
   "execution_count": 28,
   "metadata": {},
   "outputs": [],
   "source": [
    "lab_neigh = (all_neigh\n",
    "    .merge(nodes, how=\"inner\", on=\"node_uid\")\n",
    ")"
   ]
  },
  {
   "cell_type": "code",
   "execution_count": 29,
   "metadata": {},
   "outputs": [
    {
     "data": {
      "text/html": [
       "<div>\n",
       "<style scoped>\n",
       "    .dataframe tbody tr th:only-of-type {\n",
       "        vertical-align: middle;\n",
       "    }\n",
       "\n",
       "    .dataframe tbody tr th {\n",
       "        vertical-align: top;\n",
       "    }\n",
       "\n",
       "    .dataframe thead th {\n",
       "        text-align: right;\n",
       "    }\n",
       "</style>\n",
       "<table border=\"1\" class=\"dataframe\">\n",
       "  <thead>\n",
       "    <tr style=\"text-align: right;\">\n",
       "      <th></th>\n",
       "      <th>node_uid</th>\n",
       "      <th>num_neighbours</th>\n",
       "      <th>log_neighbours</th>\n",
       "      <th>name</th>\n",
       "      <th>node_id</th>\n",
       "      <th>origin</th>\n",
       "      <th>sem_type</th>\n",
       "    </tr>\n",
       "  </thead>\n",
       "  <tbody>\n",
       "    <tr>\n",
       "      <th>0</th>\n",
       "      <td>0</td>\n",
       "      <td>1</td>\n",
       "      <td>0.000000</td>\n",
       "      <td>GAGE12F</td>\n",
       "      <td>100008586</td>\n",
       "      <td>hetionet</td>\n",
       "      <td>Genes &amp; Molecular Sequences</td>\n",
       "    </tr>\n",
       "    <tr>\n",
       "      <th>1</th>\n",
       "      <td>2</td>\n",
       "      <td>25</td>\n",
       "      <td>1.397940</td>\n",
       "      <td>DDTL</td>\n",
       "      <td>100037417</td>\n",
       "      <td>hetionet</td>\n",
       "      <td>Genes &amp; Molecular Sequences</td>\n",
       "    </tr>\n",
       "    <tr>\n",
       "      <th>2</th>\n",
       "      <td>4</td>\n",
       "      <td>89</td>\n",
       "      <td>1.949390</td>\n",
       "      <td>POM121C</td>\n",
       "      <td>100101267</td>\n",
       "      <td>hetionet</td>\n",
       "      <td>Genes &amp; Molecular Sequences</td>\n",
       "    </tr>\n",
       "    <tr>\n",
       "      <th>3</th>\n",
       "      <td>5</td>\n",
       "      <td>69</td>\n",
       "      <td>1.838849</td>\n",
       "      <td>ZSCAN30</td>\n",
       "      <td>100101467</td>\n",
       "      <td>hetionet</td>\n",
       "      <td>Genes &amp; Molecular Sequences</td>\n",
       "    </tr>\n",
       "    <tr>\n",
       "      <th>4</th>\n",
       "      <td>6</td>\n",
       "      <td>61</td>\n",
       "      <td>1.785330</td>\n",
       "      <td>TMEM170B</td>\n",
       "      <td>100113407</td>\n",
       "      <td>hetionet</td>\n",
       "      <td>Genes &amp; Molecular Sequences</td>\n",
       "    </tr>\n",
       "  </tbody>\n",
       "</table>\n",
       "</div>"
      ],
      "text/plain": [
       "   node_uid  num_neighbours  log_neighbours      name    node_id    origin  \\\n",
       "0         0               1        0.000000   GAGE12F  100008586  hetionet   \n",
       "1         2              25        1.397940      DDTL  100037417  hetionet   \n",
       "2         4              89        1.949390   POM121C  100101267  hetionet   \n",
       "3         5              69        1.838849   ZSCAN30  100101467  hetionet   \n",
       "4         6              61        1.785330  TMEM170B  100113407  hetionet   \n",
       "\n",
       "                      sem_type  \n",
       "0  Genes & Molecular Sequences  \n",
       "1  Genes & Molecular Sequences  \n",
       "2  Genes & Molecular Sequences  \n",
       "3  Genes & Molecular Sequences  \n",
       "4  Genes & Molecular Sequences  "
      ]
     },
     "execution_count": 29,
     "metadata": {},
     "output_type": "execute_result"
    }
   ],
   "source": [
    "lab_neigh.head()"
   ]
  },
  {
   "cell_type": "code",
   "execution_count": 30,
   "metadata": {},
   "outputs": [
    {
     "data": {
      "text/plain": [
       "Text(0,0.5,'Node semantic type')"
      ]
     },
     "execution_count": 30,
     "metadata": {},
     "output_type": "execute_result"
    },
    {
     "data": {
      "image/png": "[encoded data removed]",
      "text/plain": [
       "<matplotlib.figure.Figure at 0x7f6bf0ed34a8>"
      ]
     },
     "metadata": {},
     "output_type": "display_data"
    }
   ],
   "source": [
    "plt.figure(figsize=(8, 6))\n",
    "\n",
    "ax = sns.boxplot(data=lab_neigh, y=\"sem_type\", x=\"log_neighbours\")\n",
    "\n",
    "ax.set_title(\"log10 neighbours of all nodes\")\n",
    "ax.set_xlabel(\"Log10 of neighbours\")\n",
    "ax.set_ylabel(\"Node semantic type\")"
   ]
  },
  {
   "cell_type": "markdown",
   "metadata": {},
   "source": [
    "While interesting, we don't really care too much about the absolute number of neighbours of each subgraph. We are more interested in how the additional edges changed the overall graph."
   ]
  },
  {
   "cell_type": "markdown",
   "metadata": {},
   "source": [
    "---"
   ]
  },
  {
   "cell_type": "markdown",
   "metadata": {},
   "source": [
    "## Which nodes had their neighbours changed?"
   ]
  },
  {
   "cell_type": "code",
   "execution_count": 31,
   "metadata": {},
   "outputs": [],
   "source": [
    "full_counts = (lab_neigh\n",
    "    .rename(columns={\n",
    "        \"num_neighbours\": \"num_all\",\n",
    "        \"log_neighbours\": \"log_all\"\n",
    "    })\n",
    "    .merge(\n",
    "        sem_neigh[[\"node_uid\", \"num_neighbours\", \"log_neighbours\"]],\n",
    "        how=\"left\", on=\"node_uid\"\n",
    "    )\n",
    "    .rename(columns={\n",
    "        \"num_neighbours\": \"num_sem\",\n",
    "        \"log_neighbours\": \"log_sem\"\n",
    "    })\n",
    "    .fillna(value={\"num_sem\": 0})\n",
    "    .assign(num_sem = lambda df: df[\"num_sem\"].astype(int))\n",
    ")"
   ]
  },
  {
   "cell_type": "code",
   "execution_count": 32,
   "metadata": {},
   "outputs": [
    {
     "data": {
      "text/html": [
       "<div>\n",
       "<style scoped>\n",
       "    .dataframe tbody tr th:only-of-type {\n",
       "        vertical-align: middle;\n",
       "    }\n",
       "\n",
       "    .dataframe tbody tr th {\n",
       "        vertical-align: top;\n",
       "    }\n",
       "\n",
       "    .dataframe thead th {\n",
       "        text-align: right;\n",
       "    }\n",
       "</style>\n",
       "<table border=\"1\" class=\"dataframe\">\n",
       "  <thead>\n",
       "    <tr style=\"text-align: right;\">\n",
       "      <th></th>\n",
       "      <th>node_uid</th>\n",
       "      <th>num_all</th>\n",
       "      <th>log_all</th>\n",
       "      <th>name</th>\n",
       "      <th>node_id</th>\n",
       "      <th>origin</th>\n",
       "      <th>sem_type</th>\n",
       "      <th>num_sem</th>\n",
       "      <th>log_sem</th>\n",
       "    </tr>\n",
       "  </thead>\n",
       "  <tbody>\n",
       "    <tr>\n",
       "      <th>0</th>\n",
       "      <td>0</td>\n",
       "      <td>1</td>\n",
       "      <td>0.000000</td>\n",
       "      <td>GAGE12F</td>\n",
       "      <td>100008586</td>\n",
       "      <td>hetionet</td>\n",
       "      <td>Genes &amp; Molecular Sequences</td>\n",
       "      <td>0</td>\n",
       "      <td>NaN</td>\n",
       "    </tr>\n",
       "    <tr>\n",
       "      <th>1</th>\n",
       "      <td>2</td>\n",
       "      <td>25</td>\n",
       "      <td>1.397940</td>\n",
       "      <td>DDTL</td>\n",
       "      <td>100037417</td>\n",
       "      <td>hetionet</td>\n",
       "      <td>Genes &amp; Molecular Sequences</td>\n",
       "      <td>0</td>\n",
       "      <td>NaN</td>\n",
       "    </tr>\n",
       "    <tr>\n",
       "      <th>2</th>\n",
       "      <td>4</td>\n",
       "      <td>89</td>\n",
       "      <td>1.949390</td>\n",
       "      <td>POM121C</td>\n",
       "      <td>100101267</td>\n",
       "      <td>hetionet</td>\n",
       "      <td>Genes &amp; Molecular Sequences</td>\n",
       "      <td>0</td>\n",
       "      <td>NaN</td>\n",
       "    </tr>\n",
       "    <tr>\n",
       "      <th>3</th>\n",
       "      <td>5</td>\n",
       "      <td>69</td>\n",
       "      <td>1.838849</td>\n",
       "      <td>ZSCAN30</td>\n",
       "      <td>100101467</td>\n",
       "      <td>hetionet</td>\n",
       "      <td>Genes &amp; Molecular Sequences</td>\n",
       "      <td>0</td>\n",
       "      <td>NaN</td>\n",
       "    </tr>\n",
       "    <tr>\n",
       "      <th>4</th>\n",
       "      <td>6</td>\n",
       "      <td>61</td>\n",
       "      <td>1.785330</td>\n",
       "      <td>TMEM170B</td>\n",
       "      <td>100113407</td>\n",
       "      <td>hetionet</td>\n",
       "      <td>Genes &amp; Molecular Sequences</td>\n",
       "      <td>0</td>\n",
       "      <td>NaN</td>\n",
       "    </tr>\n",
       "  </tbody>\n",
       "</table>\n",
       "</div>"
      ],
      "text/plain": [
       "   node_uid  num_all   log_all      name    node_id    origin  \\\n",
       "0         0        1  0.000000   GAGE12F  100008586  hetionet   \n",
       "1         2       25  1.397940      DDTL  100037417  hetionet   \n",
       "2         4       89  1.949390   POM121C  100101267  hetionet   \n",
       "3         5       69  1.838849   ZSCAN30  100101467  hetionet   \n",
       "4         6       61  1.785330  TMEM170B  100113407  hetionet   \n",
       "\n",
       "                      sem_type  num_sem  log_sem  \n",
       "0  Genes & Molecular Sequences        0      NaN  \n",
       "1  Genes & Molecular Sequences        0      NaN  \n",
       "2  Genes & Molecular Sequences        0      NaN  \n",
       "3  Genes & Molecular Sequences        0      NaN  \n",
       "4  Genes & Molecular Sequences        0      NaN  "
      ]
     },
     "execution_count": 32,
     "metadata": {},
     "output_type": "execute_result"
    }
   ],
   "source": [
    "full_counts.head()"
   ]
  },
  {
   "cell_type": "code",
   "execution_count": 33,
   "metadata": {},
   "outputs": [
    {
     "data": {
      "text/plain": [
       "(229775, 9)"
      ]
     },
     "execution_count": 33,
     "metadata": {},
     "output_type": "execute_result"
    }
   ],
   "source": [
    "full_counts.shape"
   ]
  },
  {
   "cell_type": "code",
   "execution_count": 34,
   "metadata": {},
   "outputs": [
    {
     "data": {
      "text/plain": [
       "8.443042106408443"
      ]
     },
     "execution_count": 34,
     "metadata": {},
     "output_type": "execute_result"
    }
   ],
   "source": [
    "len(full_counts.query(\"num_sem == 0\")) / len(full_counts) * 100"
   ]
  },
  {
   "cell_type": "markdown",
   "metadata": {},
   "source": [
    "The number of new nodes added to semmeddb which actually have some number of edges is roughly 8% of the size of the final network."
   ]
  },
  {
   "cell_type": "markdown",
   "metadata": {},
   "source": [
    "## Which nodes changed?"
   ]
  },
  {
   "cell_type": "code",
   "execution_count": 35,
   "metadata": {},
   "outputs": [
    {
     "data": {
      "text/plain": [
       "11.46991622239147"
      ]
     },
     "execution_count": 35,
     "metadata": {},
     "output_type": "execute_result"
    }
   ],
   "source": [
    "len(full_counts.query(\"num_sem > 0 and num_all != num_sem\")) / len(full_counts) * 100"
   ]
  },
  {
   "cell_type": "markdown",
   "metadata": {},
   "source": [
    "Only 11% of the nodes which already existed in semmeddb had their neighbour counts increase after we integrated hetionet. This is not a very large portion of the network, but we do need to keep in mind that hetionet only had around 50000 nodes in total, so the maximum possible percentage achieveable here is only around 25%."
   ]
  },
  {
   "cell_type": "code",
   "execution_count": 36,
   "metadata": {},
   "outputs": [],
   "source": [
    "changed = (full_counts\n",
    "    .query(\"num_all != num_sem\")\n",
    "    .assign(increase = lambda df: df[\"num_all\"].subtract(df[\"num_sem\"]))\n",
    "    .assign(log_d = lambda df: np.log10(df[\"increase\"]))\n",
    ")"
   ]
  },
  {
   "cell_type": "code",
   "execution_count": 37,
   "metadata": {},
   "outputs": [
    {
     "data": {
      "text/plain": [
       "(45755, 11)"
      ]
     },
     "execution_count": 37,
     "metadata": {},
     "output_type": "execute_result"
    }
   ],
   "source": [
    "changed.shape"
   ]
  },
  {
   "cell_type": "code",
   "execution_count": 38,
   "metadata": {},
   "outputs": [
    {
     "data": {
      "text/html": [
       "<div>\n",
       "<style scoped>\n",
       "    .dataframe tbody tr th:only-of-type {\n",
       "        vertical-align: middle;\n",
       "    }\n",
       "\n",
       "    .dataframe tbody tr th {\n",
       "        vertical-align: top;\n",
       "    }\n",
       "\n",
       "    .dataframe thead th {\n",
       "        text-align: right;\n",
       "    }\n",
       "</style>\n",
       "<table border=\"1\" class=\"dataframe\">\n",
       "  <thead>\n",
       "    <tr style=\"text-align: right;\">\n",
       "      <th></th>\n",
       "      <th>node_uid</th>\n",
       "      <th>num_all</th>\n",
       "      <th>log_all</th>\n",
       "      <th>name</th>\n",
       "      <th>node_id</th>\n",
       "      <th>origin</th>\n",
       "      <th>sem_type</th>\n",
       "      <th>num_sem</th>\n",
       "      <th>log_sem</th>\n",
       "      <th>increase</th>\n",
       "      <th>log_d</th>\n",
       "    </tr>\n",
       "  </thead>\n",
       "  <tbody>\n",
       "    <tr>\n",
       "      <th>0</th>\n",
       "      <td>0</td>\n",
       "      <td>1</td>\n",
       "      <td>0.000000</td>\n",
       "      <td>GAGE12F</td>\n",
       "      <td>100008586</td>\n",
       "      <td>hetionet</td>\n",
       "      <td>Genes &amp; Molecular Sequences</td>\n",
       "      <td>0</td>\n",
       "      <td>NaN</td>\n",
       "      <td>1</td>\n",
       "      <td>0.000000</td>\n",
       "    </tr>\n",
       "    <tr>\n",
       "      <th>1</th>\n",
       "      <td>2</td>\n",
       "      <td>25</td>\n",
       "      <td>1.397940</td>\n",
       "      <td>DDTL</td>\n",
       "      <td>100037417</td>\n",
       "      <td>hetionet</td>\n",
       "      <td>Genes &amp; Molecular Sequences</td>\n",
       "      <td>0</td>\n",
       "      <td>NaN</td>\n",
       "      <td>25</td>\n",
       "      <td>1.397940</td>\n",
       "    </tr>\n",
       "    <tr>\n",
       "      <th>2</th>\n",
       "      <td>4</td>\n",
       "      <td>89</td>\n",
       "      <td>1.949390</td>\n",
       "      <td>POM121C</td>\n",
       "      <td>100101267</td>\n",
       "      <td>hetionet</td>\n",
       "      <td>Genes &amp; Molecular Sequences</td>\n",
       "      <td>0</td>\n",
       "      <td>NaN</td>\n",
       "      <td>89</td>\n",
       "      <td>1.949390</td>\n",
       "    </tr>\n",
       "    <tr>\n",
       "      <th>3</th>\n",
       "      <td>5</td>\n",
       "      <td>69</td>\n",
       "      <td>1.838849</td>\n",
       "      <td>ZSCAN30</td>\n",
       "      <td>100101467</td>\n",
       "      <td>hetionet</td>\n",
       "      <td>Genes &amp; Molecular Sequences</td>\n",
       "      <td>0</td>\n",
       "      <td>NaN</td>\n",
       "      <td>69</td>\n",
       "      <td>1.838849</td>\n",
       "    </tr>\n",
       "    <tr>\n",
       "      <th>4</th>\n",
       "      <td>6</td>\n",
       "      <td>61</td>\n",
       "      <td>1.785330</td>\n",
       "      <td>TMEM170B</td>\n",
       "      <td>100113407</td>\n",
       "      <td>hetionet</td>\n",
       "      <td>Genes &amp; Molecular Sequences</td>\n",
       "      <td>0</td>\n",
       "      <td>NaN</td>\n",
       "      <td>61</td>\n",
       "      <td>1.785330</td>\n",
       "    </tr>\n",
       "  </tbody>\n",
       "</table>\n",
       "</div>"
      ],
      "text/plain": [
       "   node_uid  num_all   log_all      name    node_id    origin  \\\n",
       "0         0        1  0.000000   GAGE12F  100008586  hetionet   \n",
       "1         2       25  1.397940      DDTL  100037417  hetionet   \n",
       "2         4       89  1.949390   POM121C  100101267  hetionet   \n",
       "3         5       69  1.838849   ZSCAN30  100101467  hetionet   \n",
       "4         6       61  1.785330  TMEM170B  100113407  hetionet   \n",
       "\n",
       "                      sem_type  num_sem  log_sem  increase     log_d  \n",
       "0  Genes & Molecular Sequences        0      NaN         1  0.000000  \n",
       "1  Genes & Molecular Sequences        0      NaN        25  1.397940  \n",
       "2  Genes & Molecular Sequences        0      NaN        89  1.949390  \n",
       "3  Genes & Molecular Sequences        0      NaN        69  1.838849  \n",
       "4  Genes & Molecular Sequences        0      NaN        61  1.785330  "
      ]
     },
     "execution_count": 38,
     "metadata": {},
     "output_type": "execute_result"
    }
   ],
   "source": [
    "changed.head()"
   ]
  },
  {
   "cell_type": "markdown",
   "metadata": {},
   "source": [
    "## Absolute change in neighbours for existing semmeddb nodes"
   ]
  },
  {
   "cell_type": "code",
   "execution_count": 39,
   "metadata": {},
   "outputs": [
    {
     "data": {
      "text/plain": [
       "Text(0,0.5,'Nodes changed')"
      ]
     },
     "execution_count": 39,
     "metadata": {},
     "output_type": "execute_result"
    },
    {
     "data": {
      "image/png": "[encoded data removed]",
      "text/plain": [
       "<matplotlib.figure.Figure at 0x7f6bf0dce4a8>"
      ]
     },
     "metadata": {},
     "output_type": "display_data"
    }
   ],
   "source": [
    "ax = sns.distplot(changed.query(\"num_sem > 0\")[\"log_d\"], kde=False, bins=100)\n",
    "\n",
    "ax.set_title(\"Distribution of log10 edge changes after including hetionet\\n\"\n",
    "    \"(for nodes which already existed in semmeddb)\"\n",
    ")\n",
    "ax.set_xlabel(\"Log10 of number of neighbours increased\")\n",
    "ax.set_ylabel(\"Nodes changed\")"
   ]
  },
  {
   "cell_type": "markdown",
   "metadata": {},
   "source": [
    "## Relative change"
   ]
  },
  {
   "cell_type": "code",
   "execution_count": 40,
   "metadata": {},
   "outputs": [],
   "source": [
    "temp = (changed\n",
    "    .query(\"num_sem > 0\")\n",
    "    .assign(log_ratio = lambda df: df[\"log_all\"].subtract(df[\"log_sem\"]))\n",
    ")"
   ]
  },
  {
   "cell_type": "code",
   "execution_count": 41,
   "metadata": {},
   "outputs": [
    {
     "data": {
      "text/plain": [
       "<matplotlib.axes._subplots.AxesSubplot at 0x7f6bf0d997f0>"
      ]
     },
     "execution_count": 41,
     "metadata": {},
     "output_type": "execute_result"
    },
    {
     "data": {
      "image/png": "[encoded data removed]",
      "text/plain": [
       "<matplotlib.figure.Figure at 0x7f6bf0e35550>"
      ]
     },
     "metadata": {},
     "output_type": "display_data"
    }
   ],
   "source": [
    "sns.distplot(temp[\"log_ratio\"], kde=False, bins=100)"
   ]
  },
  {
   "cell_type": "code",
   "execution_count": 42,
   "metadata": {},
   "outputs": [
    {
     "data": {
      "text/plain": [
       "<matplotlib.axes._subplots.AxesSubplot at 0x7f6bf0cd5b70>"
      ]
     },
     "execution_count": 42,
     "metadata": {},
     "output_type": "execute_result"
    },
    {
     "data": {
      "image/png": "[encoded data removed]",
      "text/plain": [
       "<matplotlib.figure.Figure at 0x7f6bf0e35908>"
      ]
     },
     "metadata": {},
     "output_type": "display_data"
    }
   ],
   "source": [
    "sns.boxplot(temp[\"log_ratio\"])"
   ]
  },
  {
   "cell_type": "code",
   "execution_count": 43,
   "metadata": {},
   "outputs": [
    {
     "data": {
      "text/plain": [
       "2.546511627906978"
      ]
     },
     "execution_count": 43,
     "metadata": {},
     "output_type": "execute_result"
    }
   ],
   "source": [
    "10**(temp[\"log_ratio\"].median())"
   ]
  },
  {
   "cell_type": "markdown",
   "metadata": {},
   "source": [
    "The median change in relative number of neighbours is 2.5x, which is a substantial change."
   ]
  },
  {
   "cell_type": "markdown",
   "metadata": {},
   "source": [
    "---"
   ]
  },
  {
   "cell_type": "markdown",
   "metadata": {},
   "source": [
    "### relative change in neighbour count as a function of original neighbour count"
   ]
  },
  {
   "cell_type": "code",
   "execution_count": 44,
   "metadata": {},
   "outputs": [
    {
     "data": {
      "text/plain": [
       "Text(0.5,0.98,'Relative change in neighbours as a function of neighbour count')"
      ]
     },
     "execution_count": 44,
     "metadata": {},
     "output_type": "execute_result"
    },
    {
     "data": {
      "image/png": "[encoded data removed]",
      "text/plain": [
       "<matplotlib.figure.Figure at 0x7f6bf0c4feb8>"
      ]
     },
     "metadata": {},
     "output_type": "display_data"
    }
   ],
   "source": [
    "ax = sns.jointplot(\n",
    "    data=temp, x=\"log_sem\", y=\"log_ratio\", kind=\"hex\"\n",
    ")\n",
    "\n",
    "ax.fig.suptitle(\"Relative change in neighbours as a function of neighbour count\")"
   ]
  },
  {
   "cell_type": "markdown",
   "metadata": {},
   "source": [
    "---"
   ]
  },
  {
   "cell_type": "markdown",
   "metadata": {},
   "source": [
    "### relative change in size by category"
   ]
  },
  {
   "cell_type": "code",
   "execution_count": 45,
   "metadata": {
    "scrolled": false
   },
   "outputs": [
    {
     "data": {
      "image/png": "[encoded data removed]",
      "text/plain": [
       "<matplotlib.figure.Figure at 0x7f6c66132b00>"
      ]
     },
     "metadata": {},
     "output_type": "display_data"
    },
    {
     "data": {
      "image/png": "[encoded data removed]",
      "text/plain": [
       "<matplotlib.figure.Figure at 0x7f6c660888d0>"
      ]
     },
     "metadata": {},
     "output_type": "display_data"
    },
    {
     "data": {
      "image/png": "[encoded data removed]",
      "text/plain": [
       "<matplotlib.figure.Figure at 0x7f6c65fba0b8>"
      ]
     },
     "metadata": {},
     "output_type": "display_data"
    },
    {
     "data": {
      "image/png": "[encoded data removed]",
      "text/plain": [
       "<matplotlib.figure.Figure at 0x7f6c65eb8a20>"
      ]
     },
     "metadata": {},
     "output_type": "display_data"
    },
    {
     "data": {
      "image/png": "[encoded data removed]",
      "text/plain": [
       "<matplotlib.figure.Figure at 0x7f6c65dd12e8>"
      ]
     },
     "metadata": {},
     "output_type": "display_data"
    },
    {
     "data": {
      "image/png": "[encoded data removed]",
      "text/plain": [
       "<matplotlib.figure.Figure at 0x7f6c65c9ee48>"
      ]
     },
     "metadata": {},
     "output_type": "display_data"
    }
   ],
   "source": [
    "for semtype, df in temp.groupby(\"sem_type\"):\n",
    "    if len(df) > 1:\n",
    "        ax = sns.jointplot(\n",
    "            data=df, x=\"log_sem\", y=\"log_ratio\", kind=\"hex\"\n",
    "        )\n",
    "\n",
    "        ax.fig.suptitle(semtype)"
   ]
  },
  {
   "cell_type": "markdown",
   "metadata": {},
   "source": [
    "Anatomy and disorder nodes do not seem to have more information added for the low information nodes, which is a correlation we observe for all the other node types."
   ]
  },
  {
   "cell_type": "markdown",
   "metadata": {},
   "source": [
    "### newly added nodes"
   ]
  },
  {
   "cell_type": "code",
   "execution_count": 46,
   "metadata": {},
   "outputs": [
    {
     "data": {
      "text/plain": [
       "Physiology                     11581\n",
       "Genes & Molecular Sequences     3172\n",
       "Pathway                         1822\n",
       "Disorders                       1472\n",
       "Anatomy                         1035\n",
       "Chemicals & Drugs                318\n",
       "Name: sem_type, dtype: int64"
      ]
     },
     "execution_count": 46,
     "metadata": {},
     "output_type": "execute_result"
    }
   ],
   "source": [
    "changed.query(\"num_sem == 0\")[\"sem_type\"].value_counts()"
   ]
  },
  {
   "cell_type": "markdown",
   "metadata": {},
   "source": [
    "### Existing nodes"
   ]
  },
  {
   "cell_type": "code",
   "execution_count": 47,
   "metadata": {},
   "outputs": [
    {
     "data": {
      "text/plain": [
       "Genes & Molecular Sequences    15970\n",
       "Disorders                       4782\n",
       "Physiology                      2711\n",
       "Chemicals & Drugs               1972\n",
       "Anatomy                          870\n",
       "Phenomena                         49\n",
       "Living Beings                      1\n",
       "Name: sem_type, dtype: int64"
      ]
     },
     "execution_count": 47,
     "metadata": {},
     "output_type": "execute_result"
    }
   ],
   "source": [
    "changed.query(\"num_sem > 0\")[\"sem_type\"].value_counts()"
   ]
  },
  {
   "cell_type": "code",
   "execution_count": 48,
   "metadata": {},
   "outputs": [
    {
     "data": {
      "text/plain": [
       "Text(0.5,1,'Log10 change in number of neighbours for semmeddb nodes by category')"
      ]
     },
     "execution_count": 48,
     "metadata": {},
     "output_type": "execute_result"
    },
    {
     "data": {
      "image/png": "[encoded data removed]",
      "text/plain": [
       "<matplotlib.figure.Figure at 0x7f6bf0e35dd8>"
      ]
     },
     "metadata": {},
     "output_type": "display_data"
    }
   ],
   "source": [
    "ax = sns.boxplot(data=changed.query(\"num_sem > 0\"), x=\"log_d\", y=\"sem_type\")\n",
    "\n",
    "ax.set_title(\"Log10 change in number of neighbours for semmeddb nodes by category\")"
   ]
  },
  {
   "cell_type": "code",
   "execution_count": 49,
   "metadata": {},
   "outputs": [
    {
     "data": {
      "text/plain": [
       "Text(0.5,1,'Log10 of (adj final / adj start) for semmeddb nodes by category')"
      ]
     },
     "execution_count": 49,
     "metadata": {},
     "output_type": "execute_result"
    },
    {
     "data": {
      "image/png": "[encoded data removed]",
      "text/plain": [
       "<matplotlib.figure.Figure at 0x7f6bf0d03b38>"
      ]
     },
     "metadata": {},
     "output_type": "display_data"
    }
   ],
   "source": [
    "ax = sns.boxplot(data=temp, x=\"log_ratio\", y=\"sem_type\")\n",
    "\n",
    "ax.set_title(\"Log10 of (adj final / adj start) for semmeddb nodes by category\")"
   ]
  },
  {
   "cell_type": "markdown",
   "metadata": {},
   "source": [
    "This above plot tells us how much effect we had in relative terms, not absolute terms. It seems that the disorders and phenomena had similar absolute changes, but the phenomena had less information, and experienced greater relative change."
   ]
  },
  {
   "cell_type": "markdown",
   "metadata": {},
   "source": [
    "---"
   ]
  },
  {
   "cell_type": "markdown",
   "metadata": {},
   "source": [
    "## Were the changed nodes related to the gold standard at all"
   ]
  },
  {
   "cell_type": "code",
   "execution_count": 50,
   "metadata": {},
   "outputs": [],
   "source": [
    "gold = pd.read_csv(\"data/merged_gold.tsv\", sep='\\t')"
   ]
  },
  {
   "cell_type": "code",
   "execution_count": 51,
   "metadata": {},
   "outputs": [
    {
     "data": {
      "text/plain": [
       "(6329, 7)"
      ]
     },
     "execution_count": 51,
     "metadata": {},
     "output_type": "execute_result"
    }
   ],
   "source": [
    "gold.shape"
   ]
  },
  {
   "cell_type": "code",
   "execution_count": 52,
   "metadata": {},
   "outputs": [
    {
     "data": {
      "text/html": [
       "<div>\n",
       "<style scoped>\n",
       "    .dataframe tbody tr th:only-of-type {\n",
       "        vertical-align: middle;\n",
       "    }\n",
       "\n",
       "    .dataframe tbody tr th {\n",
       "        vertical-align: top;\n",
       "    }\n",
       "\n",
       "    .dataframe thead th {\n",
       "        text-align: right;\n",
       "    }\n",
       "</style>\n",
       "<table border=\"1\" class=\"dataframe\">\n",
       "  <thead>\n",
       "    <tr style=\"text-align: right;\">\n",
       "      <th></th>\n",
       "      <th>chemical_id</th>\n",
       "      <th>chemical_name</th>\n",
       "      <th>disease_id</th>\n",
       "      <th>disease_name</th>\n",
       "      <th>etype</th>\n",
       "      <th>chemical_uid</th>\n",
       "      <th>disease_uid</th>\n",
       "    </tr>\n",
       "  </thead>\n",
       "  <tbody>\n",
       "    <tr>\n",
       "      <th>0</th>\n",
       "      <td>UMLS:C0520442</td>\n",
       "      <td>acetyldigitoxin</td>\n",
       "      <td>UMLS:C0004238</td>\n",
       "      <td>Atrial fibrillation</td>\n",
       "      <td>TREATS_CDtDO</td>\n",
       "      <td>108642</td>\n",
       "      <td>22585</td>\n",
       "    </tr>\n",
       "    <tr>\n",
       "      <th>1</th>\n",
       "      <td>UMLS:C0033497</td>\n",
       "      <td>propranolol</td>\n",
       "      <td>UMLS:C0004238</td>\n",
       "      <td>Atrial fibrillation</td>\n",
       "      <td>TREATS_CDtDO</td>\n",
       "      <td>32398</td>\n",
       "      <td>22585</td>\n",
       "    </tr>\n",
       "    <tr>\n",
       "      <th>2</th>\n",
       "      <td>UMLS:C0012265</td>\n",
       "      <td>digoxin</td>\n",
       "      <td>UMLS:C0004238</td>\n",
       "      <td>Atrial fibrillation</td>\n",
       "      <td>TREATS_CDtDO</td>\n",
       "      <td>25280</td>\n",
       "      <td>22585</td>\n",
       "    </tr>\n",
       "    <tr>\n",
       "      <th>3</th>\n",
       "      <td>UMLS:C0084273</td>\n",
       "      <td>quinidine</td>\n",
       "      <td>UMLS:C0004238</td>\n",
       "      <td>Atrial fibrillation</td>\n",
       "      <td>TREATS_CDtDO</td>\n",
       "      <td>55039</td>\n",
       "      <td>22585</td>\n",
       "    </tr>\n",
       "    <tr>\n",
       "      <th>4</th>\n",
       "      <td>UMLS:C0766326</td>\n",
       "      <td>dronedarone</td>\n",
       "      <td>UMLS:C0004238</td>\n",
       "      <td>Atrial fibrillation</td>\n",
       "      <td>TREATS_CDtDO</td>\n",
       "      <td>134609</td>\n",
       "      <td>22585</td>\n",
       "    </tr>\n",
       "  </tbody>\n",
       "</table>\n",
       "</div>"
      ],
      "text/plain": [
       "     chemical_id    chemical_name     disease_id         disease_name  \\\n",
       "0  UMLS:C0520442  acetyldigitoxin  UMLS:C0004238  Atrial fibrillation   \n",
       "1  UMLS:C0033497      propranolol  UMLS:C0004238  Atrial fibrillation   \n",
       "2  UMLS:C0012265          digoxin  UMLS:C0004238  Atrial fibrillation   \n",
       "3  UMLS:C0084273        quinidine  UMLS:C0004238  Atrial fibrillation   \n",
       "4  UMLS:C0766326      dronedarone  UMLS:C0004238  Atrial fibrillation   \n",
       "\n",
       "          etype  chemical_uid  disease_uid  \n",
       "0  TREATS_CDtDO        108642        22585  \n",
       "1  TREATS_CDtDO         32398        22585  \n",
       "2  TREATS_CDtDO         25280        22585  \n",
       "3  TREATS_CDtDO         55039        22585  \n",
       "4  TREATS_CDtDO        134609        22585  "
      ]
     },
     "execution_count": 52,
     "metadata": {},
     "output_type": "execute_result"
    }
   ],
   "source": [
    "gold.head()"
   ]
  },
  {
   "cell_type": "code",
   "execution_count": 53,
   "metadata": {},
   "outputs": [],
   "source": [
    "temp = set(gold[\"chemical_id\"]) | set(gold[\"disease_id\"])\n",
    "\n",
    "gold_nodes = full_counts.query(\"node_id in @temp\")"
   ]
  },
  {
   "cell_type": "code",
   "execution_count": 54,
   "metadata": {},
   "outputs": [
    {
     "data": {
      "text/plain": [
       "(2567, 9)"
      ]
     },
     "execution_count": 54,
     "metadata": {},
     "output_type": "execute_result"
    }
   ],
   "source": [
    "gold_nodes.shape"
   ]
  },
  {
   "cell_type": "code",
   "execution_count": 55,
   "metadata": {},
   "outputs": [
    {
     "data": {
      "text/html": [
       "<div>\n",
       "<style scoped>\n",
       "    .dataframe tbody tr th:only-of-type {\n",
       "        vertical-align: middle;\n",
       "    }\n",
       "\n",
       "    .dataframe tbody tr th {\n",
       "        vertical-align: top;\n",
       "    }\n",
       "\n",
       "    .dataframe thead th {\n",
       "        text-align: right;\n",
       "    }\n",
       "</style>\n",
       "<table border=\"1\" class=\"dataframe\">\n",
       "  <thead>\n",
       "    <tr style=\"text-align: right;\">\n",
       "      <th></th>\n",
       "      <th>node_uid</th>\n",
       "      <th>num_all</th>\n",
       "      <th>log_all</th>\n",
       "      <th>name</th>\n",
       "      <th>node_id</th>\n",
       "      <th>origin</th>\n",
       "      <th>sem_type</th>\n",
       "      <th>num_sem</th>\n",
       "      <th>log_sem</th>\n",
       "    </tr>\n",
       "  </thead>\n",
       "  <tbody>\n",
       "    <tr>\n",
       "      <th>19457</th>\n",
       "      <td>21212</td>\n",
       "      <td>293</td>\n",
       "      <td>2.466868</td>\n",
       "      <td>4-Aminobenzoic Acid</td>\n",
       "      <td>UMLS:C0000473</td>\n",
       "      <td>semmeddb</td>\n",
       "      <td>Chemicals &amp; Drugs</td>\n",
       "      <td>293</td>\n",
       "      <td>2.466868</td>\n",
       "    </tr>\n",
       "    <tr>\n",
       "      <th>19458</th>\n",
       "      <td>21213</td>\n",
       "      <td>612</td>\n",
       "      <td>2.786751</td>\n",
       "      <td>4-Aminopyridine</td>\n",
       "      <td>UMLS:C0000477</td>\n",
       "      <td>semmeddb</td>\n",
       "      <td>Chemicals &amp; Drugs</td>\n",
       "      <td>530</td>\n",
       "      <td>2.724276</td>\n",
       "    </tr>\n",
       "    <tr>\n",
       "      <th>19470</th>\n",
       "      <td>21225</td>\n",
       "      <td>1206</td>\n",
       "      <td>3.081347</td>\n",
       "      <td>Eicosapentaenoic Acid</td>\n",
       "      <td>UMLS:C0000545</td>\n",
       "      <td>semmeddb</td>\n",
       "      <td>Chemicals &amp; Drugs</td>\n",
       "      <td>1169</td>\n",
       "      <td>3.067815</td>\n",
       "    </tr>\n",
       "    <tr>\n",
       "      <th>19479</th>\n",
       "      <td>21234</td>\n",
       "      <td>394</td>\n",
       "      <td>2.595496</td>\n",
       "      <td>6-Mercaptopurine</td>\n",
       "      <td>UMLS:C0000618</td>\n",
       "      <td>semmeddb</td>\n",
       "      <td>Chemicals &amp; Drugs</td>\n",
       "      <td>328</td>\n",
       "      <td>2.515874</td>\n",
       "    </tr>\n",
       "    <tr>\n",
       "      <th>19522</th>\n",
       "      <td>21277</td>\n",
       "      <td>3</td>\n",
       "      <td>0.477121</td>\n",
       "      <td>Incomplete spontaneous abortion</td>\n",
       "      <td>UMLS:C0000810</td>\n",
       "      <td>semmeddb</td>\n",
       "      <td>Disorders</td>\n",
       "      <td>3</td>\n",
       "      <td>0.477121</td>\n",
       "    </tr>\n",
       "  </tbody>\n",
       "</table>\n",
       "</div>"
      ],
      "text/plain": [
       "       node_uid  num_all   log_all                             name  \\\n",
       "19457     21212      293  2.466868              4-Aminobenzoic Acid   \n",
       "19458     21213      612  2.786751                  4-Aminopyridine   \n",
       "19470     21225     1206  3.081347            Eicosapentaenoic Acid   \n",
       "19479     21234      394  2.595496                 6-Mercaptopurine   \n",
       "19522     21277        3  0.477121  Incomplete spontaneous abortion   \n",
       "\n",
       "             node_id    origin           sem_type  num_sem   log_sem  \n",
       "19457  UMLS:C0000473  semmeddb  Chemicals & Drugs      293  2.466868  \n",
       "19458  UMLS:C0000477  semmeddb  Chemicals & Drugs      530  2.724276  \n",
       "19470  UMLS:C0000545  semmeddb  Chemicals & Drugs     1169  3.067815  \n",
       "19479  UMLS:C0000618  semmeddb  Chemicals & Drugs      328  2.515874  \n",
       "19522  UMLS:C0000810  semmeddb          Disorders        3  0.477121  "
      ]
     },
     "execution_count": 55,
     "metadata": {},
     "output_type": "execute_result"
    }
   ],
   "source": [
    "gold_nodes.head()"
   ]
  },
  {
   "cell_type": "markdown",
   "metadata": {},
   "source": [
    "### Gold nodes with no change in neighbours"
   ]
  },
  {
   "cell_type": "code",
   "execution_count": 56,
   "metadata": {},
   "outputs": [
    {
     "data": {
      "text/plain": [
       "(1077, 9)"
      ]
     },
     "execution_count": 56,
     "metadata": {},
     "output_type": "execute_result"
    }
   ],
   "source": [
    "gold_nodes.query(\"num_sem == num_all\").shape"
   ]
  },
  {
   "cell_type": "code",
   "execution_count": 57,
   "metadata": {},
   "outputs": [
    {
     "data": {
      "text/plain": [
       "41.95559018309311"
      ]
     },
     "execution_count": 57,
     "metadata": {},
     "output_type": "execute_result"
    }
   ],
   "source": [
    "len(gold_nodes.query(\"num_sem == num_all\")) / len(gold_nodes) * 100"
   ]
  },
  {
   "cell_type": "markdown",
   "metadata": {},
   "source": [
    "around 1000 of the gold standard nodes (41%) had no change in the number of neighbours they had when hetionet was added to semmeddb\n",
    "\n",
    "41% of the gold standard concepts saw no increase in the number of neighbours (most likely because the added edges lost their semantic meanings when being converted for deepwalk)."
   ]
  },
  {
   "cell_type": "code",
   "execution_count": 58,
   "metadata": {},
   "outputs": [
    {
     "data": {
      "text/plain": [
       "Chemicals & Drugs    699\n",
       "Disorders            376\n",
       "Living Beings          2\n",
       "Name: sem_type, dtype: int64"
      ]
     },
     "execution_count": 58,
     "metadata": {},
     "output_type": "execute_result"
    }
   ],
   "source": [
    "gold_nodes.query(\"num_sem == num_all\")[\"sem_type\"].value_counts()"
   ]
  },
  {
   "cell_type": "markdown",
   "metadata": {},
   "source": [
    "---"
   ]
  },
  {
   "cell_type": "code",
   "execution_count": 59,
   "metadata": {},
   "outputs": [],
   "source": [
    "gold_diff = (gold_nodes\n",
    "    .assign(increase = lambda df: df[\"num_all\"].subtract(df[\"num_sem\"]))\n",
    ")"
   ]
  },
  {
   "cell_type": "code",
   "execution_count": 60,
   "metadata": {},
   "outputs": [
    {
     "data": {
      "text/html": [
       "<div>\n",
       "<style scoped>\n",
       "    .dataframe tbody tr th:only-of-type {\n",
       "        vertical-align: middle;\n",
       "    }\n",
       "\n",
       "    .dataframe tbody tr th {\n",
       "        vertical-align: top;\n",
       "    }\n",
       "\n",
       "    .dataframe thead th {\n",
       "        text-align: right;\n",
       "    }\n",
       "</style>\n",
       "<table border=\"1\" class=\"dataframe\">\n",
       "  <thead>\n",
       "    <tr style=\"text-align: right;\">\n",
       "      <th></th>\n",
       "      <th>node_uid</th>\n",
       "      <th>num_all</th>\n",
       "      <th>log_all</th>\n",
       "      <th>name</th>\n",
       "      <th>node_id</th>\n",
       "      <th>origin</th>\n",
       "      <th>sem_type</th>\n",
       "      <th>num_sem</th>\n",
       "      <th>log_sem</th>\n",
       "      <th>increase</th>\n",
       "    </tr>\n",
       "  </thead>\n",
       "  <tbody>\n",
       "    <tr>\n",
       "      <th>19457</th>\n",
       "      <td>21212</td>\n",
       "      <td>293</td>\n",
       "      <td>2.466868</td>\n",
       "      <td>4-Aminobenzoic Acid</td>\n",
       "      <td>UMLS:C0000473</td>\n",
       "      <td>semmeddb</td>\n",
       "      <td>Chemicals &amp; Drugs</td>\n",
       "      <td>293</td>\n",
       "      <td>2.466868</td>\n",
       "      <td>0</td>\n",
       "    </tr>\n",
       "    <tr>\n",
       "      <th>19458</th>\n",
       "      <td>21213</td>\n",
       "      <td>612</td>\n",
       "      <td>2.786751</td>\n",
       "      <td>4-Aminopyridine</td>\n",
       "      <td>UMLS:C0000477</td>\n",
       "      <td>semmeddb</td>\n",
       "      <td>Chemicals &amp; Drugs</td>\n",
       "      <td>530</td>\n",
       "      <td>2.724276</td>\n",
       "      <td>82</td>\n",
       "    </tr>\n",
       "    <tr>\n",
       "      <th>19470</th>\n",
       "      <td>21225</td>\n",
       "      <td>1206</td>\n",
       "      <td>3.081347</td>\n",
       "      <td>Eicosapentaenoic Acid</td>\n",
       "      <td>UMLS:C0000545</td>\n",
       "      <td>semmeddb</td>\n",
       "      <td>Chemicals &amp; Drugs</td>\n",
       "      <td>1169</td>\n",
       "      <td>3.067815</td>\n",
       "      <td>37</td>\n",
       "    </tr>\n",
       "    <tr>\n",
       "      <th>19479</th>\n",
       "      <td>21234</td>\n",
       "      <td>394</td>\n",
       "      <td>2.595496</td>\n",
       "      <td>6-Mercaptopurine</td>\n",
       "      <td>UMLS:C0000618</td>\n",
       "      <td>semmeddb</td>\n",
       "      <td>Chemicals &amp; Drugs</td>\n",
       "      <td>328</td>\n",
       "      <td>2.515874</td>\n",
       "      <td>66</td>\n",
       "    </tr>\n",
       "    <tr>\n",
       "      <th>19522</th>\n",
       "      <td>21277</td>\n",
       "      <td>3</td>\n",
       "      <td>0.477121</td>\n",
       "      <td>Incomplete spontaneous abortion</td>\n",
       "      <td>UMLS:C0000810</td>\n",
       "      <td>semmeddb</td>\n",
       "      <td>Disorders</td>\n",
       "      <td>3</td>\n",
       "      <td>0.477121</td>\n",
       "      <td>0</td>\n",
       "    </tr>\n",
       "  </tbody>\n",
       "</table>\n",
       "</div>"
      ],
      "text/plain": [
       "       node_uid  num_all   log_all                             name  \\\n",
       "19457     21212      293  2.466868              4-Aminobenzoic Acid   \n",
       "19458     21213      612  2.786751                  4-Aminopyridine   \n",
       "19470     21225     1206  3.081347            Eicosapentaenoic Acid   \n",
       "19479     21234      394  2.595496                 6-Mercaptopurine   \n",
       "19522     21277        3  0.477121  Incomplete spontaneous abortion   \n",
       "\n",
       "             node_id    origin           sem_type  num_sem   log_sem  increase  \n",
       "19457  UMLS:C0000473  semmeddb  Chemicals & Drugs      293  2.466868         0  \n",
       "19458  UMLS:C0000477  semmeddb  Chemicals & Drugs      530  2.724276        82  \n",
       "19470  UMLS:C0000545  semmeddb  Chemicals & Drugs     1169  3.067815        37  \n",
       "19479  UMLS:C0000618  semmeddb  Chemicals & Drugs      328  2.515874        66  \n",
       "19522  UMLS:C0000810  semmeddb          Disorders        3  0.477121         0  "
      ]
     },
     "execution_count": 60,
     "metadata": {},
     "output_type": "execute_result"
    }
   ],
   "source": [
    "gold_diff.head()"
   ]
  },
  {
   "cell_type": "code",
   "execution_count": 61,
   "metadata": {},
   "outputs": [
    {
     "data": {
      "text/plain": [
       "Text(0.5,1,'Log10 change in number of neighbours for gold standard nodes')"
      ]
     },
     "execution_count": 61,
     "metadata": {},
     "output_type": "execute_result"
    },
    {
     "data": {
      "image/png": "[encoded data removed]",
      "text/plain": [
       "<matplotlib.figure.Figure at 0x7f6c6516aac8>"
      ]
     },
     "metadata": {},
     "output_type": "display_data"
    }
   ],
   "source": [
    "ax = sns.violinplot(\n",
    "    data=gold_diff.query(\"increase > 0\").assign(log_d = lambda df: np.log10(df[\"increase\"])),\n",
    "    x=\"log_d\", y=\"sem_type\"\n",
    ")\n",
    "\n",
    "ax.set_title(\"Log10 change in number of neighbours for gold standard nodes\")"
   ]
  },
  {
   "cell_type": "code",
   "execution_count": 62,
   "metadata": {},
   "outputs": [
    {
     "data": {
      "text/plain": [
       "Text(0.5,1,'Log10 change in number of neighbours for gold standard nodes')"
      ]
     },
     "execution_count": 62,
     "metadata": {},
     "output_type": "execute_result"
    },
    {
     "data": {
      "image/png": "[encoded data removed]",
      "text/plain": [
       "<matplotlib.figure.Figure at 0x7f6c6517a9b0>"
      ]
     },
     "metadata": {},
     "output_type": "display_data"
    }
   ],
   "source": [
    "ax = sns.boxplot(\n",
    "    data=gold_diff.query(\"increase > 0\").assign(log_d = lambda df: np.log10(df[\"increase\"])),\n",
    "    x=\"log_d\", y=\"sem_type\"\n",
    ")\n",
    "\n",
    "ax.set_title(\"Log10 change in number of neighbours for gold standard nodes\")"
   ]
  },
  {
   "cell_type": "markdown",
   "metadata": {},
   "source": [
    "---"
   ]
  },
  {
   "cell_type": "markdown",
   "metadata": {},
   "source": [
    "### What was the relative change in number of neighbours for gold standard concepts?"
   ]
  },
  {
   "cell_type": "code",
   "execution_count": 63,
   "metadata": {},
   "outputs": [
    {
     "data": {
      "text/plain": [
       "<matplotlib.axes._subplots.AxesSubplot at 0x7f6c6513e0b8>"
      ]
     },
     "execution_count": 63,
     "metadata": {},
     "output_type": "execute_result"
    },
    {
     "data": {
      "image/png": "[encoded data removed]",
      "text/plain": [
       "<matplotlib.figure.Figure at 0x7f6c6517a278>"
      ]
     },
     "metadata": {},
     "output_type": "display_data"
    }
   ],
   "source": [
    "temp = (gold_diff\n",
    "    .query(\"num_all > num_sem\")\n",
    "    .assign(log_ratio = lambda df: df[\"log_all\"] - df[\"log_sem\"])\n",
    ")\n",
    "\n",
    "sns.boxplot(data=temp, x=\"log_ratio\", y=\"sem_type\")"
   ]
  },
  {
   "cell_type": "code",
   "execution_count": 64,
   "metadata": {},
   "outputs": [
    {
     "data": {
      "text/plain": [
       "sem_type\n",
       "Chemicals & Drugs    1.666667\n",
       "Disorders            1.078455\n",
       "Physiology           2.244697\n",
       "Name: log_ratio, dtype: float64"
      ]
     },
     "execution_count": 64,
     "metadata": {},
     "output_type": "execute_result"
    }
   ],
   "source": [
    "temp.groupby(\"sem_type\")[\"log_ratio\"].median().apply(lambda v: 10**v)"
   ]
  },
  {
   "cell_type": "markdown",
   "metadata": {},
   "source": [
    "The percent change for diseases is really low at only 7%. Chemicals fare a bit better at 66% increase, and physiology does the best at a 2.2x increase. Overall though the change in connectivity is a bit disappointing, and may explain why we are not seeing changes in performance for deepwalk."
   ]
  }
 ],
 "metadata": {
  "kernelspec": {
   "display_name": "Python 3",
   "language": "python",
   "name": "python3"
  },
  "language_info": {
   "codemirror_mode": {
    "name": "ipython",
    "version": 3
   },
   "file_extension": ".py",
   "mimetype": "text/x-python",
   "name": "python",
   "nbconvert_exporter": "python",
   "pygments_lexer": "ipython3",
   "version": "3.5.2"
  }
 },
 "nbformat": 4,
 "nbformat_minor": 2
}
