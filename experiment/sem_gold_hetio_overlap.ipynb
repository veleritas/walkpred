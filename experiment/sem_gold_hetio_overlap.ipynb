{
 "cells": [
  {
   "cell_type": "markdown",
   "metadata": {},
   "source": [
    "# Can we use the semmeddb gold standard for evaluating hetionet with deepwalk?"
   ]
  },
  {
   "cell_type": "code",
   "execution_count": 1,
   "metadata": {},
   "outputs": [],
   "source": [
    "import pandas as pd\n",
    "import re"
   ]
  },
  {
   "cell_type": "markdown",
   "metadata": {},
   "source": [
    "## Read hetionet to umls mapping"
   ]
  },
  {
   "cell_type": "code",
   "execution_count": 2,
   "metadata": {},
   "outputs": [],
   "source": [
    "hmap = pd.read_csv(\"../merge/hetionet/hetio_nodes.tsv\", sep='\\t')"
   ]
  },
  {
   "cell_type": "code",
   "execution_count": 3,
   "metadata": {},
   "outputs": [
    {
     "data": {
      "text/html": [
       "<div>\n",
       "<style scoped>\n",
       "    .dataframe tbody tr th:only-of-type {\n",
       "        vertical-align: middle;\n",
       "    }\n",
       "\n",
       "    .dataframe tbody tr th {\n",
       "        vertical-align: top;\n",
       "    }\n",
       "\n",
       "    .dataframe thead th {\n",
       "        text-align: right;\n",
       "    }\n",
       "</style>\n",
       "<table border=\"1\" class=\"dataframe\">\n",
       "  <thead>\n",
       "    <tr style=\"text-align: right;\">\n",
       "      <th></th>\n",
       "      <th>hetio_id</th>\n",
       "      <th>name</th>\n",
       "      <th>het_type</th>\n",
       "      <th>cui</th>\n",
       "    </tr>\n",
       "  </thead>\n",
       "  <tbody>\n",
       "    <tr>\n",
       "      <th>0</th>\n",
       "      <td>DB00795</td>\n",
       "      <td>Sulfasalazine</td>\n",
       "      <td>Compound</td>\n",
       "      <td>UMLS:C0036078</td>\n",
       "    </tr>\n",
       "    <tr>\n",
       "      <th>1</th>\n",
       "      <td>DB00795</td>\n",
       "      <td>Sulfasalazine</td>\n",
       "      <td>Compound</td>\n",
       "      <td>UMLS:C0699547</td>\n",
       "    </tr>\n",
       "    <tr>\n",
       "      <th>2</th>\n",
       "      <td>DB00795</td>\n",
       "      <td>Sulfasalazine</td>\n",
       "      <td>Compound</td>\n",
       "      <td>UMLS:C4255898</td>\n",
       "    </tr>\n",
       "    <tr>\n",
       "      <th>3</th>\n",
       "      <td>N0000000151</td>\n",
       "      <td>Histamine H2 Receptor Antagonists</td>\n",
       "      <td>Pharmacologic Class</td>\n",
       "      <td>UMLS:C2757005</td>\n",
       "    </tr>\n",
       "    <tr>\n",
       "      <th>4</th>\n",
       "      <td>100996420</td>\n",
       "      <td>DNM1P50</td>\n",
       "      <td>Gene</td>\n",
       "      <td>100996420</td>\n",
       "    </tr>\n",
       "  </tbody>\n",
       "</table>\n",
       "</div>"
      ],
      "text/plain": [
       "      hetio_id                               name             het_type  \\\n",
       "0      DB00795                      Sulfasalazine             Compound   \n",
       "1      DB00795                      Sulfasalazine             Compound   \n",
       "2      DB00795                      Sulfasalazine             Compound   \n",
       "3  N0000000151  Histamine H2 Receptor Antagonists  Pharmacologic Class   \n",
       "4    100996420                            DNM1P50                 Gene   \n",
       "\n",
       "             cui  \n",
       "0  UMLS:C0036078  \n",
       "1  UMLS:C0699547  \n",
       "2  UMLS:C4255898  \n",
       "3  UMLS:C2757005  \n",
       "4      100996420  "
      ]
     },
     "execution_count": 3,
     "metadata": {},
     "output_type": "execute_result"
    }
   ],
   "source": [
    "hmap.head()"
   ]
  },
  {
   "cell_type": "markdown",
   "metadata": {},
   "source": [
    "## Read original full gold std"
   ]
  },
  {
   "cell_type": "code",
   "execution_count": 4,
   "metadata": {},
   "outputs": [],
   "source": [
    "orig = (pd\n",
    "    .read_csv(\"../semmed/data/indications_slim.csv\", sep=',')\n",
    "    [[\"compound_umlscui\", \"compound_name\", \"disease_umlscui\", \"disease_name\", \"etype\"]]\n",
    "    .rename(columns={\n",
    "        \"compound_umlscui\": \"chemical_id\",\n",
    "        \"compound_name\": \"chemical_name\",\n",
    "        \"disease_umlscui\": \"disease_id\",\n",
    "    })\n",
    ")"
   ]
  },
  {
   "cell_type": "code",
   "execution_count": 5,
   "metadata": {},
   "outputs": [
    {
     "data": {
      "text/plain": [
       "(8176, 5)"
      ]
     },
     "execution_count": 5,
     "metadata": {},
     "output_type": "execute_result"
    }
   ],
   "source": [
    "orig.shape"
   ]
  },
  {
   "cell_type": "code",
   "execution_count": 6,
   "metadata": {},
   "outputs": [
    {
     "data": {
      "text/html": [
       "<div>\n",
       "<style scoped>\n",
       "    .dataframe tbody tr th:only-of-type {\n",
       "        vertical-align: middle;\n",
       "    }\n",
       "\n",
       "    .dataframe tbody tr th {\n",
       "        vertical-align: top;\n",
       "    }\n",
       "\n",
       "    .dataframe thead th {\n",
       "        text-align: right;\n",
       "    }\n",
       "</style>\n",
       "<table border=\"1\" class=\"dataframe\">\n",
       "  <thead>\n",
       "    <tr style=\"text-align: right;\">\n",
       "      <th></th>\n",
       "      <th>chemical_id</th>\n",
       "      <th>chemical_name</th>\n",
       "      <th>disease_id</th>\n",
       "      <th>disease_name</th>\n",
       "      <th>etype</th>\n",
       "    </tr>\n",
       "  </thead>\n",
       "  <tbody>\n",
       "    <tr>\n",
       "      <th>0</th>\n",
       "      <td>C3661315</td>\n",
       "      <td>rucaparib</td>\n",
       "      <td>C1299247</td>\n",
       "      <td>ovarian cancer</td>\n",
       "      <td>TREATS_CDtDO</td>\n",
       "    </tr>\n",
       "    <tr>\n",
       "      <th>1</th>\n",
       "      <td>C4044947</td>\n",
       "      <td>baricitinib</td>\n",
       "      <td>C0003873</td>\n",
       "      <td>rheumatoid arthritis</td>\n",
       "      <td>TREATS_CDtDO</td>\n",
       "    </tr>\n",
       "    <tr>\n",
       "      <th>2</th>\n",
       "      <td>C0520442</td>\n",
       "      <td>acetyldigitoxin</td>\n",
       "      <td>C0004238</td>\n",
       "      <td>Atrial fibrillation</td>\n",
       "      <td>TREATS_CDtDO</td>\n",
       "    </tr>\n",
       "    <tr>\n",
       "      <th>3</th>\n",
       "      <td>C0520442</td>\n",
       "      <td>acetyldigitoxin</td>\n",
       "      <td>C0018802</td>\n",
       "      <td>Congestive heart failure</td>\n",
       "      <td>TREATS_CDtDO</td>\n",
       "    </tr>\n",
       "    <tr>\n",
       "      <th>4</th>\n",
       "      <td>C0771809</td>\n",
       "      <td>acexamic acid</td>\n",
       "      <td>C0037299</td>\n",
       "      <td>Skin ulcer</td>\n",
       "      <td>TREATS_CDtDO</td>\n",
       "    </tr>\n",
       "  </tbody>\n",
       "</table>\n",
       "</div>"
      ],
      "text/plain": [
       "  chemical_id    chemical_name disease_id              disease_name  \\\n",
       "0    C3661315        rucaparib   C1299247            ovarian cancer   \n",
       "1    C4044947      baricitinib   C0003873      rheumatoid arthritis   \n",
       "2    C0520442  acetyldigitoxin   C0004238       Atrial fibrillation   \n",
       "3    C0520442  acetyldigitoxin   C0018802  Congestive heart failure   \n",
       "4    C0771809    acexamic acid   C0037299                Skin ulcer   \n",
       "\n",
       "          etype  \n",
       "0  TREATS_CDtDO  \n",
       "1  TREATS_CDtDO  \n",
       "2  TREATS_CDtDO  \n",
       "3  TREATS_CDtDO  \n",
       "4  TREATS_CDtDO  "
      ]
     },
     "execution_count": 6,
     "metadata": {},
     "output_type": "execute_result"
    }
   ],
   "source": [
    "orig.head()"
   ]
  },
  {
   "cell_type": "markdown",
   "metadata": {},
   "source": [
    "## Read filtered gold std used for semmeddb only"
   ]
  },
  {
   "cell_type": "code",
   "execution_count": 7,
   "metadata": {},
   "outputs": [],
   "source": [
    "gold = pd.read_csv(\"data/merged_gold.tsv\", sep='\\t')"
   ]
  },
  {
   "cell_type": "code",
   "execution_count": 8,
   "metadata": {},
   "outputs": [
    {
     "data": {
      "text/html": [
       "<div>\n",
       "<style scoped>\n",
       "    .dataframe tbody tr th:only-of-type {\n",
       "        vertical-align: middle;\n",
       "    }\n",
       "\n",
       "    .dataframe tbody tr th {\n",
       "        vertical-align: top;\n",
       "    }\n",
       "\n",
       "    .dataframe thead th {\n",
       "        text-align: right;\n",
       "    }\n",
       "</style>\n",
       "<table border=\"1\" class=\"dataframe\">\n",
       "  <thead>\n",
       "    <tr style=\"text-align: right;\">\n",
       "      <th></th>\n",
       "      <th>chemical_id</th>\n",
       "      <th>chemical_name</th>\n",
       "      <th>disease_id</th>\n",
       "      <th>disease_name</th>\n",
       "      <th>etype</th>\n",
       "      <th>chemical_uid</th>\n",
       "      <th>disease_uid</th>\n",
       "    </tr>\n",
       "  </thead>\n",
       "  <tbody>\n",
       "    <tr>\n",
       "      <th>0</th>\n",
       "      <td>UMLS:C0520442</td>\n",
       "      <td>acetyldigitoxin</td>\n",
       "      <td>UMLS:C0004238</td>\n",
       "      <td>Atrial fibrillation</td>\n",
       "      <td>TREATS_CDtDO</td>\n",
       "      <td>108642</td>\n",
       "      <td>22585</td>\n",
       "    </tr>\n",
       "    <tr>\n",
       "      <th>1</th>\n",
       "      <td>UMLS:C0033497</td>\n",
       "      <td>propranolol</td>\n",
       "      <td>UMLS:C0004238</td>\n",
       "      <td>Atrial fibrillation</td>\n",
       "      <td>TREATS_CDtDO</td>\n",
       "      <td>32398</td>\n",
       "      <td>22585</td>\n",
       "    </tr>\n",
       "    <tr>\n",
       "      <th>2</th>\n",
       "      <td>UMLS:C0012265</td>\n",
       "      <td>digoxin</td>\n",
       "      <td>UMLS:C0004238</td>\n",
       "      <td>Atrial fibrillation</td>\n",
       "      <td>TREATS_CDtDO</td>\n",
       "      <td>25280</td>\n",
       "      <td>22585</td>\n",
       "    </tr>\n",
       "    <tr>\n",
       "      <th>3</th>\n",
       "      <td>UMLS:C0084273</td>\n",
       "      <td>quinidine</td>\n",
       "      <td>UMLS:C0004238</td>\n",
       "      <td>Atrial fibrillation</td>\n",
       "      <td>TREATS_CDtDO</td>\n",
       "      <td>55039</td>\n",
       "      <td>22585</td>\n",
       "    </tr>\n",
       "    <tr>\n",
       "      <th>4</th>\n",
       "      <td>UMLS:C0766326</td>\n",
       "      <td>dronedarone</td>\n",
       "      <td>UMLS:C0004238</td>\n",
       "      <td>Atrial fibrillation</td>\n",
       "      <td>TREATS_CDtDO</td>\n",
       "      <td>134609</td>\n",
       "      <td>22585</td>\n",
       "    </tr>\n",
       "  </tbody>\n",
       "</table>\n",
       "</div>"
      ],
      "text/plain": [
       "     chemical_id    chemical_name     disease_id         disease_name  \\\n",
       "0  UMLS:C0520442  acetyldigitoxin  UMLS:C0004238  Atrial fibrillation   \n",
       "1  UMLS:C0033497      propranolol  UMLS:C0004238  Atrial fibrillation   \n",
       "2  UMLS:C0012265          digoxin  UMLS:C0004238  Atrial fibrillation   \n",
       "3  UMLS:C0084273        quinidine  UMLS:C0004238  Atrial fibrillation   \n",
       "4  UMLS:C0766326      dronedarone  UMLS:C0004238  Atrial fibrillation   \n",
       "\n",
       "          etype  chemical_uid  disease_uid  \n",
       "0  TREATS_CDtDO        108642        22585  \n",
       "1  TREATS_CDtDO         32398        22585  \n",
       "2  TREATS_CDtDO         25280        22585  \n",
       "3  TREATS_CDtDO         55039        22585  \n",
       "4  TREATS_CDtDO        134609        22585  "
      ]
     },
     "execution_count": 8,
     "metadata": {},
     "output_type": "execute_result"
    }
   ],
   "source": [
    "gold.head()"
   ]
  },
  {
   "cell_type": "code",
   "execution_count": 9,
   "metadata": {
    "scrolled": true
   },
   "outputs": [
    {
     "data": {
      "text/plain": [
       "(6329, 7)"
      ]
     },
     "execution_count": 9,
     "metadata": {},
     "output_type": "execute_result"
    }
   ],
   "source": [
    "gold.shape"
   ]
  },
  {
   "cell_type": "markdown",
   "metadata": {},
   "source": [
    "---"
   ]
  },
  {
   "cell_type": "markdown",
   "metadata": {},
   "source": [
    "## How many chemicals and diseases in hetionet from original gold?"
   ]
  },
  {
   "cell_type": "code",
   "execution_count": 10,
   "metadata": {},
   "outputs": [],
   "source": [
    "def is_cui(s):\n",
    "    return re.match(r'^C[0-9]{7}$', s) is not None"
   ]
  },
  {
   "cell_type": "code",
   "execution_count": 11,
   "metadata": {},
   "outputs": [
    {
     "data": {
      "text/plain": [
       "True"
      ]
     },
     "execution_count": 11,
     "metadata": {},
     "output_type": "execute_result"
    }
   ],
   "source": [
    "orig[\"chemical_id\"].map(is_cui).all()"
   ]
  },
  {
   "cell_type": "code",
   "execution_count": 12,
   "metadata": {},
   "outputs": [
    {
     "data": {
      "text/plain": [
       "False"
      ]
     },
     "execution_count": 12,
     "metadata": {},
     "output_type": "execute_result"
    }
   ],
   "source": [
    "orig[\"disease_id\"].map(is_cui).all()"
   ]
  },
  {
   "cell_type": "code",
   "execution_count": 13,
   "metadata": {},
   "outputs": [],
   "source": [
    "ochem = set(orig[\"chemical_id\"].map(lambda v: \"UMLS:{}\".format(v)))\n",
    "\n",
    "odise = set(orig[\"disease_id\"].map(lambda v: \"UMLS:{}\".format(v) if is_cui(v) else v))"
   ]
  },
  {
   "cell_type": "markdown",
   "metadata": {},
   "source": [
    "---"
   ]
  },
  {
   "cell_type": "code",
   "execution_count": 14,
   "metadata": {},
   "outputs": [
    {
     "data": {
      "text/plain": [
       "2165"
      ]
     },
     "execution_count": 14,
     "metadata": {},
     "output_type": "execute_result"
    }
   ],
   "source": [
    "len(ochem)"
   ]
  },
  {
   "cell_type": "code",
   "execution_count": 15,
   "metadata": {},
   "outputs": [
    {
     "data": {
      "text/plain": [
       "1245"
      ]
     },
     "execution_count": 15,
     "metadata": {},
     "output_type": "execute_result"
    }
   ],
   "source": [
    "len(odise)"
   ]
  },
  {
   "cell_type": "markdown",
   "metadata": {},
   "source": [
    "---"
   ]
  },
  {
   "cell_type": "code",
   "execution_count": 16,
   "metadata": {},
   "outputs": [],
   "source": [
    "hcuis = set(hmap[\"cui\"])"
   ]
  },
  {
   "cell_type": "code",
   "execution_count": 17,
   "metadata": {},
   "outputs": [
    {
     "data": {
      "text/plain": [
       "1056"
      ]
     },
     "execution_count": 17,
     "metadata": {},
     "output_type": "execute_result"
    }
   ],
   "source": [
    "len(hcuis & ochem)"
   ]
  },
  {
   "cell_type": "code",
   "execution_count": 18,
   "metadata": {},
   "outputs": [
    {
     "data": {
      "text/plain": [
       "618"
      ]
     },
     "execution_count": 18,
     "metadata": {},
     "output_type": "execute_result"
    }
   ],
   "source": [
    "len(hcuis & odise)"
   ]
  },
  {
   "cell_type": "code",
   "execution_count": 19,
   "metadata": {},
   "outputs": [
    {
     "data": {
      "text/plain": [
       "48.775981524249424"
      ]
     },
     "execution_count": 19,
     "metadata": {},
     "output_type": "execute_result"
    }
   ],
   "source": [
    "len(hcuis & ochem) / len(ochem) * 100"
   ]
  },
  {
   "cell_type": "code",
   "execution_count": 20,
   "metadata": {},
   "outputs": [
    {
     "data": {
      "text/plain": [
       "49.63855421686747"
      ]
     },
     "execution_count": 20,
     "metadata": {},
     "output_type": "execute_result"
    }
   ],
   "source": [
    "len(hcuis & odise) / len(odise) * 100"
   ]
  },
  {
   "cell_type": "markdown",
   "metadata": {},
   "source": [
    "The original gold standard (unfiltered by semmeddb) only overlaps roughly 50% with hetionet."
   ]
  },
  {
   "cell_type": "markdown",
   "metadata": {},
   "source": [
    "### semmed filtered gold std"
   ]
  },
  {
   "cell_type": "code",
   "execution_count": 21,
   "metadata": {},
   "outputs": [
    {
     "data": {
      "text/html": [
       "<div>\n",
       "<style scoped>\n",
       "    .dataframe tbody tr th:only-of-type {\n",
       "        vertical-align: middle;\n",
       "    }\n",
       "\n",
       "    .dataframe tbody tr th {\n",
       "        vertical-align: top;\n",
       "    }\n",
       "\n",
       "    .dataframe thead th {\n",
       "        text-align: right;\n",
       "    }\n",
       "</style>\n",
       "<table border=\"1\" class=\"dataframe\">\n",
       "  <thead>\n",
       "    <tr style=\"text-align: right;\">\n",
       "      <th></th>\n",
       "      <th>chemical_id</th>\n",
       "      <th>chemical_name</th>\n",
       "      <th>disease_id</th>\n",
       "      <th>disease_name</th>\n",
       "      <th>etype</th>\n",
       "      <th>chemical_uid</th>\n",
       "      <th>disease_uid</th>\n",
       "    </tr>\n",
       "  </thead>\n",
       "  <tbody>\n",
       "    <tr>\n",
       "      <th>0</th>\n",
       "      <td>UMLS:C0520442</td>\n",
       "      <td>acetyldigitoxin</td>\n",
       "      <td>UMLS:C0004238</td>\n",
       "      <td>Atrial fibrillation</td>\n",
       "      <td>TREATS_CDtDO</td>\n",
       "      <td>108642</td>\n",
       "      <td>22585</td>\n",
       "    </tr>\n",
       "    <tr>\n",
       "      <th>1</th>\n",
       "      <td>UMLS:C0033497</td>\n",
       "      <td>propranolol</td>\n",
       "      <td>UMLS:C0004238</td>\n",
       "      <td>Atrial fibrillation</td>\n",
       "      <td>TREATS_CDtDO</td>\n",
       "      <td>32398</td>\n",
       "      <td>22585</td>\n",
       "    </tr>\n",
       "    <tr>\n",
       "      <th>2</th>\n",
       "      <td>UMLS:C0012265</td>\n",
       "      <td>digoxin</td>\n",
       "      <td>UMLS:C0004238</td>\n",
       "      <td>Atrial fibrillation</td>\n",
       "      <td>TREATS_CDtDO</td>\n",
       "      <td>25280</td>\n",
       "      <td>22585</td>\n",
       "    </tr>\n",
       "  </tbody>\n",
       "</table>\n",
       "</div>"
      ],
      "text/plain": [
       "     chemical_id    chemical_name     disease_id         disease_name  \\\n",
       "0  UMLS:C0520442  acetyldigitoxin  UMLS:C0004238  Atrial fibrillation   \n",
       "1  UMLS:C0033497      propranolol  UMLS:C0004238  Atrial fibrillation   \n",
       "2  UMLS:C0012265          digoxin  UMLS:C0004238  Atrial fibrillation   \n",
       "\n",
       "          etype  chemical_uid  disease_uid  \n",
       "0  TREATS_CDtDO        108642        22585  \n",
       "1  TREATS_CDtDO         32398        22585  \n",
       "2  TREATS_CDtDO         25280        22585  "
      ]
     },
     "execution_count": 21,
     "metadata": {},
     "output_type": "execute_result"
    }
   ],
   "source": [
    "gold.head(3)"
   ]
  },
  {
   "cell_type": "code",
   "execution_count": 22,
   "metadata": {},
   "outputs": [],
   "source": [
    "gchems = set(gold[\"chemical_id\"])\n",
    "gdises = set(gold[\"disease_id\"])"
   ]
  },
  {
   "cell_type": "code",
   "execution_count": 23,
   "metadata": {},
   "outputs": [
    {
     "data": {
      "text/plain": [
       "1618"
      ]
     },
     "execution_count": 23,
     "metadata": {},
     "output_type": "execute_result"
    }
   ],
   "source": [
    "len(gchems)"
   ]
  },
  {
   "cell_type": "code",
   "execution_count": 24,
   "metadata": {},
   "outputs": [
    {
     "data": {
      "text/plain": [
       "963"
      ]
     },
     "execution_count": 24,
     "metadata": {},
     "output_type": "execute_result"
    }
   ],
   "source": [
    "len(gdises)"
   ]
  },
  {
   "cell_type": "code",
   "execution_count": 25,
   "metadata": {},
   "outputs": [
    {
     "data": {
      "text/plain": [
       "57.045735475896166"
      ]
     },
     "execution_count": 25,
     "metadata": {},
     "output_type": "execute_result"
    }
   ],
   "source": [
    "len(hcuis & gchems) / len(gchems) * 100"
   ]
  },
  {
   "cell_type": "code",
   "execution_count": 26,
   "metadata": {},
   "outputs": [
    {
     "data": {
      "text/plain": [
       "60.020768431983385"
      ]
     },
     "execution_count": 26,
     "metadata": {},
     "output_type": "execute_result"
    }
   ],
   "source": [
    "len(hcuis & gdises) / len(gdises) * 100"
   ]
  },
  {
   "cell_type": "markdown",
   "metadata": {},
   "source": [
    "Using the gold standard which was used for semmeddb gives slightly better overlap results with hetionet (~60% instead of 50%)."
   ]
  },
  {
   "cell_type": "markdown",
   "metadata": {},
   "source": [
    "---"
   ]
  },
  {
   "cell_type": "code",
   "execution_count": 27,
   "metadata": {},
   "outputs": [],
   "source": [
    "temp = (gold\n",
    "    .query(\"chemical_id in @hcuis and disease_id in @hcuis\")\n",
    ")"
   ]
  },
  {
   "cell_type": "code",
   "execution_count": 28,
   "metadata": {},
   "outputs": [
    {
     "data": {
      "text/plain": [
       "(6329, 7)"
      ]
     },
     "execution_count": 28,
     "metadata": {},
     "output_type": "execute_result"
    }
   ],
   "source": [
    "gold.shape"
   ]
  },
  {
   "cell_type": "code",
   "execution_count": 29,
   "metadata": {},
   "outputs": [
    {
     "data": {
      "text/plain": [
       "(2924, 7)"
      ]
     },
     "execution_count": 29,
     "metadata": {},
     "output_type": "execute_result"
    }
   ],
   "source": [
    "temp.shape"
   ]
  },
  {
   "cell_type": "code",
   "execution_count": 30,
   "metadata": {},
   "outputs": [
    {
     "data": {
      "text/plain": [
       "46.200031600568806"
      ]
     },
     "execution_count": 30,
     "metadata": {},
     "output_type": "execute_result"
    }
   ],
   "source": [
    "len(temp) / len(gold) * 100"
   ]
  },
  {
   "cell_type": "markdown",
   "metadata": {},
   "source": [
    "so subsetting the semmed gold standard to what is existing in hetionet will only give us 45% of the dataset, which is substantially smaller than what we were using to evaluate semmeddb. so we can run it i guess, but not sure if the results will be comparable."
   ]
  }
 ],
 "metadata": {
  "kernelspec": {
   "display_name": "Python 3",
   "language": "python",
   "name": "python3"
  },
  "language_info": {
   "codemirror_mode": {
    "name": "ipython",
    "version": 3
   },
   "file_extension": ".py",
   "mimetype": "text/x-python",
   "name": "python",
   "nbconvert_exporter": "python",
   "pygments_lexer": "ipython3",
   "version": "3.5.2"
  }
 },
 "nbformat": 4,
 "nbformat_minor": 2
}
