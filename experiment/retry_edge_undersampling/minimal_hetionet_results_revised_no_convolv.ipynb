{
 "cells": [
  {
   "cell_type": "markdown",
   "metadata": {},
   "source": [
    "revised results with the now fully bipartite network"
   ]
  },
  {
   "cell_type": "code",
   "execution_count": 1,
   "metadata": {},
   "outputs": [],
   "source": [
    "import pandas as pd\n",
    "import numpy as np\n",
    "\n",
    "from tqdm import tqdm\n",
    "\n",
    "from scipy import interp\n",
    "import matplotlib.pyplot as plt\n",
    "from sklearn.metrics import roc_curve, auc\n",
    "from sklearn.metrics import precision_recall_curve\n",
    "\n",
    "from sklearn.linear_model import LogisticRegression\n",
    "\n",
    "from itertools import chain\n",
    "\n",
    "from glob import glob\n",
    "import os\n",
    "import seaborn as sns\n",
    "\n",
    "from collections import defaultdict"
   ]
  },
  {
   "cell_type": "code",
   "execution_count": 2,
   "metadata": {},
   "outputs": [],
   "source": [
    "%matplotlib inline"
   ]
  },
  {
   "cell_type": "markdown",
   "metadata": {},
   "source": [
    "---"
   ]
  },
  {
   "cell_type": "markdown",
   "metadata": {},
   "source": [
    "if no embedding for training data\n"
   ]
  },
  {
   "cell_type": "code",
   "execution_count": 3,
   "metadata": {},
   "outputs": [],
   "source": [
    "def add_features(df, features, mergetype):\n",
    "    return (df\n",
    "        .merge(\n",
    "            features, how=mergetype, left_on=\"chemical_uid\", right_on=\"uid\"\n",
    "        )\n",
    "        .drop(\"uid\", axis=1)\n",
    "        .merge(\n",
    "            features, how=mergetype, left_on=\"disease_uid\", right_on=\"uid\"\n",
    "        )\n",
    "        .drop(\"uid\", axis=1)\n",
    "    )\n",
    "\n",
    "\n",
    "def no_convolv(df, features, vecsize, mergetype):\n",
    "    reg = add_features(df, features, mergetype)\n",
    "\n",
    "    temp = defaultdict()\n",
    "    \n",
    "    for i in range(vecsize):\n",
    "        temp[\"f{}_x\".format(i)] = \"f{}\".format(i)\n",
    "\n",
    "    for i in range(vecsize):\n",
    "        temp[\"f{}_y\".format(i)] = \"f{}\".format(i + vecsize)\n",
    "\n",
    "    reg = reg.rename(columns=temp)\n",
    "        \n",
    "    return reg"
   ]
  },
  {
   "cell_type": "markdown",
   "metadata": {},
   "source": [
    "there are nodes in the holdout dataset that did not have any embeddings generated for it. check to see if they had proper adjlists made"
   ]
  },
  {
   "cell_type": "code",
   "execution_count": 4,
   "metadata": {},
   "outputs": [],
   "source": [
    "def eval_performance(K, vecsize):\n",
    "    for idx in range(K):\n",
    "        train = pd.read_csv(\n",
    "            \"data/min_hetionet/test/train_{}.tsv\".format(idx),\n",
    "            sep='\\t'\n",
    "        )\n",
    "        \n",
    "        holdout = pd.read_csv(\n",
    "            \"data/min_hetionet/test/holdout_{}.tsv\".format(idx),\n",
    "            sep='\\t'\n",
    "        )\n",
    "\n",
    "        features = pd.read_csv(\n",
    "            \"data/min_hetionet/test/embedding_{}.txt\".format(idx),\n",
    "            sep=\" \", skiprows=1,\n",
    "            names=[\"uid\"] + [\"f{}\".format(i) for i in range(vecsize)]\n",
    "        )\n",
    "        \n",
    "        \n",
    "        tmp = no_convolv(train, features, vecsize, \"inner\")\n",
    "\n",
    "        feat_cols = [\n",
    "            \"f{}\".format(i)\n",
    "            for i in range(2*vecsize)\n",
    "        ]\n",
    "        \n",
    "        regmodel = LogisticRegression(C=1e9).fit(tmp[feat_cols], tmp[\"etype\"])\n",
    "\n",
    "        # test on holdout\n",
    "        test = no_convolv(\n",
    "            holdout.drop(\"etype\", axis=1),\n",
    "            features, vecsize, \"left\"\n",
    "        )\n",
    "        \n",
    "        assert len(test) == len(holdout)\n",
    "        \n",
    "        # if there are empty ones in the features column,\n",
    "        # then we didn't generate any embeddings, and therefore\n",
    "        # need to split those up and treat as zeroes\n",
    "        # for the others we can predict normally, then join together\n",
    "        \n",
    "        regular = test[test[\"f0\"].notnull()].assign(missed = False)\n",
    "        \n",
    "        missed = (test[test[\"f0\"].isnull()]\n",
    "            .assign(\n",
    "                predval = 0\n",
    "            )\n",
    "            .assign(missed = True)\n",
    "        )\n",
    "  \n",
    "        print(regular.shape)\n",
    "        print(missed.shape)\n",
    "                \n",
    "        # add in predictions\n",
    "        ans = regular.assign(\n",
    "            predval = lambda df: regmodel.predict_proba(df[feat_cols])[:, 1]\n",
    "        )\n",
    "        \n",
    "        ans = ans.append(missed)\n",
    "        \n",
    "        assert len(ans) == len(holdout)\n",
    "        \n",
    "        yield (ans\n",
    "            [[\"chemical_uid\", \"disease_uid\", \"predval\", \"missed\"]]\n",
    "            .merge(\n",
    "                holdout[[\"chemical_uid\", \"disease_uid\", \"etype\"]],\n",
    "                how=\"inner\", on=[\"chemical_uid\", \"disease_uid\"]\n",
    "            )\n",
    "            .sort_values(\"predval\", ascending=False)\n",
    "            .reset_index(drop=True)\n",
    "        )"
   ]
  },
  {
   "cell_type": "markdown",
   "metadata": {},
   "source": [
    "need to check that we have the expected embeddings for the concepts"
   ]
  },
  {
   "cell_type": "code",
   "execution_count": 5,
   "metadata": {},
   "outputs": [
    {
     "name": "stdout",
     "output_type": "stream",
     "text": [
      "(5993, 133)\n",
      "(0, 134)\n",
      "(6476, 133)\n",
      "(0, 134)\n",
      "(6538, 133)\n",
      "(0, 134)\n",
      "(5421, 133)\n",
      "(0, 134)\n",
      "(5758, 133)\n",
      "(0, 134)\n"
     ]
    },
    {
     "data": {
      "image/png": "[encoded data removed]",
      "text/plain": [
       "<matplotlib.figure.Figure at 0x7f59e3862550>"
      ]
     },
     "metadata": {},
     "output_type": "display_data"
    }
   ],
   "source": [
    "K = 5\n",
    "vecsize = 64\n",
    "\n",
    "tprs = []\n",
    "aucs = []\n",
    "mean_fpr = np.linspace(0, 1, 100)\n",
    "\n",
    "plt.figure(figsize=(8, 8))\n",
    "\n",
    "for res in eval_performance(K, vecsize):\n",
    "    fpr, tpr, thresh = roc_curve(res[\"etype\"], res[\"predval\"])\n",
    "\n",
    "    tprs.append(interp(mean_fpr, fpr, tpr))\n",
    "    tprs[-1][0] = 0\n",
    "    auc_val = auc(fpr, tpr)\n",
    "    aucs.append(auc_val)\n",
    "\n",
    "    plt.plot(fpr, tpr, lw=1, alpha=0.3)\n",
    "    \n",
    "# ---------------    \n",
    "    \n",
    "plt.plot([0, 1], [0, 1], linestyle='--', lw=2, color='r', label='Luck', alpha=0.8)\n",
    "\n",
    "mean_tpr = np.mean(tprs, axis=0)\n",
    "mean_tpr[-1] = 1\n",
    "mean_auc = auc(mean_fpr, mean_tpr)\n",
    "std_auc = np.std(aucs)\n",
    "\n",
    "plt.plot(\n",
    "    mean_fpr, mean_tpr, color='b',\n",
    "    label=\"Mean ROC (AUC = %0.2f $\\pm$ %0.2f)\" % (mean_auc, std_auc),\n",
    "    lw=2, alpha=0.8\n",
    ")\n",
    "\n",
    "std_tpr = np.std(tprs, axis=0)\n",
    "tprs_upper = np.minimum(mean_tpr + std_tpr, 1)\n",
    "tprs_lower = np.maximum(mean_tpr - std_tpr, 0)\n",
    "plt.fill_between(\n",
    "    mean_fpr, tprs_lower, tprs_upper, color='grey',\n",
    "    alpha=0.2, label=\"$\\pm$ one sigma\"\n",
    ")\n",
    "\n",
    "plt.xlim([-0.05, 1.05])\n",
    "plt.ylim([-0.05, 1.05])\n",
    "plt.xlabel('False Positive Rate')\n",
    "plt.ylabel('True Positive Rate')\n",
    "plt.title(\"ROCs\")\n",
    "          \n",
    "plt.legend(loc=\"lower right\")\n",
    "plt.show()"
   ]
  },
  {
   "cell_type": "markdown",
   "metadata": {},
   "source": [
    "making sure that the adjacency list was bipartite does not seem to have affected the results at all?"
   ]
  },
  {
   "cell_type": "code",
   "execution_count": null,
   "metadata": {},
   "outputs": [],
   "source": []
  }
 ],
 "metadata": {
  "kernelspec": {
   "display_name": "Python 3",
   "language": "python",
   "name": "python3"
  },
  "language_info": {
   "codemirror_mode": {
    "name": "ipython",
    "version": 3
   },
   "file_extension": ".py",
   "mimetype": "text/x-python",
   "name": "python",
   "nbconvert_exporter": "python",
   "pygments_lexer": "ipython3",
   "version": "3.5.2"
  }
 },
 "nbformat": 4,
 "nbformat_minor": 2
}
