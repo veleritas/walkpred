{
 "cells": [
  {
   "cell_type": "markdown",
   "metadata": {},
   "source": [
    "we still seem to be getting bad results over baseline even with a completely disjoint network. could the regression just be going off of the frequencies when making predictions? we will test this by generating completely random features for each of the concepts in lieu of actually using the deepwalk embeddings"
   ]
  },
  {
   "cell_type": "code",
   "execution_count": 1,
   "metadata": {},
   "outputs": [],
   "source": [
    "import pandas as pd\n",
    "import numpy as np\n",
    "\n",
    "from scipy import interp\n",
    "import matplotlib.pyplot as plt\n",
    "from sklearn.metrics import roc_curve, auc\n",
    "from sklearn.metrics import precision_recall_curve\n",
    "\n",
    "from sklearn.linear_model import LogisticRegression\n",
    "\n",
    "import seaborn as sns"
   ]
  },
  {
   "cell_type": "code",
   "execution_count": 2,
   "metadata": {},
   "outputs": [],
   "source": [
    "%matplotlib inline"
   ]
  },
  {
   "cell_type": "markdown",
   "metadata": {},
   "source": [
    "## Constant definition"
   ]
  },
  {
   "cell_type": "code",
   "execution_count": 3,
   "metadata": {},
   "outputs": [],
   "source": [
    "vecsize = 64\n",
    "num_nodes = 7927"
   ]
  },
  {
   "cell_type": "markdown",
   "metadata": {},
   "source": [
    "---"
   ]
  },
  {
   "cell_type": "code",
   "execution_count": 4,
   "metadata": {},
   "outputs": [],
   "source": [
    "def make_fake_features(vecsize, n_uids):\n",
    "    # embeddings are gaussian distributed on each feature column\n",
    "    # maybe a cauchy distribution? or power normal\n",
    "    \n",
    "    features = [\n",
    "        np.random.standard_normal(n_uids)\n",
    "        for i in range(vecsize)\n",
    "    ]\n",
    "    \n",
    "    cols = [\"f{}\".format(i) for i in range(vecsize)]\n",
    "    \n",
    "    return (pd\n",
    "        .DataFrame(np.transpose(features), columns=cols)\n",
    "        .reset_index()\n",
    "        .rename(columns={\"index\": \"uid\"})\n",
    "    )"
   ]
  },
  {
   "cell_type": "code",
   "execution_count": 5,
   "metadata": {},
   "outputs": [],
   "source": [
    "def add_features(df, features, mergetype):\n",
    "    return (df\n",
    "        .merge(\n",
    "            features, how=mergetype, left_on=\"chemical_uid\", right_on=\"uid\"\n",
    "        )\n",
    "        .drop(\"uid\", axis=1)\n",
    "        .merge(\n",
    "            features, how=mergetype, left_on=\"disease_uid\", right_on=\"uid\"\n",
    "        )\n",
    "        .drop(\"uid\", axis=1)\n",
    "    )\n",
    "\n",
    "def convolv_features(df, features, vecsize, mergetype):\n",
    "    reg = add_features(df, features, mergetype)\n",
    "    \n",
    "    # do multiply and get rid of old features\n",
    "    for i in range(vecsize):\n",
    "        reg[\"conv{}\".format(i)] = reg[\"f{}_x\".format(i)] * reg[\"f{}_y\".format(i)]\n",
    "\n",
    "    reg = (reg\n",
    "        .drop(\n",
    "            [\"f{}_x\".format(i) for i in range(vecsize)], axis=1\n",
    "        )\n",
    "        .drop(\n",
    "            [\"f{}_y\".format(i) for i in range(vecsize)], axis=1\n",
    "        )\n",
    "    )\n",
    "        \n",
    "    return reg"
   ]
  },
  {
   "cell_type": "code",
   "execution_count": 6,
   "metadata": {},
   "outputs": [],
   "source": [
    "def eval_performance(idx, vecsize):\n",
    "    \n",
    "    train = pd.read_csv(\n",
    "        \"data/min_hetionet/test/train_{}.tsv\".format(idx), sep='\\t'\n",
    "    )\n",
    "    \n",
    "    holdout = pd.read_csv(\n",
    "        \"data/min_hetionet/test/holdout_{}.tsv\".format(idx), sep='\\t'\n",
    "    )\n",
    "    \n",
    "    features = make_fake_features(vecsize, num_nodes)\n",
    "    \n",
    "    \n",
    "    \n",
    "    \n",
    "    # train the model\n",
    "    \n",
    "    tmp = convolv_features(train, features, vecsize, \"inner\")\n",
    "\n",
    "    feat_cols = [\"conv{}\".format(j) for j in range(vecsize)]\n",
    "    regmodel = LogisticRegression(C=1e9).fit(tmp[feat_cols], tmp[\"etype\"])\n",
    "\n",
    "    # test on holdout\n",
    "    test = convolv_features(\n",
    "        holdout.drop(\"etype\", axis=1),\n",
    "        features, vecsize, \"left\"\n",
    "    )\n",
    "\n",
    "    assert len(test) == len(holdout)\n",
    "\n",
    "    # if there are empty ones in the features column,\n",
    "    # then we didn't generate any embeddings, and therefore\n",
    "    # need to split those up and treat as zeroes\n",
    "    # for the others we can predict normally, then join together\n",
    "\n",
    "    regular = test[test[\"conv0\"].notnull()].assign(missed = False)\n",
    "\n",
    "    missed = (test[test[\"conv0\"].isnull()]\n",
    "        .assign(\n",
    "            predval = 0\n",
    "        )\n",
    "        .assign(missed = True)\n",
    "    )\n",
    "    \n",
    "    print(\"predicted {} missed {}\".format(len(regular), len(missed)))\n",
    "\n",
    "    # add in predictions\n",
    "    ans = regular.assign(\n",
    "        predval = lambda df: regmodel.predict_proba(df[feat_cols])[:, 1]\n",
    "    )\n",
    "\n",
    "    ans = ans.append(missed)\n",
    "\n",
    "    assert len(ans) == len(holdout)\n",
    "\n",
    "    return (ans\n",
    "        [[\"chemical_uid\", \"disease_uid\", \"predval\", \"missed\"]]\n",
    "        .merge(\n",
    "            holdout[[\"chemical_uid\", \"disease_uid\", \"etype\"]],\n",
    "            how=\"inner\", on=[\"chemical_uid\", \"disease_uid\"]\n",
    "        )\n",
    "        .sort_values(\"predval\", ascending=False)\n",
    "        .reset_index(drop=True)\n",
    "    )"
   ]
  },
  {
   "cell_type": "markdown",
   "metadata": {},
   "source": [
    "---"
   ]
  },
  {
   "cell_type": "markdown",
   "metadata": {},
   "source": [
    "## Train the model"
   ]
  },
  {
   "cell_type": "code",
   "execution_count": 7,
   "metadata": {},
   "outputs": [
    {
     "name": "stdout",
     "output_type": "stream",
     "text": [
      "predicted 5993 missed 0\n",
      "predicted 6476 missed 0\n",
      "predicted 6538 missed 0\n",
      "predicted 5421 missed 0\n",
      "predicted 5758 missed 0\n"
     ]
    },
    {
     "data": {
      "image/png": "[encoded data removed]",
      "text/plain": [
       "<matplotlib.figure.Figure at 0x7fac711d19b0>"
      ]
     },
     "metadata": {},
     "output_type": "display_data"
    }
   ],
   "source": [
    "K = 5\n",
    "\n",
    "tprs = []\n",
    "aucs = []\n",
    "mean_fpr = np.linspace(0, 1, 100)\n",
    "\n",
    "plt.figure(figsize=(8, 8))\n",
    "\n",
    "for idx in range(K):\n",
    "    res = eval_performance(idx, vecsize)\n",
    "\n",
    "    fpr, tpr, thresh = roc_curve(res[\"etype\"], res[\"predval\"])\n",
    "\n",
    "    tprs.append(interp(mean_fpr, fpr, tpr))\n",
    "    tprs[-1][0] = 0\n",
    "    auc_val = auc(fpr, tpr)\n",
    "    aucs.append(auc_val)\n",
    "\n",
    "    plt.plot(fpr, tpr, lw=1, alpha=0.3)\n",
    "    \n",
    "# ---------------    \n",
    "    \n",
    "plt.plot([0, 1], [0, 1], linestyle='--', lw=2, color='r', label='Luck', alpha=0.8)\n",
    "\n",
    "mean_tpr = np.mean(tprs, axis=0)\n",
    "mean_tpr[-1] = 1\n",
    "mean_auc = auc(mean_fpr, mean_tpr)\n",
    "std_auc = np.std(aucs)\n",
    "\n",
    "plt.plot(\n",
    "    mean_fpr, mean_tpr, color='b',\n",
    "    label=\"Mean ROC (AUC = %0.2f $\\pm$ %0.2f)\" % (mean_auc, std_auc),\n",
    "    lw=2, alpha=0.8\n",
    ")\n",
    "\n",
    "std_tpr = np.std(tprs, axis=0)\n",
    "tprs_upper = np.minimum(mean_tpr + std_tpr, 1)\n",
    "tprs_lower = np.maximum(mean_tpr - std_tpr, 0)\n",
    "plt.fill_between(\n",
    "    mean_fpr, tprs_lower, tprs_upper, color='grey',\n",
    "    alpha=0.2, label=\"$\\pm$ one sigma\"\n",
    ")\n",
    "\n",
    "plt.xlim([-0.05, 1.05])\n",
    "plt.ylim([-0.05, 1.05])\n",
    "plt.xlabel('False Positive Rate')\n",
    "plt.ylabel('True Positive Rate')\n",
    "plt.title(\"ROCs\")\n",
    "          \n",
    "plt.legend(loc=\"lower right\")\n",
    "plt.show()"
   ]
  },
  {
   "cell_type": "markdown",
   "metadata": {},
   "source": [
    "so when we use the same training and regression code on a consistent set of randomly generated embeddings, we see what we want which is a 0.5 roc value. however we do not seem to be able to get the same 0.5 roc when we are using embeddings generated by deepwalk even when the nodes are not linked in any way. this is most strange, and suggests that deepwalk is clustering nodes somehow in the embedding?"
   ]
  },
  {
   "cell_type": "code",
   "execution_count": null,
   "metadata": {},
   "outputs": [],
   "source": []
  }
 ],
 "metadata": {
  "kernelspec": {
   "display_name": "Python 3",
   "language": "python",
   "name": "python3"
  },
  "language_info": {
   "codemirror_mode": {
    "name": "ipython",
    "version": 3
   },
   "file_extension": ".py",
   "mimetype": "text/x-python",
   "name": "python",
   "nbconvert_exporter": "python",
   "pygments_lexer": "ipython3",
   "version": "3.5.2"
  }
 },
 "nbformat": 4,
 "nbformat_minor": 2
}
