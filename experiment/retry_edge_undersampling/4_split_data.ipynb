{
 "cells": [
  {
   "cell_type": "markdown",
   "metadata": {},
   "source": [
    "# Split the gold standard into training and holdout datasets"
   ]
  },
  {
   "cell_type": "code",
   "execution_count": 1,
   "metadata": {},
   "outputs": [],
   "source": [
    "import pandas as pd\n",
    "\n",
    "from itertools import product"
   ]
  },
  {
   "cell_type": "markdown",
   "metadata": {},
   "source": [
    "## Define inputs"
   ]
  },
  {
   "cell_type": "code",
   "execution_count": 2,
   "metadata": {},
   "outputs": [],
   "source": [
    "nodes_fname = \"data/min_hetionet/minhet_nodes.tsv\"\n",
    "\n",
    "edges_fname = \"data/min_hetionet/minhet_edges.tsv\"\n",
    "\n",
    "gold_fname = \"data/hetionet/goldstd.tsv\""
   ]
  },
  {
   "cell_type": "code",
   "execution_count": 3,
   "metadata": {},
   "outputs": [],
   "source": [
    "nodes = pd.read_csv(nodes_fname, sep='\\t')"
   ]
  },
  {
   "cell_type": "code",
   "execution_count": 4,
   "metadata": {},
   "outputs": [
    {
     "data": {
      "text/html": [
       "<div>\n",
       "<style scoped>\n",
       "    .dataframe tbody tr th:only-of-type {\n",
       "        vertical-align: middle;\n",
       "    }\n",
       "\n",
       "    .dataframe tbody tr th {\n",
       "        vertical-align: top;\n",
       "    }\n",
       "\n",
       "    .dataframe thead th {\n",
       "        text-align: right;\n",
       "    }\n",
       "</style>\n",
       "<table border=\"1\" class=\"dataframe\">\n",
       "  <thead>\n",
       "    <tr style=\"text-align: right;\">\n",
       "      <th></th>\n",
       "      <th>node_uid</th>\n",
       "      <th>node_id</th>\n",
       "      <th>name</th>\n",
       "      <th>het_type</th>\n",
       "    </tr>\n",
       "  </thead>\n",
       "  <tbody>\n",
       "    <tr>\n",
       "      <th>0</th>\n",
       "      <td>0</td>\n",
       "      <td>10</td>\n",
       "      <td>NAT2</td>\n",
       "      <td>Gene</td>\n",
       "    </tr>\n",
       "    <tr>\n",
       "      <th>1</th>\n",
       "      <td>1</td>\n",
       "      <td>100</td>\n",
       "      <td>ADA</td>\n",
       "      <td>Gene</td>\n",
       "    </tr>\n",
       "    <tr>\n",
       "      <th>2</th>\n",
       "      <td>2</td>\n",
       "      <td>10000</td>\n",
       "      <td>AKT3</td>\n",
       "      <td>Gene</td>\n",
       "    </tr>\n",
       "    <tr>\n",
       "      <th>3</th>\n",
       "      <td>3</td>\n",
       "      <td>10005</td>\n",
       "      <td>ACOT8</td>\n",
       "      <td>Gene</td>\n",
       "    </tr>\n",
       "    <tr>\n",
       "      <th>4</th>\n",
       "      <td>4</td>\n",
       "      <td>10007</td>\n",
       "      <td>GNPDA1</td>\n",
       "      <td>Gene</td>\n",
       "    </tr>\n",
       "  </tbody>\n",
       "</table>\n",
       "</div>"
      ],
      "text/plain": [
       "   node_uid node_id    name het_type\n",
       "0         0      10    NAT2     Gene\n",
       "1         1     100     ADA     Gene\n",
       "2         2   10000    AKT3     Gene\n",
       "3         3   10005   ACOT8     Gene\n",
       "4         4   10007  GNPDA1     Gene"
      ]
     },
     "execution_count": 4,
     "metadata": {},
     "output_type": "execute_result"
    }
   ],
   "source": [
    "nodes.head()"
   ]
  },
  {
   "cell_type": "code",
   "execution_count": 5,
   "metadata": {},
   "outputs": [],
   "source": [
    "edges = pd.read_csv(edges_fname, sep='\\t')"
   ]
  },
  {
   "cell_type": "code",
   "execution_count": 6,
   "metadata": {},
   "outputs": [
    {
     "data": {
      "text/html": [
       "<div>\n",
       "<style scoped>\n",
       "    .dataframe tbody tr th:only-of-type {\n",
       "        vertical-align: middle;\n",
       "    }\n",
       "\n",
       "    .dataframe tbody tr th {\n",
       "        vertical-align: top;\n",
       "    }\n",
       "\n",
       "    .dataframe thead th {\n",
       "        text-align: right;\n",
       "    }\n",
       "</style>\n",
       "<table border=\"1\" class=\"dataframe\">\n",
       "  <thead>\n",
       "    <tr style=\"text-align: right;\">\n",
       "      <th></th>\n",
       "      <th>start_id</th>\n",
       "      <th>end_id</th>\n",
       "      <th>het_etype</th>\n",
       "      <th>start_htype</th>\n",
       "      <th>end_htype</th>\n",
       "    </tr>\n",
       "  </thead>\n",
       "  <tbody>\n",
       "    <tr>\n",
       "      <th>0</th>\n",
       "      <td>DB00643</td>\n",
       "      <td>51547</td>\n",
       "      <td>UPREGULATES_CuG</td>\n",
       "      <td>Compound</td>\n",
       "      <td>Gene</td>\n",
       "    </tr>\n",
       "    <tr>\n",
       "      <th>1</th>\n",
       "      <td>DB08881</td>\n",
       "      <td>10450</td>\n",
       "      <td>UPREGULATES_CuG</td>\n",
       "      <td>Compound</td>\n",
       "      <td>Gene</td>\n",
       "    </tr>\n",
       "    <tr>\n",
       "      <th>2</th>\n",
       "      <td>DB01211</td>\n",
       "      <td>10450</td>\n",
       "      <td>DOWNREGULATES_CdG</td>\n",
       "      <td>Compound</td>\n",
       "      <td>Gene</td>\n",
       "    </tr>\n",
       "    <tr>\n",
       "      <th>3</th>\n",
       "      <td>DB00374</td>\n",
       "      <td>10450</td>\n",
       "      <td>DOWNREGULATES_CdG</td>\n",
       "      <td>Compound</td>\n",
       "      <td>Gene</td>\n",
       "    </tr>\n",
       "    <tr>\n",
       "      <th>4</th>\n",
       "      <td>DB00398</td>\n",
       "      <td>10450</td>\n",
       "      <td>UPREGULATES_CuG</td>\n",
       "      <td>Compound</td>\n",
       "      <td>Gene</td>\n",
       "    </tr>\n",
       "  </tbody>\n",
       "</table>\n",
       "</div>"
      ],
      "text/plain": [
       "  start_id end_id          het_etype start_htype end_htype\n",
       "0  DB00643  51547    UPREGULATES_CuG    Compound      Gene\n",
       "1  DB08881  10450    UPREGULATES_CuG    Compound      Gene\n",
       "2  DB01211  10450  DOWNREGULATES_CdG    Compound      Gene\n",
       "3  DB00374  10450  DOWNREGULATES_CdG    Compound      Gene\n",
       "4  DB00398  10450    UPREGULATES_CuG    Compound      Gene"
      ]
     },
     "execution_count": 6,
     "metadata": {},
     "output_type": "execute_result"
    }
   ],
   "source": [
    "edges.head()"
   ]
  },
  {
   "cell_type": "code",
   "execution_count": 7,
   "metadata": {},
   "outputs": [],
   "source": [
    "gold = (pd\n",
    "    .read_csv(gold_fname, sep='\\t')\n",
    "    .rename(columns={\"category\": \"etype\"})\n",
    ")"
   ]
  },
  {
   "cell_type": "code",
   "execution_count": 8,
   "metadata": {},
   "outputs": [
    {
     "data": {
      "text/html": [
       "<div>\n",
       "<style scoped>\n",
       "    .dataframe tbody tr th:only-of-type {\n",
       "        vertical-align: middle;\n",
       "    }\n",
       "\n",
       "    .dataframe tbody tr th {\n",
       "        vertical-align: top;\n",
       "    }\n",
       "\n",
       "    .dataframe thead th {\n",
       "        text-align: right;\n",
       "    }\n",
       "</style>\n",
       "<table border=\"1\" class=\"dataframe\">\n",
       "  <thead>\n",
       "    <tr style=\"text-align: right;\">\n",
       "      <th></th>\n",
       "      <th>disease_id</th>\n",
       "      <th>chemical_id</th>\n",
       "      <th>disease_name</th>\n",
       "      <th>drug_name</th>\n",
       "      <th>etype</th>\n",
       "    </tr>\n",
       "  </thead>\n",
       "  <tbody>\n",
       "    <tr>\n",
       "      <th>0</th>\n",
       "      <td>DOID:10652</td>\n",
       "      <td>DB00843</td>\n",
       "      <td>Alzheimer's disease</td>\n",
       "      <td>Donepezil</td>\n",
       "      <td>1</td>\n",
       "    </tr>\n",
       "    <tr>\n",
       "      <th>1</th>\n",
       "      <td>DOID:10652</td>\n",
       "      <td>DB00674</td>\n",
       "      <td>Alzheimer's disease</td>\n",
       "      <td>Galantamine</td>\n",
       "      <td>1</td>\n",
       "    </tr>\n",
       "    <tr>\n",
       "      <th>2</th>\n",
       "      <td>DOID:10652</td>\n",
       "      <td>DB01043</td>\n",
       "      <td>Alzheimer's disease</td>\n",
       "      <td>Memantine</td>\n",
       "      <td>1</td>\n",
       "    </tr>\n",
       "    <tr>\n",
       "      <th>3</th>\n",
       "      <td>DOID:10652</td>\n",
       "      <td>DB00989</td>\n",
       "      <td>Alzheimer's disease</td>\n",
       "      <td>Rivastigmine</td>\n",
       "      <td>1</td>\n",
       "    </tr>\n",
       "    <tr>\n",
       "      <th>4</th>\n",
       "      <td>DOID:9206</td>\n",
       "      <td>DB00736</td>\n",
       "      <td>Barrett's esophagus</td>\n",
       "      <td>Esomeprazole</td>\n",
       "      <td>1</td>\n",
       "    </tr>\n",
       "  </tbody>\n",
       "</table>\n",
       "</div>"
      ],
      "text/plain": [
       "   disease_id chemical_id         disease_name     drug_name  etype\n",
       "0  DOID:10652     DB00843  Alzheimer's disease     Donepezil      1\n",
       "1  DOID:10652     DB00674  Alzheimer's disease   Galantamine      1\n",
       "2  DOID:10652     DB01043  Alzheimer's disease     Memantine      1\n",
       "3  DOID:10652     DB00989  Alzheimer's disease  Rivastigmine      1\n",
       "4   DOID:9206     DB00736  Barrett's esophagus  Esomeprazole      1"
      ]
     },
     "execution_count": 8,
     "metadata": {},
     "output_type": "execute_result"
    }
   ],
   "source": [
    "gold.head()"
   ]
  },
  {
   "cell_type": "markdown",
   "metadata": {},
   "source": [
    "---"
   ]
  },
  {
   "cell_type": "code",
   "execution_count": 9,
   "metadata": {},
   "outputs": [],
   "source": [
    "def all_pairs(df):\n",
    "    chem = set(df[\"chemical_id\"])\n",
    "    dise = set(df[\"disease_id\"])\n",
    "    \n",
    "    return set(product(chem, dise))\n",
    "\n",
    "def df_to_pairs(df):\n",
    "    return set(\n",
    "        (row.chemical_id, row.disease_id)\n",
    "        for row in df.itertuples()\n",
    "    )\n",
    "\n",
    "def pairs_to_df(pairs):\n",
    "    return pd.DataFrame(list(pairs), columns=[\"chemical_id\", \"disease_id\"])"
   ]
  },
  {
   "cell_type": "code",
   "execution_count": 10,
   "metadata": {},
   "outputs": [],
   "source": [
    "def split_data(gold, holdout_ratio):\n",
    "    \n",
    "    # any relations between the existing chemicals and diseases\n",
    "    # in the gold standard will be assumed to be false for\n",
    "    # testing purposes\n",
    "    \n",
    "    # this set of presumed negatives will be used to train the\n",
    "    # classifier\n",
    "    assumed_false = all_pairs(gold) - df_to_pairs(gold)\n",
    "    \n",
    "    \n",
    "    pos_holdout = gold.sample(frac = holdout_ratio)\n",
    "    neg_holdout = pairs_to_df(assumed_false & all_pairs(pos_holdout))\n",
    "    \n",
    "    \n",
    "    # get all gold standard positive examples which aren't in the holdout\n",
    "\n",
    "    pos_train = (gold\n",
    "        .merge(\n",
    "            pos_holdout[[\"chemical_id\", \"disease_id\"]],\n",
    "            how=\"outer\", on=[\"chemical_id\", \"disease_id\"],\n",
    "            indicator=True\n",
    "        )\n",
    "        .query(\"_merge == 'left_only'\")\n",
    "        .drop(\"_merge\", axis=1)\n",
    "    )\n",
    "    \n",
    "    neg_train = (\n",
    "        (assumed_false & all_pairs(pos_train))\n",
    "        - df_to_pairs(pos_holdout)\n",
    "        - df_to_pairs(neg_holdout)\n",
    "    )\n",
    "    \n",
    "    neg_train = pairs_to_df(neg_train)\n",
    "    \n",
    "    \n",
    "    # validation (checking we did things right)\n",
    "    assert df_to_pairs(pos_train).isdisjoint(df_to_pairs(neg_train))\n",
    "    assert df_to_pairs(pos_holdout).isdisjoint(df_to_pairs(neg_holdout))\n",
    "    \n",
    "    \n",
    "    train_pairs = df_to_pairs(pos_train) | df_to_pairs(neg_train)\n",
    "    holdout_pairs = df_to_pairs(pos_holdout) | df_to_pairs(neg_holdout)\n",
    "    \n",
    "    assert train_pairs.isdisjoint(holdout_pairs)\n",
    "    \n",
    "    \n",
    "    return (pos_train, neg_train, pos_holdout, neg_holdout)"
   ]
  },
  {
   "cell_type": "markdown",
   "metadata": {},
   "source": [
    "## Main loop"
   ]
  },
  {
   "cell_type": "markdown",
   "metadata": {},
   "source": [
    "should we subsample the holdout negatives too? around >95% of the holdout are negatives.. which might mess with things"
   ]
  },
  {
   "cell_type": "code",
   "execution_count": 11,
   "metadata": {},
   "outputs": [
    {
     "name": "stdout",
     "output_type": "stream",
     "text": [
      "Splitting data for fold 0\n",
      "Splitting data for fold 1\n",
      "Splitting data for fold 2\n",
      "Splitting data for fold 3\n",
      "Splitting data for fold 4\n"
     ]
    }
   ],
   "source": [
    "K = 5\n",
    "HOLDOUT_RATIO = 0.2\n",
    "NEG_TRAIN_RATIO = 4\n",
    "\n",
    "train_fname = \"data/min_hetionet/test/train_{}.tsv\"\n",
    "holdout_fname = \"data/min_hetionet/test/holdout_{}.tsv\"\n",
    "\n",
    "for idx in range(K):\n",
    "    print(\"Splitting data for fold {}\".format(idx))\n",
    "    \n",
    "    pos_train, neg_train, pos_holdout, neg_holdout = split_data(gold, HOLDOUT_RATIO)\n",
    "    \n",
    "    neg_train = (neg_train\n",
    "        .sample(n = len(pos_train) * NEG_TRAIN_RATIO)\n",
    "        .assign(etype = 0)\n",
    "    )\n",
    "\n",
    "    #------------------------------------------------------------------\n",
    "    \n",
    "    train = (pos_train\n",
    "        [[\"chemical_id\", \"disease_id\", \"etype\"]]\n",
    "        .append(neg_train)\n",
    "        .reset_index(drop=True)\n",
    "    )\n",
    "    \n",
    "    holdout = (pos_holdout\n",
    "        [[\"chemical_id\", \"disease_id\", \"etype\"]]\n",
    "        .append(\n",
    "            neg_holdout.assign(etype = 0)\n",
    "        )\n",
    "        .reset_index(drop=True)\n",
    "    )\n",
    "    \n",
    "    train.to_csv(train_fname.format(idx), sep='\\t', index=False)\n",
    "    holdout.to_csv(holdout_fname.format(idx), sep='\\t', index=False)"
   ]
  }
 ],
 "metadata": {
  "kernelspec": {
   "display_name": "Python 3",
   "language": "python",
   "name": "python3"
  },
  "language_info": {
   "codemirror_mode": {
    "name": "ipython",
    "version": 3
   },
   "file_extension": ".py",
   "mimetype": "text/x-python",
   "name": "python",
   "nbconvert_exporter": "python",
   "pygments_lexer": "ipython3",
   "version": "3.5.2"
  }
 },
 "nbformat": 4,
 "nbformat_minor": 2
}
