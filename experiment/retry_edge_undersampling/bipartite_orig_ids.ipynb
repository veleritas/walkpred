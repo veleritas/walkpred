{
 "cells": [
  {
   "cell_type": "markdown",
   "metadata": {},
   "source": [
    "# Check that the minimal network is bipartite in the original identifier namespace (see if it's a problem with the adjacency list generation)"
   ]
  },
  {
   "cell_type": "code",
   "execution_count": 1,
   "metadata": {},
   "outputs": [],
   "source": [
    "import pandas as pd\n",
    "\n",
    "from collections import defaultdict\n",
    "from tqdm import tqdm\n",
    "from queue import Queue"
   ]
  },
  {
   "cell_type": "code",
   "execution_count": 2,
   "metadata": {},
   "outputs": [],
   "source": [
    "edges = pd.read_csv(\"data/min_hetionet/minhet_edges.tsv\", sep='\\t')"
   ]
  },
  {
   "cell_type": "code",
   "execution_count": 3,
   "metadata": {},
   "outputs": [
    {
     "data": {
      "text/html": [
       "<div>\n",
       "<style scoped>\n",
       "    .dataframe tbody tr th:only-of-type {\n",
       "        vertical-align: middle;\n",
       "    }\n",
       "\n",
       "    .dataframe tbody tr th {\n",
       "        vertical-align: top;\n",
       "    }\n",
       "\n",
       "    .dataframe thead th {\n",
       "        text-align: right;\n",
       "    }\n",
       "</style>\n",
       "<table border=\"1\" class=\"dataframe\">\n",
       "  <thead>\n",
       "    <tr style=\"text-align: right;\">\n",
       "      <th></th>\n",
       "      <th>start_id</th>\n",
       "      <th>end_id</th>\n",
       "      <th>het_etype</th>\n",
       "      <th>start_htype</th>\n",
       "      <th>end_htype</th>\n",
       "    </tr>\n",
       "  </thead>\n",
       "  <tbody>\n",
       "    <tr>\n",
       "      <th>0</th>\n",
       "      <td>DB00643</td>\n",
       "      <td>51547</td>\n",
       "      <td>UPREGULATES_CuG</td>\n",
       "      <td>Compound</td>\n",
       "      <td>Gene</td>\n",
       "    </tr>\n",
       "    <tr>\n",
       "      <th>1</th>\n",
       "      <td>DB08881</td>\n",
       "      <td>10450</td>\n",
       "      <td>UPREGULATES_CuG</td>\n",
       "      <td>Compound</td>\n",
       "      <td>Gene</td>\n",
       "    </tr>\n",
       "    <tr>\n",
       "      <th>2</th>\n",
       "      <td>DB01211</td>\n",
       "      <td>10450</td>\n",
       "      <td>DOWNREGULATES_CdG</td>\n",
       "      <td>Compound</td>\n",
       "      <td>Gene</td>\n",
       "    </tr>\n",
       "    <tr>\n",
       "      <th>3</th>\n",
       "      <td>DB00374</td>\n",
       "      <td>10450</td>\n",
       "      <td>DOWNREGULATES_CdG</td>\n",
       "      <td>Compound</td>\n",
       "      <td>Gene</td>\n",
       "    </tr>\n",
       "    <tr>\n",
       "      <th>4</th>\n",
       "      <td>DB00398</td>\n",
       "      <td>10450</td>\n",
       "      <td>UPREGULATES_CuG</td>\n",
       "      <td>Compound</td>\n",
       "      <td>Gene</td>\n",
       "    </tr>\n",
       "  </tbody>\n",
       "</table>\n",
       "</div>"
      ],
      "text/plain": [
       "  start_id end_id          het_etype start_htype end_htype\n",
       "0  DB00643  51547    UPREGULATES_CuG    Compound      Gene\n",
       "1  DB08881  10450    UPREGULATES_CuG    Compound      Gene\n",
       "2  DB01211  10450  DOWNREGULATES_CdG    Compound      Gene\n",
       "3  DB00374  10450  DOWNREGULATES_CdG    Compound      Gene\n",
       "4  DB00398  10450    UPREGULATES_CuG    Compound      Gene"
      ]
     },
     "execution_count": 3,
     "metadata": {},
     "output_type": "execute_result"
    }
   ],
   "source": [
    "edges.head()"
   ]
  },
  {
   "cell_type": "code",
   "execution_count": 4,
   "metadata": {},
   "outputs": [
    {
     "data": {
      "text/plain": [
       "(62060, 5)"
      ]
     },
     "execution_count": 4,
     "metadata": {},
     "output_type": "execute_result"
    }
   ],
   "source": [
    "edges.shape"
   ]
  },
  {
   "cell_type": "markdown",
   "metadata": {},
   "source": [
    "---"
   ]
  },
  {
   "cell_type": "code",
   "execution_count": 5,
   "metadata": {},
   "outputs": [],
   "source": [
    "all_nodes = set(edges[\"start_id\"]) | set(edges[\"end_id\"])"
   ]
  },
  {
   "cell_type": "code",
   "execution_count": 6,
   "metadata": {},
   "outputs": [
    {
     "data": {
      "text/plain": [
       "7927"
      ]
     },
     "execution_count": 6,
     "metadata": {},
     "output_type": "execute_result"
    }
   ],
   "source": [
    "len(all_nodes)"
   ]
  },
  {
   "cell_type": "markdown",
   "metadata": {},
   "source": [
    "---"
   ]
  },
  {
   "cell_type": "code",
   "execution_count": 7,
   "metadata": {},
   "outputs": [
    {
     "name": "stderr",
     "output_type": "stream",
     "text": [
      "100%|██████████| 62060/62060 [00:08<00:00, 7280.69it/s]\n"
     ]
    }
   ],
   "source": [
    "adjlist = defaultdict(set)\n",
    "\n",
    "for idx, row in tqdm(edges.iterrows(), total=len(edges)):\n",
    "    \n",
    "    adjlist[row[\"start_id\"]].add(row[\"end_id\"])\n",
    "    \n",
    "    adjlist[row[\"end_id\"]].add(row[\"start_id\"])"
   ]
  },
  {
   "cell_type": "markdown",
   "metadata": {},
   "source": [
    "## BFS"
   ]
  },
  {
   "cell_type": "code",
   "execution_count": 8,
   "metadata": {},
   "outputs": [],
   "source": [
    "visited = set()\n",
    "subgraph = 0\n",
    "\n",
    "label = dict()\n",
    "\n",
    "for node in all_nodes:\n",
    "    if node not in visited:\n",
    "        \n",
    "        queue = Queue()\n",
    "        queue.put(node)\n",
    "        \n",
    "        while not queue.empty():\n",
    "            cur = queue.get()\n",
    "            visited.add(cur)\n",
    "            \n",
    "            label[cur] = subgraph\n",
    "            \n",
    "            for neighbour in adjlist[cur]:\n",
    "                if neighbour not in visited:\n",
    "                    visited.add(neighbour)\n",
    "                    queue.put(neighbour)\n",
    "                    \n",
    "        subgraph += 1"
   ]
  },
  {
   "cell_type": "markdown",
   "metadata": {},
   "source": [
    "---"
   ]
  },
  {
   "cell_type": "code",
   "execution_count": 9,
   "metadata": {},
   "outputs": [
    {
     "data": {
      "text/plain": [
       "8"
      ]
     },
     "execution_count": 9,
     "metadata": {},
     "output_type": "execute_result"
    }
   ],
   "source": [
    "subgraph"
   ]
  },
  {
   "cell_type": "code",
   "execution_count": 10,
   "metadata": {},
   "outputs": [],
   "source": [
    "res = (pd\n",
    "    .DataFrame(\n",
    "        list(label.items()), columns=[\"node_id\", \"subgraph\"]\n",
    "    )\n",
    ")"
   ]
  },
  {
   "cell_type": "code",
   "execution_count": 11,
   "metadata": {},
   "outputs": [
    {
     "data": {
      "text/html": [
       "<div>\n",
       "<style scoped>\n",
       "    .dataframe tbody tr th:only-of-type {\n",
       "        vertical-align: middle;\n",
       "    }\n",
       "\n",
       "    .dataframe tbody tr th {\n",
       "        vertical-align: top;\n",
       "    }\n",
       "\n",
       "    .dataframe thead th {\n",
       "        text-align: right;\n",
       "    }\n",
       "</style>\n",
       "<table border=\"1\" class=\"dataframe\">\n",
       "  <thead>\n",
       "    <tr style=\"text-align: right;\">\n",
       "      <th></th>\n",
       "      <th>node_id</th>\n",
       "      <th>subgraph</th>\n",
       "    </tr>\n",
       "  </thead>\n",
       "  <tbody>\n",
       "    <tr>\n",
       "      <th>0</th>\n",
       "      <td>6764</td>\n",
       "      <td>0</td>\n",
       "    </tr>\n",
       "    <tr>\n",
       "      <th>1</th>\n",
       "      <td>UBERON:0002523</td>\n",
       "      <td>1</td>\n",
       "    </tr>\n",
       "    <tr>\n",
       "      <th>2</th>\n",
       "      <td>23753</td>\n",
       "      <td>0</td>\n",
       "    </tr>\n",
       "    <tr>\n",
       "      <th>3</th>\n",
       "      <td>DB01511</td>\n",
       "      <td>0</td>\n",
       "    </tr>\n",
       "    <tr>\n",
       "      <th>4</th>\n",
       "      <td>UBERON:0001599</td>\n",
       "      <td>1</td>\n",
       "    </tr>\n",
       "  </tbody>\n",
       "</table>\n",
       "</div>"
      ],
      "text/plain": [
       "          node_id  subgraph\n",
       "0            6764         0\n",
       "1  UBERON:0002523         1\n",
       "2           23753         0\n",
       "3         DB01511         0\n",
       "4  UBERON:0001599         1"
      ]
     },
     "execution_count": 11,
     "metadata": {},
     "output_type": "execute_result"
    }
   ],
   "source": [
    "res.head()"
   ]
  },
  {
   "cell_type": "code",
   "execution_count": 12,
   "metadata": {},
   "outputs": [
    {
     "data": {
      "text/plain": [
       "0    7381\n",
       "1     531\n",
       "7       3\n",
       "3       3\n",
       "5       3\n",
       "6       2\n",
       "2       2\n",
       "4       2\n",
       "Name: subgraph, dtype: int64"
      ]
     },
     "execution_count": 12,
     "metadata": {},
     "output_type": "execute_result"
    }
   ],
   "source": [
    "res[\"subgraph\"].value_counts()"
   ]
  },
  {
   "cell_type": "code",
   "execution_count": 13,
   "metadata": {},
   "outputs": [],
   "source": [
    "nodes = pd.read_csv(\"data/min_hetionet/minhet_nodes.tsv\", sep='\\t')"
   ]
  },
  {
   "cell_type": "code",
   "execution_count": 14,
   "metadata": {},
   "outputs": [
    {
     "data": {
      "text/html": [
       "<div>\n",
       "<style scoped>\n",
       "    .dataframe tbody tr th:only-of-type {\n",
       "        vertical-align: middle;\n",
       "    }\n",
       "\n",
       "    .dataframe tbody tr th {\n",
       "        vertical-align: top;\n",
       "    }\n",
       "\n",
       "    .dataframe thead th {\n",
       "        text-align: right;\n",
       "    }\n",
       "</style>\n",
       "<table border=\"1\" class=\"dataframe\">\n",
       "  <thead>\n",
       "    <tr style=\"text-align: right;\">\n",
       "      <th></th>\n",
       "      <th>node_uid</th>\n",
       "      <th>node_id</th>\n",
       "      <th>name</th>\n",
       "      <th>het_type</th>\n",
       "    </tr>\n",
       "  </thead>\n",
       "  <tbody>\n",
       "    <tr>\n",
       "      <th>0</th>\n",
       "      <td>0</td>\n",
       "      <td>10</td>\n",
       "      <td>NAT2</td>\n",
       "      <td>Gene</td>\n",
       "    </tr>\n",
       "    <tr>\n",
       "      <th>1</th>\n",
       "      <td>1</td>\n",
       "      <td>100</td>\n",
       "      <td>ADA</td>\n",
       "      <td>Gene</td>\n",
       "    </tr>\n",
       "    <tr>\n",
       "      <th>2</th>\n",
       "      <td>2</td>\n",
       "      <td>10000</td>\n",
       "      <td>AKT3</td>\n",
       "      <td>Gene</td>\n",
       "    </tr>\n",
       "    <tr>\n",
       "      <th>3</th>\n",
       "      <td>3</td>\n",
       "      <td>10005</td>\n",
       "      <td>ACOT8</td>\n",
       "      <td>Gene</td>\n",
       "    </tr>\n",
       "    <tr>\n",
       "      <th>4</th>\n",
       "      <td>4</td>\n",
       "      <td>10007</td>\n",
       "      <td>GNPDA1</td>\n",
       "      <td>Gene</td>\n",
       "    </tr>\n",
       "  </tbody>\n",
       "</table>\n",
       "</div>"
      ],
      "text/plain": [
       "   node_uid node_id    name het_type\n",
       "0         0      10    NAT2     Gene\n",
       "1         1     100     ADA     Gene\n",
       "2         2   10000    AKT3     Gene\n",
       "3         3   10005   ACOT8     Gene\n",
       "4         4   10007  GNPDA1     Gene"
      ]
     },
     "execution_count": 14,
     "metadata": {},
     "output_type": "execute_result"
    }
   ],
   "source": [
    "nodes.head()"
   ]
  },
  {
   "cell_type": "code",
   "execution_count": 15,
   "metadata": {},
   "outputs": [],
   "source": [
    "final = res.merge(nodes.drop(\"node_uid\", axis=1), how=\"inner\", on=\"node_id\")"
   ]
  },
  {
   "cell_type": "code",
   "execution_count": 16,
   "metadata": {},
   "outputs": [
    {
     "data": {
      "text/html": [
       "<div>\n",
       "<style scoped>\n",
       "    .dataframe tbody tr th:only-of-type {\n",
       "        vertical-align: middle;\n",
       "    }\n",
       "\n",
       "    .dataframe tbody tr th {\n",
       "        vertical-align: top;\n",
       "    }\n",
       "\n",
       "    .dataframe thead th {\n",
       "        text-align: right;\n",
       "    }\n",
       "</style>\n",
       "<table border=\"1\" class=\"dataframe\">\n",
       "  <thead>\n",
       "    <tr style=\"text-align: right;\">\n",
       "      <th></th>\n",
       "      <th>node_id</th>\n",
       "      <th>subgraph</th>\n",
       "      <th>name</th>\n",
       "      <th>het_type</th>\n",
       "    </tr>\n",
       "  </thead>\n",
       "  <tbody>\n",
       "    <tr>\n",
       "      <th>0</th>\n",
       "      <td>6764</td>\n",
       "      <td>0</td>\n",
       "      <td>ST5</td>\n",
       "      <td>Gene</td>\n",
       "    </tr>\n",
       "    <tr>\n",
       "      <th>1</th>\n",
       "      <td>UBERON:0002523</td>\n",
       "      <td>1</td>\n",
       "      <td>tunica intima</td>\n",
       "      <td>Anatomy</td>\n",
       "    </tr>\n",
       "    <tr>\n",
       "      <th>2</th>\n",
       "      <td>23753</td>\n",
       "      <td>0</td>\n",
       "      <td>SDF2L1</td>\n",
       "      <td>Gene</td>\n",
       "    </tr>\n",
       "    <tr>\n",
       "      <th>3</th>\n",
       "      <td>DB01511</td>\n",
       "      <td>0</td>\n",
       "      <td>Delorazepam</td>\n",
       "      <td>Compound</td>\n",
       "    </tr>\n",
       "    <tr>\n",
       "      <th>4</th>\n",
       "      <td>UBERON:0001599</td>\n",
       "      <td>1</td>\n",
       "      <td>stapedius muscle</td>\n",
       "      <td>Anatomy</td>\n",
       "    </tr>\n",
       "  </tbody>\n",
       "</table>\n",
       "</div>"
      ],
      "text/plain": [
       "          node_id  subgraph              name  het_type\n",
       "0            6764         0               ST5      Gene\n",
       "1  UBERON:0002523         1     tunica intima   Anatomy\n",
       "2           23753         0            SDF2L1      Gene\n",
       "3         DB01511         0       Delorazepam  Compound\n",
       "4  UBERON:0001599         1  stapedius muscle   Anatomy"
      ]
     },
     "execution_count": 16,
     "metadata": {},
     "output_type": "execute_result"
    }
   ],
   "source": [
    "final.head()"
   ]
  },
  {
   "cell_type": "code",
   "execution_count": 17,
   "metadata": {},
   "outputs": [
    {
     "data": {
      "text/plain": [
       "subgraph  het_type\n",
       "0         Gene        5867\n",
       "          Compound    1514\n",
       "1         Anatomy      398\n",
       "          Disease      133\n",
       "2         Compound       2\n",
       "3         Gene           2\n",
       "          Compound       1\n",
       "4         Compound       1\n",
       "          Gene           1\n",
       "5         Gene           2\n",
       "          Compound       1\n",
       "6         Compound       2\n",
       "7         Compound       3\n",
       "Name: het_type, dtype: int64"
      ]
     },
     "execution_count": 17,
     "metadata": {},
     "output_type": "execute_result"
    }
   ],
   "source": [
    "final.groupby(\"subgraph\")[\"het_type\"].value_counts()"
   ]
  },
  {
   "cell_type": "markdown",
   "metadata": {},
   "source": [
    "Looks like the gene and compound network is separate from the anatomy and disease network. Seems like the problem lies in the numerical ids used for deepwalk."
   ]
  }
 ],
 "metadata": {
  "kernelspec": {
   "display_name": "Python 3",
   "language": "python",
   "name": "python3"
  },
  "language_info": {
   "codemirror_mode": {
    "name": "ipython",
    "version": 3
   },
   "file_extension": ".py",
   "mimetype": "text/x-python",
   "name": "python",
   "nbconvert_exporter": "python",
   "pygments_lexer": "ipython3",
   "version": "3.5.2"
  }
 },
 "nbformat": 4,
 "nbformat_minor": 2
}
