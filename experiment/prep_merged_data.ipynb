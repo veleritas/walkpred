{
 "cells": [
  {
   "cell_type": "markdown",
   "metadata": {},
   "source": [
    "# Try running deepwalk on the expanded semmeddb network containing hetionet"
   ]
  },
  {
   "cell_type": "code",
   "execution_count": 1,
   "metadata": {},
   "outputs": [],
   "source": [
    "import pandas as pd\n",
    "import re"
   ]
  },
  {
   "cell_type": "markdown",
   "metadata": {},
   "source": [
    "## Read full network"
   ]
  },
  {
   "cell_type": "code",
   "execution_count": 2,
   "metadata": {},
   "outputs": [],
   "source": [
    "nodes = pd.read_csv(\"../merge/merged_network/nodes.tsv\", sep='\\t')"
   ]
  },
  {
   "cell_type": "code",
   "execution_count": 3,
   "metadata": {},
   "outputs": [
    {
     "data": {
      "text/html": [
       "<div>\n",
       "<style scoped>\n",
       "    .dataframe tbody tr th:only-of-type {\n",
       "        vertical-align: middle;\n",
       "    }\n",
       "\n",
       "    .dataframe tbody tr th {\n",
       "        vertical-align: top;\n",
       "    }\n",
       "\n",
       "    .dataframe thead th {\n",
       "        text-align: right;\n",
       "    }\n",
       "</style>\n",
       "<table border=\"1\" class=\"dataframe\">\n",
       "  <thead>\n",
       "    <tr style=\"text-align: right;\">\n",
       "      <th></th>\n",
       "      <th>name</th>\n",
       "      <th>node_id</th>\n",
       "      <th>origin</th>\n",
       "      <th>sem_type</th>\n",
       "    </tr>\n",
       "  </thead>\n",
       "  <tbody>\n",
       "    <tr>\n",
       "      <th>0</th>\n",
       "      <td>GAGE12F</td>\n",
       "      <td>100008586</td>\n",
       "      <td>hetionet</td>\n",
       "      <td>Genes &amp; Molecular Sequences</td>\n",
       "    </tr>\n",
       "    <tr>\n",
       "      <th>1</th>\n",
       "      <td>DUXB</td>\n",
       "      <td>100033411</td>\n",
       "      <td>hetionet</td>\n",
       "      <td>Genes &amp; Molecular Sequences</td>\n",
       "    </tr>\n",
       "    <tr>\n",
       "      <th>2</th>\n",
       "      <td>DDTL</td>\n",
       "      <td>100037417</td>\n",
       "      <td>hetionet</td>\n",
       "      <td>Genes &amp; Molecular Sequences</td>\n",
       "    </tr>\n",
       "    <tr>\n",
       "      <th>3</th>\n",
       "      <td>OCTN3</td>\n",
       "      <td>100049579</td>\n",
       "      <td>hetionet</td>\n",
       "      <td>Genes &amp; Molecular Sequences</td>\n",
       "    </tr>\n",
       "    <tr>\n",
       "      <th>4</th>\n",
       "      <td>POM121C</td>\n",
       "      <td>100101267</td>\n",
       "      <td>hetionet</td>\n",
       "      <td>Genes &amp; Molecular Sequences</td>\n",
       "    </tr>\n",
       "  </tbody>\n",
       "</table>\n",
       "</div>"
      ],
      "text/plain": [
       "      name    node_id    origin                     sem_type\n",
       "0  GAGE12F  100008586  hetionet  Genes & Molecular Sequences\n",
       "1     DUXB  100033411  hetionet  Genes & Molecular Sequences\n",
       "2     DDTL  100037417  hetionet  Genes & Molecular Sequences\n",
       "3    OCTN3  100049579  hetionet  Genes & Molecular Sequences\n",
       "4  POM121C  100101267  hetionet  Genes & Molecular Sequences"
      ]
     },
     "execution_count": 3,
     "metadata": {},
     "output_type": "execute_result"
    }
   ],
   "source": [
    "nodes.head()"
   ]
  },
  {
   "cell_type": "code",
   "execution_count": 4,
   "metadata": {},
   "outputs": [
    {
     "data": {
      "text/plain": [
       "(231543, 4)"
      ]
     },
     "execution_count": 4,
     "metadata": {},
     "output_type": "execute_result"
    }
   ],
   "source": [
    "nodes.shape"
   ]
  },
  {
   "cell_type": "code",
   "execution_count": 5,
   "metadata": {},
   "outputs": [],
   "source": [
    "edges = pd.read_csv(\"../merge/merged_network/edges.tsv\", sep='\\t')"
   ]
  },
  {
   "cell_type": "code",
   "execution_count": 6,
   "metadata": {},
   "outputs": [
    {
     "data": {
      "text/html": [
       "<div>\n",
       "<style scoped>\n",
       "    .dataframe tbody tr th:only-of-type {\n",
       "        vertical-align: middle;\n",
       "    }\n",
       "\n",
       "    .dataframe tbody tr th {\n",
       "        vertical-align: top;\n",
       "    }\n",
       "\n",
       "    .dataframe thead th {\n",
       "        text-align: right;\n",
       "    }\n",
       "</style>\n",
       "<table border=\"1\" class=\"dataframe\">\n",
       "  <thead>\n",
       "    <tr style=\"text-align: right;\">\n",
       "      <th></th>\n",
       "      <th>final_etype</th>\n",
       "      <th>origin</th>\n",
       "      <th>source_fid</th>\n",
       "      <th>source_stype</th>\n",
       "      <th>target_fid</th>\n",
       "      <th>target_stype</th>\n",
       "    </tr>\n",
       "  </thead>\n",
       "  <tbody>\n",
       "    <tr>\n",
       "      <th>0</th>\n",
       "      <td>REGULATES_CDreg&gt;CD</td>\n",
       "      <td>semmeddb</td>\n",
       "      <td>UMLS:C0000039</td>\n",
       "      <td>Chemicals &amp; Drugs</td>\n",
       "      <td>UMLS:C0001026</td>\n",
       "      <td>Chemicals &amp; Drugs</td>\n",
       "    </tr>\n",
       "    <tr>\n",
       "      <th>1</th>\n",
       "      <td>REGULATES_CDreg&gt;CD</td>\n",
       "      <td>semmeddb</td>\n",
       "      <td>UMLS:C0000167</td>\n",
       "      <td>Chemicals &amp; Drugs</td>\n",
       "      <td>UMLS:C0001026</td>\n",
       "      <td>Chemicals &amp; Drugs</td>\n",
       "    </tr>\n",
       "    <tr>\n",
       "      <th>2</th>\n",
       "      <td>PRODUCES_LBpdCD</td>\n",
       "      <td>semmeddb</td>\n",
       "      <td>UMLS:C0000901</td>\n",
       "      <td>Living Beings</td>\n",
       "      <td>UMLS:C0001026</td>\n",
       "      <td>Chemicals &amp; Drugs</td>\n",
       "    </tr>\n",
       "    <tr>\n",
       "      <th>3</th>\n",
       "      <td>REGULATES_CDreg&gt;CD</td>\n",
       "      <td>semmeddb</td>\n",
       "      <td>UMLS:C0000975</td>\n",
       "      <td>Chemicals &amp; Drugs</td>\n",
       "      <td>UMLS:C0001026</td>\n",
       "      <td>Chemicals &amp; Drugs</td>\n",
       "    </tr>\n",
       "    <tr>\n",
       "      <th>4</th>\n",
       "      <td>REGULATES_CDreg&gt;CD</td>\n",
       "      <td>semmeddb</td>\n",
       "      <td>UMLS:C0000977</td>\n",
       "      <td>Chemicals &amp; Drugs</td>\n",
       "      <td>UMLS:C0001026</td>\n",
       "      <td>Chemicals &amp; Drugs</td>\n",
       "    </tr>\n",
       "  </tbody>\n",
       "</table>\n",
       "</div>"
      ],
      "text/plain": [
       "          final_etype    origin     source_fid       source_stype  \\\n",
       "0  REGULATES_CDreg>CD  semmeddb  UMLS:C0000039  Chemicals & Drugs   \n",
       "1  REGULATES_CDreg>CD  semmeddb  UMLS:C0000167  Chemicals & Drugs   \n",
       "2     PRODUCES_LBpdCD  semmeddb  UMLS:C0000901      Living Beings   \n",
       "3  REGULATES_CDreg>CD  semmeddb  UMLS:C0000975  Chemicals & Drugs   \n",
       "4  REGULATES_CDreg>CD  semmeddb  UMLS:C0000977  Chemicals & Drugs   \n",
       "\n",
       "      target_fid       target_stype  \n",
       "0  UMLS:C0001026  Chemicals & Drugs  \n",
       "1  UMLS:C0001026  Chemicals & Drugs  \n",
       "2  UMLS:C0001026  Chemicals & Drugs  \n",
       "3  UMLS:C0001026  Chemicals & Drugs  \n",
       "4  UMLS:C0001026  Chemicals & Drugs  "
      ]
     },
     "execution_count": 6,
     "metadata": {},
     "output_type": "execute_result"
    }
   ],
   "source": [
    "edges.head()"
   ]
  },
  {
   "cell_type": "code",
   "execution_count": 7,
   "metadata": {},
   "outputs": [
    {
     "data": {
      "text/plain": [
       "(12294467, 6)"
      ]
     },
     "execution_count": 7,
     "metadata": {},
     "output_type": "execute_result"
    }
   ],
   "source": [
    "edges.shape"
   ]
  },
  {
   "cell_type": "markdown",
   "metadata": {},
   "source": [
    "---"
   ]
  },
  {
   "cell_type": "markdown",
   "metadata": {},
   "source": [
    "## Assign deepwalk ids"
   ]
  },
  {
   "cell_type": "code",
   "execution_count": 8,
   "metadata": {},
   "outputs": [],
   "source": [
    "fnodes = (nodes\n",
    "    .reset_index()\n",
    "    .rename(columns={\"index\": \"node_uid\"})\n",
    ")"
   ]
  },
  {
   "cell_type": "code",
   "execution_count": 9,
   "metadata": {},
   "outputs": [
    {
     "data": {
      "text/html": [
       "<div>\n",
       "<style scoped>\n",
       "    .dataframe tbody tr th:only-of-type {\n",
       "        vertical-align: middle;\n",
       "    }\n",
       "\n",
       "    .dataframe tbody tr th {\n",
       "        vertical-align: top;\n",
       "    }\n",
       "\n",
       "    .dataframe thead th {\n",
       "        text-align: right;\n",
       "    }\n",
       "</style>\n",
       "<table border=\"1\" class=\"dataframe\">\n",
       "  <thead>\n",
       "    <tr style=\"text-align: right;\">\n",
       "      <th></th>\n",
       "      <th>node_uid</th>\n",
       "      <th>name</th>\n",
       "      <th>node_id</th>\n",
       "      <th>origin</th>\n",
       "      <th>sem_type</th>\n",
       "    </tr>\n",
       "  </thead>\n",
       "  <tbody>\n",
       "    <tr>\n",
       "      <th>0</th>\n",
       "      <td>0</td>\n",
       "      <td>GAGE12F</td>\n",
       "      <td>100008586</td>\n",
       "      <td>hetionet</td>\n",
       "      <td>Genes &amp; Molecular Sequences</td>\n",
       "    </tr>\n",
       "    <tr>\n",
       "      <th>1</th>\n",
       "      <td>1</td>\n",
       "      <td>DUXB</td>\n",
       "      <td>100033411</td>\n",
       "      <td>hetionet</td>\n",
       "      <td>Genes &amp; Molecular Sequences</td>\n",
       "    </tr>\n",
       "    <tr>\n",
       "      <th>2</th>\n",
       "      <td>2</td>\n",
       "      <td>DDTL</td>\n",
       "      <td>100037417</td>\n",
       "      <td>hetionet</td>\n",
       "      <td>Genes &amp; Molecular Sequences</td>\n",
       "    </tr>\n",
       "    <tr>\n",
       "      <th>3</th>\n",
       "      <td>3</td>\n",
       "      <td>OCTN3</td>\n",
       "      <td>100049579</td>\n",
       "      <td>hetionet</td>\n",
       "      <td>Genes &amp; Molecular Sequences</td>\n",
       "    </tr>\n",
       "    <tr>\n",
       "      <th>4</th>\n",
       "      <td>4</td>\n",
       "      <td>POM121C</td>\n",
       "      <td>100101267</td>\n",
       "      <td>hetionet</td>\n",
       "      <td>Genes &amp; Molecular Sequences</td>\n",
       "    </tr>\n",
       "  </tbody>\n",
       "</table>\n",
       "</div>"
      ],
      "text/plain": [
       "   node_uid     name    node_id    origin                     sem_type\n",
       "0         0  GAGE12F  100008586  hetionet  Genes & Molecular Sequences\n",
       "1         1     DUXB  100033411  hetionet  Genes & Molecular Sequences\n",
       "2         2     DDTL  100037417  hetionet  Genes & Molecular Sequences\n",
       "3         3    OCTN3  100049579  hetionet  Genes & Molecular Sequences\n",
       "4         4  POM121C  100101267  hetionet  Genes & Molecular Sequences"
      ]
     },
     "execution_count": 9,
     "metadata": {},
     "output_type": "execute_result"
    }
   ],
   "source": [
    "fnodes.head()"
   ]
  },
  {
   "cell_type": "markdown",
   "metadata": {},
   "source": [
    "### Read gold standard"
   ]
  },
  {
   "cell_type": "code",
   "execution_count": 10,
   "metadata": {},
   "outputs": [],
   "source": [
    "gold = pd.read_csv(\"../semmed/data/filtered_goldstd.tsv\", sep='\\t')"
   ]
  },
  {
   "cell_type": "code",
   "execution_count": 11,
   "metadata": {},
   "outputs": [
    {
     "data": {
      "text/html": [
       "<div>\n",
       "<style scoped>\n",
       "    .dataframe tbody tr th:only-of-type {\n",
       "        vertical-align: middle;\n",
       "    }\n",
       "\n",
       "    .dataframe tbody tr th {\n",
       "        vertical-align: top;\n",
       "    }\n",
       "\n",
       "    .dataframe thead th {\n",
       "        text-align: right;\n",
       "    }\n",
       "</style>\n",
       "<table border=\"1\" class=\"dataframe\">\n",
       "  <thead>\n",
       "    <tr style=\"text-align: right;\">\n",
       "      <th></th>\n",
       "      <th>chemical_id</th>\n",
       "      <th>chemical_name</th>\n",
       "      <th>disease_id</th>\n",
       "      <th>disease_name</th>\n",
       "      <th>etype</th>\n",
       "    </tr>\n",
       "  </thead>\n",
       "  <tbody>\n",
       "    <tr>\n",
       "      <th>0</th>\n",
       "      <td>C0520442</td>\n",
       "      <td>acetyldigitoxin</td>\n",
       "      <td>C0004238</td>\n",
       "      <td>Atrial fibrillation</td>\n",
       "      <td>TREATS_CDtDO</td>\n",
       "    </tr>\n",
       "    <tr>\n",
       "      <th>1</th>\n",
       "      <td>C0520442</td>\n",
       "      <td>acetyldigitoxin</td>\n",
       "      <td>C0018802</td>\n",
       "      <td>Congestive heart failure</td>\n",
       "      <td>TREATS_CDtDO</td>\n",
       "    </tr>\n",
       "    <tr>\n",
       "      <th>2</th>\n",
       "      <td>C0771809</td>\n",
       "      <td>acexamic acid</td>\n",
       "      <td>C0037299</td>\n",
       "      <td>Skin ulcer</td>\n",
       "      <td>TREATS_CDtDO</td>\n",
       "    </tr>\n",
       "    <tr>\n",
       "      <th>3</th>\n",
       "      <td>C0050558</td>\n",
       "      <td>acipimox</td>\n",
       "      <td>C0020476</td>\n",
       "      <td>Hyperlipoproteinemia</td>\n",
       "      <td>TREATS_CDtDO</td>\n",
       "    </tr>\n",
       "    <tr>\n",
       "      <th>4</th>\n",
       "      <td>C0021735</td>\n",
       "      <td>interferon alfa-2b</td>\n",
       "      <td>C0023434</td>\n",
       "      <td>chronic lymphocytic leukemia</td>\n",
       "      <td>TREATS_CDtDO</td>\n",
       "    </tr>\n",
       "  </tbody>\n",
       "</table>\n",
       "</div>"
      ],
      "text/plain": [
       "  chemical_id       chemical_name disease_id                  disease_name  \\\n",
       "0    C0520442     acetyldigitoxin   C0004238           Atrial fibrillation   \n",
       "1    C0520442     acetyldigitoxin   C0018802      Congestive heart failure   \n",
       "2    C0771809       acexamic acid   C0037299                    Skin ulcer   \n",
       "3    C0050558            acipimox   C0020476          Hyperlipoproteinemia   \n",
       "4    C0021735  interferon alfa-2b   C0023434  chronic lymphocytic leukemia   \n",
       "\n",
       "          etype  \n",
       "0  TREATS_CDtDO  \n",
       "1  TREATS_CDtDO  \n",
       "2  TREATS_CDtDO  \n",
       "3  TREATS_CDtDO  \n",
       "4  TREATS_CDtDO  "
      ]
     },
     "execution_count": 11,
     "metadata": {},
     "output_type": "execute_result"
    }
   ],
   "source": [
    "gold.head()"
   ]
  },
  {
   "cell_type": "code",
   "execution_count": 12,
   "metadata": {},
   "outputs": [
    {
     "data": {
      "text/plain": [
       "(6329, 5)"
      ]
     },
     "execution_count": 12,
     "metadata": {},
     "output_type": "execute_result"
    }
   ],
   "source": [
    "gold.shape"
   ]
  },
  {
   "cell_type": "markdown",
   "metadata": {},
   "source": [
    "### Add \"UMLS:\" to gold std CUIs"
   ]
  },
  {
   "cell_type": "code",
   "execution_count": 13,
   "metadata": {},
   "outputs": [],
   "source": [
    "def is_cui(s):\n",
    "    return re.match(r'^C[0-9]{7}$', s) is not None"
   ]
  },
  {
   "cell_type": "code",
   "execution_count": 14,
   "metadata": {},
   "outputs": [
    {
     "data": {
      "text/plain": [
       "True"
      ]
     },
     "execution_count": 14,
     "metadata": {},
     "output_type": "execute_result"
    }
   ],
   "source": [
    "gold[\"chemical_id\"].str.match(r'^C[0-9]{7}$').all()"
   ]
  },
  {
   "cell_type": "code",
   "execution_count": 15,
   "metadata": {},
   "outputs": [
    {
     "data": {
      "text/plain": [
       "6287"
      ]
     },
     "execution_count": 15,
     "metadata": {},
     "output_type": "execute_result"
    }
   ],
   "source": [
    "gold[\"disease_id\"].str.match(r'^C[0-9]{7}$').sum()"
   ]
  },
  {
   "cell_type": "code",
   "execution_count": 16,
   "metadata": {},
   "outputs": [
    {
     "data": {
      "text/plain": [
       "{'DOID:0060061', 'DOID:0060073'}"
      ]
     },
     "execution_count": 16,
     "metadata": {},
     "output_type": "execute_result"
    }
   ],
   "source": [
    "set(gold\n",
    "    .assign(\n",
    "        iscui = lambda df: df[\"disease_id\"].str.match(r'^C[0-9]{7}$')\n",
    "    )\n",
    "    .query(\"~iscui\")\n",
    "    [\"disease_id\"]\n",
    ")"
   ]
  },
  {
   "cell_type": "code",
   "execution_count": 17,
   "metadata": {},
   "outputs": [],
   "source": [
    "fgold = (gold\n",
    "    .assign(\n",
    "        chemical_id = lambda df: df[\"chemical_id\"].map(\n",
    "            lambda v: \"UMLS:{}\".format(v)\n",
    "        )\n",
    "    )\n",
    "    .assign(\n",
    "        disease_id = lambda df: df[\"disease_id\"].map(\n",
    "            lambda v: \"UMLS:{}\".format(v) if is_cui(v) else v\n",
    "        )\n",
    "    )\n",
    "\n",
    "    .merge(\n",
    "        fnodes[[\"node_uid\", \"node_id\"]],\n",
    "        how=\"inner\", left_on=\"chemical_id\", right_on=\"node_id\"\n",
    "    )\n",
    "    .drop(\"node_id\", axis=1)\n",
    "    .rename(columns={\"node_uid\": \"chemical_uid\"})\n",
    "\n",
    "    .merge(\n",
    "        fnodes[[\"node_uid\", \"node_id\"]],\n",
    "        how=\"inner\", left_on=\"disease_id\", right_on=\"node_id\"\n",
    "    )\n",
    "    .drop(\"node_id\", axis=1)\n",
    "    .rename(columns={\"node_uid\": \"disease_uid\"})\n",
    ")"
   ]
  },
  {
   "cell_type": "code",
   "execution_count": 18,
   "metadata": {},
   "outputs": [
    {
     "data": {
      "text/html": [
       "<div>\n",
       "<style scoped>\n",
       "    .dataframe tbody tr th:only-of-type {\n",
       "        vertical-align: middle;\n",
       "    }\n",
       "\n",
       "    .dataframe tbody tr th {\n",
       "        vertical-align: top;\n",
       "    }\n",
       "\n",
       "    .dataframe thead th {\n",
       "        text-align: right;\n",
       "    }\n",
       "</style>\n",
       "<table border=\"1\" class=\"dataframe\">\n",
       "  <thead>\n",
       "    <tr style=\"text-align: right;\">\n",
       "      <th></th>\n",
       "      <th>chemical_id</th>\n",
       "      <th>chemical_name</th>\n",
       "      <th>disease_id</th>\n",
       "      <th>disease_name</th>\n",
       "      <th>etype</th>\n",
       "      <th>chemical_uid</th>\n",
       "      <th>disease_uid</th>\n",
       "    </tr>\n",
       "  </thead>\n",
       "  <tbody>\n",
       "    <tr>\n",
       "      <th>0</th>\n",
       "      <td>UMLS:C0520442</td>\n",
       "      <td>acetyldigitoxin</td>\n",
       "      <td>UMLS:C0004238</td>\n",
       "      <td>Atrial fibrillation</td>\n",
       "      <td>TREATS_CDtDO</td>\n",
       "      <td>108642</td>\n",
       "      <td>22585</td>\n",
       "    </tr>\n",
       "    <tr>\n",
       "      <th>1</th>\n",
       "      <td>UMLS:C0033497</td>\n",
       "      <td>propranolol</td>\n",
       "      <td>UMLS:C0004238</td>\n",
       "      <td>Atrial fibrillation</td>\n",
       "      <td>TREATS_CDtDO</td>\n",
       "      <td>32398</td>\n",
       "      <td>22585</td>\n",
       "    </tr>\n",
       "    <tr>\n",
       "      <th>2</th>\n",
       "      <td>UMLS:C0012265</td>\n",
       "      <td>digoxin</td>\n",
       "      <td>UMLS:C0004238</td>\n",
       "      <td>Atrial fibrillation</td>\n",
       "      <td>TREATS_CDtDO</td>\n",
       "      <td>25280</td>\n",
       "      <td>22585</td>\n",
       "    </tr>\n",
       "    <tr>\n",
       "      <th>3</th>\n",
       "      <td>UMLS:C0084273</td>\n",
       "      <td>quinidine</td>\n",
       "      <td>UMLS:C0004238</td>\n",
       "      <td>Atrial fibrillation</td>\n",
       "      <td>TREATS_CDtDO</td>\n",
       "      <td>55039</td>\n",
       "      <td>22585</td>\n",
       "    </tr>\n",
       "    <tr>\n",
       "      <th>4</th>\n",
       "      <td>UMLS:C0766326</td>\n",
       "      <td>dronedarone</td>\n",
       "      <td>UMLS:C0004238</td>\n",
       "      <td>Atrial fibrillation</td>\n",
       "      <td>TREATS_CDtDO</td>\n",
       "      <td>134609</td>\n",
       "      <td>22585</td>\n",
       "    </tr>\n",
       "  </tbody>\n",
       "</table>\n",
       "</div>"
      ],
      "text/plain": [
       "     chemical_id    chemical_name     disease_id         disease_name  \\\n",
       "0  UMLS:C0520442  acetyldigitoxin  UMLS:C0004238  Atrial fibrillation   \n",
       "1  UMLS:C0033497      propranolol  UMLS:C0004238  Atrial fibrillation   \n",
       "2  UMLS:C0012265          digoxin  UMLS:C0004238  Atrial fibrillation   \n",
       "3  UMLS:C0084273        quinidine  UMLS:C0004238  Atrial fibrillation   \n",
       "4  UMLS:C0766326      dronedarone  UMLS:C0004238  Atrial fibrillation   \n",
       "\n",
       "          etype  chemical_uid  disease_uid  \n",
       "0  TREATS_CDtDO        108642        22585  \n",
       "1  TREATS_CDtDO         32398        22585  \n",
       "2  TREATS_CDtDO         25280        22585  \n",
       "3  TREATS_CDtDO         55039        22585  \n",
       "4  TREATS_CDtDO        134609        22585  "
      ]
     },
     "execution_count": 18,
     "metadata": {},
     "output_type": "execute_result"
    }
   ],
   "source": [
    "fgold.head()"
   ]
  },
  {
   "cell_type": "code",
   "execution_count": 19,
   "metadata": {},
   "outputs": [
    {
     "data": {
      "text/plain": [
       "(6329, 7)"
      ]
     },
     "execution_count": 19,
     "metadata": {},
     "output_type": "execute_result"
    }
   ],
   "source": [
    "fgold.shape"
   ]
  },
  {
   "cell_type": "markdown",
   "metadata": {},
   "source": [
    "---"
   ]
  },
  {
   "cell_type": "markdown",
   "metadata": {},
   "source": [
    "## Add deepwalk ids to edges"
   ]
  },
  {
   "cell_type": "code",
   "execution_count": 20,
   "metadata": {},
   "outputs": [],
   "source": [
    "fedges = (edges\n",
    "    .merge(\n",
    "        fnodes[[\"node_uid\", \"node_id\"]],\n",
    "        how=\"inner\", left_on=\"source_fid\", right_on=\"node_id\"\n",
    "    )\n",
    "    .drop(\"node_id\", axis=1)\n",
    "    .rename(columns={\"node_uid\": \"source_uid\"})\n",
    "\n",
    "    .merge(\n",
    "        fnodes[[\"node_uid\", \"node_id\"]],\n",
    "        how=\"inner\", left_on=\"target_fid\", right_on=\"node_id\"\n",
    "    )\n",
    "    .drop(\"node_id\", axis=1)\n",
    "    .rename(columns={\"node_uid\": \"target_uid\"})\n",
    ")"
   ]
  },
  {
   "cell_type": "code",
   "execution_count": 21,
   "metadata": {},
   "outputs": [
    {
     "data": {
      "text/html": [
       "<div>\n",
       "<style scoped>\n",
       "    .dataframe tbody tr th:only-of-type {\n",
       "        vertical-align: middle;\n",
       "    }\n",
       "\n",
       "    .dataframe tbody tr th {\n",
       "        vertical-align: top;\n",
       "    }\n",
       "\n",
       "    .dataframe thead th {\n",
       "        text-align: right;\n",
       "    }\n",
       "</style>\n",
       "<table border=\"1\" class=\"dataframe\">\n",
       "  <thead>\n",
       "    <tr style=\"text-align: right;\">\n",
       "      <th></th>\n",
       "      <th>final_etype</th>\n",
       "      <th>origin</th>\n",
       "      <th>source_fid</th>\n",
       "      <th>source_stype</th>\n",
       "      <th>target_fid</th>\n",
       "      <th>target_stype</th>\n",
       "      <th>source_uid</th>\n",
       "      <th>target_uid</th>\n",
       "    </tr>\n",
       "  </thead>\n",
       "  <tbody>\n",
       "    <tr>\n",
       "      <th>0</th>\n",
       "      <td>REGULATES_CDreg&gt;CD</td>\n",
       "      <td>semmeddb</td>\n",
       "      <td>UMLS:C0000039</td>\n",
       "      <td>Chemicals &amp; Drugs</td>\n",
       "      <td>UMLS:C0001026</td>\n",
       "      <td>Chemicals &amp; Drugs</td>\n",
       "      <td>21154</td>\n",
       "      <td>21356</td>\n",
       "    </tr>\n",
       "    <tr>\n",
       "      <th>1</th>\n",
       "      <td>REGULATES_CDreg&gt;CD</td>\n",
       "      <td>semmeddb</td>\n",
       "      <td>UMLS:C0000167</td>\n",
       "      <td>Chemicals &amp; Drugs</td>\n",
       "      <td>UMLS:C0001026</td>\n",
       "      <td>Chemicals &amp; Drugs</td>\n",
       "      <td>21168</td>\n",
       "      <td>21356</td>\n",
       "    </tr>\n",
       "    <tr>\n",
       "      <th>2</th>\n",
       "      <td>PRODUCES_LBpdCD</td>\n",
       "      <td>semmeddb</td>\n",
       "      <td>UMLS:C0000901</td>\n",
       "      <td>Living Beings</td>\n",
       "      <td>UMLS:C0001026</td>\n",
       "      <td>Chemicals &amp; Drugs</td>\n",
       "      <td>21301</td>\n",
       "      <td>21356</td>\n",
       "    </tr>\n",
       "    <tr>\n",
       "      <th>3</th>\n",
       "      <td>REGULATES_CDreg&gt;CD</td>\n",
       "      <td>semmeddb</td>\n",
       "      <td>UMLS:C0000975</td>\n",
       "      <td>Chemicals &amp; Drugs</td>\n",
       "      <td>UMLS:C0001026</td>\n",
       "      <td>Chemicals &amp; Drugs</td>\n",
       "      <td>21332</td>\n",
       "      <td>21356</td>\n",
       "    </tr>\n",
       "    <tr>\n",
       "      <th>4</th>\n",
       "      <td>REGULATES_CDreg&gt;CD</td>\n",
       "      <td>semmeddb</td>\n",
       "      <td>UMLS:C0000977</td>\n",
       "      <td>Chemicals &amp; Drugs</td>\n",
       "      <td>UMLS:C0001026</td>\n",
       "      <td>Chemicals &amp; Drugs</td>\n",
       "      <td>21333</td>\n",
       "      <td>21356</td>\n",
       "    </tr>\n",
       "  </tbody>\n",
       "</table>\n",
       "</div>"
      ],
      "text/plain": [
       "          final_etype    origin     source_fid       source_stype  \\\n",
       "0  REGULATES_CDreg>CD  semmeddb  UMLS:C0000039  Chemicals & Drugs   \n",
       "1  REGULATES_CDreg>CD  semmeddb  UMLS:C0000167  Chemicals & Drugs   \n",
       "2     PRODUCES_LBpdCD  semmeddb  UMLS:C0000901      Living Beings   \n",
       "3  REGULATES_CDreg>CD  semmeddb  UMLS:C0000975  Chemicals & Drugs   \n",
       "4  REGULATES_CDreg>CD  semmeddb  UMLS:C0000977  Chemicals & Drugs   \n",
       "\n",
       "      target_fid       target_stype  source_uid  target_uid  \n",
       "0  UMLS:C0001026  Chemicals & Drugs       21154       21356  \n",
       "1  UMLS:C0001026  Chemicals & Drugs       21168       21356  \n",
       "2  UMLS:C0001026  Chemicals & Drugs       21301       21356  \n",
       "3  UMLS:C0001026  Chemicals & Drugs       21332       21356  \n",
       "4  UMLS:C0001026  Chemicals & Drugs       21333       21356  "
      ]
     },
     "execution_count": 21,
     "metadata": {},
     "output_type": "execute_result"
    }
   ],
   "source": [
    "fedges.head()"
   ]
  },
  {
   "cell_type": "markdown",
   "metadata": {},
   "source": [
    "---"
   ]
  },
  {
   "cell_type": "code",
   "execution_count": 22,
   "metadata": {},
   "outputs": [],
   "source": [
    "fnodes.to_csv(\"data/merged_nodes.tsv\", sep='\\t', index=False)"
   ]
  },
  {
   "cell_type": "code",
   "execution_count": 23,
   "metadata": {},
   "outputs": [],
   "source": [
    "fedges.to_csv(\"data/merged_edges.tsv\", sep='\\t', index=False)"
   ]
  },
  {
   "cell_type": "code",
   "execution_count": 24,
   "metadata": {},
   "outputs": [],
   "source": [
    "fgold.to_csv(\"data/merged_gold.tsv\", sep='\\t', index=False)"
   ]
  }
 ],
 "metadata": {
  "kernelspec": {
   "display_name": "Python 3",
   "language": "python",
   "name": "python3"
  },
  "language_info": {
   "codemirror_mode": {
    "name": "ipython",
    "version": 3
   },
   "file_extension": ".py",
   "mimetype": "text/x-python",
   "name": "python",
   "nbconvert_exporter": "python",
   "pygments_lexer": "ipython3",
   "version": "3.5.2"
  }
 },
 "nbformat": 4,
 "nbformat_minor": 2
}
