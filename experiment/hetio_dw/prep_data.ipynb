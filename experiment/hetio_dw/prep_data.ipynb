{
 "cells": [
  {
   "cell_type": "markdown",
   "metadata": {},
   "source": [
    "# Try running deepwalk on hetionet by itself"
   ]
  },
  {
   "cell_type": "code",
   "execution_count": 1,
   "metadata": {},
   "outputs": [],
   "source": [
    "import pandas as pd"
   ]
  },
  {
   "cell_type": "markdown",
   "metadata": {},
   "source": [
    "## Read hetionet"
   ]
  },
  {
   "cell_type": "code",
   "execution_count": 2,
   "metadata": {},
   "outputs": [
    {
     "data": {
      "text/plain": [
       "'/home/tongli/walkpred/experiment/hetio_dw'"
      ]
     },
     "execution_count": 2,
     "metadata": {},
     "output_type": "execute_result"
    }
   ],
   "source": [
    "pwd"
   ]
  },
  {
   "cell_type": "code",
   "execution_count": 3,
   "metadata": {},
   "outputs": [],
   "source": [
    "nodes = (pd\n",
    "    .read_csv(\"../../merge/data/hetionet/hetnet_nodes.csv\", sep=',')\n",
    "    .drop(\"identifier:string\", axis=1)\n",
    "    .rename(columns={\n",
    "        \":ID\": \"node_id\",\n",
    "        \"name:string\": \"name\",\n",
    "        \":LABEL\": \"het_type\"\n",
    "    })\n",
    ")"
   ]
  },
  {
   "cell_type": "code",
   "execution_count": 4,
   "metadata": {},
   "outputs": [
    {
     "data": {
      "text/html": [
       "<div>\n",
       "<style scoped>\n",
       "    .dataframe tbody tr th:only-of-type {\n",
       "        vertical-align: middle;\n",
       "    }\n",
       "\n",
       "    .dataframe tbody tr th {\n",
       "        vertical-align: top;\n",
       "    }\n",
       "\n",
       "    .dataframe thead th {\n",
       "        text-align: right;\n",
       "    }\n",
       "</style>\n",
       "<table border=\"1\" class=\"dataframe\">\n",
       "  <thead>\n",
       "    <tr style=\"text-align: right;\">\n",
       "      <th></th>\n",
       "      <th>node_id</th>\n",
       "      <th>name</th>\n",
       "      <th>het_type</th>\n",
       "    </tr>\n",
       "  </thead>\n",
       "  <tbody>\n",
       "    <tr>\n",
       "      <th>0</th>\n",
       "      <td>DB00795</td>\n",
       "      <td>Sulfasalazine</td>\n",
       "      <td>Compound</td>\n",
       "    </tr>\n",
       "    <tr>\n",
       "      <th>1</th>\n",
       "      <td>N0000000151</td>\n",
       "      <td>Histamine H2 Receptor Antagonists</td>\n",
       "      <td>Pharmacologic Class</td>\n",
       "    </tr>\n",
       "    <tr>\n",
       "      <th>2</th>\n",
       "      <td>100996420</td>\n",
       "      <td>DNM1P50</td>\n",
       "      <td>Gene</td>\n",
       "    </tr>\n",
       "    <tr>\n",
       "      <th>3</th>\n",
       "      <td>DB04898</td>\n",
       "      <td>Ximelagatran</td>\n",
       "      <td>Compound</td>\n",
       "    </tr>\n",
       "    <tr>\n",
       "      <th>4</th>\n",
       "      <td>C0278151</td>\n",
       "      <td>Facial spasm</td>\n",
       "      <td>Side Effect</td>\n",
       "    </tr>\n",
       "  </tbody>\n",
       "</table>\n",
       "</div>"
      ],
      "text/plain": [
       "       node_id                               name             het_type\n",
       "0      DB00795                      Sulfasalazine             Compound\n",
       "1  N0000000151  Histamine H2 Receptor Antagonists  Pharmacologic Class\n",
       "2    100996420                            DNM1P50                 Gene\n",
       "3      DB04898                       Ximelagatran             Compound\n",
       "4     C0278151                       Facial spasm          Side Effect"
      ]
     },
     "execution_count": 4,
     "metadata": {},
     "output_type": "execute_result"
    }
   ],
   "source": [
    "nodes.head()"
   ]
  },
  {
   "cell_type": "code",
   "execution_count": 5,
   "metadata": {},
   "outputs": [],
   "source": [
    "hedges = (pd\n",
    "    .read_csv(\"../../merge/data/hetionet/hetnet_edges.csv\", sep=',')\n",
    "    .rename(columns={\n",
    "        \":START_ID\": \"start_id\",\n",
    "        \":END_ID\": \"end_id\",\n",
    "        \":TYPE\": \"het_etype\"\n",
    "    })\n",
    ")"
   ]
  },
  {
   "cell_type": "code",
   "execution_count": 6,
   "metadata": {},
   "outputs": [
    {
     "data": {
      "text/html": [
       "<div>\n",
       "<style scoped>\n",
       "    .dataframe tbody tr th:only-of-type {\n",
       "        vertical-align: middle;\n",
       "    }\n",
       "\n",
       "    .dataframe tbody tr th {\n",
       "        vertical-align: top;\n",
       "    }\n",
       "\n",
       "    .dataframe thead th {\n",
       "        text-align: right;\n",
       "    }\n",
       "</style>\n",
       "<table border=\"1\" class=\"dataframe\">\n",
       "  <thead>\n",
       "    <tr style=\"text-align: right;\">\n",
       "      <th></th>\n",
       "      <th>start_id</th>\n",
       "      <th>end_id</th>\n",
       "      <th>het_etype</th>\n",
       "    </tr>\n",
       "  </thead>\n",
       "  <tbody>\n",
       "    <tr>\n",
       "      <th>0</th>\n",
       "      <td>8568</td>\n",
       "      <td>GO:0042254</td>\n",
       "      <td>PARTICIPATES_GpBP</td>\n",
       "    </tr>\n",
       "    <tr>\n",
       "      <th>1</th>\n",
       "      <td>UBERON:0002450</td>\n",
       "      <td>51316</td>\n",
       "      <td>EXPRESSES_AeG</td>\n",
       "    </tr>\n",
       "    <tr>\n",
       "      <th>2</th>\n",
       "      <td>4893</td>\n",
       "      <td>PC7_8430</td>\n",
       "      <td>PARTICIPATES_GpPW</td>\n",
       "    </tr>\n",
       "    <tr>\n",
       "      <th>3</th>\n",
       "      <td>UBERON:0002185</td>\n",
       "      <td>55186</td>\n",
       "      <td>EXPRESSES_AeG</td>\n",
       "    </tr>\n",
       "    <tr>\n",
       "      <th>4</th>\n",
       "      <td>119504</td>\n",
       "      <td>GO:0033047</td>\n",
       "      <td>PARTICIPATES_GpBP</td>\n",
       "    </tr>\n",
       "  </tbody>\n",
       "</table>\n",
       "</div>"
      ],
      "text/plain": [
       "         start_id      end_id          het_etype\n",
       "0            8568  GO:0042254  PARTICIPATES_GpBP\n",
       "1  UBERON:0002450       51316      EXPRESSES_AeG\n",
       "2            4893    PC7_8430  PARTICIPATES_GpPW\n",
       "3  UBERON:0002185       55186      EXPRESSES_AeG\n",
       "4          119504  GO:0033047  PARTICIPATES_GpBP"
      ]
     },
     "execution_count": 6,
     "metadata": {},
     "output_type": "execute_result"
    }
   ],
   "source": [
    "hedges.head()"
   ]
  },
  {
   "cell_type": "markdown",
   "metadata": {},
   "source": [
    "---"
   ]
  },
  {
   "cell_type": "markdown",
   "metadata": {},
   "source": [
    "## Assign deepwalk ids"
   ]
  },
  {
   "cell_type": "code",
   "execution_count": 7,
   "metadata": {},
   "outputs": [],
   "source": [
    "fnodes = (nodes\n",
    "    .reset_index()\n",
    "    .rename(columns={\"index\": \"node_uid\"})\n",
    ")"
   ]
  },
  {
   "cell_type": "code",
   "execution_count": 8,
   "metadata": {},
   "outputs": [
    {
     "data": {
      "text/html": [
       "<div>\n",
       "<style scoped>\n",
       "    .dataframe tbody tr th:only-of-type {\n",
       "        vertical-align: middle;\n",
       "    }\n",
       "\n",
       "    .dataframe tbody tr th {\n",
       "        vertical-align: top;\n",
       "    }\n",
       "\n",
       "    .dataframe thead th {\n",
       "        text-align: right;\n",
       "    }\n",
       "</style>\n",
       "<table border=\"1\" class=\"dataframe\">\n",
       "  <thead>\n",
       "    <tr style=\"text-align: right;\">\n",
       "      <th></th>\n",
       "      <th>node_uid</th>\n",
       "      <th>node_id</th>\n",
       "      <th>name</th>\n",
       "      <th>het_type</th>\n",
       "    </tr>\n",
       "  </thead>\n",
       "  <tbody>\n",
       "    <tr>\n",
       "      <th>0</th>\n",
       "      <td>0</td>\n",
       "      <td>DB00795</td>\n",
       "      <td>Sulfasalazine</td>\n",
       "      <td>Compound</td>\n",
       "    </tr>\n",
       "    <tr>\n",
       "      <th>1</th>\n",
       "      <td>1</td>\n",
       "      <td>N0000000151</td>\n",
       "      <td>Histamine H2 Receptor Antagonists</td>\n",
       "      <td>Pharmacologic Class</td>\n",
       "    </tr>\n",
       "    <tr>\n",
       "      <th>2</th>\n",
       "      <td>2</td>\n",
       "      <td>100996420</td>\n",
       "      <td>DNM1P50</td>\n",
       "      <td>Gene</td>\n",
       "    </tr>\n",
       "    <tr>\n",
       "      <th>3</th>\n",
       "      <td>3</td>\n",
       "      <td>DB04898</td>\n",
       "      <td>Ximelagatran</td>\n",
       "      <td>Compound</td>\n",
       "    </tr>\n",
       "    <tr>\n",
       "      <th>4</th>\n",
       "      <td>4</td>\n",
       "      <td>C0278151</td>\n",
       "      <td>Facial spasm</td>\n",
       "      <td>Side Effect</td>\n",
       "    </tr>\n",
       "  </tbody>\n",
       "</table>\n",
       "</div>"
      ],
      "text/plain": [
       "   node_uid      node_id                               name  \\\n",
       "0         0      DB00795                      Sulfasalazine   \n",
       "1         1  N0000000151  Histamine H2 Receptor Antagonists   \n",
       "2         2    100996420                            DNM1P50   \n",
       "3         3      DB04898                       Ximelagatran   \n",
       "4         4     C0278151                       Facial spasm   \n",
       "\n",
       "              het_type  \n",
       "0             Compound  \n",
       "1  Pharmacologic Class  \n",
       "2                 Gene  \n",
       "3             Compound  \n",
       "4          Side Effect  "
      ]
     },
     "execution_count": 8,
     "metadata": {},
     "output_type": "execute_result"
    }
   ],
   "source": [
    "fnodes.head()"
   ]
  },
  {
   "cell_type": "markdown",
   "metadata": {},
   "source": [
    "## add deepwalk ids to edges"
   ]
  },
  {
   "cell_type": "code",
   "execution_count": 9,
   "metadata": {},
   "outputs": [],
   "source": [
    "fedges = (hedges\n",
    "    .merge(\n",
    "        fnodes[[\"node_uid\", \"node_id\"]],\n",
    "        how=\"inner\", left_on=\"start_id\", right_on=\"node_id\"\n",
    "    )\n",
    "    .drop(\"node_id\", axis=1)\n",
    "    .rename(columns={\"node_uid\": \"source_uid\"})\n",
    "\n",
    "    .merge(\n",
    "        fnodes[[\"node_uid\", \"node_id\"]],\n",
    "        how=\"inner\", left_on=\"end_id\", right_on=\"node_id\"\n",
    "    )\n",
    "    .drop(\"node_id\", axis=1)\n",
    "    .rename(columns={\"node_uid\": \"target_uid\"})\n",
    ")"
   ]
  },
  {
   "cell_type": "code",
   "execution_count": 10,
   "metadata": {},
   "outputs": [
    {
     "data": {
      "text/html": [
       "<div>\n",
       "<style scoped>\n",
       "    .dataframe tbody tr th:only-of-type {\n",
       "        vertical-align: middle;\n",
       "    }\n",
       "\n",
       "    .dataframe tbody tr th {\n",
       "        vertical-align: top;\n",
       "    }\n",
       "\n",
       "    .dataframe thead th {\n",
       "        text-align: right;\n",
       "    }\n",
       "</style>\n",
       "<table border=\"1\" class=\"dataframe\">\n",
       "  <thead>\n",
       "    <tr style=\"text-align: right;\">\n",
       "      <th></th>\n",
       "      <th>start_id</th>\n",
       "      <th>end_id</th>\n",
       "      <th>het_etype</th>\n",
       "      <th>source_uid</th>\n",
       "      <th>target_uid</th>\n",
       "    </tr>\n",
       "  </thead>\n",
       "  <tbody>\n",
       "    <tr>\n",
       "      <th>0</th>\n",
       "      <td>8568</td>\n",
       "      <td>GO:0042254</td>\n",
       "      <td>PARTICIPATES_GpBP</td>\n",
       "      <td>26311</td>\n",
       "      <td>5975</td>\n",
       "    </tr>\n",
       "    <tr>\n",
       "      <th>1</th>\n",
       "      <td>6201</td>\n",
       "      <td>GO:0042254</td>\n",
       "      <td>PARTICIPATES_GpBP</td>\n",
       "      <td>9449</td>\n",
       "      <td>5975</td>\n",
       "    </tr>\n",
       "    <tr>\n",
       "      <th>2</th>\n",
       "      <td>6223</td>\n",
       "      <td>GO:0042254</td>\n",
       "      <td>PARTICIPATES_GpBP</td>\n",
       "      <td>32586</td>\n",
       "      <td>5975</td>\n",
       "    </tr>\n",
       "    <tr>\n",
       "      <th>3</th>\n",
       "      <td>6202</td>\n",
       "      <td>GO:0042254</td>\n",
       "      <td>PARTICIPATES_GpBP</td>\n",
       "      <td>21669</td>\n",
       "      <td>5975</td>\n",
       "    </tr>\n",
       "    <tr>\n",
       "      <th>4</th>\n",
       "      <td>65003</td>\n",
       "      <td>GO:0042254</td>\n",
       "      <td>PARTICIPATES_GpBP</td>\n",
       "      <td>20653</td>\n",
       "      <td>5975</td>\n",
       "    </tr>\n",
       "  </tbody>\n",
       "</table>\n",
       "</div>"
      ],
      "text/plain": [
       "  start_id      end_id          het_etype  source_uid  target_uid\n",
       "0     8568  GO:0042254  PARTICIPATES_GpBP       26311        5975\n",
       "1     6201  GO:0042254  PARTICIPATES_GpBP        9449        5975\n",
       "2     6223  GO:0042254  PARTICIPATES_GpBP       32586        5975\n",
       "3     6202  GO:0042254  PARTICIPATES_GpBP       21669        5975\n",
       "4    65003  GO:0042254  PARTICIPATES_GpBP       20653        5975"
      ]
     },
     "execution_count": 10,
     "metadata": {},
     "output_type": "execute_result"
    }
   ],
   "source": [
    "fedges.head()"
   ]
  },
  {
   "cell_type": "markdown",
   "metadata": {},
   "source": [
    "---"
   ]
  },
  {
   "cell_type": "code",
   "execution_count": 11,
   "metadata": {},
   "outputs": [],
   "source": [
    "gold = pd.read_csv(\"filtered_semmed_gold_for_hetionet.tsv\", sep='\\t')"
   ]
  },
  {
   "cell_type": "code",
   "execution_count": 12,
   "metadata": {},
   "outputs": [
    {
     "data": {
      "text/html": [
       "<div>\n",
       "<style scoped>\n",
       "    .dataframe tbody tr th:only-of-type {\n",
       "        vertical-align: middle;\n",
       "    }\n",
       "\n",
       "    .dataframe tbody tr th {\n",
       "        vertical-align: top;\n",
       "    }\n",
       "\n",
       "    .dataframe thead th {\n",
       "        text-align: right;\n",
       "    }\n",
       "</style>\n",
       "<table border=\"1\" class=\"dataframe\">\n",
       "  <thead>\n",
       "    <tr style=\"text-align: right;\">\n",
       "      <th></th>\n",
       "      <th>chemical_id</th>\n",
       "      <th>chemical_name</th>\n",
       "      <th>disease_id</th>\n",
       "      <th>disease_name</th>\n",
       "      <th>etype</th>\n",
       "      <th>chemical_hetid</th>\n",
       "      <th>chemical_htype</th>\n",
       "      <th>disease_hetid</th>\n",
       "      <th>disease_htype</th>\n",
       "    </tr>\n",
       "  </thead>\n",
       "  <tbody>\n",
       "    <tr>\n",
       "      <th>0</th>\n",
       "      <td>UMLS:C0000477</td>\n",
       "      <td>fampridine</td>\n",
       "      <td>UMLS:C0026769</td>\n",
       "      <td>multiple sclerosis</td>\n",
       "      <td>TREATS_CDtDO</td>\n",
       "      <td>DB06637</td>\n",
       "      <td>Compound</td>\n",
       "      <td>C0026769</td>\n",
       "      <td>Side Effect</td>\n",
       "    </tr>\n",
       "    <tr>\n",
       "      <th>1</th>\n",
       "      <td>UMLS:C0000545</td>\n",
       "      <td>eicosapentaenoic acid</td>\n",
       "      <td>UMLS:C0032961</td>\n",
       "      <td>Pregnancy, function</td>\n",
       "      <td>TREATS_CDtDO</td>\n",
       "      <td>DB00159</td>\n",
       "      <td>Compound</td>\n",
       "      <td>C0032961</td>\n",
       "      <td>Side Effect</td>\n",
       "    </tr>\n",
       "    <tr>\n",
       "      <th>2</th>\n",
       "      <td>UMLS:C0000618</td>\n",
       "      <td>mercaptopurine</td>\n",
       "      <td>UMLS:C0023449</td>\n",
       "      <td>acute lymphocytic leukemia</td>\n",
       "      <td>TREATS_CDtDO</td>\n",
       "      <td>DB01033</td>\n",
       "      <td>Compound</td>\n",
       "      <td>C0023449</td>\n",
       "      <td>Side Effect</td>\n",
       "    </tr>\n",
       "    <tr>\n",
       "      <th>3</th>\n",
       "      <td>UMLS:C0000618</td>\n",
       "      <td>mercaptopurine</td>\n",
       "      <td>UMLS:C0023487</td>\n",
       "      <td>acute promyelocytic leukemia</td>\n",
       "      <td>TREATS_CDtDO</td>\n",
       "      <td>DB01033</td>\n",
       "      <td>Compound</td>\n",
       "      <td>C0023487</td>\n",
       "      <td>Side Effect</td>\n",
       "    </tr>\n",
       "    <tr>\n",
       "      <th>4</th>\n",
       "      <td>UMLS:C0000956</td>\n",
       "      <td>acenocoumarol</td>\n",
       "      <td>UMLS:C0034065</td>\n",
       "      <td>Pulmonary embolism</td>\n",
       "      <td>TREATS_CDtDO</td>\n",
       "      <td>DB01418</td>\n",
       "      <td>Compound</td>\n",
       "      <td>C0034065</td>\n",
       "      <td>Side Effect</td>\n",
       "    </tr>\n",
       "  </tbody>\n",
       "</table>\n",
       "</div>"
      ],
      "text/plain": [
       "     chemical_id          chemical_name     disease_id  \\\n",
       "0  UMLS:C0000477             fampridine  UMLS:C0026769   \n",
       "1  UMLS:C0000545  eicosapentaenoic acid  UMLS:C0032961   \n",
       "2  UMLS:C0000618         mercaptopurine  UMLS:C0023449   \n",
       "3  UMLS:C0000618         mercaptopurine  UMLS:C0023487   \n",
       "4  UMLS:C0000956          acenocoumarol  UMLS:C0034065   \n",
       "\n",
       "                   disease_name         etype chemical_hetid chemical_htype  \\\n",
       "0            multiple sclerosis  TREATS_CDtDO        DB06637       Compound   \n",
       "1           Pregnancy, function  TREATS_CDtDO        DB00159       Compound   \n",
       "2    acute lymphocytic leukemia  TREATS_CDtDO        DB01033       Compound   \n",
       "3  acute promyelocytic leukemia  TREATS_CDtDO        DB01033       Compound   \n",
       "4            Pulmonary embolism  TREATS_CDtDO        DB01418       Compound   \n",
       "\n",
       "  disease_hetid disease_htype  \n",
       "0      C0026769   Side Effect  \n",
       "1      C0032961   Side Effect  \n",
       "2      C0023449   Side Effect  \n",
       "3      C0023487   Side Effect  \n",
       "4      C0034065   Side Effect  "
      ]
     },
     "execution_count": 12,
     "metadata": {},
     "output_type": "execute_result"
    }
   ],
   "source": [
    "gold.head()"
   ]
  },
  {
   "cell_type": "code",
   "execution_count": 13,
   "metadata": {},
   "outputs": [],
   "source": [
    "fgold = (gold\n",
    "    .rename(columns={\n",
    "        \"chemical_id\": \"chemical_cui\",\n",
    "        \"disease_id\": \"disease_cui\",\n",
    "        \"chemical_hetid\": \"chemical_id\",\n",
    "        \"disease_hetid\": \"disease_id\"\n",
    "    })\n",
    ")"
   ]
  },
  {
   "cell_type": "code",
   "execution_count": 14,
   "metadata": {},
   "outputs": [
    {
     "data": {
      "text/html": [
       "<div>\n",
       "<style scoped>\n",
       "    .dataframe tbody tr th:only-of-type {\n",
       "        vertical-align: middle;\n",
       "    }\n",
       "\n",
       "    .dataframe tbody tr th {\n",
       "        vertical-align: top;\n",
       "    }\n",
       "\n",
       "    .dataframe thead th {\n",
       "        text-align: right;\n",
       "    }\n",
       "</style>\n",
       "<table border=\"1\" class=\"dataframe\">\n",
       "  <thead>\n",
       "    <tr style=\"text-align: right;\">\n",
       "      <th></th>\n",
       "      <th>chemical_cui</th>\n",
       "      <th>chemical_name</th>\n",
       "      <th>disease_cui</th>\n",
       "      <th>disease_name</th>\n",
       "      <th>etype</th>\n",
       "      <th>chemical_id</th>\n",
       "      <th>chemical_htype</th>\n",
       "      <th>disease_id</th>\n",
       "      <th>disease_htype</th>\n",
       "    </tr>\n",
       "  </thead>\n",
       "  <tbody>\n",
       "    <tr>\n",
       "      <th>0</th>\n",
       "      <td>UMLS:C0000477</td>\n",
       "      <td>fampridine</td>\n",
       "      <td>UMLS:C0026769</td>\n",
       "      <td>multiple sclerosis</td>\n",
       "      <td>TREATS_CDtDO</td>\n",
       "      <td>DB06637</td>\n",
       "      <td>Compound</td>\n",
       "      <td>C0026769</td>\n",
       "      <td>Side Effect</td>\n",
       "    </tr>\n",
       "    <tr>\n",
       "      <th>1</th>\n",
       "      <td>UMLS:C0000545</td>\n",
       "      <td>eicosapentaenoic acid</td>\n",
       "      <td>UMLS:C0032961</td>\n",
       "      <td>Pregnancy, function</td>\n",
       "      <td>TREATS_CDtDO</td>\n",
       "      <td>DB00159</td>\n",
       "      <td>Compound</td>\n",
       "      <td>C0032961</td>\n",
       "      <td>Side Effect</td>\n",
       "    </tr>\n",
       "    <tr>\n",
       "      <th>2</th>\n",
       "      <td>UMLS:C0000618</td>\n",
       "      <td>mercaptopurine</td>\n",
       "      <td>UMLS:C0023449</td>\n",
       "      <td>acute lymphocytic leukemia</td>\n",
       "      <td>TREATS_CDtDO</td>\n",
       "      <td>DB01033</td>\n",
       "      <td>Compound</td>\n",
       "      <td>C0023449</td>\n",
       "      <td>Side Effect</td>\n",
       "    </tr>\n",
       "    <tr>\n",
       "      <th>3</th>\n",
       "      <td>UMLS:C0000618</td>\n",
       "      <td>mercaptopurine</td>\n",
       "      <td>UMLS:C0023487</td>\n",
       "      <td>acute promyelocytic leukemia</td>\n",
       "      <td>TREATS_CDtDO</td>\n",
       "      <td>DB01033</td>\n",
       "      <td>Compound</td>\n",
       "      <td>C0023487</td>\n",
       "      <td>Side Effect</td>\n",
       "    </tr>\n",
       "    <tr>\n",
       "      <th>4</th>\n",
       "      <td>UMLS:C0000956</td>\n",
       "      <td>acenocoumarol</td>\n",
       "      <td>UMLS:C0034065</td>\n",
       "      <td>Pulmonary embolism</td>\n",
       "      <td>TREATS_CDtDO</td>\n",
       "      <td>DB01418</td>\n",
       "      <td>Compound</td>\n",
       "      <td>C0034065</td>\n",
       "      <td>Side Effect</td>\n",
       "    </tr>\n",
       "  </tbody>\n",
       "</table>\n",
       "</div>"
      ],
      "text/plain": [
       "    chemical_cui          chemical_name    disease_cui  \\\n",
       "0  UMLS:C0000477             fampridine  UMLS:C0026769   \n",
       "1  UMLS:C0000545  eicosapentaenoic acid  UMLS:C0032961   \n",
       "2  UMLS:C0000618         mercaptopurine  UMLS:C0023449   \n",
       "3  UMLS:C0000618         mercaptopurine  UMLS:C0023487   \n",
       "4  UMLS:C0000956          acenocoumarol  UMLS:C0034065   \n",
       "\n",
       "                   disease_name         etype chemical_id chemical_htype  \\\n",
       "0            multiple sclerosis  TREATS_CDtDO     DB06637       Compound   \n",
       "1           Pregnancy, function  TREATS_CDtDO     DB00159       Compound   \n",
       "2    acute lymphocytic leukemia  TREATS_CDtDO     DB01033       Compound   \n",
       "3  acute promyelocytic leukemia  TREATS_CDtDO     DB01033       Compound   \n",
       "4            Pulmonary embolism  TREATS_CDtDO     DB01418       Compound   \n",
       "\n",
       "  disease_id disease_htype  \n",
       "0   C0026769   Side Effect  \n",
       "1   C0032961   Side Effect  \n",
       "2   C0023449   Side Effect  \n",
       "3   C0023487   Side Effect  \n",
       "4   C0034065   Side Effect  "
      ]
     },
     "execution_count": 14,
     "metadata": {},
     "output_type": "execute_result"
    }
   ],
   "source": [
    "fgold.head()"
   ]
  },
  {
   "cell_type": "markdown",
   "metadata": {},
   "source": [
    "---"
   ]
  },
  {
   "cell_type": "code",
   "execution_count": 15,
   "metadata": {},
   "outputs": [],
   "source": [
    "fnodes.to_csv(\"data/hetio_nodes.tsv\", sep='\\t', index=False)"
   ]
  },
  {
   "cell_type": "code",
   "execution_count": 16,
   "metadata": {},
   "outputs": [],
   "source": [
    "fedges.to_csv(\"data/hetio_edges.tsv\", sep='\\t', index=False)"
   ]
  },
  {
   "cell_type": "code",
   "execution_count": 17,
   "metadata": {},
   "outputs": [],
   "source": [
    "fgold.to_csv(\"data/hetio_gold.tsv\", sep='\\t', index=False)"
   ]
  },
  {
   "cell_type": "code",
   "execution_count": null,
   "metadata": {},
   "outputs": [],
   "source": []
  }
 ],
 "metadata": {
  "kernelspec": {
   "display_name": "Python 3",
   "language": "python",
   "name": "python3"
  },
  "language_info": {
   "codemirror_mode": {
    "name": "ipython",
    "version": 3
   },
   "file_extension": ".py",
   "mimetype": "text/x-python",
   "name": "python",
   "nbconvert_exporter": "python",
   "pygments_lexer": "ipython3",
   "version": "3.5.2"
  }
 },
 "nbformat": 4,
 "nbformat_minor": 2
}
