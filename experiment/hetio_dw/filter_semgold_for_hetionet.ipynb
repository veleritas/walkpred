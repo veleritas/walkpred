{
 "cells": [
  {
   "cell_type": "markdown",
   "metadata": {},
   "source": [
    "# Filter the semmeddb gold standard for use with hetionet"
   ]
  },
  {
   "cell_type": "code",
   "execution_count": 1,
   "metadata": {},
   "outputs": [],
   "source": [
    "import pandas as pd"
   ]
  },
  {
   "cell_type": "markdown",
   "metadata": {},
   "source": [
    "## Read hetionet to umls mapping"
   ]
  },
  {
   "cell_type": "code",
   "execution_count": 2,
   "metadata": {},
   "outputs": [],
   "source": [
    "hmap = pd.read_csv(\"../../merge/hetionet/hetio_nodes.tsv\", sep='\\t')"
   ]
  },
  {
   "cell_type": "code",
   "execution_count": 3,
   "metadata": {},
   "outputs": [
    {
     "data": {
      "text/plain": [
       "(58700, 4)"
      ]
     },
     "execution_count": 3,
     "metadata": {},
     "output_type": "execute_result"
    }
   ],
   "source": [
    "hmap.shape"
   ]
  },
  {
   "cell_type": "code",
   "execution_count": 4,
   "metadata": {},
   "outputs": [
    {
     "data": {
      "text/html": [
       "<div>\n",
       "<style scoped>\n",
       "    .dataframe tbody tr th:only-of-type {\n",
       "        vertical-align: middle;\n",
       "    }\n",
       "\n",
       "    .dataframe tbody tr th {\n",
       "        vertical-align: top;\n",
       "    }\n",
       "\n",
       "    .dataframe thead th {\n",
       "        text-align: right;\n",
       "    }\n",
       "</style>\n",
       "<table border=\"1\" class=\"dataframe\">\n",
       "  <thead>\n",
       "    <tr style=\"text-align: right;\">\n",
       "      <th></th>\n",
       "      <th>hetio_id</th>\n",
       "      <th>name</th>\n",
       "      <th>het_type</th>\n",
       "      <th>cui</th>\n",
       "    </tr>\n",
       "  </thead>\n",
       "  <tbody>\n",
       "    <tr>\n",
       "      <th>0</th>\n",
       "      <td>DB00795</td>\n",
       "      <td>Sulfasalazine</td>\n",
       "      <td>Compound</td>\n",
       "      <td>UMLS:C0036078</td>\n",
       "    </tr>\n",
       "    <tr>\n",
       "      <th>1</th>\n",
       "      <td>DB00795</td>\n",
       "      <td>Sulfasalazine</td>\n",
       "      <td>Compound</td>\n",
       "      <td>UMLS:C0699547</td>\n",
       "    </tr>\n",
       "    <tr>\n",
       "      <th>2</th>\n",
       "      <td>DB00795</td>\n",
       "      <td>Sulfasalazine</td>\n",
       "      <td>Compound</td>\n",
       "      <td>UMLS:C4255898</td>\n",
       "    </tr>\n",
       "    <tr>\n",
       "      <th>3</th>\n",
       "      <td>N0000000151</td>\n",
       "      <td>Histamine H2 Receptor Antagonists</td>\n",
       "      <td>Pharmacologic Class</td>\n",
       "      <td>UMLS:C2757005</td>\n",
       "    </tr>\n",
       "    <tr>\n",
       "      <th>4</th>\n",
       "      <td>100996420</td>\n",
       "      <td>DNM1P50</td>\n",
       "      <td>Gene</td>\n",
       "      <td>100996420</td>\n",
       "    </tr>\n",
       "  </tbody>\n",
       "</table>\n",
       "</div>"
      ],
      "text/plain": [
       "      hetio_id                               name             het_type  \\\n",
       "0      DB00795                      Sulfasalazine             Compound   \n",
       "1      DB00795                      Sulfasalazine             Compound   \n",
       "2      DB00795                      Sulfasalazine             Compound   \n",
       "3  N0000000151  Histamine H2 Receptor Antagonists  Pharmacologic Class   \n",
       "4    100996420                            DNM1P50                 Gene   \n",
       "\n",
       "             cui  \n",
       "0  UMLS:C0036078  \n",
       "1  UMLS:C0699547  \n",
       "2  UMLS:C4255898  \n",
       "3  UMLS:C2757005  \n",
       "4      100996420  "
      ]
     },
     "execution_count": 4,
     "metadata": {},
     "output_type": "execute_result"
    }
   ],
   "source": [
    "hmap.head()"
   ]
  },
  {
   "cell_type": "markdown",
   "metadata": {},
   "source": [
    "## Read semmeddb gold standard"
   ]
  },
  {
   "cell_type": "code",
   "execution_count": 5,
   "metadata": {},
   "outputs": [],
   "source": [
    "gold = (pd\n",
    "    .read_csv(\"../data/merged_gold.tsv\", sep='\\t')\n",
    "    .drop([\"chemical_uid\", \"disease_uid\"], axis=1)\n",
    ")"
   ]
  },
  {
   "cell_type": "code",
   "execution_count": 6,
   "metadata": {},
   "outputs": [
    {
     "data": {
      "text/plain": [
       "(6329, 5)"
      ]
     },
     "execution_count": 6,
     "metadata": {},
     "output_type": "execute_result"
    }
   ],
   "source": [
    "gold.shape"
   ]
  },
  {
   "cell_type": "code",
   "execution_count": 7,
   "metadata": {},
   "outputs": [
    {
     "data": {
      "text/html": [
       "<div>\n",
       "<style scoped>\n",
       "    .dataframe tbody tr th:only-of-type {\n",
       "        vertical-align: middle;\n",
       "    }\n",
       "\n",
       "    .dataframe tbody tr th {\n",
       "        vertical-align: top;\n",
       "    }\n",
       "\n",
       "    .dataframe thead th {\n",
       "        text-align: right;\n",
       "    }\n",
       "</style>\n",
       "<table border=\"1\" class=\"dataframe\">\n",
       "  <thead>\n",
       "    <tr style=\"text-align: right;\">\n",
       "      <th></th>\n",
       "      <th>chemical_id</th>\n",
       "      <th>chemical_name</th>\n",
       "      <th>disease_id</th>\n",
       "      <th>disease_name</th>\n",
       "      <th>etype</th>\n",
       "    </tr>\n",
       "  </thead>\n",
       "  <tbody>\n",
       "    <tr>\n",
       "      <th>0</th>\n",
       "      <td>UMLS:C0520442</td>\n",
       "      <td>acetyldigitoxin</td>\n",
       "      <td>UMLS:C0004238</td>\n",
       "      <td>Atrial fibrillation</td>\n",
       "      <td>TREATS_CDtDO</td>\n",
       "    </tr>\n",
       "    <tr>\n",
       "      <th>1</th>\n",
       "      <td>UMLS:C0033497</td>\n",
       "      <td>propranolol</td>\n",
       "      <td>UMLS:C0004238</td>\n",
       "      <td>Atrial fibrillation</td>\n",
       "      <td>TREATS_CDtDO</td>\n",
       "    </tr>\n",
       "    <tr>\n",
       "      <th>2</th>\n",
       "      <td>UMLS:C0012265</td>\n",
       "      <td>digoxin</td>\n",
       "      <td>UMLS:C0004238</td>\n",
       "      <td>Atrial fibrillation</td>\n",
       "      <td>TREATS_CDtDO</td>\n",
       "    </tr>\n",
       "    <tr>\n",
       "      <th>3</th>\n",
       "      <td>UMLS:C0084273</td>\n",
       "      <td>quinidine</td>\n",
       "      <td>UMLS:C0004238</td>\n",
       "      <td>Atrial fibrillation</td>\n",
       "      <td>TREATS_CDtDO</td>\n",
       "    </tr>\n",
       "    <tr>\n",
       "      <th>4</th>\n",
       "      <td>UMLS:C0766326</td>\n",
       "      <td>dronedarone</td>\n",
       "      <td>UMLS:C0004238</td>\n",
       "      <td>Atrial fibrillation</td>\n",
       "      <td>TREATS_CDtDO</td>\n",
       "    </tr>\n",
       "  </tbody>\n",
       "</table>\n",
       "</div>"
      ],
      "text/plain": [
       "     chemical_id    chemical_name     disease_id         disease_name  \\\n",
       "0  UMLS:C0520442  acetyldigitoxin  UMLS:C0004238  Atrial fibrillation   \n",
       "1  UMLS:C0033497      propranolol  UMLS:C0004238  Atrial fibrillation   \n",
       "2  UMLS:C0012265          digoxin  UMLS:C0004238  Atrial fibrillation   \n",
       "3  UMLS:C0084273        quinidine  UMLS:C0004238  Atrial fibrillation   \n",
       "4  UMLS:C0766326      dronedarone  UMLS:C0004238  Atrial fibrillation   \n",
       "\n",
       "          etype  \n",
       "0  TREATS_CDtDO  \n",
       "1  TREATS_CDtDO  \n",
       "2  TREATS_CDtDO  \n",
       "3  TREATS_CDtDO  \n",
       "4  TREATS_CDtDO  "
      ]
     },
     "execution_count": 7,
     "metadata": {},
     "output_type": "execute_result"
    }
   ],
   "source": [
    "gold.head()"
   ]
  },
  {
   "cell_type": "markdown",
   "metadata": {},
   "source": [
    "---"
   ]
  },
  {
   "cell_type": "markdown",
   "metadata": {},
   "source": [
    "## Filter down to existing hetio nodes"
   ]
  },
  {
   "cell_type": "code",
   "execution_count": 8,
   "metadata": {},
   "outputs": [],
   "source": [
    "hcuis = set(hmap[\"cui\"])"
   ]
  },
  {
   "cell_type": "code",
   "execution_count": 9,
   "metadata": {},
   "outputs": [],
   "source": [
    "hgold = gold.query(\"chemical_id in @hcuis and disease_id in @hcuis\")"
   ]
  },
  {
   "cell_type": "code",
   "execution_count": 10,
   "metadata": {},
   "outputs": [
    {
     "data": {
      "text/plain": [
       "(2924, 5)"
      ]
     },
     "execution_count": 10,
     "metadata": {},
     "output_type": "execute_result"
    }
   ],
   "source": [
    "hgold.shape"
   ]
  },
  {
   "cell_type": "code",
   "execution_count": 11,
   "metadata": {},
   "outputs": [
    {
     "data": {
      "text/html": [
       "<div>\n",
       "<style scoped>\n",
       "    .dataframe tbody tr th:only-of-type {\n",
       "        vertical-align: middle;\n",
       "    }\n",
       "\n",
       "    .dataframe tbody tr th {\n",
       "        vertical-align: top;\n",
       "    }\n",
       "\n",
       "    .dataframe thead th {\n",
       "        text-align: right;\n",
       "    }\n",
       "</style>\n",
       "<table border=\"1\" class=\"dataframe\">\n",
       "  <thead>\n",
       "    <tr style=\"text-align: right;\">\n",
       "      <th></th>\n",
       "      <th>chemical_id</th>\n",
       "      <th>chemical_name</th>\n",
       "      <th>disease_id</th>\n",
       "      <th>disease_name</th>\n",
       "      <th>etype</th>\n",
       "    </tr>\n",
       "  </thead>\n",
       "  <tbody>\n",
       "    <tr>\n",
       "      <th>0</th>\n",
       "      <td>UMLS:C0520442</td>\n",
       "      <td>acetyldigitoxin</td>\n",
       "      <td>UMLS:C0004238</td>\n",
       "      <td>Atrial fibrillation</td>\n",
       "      <td>TREATS_CDtDO</td>\n",
       "    </tr>\n",
       "    <tr>\n",
       "      <th>1</th>\n",
       "      <td>UMLS:C0033497</td>\n",
       "      <td>propranolol</td>\n",
       "      <td>UMLS:C0004238</td>\n",
       "      <td>Atrial fibrillation</td>\n",
       "      <td>TREATS_CDtDO</td>\n",
       "    </tr>\n",
       "    <tr>\n",
       "      <th>2</th>\n",
       "      <td>UMLS:C0012265</td>\n",
       "      <td>digoxin</td>\n",
       "      <td>UMLS:C0004238</td>\n",
       "      <td>Atrial fibrillation</td>\n",
       "      <td>TREATS_CDtDO</td>\n",
       "    </tr>\n",
       "    <tr>\n",
       "      <th>4</th>\n",
       "      <td>UMLS:C0766326</td>\n",
       "      <td>dronedarone</td>\n",
       "      <td>UMLS:C0004238</td>\n",
       "      <td>Atrial fibrillation</td>\n",
       "      <td>TREATS_CDtDO</td>\n",
       "    </tr>\n",
       "    <tr>\n",
       "      <th>5</th>\n",
       "      <td>UMLS:C0116569</td>\n",
       "      <td>esmolol</td>\n",
       "      <td>UMLS:C0004238</td>\n",
       "      <td>Atrial fibrillation</td>\n",
       "      <td>TREATS_CDtDO</td>\n",
       "    </tr>\n",
       "  </tbody>\n",
       "</table>\n",
       "</div>"
      ],
      "text/plain": [
       "     chemical_id    chemical_name     disease_id         disease_name  \\\n",
       "0  UMLS:C0520442  acetyldigitoxin  UMLS:C0004238  Atrial fibrillation   \n",
       "1  UMLS:C0033497      propranolol  UMLS:C0004238  Atrial fibrillation   \n",
       "2  UMLS:C0012265          digoxin  UMLS:C0004238  Atrial fibrillation   \n",
       "4  UMLS:C0766326      dronedarone  UMLS:C0004238  Atrial fibrillation   \n",
       "5  UMLS:C0116569          esmolol  UMLS:C0004238  Atrial fibrillation   \n",
       "\n",
       "          etype  \n",
       "0  TREATS_CDtDO  \n",
       "1  TREATS_CDtDO  \n",
       "2  TREATS_CDtDO  \n",
       "4  TREATS_CDtDO  \n",
       "5  TREATS_CDtDO  "
      ]
     },
     "execution_count": 11,
     "metadata": {},
     "output_type": "execute_result"
    }
   ],
   "source": [
    "hgold.head()"
   ]
  },
  {
   "cell_type": "markdown",
   "metadata": {},
   "source": [
    "---"
   ]
  },
  {
   "cell_type": "markdown",
   "metadata": {},
   "source": [
    "## Convert to hetio ids"
   ]
  },
  {
   "cell_type": "code",
   "execution_count": 12,
   "metadata": {},
   "outputs": [],
   "source": [
    "fgold = (hgold\n",
    "    .merge(\n",
    "        hmap.drop(\"name\", axis=1), how=\"inner\",\n",
    "        left_on=\"chemical_id\", right_on=\"cui\"\n",
    "    )\n",
    "    .drop(\"cui\", axis=1)\n",
    "    .rename(columns={\n",
    "        \"hetio_id\": \"chemical_hetid\",\n",
    "        \"het_type\": \"chemical_htype\"\n",
    "    })\n",
    "        \n",
    "    .merge(\n",
    "        hmap.drop(\"name\", axis=1), how=\"inner\",\n",
    "        left_on=\"disease_id\", right_on=\"cui\"\n",
    "    )\n",
    "    .drop(\"cui\", axis=1)\n",
    "    .rename(columns={\n",
    "        \"hetio_id\": \"disease_hetid\",\n",
    "        \"het_type\": \"disease_htype\"\n",
    "    })\n",
    ")"
   ]
  },
  {
   "cell_type": "code",
   "execution_count": 13,
   "metadata": {},
   "outputs": [
    {
     "data": {
      "text/plain": [
       "(3716, 9)"
      ]
     },
     "execution_count": 13,
     "metadata": {},
     "output_type": "execute_result"
    }
   ],
   "source": [
    "fgold.shape"
   ]
  },
  {
   "cell_type": "code",
   "execution_count": 14,
   "metadata": {},
   "outputs": [
    {
     "data": {
      "text/html": [
       "<div>\n",
       "<style scoped>\n",
       "    .dataframe tbody tr th:only-of-type {\n",
       "        vertical-align: middle;\n",
       "    }\n",
       "\n",
       "    .dataframe tbody tr th {\n",
       "        vertical-align: top;\n",
       "    }\n",
       "\n",
       "    .dataframe thead th {\n",
       "        text-align: right;\n",
       "    }\n",
       "</style>\n",
       "<table border=\"1\" class=\"dataframe\">\n",
       "  <thead>\n",
       "    <tr style=\"text-align: right;\">\n",
       "      <th></th>\n",
       "      <th>chemical_id</th>\n",
       "      <th>chemical_name</th>\n",
       "      <th>disease_id</th>\n",
       "      <th>disease_name</th>\n",
       "      <th>etype</th>\n",
       "      <th>chemical_hetid</th>\n",
       "      <th>chemical_htype</th>\n",
       "      <th>disease_hetid</th>\n",
       "      <th>disease_htype</th>\n",
       "    </tr>\n",
       "  </thead>\n",
       "  <tbody>\n",
       "    <tr>\n",
       "      <th>0</th>\n",
       "      <td>UMLS:C0520442</td>\n",
       "      <td>acetyldigitoxin</td>\n",
       "      <td>UMLS:C0004238</td>\n",
       "      <td>Atrial fibrillation</td>\n",
       "      <td>TREATS_CDtDO</td>\n",
       "      <td>DB00511</td>\n",
       "      <td>Compound</td>\n",
       "      <td>C0004238</td>\n",
       "      <td>Side Effect</td>\n",
       "    </tr>\n",
       "    <tr>\n",
       "      <th>1</th>\n",
       "      <td>UMLS:C0033497</td>\n",
       "      <td>propranolol</td>\n",
       "      <td>UMLS:C0004238</td>\n",
       "      <td>Atrial fibrillation</td>\n",
       "      <td>TREATS_CDtDO</td>\n",
       "      <td>DB00571</td>\n",
       "      <td>Compound</td>\n",
       "      <td>C0004238</td>\n",
       "      <td>Side Effect</td>\n",
       "    </tr>\n",
       "    <tr>\n",
       "      <th>2</th>\n",
       "      <td>UMLS:C0012265</td>\n",
       "      <td>digoxin</td>\n",
       "      <td>UMLS:C0004238</td>\n",
       "      <td>Atrial fibrillation</td>\n",
       "      <td>TREATS_CDtDO</td>\n",
       "      <td>DB00390</td>\n",
       "      <td>Compound</td>\n",
       "      <td>C0004238</td>\n",
       "      <td>Side Effect</td>\n",
       "    </tr>\n",
       "    <tr>\n",
       "      <th>3</th>\n",
       "      <td>UMLS:C0766326</td>\n",
       "      <td>dronedarone</td>\n",
       "      <td>UMLS:C0004238</td>\n",
       "      <td>Atrial fibrillation</td>\n",
       "      <td>TREATS_CDtDO</td>\n",
       "      <td>DB04855</td>\n",
       "      <td>Compound</td>\n",
       "      <td>C0004238</td>\n",
       "      <td>Side Effect</td>\n",
       "    </tr>\n",
       "    <tr>\n",
       "      <th>4</th>\n",
       "      <td>UMLS:C0116569</td>\n",
       "      <td>esmolol</td>\n",
       "      <td>UMLS:C0004238</td>\n",
       "      <td>Atrial fibrillation</td>\n",
       "      <td>TREATS_CDtDO</td>\n",
       "      <td>DB00187</td>\n",
       "      <td>Compound</td>\n",
       "      <td>C0004238</td>\n",
       "      <td>Side Effect</td>\n",
       "    </tr>\n",
       "  </tbody>\n",
       "</table>\n",
       "</div>"
      ],
      "text/plain": [
       "     chemical_id    chemical_name     disease_id         disease_name  \\\n",
       "0  UMLS:C0520442  acetyldigitoxin  UMLS:C0004238  Atrial fibrillation   \n",
       "1  UMLS:C0033497      propranolol  UMLS:C0004238  Atrial fibrillation   \n",
       "2  UMLS:C0012265          digoxin  UMLS:C0004238  Atrial fibrillation   \n",
       "3  UMLS:C0766326      dronedarone  UMLS:C0004238  Atrial fibrillation   \n",
       "4  UMLS:C0116569          esmolol  UMLS:C0004238  Atrial fibrillation   \n",
       "\n",
       "          etype chemical_hetid chemical_htype disease_hetid disease_htype  \n",
       "0  TREATS_CDtDO        DB00511       Compound      C0004238   Side Effect  \n",
       "1  TREATS_CDtDO        DB00571       Compound      C0004238   Side Effect  \n",
       "2  TREATS_CDtDO        DB00390       Compound      C0004238   Side Effect  \n",
       "3  TREATS_CDtDO        DB04855       Compound      C0004238   Side Effect  \n",
       "4  TREATS_CDtDO        DB00187       Compound      C0004238   Side Effect  "
      ]
     },
     "execution_count": 14,
     "metadata": {},
     "output_type": "execute_result"
    }
   ],
   "source": [
    "fgold.head()"
   ]
  },
  {
   "cell_type": "code",
   "execution_count": 15,
   "metadata": {},
   "outputs": [
    {
     "data": {
      "text/plain": [
       "2924"
      ]
     },
     "execution_count": 15,
     "metadata": {},
     "output_type": "execute_result"
    }
   ],
   "source": [
    "len(set(zip(fgold[\"chemical_id\"], fgold[\"disease_id\"])))"
   ]
  },
  {
   "cell_type": "markdown",
   "metadata": {},
   "source": [
    "we have some expansion of the gold standard by converting it into hetio space. originally we only had 2924 unique gold standard chem/dise pairs, but due to the id mapping we now have 3716 hetio chem/dise pairs, which is a 27% expansion (which inflates our gold standard)"
   ]
  },
  {
   "cell_type": "code",
   "execution_count": 17,
   "metadata": {},
   "outputs": [],
   "source": [
    "a = fgold.groupby([\"chemical_id\", \"disease_id\"]).filter(lambda v: len(v) > 1)"
   ]
  },
  {
   "cell_type": "code",
   "execution_count": 19,
   "metadata": {},
   "outputs": [
    {
     "data": {
      "text/html": [
       "<div>\n",
       "<style scoped>\n",
       "    .dataframe tbody tr th:only-of-type {\n",
       "        vertical-align: middle;\n",
       "    }\n",
       "\n",
       "    .dataframe tbody tr th {\n",
       "        vertical-align: top;\n",
       "    }\n",
       "\n",
       "    .dataframe thead th {\n",
       "        text-align: right;\n",
       "    }\n",
       "</style>\n",
       "<table border=\"1\" class=\"dataframe\">\n",
       "  <thead>\n",
       "    <tr style=\"text-align: right;\">\n",
       "      <th></th>\n",
       "      <th>chemical_id</th>\n",
       "      <th>chemical_name</th>\n",
       "      <th>disease_id</th>\n",
       "      <th>disease_name</th>\n",
       "      <th>etype</th>\n",
       "      <th>chemical_hetid</th>\n",
       "      <th>chemical_htype</th>\n",
       "      <th>disease_hetid</th>\n",
       "      <th>disease_htype</th>\n",
       "    </tr>\n",
       "  </thead>\n",
       "  <tbody>\n",
       "    <tr>\n",
       "      <th>466</th>\n",
       "      <td>UMLS:C0000477</td>\n",
       "      <td>fampridine</td>\n",
       "      <td>UMLS:C0026769</td>\n",
       "      <td>multiple sclerosis</td>\n",
       "      <td>TREATS_CDtDO</td>\n",
       "      <td>DB06637</td>\n",
       "      <td>Compound</td>\n",
       "      <td>DOID:2377</td>\n",
       "      <td>Disease</td>\n",
       "    </tr>\n",
       "    <tr>\n",
       "      <th>467</th>\n",
       "      <td>UMLS:C0000477</td>\n",
       "      <td>fampridine</td>\n",
       "      <td>UMLS:C0026769</td>\n",
       "      <td>multiple sclerosis</td>\n",
       "      <td>TREATS_CDtDO</td>\n",
       "      <td>DB06637</td>\n",
       "      <td>Compound</td>\n",
       "      <td>C0026769</td>\n",
       "      <td>Side Effect</td>\n",
       "    </tr>\n",
       "    <tr>\n",
       "      <th>3613</th>\n",
       "      <td>UMLS:C0000545</td>\n",
       "      <td>eicosapentaenoic acid</td>\n",
       "      <td>UMLS:C0032961</td>\n",
       "      <td>Pregnancy, function</td>\n",
       "      <td>TREATS_CDtDO</td>\n",
       "      <td>DB00159</td>\n",
       "      <td>Compound</td>\n",
       "      <td>GO:0007565</td>\n",
       "      <td>Biological Process</td>\n",
       "    </tr>\n",
       "    <tr>\n",
       "      <th>3614</th>\n",
       "      <td>UMLS:C0000545</td>\n",
       "      <td>eicosapentaenoic acid</td>\n",
       "      <td>UMLS:C0032961</td>\n",
       "      <td>Pregnancy, function</td>\n",
       "      <td>TREATS_CDtDO</td>\n",
       "      <td>DB00159</td>\n",
       "      <td>Compound</td>\n",
       "      <td>C0032961</td>\n",
       "      <td>Side Effect</td>\n",
       "    </tr>\n",
       "    <tr>\n",
       "      <th>1646</th>\n",
       "      <td>UMLS:C0000970</td>\n",
       "      <td>paracetamol</td>\n",
       "      <td>UMLS:C0003862</td>\n",
       "      <td>Joint pain</td>\n",
       "      <td>TREATS_CDtDO</td>\n",
       "      <td>DB00316</td>\n",
       "      <td>Compound</td>\n",
       "      <td>D018771</td>\n",
       "      <td>Symptom</td>\n",
       "    </tr>\n",
       "    <tr>\n",
       "      <th>1647</th>\n",
       "      <td>UMLS:C0000970</td>\n",
       "      <td>paracetamol</td>\n",
       "      <td>UMLS:C0003862</td>\n",
       "      <td>Joint pain</td>\n",
       "      <td>TREATS_CDtDO</td>\n",
       "      <td>DB00316</td>\n",
       "      <td>Compound</td>\n",
       "      <td>C0003862</td>\n",
       "      <td>Side Effect</td>\n",
       "    </tr>\n",
       "    <tr>\n",
       "      <th>1743</th>\n",
       "      <td>UMLS:C0000970</td>\n",
       "      <td>paracetamol</td>\n",
       "      <td>UMLS:C0004604</td>\n",
       "      <td>Backache</td>\n",
       "      <td>TREATS_CDtDO</td>\n",
       "      <td>DB00316</td>\n",
       "      <td>Compound</td>\n",
       "      <td>C0004604</td>\n",
       "      <td>Side Effect</td>\n",
       "    </tr>\n",
       "    <tr>\n",
       "      <th>1744</th>\n",
       "      <td>UMLS:C0000970</td>\n",
       "      <td>paracetamol</td>\n",
       "      <td>UMLS:C0004604</td>\n",
       "      <td>Backache</td>\n",
       "      <td>TREATS_CDtDO</td>\n",
       "      <td>DB00316</td>\n",
       "      <td>Compound</td>\n",
       "      <td>D001416</td>\n",
       "      <td>Symptom</td>\n",
       "    </tr>\n",
       "    <tr>\n",
       "      <th>1703</th>\n",
       "      <td>UMLS:C0000970</td>\n",
       "      <td>paracetamol</td>\n",
       "      <td>UMLS:C0015967</td>\n",
       "      <td>Fever</td>\n",
       "      <td>TREATS_CDtDO</td>\n",
       "      <td>DB00316</td>\n",
       "      <td>Compound</td>\n",
       "      <td>GO:0001660</td>\n",
       "      <td>Biological Process</td>\n",
       "    </tr>\n",
       "    <tr>\n",
       "      <th>1704</th>\n",
       "      <td>UMLS:C0000970</td>\n",
       "      <td>paracetamol</td>\n",
       "      <td>UMLS:C0015967</td>\n",
       "      <td>Fever</td>\n",
       "      <td>TREATS_CDtDO</td>\n",
       "      <td>DB00316</td>\n",
       "      <td>Compound</td>\n",
       "      <td>D005334</td>\n",
       "      <td>Symptom</td>\n",
       "    </tr>\n",
       "    <tr>\n",
       "      <th>1705</th>\n",
       "      <td>UMLS:C0000970</td>\n",
       "      <td>paracetamol</td>\n",
       "      <td>UMLS:C0015967</td>\n",
       "      <td>Fever</td>\n",
       "      <td>TREATS_CDtDO</td>\n",
       "      <td>DB00316</td>\n",
       "      <td>Compound</td>\n",
       "      <td>C0015967</td>\n",
       "      <td>Side Effect</td>\n",
       "    </tr>\n",
       "    <tr>\n",
       "      <th>1554</th>\n",
       "      <td>UMLS:C0000970</td>\n",
       "      <td>paracetamol</td>\n",
       "      <td>UMLS:C0030193</td>\n",
       "      <td>Pain</td>\n",
       "      <td>TREATS_CDtDO</td>\n",
       "      <td>DB00316</td>\n",
       "      <td>Compound</td>\n",
       "      <td>C0030193</td>\n",
       "      <td>Side Effect</td>\n",
       "    </tr>\n",
       "    <tr>\n",
       "      <th>1555</th>\n",
       "      <td>UMLS:C0000970</td>\n",
       "      <td>paracetamol</td>\n",
       "      <td>UMLS:C0030193</td>\n",
       "      <td>Pain</td>\n",
       "      <td>TREATS_CDtDO</td>\n",
       "      <td>DB00316</td>\n",
       "      <td>Compound</td>\n",
       "      <td>D010146</td>\n",
       "      <td>Symptom</td>\n",
       "    </tr>\n",
       "    <tr>\n",
       "      <th>1737</th>\n",
       "      <td>UMLS:C0000970</td>\n",
       "      <td>paracetamol</td>\n",
       "      <td>UMLS:C0040460</td>\n",
       "      <td>Toothache</td>\n",
       "      <td>TREATS_CDtDO</td>\n",
       "      <td>DB00316</td>\n",
       "      <td>Compound</td>\n",
       "      <td>C0040460</td>\n",
       "      <td>Side Effect</td>\n",
       "    </tr>\n",
       "    <tr>\n",
       "      <th>1738</th>\n",
       "      <td>UMLS:C0000970</td>\n",
       "      <td>paracetamol</td>\n",
       "      <td>UMLS:C0040460</td>\n",
       "      <td>Toothache</td>\n",
       "      <td>TREATS_CDtDO</td>\n",
       "      <td>DB00316</td>\n",
       "      <td>Compound</td>\n",
       "      <td>D014098</td>\n",
       "      <td>Symptom</td>\n",
       "    </tr>\n",
       "    <tr>\n",
       "      <th>1620</th>\n",
       "      <td>UMLS:C0000970</td>\n",
       "      <td>paracetamol</td>\n",
       "      <td>UMLS:C0149931</td>\n",
       "      <td>migraine</td>\n",
       "      <td>TREATS_CDtDO</td>\n",
       "      <td>DB00316</td>\n",
       "      <td>Compound</td>\n",
       "      <td>C0149931</td>\n",
       "      <td>Side Effect</td>\n",
       "    </tr>\n",
       "    <tr>\n",
       "      <th>1621</th>\n",
       "      <td>UMLS:C0000970</td>\n",
       "      <td>paracetamol</td>\n",
       "      <td>UMLS:C0149931</td>\n",
       "      <td>migraine</td>\n",
       "      <td>TREATS_CDtDO</td>\n",
       "      <td>DB00316</td>\n",
       "      <td>Compound</td>\n",
       "      <td>DOID:6364</td>\n",
       "      <td>Disease</td>\n",
       "    </tr>\n",
       "    <tr>\n",
       "      <th>1921</th>\n",
       "      <td>UMLS:C0000981</td>\n",
       "      <td>acetazolamide</td>\n",
       "      <td>UMLS:C0013604</td>\n",
       "      <td>Edema</td>\n",
       "      <td>TREATS_CDtDO</td>\n",
       "      <td>DB00819</td>\n",
       "      <td>Compound</td>\n",
       "      <td>C0013604</td>\n",
       "      <td>Side Effect</td>\n",
       "    </tr>\n",
       "    <tr>\n",
       "      <th>1922</th>\n",
       "      <td>UMLS:C0000981</td>\n",
       "      <td>acetazolamide</td>\n",
       "      <td>UMLS:C0013604</td>\n",
       "      <td>Edema</td>\n",
       "      <td>TREATS_CDtDO</td>\n",
       "      <td>DB00819</td>\n",
       "      <td>Compound</td>\n",
       "      <td>D004487</td>\n",
       "      <td>Symptom</td>\n",
       "    </tr>\n",
       "    <tr>\n",
       "      <th>1949</th>\n",
       "      <td>UMLS:C0000981</td>\n",
       "      <td>acetazolamide</td>\n",
       "      <td>UMLS:C0014544</td>\n",
       "      <td>epilepsy</td>\n",
       "      <td>TREATS_CDtDO</td>\n",
       "      <td>DB00819</td>\n",
       "      <td>Compound</td>\n",
       "      <td>C0014544</td>\n",
       "      <td>Side Effect</td>\n",
       "    </tr>\n",
       "  </tbody>\n",
       "</table>\n",
       "</div>"
      ],
      "text/plain": [
       "        chemical_id          chemical_name     disease_id  \\\n",
       "466   UMLS:C0000477             fampridine  UMLS:C0026769   \n",
       "467   UMLS:C0000477             fampridine  UMLS:C0026769   \n",
       "3613  UMLS:C0000545  eicosapentaenoic acid  UMLS:C0032961   \n",
       "3614  UMLS:C0000545  eicosapentaenoic acid  UMLS:C0032961   \n",
       "1646  UMLS:C0000970            paracetamol  UMLS:C0003862   \n",
       "1647  UMLS:C0000970            paracetamol  UMLS:C0003862   \n",
       "1743  UMLS:C0000970            paracetamol  UMLS:C0004604   \n",
       "1744  UMLS:C0000970            paracetamol  UMLS:C0004604   \n",
       "1703  UMLS:C0000970            paracetamol  UMLS:C0015967   \n",
       "1704  UMLS:C0000970            paracetamol  UMLS:C0015967   \n",
       "1705  UMLS:C0000970            paracetamol  UMLS:C0015967   \n",
       "1554  UMLS:C0000970            paracetamol  UMLS:C0030193   \n",
       "1555  UMLS:C0000970            paracetamol  UMLS:C0030193   \n",
       "1737  UMLS:C0000970            paracetamol  UMLS:C0040460   \n",
       "1738  UMLS:C0000970            paracetamol  UMLS:C0040460   \n",
       "1620  UMLS:C0000970            paracetamol  UMLS:C0149931   \n",
       "1621  UMLS:C0000970            paracetamol  UMLS:C0149931   \n",
       "1921  UMLS:C0000981          acetazolamide  UMLS:C0013604   \n",
       "1922  UMLS:C0000981          acetazolamide  UMLS:C0013604   \n",
       "1949  UMLS:C0000981          acetazolamide  UMLS:C0014544   \n",
       "\n",
       "             disease_name         etype chemical_hetid chemical_htype  \\\n",
       "466    multiple sclerosis  TREATS_CDtDO        DB06637       Compound   \n",
       "467    multiple sclerosis  TREATS_CDtDO        DB06637       Compound   \n",
       "3613  Pregnancy, function  TREATS_CDtDO        DB00159       Compound   \n",
       "3614  Pregnancy, function  TREATS_CDtDO        DB00159       Compound   \n",
       "1646           Joint pain  TREATS_CDtDO        DB00316       Compound   \n",
       "1647           Joint pain  TREATS_CDtDO        DB00316       Compound   \n",
       "1743             Backache  TREATS_CDtDO        DB00316       Compound   \n",
       "1744             Backache  TREATS_CDtDO        DB00316       Compound   \n",
       "1703                Fever  TREATS_CDtDO        DB00316       Compound   \n",
       "1704                Fever  TREATS_CDtDO        DB00316       Compound   \n",
       "1705                Fever  TREATS_CDtDO        DB00316       Compound   \n",
       "1554                 Pain  TREATS_CDtDO        DB00316       Compound   \n",
       "1555                 Pain  TREATS_CDtDO        DB00316       Compound   \n",
       "1737            Toothache  TREATS_CDtDO        DB00316       Compound   \n",
       "1738            Toothache  TREATS_CDtDO        DB00316       Compound   \n",
       "1620             migraine  TREATS_CDtDO        DB00316       Compound   \n",
       "1621             migraine  TREATS_CDtDO        DB00316       Compound   \n",
       "1921                Edema  TREATS_CDtDO        DB00819       Compound   \n",
       "1922                Edema  TREATS_CDtDO        DB00819       Compound   \n",
       "1949             epilepsy  TREATS_CDtDO        DB00819       Compound   \n",
       "\n",
       "     disease_hetid       disease_htype  \n",
       "466      DOID:2377             Disease  \n",
       "467       C0026769         Side Effect  \n",
       "3613    GO:0007565  Biological Process  \n",
       "3614      C0032961         Side Effect  \n",
       "1646       D018771             Symptom  \n",
       "1647      C0003862         Side Effect  \n",
       "1743      C0004604         Side Effect  \n",
       "1744       D001416             Symptom  \n",
       "1703    GO:0001660  Biological Process  \n",
       "1704       D005334             Symptom  \n",
       "1705      C0015967         Side Effect  \n",
       "1554      C0030193         Side Effect  \n",
       "1555       D010146             Symptom  \n",
       "1737      C0040460         Side Effect  \n",
       "1738       D014098             Symptom  \n",
       "1620      C0149931         Side Effect  \n",
       "1621     DOID:6364             Disease  \n",
       "1921      C0013604         Side Effect  \n",
       "1922       D004487             Symptom  \n",
       "1949      C0014544         Side Effect  "
      ]
     },
     "execution_count": 19,
     "metadata": {},
     "output_type": "execute_result"
    }
   ],
   "source": [
    "a.sort_values([\"chemical_id\", \"disease_id\"]).head(20)"
   ]
  },
  {
   "cell_type": "code",
   "execution_count": null,
   "metadata": {},
   "outputs": [],
   "source": []
  },
  {
   "cell_type": "code",
   "execution_count": null,
   "metadata": {},
   "outputs": [],
   "source": []
  },
  {
   "cell_type": "code",
   "execution_count": null,
   "metadata": {},
   "outputs": [],
   "source": []
  },
  {
   "cell_type": "code",
   "execution_count": null,
   "metadata": {},
   "outputs": [],
   "source": []
  },
  {
   "cell_type": "code",
   "execution_count": null,
   "metadata": {},
   "outputs": [],
   "source": []
  },
  {
   "cell_type": "markdown",
   "metadata": {},
   "source": [
    "---"
   ]
  },
  {
   "cell_type": "markdown",
   "metadata": {},
   "source": [
    "### How many duplicates per unique drugcentral indication?"
   ]
  },
  {
   "cell_type": "code",
   "execution_count": 16,
   "metadata": {},
   "outputs": [
    {
     "data": {
      "text/plain": [
       "1    2178\n",
       "2     708\n",
       "3      30\n",
       "4       8\n",
       "dtype: int64"
      ]
     },
     "execution_count": 16,
     "metadata": {},
     "output_type": "execute_result"
    }
   ],
   "source": [
    "fgold.groupby([\"chemical_id\", \"disease_id\"]).size().value_counts()"
   ]
  },
  {
   "cell_type": "markdown",
   "metadata": {},
   "source": [
    "---"
   ]
  },
  {
   "cell_type": "markdown",
   "metadata": {},
   "source": [
    "## How to rank the duplicates?"
   ]
  },
  {
   "cell_type": "code",
   "execution_count": 17,
   "metadata": {
    "scrolled": true
   },
   "outputs": [
    {
     "data": {
      "text/plain": [
       "Compound               3677\n",
       "Pharmacologic Class      39\n",
       "Name: chemical_htype, dtype: int64"
      ]
     },
     "execution_count": 17,
     "metadata": {},
     "output_type": "execute_result"
    }
   ],
   "source": [
    "fgold[\"chemical_htype\"].value_counts()"
   ]
  },
  {
   "cell_type": "code",
   "execution_count": 18,
   "metadata": {},
   "outputs": [
    {
     "data": {
      "text/plain": [
       "Side Effect           2819\n",
       "Disease                522\n",
       "Symptom                355\n",
       "Biological Process      20\n",
       "Name: disease_htype, dtype: int64"
      ]
     },
     "execution_count": 18,
     "metadata": {},
     "output_type": "execute_result"
    }
   ],
   "source": [
    "fgold[\"disease_htype\"].value_counts()"
   ]
  },
  {
   "cell_type": "markdown",
   "metadata": {},
   "source": [
    "### we will use the frequency order of semantic types to determine which of the duplicates to keep"
   ]
  },
  {
   "cell_type": "code",
   "execution_count": 19,
   "metadata": {},
   "outputs": [],
   "source": [
    "a = list(map(\n",
    "    lambda v: (10*v[0], v[1]), enumerate(\n",
    "        fgold[\"chemical_htype\"].value_counts().sort_values().index\n",
    "    )\n",
    "))\n",
    "\n",
    "b = list(enumerate(\n",
    "    fgold[\"disease_htype\"].value_counts().sort_values().index\n",
    "))\n",
    "\n",
    "# higher score is better\n",
    "scores = pd.DataFrame(\n",
    "    a + b, columns=[\"score\", \"htype\"]\n",
    ")"
   ]
  },
  {
   "cell_type": "code",
   "execution_count": 20,
   "metadata": {},
   "outputs": [
    {
     "data": {
      "text/html": [
       "<div>\n",
       "<style scoped>\n",
       "    .dataframe tbody tr th:only-of-type {\n",
       "        vertical-align: middle;\n",
       "    }\n",
       "\n",
       "    .dataframe tbody tr th {\n",
       "        vertical-align: top;\n",
       "    }\n",
       "\n",
       "    .dataframe thead th {\n",
       "        text-align: right;\n",
       "    }\n",
       "</style>\n",
       "<table border=\"1\" class=\"dataframe\">\n",
       "  <thead>\n",
       "    <tr style=\"text-align: right;\">\n",
       "      <th></th>\n",
       "      <th>score</th>\n",
       "      <th>htype</th>\n",
       "    </tr>\n",
       "  </thead>\n",
       "  <tbody>\n",
       "    <tr>\n",
       "      <th>0</th>\n",
       "      <td>0</td>\n",
       "      <td>Pharmacologic Class</td>\n",
       "    </tr>\n",
       "    <tr>\n",
       "      <th>1</th>\n",
       "      <td>10</td>\n",
       "      <td>Compound</td>\n",
       "    </tr>\n",
       "    <tr>\n",
       "      <th>2</th>\n",
       "      <td>0</td>\n",
       "      <td>Biological Process</td>\n",
       "    </tr>\n",
       "    <tr>\n",
       "      <th>3</th>\n",
       "      <td>1</td>\n",
       "      <td>Symptom</td>\n",
       "    </tr>\n",
       "    <tr>\n",
       "      <th>4</th>\n",
       "      <td>2</td>\n",
       "      <td>Disease</td>\n",
       "    </tr>\n",
       "    <tr>\n",
       "      <th>5</th>\n",
       "      <td>3</td>\n",
       "      <td>Side Effect</td>\n",
       "    </tr>\n",
       "  </tbody>\n",
       "</table>\n",
       "</div>"
      ],
      "text/plain": [
       "   score                htype\n",
       "0      0  Pharmacologic Class\n",
       "1     10             Compound\n",
       "2      0   Biological Process\n",
       "3      1              Symptom\n",
       "4      2              Disease\n",
       "5      3          Side Effect"
      ]
     },
     "execution_count": 20,
     "metadata": {},
     "output_type": "execute_result"
    }
   ],
   "source": [
    "scores"
   ]
  },
  {
   "cell_type": "markdown",
   "metadata": {},
   "source": [
    "### add in scores to the indications"
   ]
  },
  {
   "cell_type": "code",
   "execution_count": 21,
   "metadata": {},
   "outputs": [],
   "source": [
    "temp = (fgold\n",
    "    .merge(scores, how=\"left\", left_on=\"chemical_htype\", right_on=\"htype\")\n",
    "    .drop(\"htype\", axis=1)\n",
    "    .rename(columns={\"score\": \"chem_score\"})\n",
    "\n",
    "    .merge(scores, how=\"left\", left_on=\"disease_htype\", right_on=\"htype\")\n",
    "    .drop(\"htype\", axis=1)\n",
    "    .rename(columns={\"score\": \"dise_score\"})\n",
    "        \n",
    "    .assign(fscore = lambda df: df[\"chem_score\"] + df[\"dise_score\"])\n",
    ")"
   ]
  },
  {
   "cell_type": "code",
   "execution_count": 22,
   "metadata": {},
   "outputs": [
    {
     "data": {
      "text/html": [
       "<div>\n",
       "<style scoped>\n",
       "    .dataframe tbody tr th:only-of-type {\n",
       "        vertical-align: middle;\n",
       "    }\n",
       "\n",
       "    .dataframe tbody tr th {\n",
       "        vertical-align: top;\n",
       "    }\n",
       "\n",
       "    .dataframe thead th {\n",
       "        text-align: right;\n",
       "    }\n",
       "</style>\n",
       "<table border=\"1\" class=\"dataframe\">\n",
       "  <thead>\n",
       "    <tr style=\"text-align: right;\">\n",
       "      <th></th>\n",
       "      <th>chemical_id</th>\n",
       "      <th>chemical_name</th>\n",
       "      <th>disease_id</th>\n",
       "      <th>disease_name</th>\n",
       "      <th>etype</th>\n",
       "      <th>chemical_hetid</th>\n",
       "      <th>chemical_htype</th>\n",
       "      <th>disease_hetid</th>\n",
       "      <th>disease_htype</th>\n",
       "      <th>chem_score</th>\n",
       "      <th>dise_score</th>\n",
       "      <th>fscore</th>\n",
       "    </tr>\n",
       "  </thead>\n",
       "  <tbody>\n",
       "    <tr>\n",
       "      <th>0</th>\n",
       "      <td>UMLS:C0520442</td>\n",
       "      <td>acetyldigitoxin</td>\n",
       "      <td>UMLS:C0004238</td>\n",
       "      <td>Atrial fibrillation</td>\n",
       "      <td>TREATS_CDtDO</td>\n",
       "      <td>DB00511</td>\n",
       "      <td>Compound</td>\n",
       "      <td>C0004238</td>\n",
       "      <td>Side Effect</td>\n",
       "      <td>10</td>\n",
       "      <td>3</td>\n",
       "      <td>13</td>\n",
       "    </tr>\n",
       "    <tr>\n",
       "      <th>1</th>\n",
       "      <td>UMLS:C0033497</td>\n",
       "      <td>propranolol</td>\n",
       "      <td>UMLS:C0004238</td>\n",
       "      <td>Atrial fibrillation</td>\n",
       "      <td>TREATS_CDtDO</td>\n",
       "      <td>DB00571</td>\n",
       "      <td>Compound</td>\n",
       "      <td>C0004238</td>\n",
       "      <td>Side Effect</td>\n",
       "      <td>10</td>\n",
       "      <td>3</td>\n",
       "      <td>13</td>\n",
       "    </tr>\n",
       "    <tr>\n",
       "      <th>2</th>\n",
       "      <td>UMLS:C0012265</td>\n",
       "      <td>digoxin</td>\n",
       "      <td>UMLS:C0004238</td>\n",
       "      <td>Atrial fibrillation</td>\n",
       "      <td>TREATS_CDtDO</td>\n",
       "      <td>DB00390</td>\n",
       "      <td>Compound</td>\n",
       "      <td>C0004238</td>\n",
       "      <td>Side Effect</td>\n",
       "      <td>10</td>\n",
       "      <td>3</td>\n",
       "      <td>13</td>\n",
       "    </tr>\n",
       "    <tr>\n",
       "      <th>3</th>\n",
       "      <td>UMLS:C0766326</td>\n",
       "      <td>dronedarone</td>\n",
       "      <td>UMLS:C0004238</td>\n",
       "      <td>Atrial fibrillation</td>\n",
       "      <td>TREATS_CDtDO</td>\n",
       "      <td>DB04855</td>\n",
       "      <td>Compound</td>\n",
       "      <td>C0004238</td>\n",
       "      <td>Side Effect</td>\n",
       "      <td>10</td>\n",
       "      <td>3</td>\n",
       "      <td>13</td>\n",
       "    </tr>\n",
       "    <tr>\n",
       "      <th>4</th>\n",
       "      <td>UMLS:C0116569</td>\n",
       "      <td>esmolol</td>\n",
       "      <td>UMLS:C0004238</td>\n",
       "      <td>Atrial fibrillation</td>\n",
       "      <td>TREATS_CDtDO</td>\n",
       "      <td>DB00187</td>\n",
       "      <td>Compound</td>\n",
       "      <td>C0004238</td>\n",
       "      <td>Side Effect</td>\n",
       "      <td>10</td>\n",
       "      <td>3</td>\n",
       "      <td>13</td>\n",
       "    </tr>\n",
       "  </tbody>\n",
       "</table>\n",
       "</div>"
      ],
      "text/plain": [
       "     chemical_id    chemical_name     disease_id         disease_name  \\\n",
       "0  UMLS:C0520442  acetyldigitoxin  UMLS:C0004238  Atrial fibrillation   \n",
       "1  UMLS:C0033497      propranolol  UMLS:C0004238  Atrial fibrillation   \n",
       "2  UMLS:C0012265          digoxin  UMLS:C0004238  Atrial fibrillation   \n",
       "3  UMLS:C0766326      dronedarone  UMLS:C0004238  Atrial fibrillation   \n",
       "4  UMLS:C0116569          esmolol  UMLS:C0004238  Atrial fibrillation   \n",
       "\n",
       "          etype chemical_hetid chemical_htype disease_hetid disease_htype  \\\n",
       "0  TREATS_CDtDO        DB00511       Compound      C0004238   Side Effect   \n",
       "1  TREATS_CDtDO        DB00571       Compound      C0004238   Side Effect   \n",
       "2  TREATS_CDtDO        DB00390       Compound      C0004238   Side Effect   \n",
       "3  TREATS_CDtDO        DB04855       Compound      C0004238   Side Effect   \n",
       "4  TREATS_CDtDO        DB00187       Compound      C0004238   Side Effect   \n",
       "\n",
       "   chem_score  dise_score  fscore  \n",
       "0          10           3      13  \n",
       "1          10           3      13  \n",
       "2          10           3      13  \n",
       "3          10           3      13  \n",
       "4          10           3      13  "
      ]
     },
     "execution_count": 22,
     "metadata": {},
     "output_type": "execute_result"
    }
   ],
   "source": [
    "temp.head()"
   ]
  },
  {
   "cell_type": "markdown",
   "metadata": {},
   "source": [
    "### Check that the scores for each set of duplicates is unique"
   ]
  },
  {
   "cell_type": "code",
   "execution_count": 23,
   "metadata": {},
   "outputs": [
    {
     "data": {
      "text/plain": [
       "True"
      ]
     },
     "execution_count": 23,
     "metadata": {},
     "output_type": "execute_result"
    }
   ],
   "source": [
    "(temp\n",
    "    .groupby([\"chemical_id\", \"disease_id\"])\n",
    "    .apply(lambda df: len(df) == df[\"fscore\"].nunique())\n",
    "    .all()\n",
    ")"
   ]
  },
  {
   "cell_type": "markdown",
   "metadata": {},
   "source": [
    "## Take the hetio id pair with the highest score"
   ]
  },
  {
   "cell_type": "code",
   "execution_count": 24,
   "metadata": {},
   "outputs": [],
   "source": [
    "res = (temp\n",
    "    .groupby([\"chemical_id\", \"disease_id\"])\n",
    "    .apply(lambda df: df.sort_values(\"fscore\").tail(1))\n",
    "    .reset_index(drop=True)\n",
    ")"
   ]
  },
  {
   "cell_type": "code",
   "execution_count": 25,
   "metadata": {},
   "outputs": [
    {
     "data": {
      "text/plain": [
       "(2924, 12)"
      ]
     },
     "execution_count": 25,
     "metadata": {},
     "output_type": "execute_result"
    }
   ],
   "source": [
    "res.shape"
   ]
  },
  {
   "cell_type": "code",
   "execution_count": 26,
   "metadata": {},
   "outputs": [
    {
     "data": {
      "text/html": [
       "<div>\n",
       "<style scoped>\n",
       "    .dataframe tbody tr th:only-of-type {\n",
       "        vertical-align: middle;\n",
       "    }\n",
       "\n",
       "    .dataframe tbody tr th {\n",
       "        vertical-align: top;\n",
       "    }\n",
       "\n",
       "    .dataframe thead th {\n",
       "        text-align: right;\n",
       "    }\n",
       "</style>\n",
       "<table border=\"1\" class=\"dataframe\">\n",
       "  <thead>\n",
       "    <tr style=\"text-align: right;\">\n",
       "      <th></th>\n",
       "      <th>chemical_id</th>\n",
       "      <th>chemical_name</th>\n",
       "      <th>disease_id</th>\n",
       "      <th>disease_name</th>\n",
       "      <th>etype</th>\n",
       "      <th>chemical_hetid</th>\n",
       "      <th>chemical_htype</th>\n",
       "      <th>disease_hetid</th>\n",
       "      <th>disease_htype</th>\n",
       "      <th>chem_score</th>\n",
       "      <th>dise_score</th>\n",
       "      <th>fscore</th>\n",
       "    </tr>\n",
       "  </thead>\n",
       "  <tbody>\n",
       "    <tr>\n",
       "      <th>0</th>\n",
       "      <td>UMLS:C0000477</td>\n",
       "      <td>fampridine</td>\n",
       "      <td>UMLS:C0026769</td>\n",
       "      <td>multiple sclerosis</td>\n",
       "      <td>TREATS_CDtDO</td>\n",
       "      <td>DB06637</td>\n",
       "      <td>Compound</td>\n",
       "      <td>C0026769</td>\n",
       "      <td>Side Effect</td>\n",
       "      <td>10</td>\n",
       "      <td>3</td>\n",
       "      <td>13</td>\n",
       "    </tr>\n",
       "    <tr>\n",
       "      <th>1</th>\n",
       "      <td>UMLS:C0000545</td>\n",
       "      <td>eicosapentaenoic acid</td>\n",
       "      <td>UMLS:C0032961</td>\n",
       "      <td>Pregnancy, function</td>\n",
       "      <td>TREATS_CDtDO</td>\n",
       "      <td>DB00159</td>\n",
       "      <td>Compound</td>\n",
       "      <td>C0032961</td>\n",
       "      <td>Side Effect</td>\n",
       "      <td>10</td>\n",
       "      <td>3</td>\n",
       "      <td>13</td>\n",
       "    </tr>\n",
       "    <tr>\n",
       "      <th>2</th>\n",
       "      <td>UMLS:C0000618</td>\n",
       "      <td>mercaptopurine</td>\n",
       "      <td>UMLS:C0023449</td>\n",
       "      <td>acute lymphocytic leukemia</td>\n",
       "      <td>TREATS_CDtDO</td>\n",
       "      <td>DB01033</td>\n",
       "      <td>Compound</td>\n",
       "      <td>C0023449</td>\n",
       "      <td>Side Effect</td>\n",
       "      <td>10</td>\n",
       "      <td>3</td>\n",
       "      <td>13</td>\n",
       "    </tr>\n",
       "    <tr>\n",
       "      <th>3</th>\n",
       "      <td>UMLS:C0000618</td>\n",
       "      <td>mercaptopurine</td>\n",
       "      <td>UMLS:C0023487</td>\n",
       "      <td>acute promyelocytic leukemia</td>\n",
       "      <td>TREATS_CDtDO</td>\n",
       "      <td>DB01033</td>\n",
       "      <td>Compound</td>\n",
       "      <td>C0023487</td>\n",
       "      <td>Side Effect</td>\n",
       "      <td>10</td>\n",
       "      <td>3</td>\n",
       "      <td>13</td>\n",
       "    </tr>\n",
       "    <tr>\n",
       "      <th>4</th>\n",
       "      <td>UMLS:C0000956</td>\n",
       "      <td>acenocoumarol</td>\n",
       "      <td>UMLS:C0034065</td>\n",
       "      <td>Pulmonary embolism</td>\n",
       "      <td>TREATS_CDtDO</td>\n",
       "      <td>DB01418</td>\n",
       "      <td>Compound</td>\n",
       "      <td>C0034065</td>\n",
       "      <td>Side Effect</td>\n",
       "      <td>10</td>\n",
       "      <td>3</td>\n",
       "      <td>13</td>\n",
       "    </tr>\n",
       "  </tbody>\n",
       "</table>\n",
       "</div>"
      ],
      "text/plain": [
       "     chemical_id          chemical_name     disease_id  \\\n",
       "0  UMLS:C0000477             fampridine  UMLS:C0026769   \n",
       "1  UMLS:C0000545  eicosapentaenoic acid  UMLS:C0032961   \n",
       "2  UMLS:C0000618         mercaptopurine  UMLS:C0023449   \n",
       "3  UMLS:C0000618         mercaptopurine  UMLS:C0023487   \n",
       "4  UMLS:C0000956          acenocoumarol  UMLS:C0034065   \n",
       "\n",
       "                   disease_name         etype chemical_hetid chemical_htype  \\\n",
       "0            multiple sclerosis  TREATS_CDtDO        DB06637       Compound   \n",
       "1           Pregnancy, function  TREATS_CDtDO        DB00159       Compound   \n",
       "2    acute lymphocytic leukemia  TREATS_CDtDO        DB01033       Compound   \n",
       "3  acute promyelocytic leukemia  TREATS_CDtDO        DB01033       Compound   \n",
       "4            Pulmonary embolism  TREATS_CDtDO        DB01418       Compound   \n",
       "\n",
       "  disease_hetid disease_htype  chem_score  dise_score  fscore  \n",
       "0      C0026769   Side Effect          10           3      13  \n",
       "1      C0032961   Side Effect          10           3      13  \n",
       "2      C0023449   Side Effect          10           3      13  \n",
       "3      C0023487   Side Effect          10           3      13  \n",
       "4      C0034065   Side Effect          10           3      13  "
      ]
     },
     "execution_count": 26,
     "metadata": {},
     "output_type": "execute_result"
    }
   ],
   "source": [
    "res.head()"
   ]
  },
  {
   "cell_type": "code",
   "execution_count": 27,
   "metadata": {},
   "outputs": [
    {
     "data": {
      "text/plain": [
       "1    2924\n",
       "dtype: int64"
      ]
     },
     "execution_count": 27,
     "metadata": {},
     "output_type": "execute_result"
    }
   ],
   "source": [
    "res.groupby([\"chemical_id\", \"disease_id\"]).size().value_counts()"
   ]
  },
  {
   "cell_type": "code",
   "execution_count": 28,
   "metadata": {},
   "outputs": [
    {
     "data": {
      "text/plain": [
       "13    2789\n",
       "12     117\n",
       "11      11\n",
       "3        7\n",
       "Name: fscore, dtype: int64"
      ]
     },
     "execution_count": 28,
     "metadata": {},
     "output_type": "execute_result"
    }
   ],
   "source": [
    "res[\"fscore\"].value_counts()"
   ]
  },
  {
   "cell_type": "markdown",
   "metadata": {},
   "source": [
    "---"
   ]
  },
  {
   "cell_type": "markdown",
   "metadata": {},
   "source": [
    "## Final gold standard for use with hetionet and deepwalk"
   ]
  },
  {
   "cell_type": "code",
   "execution_count": 29,
   "metadata": {},
   "outputs": [],
   "source": [
    "fres = res.drop([\"chem_score\", \"dise_score\", \"fscore\"], axis=1)"
   ]
  },
  {
   "cell_type": "code",
   "execution_count": 30,
   "metadata": {},
   "outputs": [
    {
     "data": {
      "text/plain": [
       "(2924, 9)"
      ]
     },
     "execution_count": 30,
     "metadata": {},
     "output_type": "execute_result"
    }
   ],
   "source": [
    "fres.shape"
   ]
  },
  {
   "cell_type": "code",
   "execution_count": 31,
   "metadata": {},
   "outputs": [
    {
     "data": {
      "text/html": [
       "<div>\n",
       "<style scoped>\n",
       "    .dataframe tbody tr th:only-of-type {\n",
       "        vertical-align: middle;\n",
       "    }\n",
       "\n",
       "    .dataframe tbody tr th {\n",
       "        vertical-align: top;\n",
       "    }\n",
       "\n",
       "    .dataframe thead th {\n",
       "        text-align: right;\n",
       "    }\n",
       "</style>\n",
       "<table border=\"1\" class=\"dataframe\">\n",
       "  <thead>\n",
       "    <tr style=\"text-align: right;\">\n",
       "      <th></th>\n",
       "      <th>chemical_id</th>\n",
       "      <th>chemical_name</th>\n",
       "      <th>disease_id</th>\n",
       "      <th>disease_name</th>\n",
       "      <th>etype</th>\n",
       "      <th>chemical_hetid</th>\n",
       "      <th>chemical_htype</th>\n",
       "      <th>disease_hetid</th>\n",
       "      <th>disease_htype</th>\n",
       "    </tr>\n",
       "  </thead>\n",
       "  <tbody>\n",
       "    <tr>\n",
       "      <th>0</th>\n",
       "      <td>UMLS:C0000477</td>\n",
       "      <td>fampridine</td>\n",
       "      <td>UMLS:C0026769</td>\n",
       "      <td>multiple sclerosis</td>\n",
       "      <td>TREATS_CDtDO</td>\n",
       "      <td>DB06637</td>\n",
       "      <td>Compound</td>\n",
       "      <td>C0026769</td>\n",
       "      <td>Side Effect</td>\n",
       "    </tr>\n",
       "    <tr>\n",
       "      <th>1</th>\n",
       "      <td>UMLS:C0000545</td>\n",
       "      <td>eicosapentaenoic acid</td>\n",
       "      <td>UMLS:C0032961</td>\n",
       "      <td>Pregnancy, function</td>\n",
       "      <td>TREATS_CDtDO</td>\n",
       "      <td>DB00159</td>\n",
       "      <td>Compound</td>\n",
       "      <td>C0032961</td>\n",
       "      <td>Side Effect</td>\n",
       "    </tr>\n",
       "    <tr>\n",
       "      <th>2</th>\n",
       "      <td>UMLS:C0000618</td>\n",
       "      <td>mercaptopurine</td>\n",
       "      <td>UMLS:C0023449</td>\n",
       "      <td>acute lymphocytic leukemia</td>\n",
       "      <td>TREATS_CDtDO</td>\n",
       "      <td>DB01033</td>\n",
       "      <td>Compound</td>\n",
       "      <td>C0023449</td>\n",
       "      <td>Side Effect</td>\n",
       "    </tr>\n",
       "    <tr>\n",
       "      <th>3</th>\n",
       "      <td>UMLS:C0000618</td>\n",
       "      <td>mercaptopurine</td>\n",
       "      <td>UMLS:C0023487</td>\n",
       "      <td>acute promyelocytic leukemia</td>\n",
       "      <td>TREATS_CDtDO</td>\n",
       "      <td>DB01033</td>\n",
       "      <td>Compound</td>\n",
       "      <td>C0023487</td>\n",
       "      <td>Side Effect</td>\n",
       "    </tr>\n",
       "    <tr>\n",
       "      <th>4</th>\n",
       "      <td>UMLS:C0000956</td>\n",
       "      <td>acenocoumarol</td>\n",
       "      <td>UMLS:C0034065</td>\n",
       "      <td>Pulmonary embolism</td>\n",
       "      <td>TREATS_CDtDO</td>\n",
       "      <td>DB01418</td>\n",
       "      <td>Compound</td>\n",
       "      <td>C0034065</td>\n",
       "      <td>Side Effect</td>\n",
       "    </tr>\n",
       "  </tbody>\n",
       "</table>\n",
       "</div>"
      ],
      "text/plain": [
       "     chemical_id          chemical_name     disease_id  \\\n",
       "0  UMLS:C0000477             fampridine  UMLS:C0026769   \n",
       "1  UMLS:C0000545  eicosapentaenoic acid  UMLS:C0032961   \n",
       "2  UMLS:C0000618         mercaptopurine  UMLS:C0023449   \n",
       "3  UMLS:C0000618         mercaptopurine  UMLS:C0023487   \n",
       "4  UMLS:C0000956          acenocoumarol  UMLS:C0034065   \n",
       "\n",
       "                   disease_name         etype chemical_hetid chemical_htype  \\\n",
       "0            multiple sclerosis  TREATS_CDtDO        DB06637       Compound   \n",
       "1           Pregnancy, function  TREATS_CDtDO        DB00159       Compound   \n",
       "2    acute lymphocytic leukemia  TREATS_CDtDO        DB01033       Compound   \n",
       "3  acute promyelocytic leukemia  TREATS_CDtDO        DB01033       Compound   \n",
       "4            Pulmonary embolism  TREATS_CDtDO        DB01418       Compound   \n",
       "\n",
       "  disease_hetid disease_htype  \n",
       "0      C0026769   Side Effect  \n",
       "1      C0032961   Side Effect  \n",
       "2      C0023449   Side Effect  \n",
       "3      C0023487   Side Effect  \n",
       "4      C0034065   Side Effect  "
      ]
     },
     "execution_count": 31,
     "metadata": {},
     "output_type": "execute_result"
    }
   ],
   "source": [
    "fres.head()"
   ]
  },
  {
   "cell_type": "markdown",
   "metadata": {},
   "source": [
    "## save gold to file"
   ]
  },
  {
   "cell_type": "code",
   "execution_count": 32,
   "metadata": {},
   "outputs": [],
   "source": [
    "fres.to_csv(\"filtered_semmed_gold_for_hetionet.tsv\", sep='\\t', index=False)"
   ]
  }
 ],
 "metadata": {
  "kernelspec": {
   "display_name": "Python 3",
   "language": "python",
   "name": "python3"
  },
  "language_info": {
   "codemirror_mode": {
    "name": "ipython",
    "version": 3
   },
   "file_extension": ".py",
   "mimetype": "text/x-python",
   "name": "python",
   "nbconvert_exporter": "python",
   "pygments_lexer": "ipython3",
   "version": "3.5.2"
  }
 },
 "nbformat": 4,
 "nbformat_minor": 2
}
