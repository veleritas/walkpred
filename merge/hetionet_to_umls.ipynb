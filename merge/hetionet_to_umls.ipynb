{
 "cells": [
  {
   "cell_type": "markdown",
   "metadata": {},
   "source": [
    "# Convert Hetionet to UMLS space\n",
    "\n",
    "## Workflow\n",
    "\n",
    "1. Run Daniel's `integrate.ipynb` to get `data/hetnet.json.bz2` file. All edges from PharmacotherapyDB were excluded.\n",
    "2. Run `prepare_neo4j_import_csvs.ipynb` to convert to CSV.\n",
    "3. Map all ids to UMLS CUIs whereever possible."
   ]
  },
  {
   "cell_type": "code",
   "execution_count": 1,
   "metadata": {},
   "outputs": [],
   "source": [
    "import pandas as pd\n",
    "import re\n",
    "\n",
    "from collections import defaultdict"
   ]
  },
  {
   "cell_type": "markdown",
   "metadata": {},
   "source": [
    "## Read Hetionet nodes"
   ]
  },
  {
   "cell_type": "code",
   "execution_count": 2,
   "metadata": {},
   "outputs": [],
   "source": [
    "nodes = (pd\n",
    "    .read_csv(\"data/hetionet/hetnet_nodes.csv\", sep=',')\n",
    "    .drop(\"identifier:string\", axis=1)\n",
    "    .rename(columns={\n",
    "        \":ID\": \"uid\",\n",
    "        \"name:string\": \"name\",\n",
    "        \":LABEL\": \"node_type\"\n",
    "    })\n",
    ")"
   ]
  },
  {
   "cell_type": "code",
   "execution_count": 3,
   "metadata": {},
   "outputs": [
    {
     "data": {
      "text/plain": [
       "(47031, 3)"
      ]
     },
     "execution_count": 3,
     "metadata": {},
     "output_type": "execute_result"
    }
   ],
   "source": [
    "nodes.shape"
   ]
  },
  {
   "cell_type": "code",
   "execution_count": 4,
   "metadata": {},
   "outputs": [
    {
     "data": {
      "text/html": [
       "<div>\n",
       "<style scoped>\n",
       "    .dataframe tbody tr th:only-of-type {\n",
       "        vertical-align: middle;\n",
       "    }\n",
       "\n",
       "    .dataframe tbody tr th {\n",
       "        vertical-align: top;\n",
       "    }\n",
       "\n",
       "    .dataframe thead th {\n",
       "        text-align: right;\n",
       "    }\n",
       "</style>\n",
       "<table border=\"1\" class=\"dataframe\">\n",
       "  <thead>\n",
       "    <tr style=\"text-align: right;\">\n",
       "      <th></th>\n",
       "      <th>uid</th>\n",
       "      <th>name</th>\n",
       "      <th>node_type</th>\n",
       "    </tr>\n",
       "  </thead>\n",
       "  <tbody>\n",
       "    <tr>\n",
       "      <th>0</th>\n",
       "      <td>DB00795</td>\n",
       "      <td>Sulfasalazine</td>\n",
       "      <td>Compound</td>\n",
       "    </tr>\n",
       "    <tr>\n",
       "      <th>1</th>\n",
       "      <td>N0000000151</td>\n",
       "      <td>Histamine H2 Receptor Antagonists</td>\n",
       "      <td>Pharmacologic Class</td>\n",
       "    </tr>\n",
       "    <tr>\n",
       "      <th>2</th>\n",
       "      <td>100996420</td>\n",
       "      <td>DNM1P50</td>\n",
       "      <td>Gene</td>\n",
       "    </tr>\n",
       "    <tr>\n",
       "      <th>3</th>\n",
       "      <td>DB04898</td>\n",
       "      <td>Ximelagatran</td>\n",
       "      <td>Compound</td>\n",
       "    </tr>\n",
       "    <tr>\n",
       "      <th>4</th>\n",
       "      <td>C0278151</td>\n",
       "      <td>Facial spasm</td>\n",
       "      <td>Side Effect</td>\n",
       "    </tr>\n",
       "  </tbody>\n",
       "</table>\n",
       "</div>"
      ],
      "text/plain": [
       "           uid                               name            node_type\n",
       "0      DB00795                      Sulfasalazine             Compound\n",
       "1  N0000000151  Histamine H2 Receptor Antagonists  Pharmacologic Class\n",
       "2    100996420                            DNM1P50                 Gene\n",
       "3      DB04898                       Ximelagatran             Compound\n",
       "4     C0278151                       Facial spasm          Side Effect"
      ]
     },
     "execution_count": 4,
     "metadata": {},
     "output_type": "execute_result"
    }
   ],
   "source": [
    "nodes.head()"
   ]
  },
  {
   "cell_type": "markdown",
   "metadata": {},
   "source": [
    "## Read Hetionet edges"
   ]
  },
  {
   "cell_type": "code",
   "execution_count": 5,
   "metadata": {},
   "outputs": [],
   "source": [
    "edges = (pd\n",
    "    .read_csv(\"data/hetionet/hetnet_edges.csv\", sep=',')\n",
    "    .rename(columns={\n",
    "        \":START_ID\": \"source_id\",\n",
    "        \":END_ID\": \"target_id\",\n",
    "        \":TYPE\": \"edge_type\"\n",
    "    })\n",
    ")"
   ]
  },
  {
   "cell_type": "code",
   "execution_count": 6,
   "metadata": {},
   "outputs": [
    {
     "data": {
      "text/html": [
       "<div>\n",
       "<style scoped>\n",
       "    .dataframe tbody tr th:only-of-type {\n",
       "        vertical-align: middle;\n",
       "    }\n",
       "\n",
       "    .dataframe tbody tr th {\n",
       "        vertical-align: top;\n",
       "    }\n",
       "\n",
       "    .dataframe thead th {\n",
       "        text-align: right;\n",
       "    }\n",
       "</style>\n",
       "<table border=\"1\" class=\"dataframe\">\n",
       "  <thead>\n",
       "    <tr style=\"text-align: right;\">\n",
       "      <th></th>\n",
       "      <th>source_id</th>\n",
       "      <th>target_id</th>\n",
       "      <th>edge_type</th>\n",
       "    </tr>\n",
       "  </thead>\n",
       "  <tbody>\n",
       "    <tr>\n",
       "      <th>0</th>\n",
       "      <td>8568</td>\n",
       "      <td>GO:0042254</td>\n",
       "      <td>PARTICIPATES_GpBP</td>\n",
       "    </tr>\n",
       "    <tr>\n",
       "      <th>1</th>\n",
       "      <td>UBERON:0002450</td>\n",
       "      <td>51316</td>\n",
       "      <td>EXPRESSES_AeG</td>\n",
       "    </tr>\n",
       "    <tr>\n",
       "      <th>2</th>\n",
       "      <td>4893</td>\n",
       "      <td>PC7_8430</td>\n",
       "      <td>PARTICIPATES_GpPW</td>\n",
       "    </tr>\n",
       "    <tr>\n",
       "      <th>3</th>\n",
       "      <td>UBERON:0002185</td>\n",
       "      <td>55186</td>\n",
       "      <td>EXPRESSES_AeG</td>\n",
       "    </tr>\n",
       "    <tr>\n",
       "      <th>4</th>\n",
       "      <td>119504</td>\n",
       "      <td>GO:0033047</td>\n",
       "      <td>PARTICIPATES_GpBP</td>\n",
       "    </tr>\n",
       "  </tbody>\n",
       "</table>\n",
       "</div>"
      ],
      "text/plain": [
       "        source_id   target_id          edge_type\n",
       "0            8568  GO:0042254  PARTICIPATES_GpBP\n",
       "1  UBERON:0002450       51316      EXPRESSES_AeG\n",
       "2            4893    PC7_8430  PARTICIPATES_GpPW\n",
       "3  UBERON:0002185       55186      EXPRESSES_AeG\n",
       "4          119504  GO:0033047  PARTICIPATES_GpBP"
      ]
     },
     "execution_count": 6,
     "metadata": {},
     "output_type": "execute_result"
    }
   ],
   "source": [
    "edges.head()"
   ]
  },
  {
   "cell_type": "code",
   "execution_count": 7,
   "metadata": {},
   "outputs": [
    {
     "data": {
      "text/plain": [
       "(2249052, 3)"
      ]
     },
     "execution_count": 7,
     "metadata": {},
     "output_type": "execute_result"
    }
   ],
   "source": [
    "edges.shape"
   ]
  },
  {
   "cell_type": "markdown",
   "metadata": {},
   "source": [
    "---"
   ]
  },
  {
   "cell_type": "markdown",
   "metadata": {},
   "source": [
    "## Create unified ID map"
   ]
  },
  {
   "cell_type": "code",
   "execution_count": 8,
   "metadata": {},
   "outputs": [],
   "source": [
    "id_map = defaultdict(list)"
   ]
  },
  {
   "cell_type": "code",
   "execution_count": 9,
   "metadata": {},
   "outputs": [],
   "source": [
    "def add_to_map(df, start, stop):\n",
    "    id_map[\"orig\"].extend(list(map(str, df[start])))\n",
    "    id_map[\"dest\"].extend(df[stop])"
   ]
  },
  {
   "cell_type": "markdown",
   "metadata": {},
   "source": [
    "---"
   ]
  },
  {
   "cell_type": "code",
   "execution_count": 10,
   "metadata": {},
   "outputs": [],
   "source": [
    "(pd\n",
    "    .read_csv(\"maps/uberon.tsv\", sep='\\t')\n",
    "    .pipe(add_to_map, \"uberon_id\", \"cui\")\n",
    ")"
   ]
  },
  {
   "cell_type": "code",
   "execution_count": 11,
   "metadata": {},
   "outputs": [],
   "source": [
    "(pd\n",
    "    .read_csv(\"maps/drugbank.tsv\", sep='\\t')\n",
    "    .pipe(add_to_map, \"drugbank_id\", \"cui\")\n",
    ")"
   ]
  },
  {
   "cell_type": "code",
   "execution_count": 12,
   "metadata": {},
   "outputs": [],
   "source": [
    "(pd\n",
    "    .read_csv(\"maps/doid_to_cui.tsv\", sep='\\t')\n",
    "    .pipe(add_to_map, \"doid\", \"cui\")\n",
    ")"
   ]
  },
  {
   "cell_type": "code",
   "execution_count": 13,
   "metadata": {},
   "outputs": [],
   "source": [
    "(pd\n",
    "    .read_csv(\"maps/gene_map.tsv\", sep='\\t')\n",
    "    .pipe(add_to_map, \"entrez_id\", \"cui\")\n",
    ")"
   ]
  },
  {
   "cell_type": "code",
   "execution_count": 14,
   "metadata": {},
   "outputs": [],
   "source": [
    "(pd\n",
    "    .read_csv(\"maps/remaining.tsv\", sep='\\t')\n",
    "    .pipe(add_to_map, \"code\", \"cui\")\n",
    ")"
   ]
  },
  {
   "cell_type": "markdown",
   "metadata": {},
   "source": [
    "---"
   ]
  },
  {
   "cell_type": "code",
   "execution_count": 15,
   "metadata": {},
   "outputs": [],
   "source": [
    "id_map = pd.DataFrame(id_map)"
   ]
  },
  {
   "cell_type": "code",
   "execution_count": 16,
   "metadata": {},
   "outputs": [
    {
     "data": {
      "text/plain": [
       "(545080, 2)"
      ]
     },
     "execution_count": 16,
     "metadata": {},
     "output_type": "execute_result"
    }
   ],
   "source": [
    "id_map.shape"
   ]
  },
  {
   "cell_type": "code",
   "execution_count": 17,
   "metadata": {},
   "outputs": [
    {
     "data": {
      "text/html": [
       "<div>\n",
       "<style scoped>\n",
       "    .dataframe tbody tr th:only-of-type {\n",
       "        vertical-align: middle;\n",
       "    }\n",
       "\n",
       "    .dataframe tbody tr th {\n",
       "        vertical-align: top;\n",
       "    }\n",
       "\n",
       "    .dataframe thead th {\n",
       "        text-align: right;\n",
       "    }\n",
       "</style>\n",
       "<table border=\"1\" class=\"dataframe\">\n",
       "  <thead>\n",
       "    <tr style=\"text-align: right;\">\n",
       "      <th></th>\n",
       "      <th>dest</th>\n",
       "      <th>orig</th>\n",
       "    </tr>\n",
       "  </thead>\n",
       "  <tbody>\n",
       "    <tr>\n",
       "      <th>0</th>\n",
       "      <td>UMLS:C0007874</td>\n",
       "      <td>UBERON:0000002</td>\n",
       "    </tr>\n",
       "    <tr>\n",
       "      <th>1</th>\n",
       "      <td>UMLS:C0028429</td>\n",
       "      <td>UBERON:0000004</td>\n",
       "    </tr>\n",
       "    <tr>\n",
       "      <th>2</th>\n",
       "      <td>UMLS:C0458561</td>\n",
       "      <td>UBERON:0000004</td>\n",
       "    </tr>\n",
       "    <tr>\n",
       "      <th>3</th>\n",
       "      <td>UMLS:C0022131</td>\n",
       "      <td>UBERON:0000006</td>\n",
       "    </tr>\n",
       "    <tr>\n",
       "      <th>4</th>\n",
       "      <td>UMLS:C0032005</td>\n",
       "      <td>UBERON:0000007</td>\n",
       "    </tr>\n",
       "  </tbody>\n",
       "</table>\n",
       "</div>"
      ],
      "text/plain": [
       "            dest            orig\n",
       "0  UMLS:C0007874  UBERON:0000002\n",
       "1  UMLS:C0028429  UBERON:0000004\n",
       "2  UMLS:C0458561  UBERON:0000004\n",
       "3  UMLS:C0022131  UBERON:0000006\n",
       "4  UMLS:C0032005  UBERON:0000007"
      ]
     },
     "execution_count": 17,
     "metadata": {},
     "output_type": "execute_result"
    }
   ],
   "source": [
    "id_map.head()"
   ]
  },
  {
   "cell_type": "markdown",
   "metadata": {},
   "source": [
    "---"
   ]
  },
  {
   "cell_type": "markdown",
   "metadata": {},
   "source": [
    "## Perform mapping"
   ]
  },
  {
   "cell_type": "code",
   "execution_count": 18,
   "metadata": {},
   "outputs": [],
   "source": [
    "def is_cui(s):\n",
    "    return re.match(r'^C[0-9]{7}$', s) is not None"
   ]
  },
  {
   "cell_type": "code",
   "execution_count": 19,
   "metadata": {},
   "outputs": [],
   "source": [
    "hnodes = (nodes\n",
    "    .merge(id_map, how=\"left\", left_on=\"uid\", right_on=\"orig\")\n",
    "    .drop(\"orig\", axis=1)\n",
    "        \n",
    "    .assign(val = lambda df: df[\"dest\"].fillna(df[\"uid\"]))\n",
    "    .drop(\"dest\", axis=1)\n",
    "    \n",
    "    .assign(\n",
    "        fuid = lambda df: df[\"val\"].map(\n",
    "            lambda v: \"UMLS:{}\".format(v) if is_cui(v) else v\n",
    "        )\n",
    "    )\n",
    "    .drop(\"val\", axis=1)\n",
    ")"
   ]
  },
  {
   "cell_type": "code",
   "execution_count": 20,
   "metadata": {},
   "outputs": [
    {
     "data": {
      "text/plain": [
       "(58700, 4)"
      ]
     },
     "execution_count": 20,
     "metadata": {},
     "output_type": "execute_result"
    }
   ],
   "source": [
    "hnodes.shape"
   ]
  },
  {
   "cell_type": "code",
   "execution_count": 21,
   "metadata": {},
   "outputs": [
    {
     "data": {
      "text/html": [
       "<div>\n",
       "<style scoped>\n",
       "    .dataframe tbody tr th:only-of-type {\n",
       "        vertical-align: middle;\n",
       "    }\n",
       "\n",
       "    .dataframe tbody tr th {\n",
       "        vertical-align: top;\n",
       "    }\n",
       "\n",
       "    .dataframe thead th {\n",
       "        text-align: right;\n",
       "    }\n",
       "</style>\n",
       "<table border=\"1\" class=\"dataframe\">\n",
       "  <thead>\n",
       "    <tr style=\"text-align: right;\">\n",
       "      <th></th>\n",
       "      <th>uid</th>\n",
       "      <th>name</th>\n",
       "      <th>node_type</th>\n",
       "      <th>fuid</th>\n",
       "    </tr>\n",
       "  </thead>\n",
       "  <tbody>\n",
       "    <tr>\n",
       "      <th>0</th>\n",
       "      <td>DB00795</td>\n",
       "      <td>Sulfasalazine</td>\n",
       "      <td>Compound</td>\n",
       "      <td>UMLS:C0036078</td>\n",
       "    </tr>\n",
       "    <tr>\n",
       "      <th>1</th>\n",
       "      <td>DB00795</td>\n",
       "      <td>Sulfasalazine</td>\n",
       "      <td>Compound</td>\n",
       "      <td>UMLS:C0699547</td>\n",
       "    </tr>\n",
       "    <tr>\n",
       "      <th>2</th>\n",
       "      <td>DB00795</td>\n",
       "      <td>Sulfasalazine</td>\n",
       "      <td>Compound</td>\n",
       "      <td>UMLS:C4255898</td>\n",
       "    </tr>\n",
       "    <tr>\n",
       "      <th>3</th>\n",
       "      <td>N0000000151</td>\n",
       "      <td>Histamine H2 Receptor Antagonists</td>\n",
       "      <td>Pharmacologic Class</td>\n",
       "      <td>UMLS:C2757005</td>\n",
       "    </tr>\n",
       "    <tr>\n",
       "      <th>4</th>\n",
       "      <td>100996420</td>\n",
       "      <td>DNM1P50</td>\n",
       "      <td>Gene</td>\n",
       "      <td>100996420</td>\n",
       "    </tr>\n",
       "  </tbody>\n",
       "</table>\n",
       "</div>"
      ],
      "text/plain": [
       "           uid                               name            node_type  \\\n",
       "0      DB00795                      Sulfasalazine             Compound   \n",
       "1      DB00795                      Sulfasalazine             Compound   \n",
       "2      DB00795                      Sulfasalazine             Compound   \n",
       "3  N0000000151  Histamine H2 Receptor Antagonists  Pharmacologic Class   \n",
       "4    100996420                            DNM1P50                 Gene   \n",
       "\n",
       "            fuid  \n",
       "0  UMLS:C0036078  \n",
       "1  UMLS:C0699547  \n",
       "2  UMLS:C4255898  \n",
       "3  UMLS:C2757005  \n",
       "4      100996420  "
      ]
     },
     "execution_count": 21,
     "metadata": {},
     "output_type": "execute_result"
    }
   ],
   "source": [
    "hnodes.head()"
   ]
  },
  {
   "cell_type": "markdown",
   "metadata": {},
   "source": [
    "---"
   ]
  },
  {
   "cell_type": "markdown",
   "metadata": {},
   "source": [
    "## Map Hetionet edges to new IDs"
   ]
  },
  {
   "cell_type": "code",
   "execution_count": 22,
   "metadata": {},
   "outputs": [],
   "source": [
    "hedges = (edges\n",
    "    .merge(\n",
    "        hnodes[[\"uid\", \"fuid\"]],\n",
    "        how=\"inner\", left_on=\"source_id\", right_on=\"uid\"\n",
    "    )\n",
    "    .drop([\"source_id\", \"uid\"], axis=1)\n",
    "    .rename(columns={\"fuid\": \"source_uid\"})\n",
    "\n",
    "    .merge(\n",
    "        hnodes[[\"uid\", \"fuid\"]],\n",
    "        how=\"inner\", left_on=\"target_id\", right_on=\"uid\"\n",
    "    )\n",
    "    .drop([\"target_id\", \"uid\"], axis=1)\n",
    "    .rename(columns={\"fuid\": \"target_uid\"})\n",
    "          \n",
    "    .drop_duplicates()\n",
    ")"
   ]
  },
  {
   "cell_type": "code",
   "execution_count": 23,
   "metadata": {
    "scrolled": true
   },
   "outputs": [
    {
     "data": {
      "text/html": [
       "<div>\n",
       "<style scoped>\n",
       "    .dataframe tbody tr th:only-of-type {\n",
       "        vertical-align: middle;\n",
       "    }\n",
       "\n",
       "    .dataframe tbody tr th {\n",
       "        vertical-align: top;\n",
       "    }\n",
       "\n",
       "    .dataframe thead th {\n",
       "        text-align: right;\n",
       "    }\n",
       "</style>\n",
       "<table border=\"1\" class=\"dataframe\">\n",
       "  <thead>\n",
       "    <tr style=\"text-align: right;\">\n",
       "      <th></th>\n",
       "      <th>edge_type</th>\n",
       "      <th>source_uid</th>\n",
       "      <th>target_uid</th>\n",
       "    </tr>\n",
       "  </thead>\n",
       "  <tbody>\n",
       "    <tr>\n",
       "      <th>0</th>\n",
       "      <td>PARTICIPATES_GpBP</td>\n",
       "      <td>UMLS:C1857700</td>\n",
       "      <td>UMLS:C1149564</td>\n",
       "    </tr>\n",
       "    <tr>\n",
       "      <th>1</th>\n",
       "      <td>PARTICIPATES_GpBP</td>\n",
       "      <td>UMLS:C1857700</td>\n",
       "      <td>UMLS:C1156140</td>\n",
       "    </tr>\n",
       "    <tr>\n",
       "      <th>2</th>\n",
       "      <td>PARTICIPATES_GpBP</td>\n",
       "      <td>UMLS:C1419751</td>\n",
       "      <td>UMLS:C1149564</td>\n",
       "    </tr>\n",
       "    <tr>\n",
       "      <th>3</th>\n",
       "      <td>PARTICIPATES_GpBP</td>\n",
       "      <td>UMLS:C1419751</td>\n",
       "      <td>UMLS:C1156140</td>\n",
       "    </tr>\n",
       "    <tr>\n",
       "      <th>4</th>\n",
       "      <td>PARTICIPATES_GpBP</td>\n",
       "      <td>UMLS:C1335641</td>\n",
       "      <td>UMLS:C1149564</td>\n",
       "    </tr>\n",
       "  </tbody>\n",
       "</table>\n",
       "</div>"
      ],
      "text/plain": [
       "           edge_type     source_uid     target_uid\n",
       "0  PARTICIPATES_GpBP  UMLS:C1857700  UMLS:C1149564\n",
       "1  PARTICIPATES_GpBP  UMLS:C1857700  UMLS:C1156140\n",
       "2  PARTICIPATES_GpBP  UMLS:C1419751  UMLS:C1149564\n",
       "3  PARTICIPATES_GpBP  UMLS:C1419751  UMLS:C1156140\n",
       "4  PARTICIPATES_GpBP  UMLS:C1335641  UMLS:C1149564"
      ]
     },
     "execution_count": 23,
     "metadata": {},
     "output_type": "execute_result"
    }
   ],
   "source": [
    "hedges.head()"
   ]
  },
  {
   "cell_type": "code",
   "execution_count": 24,
   "metadata": {
    "scrolled": true
   },
   "outputs": [
    {
     "data": {
      "text/plain": [
       "(3434083, 3)"
      ]
     },
     "execution_count": 24,
     "metadata": {},
     "output_type": "execute_result"
    }
   ],
   "source": [
    "hedges.shape"
   ]
  },
  {
   "cell_type": "markdown",
   "metadata": {},
   "source": [
    "---"
   ]
  },
  {
   "cell_type": "markdown",
   "metadata": {},
   "source": [
    "## Save to file"
   ]
  },
  {
   "cell_type": "code",
   "execution_count": 25,
   "metadata": {},
   "outputs": [],
   "source": [
    "hnodes.to_csv(\"hetionet/hetio_nodes.tsv\", sep='\\t', index=False)\n",
    "hedges.to_csv(\"hetionet/hetio_edges.tsv\", sep='\\t', index=False)"
   ]
  }
 ],
 "metadata": {
  "kernelspec": {
   "display_name": "Python 3",
   "language": "python",
   "name": "python3"
  },
  "language_info": {
   "codemirror_mode": {
    "name": "ipython",
    "version": 3
   },
   "file_extension": ".py",
   "mimetype": "text/x-python",
   "name": "python",
   "nbconvert_exporter": "python",
   "pygments_lexer": "ipython3",
   "version": "3.5.2"
  }
 },
 "nbformat": 4,
 "nbformat_minor": 2
}
