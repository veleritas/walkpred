{
 "cells": [
  {
   "cell_type": "markdown",
   "metadata": {},
   "source": [
    "# Harmonize SemmedDB with a Hetionet using UMLS CUIs"
   ]
  },
  {
   "cell_type": "code",
   "execution_count": 1,
   "metadata": {},
   "outputs": [],
   "source": [
    "import pandas as pd\n",
    "import re"
   ]
  },
  {
   "cell_type": "markdown",
   "metadata": {},
   "source": [
    "## Read Hetionet nodes"
   ]
  },
  {
   "cell_type": "code",
   "execution_count": 2,
   "metadata": {},
   "outputs": [],
   "source": [
    "hnodes = (pd\n",
    "    .read_csv(\"hetionet/hetio_nodes.tsv\", sep='\\t')\n",
    "    .rename(columns={\n",
    "        \"node_type\": \"het_type\",\n",
    "        \"uid\": \"hetio_id\",\n",
    "        \"fuid\": \"cui\"\n",
    "    })\n",
    ")"
   ]
  },
  {
   "cell_type": "code",
   "execution_count": 3,
   "metadata": {},
   "outputs": [
    {
     "data": {
      "text/plain": [
       "(58700, 4)"
      ]
     },
     "execution_count": 3,
     "metadata": {},
     "output_type": "execute_result"
    }
   ],
   "source": [
    "hnodes.shape"
   ]
  },
  {
   "cell_type": "code",
   "execution_count": 4,
   "metadata": {},
   "outputs": [
    {
     "data": {
      "text/html": [
       "<div>\n",
       "<style scoped>\n",
       "    .dataframe tbody tr th:only-of-type {\n",
       "        vertical-align: middle;\n",
       "    }\n",
       "\n",
       "    .dataframe tbody tr th {\n",
       "        vertical-align: top;\n",
       "    }\n",
       "\n",
       "    .dataframe thead th {\n",
       "        text-align: right;\n",
       "    }\n",
       "</style>\n",
       "<table border=\"1\" class=\"dataframe\">\n",
       "  <thead>\n",
       "    <tr style=\"text-align: right;\">\n",
       "      <th></th>\n",
       "      <th>hetio_id</th>\n",
       "      <th>name</th>\n",
       "      <th>het_type</th>\n",
       "      <th>cui</th>\n",
       "    </tr>\n",
       "  </thead>\n",
       "  <tbody>\n",
       "    <tr>\n",
       "      <th>0</th>\n",
       "      <td>DB00795</td>\n",
       "      <td>Sulfasalazine</td>\n",
       "      <td>Compound</td>\n",
       "      <td>UMLS:C0036078</td>\n",
       "    </tr>\n",
       "    <tr>\n",
       "      <th>1</th>\n",
       "      <td>DB00795</td>\n",
       "      <td>Sulfasalazine</td>\n",
       "      <td>Compound</td>\n",
       "      <td>UMLS:C0699547</td>\n",
       "    </tr>\n",
       "    <tr>\n",
       "      <th>2</th>\n",
       "      <td>DB00795</td>\n",
       "      <td>Sulfasalazine</td>\n",
       "      <td>Compound</td>\n",
       "      <td>UMLS:C4255898</td>\n",
       "    </tr>\n",
       "    <tr>\n",
       "      <th>3</th>\n",
       "      <td>N0000000151</td>\n",
       "      <td>Histamine H2 Receptor Antagonists</td>\n",
       "      <td>Pharmacologic Class</td>\n",
       "      <td>UMLS:C2757005</td>\n",
       "    </tr>\n",
       "    <tr>\n",
       "      <th>4</th>\n",
       "      <td>100996420</td>\n",
       "      <td>DNM1P50</td>\n",
       "      <td>Gene</td>\n",
       "      <td>100996420</td>\n",
       "    </tr>\n",
       "  </tbody>\n",
       "</table>\n",
       "</div>"
      ],
      "text/plain": [
       "      hetio_id                               name             het_type  \\\n",
       "0      DB00795                      Sulfasalazine             Compound   \n",
       "1      DB00795                      Sulfasalazine             Compound   \n",
       "2      DB00795                      Sulfasalazine             Compound   \n",
       "3  N0000000151  Histamine H2 Receptor Antagonists  Pharmacologic Class   \n",
       "4    100996420                            DNM1P50                 Gene   \n",
       "\n",
       "             cui  \n",
       "0  UMLS:C0036078  \n",
       "1  UMLS:C0699547  \n",
       "2  UMLS:C4255898  \n",
       "3  UMLS:C2757005  \n",
       "4      100996420  "
      ]
     },
     "execution_count": 4,
     "metadata": {},
     "output_type": "execute_result"
    }
   ],
   "source": [
    "hnodes.head()"
   ]
  },
  {
   "cell_type": "markdown",
   "metadata": {},
   "source": [
    "---"
   ]
  },
  {
   "cell_type": "markdown",
   "metadata": {},
   "source": [
    "## Read Semmed nodes"
   ]
  },
  {
   "cell_type": "code",
   "execution_count": 5,
   "metadata": {},
   "outputs": [],
   "source": [
    "def is_cui(s):\n",
    "    return re.match(r'^C[0-9]{7}$', s) is not None"
   ]
  },
  {
   "cell_type": "code",
   "execution_count": 6,
   "metadata": {},
   "outputs": [],
   "source": [
    "snodes = (pd\n",
    "    .read_csv(\"../semmed/data/node_map.tsv\", sep='\\t')\n",
    "    .drop(\"node_uid\", axis=1)\n",
    "    .assign(\n",
    "        cui = lambda df: df[\"node_id\"].map(\n",
    "            lambda v: \"UMLS:{}\".format(v) if is_cui(v) else v\n",
    "        )\n",
    "    )\n",
    "    .drop(\"node_id\", axis=1)\n",
    "    .rename(columns={\"ntype\": \"sem_type\"})\n",
    ")"
   ]
  },
  {
   "cell_type": "code",
   "execution_count": 7,
   "metadata": {},
   "outputs": [
    {
     "data": {
      "text/html": [
       "<div>\n",
       "<style scoped>\n",
       "    .dataframe tbody tr th:only-of-type {\n",
       "        vertical-align: middle;\n",
       "    }\n",
       "\n",
       "    .dataframe tbody tr th {\n",
       "        vertical-align: top;\n",
       "    }\n",
       "\n",
       "    .dataframe thead th {\n",
       "        text-align: right;\n",
       "    }\n",
       "</style>\n",
       "<table border=\"1\" class=\"dataframe\">\n",
       "  <thead>\n",
       "    <tr style=\"text-align: right;\">\n",
       "      <th></th>\n",
       "      <th>name</th>\n",
       "      <th>sem_type</th>\n",
       "      <th>cui</th>\n",
       "    </tr>\n",
       "  </thead>\n",
       "  <tbody>\n",
       "    <tr>\n",
       "      <th>0</th>\n",
       "      <td>1,2-Dipalmitoylphosphatidylcholine</td>\n",
       "      <td>Chemicals &amp; Drugs</td>\n",
       "      <td>UMLS:C0000039</td>\n",
       "    </tr>\n",
       "    <tr>\n",
       "      <th>1</th>\n",
       "      <td>1,4-alpha-Glucan Branching Enzyme</td>\n",
       "      <td>Chemicals &amp; Drugs</td>\n",
       "      <td>UMLS:C0000052</td>\n",
       "    </tr>\n",
       "    <tr>\n",
       "      <th>2</th>\n",
       "      <td>1-Carboxyglutamic Acid</td>\n",
       "      <td>Chemicals &amp; Drugs</td>\n",
       "      <td>UMLS:C0000084</td>\n",
       "    </tr>\n",
       "    <tr>\n",
       "      <th>3</th>\n",
       "      <td>1-Methyl-3-isobutylxanthine</td>\n",
       "      <td>Chemicals &amp; Drugs</td>\n",
       "      <td>UMLS:C0000096</td>\n",
       "    </tr>\n",
       "    <tr>\n",
       "      <th>4</th>\n",
       "      <td>1-Methyl-4-phenyl-1,2,3,6-tetrahydropyridine</td>\n",
       "      <td>Chemicals &amp; Drugs</td>\n",
       "      <td>UMLS:C0000097</td>\n",
       "    </tr>\n",
       "  </tbody>\n",
       "</table>\n",
       "</div>"
      ],
      "text/plain": [
       "                                           name           sem_type  \\\n",
       "0            1,2-Dipalmitoylphosphatidylcholine  Chemicals & Drugs   \n",
       "1             1,4-alpha-Glucan Branching Enzyme  Chemicals & Drugs   \n",
       "2                        1-Carboxyglutamic Acid  Chemicals & Drugs   \n",
       "3                   1-Methyl-3-isobutylxanthine  Chemicals & Drugs   \n",
       "4  1-Methyl-4-phenyl-1,2,3,6-tetrahydropyridine  Chemicals & Drugs   \n",
       "\n",
       "             cui  \n",
       "0  UMLS:C0000039  \n",
       "1  UMLS:C0000052  \n",
       "2  UMLS:C0000084  \n",
       "3  UMLS:C0000096  \n",
       "4  UMLS:C0000097  "
      ]
     },
     "execution_count": 7,
     "metadata": {},
     "output_type": "execute_result"
    }
   ],
   "source": [
    "snodes.head()"
   ]
  },
  {
   "cell_type": "code",
   "execution_count": 8,
   "metadata": {},
   "outputs": [
    {
     "data": {
      "text/plain": [
       "True     210382\n",
       "False         7\n",
       "Name: cui, dtype: int64"
      ]
     },
     "execution_count": 8,
     "metadata": {},
     "output_type": "execute_result"
    }
   ],
   "source": [
    "snodes[\"cui\"].str.startswith(\"UMLS\").value_counts()"
   ]
  },
  {
   "cell_type": "markdown",
   "metadata": {},
   "source": [
    "---"
   ]
  },
  {
   "cell_type": "markdown",
   "metadata": {},
   "source": [
    "### CUIs missing in semmeddb"
   ]
  },
  {
   "cell_type": "code",
   "execution_count": 9,
   "metadata": {},
   "outputs": [],
   "source": [
    "ncuis = (hnodes\n",
    "    .groupby(\"hetio_id\")\n",
    "    .size()\n",
    "    .to_frame(\"ncuis\")\n",
    "    .reset_index()\n",
    ")"
   ]
  },
  {
   "cell_type": "code",
   "execution_count": 10,
   "metadata": {},
   "outputs": [],
   "source": [
    "nmerge = hnodes.merge(snodes, how=\"left\", on=\"cui\")\n",
    "\n",
    "missing = (nmerge\n",
    "    [nmerge[\"sem_type\"].isnull()]\n",
    "    .groupby(\"hetio_id\")\n",
    "    .size()\n",
    "    .to_frame(\"missing\")\n",
    "    .reset_index()\n",
    ")"
   ]
  },
  {
   "cell_type": "code",
   "execution_count": 11,
   "metadata": {},
   "outputs": [],
   "source": [
    "res = (ncuis\n",
    "    .merge(missing, how=\"left\", on=\"hetio_id\")\n",
    "    .fillna(0)\n",
    "    .assign(missing = lambda df: df[\"missing\"].astype(int))\n",
    ")"
   ]
  },
  {
   "cell_type": "code",
   "execution_count": 12,
   "metadata": {},
   "outputs": [
    {
     "data": {
      "text/html": [
       "<div>\n",
       "<style scoped>\n",
       "    .dataframe tbody tr th:only-of-type {\n",
       "        vertical-align: middle;\n",
       "    }\n",
       "\n",
       "    .dataframe tbody tr th {\n",
       "        vertical-align: top;\n",
       "    }\n",
       "\n",
       "    .dataframe thead th {\n",
       "        text-align: right;\n",
       "    }\n",
       "</style>\n",
       "<table border=\"1\" class=\"dataframe\">\n",
       "  <thead>\n",
       "    <tr style=\"text-align: right;\">\n",
       "      <th></th>\n",
       "      <th>hetio_id</th>\n",
       "      <th>ncuis</th>\n",
       "      <th>missing</th>\n",
       "    </tr>\n",
       "  </thead>\n",
       "  <tbody>\n",
       "    <tr>\n",
       "      <th>0</th>\n",
       "      <td>1</td>\n",
       "      <td>1</td>\n",
       "      <td>0</td>\n",
       "    </tr>\n",
       "    <tr>\n",
       "      <th>1</th>\n",
       "      <td>10</td>\n",
       "      <td>1</td>\n",
       "      <td>0</td>\n",
       "    </tr>\n",
       "    <tr>\n",
       "      <th>2</th>\n",
       "      <td>100</td>\n",
       "      <td>1</td>\n",
       "      <td>0</td>\n",
       "    </tr>\n",
       "    <tr>\n",
       "      <th>3</th>\n",
       "      <td>1000</td>\n",
       "      <td>1</td>\n",
       "      <td>0</td>\n",
       "    </tr>\n",
       "    <tr>\n",
       "      <th>4</th>\n",
       "      <td>10000</td>\n",
       "      <td>1</td>\n",
       "      <td>0</td>\n",
       "    </tr>\n",
       "  </tbody>\n",
       "</table>\n",
       "</div>"
      ],
      "text/plain": [
       "  hetio_id  ncuis  missing\n",
       "0        1      1        0\n",
       "1       10      1        0\n",
       "2      100      1        0\n",
       "3     1000      1        0\n",
       "4    10000      1        0"
      ]
     },
     "execution_count": 12,
     "metadata": {},
     "output_type": "execute_result"
    }
   ],
   "source": [
    "res.head()"
   ]
  },
  {
   "cell_type": "markdown",
   "metadata": {},
   "source": [
    "### How many CUIs exist for each Hetio id?"
   ]
  },
  {
   "cell_type": "code",
   "execution_count": 13,
   "metadata": {},
   "outputs": [
    {
     "data": {
      "text/plain": [
       "1      88.513959\n",
       "2       6.529736\n",
       "3       2.895962\n",
       "4       0.790968\n",
       "5       0.408241\n",
       "6       0.208373\n",
       "7       0.174353\n",
       "8       0.127575\n",
       "9       0.063788\n",
       "10      0.040399\n",
       "11      0.042525\n",
       "12      0.042525\n",
       "13      0.019136\n",
       "14      0.021263\n",
       "15      0.014884\n",
       "16      0.008505\n",
       "17      0.012758\n",
       "18      0.004253\n",
       "19      0.006379\n",
       "21      0.019136\n",
       "22      0.004253\n",
       "23      0.006379\n",
       "24      0.002126\n",
       "25      0.004253\n",
       "26      0.008505\n",
       "29      0.006379\n",
       "30      0.002126\n",
       "31      0.004253\n",
       "37      0.002126\n",
       "39      0.002126\n",
       "43      0.002126\n",
       "57      0.002126\n",
       "67      0.002126\n",
       "70      0.002126\n",
       "101     0.002126\n",
       "139     0.002126\n",
       "Name: ncuis, dtype: float64"
      ]
     },
     "execution_count": 13,
     "metadata": {},
     "output_type": "execute_result"
    }
   ],
   "source": [
    "(res\n",
    "    [\"ncuis\"]\n",
    "    .value_counts(normalize=True)\n",
    "    .multiply(100)\n",
    "    .sort_index()\n",
    ")"
   ]
  },
  {
   "cell_type": "markdown",
   "metadata": {},
   "source": [
    "Vast majority of nodes (88%) have only one equivalent cui. these are the best and easily reconciled with other things. then we have our long tail of things which have a bunch of mappings, going all the way up to 139 cuis for the same hetio id. we will examine this long tail"
   ]
  },
  {
   "cell_type": "markdown",
   "metadata": {},
   "source": [
    "### Number of unique Hetio nodes which do not have a single CUI mapping in semmeddb"
   ]
  },
  {
   "cell_type": "code",
   "execution_count": 14,
   "metadata": {},
   "outputs": [
    {
     "data": {
      "text/plain": [
       "(21154, 3)"
      ]
     },
     "execution_count": 14,
     "metadata": {},
     "output_type": "execute_result"
    }
   ],
   "source": [
    "res.query(\"ncuis == missing\").shape"
   ]
  },
  {
   "cell_type": "markdown",
   "metadata": {},
   "source": [
    "there are 21154 unique nodes in hetionet which do not have any of its cui mappings existing in semmeddb"
   ]
  },
  {
   "cell_type": "markdown",
   "metadata": {},
   "source": [
    "### node types of missing nodes (no cuis in semmeddb)"
   ]
  },
  {
   "cell_type": "code",
   "execution_count": 15,
   "metadata": {},
   "outputs": [
    {
     "data": {
      "text/plain": [
       "Biological Process     9647\n",
       "Gene                   4914\n",
       "Molecular Function     1934\n",
       "Pathway                1822\n",
       "Side Effect            1457\n",
       "Cellular Component     1030\n",
       "Pharmacologic Class     216\n",
       "Compound                101\n",
       "Symptom                  20\n",
       "Disease                   8\n",
       "Anatomy                   5\n",
       "Name: het_type, dtype: int64"
      ]
     },
     "execution_count": 15,
     "metadata": {},
     "output_type": "execute_result"
    }
   ],
   "source": [
    "(res\n",
    "    .query(\"ncuis == missing\")\n",
    "    .merge(hnodes, how=\"left\", on=\"hetio_id\")\n",
    "    [[\"hetio_id\", \"het_type\"]]\n",
    "    .drop_duplicates()\n",
    "    [\"het_type\"]\n",
    "    .value_counts()\n",
    ")"
   ]
  },
  {
   "cell_type": "markdown",
   "metadata": {},
   "source": [
    "for the most part the missing things are things from the gene ontology"
   ]
  },
  {
   "cell_type": "markdown",
   "metadata": {},
   "source": [
    "### hetio missing node types as a fraction of the total hetio nodes of that type"
   ]
  },
  {
   "cell_type": "code",
   "execution_count": 16,
   "metadata": {},
   "outputs": [
    {
     "data": {
      "text/plain": [
       "Pathway                100.000000\n",
       "Biological Process      84.764080\n",
       "Cellular Component      74.047448\n",
       "Molecular Function      67.059639\n",
       "Pharmacologic Class     62.608696\n",
       "Side Effect             25.409836\n",
       "Gene                    23.461447\n",
       "Compound                 6.507732\n",
       "Disease                  5.839416\n",
       "Symptom                  4.566210\n",
       "Anatomy                  1.243781\n",
       "Name: het_type, dtype: float64"
      ]
     },
     "execution_count": 16,
     "metadata": {},
     "output_type": "execute_result"
    }
   ],
   "source": [
    "(res\n",
    "    .query(\"ncuis == missing\")\n",
    "    .merge(hnodes, how=\"left\", on=\"hetio_id\")\n",
    "    [[\"hetio_id\", \"het_type\"]]\n",
    "    .drop_duplicates()\n",
    "    [\"het_type\"]\n",
    "    .value_counts()\n",
    " \n",
    "    .divide(\n",
    "        (hnodes\n",
    "            [[\"hetio_id\", \"het_type\"]]\n",
    "            .drop_duplicates()\n",
    "            [\"het_type\"]\n",
    "            .value_counts()\n",
    "        )\n",
    "    )\n",
    "    .multiply(100)\n",
    "    .sort_values(ascending=False)\n",
    ")"
   ]
  },
  {
   "cell_type": "markdown",
   "metadata": {},
   "source": [
    "from the above we can see that the pathway and three subsets of the gene ontology have the vast majority of their data missing in semmeddb (as in all cuis have no result in semmeddb)."
   ]
  },
  {
   "cell_type": "markdown",
   "metadata": {},
   "source": [
    "conclusion: lots of stuff is missing but that's because it seems semrep didn't extract any go ontology terms. not much we can do about the missing ids; real question is whether we keep in original single id space or if we expand it out to the maybe 100 cuis for a single term (makes the network a lot more complicated).."
   ]
  },
  {
   "cell_type": "markdown",
   "metadata": {},
   "source": [
    "---"
   ]
  },
  {
   "cell_type": "markdown",
   "metadata": {},
   "source": [
    "## try to figure out how to merge the different semantic types, especially when both sources disagree about what an individual thing is"
   ]
  },
  {
   "cell_type": "code",
   "execution_count": 17,
   "metadata": {},
   "outputs": [],
   "source": [
    "temp = hnodes.merge(snodes, how=\"inner\", on=\"cui\")"
   ]
  },
  {
   "cell_type": "code",
   "execution_count": 18,
   "metadata": {},
   "outputs": [
    {
     "data": {
      "text/html": [
       "<div>\n",
       "<style scoped>\n",
       "    .dataframe tbody tr th:only-of-type {\n",
       "        vertical-align: middle;\n",
       "    }\n",
       "\n",
       "    .dataframe tbody tr th {\n",
       "        vertical-align: top;\n",
       "    }\n",
       "\n",
       "    .dataframe thead th {\n",
       "        text-align: right;\n",
       "    }\n",
       "</style>\n",
       "<table border=\"1\" class=\"dataframe\">\n",
       "  <thead>\n",
       "    <tr style=\"text-align: right;\">\n",
       "      <th></th>\n",
       "      <th>hetio_id</th>\n",
       "      <th>name_x</th>\n",
       "      <th>het_type</th>\n",
       "      <th>cui</th>\n",
       "      <th>name_y</th>\n",
       "      <th>sem_type</th>\n",
       "    </tr>\n",
       "  </thead>\n",
       "  <tbody>\n",
       "    <tr>\n",
       "      <th>0</th>\n",
       "      <td>DB00795</td>\n",
       "      <td>Sulfasalazine</td>\n",
       "      <td>Compound</td>\n",
       "      <td>UMLS:C0036078</td>\n",
       "      <td>Sulfasalazine</td>\n",
       "      <td>Chemicals &amp; Drugs</td>\n",
       "    </tr>\n",
       "    <tr>\n",
       "      <th>1</th>\n",
       "      <td>DB00795</td>\n",
       "      <td>Sulfasalazine</td>\n",
       "      <td>Compound</td>\n",
       "      <td>UMLS:C0699547</td>\n",
       "      <td>Azulfidine</td>\n",
       "      <td>Chemicals &amp; Drugs</td>\n",
       "    </tr>\n",
       "    <tr>\n",
       "      <th>2</th>\n",
       "      <td>DB04898</td>\n",
       "      <td>Ximelagatran</td>\n",
       "      <td>Compound</td>\n",
       "      <td>UMLS:C0966370</td>\n",
       "      <td>ximelagatran</td>\n",
       "      <td>Chemicals &amp; Drugs</td>\n",
       "    </tr>\n",
       "    <tr>\n",
       "      <th>3</th>\n",
       "      <td>DB04898</td>\n",
       "      <td>Ximelagatran</td>\n",
       "      <td>Compound</td>\n",
       "      <td>UMLS:C1174793</td>\n",
       "      <td>Exanta</td>\n",
       "      <td>Chemicals &amp; Drugs</td>\n",
       "    </tr>\n",
       "    <tr>\n",
       "      <th>4</th>\n",
       "      <td>C0278151</td>\n",
       "      <td>Facial spasm</td>\n",
       "      <td>Side Effect</td>\n",
       "      <td>UMLS:C0278151</td>\n",
       "      <td>Facial spasm</td>\n",
       "      <td>Disorders</td>\n",
       "    </tr>\n",
       "  </tbody>\n",
       "</table>\n",
       "</div>"
      ],
      "text/plain": [
       "   hetio_id         name_x     het_type            cui         name_y  \\\n",
       "0   DB00795  Sulfasalazine     Compound  UMLS:C0036078  Sulfasalazine   \n",
       "1   DB00795  Sulfasalazine     Compound  UMLS:C0699547     Azulfidine   \n",
       "2   DB04898   Ximelagatran     Compound  UMLS:C0966370   ximelagatran   \n",
       "3   DB04898   Ximelagatran     Compound  UMLS:C1174793         Exanta   \n",
       "4  C0278151   Facial spasm  Side Effect  UMLS:C0278151   Facial spasm   \n",
       "\n",
       "            sem_type  \n",
       "0  Chemicals & Drugs  \n",
       "1  Chemicals & Drugs  \n",
       "2  Chemicals & Drugs  \n",
       "3  Chemicals & Drugs  \n",
       "4          Disorders  "
      ]
     },
     "execution_count": 18,
     "metadata": {},
     "output_type": "execute_result"
    }
   ],
   "source": [
    "temp.head()"
   ]
  },
  {
   "cell_type": "code",
   "execution_count": 19,
   "metadata": {},
   "outputs": [
    {
     "data": {
      "text/html": [
       "<div>\n",
       "<style scoped>\n",
       "    .dataframe tbody tr th:only-of-type {\n",
       "        vertical-align: middle;\n",
       "    }\n",
       "\n",
       "    .dataframe tbody tr th {\n",
       "        vertical-align: top;\n",
       "    }\n",
       "\n",
       "    .dataframe thead th {\n",
       "        text-align: right;\n",
       "    }\n",
       "</style>\n",
       "<table border=\"1\" class=\"dataframe\">\n",
       "  <thead>\n",
       "    <tr style=\"text-align: right;\">\n",
       "      <th></th>\n",
       "      <th></th>\n",
       "      <th>rows</th>\n",
       "    </tr>\n",
       "    <tr>\n",
       "      <th>het_type</th>\n",
       "      <th>sem_type</th>\n",
       "      <th></th>\n",
       "    </tr>\n",
       "  </thead>\n",
       "  <tbody>\n",
       "    <tr>\n",
       "      <th rowspan=\"3\" valign=\"top\">Anatomy</th>\n",
       "      <th>Anatomy</th>\n",
       "      <td>517</td>\n",
       "    </tr>\n",
       "    <tr>\n",
       "      <th>Disorders</th>\n",
       "      <td>2</td>\n",
       "    </tr>\n",
       "    <tr>\n",
       "      <th>Physiology</th>\n",
       "      <td>1</td>\n",
       "    </tr>\n",
       "    <tr>\n",
       "      <th rowspan=\"4\" valign=\"top\">Biological Process</th>\n",
       "      <th>Anatomy</th>\n",
       "      <td>4</td>\n",
       "    </tr>\n",
       "    <tr>\n",
       "      <th>Disorders</th>\n",
       "      <td>16</td>\n",
       "    </tr>\n",
       "    <tr>\n",
       "      <th>Phenomena</th>\n",
       "      <td>24</td>\n",
       "    </tr>\n",
       "    <tr>\n",
       "      <th>Physiology</th>\n",
       "      <td>1725</td>\n",
       "    </tr>\n",
       "    <tr>\n",
       "      <th rowspan=\"3\" valign=\"top\">Cellular Component</th>\n",
       "      <th>Anatomy</th>\n",
       "      <td>378</td>\n",
       "    </tr>\n",
       "    <tr>\n",
       "      <th>Living Beings</th>\n",
       "      <td>1</td>\n",
       "    </tr>\n",
       "    <tr>\n",
       "      <th>Physiology</th>\n",
       "      <td>1</td>\n",
       "    </tr>\n",
       "    <tr>\n",
       "      <th rowspan=\"2\" valign=\"top\">Compound</th>\n",
       "      <th>Chemicals &amp; Drugs</th>\n",
       "      <td>1943</td>\n",
       "    </tr>\n",
       "    <tr>\n",
       "      <th>Phenomena</th>\n",
       "      <td>1</td>\n",
       "    </tr>\n",
       "    <tr>\n",
       "      <th>Disease</th>\n",
       "      <th>Disorders</th>\n",
       "      <td>129</td>\n",
       "    </tr>\n",
       "    <tr>\n",
       "      <th>Gene</th>\n",
       "      <th>Genes &amp; Molecular Sequences</th>\n",
       "      <td>16031</td>\n",
       "    </tr>\n",
       "    <tr>\n",
       "      <th rowspan=\"2\" valign=\"top\">Molecular Function</th>\n",
       "      <th>Chemicals &amp; Drugs</th>\n",
       "      <td>1</td>\n",
       "    </tr>\n",
       "    <tr>\n",
       "      <th>Physiology</th>\n",
       "      <td>1011</td>\n",
       "    </tr>\n",
       "    <tr>\n",
       "      <th rowspan=\"3\" valign=\"top\">Pharmacologic Class</th>\n",
       "      <th>Chemicals &amp; Drugs</th>\n",
       "      <td>87</td>\n",
       "    </tr>\n",
       "    <tr>\n",
       "      <th>Disorders</th>\n",
       "      <td>1</td>\n",
       "    </tr>\n",
       "    <tr>\n",
       "      <th>Physiology</th>\n",
       "      <td>41</td>\n",
       "    </tr>\n",
       "    <tr>\n",
       "      <th rowspan=\"4\" valign=\"top\">Side Effect</th>\n",
       "      <th>Anatomy</th>\n",
       "      <td>3</td>\n",
       "    </tr>\n",
       "    <tr>\n",
       "      <th>Disorders</th>\n",
       "      <td>4200</td>\n",
       "    </tr>\n",
       "    <tr>\n",
       "      <th>Phenomena</th>\n",
       "      <td>26</td>\n",
       "    </tr>\n",
       "    <tr>\n",
       "      <th>Physiology</th>\n",
       "      <td>48</td>\n",
       "    </tr>\n",
       "    <tr>\n",
       "      <th rowspan=\"2\" valign=\"top\">Symptom</th>\n",
       "      <th>Disorders</th>\n",
       "      <td>923</td>\n",
       "    </tr>\n",
       "    <tr>\n",
       "      <th>Physiology</th>\n",
       "      <td>9</td>\n",
       "    </tr>\n",
       "  </tbody>\n",
       "</table>\n",
       "</div>"
      ],
      "text/plain": [
       "                                                  rows\n",
       "het_type            sem_type                          \n",
       "Anatomy             Anatomy                        517\n",
       "                    Disorders                        2\n",
       "                    Physiology                       1\n",
       "Biological Process  Anatomy                          4\n",
       "                    Disorders                       16\n",
       "                    Phenomena                       24\n",
       "                    Physiology                    1725\n",
       "Cellular Component  Anatomy                        378\n",
       "                    Living Beings                    1\n",
       "                    Physiology                       1\n",
       "Compound            Chemicals & Drugs             1943\n",
       "                    Phenomena                        1\n",
       "Disease             Disorders                      129\n",
       "Gene                Genes & Molecular Sequences  16031\n",
       "Molecular Function  Chemicals & Drugs                1\n",
       "                    Physiology                    1011\n",
       "Pharmacologic Class Chemicals & Drugs               87\n",
       "                    Disorders                        1\n",
       "                    Physiology                      41\n",
       "Side Effect         Anatomy                          3\n",
       "                    Disorders                     4200\n",
       "                    Phenomena                       26\n",
       "                    Physiology                      48\n",
       "Symptom             Disorders                      923\n",
       "                    Physiology                       9"
      ]
     },
     "execution_count": 19,
     "metadata": {},
     "output_type": "execute_result"
    }
   ],
   "source": [
    "temp.groupby([\"het_type\", \"sem_type\"]).size().to_frame(\"rows\")"
   ]
  },
  {
   "cell_type": "code",
   "execution_count": 20,
   "metadata": {},
   "outputs": [
    {
     "data": {
      "text/html": [
       "<div>\n",
       "<style scoped>\n",
       "    .dataframe tbody tr th:only-of-type {\n",
       "        vertical-align: middle;\n",
       "    }\n",
       "\n",
       "    .dataframe tbody tr th {\n",
       "        vertical-align: top;\n",
       "    }\n",
       "\n",
       "    .dataframe thead th {\n",
       "        text-align: right;\n",
       "    }\n",
       "</style>\n",
       "<table border=\"1\" class=\"dataframe\">\n",
       "  <thead>\n",
       "    <tr style=\"text-align: right;\">\n",
       "      <th></th>\n",
       "      <th></th>\n",
       "      <th>rows</th>\n",
       "    </tr>\n",
       "    <tr>\n",
       "      <th>sem_type</th>\n",
       "      <th>het_type</th>\n",
       "      <th></th>\n",
       "    </tr>\n",
       "  </thead>\n",
       "  <tbody>\n",
       "    <tr>\n",
       "      <th rowspan=\"4\" valign=\"top\">Anatomy</th>\n",
       "      <th>Anatomy</th>\n",
       "      <td>517</td>\n",
       "    </tr>\n",
       "    <tr>\n",
       "      <th>Biological Process</th>\n",
       "      <td>4</td>\n",
       "    </tr>\n",
       "    <tr>\n",
       "      <th>Cellular Component</th>\n",
       "      <td>378</td>\n",
       "    </tr>\n",
       "    <tr>\n",
       "      <th>Side Effect</th>\n",
       "      <td>3</td>\n",
       "    </tr>\n",
       "    <tr>\n",
       "      <th rowspan=\"3\" valign=\"top\">Chemicals &amp; Drugs</th>\n",
       "      <th>Compound</th>\n",
       "      <td>1943</td>\n",
       "    </tr>\n",
       "    <tr>\n",
       "      <th>Molecular Function</th>\n",
       "      <td>1</td>\n",
       "    </tr>\n",
       "    <tr>\n",
       "      <th>Pharmacologic Class</th>\n",
       "      <td>87</td>\n",
       "    </tr>\n",
       "    <tr>\n",
       "      <th rowspan=\"6\" valign=\"top\">Disorders</th>\n",
       "      <th>Anatomy</th>\n",
       "      <td>2</td>\n",
       "    </tr>\n",
       "    <tr>\n",
       "      <th>Biological Process</th>\n",
       "      <td>16</td>\n",
       "    </tr>\n",
       "    <tr>\n",
       "      <th>Disease</th>\n",
       "      <td>129</td>\n",
       "    </tr>\n",
       "    <tr>\n",
       "      <th>Pharmacologic Class</th>\n",
       "      <td>1</td>\n",
       "    </tr>\n",
       "    <tr>\n",
       "      <th>Side Effect</th>\n",
       "      <td>4200</td>\n",
       "    </tr>\n",
       "    <tr>\n",
       "      <th>Symptom</th>\n",
       "      <td>923</td>\n",
       "    </tr>\n",
       "    <tr>\n",
       "      <th>Genes &amp; Molecular Sequences</th>\n",
       "      <th>Gene</th>\n",
       "      <td>16031</td>\n",
       "    </tr>\n",
       "    <tr>\n",
       "      <th>Living Beings</th>\n",
       "      <th>Cellular Component</th>\n",
       "      <td>1</td>\n",
       "    </tr>\n",
       "    <tr>\n",
       "      <th rowspan=\"3\" valign=\"top\">Phenomena</th>\n",
       "      <th>Biological Process</th>\n",
       "      <td>24</td>\n",
       "    </tr>\n",
       "    <tr>\n",
       "      <th>Compound</th>\n",
       "      <td>1</td>\n",
       "    </tr>\n",
       "    <tr>\n",
       "      <th>Side Effect</th>\n",
       "      <td>26</td>\n",
       "    </tr>\n",
       "    <tr>\n",
       "      <th rowspan=\"7\" valign=\"top\">Physiology</th>\n",
       "      <th>Anatomy</th>\n",
       "      <td>1</td>\n",
       "    </tr>\n",
       "    <tr>\n",
       "      <th>Biological Process</th>\n",
       "      <td>1725</td>\n",
       "    </tr>\n",
       "    <tr>\n",
       "      <th>Cellular Component</th>\n",
       "      <td>1</td>\n",
       "    </tr>\n",
       "    <tr>\n",
       "      <th>Molecular Function</th>\n",
       "      <td>1011</td>\n",
       "    </tr>\n",
       "    <tr>\n",
       "      <th>Pharmacologic Class</th>\n",
       "      <td>41</td>\n",
       "    </tr>\n",
       "    <tr>\n",
       "      <th>Side Effect</th>\n",
       "      <td>48</td>\n",
       "    </tr>\n",
       "    <tr>\n",
       "      <th>Symptom</th>\n",
       "      <td>9</td>\n",
       "    </tr>\n",
       "  </tbody>\n",
       "</table>\n",
       "</div>"
      ],
      "text/plain": [
       "                                                  rows\n",
       "sem_type                    het_type                  \n",
       "Anatomy                     Anatomy                517\n",
       "                            Biological Process       4\n",
       "                            Cellular Component     378\n",
       "                            Side Effect              3\n",
       "Chemicals & Drugs           Compound              1943\n",
       "                            Molecular Function       1\n",
       "                            Pharmacologic Class     87\n",
       "Disorders                   Anatomy                  2\n",
       "                            Biological Process      16\n",
       "                            Disease                129\n",
       "                            Pharmacologic Class      1\n",
       "                            Side Effect           4200\n",
       "                            Symptom                923\n",
       "Genes & Molecular Sequences Gene                 16031\n",
       "Living Beings               Cellular Component       1\n",
       "Phenomena                   Biological Process      24\n",
       "                            Compound                 1\n",
       "                            Side Effect             26\n",
       "Physiology                  Anatomy                  1\n",
       "                            Biological Process    1725\n",
       "                            Cellular Component       1\n",
       "                            Molecular Function    1011\n",
       "                            Pharmacologic Class     41\n",
       "                            Side Effect             48\n",
       "                            Symptom                  9"
      ]
     },
     "execution_count": 20,
     "metadata": {},
     "output_type": "execute_result"
    }
   ],
   "source": [
    "temp.groupby([\"sem_type\", \"het_type\"]).size().to_frame(\"rows\")"
   ]
  },
  {
   "cell_type": "markdown",
   "metadata": {},
   "source": [
    "We will just accept mappings where they exist, and use the most common semantic type mapping when no CUI exists for a particular Hetio id."
   ]
  }
 ],
 "metadata": {
  "kernelspec": {
   "display_name": "Python 3",
   "language": "python",
   "name": "python3"
  },
  "language_info": {
   "codemirror_mode": {
    "name": "ipython",
    "version": 3
   },
   "file_extension": ".py",
   "mimetype": "text/x-python",
   "name": "python",
   "nbconvert_exporter": "python",
   "pygments_lexer": "ipython3",
   "version": "3.5.2"
  }
 },
 "nbformat": 4,
 "nbformat_minor": 2
}
